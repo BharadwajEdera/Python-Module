{
 "cells": [
  {
   "cell_type": "markdown",
   "id": "ac784aa6",
   "metadata": {},
   "source": [
    "# Question 1.\n",
    ">A robot has been given a list of movement instructions. Each instruction is either left, right, up or down, followed by a distance to move. The robot starts at [0, 0]. You want to calculate where the robot will end up and return its final position as a list.\n",
    "\n",
    ">To illustrate, if the robot is given the following instructions:\n",
    "\n",
    ">[\"right 10\", \"up 50\", \"left 30\", \"down 10\"]\n",
    "\n",
    ">It will end up 20 left and 40 up from where it started, so we return [-20, 40].\n",
    "\n",
    ">Examples\n",
    "\n",
    ">track_robot([\"right 10\", \"up 50\", \"left 30\", \"down 10\"]) ➞ [-20, 40]\n",
    "\n",
    ">track_robot([]) ➞ [0, 0]\n",
    "\n",
    ">// If there are no instructions, the robot doesn't move.\n",
    "\n",
    ">track_robot([\"right 100\", \"right 100\", \"up 500\", \"up 10000\"]) ➞ [200, 10500]\n",
    "\n"
   ]
  },
  {
   "cell_type": "code",
   "execution_count": 7,
   "id": "6efd89b8",
   "metadata": {},
   "outputs": [],
   "source": [
    "def track_robot(l):\n",
    "    right,left,up,down = 0,0,0,0\n",
    "    for i in l:\n",
    "        if i.split(\" \")[0] == \"right\":\n",
    "            right += int(i.split(\" \")[1])\n",
    "        elif i.split(\" \")[0] == \"left\":\n",
    "            left += int(i.split(\" \")[1])\n",
    "        elif i.split(\" \")[0] == \"up\":\n",
    "            up += int(i.split(\" \")[1])\n",
    "        elif i.split(\" \")[0] == \"down\":\n",
    "            down += int(i.split(\" \")[1])\n",
    "            \n",
    "    return [right-left,up-down]\n",
    "        "
   ]
  },
  {
   "cell_type": "code",
   "execution_count": 8,
   "id": "34f8d1e9",
   "metadata": {},
   "outputs": [
    {
     "data": {
      "text/plain": [
       "[-20, 40]"
      ]
     },
     "execution_count": 8,
     "metadata": {},
     "output_type": "execute_result"
    }
   ],
   "source": [
    "track_robot([\"right 10\", \"up 50\", \"left 30\", \"down 10\"]) "
   ]
  },
  {
   "cell_type": "code",
   "execution_count": 9,
   "id": "6300a839",
   "metadata": {},
   "outputs": [
    {
     "data": {
      "text/plain": [
       "[0, 0]"
      ]
     },
     "execution_count": 9,
     "metadata": {},
     "output_type": "execute_result"
    }
   ],
   "source": [
    "track_robot([])"
   ]
  },
  {
   "cell_type": "code",
   "execution_count": 10,
   "id": "6bdc06bf",
   "metadata": {},
   "outputs": [
    {
     "data": {
      "text/plain": [
       "[200, 10500]"
      ]
     },
     "execution_count": 10,
     "metadata": {},
     "output_type": "execute_result"
    }
   ],
   "source": [
    "track_robot([\"right 100\", \"right 100\", \"up 500\", \"up 10000\"])"
   ]
  },
  {
   "cell_type": "markdown",
   "id": "db1c2bf4",
   "metadata": {},
   "source": [
    "# Question 2. \n",
    ">Write a function that will return the longest word in a sentence. In cases where more than one word is found, return the first one.\n",
    "\n",
    ">Examples\n",
    "\n",
    ">find_longest(\"A thing of beauty is a joy forever.\") ➞ \"forever\"\n",
    "\n",
    ">find_longest(\"Forgetfulness is by all means powerless!\") ➞ \"forgetfulness\"\n",
    "\n",
    ">find_longest(\"Strengths is the longest and most commonly used word that contains only a single vowel.\") ➞ \"strengths\"\n",
    "\n"
   ]
  },
  {
   "cell_type": "code",
   "execution_count": 27,
   "id": "68061a5d",
   "metadata": {},
   "outputs": [],
   "source": [
    "def find_longest(s):\n",
    "    import re\n",
    "    pattern = re.compile(\"\\w*\")\n",
    "    l = re.findall(pattern,s)\n",
    "    longest = l[0]\n",
    "    for i in l:\n",
    "        if len(i) >len(longest):\n",
    "            longest = i\n",
    "    return longest.lower()\n",
    "    "
   ]
  },
  {
   "cell_type": "code",
   "execution_count": 28,
   "id": "9b8a2c20",
   "metadata": {},
   "outputs": [
    {
     "data": {
      "text/plain": [
       "'forever'"
      ]
     },
     "execution_count": 28,
     "metadata": {},
     "output_type": "execute_result"
    }
   ],
   "source": [
    "find_longest(\"A thing of beauty is a joy forever.\")"
   ]
  },
  {
   "cell_type": "code",
   "execution_count": 29,
   "id": "b0eca129",
   "metadata": {},
   "outputs": [
    {
     "data": {
      "text/plain": [
       "'forgetfulness'"
      ]
     },
     "execution_count": 29,
     "metadata": {},
     "output_type": "execute_result"
    }
   ],
   "source": [
    "find_longest(\"Forgetfulness is by all means powerless!\")"
   ]
  },
  {
   "cell_type": "code",
   "execution_count": 30,
   "id": "1d0424f5",
   "metadata": {},
   "outputs": [
    {
     "data": {
      "text/plain": [
       "'strengths'"
      ]
     },
     "execution_count": 30,
     "metadata": {},
     "output_type": "execute_result"
    }
   ],
   "source": [
    "find_longest(\"Strengths is the longest and most commonly used word that contains only a single vowel.\")"
   ]
  },
  {
   "cell_type": "markdown",
   "id": "3d732074",
   "metadata": {},
   "source": [
    "# Question 3. \n",
    ">Create a function to check if a candidate is qualified in an imaginary coding interview of an imaginary tech startup.\n",
    "\n",
    ">The criteria for a candidate to be qualified in the coding interview is:\n",
    "\n",
    ">   1. The candidate should have complete all the questions.\n",
    "\n",
    ">   2. The maximum time given to complete the interview is 120 minutes.\n",
    "\n",
    ">   3. The maximum time given for very easy questions is 5 minutes each.\n",
    "\n",
    ">   4. The maximum time given for easy questions is 10 minutes each.\n",
    "\n",
    ">   5. The maximum time given for medium questions is 15 minutes each.\n",
    "\n",
    ">   6. The maximum time given for hard questions is 20 minutes each.\n",
    "\n",
    ">If all the above conditions are satisfied, return \"qualified\", else return \"disqualified\".\n",
    "\n",
    ">You will be given a list of time taken by a candidate to solve a particular question and the total time taken by the candidate to complete the interview.\n",
    "\n",
    ">Given a list , in a true condition will always be in the format [very easy, very easy, easy, easy, medium, medium, hard, hard].\n",
    "\n",
    ">The maximum time to complete the interview includes a buffer time of 20 minutes.\n",
    "\n",
    ">Examples\n",
    "\n",
    ">interview([5, 5, 10, 10, 15, 15, 20, 20], 120) ➞ \"qualified\"\n",
    "\n",
    ">interview([2, 3, 8, 6, 5, 12, 10, 18], 64) ➞  \"qualified\"\n",
    "\n",
    ">interview([5, 5, 10, 10, 25, 15, 20, 20], 120) ➞ \"disqualified\"\n",
    "\n",
    ">\\# Exceeded the time limit for a medium question.\n",
    "\n",
    ">interview([5, 5, 10, 10, 15, 15, 20], 120) ➞ \"disqualified\"\n",
    "\n",
    ">\\# Did not complete all the questions.\n",
    "\n",
    ">interview([5, 5, 10, 10, 15, 15, 20, 20], 130) ➞ \"disqualified\"\n",
    "\n",
    ">\\# Solved all the questions in their respected time limits but exceeded the total time limit of the interview.\n",
    "\n"
   ]
  },
  {
   "cell_type": "code",
   "execution_count": 53,
   "id": "ca776f55",
   "metadata": {},
   "outputs": [],
   "source": [
    "def interview(l,t):\n",
    "    if len(l) == 8:\n",
    "        completed = True\n",
    "    else:\n",
    "        completed = False\n",
    "        \n",
    "    if t <=120:\n",
    "        max_time = True\n",
    "    else:\n",
    "        max_time = False\n",
    "        \n",
    "        \n",
    "    very_easy = all(i<=5 for i in l[:2])\n",
    "    easy = all(i<=10 for i in l[2:4])\n",
    "    medium = all(i<=15 for i in l[4:6])\n",
    "    hard = all(i<=20 for i in l[6:])\n",
    "    if all([completed,max_time,very_easy,easy,medium,hard]):\n",
    "        return \"qualified\"\n",
    "    else:\n",
    "        return \"disqualified\"\n",
    "    \n",
    "    \n",
    "    "
   ]
  },
  {
   "cell_type": "code",
   "execution_count": 54,
   "id": "80595fe4",
   "metadata": {},
   "outputs": [
    {
     "data": {
      "text/plain": [
       "'qualified'"
      ]
     },
     "execution_count": 54,
     "metadata": {},
     "output_type": "execute_result"
    }
   ],
   "source": [
    "interview([5, 5, 10, 10, 15, 15, 20, 20], 120) "
   ]
  },
  {
   "cell_type": "code",
   "execution_count": 55,
   "id": "cc569fe3",
   "metadata": {},
   "outputs": [
    {
     "data": {
      "text/plain": [
       "'qualified'"
      ]
     },
     "execution_count": 55,
     "metadata": {},
     "output_type": "execute_result"
    }
   ],
   "source": [
    "interview([2, 3, 8, 6, 5, 12, 10, 18], 64)"
   ]
  },
  {
   "cell_type": "code",
   "execution_count": 56,
   "id": "bb118667",
   "metadata": {},
   "outputs": [
    {
     "data": {
      "text/plain": [
       "'disqualified'"
      ]
     },
     "execution_count": 56,
     "metadata": {},
     "output_type": "execute_result"
    }
   ],
   "source": [
    "interview([5, 5, 10, 10, 25, 15, 20, 20], 120) "
   ]
  },
  {
   "cell_type": "code",
   "execution_count": 57,
   "id": "6935cd90",
   "metadata": {},
   "outputs": [
    {
     "data": {
      "text/plain": [
       "'disqualified'"
      ]
     },
     "execution_count": 57,
     "metadata": {},
     "output_type": "execute_result"
    }
   ],
   "source": [
    "interview([5, 5, 10, 10, 15, 15, 20], 120)"
   ]
  },
  {
   "cell_type": "code",
   "execution_count": 58,
   "id": "c57ad70e",
   "metadata": {},
   "outputs": [
    {
     "data": {
      "text/plain": [
       "'disqualified'"
      ]
     },
     "execution_count": 58,
     "metadata": {},
     "output_type": "execute_result"
    }
   ],
   "source": [
    "interview([5, 5, 10, 10, 15, 15, 20, 20], 130)"
   ]
  },
  {
   "cell_type": "markdown",
   "id": "8ccc123b",
   "metadata": {},
   "source": [
    "# Question 4. \n",
    ">Write a function that divides a list into chunks of size n, where n is the length of each chunk.\n",
    "\n",
    ">Examples\n",
    "\n",
    ">chunkify([2, 3, 4, 5], 2) ➞ [[2, 3], [4, 5]]\n",
    "\n",
    ">chunkify([2, 3, 4, 5, 6], 2) ➞ [[2, 3], [4, 5], [6]]\n",
    "\n",
    ">chunkify([2, 3, 4, 5, 6, 7], 3) ➞ [[2, 3, 4], [5, 6, 7]]\n",
    "\n",
    ">chunkify([2, 3, 4, 5, 6, 7], 1) ➞ [[2], [3], [4], [5], [6], [7]]\n",
    "\n",
    ">chunkify([2, 3, 4, 5, 6, 7], 7) ➞ [[2, 3, 4, 5, 6, 7]]\n",
    "\n"
   ]
  },
  {
   "cell_type": "code",
   "execution_count": 61,
   "id": "14afc9f7",
   "metadata": {},
   "outputs": [],
   "source": [
    "def chunkify(l,n):\n",
    "    r = []\n",
    "    for i in range(0,len(l),n):\n",
    "        r.append(l[i:i+n])\n",
    "    return r"
   ]
  },
  {
   "cell_type": "code",
   "execution_count": 62,
   "id": "dcd7ca61",
   "metadata": {},
   "outputs": [
    {
     "data": {
      "text/plain": [
       "[[2, 3], [4, 5]]"
      ]
     },
     "execution_count": 62,
     "metadata": {},
     "output_type": "execute_result"
    }
   ],
   "source": [
    "chunkify([2, 3, 4, 5], 2) "
   ]
  },
  {
   "cell_type": "code",
   "execution_count": 63,
   "id": "be7a1c4b",
   "metadata": {},
   "outputs": [
    {
     "data": {
      "text/plain": [
       "[[2, 3], [4, 5], [6]]"
      ]
     },
     "execution_count": 63,
     "metadata": {},
     "output_type": "execute_result"
    }
   ],
   "source": [
    "chunkify([2, 3, 4, 5, 6], 2)"
   ]
  },
  {
   "cell_type": "code",
   "execution_count": 64,
   "id": "cdaf49d0",
   "metadata": {},
   "outputs": [
    {
     "data": {
      "text/plain": [
       "[[2, 3, 4], [5, 6, 7]]"
      ]
     },
     "execution_count": 64,
     "metadata": {},
     "output_type": "execute_result"
    }
   ],
   "source": [
    "chunkify([2, 3, 4, 5, 6, 7], 3)"
   ]
  },
  {
   "cell_type": "code",
   "execution_count": 65,
   "id": "051966ed",
   "metadata": {},
   "outputs": [
    {
     "data": {
      "text/plain": [
       "[[2], [3], [4], [5], [6], [7]]"
      ]
     },
     "execution_count": 65,
     "metadata": {},
     "output_type": "execute_result"
    }
   ],
   "source": [
    "chunkify([2, 3, 4, 5, 6, 7], 1) "
   ]
  },
  {
   "cell_type": "code",
   "execution_count": 66,
   "id": "44a4fba3",
   "metadata": {},
   "outputs": [
    {
     "data": {
      "text/plain": [
       "[[2, 3, 4, 5, 6, 7]]"
      ]
     },
     "execution_count": 66,
     "metadata": {},
     "output_type": "execute_result"
    }
   ],
   "source": [
    "chunkify([2, 3, 4, 5, 6, 7], 7)"
   ]
  },
  {
   "cell_type": "markdown",
   "id": "78860709",
   "metadata": {},
   "source": [
    "# Question 5. \n",
    ">You are given a list of strings consisting of grocery items, with prices in parentheses. Return a list of prices in float format.\n",
    "\n",
    ">Examples\n",
    "\n",
    ">get_prices([\"salad (\\\\$4.99)\"]) ➞ [4.99]\n",
    "\n",
    ">get_prices([\n",
    "  \"artichokes (\\\\$1.99)\",\n",
    "  \"rotiserrie chicken (\\\\$5.99)\",\n",
    "  \"gum (\\\\$0.75)\"\n",
    "])\n",
    "➞ [1.99, 5.99, 0.75]\n",
    "\n",
    ">get_prices([\n",
    "  \"ice cream (\\\\$5.99)\",\n",
    "  \"banana (\\\\$0.20)\",\n",
    "  \"sandwich (\\\\$8.50)\",\n",
    "  \"soup (\\\\$1.99)\"\n",
    "])\n",
    "➞ [5.99, 0.2, 8.50, 1.99]\n"
   ]
  },
  {
   "cell_type": "code",
   "execution_count": 83,
   "id": "a7e175d0",
   "metadata": {},
   "outputs": [],
   "source": [
    "def get_prices(l):\n",
    "    pattern = re.compile(\"\\d.\\d\\d\")\n",
    "    r = []\n",
    "    for i in l:\n",
    "        r.extend(re.findall(pattern,i))\n",
    "    return [float(x) for x in r]    \n",
    "    "
   ]
  },
  {
   "cell_type": "code",
   "execution_count": 84,
   "id": "eab9277a",
   "metadata": {},
   "outputs": [
    {
     "data": {
      "text/plain": [
       "[4.99]"
      ]
     },
     "execution_count": 84,
     "metadata": {},
     "output_type": "execute_result"
    }
   ],
   "source": [
    "get_prices([\"salad ($4.99)\"]) "
   ]
  },
  {
   "cell_type": "code",
   "execution_count": 85,
   "id": "c7ba74da",
   "metadata": {},
   "outputs": [
    {
     "data": {
      "text/plain": [
       "[1.99, 5.99, 0.75]"
      ]
     },
     "execution_count": 85,
     "metadata": {},
     "output_type": "execute_result"
    }
   ],
   "source": [
    "get_prices([ \"artichokes ($1.99)\", \"rotiserrie chicken ($5.99)\", \"gum ($0.75)\" ])"
   ]
  },
  {
   "cell_type": "code",
   "execution_count": 86,
   "id": "b5f9ca7c",
   "metadata": {},
   "outputs": [
    {
     "data": {
      "text/plain": [
       "[5.99, 0.2, 8.5, 1.99]"
      ]
     },
     "execution_count": 86,
     "metadata": {},
     "output_type": "execute_result"
    }
   ],
   "source": [
    "get_prices([ \"ice cream ($5.99)\", \"banana ($0.20)\", \"sandwich ($8.50)\", \"soup ($1.99)\" ]) "
   ]
  },
  {
   "cell_type": "code",
   "execution_count": null,
   "id": "e7571b57",
   "metadata": {},
   "outputs": [],
   "source": []
  }
 ],
 "metadata": {
  "kernelspec": {
   "display_name": "Python [conda env:.conda-gputest] *",
   "language": "python",
   "name": "conda-env-.conda-gputest-py"
  },
  "language_info": {
   "codemirror_mode": {
    "name": "ipython",
    "version": 3
   },
   "file_extension": ".py",
   "mimetype": "text/x-python",
   "name": "python",
   "nbconvert_exporter": "python",
   "pygments_lexer": "ipython3",
   "version": "3.6.12"
  }
 },
 "nbformat": 4,
 "nbformat_minor": 5
}
