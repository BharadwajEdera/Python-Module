{
 "cells": [
  {
   "cell_type": "markdown",
   "id": "492e05da",
   "metadata": {},
   "source": [
    "# Question 1. \n",
    ">Create a function based on the input and output. Look at the examples, there is a pattern.\n",
    "\n",
    ">Examples\n",
    "\n",
    ">secret(\"p.one.two.three\") ➞ \"\\<p class='one two three'>\\</p>\"\n",
    "\n",
    ">secret(\"p.one\") ➞ \"\\<p class='one'>\\</p>\"\n",
    "\n",
    ">secret(\"p.four.five\") ➞ \"\\<p class='four five'>\\</p>\""
   ]
  },
  {
   "cell_type": "code",
   "execution_count": 28,
   "id": "87845f48",
   "metadata": {},
   "outputs": [],
   "source": [
    "def secret(s):\n",
    "    pattern = re.compile(\"(?<=.)\\w*\")\n",
    "    r = \" \".join([x for x in re.findall(pattern,s) if len(x)>1])\n",
    "    return f\"<p class='{r}'></p>\""
   ]
  },
  {
   "cell_type": "code",
   "execution_count": 29,
   "id": "64fa8a2a",
   "metadata": {},
   "outputs": [
    {
     "data": {
      "text/plain": [
       "\"<p class='one two three'></p>\""
      ]
     },
     "execution_count": 29,
     "metadata": {},
     "output_type": "execute_result"
    }
   ],
   "source": [
    "secret(\"p.one.two.three\") "
   ]
  },
  {
   "cell_type": "code",
   "execution_count": 30,
   "id": "8b81d40f",
   "metadata": {},
   "outputs": [
    {
     "data": {
      "text/plain": [
       "\"<p class='one'></p>\""
      ]
     },
     "execution_count": 30,
     "metadata": {},
     "output_type": "execute_result"
    }
   ],
   "source": [
    "secret(\"p.one\")"
   ]
  },
  {
   "cell_type": "code",
   "execution_count": 31,
   "id": "4233515b",
   "metadata": {},
   "outputs": [
    {
     "data": {
      "text/plain": [
       "\"<p class='four five'></p>\""
      ]
     },
     "execution_count": 31,
     "metadata": {},
     "output_type": "execute_result"
    }
   ],
   "source": [
    "secret(\"p.four.five\")"
   ]
  },
  {
   "cell_type": "markdown",
   "id": "f82f8317",
   "metadata": {},
   "source": [
    "\n",
    "\n",
    "# Question 2. \n",
    ">Create a function which counts how many lone 1s appear in a given number. Lone means the number doesn't appear twice or more in a row.\n",
    "\n",
    ">Examples\n",
    "\n",
    ">count_lone_ones(101) ➞ 2\n",
    "\n",
    ">count_lone_ones(1191) ➞ 1\n",
    "\n",
    ">count_lone_ones(1111) ➞ 0\n",
    "\n",
    ">count_lone_ones(462) ➞ 0\n",
    "\n"
   ]
  },
  {
   "cell_type": "code",
   "execution_count": 39,
   "id": "d1bb735b",
   "metadata": {},
   "outputs": [],
   "source": [
    "def count_lone_ones(n):\n",
    "    l = tuple(str(n))\n",
    "    print(l)\n",
    "    count = 0\n",
    "    for i in range(len(l)):\n",
    "        if i == 0 and l[i] == \"1\" and l[i] != l[i+1]:\n",
    "            count += 1\n",
    "        elif i == len(l)-1 and l[i] == \"1\" and l[i] != l[i-1]:\n",
    "            count += 1\n",
    "        elif 0<i<len(l)-1 and l[i] == \"1\" and l[i] != l[i-1] and l[i] != l[i+1]:\n",
    "            count += 1\n",
    "    return count\n",
    "            "
   ]
  },
  {
   "cell_type": "code",
   "execution_count": 40,
   "id": "6df6fc7e",
   "metadata": {},
   "outputs": [
    {
     "name": "stdout",
     "output_type": "stream",
     "text": [
      "('1', '0', '1')\n"
     ]
    },
    {
     "data": {
      "text/plain": [
       "2"
      ]
     },
     "execution_count": 40,
     "metadata": {},
     "output_type": "execute_result"
    }
   ],
   "source": [
    "count_lone_ones(101)"
   ]
  },
  {
   "cell_type": "code",
   "execution_count": 41,
   "id": "8ef1768d",
   "metadata": {},
   "outputs": [
    {
     "name": "stdout",
     "output_type": "stream",
     "text": [
      "('1', '1', '9', '1')\n"
     ]
    },
    {
     "data": {
      "text/plain": [
       "1"
      ]
     },
     "execution_count": 41,
     "metadata": {},
     "output_type": "execute_result"
    }
   ],
   "source": [
    "count_lone_ones(1191)"
   ]
  },
  {
   "cell_type": "code",
   "execution_count": 42,
   "id": "c45b1114",
   "metadata": {},
   "outputs": [
    {
     "name": "stdout",
     "output_type": "stream",
     "text": [
      "('1', '1', '1', '1')\n"
     ]
    },
    {
     "data": {
      "text/plain": [
       "0"
      ]
     },
     "execution_count": 42,
     "metadata": {},
     "output_type": "execute_result"
    }
   ],
   "source": [
    "count_lone_ones(1111)"
   ]
  },
  {
   "cell_type": "code",
   "execution_count": 43,
   "id": "fcb1eebf",
   "metadata": {},
   "outputs": [
    {
     "name": "stdout",
     "output_type": "stream",
     "text": [
      "('4', '6', '2')\n"
     ]
    },
    {
     "data": {
      "text/plain": [
       "0"
      ]
     },
     "execution_count": 43,
     "metadata": {},
     "output_type": "execute_result"
    }
   ],
   "source": [
    "count_lone_ones(462) "
   ]
  },
  {
   "cell_type": "markdown",
   "id": "b9cd5e9f",
   "metadata": {},
   "source": [
    "# Question 3. \n",
    ">Write a method that accepts two integer parameters rows and cols. The output is a 2d array of numbers displayed in column-major order, meaning the numbers shown increase sequentially down each column and wrap to the top of the next column to the right once the bottom of the current column is reached.\n",
    "\n",
    ">Examples\n",
    "\n",
    ">printGrid(3, 6) ➞ [\n",
    "  [1, 4, 7, 10, 13, 16],\n",
    "  [2, 5, 8, 11, 14, 17],\n",
    "  [3, 6, 9, 12, 15, 18]\n",
    "]\n",
    "\n",
    ">printGrid(5, 3) ➞ [\n",
    "  [1, 6, 11],\n",
    "  [2, 7, 12],\n",
    "  [3, 8, 13],\n",
    "  [4, 9, 14],\n",
    "  [5, 10, 15]\n",
    "]\n",
    "\n",
    ">printGrid(4, 1) ➞ [\n",
    "  [1],\n",
    "  [2],\n",
    "  [3],\n",
    "  [4]\n",
    "]\n",
    "\n"
   ]
  },
  {
   "cell_type": "code",
   "execution_count": 52,
   "id": "257611c9",
   "metadata": {},
   "outputs": [],
   "source": [
    "def printGrid(rows,columns):\n",
    "    l = []\n",
    "    k = 1\n",
    "    for i in range(columns):\n",
    "        l.append([])\n",
    "        for j in range(rows):\n",
    "            l[-1].append(k)\n",
    "            k += 1\n",
    "    return [[l[j][i] for j in range(len(l))]for i in range(len(l[0]))]\n",
    "    "
   ]
  },
  {
   "cell_type": "code",
   "execution_count": 53,
   "id": "35925da8",
   "metadata": {},
   "outputs": [
    {
     "data": {
      "text/plain": [
       "[[1, 4, 7, 10, 13, 16], [2, 5, 8, 11, 14, 17], [3, 6, 9, 12, 15, 18]]"
      ]
     },
     "execution_count": 53,
     "metadata": {},
     "output_type": "execute_result"
    }
   ],
   "source": [
    "printGrid(3, 6)"
   ]
  },
  {
   "cell_type": "code",
   "execution_count": 54,
   "id": "d0644b41",
   "metadata": {},
   "outputs": [
    {
     "data": {
      "text/plain": [
       "[[1, 6, 11], [2, 7, 12], [3, 8, 13], [4, 9, 14], [5, 10, 15]]"
      ]
     },
     "execution_count": 54,
     "metadata": {},
     "output_type": "execute_result"
    }
   ],
   "source": [
    "printGrid(5, 3) "
   ]
  },
  {
   "cell_type": "code",
   "execution_count": 55,
   "id": "cf6d4685",
   "metadata": {},
   "outputs": [
    {
     "data": {
      "text/plain": [
       "[[1], [2], [3], [4]]"
      ]
     },
     "execution_count": 55,
     "metadata": {},
     "output_type": "execute_result"
    }
   ],
   "source": [
    "printGrid(4, 1)"
   ]
  },
  {
   "cell_type": "markdown",
   "id": "cb465d45",
   "metadata": {},
   "source": [
    "# Question 4. \n",
    ">Given a list of integers, return the smallest positive integer not present in the list.\n",
    "\n",
    ">Here is a representative example. Consider the list:\n",
    "\n",
    ">[-2, 6, 4, 5, 7, -1, 7, 1, 3, 6, 6, -2, 9, 10, 2, 2]\n",
    "\n",
    ">After reordering, the list becomes:\n",
    "\n",
    ">[-2, -2, -1, 1, 2, 2, 3, 4, 5, 6, 6, 6, 7, 7, 9, 10]\n",
    "\n",
    ">from which we see that the smallest missing positive integer is 8.\n",
    "\n",
    ">Examples\n",
    "\n",
    ">min_miss_pos([-2, 6, 4, 5, 7, -1, 1, 3, 6, -2, 9, 10, 2, 2]) ➞ 8\n",
    "\n",
    ">\\# After sorting, list becomes [-2, -2, -1, 1, 2, 2, 3, 4, 5, 6, 6, 7, 9, 10]\n",
    "\n",
    ">\\# So the smallest missing positive integer is 8\n",
    "\n",
    ">min_miss_pos([5, 9, -2, 0, 1, 3, 9, 3, 8, 9]) ➞ 2\n",
    "\n",
    ">\\# After sorting, list becomes [-2, 0, 1, 3, 3, 5, 8, 9, 9, 9]\n",
    "\n",
    ">\\# So the smallest missing positive integer is 2\n",
    "\n",
    ">min_miss_pos([0, 4, 4, -1, 9, 4, 5, 2, 10, 7, 6, 3, 10, 9]) ➞ 1\n",
    "\n",
    ">\\# After sorting, list becomes [-1, 0, 2, 3, 4, 4, 4, 5, 6, 7, 9, 9, 10, 10]\n",
    "\n",
    ">\\# So the smallest missing positive integer is 1\n",
    "\n"
   ]
  },
  {
   "cell_type": "code",
   "execution_count": 56,
   "id": "3a3460dc",
   "metadata": {},
   "outputs": [],
   "source": [
    "def min_miss_pos(l):\n",
    "    j = 1\n",
    "    while True:\n",
    "        if j in l:\n",
    "            j += 1\n",
    "            continue\n",
    "        else:\n",
    "            return j\n",
    "        "
   ]
  },
  {
   "cell_type": "code",
   "execution_count": 57,
   "id": "47bbbacd",
   "metadata": {},
   "outputs": [
    {
     "data": {
      "text/plain": [
       "8"
      ]
     },
     "execution_count": 57,
     "metadata": {},
     "output_type": "execute_result"
    }
   ],
   "source": [
    "min_miss_pos([-2, 6, 4, 5, 7, -1, 1, 3, 6, -2, 9, 10, 2, 2]) "
   ]
  },
  {
   "cell_type": "code",
   "execution_count": 58,
   "id": "5e5b2521",
   "metadata": {},
   "outputs": [
    {
     "data": {
      "text/plain": [
       "2"
      ]
     },
     "execution_count": 58,
     "metadata": {},
     "output_type": "execute_result"
    }
   ],
   "source": [
    "min_miss_pos([5, 9, -2, 0, 1, 3, 9, 3, 8, 9]) "
   ]
  },
  {
   "cell_type": "code",
   "execution_count": 59,
   "id": "0399c854",
   "metadata": {},
   "outputs": [
    {
     "data": {
      "text/plain": [
       "1"
      ]
     },
     "execution_count": 59,
     "metadata": {},
     "output_type": "execute_result"
    }
   ],
   "source": [
    "min_miss_pos([0, 4, 4, -1, 9, 4, 5, 2, 10, 7, 6, 3, 10, 9])"
   ]
  },
  {
   "cell_type": "markdown",
   "id": "9fbabcac",
   "metadata": {},
   "source": [
    "# Question 5. \n",
    ">Google is launching a network of autonomous pizza delivery drones and wants you to create a flexible rewards system (Pizza Points™) that can be tweaked in the future. The rules are simple: if a customer has made at least N orders of at least Y price, they get a FREE pizza!\n",
    "\n",
    ">Create a function that takes a dictionary of customers, a minimum number of orders and a minimum order price. Return a list of customers that are eligible for a free pizza.\n",
    "\n",
    ">Examples\n",
    "\n",
    ">customers = {\n",
    "  \"Batman\": [22, 30, 11, 17, 15, 52, 27, 12],\n",
    "  \"Spider-Man\": [5, 17, 30, 33, 40, 22, 26, 10, 11, 45]\n",
    "}\n",
    "\n",
    ">  pizza_points(customers, 5, 20) ➞ [\"Spider-Man\"]\n",
    "\n",
    ">  pizza_points(customers, 3, 10) ➞ [\"Batman\", \"Spider-Man\"]\n",
    "\n",
    ">  pizza_points(customers, 5, 100) ➞ []\n"
   ]
  },
  {
   "cell_type": "code",
   "execution_count": 66,
   "id": "4936ef73",
   "metadata": {},
   "outputs": [],
   "source": [
    "def pizza_points(customers, orders , price):\n",
    "    count = 0\n",
    "    d = {}\n",
    "    for i in customers.keys():\n",
    "        for j in customers[i]:\n",
    "            if j >= price:\n",
    "                count += 1 \n",
    "        d[i] = count\n",
    "    return [i for i in d.keys() if d[i]>=orders ]"
   ]
  },
  {
   "cell_type": "code",
   "execution_count": 67,
   "id": "15698912",
   "metadata": {},
   "outputs": [
    {
     "data": {
      "text/plain": [
       "['Spider-Man']"
      ]
     },
     "execution_count": 67,
     "metadata": {},
     "output_type": "execute_result"
    }
   ],
   "source": [
    "customers = { \"Batman\": [22, 30, 11, 17, 15, 52, 27, 12], \"Spider-Man\": [5, 17, 30, 33, 40, 22, 26, 10, 11, 45] }\n",
    "\n",
    "pizza_points(customers, 5, 20)"
   ]
  },
  {
   "cell_type": "code",
   "execution_count": 68,
   "id": "dab0dd4d",
   "metadata": {},
   "outputs": [
    {
     "data": {
      "text/plain": [
       "['Batman', 'Spider-Man']"
      ]
     },
     "execution_count": 68,
     "metadata": {},
     "output_type": "execute_result"
    }
   ],
   "source": [
    "pizza_points(customers, 3, 10)"
   ]
  },
  {
   "cell_type": "code",
   "execution_count": 69,
   "id": "cd51a9be",
   "metadata": {},
   "outputs": [
    {
     "data": {
      "text/plain": [
       "[]"
      ]
     },
     "execution_count": 69,
     "metadata": {},
     "output_type": "execute_result"
    }
   ],
   "source": [
    "pizza_points(customers, 5, 100) "
   ]
  },
  {
   "cell_type": "code",
   "execution_count": null,
   "id": "6e3785cb",
   "metadata": {},
   "outputs": [],
   "source": []
  }
 ],
 "metadata": {
  "kernelspec": {
   "display_name": "Python [conda env:.conda-gputest] *",
   "language": "python",
   "name": "conda-env-.conda-gputest-py"
  },
  "language_info": {
   "codemirror_mode": {
    "name": "ipython",
    "version": 3
   },
   "file_extension": ".py",
   "mimetype": "text/x-python",
   "name": "python",
   "nbconvert_exporter": "python",
   "pygments_lexer": "ipython3",
   "version": "3.6.12"
  }
 },
 "nbformat": 4,
 "nbformat_minor": 5
}
