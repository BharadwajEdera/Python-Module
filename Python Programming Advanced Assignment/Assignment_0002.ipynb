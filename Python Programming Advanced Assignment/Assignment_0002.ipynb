{
 "cells": [
  {
   "attachments": {
    "0002%201.png": {
     "image/png": "[encoded data removed]"
    }
   },
   "cell_type": "markdown",
   "id": "d5ff6c49",
   "metadata": {},
   "source": [
    "### Question 1. \n",
    ">Write a function that takes a positive integer num and calculates how many dots exist in a pentagonal shape around the center dot on the Nth iteration.\n",
    "\n",
    ">In the image below you can see the first iteration is only a single dot. On the second, there are 6 dots. On the third, there are 16 dots, and on the fourth there are 31 dots.\n",
    "\n",
    "\n",
    "\n",
    "\n",
    "![0002%201.png](attachment:0002%201.png)\n",
    "\n",
    "\n",
    "\n",
    ">Return the number of dots that exist in the whole pentagon on the Nth iteration.\n",
    "\n",
    ">Examples\n",
    "\n",
    ">pentagonal(1) ➞ 1\n",
    "\n",
    ">pentagonal(2) ➞ 6\n",
    "\n",
    ">pentagonal(3) ➞ 16\n",
    "\n",
    ">pentagonal(8) ➞ 141\n",
    "\n",
    "\n",
    "\n"
   ]
  },
  {
   "cell_type": "code",
   "execution_count": 1,
   "id": "df4ae483",
   "metadata": {},
   "outputs": [],
   "source": [
    "def pentagonal(n):\n",
    "    r = 0\n",
    "    for i in range(n):\n",
    "        if i == 0:\n",
    "            r += 1\n",
    "        else :\n",
    "            r += 5*i\n",
    "            \n",
    "    return r\n",
    "            "
   ]
  },
  {
   "cell_type": "code",
   "execution_count": 2,
   "id": "6afa1e5d",
   "metadata": {},
   "outputs": [
    {
     "data": {
      "text/plain": [
       "1"
      ]
     },
     "execution_count": 2,
     "metadata": {},
     "output_type": "execute_result"
    }
   ],
   "source": [
    "pentagonal(1) "
   ]
  },
  {
   "cell_type": "code",
   "execution_count": 3,
   "id": "c07ecb39",
   "metadata": {},
   "outputs": [
    {
     "data": {
      "text/plain": [
       "6"
      ]
     },
     "execution_count": 3,
     "metadata": {},
     "output_type": "execute_result"
    }
   ],
   "source": [
    "pentagonal(2)"
   ]
  },
  {
   "cell_type": "code",
   "execution_count": 4,
   "id": "6c87cad9",
   "metadata": {},
   "outputs": [
    {
     "data": {
      "text/plain": [
       "16"
      ]
     },
     "execution_count": 4,
     "metadata": {},
     "output_type": "execute_result"
    }
   ],
   "source": [
    "pentagonal(3)"
   ]
  },
  {
   "cell_type": "code",
   "execution_count": 6,
   "id": "7831eb0a",
   "metadata": {},
   "outputs": [
    {
     "data": {
      "text/plain": [
       "141"
      ]
     },
     "execution_count": 6,
     "metadata": {},
     "output_type": "execute_result"
    }
   ],
   "source": [
    "pentagonal(8)"
   ]
  },
  {
   "cell_type": "markdown",
   "id": "20864800",
   "metadata": {},
   "source": [
    "### Question 2.  \n",
    ">Make a function that encrypts a given input with these steps:\n",
    "\n",
    ">Input: \"apple\"\n",
    "\n",
    ">Step 1: Reverse the input: \"elppa\"\n",
    "\n",
    ">Step 2: Replace all vowels using the following chart:\n",
    "\n",
    ">a => 0\n",
    "\n",
    ">e => 1\n",
    "\n",
    ">i => 2\n",
    "\n",
    ">o => 2\n",
    "\n",
    ">u => 3\n",
    "\n",
    "> \\# \"1lpp0\"\n",
    "\n",
    ">Step 3: Add \"aca\" to the end of the word: \"1lpp0aca\"\n",
    "\n",
    ">Output: \"1lpp0aca\"\n",
    "\n",
    ">Examples\n",
    "\n",
    ">encrypt(\"banana\") ➞ \"0n0n0baca\"\n",
    "\n",
    ">encrypt(\"karaca\") ➞ \"0c0r0kaca\"\n",
    "\n",
    ">encrypt(\"burak\") ➞ \"k0r3baca\"\n",
    "\n",
    ">encrypt(\"alpaca\") ➞ \"0c0pl0aca\"\n",
    "\n"
   ]
  },
  {
   "cell_type": "code",
   "execution_count": null,
   "id": "aa54370f",
   "metadata": {},
   "outputs": [],
   "source": []
  },
  {
   "cell_type": "code",
   "execution_count": 30,
   "id": "4e97afe2",
   "metadata": {},
   "outputs": [],
   "source": [
    "def encrypt(s):\n",
    "    d = { \"a\" : 0 , \"e\" : 1 , \"i\" : 2 , \"o\" : 2 , \"u\" : 3}\n",
    "    rev_s = s[::-1]\n",
    "    for i in d:\n",
    "        rev_s = rev_s.replace(i,str(d[i]))\n",
    "    rev_s += 'aca'\n",
    "    return rev_s"
   ]
  },
  {
   "cell_type": "code",
   "execution_count": 31,
   "id": "cdb48180",
   "metadata": {},
   "outputs": [
    {
     "data": {
      "text/plain": [
       "'0n0n0baca'"
      ]
     },
     "execution_count": 31,
     "metadata": {},
     "output_type": "execute_result"
    }
   ],
   "source": [
    "encrypt(\"banana\")"
   ]
  },
  {
   "cell_type": "code",
   "execution_count": 32,
   "id": "c9ba4307",
   "metadata": {},
   "outputs": [
    {
     "data": {
      "text/plain": [
       "'0c0r0kaca'"
      ]
     },
     "execution_count": 32,
     "metadata": {},
     "output_type": "execute_result"
    }
   ],
   "source": [
    "encrypt(\"karaca\")"
   ]
  },
  {
   "cell_type": "code",
   "execution_count": 33,
   "id": "f912824d",
   "metadata": {},
   "outputs": [
    {
     "data": {
      "text/plain": [
       "'k0r3baca'"
      ]
     },
     "execution_count": 33,
     "metadata": {},
     "output_type": "execute_result"
    }
   ],
   "source": [
    "encrypt(\"burak\")"
   ]
  },
  {
   "cell_type": "code",
   "execution_count": 34,
   "id": "2b0a09b7",
   "metadata": {},
   "outputs": [
    {
     "data": {
      "text/plain": [
       "'0c0pl0aca'"
      ]
     },
     "execution_count": 34,
     "metadata": {},
     "output_type": "execute_result"
    }
   ],
   "source": [
    "encrypt(\"alpaca\")"
   ]
  },
  {
   "cell_type": "markdown",
   "id": "38add82c",
   "metadata": {},
   "source": [
    "### Question 3. \n",
    "\n",
    ">Given the month and year as numbers, return whether that month contains a Friday 13th.(i.e You can check Python's datetime module)\n",
    "\n",
    ">Examples\n",
    "\n",
    ">has_friday_13(3, 2020) ➞ True\n",
    "\n",
    ">has_friday_13(10, 2017) ➞ True\n",
    "\n",
    ">has_friday_13(1, 1985) ➞ False\n",
    "\n",
    "\n"
   ]
  },
  {
   "cell_type": "code",
   "execution_count": 54,
   "id": "985cb233",
   "metadata": {},
   "outputs": [],
   "source": [
    "def has_friday_13(month , year):\n",
    "    from datetime import datetime\n",
    "    date_str=f'{month}-13-{str(year)[2:]}'\n",
    "    datetime_object = datetime.strptime(date_str, '%m-%d-%y')\n",
    "    if  datetime_object.weekday() == 4:\n",
    "        return True\n",
    "    else:\n",
    "        return False"
   ]
  },
  {
   "cell_type": "code",
   "execution_count": 55,
   "id": "1ef6981d",
   "metadata": {},
   "outputs": [
    {
     "data": {
      "text/plain": [
       "True"
      ]
     },
     "execution_count": 55,
     "metadata": {},
     "output_type": "execute_result"
    }
   ],
   "source": [
    "has_friday_13(3, 2020)"
   ]
  },
  {
   "cell_type": "code",
   "execution_count": 56,
   "id": "2083c168",
   "metadata": {},
   "outputs": [
    {
     "data": {
      "text/plain": [
       "True"
      ]
     },
     "execution_count": 56,
     "metadata": {},
     "output_type": "execute_result"
    }
   ],
   "source": [
    "has_friday_13(10, 2017)"
   ]
  },
  {
   "cell_type": "code",
   "execution_count": 57,
   "id": "c0cb6c40",
   "metadata": {},
   "outputs": [
    {
     "data": {
      "text/plain": [
       "False"
      ]
     },
     "execution_count": 57,
     "metadata": {},
     "output_type": "execute_result"
    }
   ],
   "source": [
    "has_friday_13(1, 1985)"
   ]
  },
  {
   "cell_type": "markdown",
   "id": "42b0a538",
   "metadata": {},
   "source": [
    "### Question 4. \n",
    "\n",
    ">Write a regular expression that will help us count how many bad cookies are produced every day. You must use RegEx negative lookbehind.\n",
    "\n",
    ">Example\n",
    "\n",
    ">lst = [\"bad cookie\", \"good cookie\", \"bad cookie\", \"good cookie\", \"good cookie\"]\n",
    "\n",
    ">pattern = \"yourregularexpressionhere\"\n",
    "\n",
    ">len(re.findall(pattern, \", \".join(lst))) ➞ 2\n",
    "\n"
   ]
  },
  {
   "cell_type": "code",
   "execution_count": 59,
   "id": "ff5e947e",
   "metadata": {},
   "outputs": [
    {
     "data": {
      "text/plain": [
       "2"
      ]
     },
     "execution_count": 59,
     "metadata": {},
     "output_type": "execute_result"
    }
   ],
   "source": [
    "import re\n",
    "lst = [\"bad cookie\", \"good cookie\", \"bad cookie\", \"good cookie\", \"good cookie\"]\n",
    "\n",
    "pattern = \"bad\"\n",
    "\n",
    "len(re.findall(pattern, \", \".join(lst)))"
   ]
  },
  {
   "cell_type": "markdown",
   "id": "b29f2fec",
   "metadata": {},
   "source": [
    "### Question 5. \n",
    "\n",
    ">Given a list of words in the singular form, return a set of those words in the plural form if they appear more than once in the list.\n",
    "\n",
    ">Examples\n",
    "\n",
    ">pluralize([\"cow\", \"pig\", \"cow\", \"cow\"]) ➞ { \"cows\", \"pig\" }\n",
    "\n",
    ">pluralize([\"table\", \"table\", \"table\"]) ➞ { \"tables\" }\n",
    "\n",
    ">pluralize([\"chair\", \"pencil\", \"arm\"]) ➞ { \"chair\", \"pencil\", \"arm\" }\n",
    "\n"
   ]
  },
  {
   "cell_type": "code",
   "execution_count": null,
   "id": "59497c77",
   "metadata": {},
   "outputs": [],
   "source": [
    "pip install Pattern"
   ]
  },
  {
   "cell_type": "code",
   "execution_count": 9,
   "id": "a28db103",
   "metadata": {},
   "outputs": [],
   "source": [
    "def pluralize(l):\n",
    "    import pattern.en\n",
    "    s = set(l)\n",
    "    r = []\n",
    "    for i in s:\n",
    "        if l.count(i) > 1:\n",
    "            r.append(pattern.en.pluralize(i))\n",
    "        else:\n",
    "            r.append(i)\n",
    "    return r\n",
    "            \n",
    "            \n",
    "        "
   ]
  },
  {
   "cell_type": "code",
   "execution_count": 10,
   "id": "b8b48754",
   "metadata": {},
   "outputs": [
    {
     "data": {
      "text/plain": [
       "['dogs', 'pig']"
      ]
     },
     "execution_count": 10,
     "metadata": {},
     "output_type": "execute_result"
    }
   ],
   "source": [
    "pluralize([\"dog\", \"pig\", \"dog\", \"dog\"]) "
   ]
  },
  {
   "cell_type": "code",
   "execution_count": 11,
   "id": "e3e28735",
   "metadata": {},
   "outputs": [
    {
     "data": {
      "text/plain": [
       "['tables']"
      ]
     },
     "execution_count": 11,
     "metadata": {},
     "output_type": "execute_result"
    }
   ],
   "source": [
    "pluralize([\"table\", \"table\", \"table\"])"
   ]
  },
  {
   "cell_type": "code",
   "execution_count": 12,
   "id": "cbb3be3c",
   "metadata": {},
   "outputs": [
    {
     "data": {
      "text/plain": [
       "['arm', 'chair', 'pencil']"
      ]
     },
     "execution_count": 12,
     "metadata": {},
     "output_type": "execute_result"
    }
   ],
   "source": [
    "pluralize([\"chair\", \"pencil\", \"arm\"]) "
   ]
  }
 ],
 "metadata": {
  "kernelspec": {
   "display_name": "Python [conda env:.conda-gputest] *",
   "language": "python",
   "name": "conda-env-.conda-gputest-py"
  },
  "language_info": {
   "codemirror_mode": {
    "name": "ipython",
    "version": 3
   },
   "file_extension": ".py",
   "mimetype": "text/x-python",
   "name": "python",
   "nbconvert_exporter": "python",
   "pygments_lexer": "ipython3",
   "version": "3.6.12"
  }
 },
 "nbformat": 4,
 "nbformat_minor": 5
}
