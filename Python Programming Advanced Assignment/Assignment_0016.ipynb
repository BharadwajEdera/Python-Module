{
 "cells": [
  {
   "cell_type": "markdown",
   "id": "e8d7c130",
   "metadata": {},
   "source": [
    "# Question 1. \n",
    ">Rondo Form is a type of musical structure, in which there is a recurring theme/refrain, notated as A. Here are the rules for valid rondo forms:\n",
    "\n",
    ">   - Rondo forms always start and end with an A section.\n",
    "\n",
    ">   - In between the A sections, there should be contrasting sections notated as B, then C, then D, etc... No letter should be skipped.\n",
    "\n",
    "> - There shouldn't be any repeats in the sequence (such as ABBACCA).\n",
    "\n",
    ">Create a function which validates whether a given string is a valid Rondo Form.\n",
    "\n",
    ">Examples\n",
    "\n",
    ">valid_rondo(\"ABACADAEAFAGAHAIAJA\") ➞ True\n",
    "\n",
    ">valid_rondo(\"ABA\") ➞ True\n",
    "\n",
    ">valid_rondo(\"ABBACCA\") ➞ False\n",
    "\n",
    ">valid_rondo(\"ACAC\") ➞ False\n",
    "\n",
    ">valid_rondo(\"A\") ➞ False\n",
    "\n"
   ]
  },
  {
   "cell_type": "code",
   "execution_count": 70,
   "id": "fcfe579f",
   "metadata": {},
   "outputs": [],
   "source": [
    "def valid_rondo(s):\n",
    "    j = 1\n",
    "    for i in range(1,len(s)+1):\n",
    "        if i%2 != 0 and ord(s[i-1]) == 65 and len(s)>1:\n",
    "            continue\n",
    "        elif i%2 == 0 and ord(s[i-1]) == 65+i-j and len(s)>1:\n",
    "            j += 1\n",
    "            continue\n",
    "        else:\n",
    "            return False\n",
    "        \n",
    "    return True   "
   ]
  },
  {
   "cell_type": "code",
   "execution_count": 71,
   "id": "5eada0fe",
   "metadata": {
    "scrolled": true
   },
   "outputs": [
    {
     "data": {
      "text/plain": [
       "True"
      ]
     },
     "execution_count": 71,
     "metadata": {},
     "output_type": "execute_result"
    }
   ],
   "source": [
    "valid_rondo(\"ABACADAEAFAGAHAIAJA\")"
   ]
  },
  {
   "cell_type": "code",
   "execution_count": 72,
   "id": "e164cd06",
   "metadata": {},
   "outputs": [
    {
     "data": {
      "text/plain": [
       "True"
      ]
     },
     "execution_count": 72,
     "metadata": {},
     "output_type": "execute_result"
    }
   ],
   "source": [
    "valid_rondo(\"ABA\") "
   ]
  },
  {
   "cell_type": "code",
   "execution_count": 73,
   "id": "1348b7cc",
   "metadata": {},
   "outputs": [
    {
     "data": {
      "text/plain": [
       "False"
      ]
     },
     "execution_count": 73,
     "metadata": {},
     "output_type": "execute_result"
    }
   ],
   "source": [
    "valid_rondo(\"ABBACCA\") "
   ]
  },
  {
   "cell_type": "code",
   "execution_count": 74,
   "id": "775d303d",
   "metadata": {},
   "outputs": [
    {
     "data": {
      "text/plain": [
       "False"
      ]
     },
     "execution_count": 74,
     "metadata": {},
     "output_type": "execute_result"
    }
   ],
   "source": [
    "valid_rondo(\"ACAC\")"
   ]
  },
  {
   "cell_type": "code",
   "execution_count": 75,
   "id": "b00394aa",
   "metadata": {},
   "outputs": [
    {
     "data": {
      "text/plain": [
       "False"
      ]
     },
     "execution_count": 75,
     "metadata": {},
     "output_type": "execute_result"
    }
   ],
   "source": [
    "valid_rondo(\"A\")"
   ]
  },
  {
   "cell_type": "markdown",
   "id": "fd098022",
   "metadata": {},
   "source": [
    "# Question 2. \n",
    ">Create a function that returns the whole of the first sentence which contains a specific word. Include the full stop at the end of the sentence.\n",
    "\n",
    ">Examples\n",
    "\n",
    ">txt = \"I have a cat. I have a mat. Things are going swell.\"\n",
    "\n",
    ">sentence_searcher(txt, \"have\") ➞ \"I have a cat.\"\n",
    "\n",
    ">sentence_searcher(txt, \"MAT\") ➞ \"I have a mat.\"\n",
    "\n",
    ">sentence_searcher(txt, \"things\") ➞ \"Things are going swell.\"\n",
    "\n",
    ">sentence_searcher(txt, \"flat\") ➞ \"\"\n",
    "\n"
   ]
  },
  {
   "cell_type": "code",
   "execution_count": 106,
   "id": "14156600",
   "metadata": {},
   "outputs": [],
   "source": [
    "def sentence_searcher(txt,s):\n",
    "    txt = txt.split(\".\")\n",
    "    for i in txt:\n",
    "        if s.lower() in i.lower():\n",
    "            return i+\".\"\n",
    "    return \"\""
   ]
  },
  {
   "cell_type": "code",
   "execution_count": 107,
   "id": "7fcd9778",
   "metadata": {},
   "outputs": [
    {
     "data": {
      "text/plain": [
       "'I have a cat.'"
      ]
     },
     "execution_count": 107,
     "metadata": {},
     "output_type": "execute_result"
    }
   ],
   "source": [
    "txt = \"I have a cat. I have a mat. Things are going swell.\"\n",
    "sentence_searcher(txt, \"have\")"
   ]
  },
  {
   "cell_type": "code",
   "execution_count": 108,
   "id": "5a92fcbe",
   "metadata": {},
   "outputs": [
    {
     "data": {
      "text/plain": [
       "' I have a mat.'"
      ]
     },
     "execution_count": 108,
     "metadata": {},
     "output_type": "execute_result"
    }
   ],
   "source": [
    "sentence_searcher(txt, \"MAT\")"
   ]
  },
  {
   "cell_type": "code",
   "execution_count": 109,
   "id": "858e1305",
   "metadata": {},
   "outputs": [
    {
     "data": {
      "text/plain": [
       "' Things are going swell.'"
      ]
     },
     "execution_count": 109,
     "metadata": {},
     "output_type": "execute_result"
    }
   ],
   "source": [
    "sentence_searcher(txt, \"things\")"
   ]
  },
  {
   "cell_type": "code",
   "execution_count": 110,
   "id": "85ac1245",
   "metadata": {},
   "outputs": [
    {
     "data": {
      "text/plain": [
       "''"
      ]
     },
     "execution_count": 110,
     "metadata": {},
     "output_type": "execute_result"
    }
   ],
   "source": [
    "sentence_searcher(txt, \"flat\")"
   ]
  },
  {
   "cell_type": "markdown",
   "id": "ba37c78d",
   "metadata": {},
   "source": [
    "# Question 3. \n",
    ">Given a number, find the \"round \"of each digit of the number. An integer is called \"round\" if all its digits except the leftmost (most significant) are equal to zero.\n",
    "\n",
    ">    - Round numbers: 4000, 1, 9, 800, 90\n",
    "\n",
    ">- Not round numbers: 110, 707, 222, 1001\n",
    "\n",
    ">Create a function that takes a number and returns the \"round\" of each digit (except if the digit is zero) as a string. Check out the following examples for more clarification.\n",
    "\n",
    ">Examples\n",
    "\n",
    ">sum_round(101) ➞ \"1 100\"\n",
    "\n",
    ">sum_round(1234) ➞ \"4 30 200 1000\"\n",
    "\n",
    ">sum_round(54210) ➞ \"10 200 4000 50000\"\n",
    "\n"
   ]
  },
  {
   "cell_type": "code",
   "execution_count": 10,
   "id": "cadbc21d",
   "metadata": {},
   "outputs": [],
   "source": [
    "def sum_round(n):\n",
    "    s = str(n)\n",
    "    r = \"\"\n",
    "    for i in range(len(s)):\n",
    "        if s[i] != \"0\":\n",
    "            r += \"0\" * (len(s)-1-i) + s[i] +\" \"\n",
    "    return r[::-1]\n",
    "            \n"
   ]
  },
  {
   "cell_type": "code",
   "execution_count": 11,
   "id": "fbf92c99",
   "metadata": {},
   "outputs": [
    {
     "data": {
      "text/plain": [
       "' 1 100'"
      ]
     },
     "execution_count": 11,
     "metadata": {},
     "output_type": "execute_result"
    }
   ],
   "source": [
    "sum_round(101) "
   ]
  },
  {
   "cell_type": "code",
   "execution_count": 12,
   "id": "cc09d5a2",
   "metadata": {},
   "outputs": [
    {
     "data": {
      "text/plain": [
       "' 4 30 200 1000'"
      ]
     },
     "execution_count": 12,
     "metadata": {},
     "output_type": "execute_result"
    }
   ],
   "source": [
    "sum_round(1234) "
   ]
  },
  {
   "cell_type": "code",
   "execution_count": 13,
   "id": "ce863187",
   "metadata": {},
   "outputs": [
    {
     "data": {
      "text/plain": [
       "' 10 200 4000 50000'"
      ]
     },
     "execution_count": 13,
     "metadata": {},
     "output_type": "execute_result"
    }
   ],
   "source": [
    "sum_round(54210)"
   ]
  },
  {
   "cell_type": "code",
   "execution_count": null,
   "id": "5d1fb253",
   "metadata": {},
   "outputs": [],
   "source": []
  },
  {
   "cell_type": "markdown",
   "id": "e465abb4",
   "metadata": {},
   "source": [
    "# Question 4. \n",
    ">Your task, is to create N x N multiplication table, of size n provided in parameter.\n",
    "\n",
    ">For example, when n is 5, the multiplication table is:\n",
    "\n",
    ">   - 1, 2, 3, 4, 5\n",
    "\n",
    "> - 2, 4, 6, 8, 10\n",
    "\n",
    ">   - 3, 6, 9, 12, 15\n",
    "\n",
    ">   - 4, 8, 12, 16, 20\n",
    "\n",
    ">   - 5, 10, 15, 20, 25\n",
    "\n",
    ">This example will result in:\n",
    "\n",
    ">[[1, 2, 3, 4, 5], [2, 4, 6, 8, 10], [3, 6, 9, 12, 15], [4, 8, 12, 16, 20], [5, 10, 15, 20, 25]]\n",
    "\n",
    ">Examples\n",
    "\n",
    ">multiplication_table(1) ➞ [[1]]\n",
    "\n",
    ">multiplication_table(3) ➞ [[1, 2, 3], [2, 4, 6], [3, 6, 9]]\n",
    "\n"
   ]
  },
  {
   "cell_type": "code",
   "execution_count": 16,
   "id": "f453400c",
   "metadata": {},
   "outputs": [],
   "source": [
    "def multiplication_table(n):\n",
    "    import numpy as np\n",
    "    l = [i+1 for i in range(n)]\n",
    "    r = []\n",
    "    for i in range(n):\n",
    "        r.append(list(np.array(l)*(i+1)))\n",
    "    return r\n",
    "        "
   ]
  },
  {
   "cell_type": "code",
   "execution_count": 18,
   "id": "07b5470d",
   "metadata": {},
   "outputs": [
    {
     "data": {
      "text/plain": [
       "[[1]]"
      ]
     },
     "execution_count": 18,
     "metadata": {},
     "output_type": "execute_result"
    }
   ],
   "source": [
    "multiplication_table(1)"
   ]
  },
  {
   "cell_type": "code",
   "execution_count": 17,
   "id": "96316c3e",
   "metadata": {},
   "outputs": [
    {
     "data": {
      "text/plain": [
       "[[1, 2, 3], [2, 4, 6], [3, 6, 9]]"
      ]
     },
     "execution_count": 17,
     "metadata": {},
     "output_type": "execute_result"
    }
   ],
   "source": [
    "multiplication_table(3) "
   ]
  },
  {
   "cell_type": "code",
   "execution_count": 19,
   "id": "80a0dde6",
   "metadata": {
    "scrolled": true
   },
   "outputs": [
    {
     "data": {
      "text/plain": [
       "[[1, 2, 3, 4, 5],\n",
       " [2, 4, 6, 8, 10],\n",
       " [3, 6, 9, 12, 15],\n",
       " [4, 8, 12, 16, 20],\n",
       " [5, 10, 15, 20, 25]]"
      ]
     },
     "execution_count": 19,
     "metadata": {},
     "output_type": "execute_result"
    }
   ],
   "source": [
    "multiplication_table(5) "
   ]
  },
  {
   "cell_type": "markdown",
   "id": "095cd1d7",
   "metadata": {},
   "source": [
    "# Question 5. \n",
    ">Create a function that returns True if two lines rhyme and False otherwise. For the purposes of this exercise, two lines rhyme if the last word from each sentence contains the same vowels.\n",
    "\n",
    ">Examples\n",
    "\n",
    ">does_rhyme(\"Sam I am!\", \"Green eggs and ham.\") ➞ True\n",
    "\n",
    ">does_rhyme(\"Sam I am!\", \"Green eggs and HAM.\") ➞ True\n",
    "\n",
    ">\\# Capitalization and punctuation should not matter.\n",
    "\n",
    ">does_rhyme(\"You are off to the races\", \"a splendid day.\") ➞ False\n",
    "\n",
    ">does_rhyme(\"and frequently do?\", \"you gotta move.\") ➞ False\n"
   ]
  },
  {
   "cell_type": "code",
   "execution_count": 26,
   "id": "90f23425",
   "metadata": {},
   "outputs": [],
   "source": [
    "def does_rhyme(s1,s2):\n",
    "    if s1[-2].lower() == s2[-2].lower():\n",
    "        return True\n",
    "    else:\n",
    "        return False"
   ]
  },
  {
   "cell_type": "code",
   "execution_count": 27,
   "id": "ecd115ef",
   "metadata": {},
   "outputs": [
    {
     "data": {
      "text/plain": [
       "True"
      ]
     },
     "execution_count": 27,
     "metadata": {},
     "output_type": "execute_result"
    }
   ],
   "source": [
    "does_rhyme(\"Sam I am!\", \"Green eggs and ham.\")"
   ]
  },
  {
   "cell_type": "code",
   "execution_count": 28,
   "id": "4898c6c8",
   "metadata": {},
   "outputs": [
    {
     "data": {
      "text/plain": [
       "True"
      ]
     },
     "execution_count": 28,
     "metadata": {},
     "output_type": "execute_result"
    }
   ],
   "source": [
    "does_rhyme(\"Sam I am!\", \"Green eggs and HAM.\")"
   ]
  },
  {
   "cell_type": "code",
   "execution_count": 29,
   "id": "75a1c217",
   "metadata": {},
   "outputs": [
    {
     "data": {
      "text/plain": [
       "False"
      ]
     },
     "execution_count": 29,
     "metadata": {},
     "output_type": "execute_result"
    }
   ],
   "source": [
    "does_rhyme(\"You are off to the races\", \"a splendid day.\") "
   ]
  },
  {
   "cell_type": "code",
   "execution_count": 30,
   "id": "6c1814f1",
   "metadata": {},
   "outputs": [
    {
     "data": {
      "text/plain": [
       "False"
      ]
     },
     "execution_count": 30,
     "metadata": {},
     "output_type": "execute_result"
    }
   ],
   "source": [
    "does_rhyme(\"and frequently do?\", \"you gotta move.\")"
   ]
  }
 ],
 "metadata": {
  "kernelspec": {
   "display_name": "Python [conda env:.conda-gputest] *",
   "language": "python",
   "name": "conda-env-.conda-gputest-py"
  },
  "language_info": {
   "codemirror_mode": {
    "name": "ipython",
    "version": 3
   },
   "file_extension": ".py",
   "mimetype": "text/x-python",
   "name": "python",
   "nbconvert_exporter": "python",
   "pygments_lexer": "ipython3",
   "version": "3.6.12"
  }
 },
 "nbformat": 4,
 "nbformat_minor": 5
}
