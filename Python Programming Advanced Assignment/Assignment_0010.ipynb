{
 "cells": [
  {
   "attachments": {
    "0010%203.PNG": {
     "image/png": "[encoded data removed]"
    }
   },
   "cell_type": "markdown",
   "id": "161b3e1f",
   "metadata": {},
   "source": [
    "### Question 1. \n",
    ">Create a function that takes the width, height and character and returns a picture frame as a 2D list.\n",
    "![0010%203.PNG](attachment:0010%203.PNG)"
   ]
  },
  {
   "cell_type": "code",
   "execution_count": 145,
   "id": "7424b2ea",
   "metadata": {},
   "outputs": [],
   "source": [
    "def get_frame(width, height ,character):\n",
    "    \n",
    "    if width>2 and height>2:\n",
    "        l = [[None]*width]*height\n",
    "    \n",
    "        for i in range(height):\n",
    "            if i in (0,height-1):\n",
    "                l[i] = [character*width]\n",
    "            \n",
    "            else:\n",
    "                l[i] = [character + \" \"*(width-2) + character]\n",
    "        \n",
    "        return l\n",
    "        \n",
    "        \n",
    "    else:\n",
    "        return \"invalid\"\n",
    "                \n",
    "        "
   ]
  },
  {
   "cell_type": "code",
   "execution_count": 146,
   "id": "b6cfddee",
   "metadata": {},
   "outputs": [
    {
     "data": {
      "text/plain": [
       "[['####'], ['#  #'], ['#  #'], ['#  #'], ['####']]"
      ]
     },
     "execution_count": 146,
     "metadata": {},
     "output_type": "execute_result"
    }
   ],
   "source": [
    "get_frame(4,5,\"#\")"
   ]
  },
  {
   "cell_type": "code",
   "execution_count": 147,
   "id": "99ae5f50",
   "metadata": {},
   "outputs": [
    {
     "data": {
      "text/plain": [
       "[['**********'], ['*        *'], ['**********']]"
      ]
     },
     "execution_count": 147,
     "metadata": {},
     "output_type": "execute_result"
    }
   ],
   "source": [
    "get_frame(10,3,\"*\")"
   ]
  },
  {
   "cell_type": "code",
   "execution_count": 144,
   "id": "f8e5899b",
   "metadata": {},
   "outputs": [
    {
     "data": {
      "text/plain": [
       "'invalid'"
      ]
     },
     "execution_count": 144,
     "metadata": {},
     "output_type": "execute_result"
    }
   ],
   "source": [
    "get_frame(2,5,\"0\")"
   ]
  },
  {
   "cell_type": "markdown",
   "id": "ea91ae44",
   "metadata": {},
   "source": [
    "### Question 2. \n",
    ">Write three functions:\n",
    "\n",
    ">1. boolean_and\n",
    "\n",
    ">2. boolean_or\n",
    "\n",
    ">3. boolean_xor\n",
    "\n",
    ">These functions should evaluate a list of True and False values, starting from the leftmost element and evaluating pairwise.\n",
    "\n",
    ">Examples\n",
    "\n",
    ">boolean_and([True, True, False, True]) ➞ False\n",
    "\n",
    ">\\# [True, True, False, True] => [True, False, True] => [False, True] => False\n",
    "\n",
    ">boolean_or([True, True, False, False]) ➞ True\n",
    "\n",
    ">\\# [True, True, False, True] => [True, False, False] => [True, False] => True\n",
    "\n",
    ">boolean_xor([True, True, False, False]) ➞ False\n",
    "\n",
    ">\\# [True, True, False, False] => [False, False, False] => [False, False] => False\n",
    "\n"
   ]
  },
  {
   "cell_type": "code",
   "execution_count": 167,
   "id": "66079fb7",
   "metadata": {},
   "outputs": [],
   "source": [
    "class boolean:\n",
    "    \n",
    "    def boolean_and(self,l):\n",
    "        from functools import reduce\n",
    "        return reduce(lambda x, y: x & y, l)\n",
    "        \n",
    "    def boolean_or(self,l):\n",
    "        from functools import reduce\n",
    "        return reduce(lambda x, y: x | y, l)\n",
    "            \n",
    "    def boolean_xor(self,l):\n",
    "        from functools import reduce\n",
    "        return reduce(lambda x, y: x ^ y, l)\n",
    "    \n",
    "    "
   ]
  },
  {
   "cell_type": "code",
   "execution_count": 168,
   "id": "96adb9d4",
   "metadata": {},
   "outputs": [
    {
     "data": {
      "text/plain": [
       "False"
      ]
     },
     "execution_count": 168,
     "metadata": {},
     "output_type": "execute_result"
    }
   ],
   "source": [
    "b = boolean()\n",
    "b.boolean_and([True, True, False, True])"
   ]
  },
  {
   "cell_type": "code",
   "execution_count": 169,
   "id": "3164be71",
   "metadata": {},
   "outputs": [
    {
     "data": {
      "text/plain": [
       "True"
      ]
     },
     "execution_count": 169,
     "metadata": {},
     "output_type": "execute_result"
    }
   ],
   "source": [
    "b.boolean_or([True, True, False, False]) "
   ]
  },
  {
   "cell_type": "code",
   "execution_count": 170,
   "id": "eb7ebdc9",
   "metadata": {},
   "outputs": [
    {
     "data": {
      "text/plain": [
       "False"
      ]
     },
     "execution_count": 170,
     "metadata": {},
     "output_type": "execute_result"
    }
   ],
   "source": [
    "b = boolean()\n",
    "b.boolean_xor([True, True, False, False]) "
   ]
  },
  {
   "attachments": {
    "0010%204.PNG": {
     "image/png": "[encoded data removed]"
    }
   },
   "cell_type": "markdown",
   "id": "dffd2ded",
   "metadata": {},
   "source": [
    "### Question 3. \n",
    ">Create a function that creates a box based on dimension n.\n",
    "\n",
    "![0010%204.PNG](attachment:0010%204.PNG)\n",
    "\n"
   ]
  },
  {
   "cell_type": "code",
   "execution_count": 178,
   "id": "008c7099",
   "metadata": {},
   "outputs": [],
   "source": [
    "def make_box(n):\n",
    "    l = [[None]*n]*n\n",
    "    \n",
    "    for i in range(n):\n",
    "        if i in (0,n-1):\n",
    "            l[i] = \"#\"*n\n",
    "            \n",
    "        else:\n",
    "            l[i] = \"#\" + \" \"*(n-2) + \"#\"\n",
    "        \n",
    "    return l"
   ]
  },
  {
   "cell_type": "code",
   "execution_count": 179,
   "id": "e5ef8f58",
   "metadata": {},
   "outputs": [
    {
     "data": {
      "text/plain": [
       "['#####', '#   #', '#   #', '#   #', '#####']"
      ]
     },
     "execution_count": 179,
     "metadata": {},
     "output_type": "execute_result"
    }
   ],
   "source": [
    "make_box(5)"
   ]
  },
  {
   "cell_type": "code",
   "execution_count": 180,
   "id": "51f2065a",
   "metadata": {},
   "outputs": [
    {
     "data": {
      "text/plain": [
       "['###', '# #', '###']"
      ]
     },
     "execution_count": 180,
     "metadata": {},
     "output_type": "execute_result"
    }
   ],
   "source": [
    "make_box(3)"
   ]
  },
  {
   "cell_type": "code",
   "execution_count": 181,
   "id": "4f03fad3",
   "metadata": {},
   "outputs": [
    {
     "data": {
      "text/plain": [
       "['##', '##']"
      ]
     },
     "execution_count": 181,
     "metadata": {},
     "output_type": "execute_result"
    }
   ],
   "source": [
    "make_box(2)"
   ]
  },
  {
   "cell_type": "code",
   "execution_count": 182,
   "id": "37f98f61",
   "metadata": {},
   "outputs": [
    {
     "data": {
      "text/plain": [
       "['#']"
      ]
     },
     "execution_count": 182,
     "metadata": {},
     "output_type": "execute_result"
    }
   ],
   "source": [
    "make_box(1)"
   ]
  },
  {
   "cell_type": "markdown",
   "id": "8a8d159e",
   "metadata": {},
   "source": [
    "### Question 4. \n",
    ">Given a common phrase, return False if any individual word in the phrase contains duplicate letters. Return True otherwise.\n",
    "\n",
    ">Examples\n",
    "\n",
    ">no_duplicate_letters(\"Fortune favours the bold.\") ➞ True\n",
    "\n",
    ">no_duplicate_letters(\"You can lead a horse to water, but you can't make him drink.\") ➞ True\n",
    "\n",
    ">no_duplicate_letters(\"Look before you leap.\") ➞ False\n",
    "\n",
    ">\\# Duplicate letters in \"Look\" and \"before\".\n",
    "\n",
    ">no_duplicate_letters(\"An apple a day keeps the doctor away.\") ➞ False\n",
    "\n",
    ">\\# Duplicate letters in \"apple\", \"keeps\", \"doctor\", and \"away\".\n",
    "\n",
    "\n"
   ]
  },
  {
   "cell_type": "code",
   "execution_count": 185,
   "id": "85168857",
   "metadata": {},
   "outputs": [],
   "source": [
    "def no_duplicate_letters(s):\n",
    "    s = s.split(\" \")\n",
    "    for i in s:\n",
    "        if any(i.count(j) >1 for j in i):\n",
    "            return False\n",
    "        else:\n",
    "            continue\n",
    "    else:\n",
    "        return True\n",
    "        \n",
    "    "
   ]
  },
  {
   "cell_type": "code",
   "execution_count": 186,
   "id": "fb840e33",
   "metadata": {},
   "outputs": [
    {
     "data": {
      "text/plain": [
       "True"
      ]
     },
     "execution_count": 186,
     "metadata": {},
     "output_type": "execute_result"
    }
   ],
   "source": [
    "no_duplicate_letters(\"Fortune favours the bold.\")"
   ]
  },
  {
   "cell_type": "code",
   "execution_count": 187,
   "id": "411423e0",
   "metadata": {},
   "outputs": [
    {
     "data": {
      "text/plain": [
       "True"
      ]
     },
     "execution_count": 187,
     "metadata": {},
     "output_type": "execute_result"
    }
   ],
   "source": [
    "no_duplicate_letters(\"You can lead a horse to water, but you can't make him drink.\") "
   ]
  },
  {
   "cell_type": "code",
   "execution_count": 188,
   "id": "c2f6c6b7",
   "metadata": {},
   "outputs": [
    {
     "data": {
      "text/plain": [
       "False"
      ]
     },
     "execution_count": 188,
     "metadata": {},
     "output_type": "execute_result"
    }
   ],
   "source": [
    "no_duplicate_letters(\"Look before you leap.\")"
   ]
  },
  {
   "cell_type": "code",
   "execution_count": 189,
   "id": "f7375f7b",
   "metadata": {},
   "outputs": [
    {
     "data": {
      "text/plain": [
       "False"
      ]
     },
     "execution_count": 189,
     "metadata": {},
     "output_type": "execute_result"
    }
   ],
   "source": [
    "no_duplicate_letters(\"An apple a day keeps the doctor away.\") "
   ]
  },
  {
   "cell_type": "markdown",
   "id": "1e0aef64",
   "metadata": {},
   "source": [
    "### Question 5. \n",
    ">Write a regular expression that will match the states that voted yes to President Trump's impeachment. You must use RegEx positive lookahead.\n",
    "\n",
    ">Example\n",
    "\n",
    ">txt = \"Texas = no, California = yes, Florida = yes, Michigan = no\"\n",
    "\n",
    ">pattern = \"yourregularexpressionhere\"\n",
    "\n",
    ">re.findall(pattern, txt) ➞ [\"California\", \"Florida\"]\n"
   ]
  },
  {
   "cell_type": "code",
   "execution_count": 214,
   "id": "c6b404ce",
   "metadata": {},
   "outputs": [
    {
     "data": {
      "text/plain": [
       "['California', 'Florida']"
      ]
     },
     "execution_count": 214,
     "metadata": {},
     "output_type": "execute_result"
    }
   ],
   "source": [
    "import re\n",
    "txt = \"Texas = no, California = yes, Florida = yes, Michigan = no\"\n",
    "pattern = re.compile(\"\\w+(?= =\\syes)\")\n",
    "pattern.findall(txt)"
   ]
  }
 ],
 "metadata": {
  "kernelspec": {
   "display_name": "Python [conda env:.conda-gputest] *",
   "language": "python",
   "name": "conda-env-.conda-gputest-py"
  },
  "language_info": {
   "codemirror_mode": {
    "name": "ipython",
    "version": 3
   },
   "file_extension": ".py",
   "mimetype": "text/x-python",
   "name": "python",
   "nbconvert_exporter": "python",
   "pygments_lexer": "ipython3",
   "version": "3.6.12"
  }
 },
 "nbformat": 4,
 "nbformat_minor": 5
}
