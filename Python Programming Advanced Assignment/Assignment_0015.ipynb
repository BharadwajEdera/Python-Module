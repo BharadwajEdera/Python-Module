{
 "cells": [
  {
   "cell_type": "markdown",
   "id": "97325482",
   "metadata": {},
   "source": [
    "# Question 1. \n",
    ">Write a function that returns True if a given name can generate an array of words.\n",
    "\n",
    ">Examples\n",
    "\n",
    ">anagram(\"Justin Bieber\", [\"injures\", \"ebb\", \"it\"]) ➞ True\n",
    "\n",
    ">anagram(\"Natalie Portman\", [\"ornamental\", \"pita\"]) ➞ True\n",
    "\n",
    ">anagram(\"Chris Pratt\", [\"chirps\", \"rat\"]) ➞ False\n",
    "\n",
    ">\\# Not all letters are used\n",
    "\n",
    ">anagram(\"Jeff Goldblum\", [\"jog\", \"meld\", \"bluffs\"]) ➞ False\n",
    "\n",
    ">\\# \"s\" does not exist in the original name\n",
    "\n"
   ]
  },
  {
   "cell_type": "code",
   "execution_count": 33,
   "id": "e9ba3031",
   "metadata": {},
   "outputs": [],
   "source": [
    "def anagram(s,l):\n",
    "    s = [x for x in \"\".join(s.split(\" \")).lower()]\n",
    "    s1 = tuple(\"\".join(l))\n",
    "    for i in s1:\n",
    "        if i in s and len(s1)==len(s):\n",
    "            continue\n",
    "        else:\n",
    "            return False\n",
    "    return True\n",
    "            "
   ]
  },
  {
   "cell_type": "code",
   "execution_count": 34,
   "id": "2bcb0508",
   "metadata": {},
   "outputs": [
    {
     "data": {
      "text/plain": [
       "True"
      ]
     },
     "execution_count": 34,
     "metadata": {},
     "output_type": "execute_result"
    }
   ],
   "source": [
    "anagram(\"Justin Bieber\", [\"injures\", \"ebb\", \"it\"])"
   ]
  },
  {
   "cell_type": "code",
   "execution_count": 35,
   "id": "75fcf578",
   "metadata": {},
   "outputs": [
    {
     "data": {
      "text/plain": [
       "True"
      ]
     },
     "execution_count": 35,
     "metadata": {},
     "output_type": "execute_result"
    }
   ],
   "source": [
    "anagram(\"Natalie Portman\", [\"ornamental\", \"pita\"])"
   ]
  },
  {
   "cell_type": "code",
   "execution_count": 36,
   "id": "75d35c35",
   "metadata": {},
   "outputs": [
    {
     "data": {
      "text/plain": [
       "False"
      ]
     },
     "execution_count": 36,
     "metadata": {},
     "output_type": "execute_result"
    }
   ],
   "source": [
    "anagram(\"Chris Pratt\", [\"chirps\", \"rat\"])"
   ]
  },
  {
   "cell_type": "code",
   "execution_count": 37,
   "id": "9c2b6371",
   "metadata": {},
   "outputs": [
    {
     "data": {
      "text/plain": [
       "False"
      ]
     },
     "execution_count": 37,
     "metadata": {},
     "output_type": "execute_result"
    }
   ],
   "source": [
    "anagram(\"Jeff Goldblum\", [\"jog\", \"meld\", \"bluffs\"])"
   ]
  },
  {
   "cell_type": "markdown",
   "id": "a2decffe",
   "metadata": {},
   "source": [
    "# Question 2. \n",
    ">Given an array of users, each defined by an object with the following properties: name, score, reputation create a function that sorts the array to form the correct leaderboard.\n",
    "\n",
    ">The leaderboard takes into consideration the score of each user of course, but an emphasis is put on their reputation in the community, so to get the trueScore, you should add the reputation multiplied by 2 to the score.\n",
    "\n",
    ">Once you know the trueScore of each user, sort the array according to it in descending order.\n",
    "\n",
    ">Examples\n",
    "\n",
    ">leaderboards([\n",
    "\n",
    ">{ \"name\": \"a\", \"score\": 100, \"reputation\": 20 },\n",
    "\n",
    ">{ \"name\": \"b\", \"score\": 90, \"reputation\": 40 },\n",
    "\n",
    ">{ \"name\": \"c\", \"score\": 115, \"reputation\": 30 },\n",
    "]) \n",
    "\n",
    ">➞ [\n",
    "\n",
    ">{ \"name\": \"c\", \"score\": 115, \"reputation\": 30 },  # trueScore = 175\n",
    "\n",
    ">  { \"name\": \"b\", \"score\": 90, \"reputation\": 40 },   # trueScore = 170\n",
    "\n",
    ">  { \"name\": \"a\", \"score\": 100, \"reputation\": 20 }   # trueScore = 140\n",
    "]\n",
    "\n"
   ]
  },
  {
   "cell_type": "code",
   "execution_count": 73,
   "id": "75243ff4",
   "metadata": {},
   "outputs": [],
   "source": [
    "def leaderboards(l):\n",
    "    import numpy as np\n",
    "    r = []\n",
    "    for i in l:\n",
    "        r.append(i[\"score\"]+i[\"reputation\"]*2)\n",
    "\n",
    "    for i in range(len(r)-1):\n",
    "        for j in range(len(r)-i-1):\n",
    "            if r[j] < r[j+1]:\n",
    "                r[j] , r[j+1] = r[j+1] , r[j]\n",
    "                l[j] , l[j+1] = l[j+1] , l[j]\n",
    "            \n",
    "    return r,l"
   ]
  },
  {
   "cell_type": "code",
   "execution_count": 74,
   "id": "99009606",
   "metadata": {},
   "outputs": [
    {
     "data": {
      "text/plain": [
       "([175, 170, 140],\n",
       " [{'name': 'c', 'score': 115, 'reputation': 30},\n",
       "  {'name': 'b', 'score': 90, 'reputation': 40},\n",
       "  {'name': 'a', 'score': 100, 'reputation': 20}])"
      ]
     },
     "execution_count": 74,
     "metadata": {},
     "output_type": "execute_result"
    }
   ],
   "source": [
    "leaderboards([\n",
    "\n",
    "{ \"name\": \"a\", \"score\": 100, \"reputation\": 20 },\n",
    "\n",
    "{ \"name\": \"b\", \"score\": 90, \"reputation\": 40 },\n",
    "\n",
    "{ \"name\": \"c\", \"score\": 115, \"reputation\": 30 }, ])"
   ]
  },
  {
   "cell_type": "markdown",
   "id": "40f1cd5f",
   "metadata": {},
   "source": [
    "# Question 3. \n",
    ">Create a function that, given a phrase and a number of letters guessed, returns a string with hyphens - for every letter of the phrase not guessed, and each letter guessed in place.\n",
    "\n",
    ">Examples\n",
    "\n",
    ">hangman(\"helicopter\", [\"o\", \"e\", \"s\"]) ➞ \"-e---o--e-\"\n",
    "\n",
    ">hangman(\"tree\", [\"r\", \"t\", \"e\"]) ➞ \"tree\"\n",
    "\n",
    ">hangman(\"Python rules\", [\"a\", \"n\", \"p\", \"r\", \"z\"]) ➞ \"P----n r----\"\n",
    "\n",
    "\n"
   ]
  },
  {
   "cell_type": "code",
   "execution_count": 89,
   "id": "96f99b27",
   "metadata": {},
   "outputs": [],
   "source": [
    "def hangman(s,l):\n",
    "    for i in s.lower():\n",
    "        if i not in l:\n",
    "            s = s.replace(i,\"-\")\n",
    "    return s"
   ]
  },
  {
   "cell_type": "code",
   "execution_count": 90,
   "id": "3ac4fb18",
   "metadata": {},
   "outputs": [
    {
     "data": {
      "text/plain": [
       "'-e---o--e-'"
      ]
     },
     "execution_count": 90,
     "metadata": {},
     "output_type": "execute_result"
    }
   ],
   "source": [
    "hangman(\"helicopter\", [\"o\", \"e\", \"s\"])"
   ]
  },
  {
   "cell_type": "code",
   "execution_count": 91,
   "id": "d64be919",
   "metadata": {},
   "outputs": [
    {
     "data": {
      "text/plain": [
       "'tree'"
      ]
     },
     "execution_count": 91,
     "metadata": {},
     "output_type": "execute_result"
    }
   ],
   "source": [
    "hangman(\"tree\", [\"r\", \"t\", \"e\"]) "
   ]
  },
  {
   "cell_type": "code",
   "execution_count": 92,
   "id": "95003895",
   "metadata": {},
   "outputs": [
    {
     "data": {
      "text/plain": [
       "'P----n-r----'"
      ]
     },
     "execution_count": 92,
     "metadata": {},
     "output_type": "execute_result"
    }
   ],
   "source": [
    "hangman(\"Python rules\", [\"a\", \"n\", \"p\", \"r\", \"z\"]) "
   ]
  },
  {
   "cell_type": "markdown",
   "id": "4c21f45d",
   "metadata": {},
   "source": [
    "# Question 4. \n",
    ">The Collatz sequence is as follows:\n",
    "\n",
    ">  - Start with some given integer n.\n",
    "\n",
    ">  - If it is even, the next number will be n divided by 2.\n",
    "\n",
    ">  - If it is odd, multiply it by 3 and add 1 to make the next number.\n",
    "\n",
    ">  - The sequence stops when it reaches 1.\n",
    "\n",
    ">According to the Collatz conjecture, it will always reach 1. If that's true, you can construct a finite sequence following the aforementioned method for any given integer.\n",
    "\n",
    ">Write a function that takes in an integer n and returns the highest integer in the corresponding Collatz sequence.\n",
    "\n",
    ">Examples\n",
    "\n",
    ">max_collatz(10) ➞ 16\n",
    "\n",
    ">\\# Collatz sequence: 10, 5, 16, 8, 4, 2, 1\n",
    "\n",
    ">max_collatz(32) ➞ 32\n",
    "\n",
    ">\\# Collatz sequence: 32, 16, 8, 4, 2, 1\n",
    "\n",
    ">max_collatz(85) ➞ 256\n",
    "\n",
    ">\\# Collatz sequence: 85, 256, 128, 64, 32, 16, 8, 4, 2, 1\n",
    "\n"
   ]
  },
  {
   "cell_type": "code",
   "execution_count": 113,
   "id": "b858edc3",
   "metadata": {},
   "outputs": [],
   "source": [
    "\n",
    "def max_collatz(n,l=[]):\n",
    "    l.append(n)\n",
    "    if n == 1:\n",
    "        return 1\n",
    "    else:\n",
    "        if n%2 == 0:\n",
    "            max_collatz(int(n/2))\n",
    "        else:\n",
    "            max_collatz(n*3 +1)\n",
    "    return max(l)\n",
    "            "
   ]
  },
  {
   "cell_type": "code",
   "execution_count": 114,
   "id": "672600d0",
   "metadata": {},
   "outputs": [
    {
     "data": {
      "text/plain": [
       "16"
      ]
     },
     "execution_count": 114,
     "metadata": {},
     "output_type": "execute_result"
    }
   ],
   "source": [
    "max_collatz(10) "
   ]
  },
  {
   "cell_type": "code",
   "execution_count": 116,
   "id": "e736a9a9",
   "metadata": {},
   "outputs": [
    {
     "data": {
      "text/plain": [
       "32"
      ]
     },
     "execution_count": 116,
     "metadata": {},
     "output_type": "execute_result"
    }
   ],
   "source": [
    "max_collatz(32)"
   ]
  },
  {
   "cell_type": "code",
   "execution_count": 117,
   "id": "55916d54",
   "metadata": {},
   "outputs": [
    {
     "data": {
      "text/plain": [
       "256"
      ]
     },
     "execution_count": 117,
     "metadata": {},
     "output_type": "execute_result"
    }
   ],
   "source": [
    "max_collatz(85)"
   ]
  },
  {
   "cell_type": "markdown",
   "id": "a130a6f1",
   "metadata": {},
   "source": [
    "# Question 5. \n",
    ">Write a function that sorts a list of integers by their digit length in descending order, then settles ties by sorting numbers with the same digit length in ascending order.\n",
    "\n",
    ">Examples\n",
    "\n",
    ">digit_sort([77, 23, 5, 7, 101])\n",
    "➞ [101, 23, 77, 5, 7]\n",
    "\n",
    ">digit_sort([1, 5, 9, 2, 789, 563, 444])\n",
    "➞ [444, 563, 789, 1, 2, 5, 9]\n",
    "\n",
    ">digit_sort([53219, 3772, 564, 32, 1])\n",
    "➞ [53219, 3772, 564, 32, 1]\n"
   ]
  },
  {
   "cell_type": "code",
   "execution_count": 62,
   "id": "54fd4fd9",
   "metadata": {},
   "outputs": [],
   "source": [
    "def digit_sort(l):\n",
    "    dt = {}\n",
    "    r = []\n",
    "    for i in l:\n",
    "        if len(str(i)) in dt:\n",
    "            dt[len(str(i))].append(i)\n",
    "        else:\n",
    "            dt[len(str(i))] = [i]\n",
    "    k = max(dt.keys())\n",
    "    while k>=1:\n",
    "        if k in dt:\n",
    "            r.extend(sorted(dt[k]))\n",
    "            k -= 1\n",
    "        else:\n",
    "            k -= 1\n",
    "    return r"
   ]
  },
  {
   "cell_type": "code",
   "execution_count": 63,
   "id": "ccfc83ae",
   "metadata": {},
   "outputs": [
    {
     "data": {
      "text/plain": [
       "[101, 23, 77, 5, 7]"
      ]
     },
     "execution_count": 63,
     "metadata": {},
     "output_type": "execute_result"
    }
   ],
   "source": [
    "digit_sort([77, 23, 5, 7, 101]) "
   ]
  },
  {
   "cell_type": "code",
   "execution_count": 64,
   "id": "662a278f",
   "metadata": {},
   "outputs": [
    {
     "data": {
      "text/plain": [
       "[444, 563, 789, 1, 2, 5, 9]"
      ]
     },
     "execution_count": 64,
     "metadata": {},
     "output_type": "execute_result"
    }
   ],
   "source": [
    "digit_sort([1, 5, 9, 2, 789, 563, 444])"
   ]
  },
  {
   "cell_type": "code",
   "execution_count": 65,
   "id": "a1cc0755",
   "metadata": {},
   "outputs": [
    {
     "data": {
      "text/plain": [
       "[53219, 3772, 564, 32, 1]"
      ]
     },
     "execution_count": 65,
     "metadata": {},
     "output_type": "execute_result"
    }
   ],
   "source": [
    "digit_sort([53219, 3772, 564, 32, 1])"
   ]
  },
  {
   "cell_type": "code",
   "execution_count": null,
   "id": "6de3472d",
   "metadata": {},
   "outputs": [],
   "source": []
  }
 ],
 "metadata": {
  "kernelspec": {
   "display_name": "Python [conda env:.conda-gputest] *",
   "language": "python",
   "name": "conda-env-.conda-gputest-py"
  },
  "language_info": {
   "codemirror_mode": {
    "name": "ipython",
    "version": 3
   },
   "file_extension": ".py",
   "mimetype": "text/x-python",
   "name": "python",
   "nbconvert_exporter": "python",
   "pygments_lexer": "ipython3",
   "version": "3.6.12"
  }
 },
 "nbformat": 4,
 "nbformat_minor": 5
}
