{
 "cells": [
  {
   "cell_type": "markdown",
   "id": "012d5e68",
   "metadata": {},
   "source": [
    "# Question 1. \n",
    ">Given a sentence, return the number of words which have the same first and last letter.\n",
    "\n",
    ">Examples\n",
    "\n",
    ">count_same_ends(\"Pop! goes the balloon\") ➞ 1\n",
    "\n",
    ">count_same_ends(\"And the crowd goes wild!\") ➞ 0\n",
    "\n",
    ">count_same_ends(\"No I am not in a gang.\") ➞ 1\n",
    "\n"
   ]
  },
  {
   "cell_type": "code",
   "execution_count": 14,
   "id": "7a1f7418",
   "metadata": {},
   "outputs": [],
   "source": [
    "def count_same_ends(s):\n",
    "    import re\n",
    "    count = 0\n",
    "    pattern = re.compile(\"[a-zA-Z0-9]*\")\n",
    "    re.findall(pattern , s)\n",
    "    for i in re.findall(pattern , s):\n",
    "        if len(i)>1 and i.lower()[0]==i.lower()[-1]:\n",
    "            count += 1\n",
    "    return count"
   ]
  },
  {
   "cell_type": "code",
   "execution_count": 15,
   "id": "9cc8cb9b",
   "metadata": {},
   "outputs": [
    {
     "data": {
      "text/plain": [
       "1"
      ]
     },
     "execution_count": 15,
     "metadata": {},
     "output_type": "execute_result"
    }
   ],
   "source": [
    "count_same_ends(\"Pop! goes the balloon\") "
   ]
  },
  {
   "cell_type": "code",
   "execution_count": 16,
   "id": "7741e8a9",
   "metadata": {},
   "outputs": [
    {
     "data": {
      "text/plain": [
       "0"
      ]
     },
     "execution_count": 16,
     "metadata": {},
     "output_type": "execute_result"
    }
   ],
   "source": [
    "count_same_ends(\"And the crowd goes wild!\")"
   ]
  },
  {
   "cell_type": "code",
   "execution_count": 17,
   "id": "6aa8cde6",
   "metadata": {},
   "outputs": [
    {
     "data": {
      "text/plain": [
       "1"
      ]
     },
     "execution_count": 17,
     "metadata": {},
     "output_type": "execute_result"
    }
   ],
   "source": [
    "count_same_ends(\"No I am not in a gang.\") "
   ]
  },
  {
   "cell_type": "markdown",
   "id": "89c7a9f1",
   "metadata": {},
   "source": [
    "# Question 2. \n",
    ">The Atbash cipher is an encryption method in which each letter of a word is replaced with its \"mirror\" letter in the alphabet: A <=> Z; B <=> Y; C <=> X; etc.\n",
    "\n",
    ">Create a function that takes a string and applies the Atbash cipher to it.\n",
    "\n",
    ">Examples\n",
    "\n",
    ">atbash(\"apple\") ➞ \"zkkov\"\n",
    "\n",
    ">atbash(\"Hello world!\") ➞ \"Svool dliow!\"\n",
    "\n",
    ">atbash(\"Christmas is the 25th of December\") ➞ \"Xsirhgnzh rh gsv 25gs lu Wvxvnyvi\"\n",
    "\n"
   ]
  },
  {
   "cell_type": "code",
   "execution_count": 59,
   "id": "67b76d48",
   "metadata": {},
   "outputs": [],
   "source": [
    "def atbash(s):\n",
    "    p = \"abcdefghijklmnopqrstuvwxyz\"\n",
    "    q = \"ABCDEFGHIJKLMNOPQRSTUVWXYZ\"\n",
    "    r = \"\"\n",
    "    for i in range(len(s)):\n",
    "        if s[i] in p:\n",
    "            r += p[::-1][p.index(s[i])]\n",
    "        elif s[i] in q:\n",
    "            r += q[::-1][q.index(s[i])]\n",
    "        else:\n",
    "            r += s[i]\n",
    "        \n",
    "    return r\n",
    "        \n",
    "        "
   ]
  },
  {
   "cell_type": "code",
   "execution_count": 60,
   "id": "0054a604",
   "metadata": {},
   "outputs": [
    {
     "data": {
      "text/plain": [
       "'zkkov'"
      ]
     },
     "execution_count": 60,
     "metadata": {},
     "output_type": "execute_result"
    }
   ],
   "source": [
    "atbash(\"apple\")"
   ]
  },
  {
   "cell_type": "code",
   "execution_count": 61,
   "id": "b409da52",
   "metadata": {},
   "outputs": [
    {
     "data": {
      "text/plain": [
       "'Svool dliow!'"
      ]
     },
     "execution_count": 61,
     "metadata": {},
     "output_type": "execute_result"
    }
   ],
   "source": [
    "atbash(\"Hello world!\")"
   ]
  },
  {
   "cell_type": "code",
   "execution_count": 62,
   "id": "1af00685",
   "metadata": {},
   "outputs": [
    {
     "data": {
      "text/plain": [
       "'Xsirhgnzh rh gsv 25gs lu Wvxvnyvi'"
      ]
     },
     "execution_count": 62,
     "metadata": {},
     "output_type": "execute_result"
    }
   ],
   "source": [
    "atbash(\"Christmas is the 25th of December\") "
   ]
  },
  {
   "cell_type": "markdown",
   "id": "39cbf28e",
   "metadata": {},
   "source": [
    "# Question 3. \n",
    ">Create a class Employee that will take a full name as argument, as well as a set of none, one or more keywords. Each instance should have a name and a lastname attributes plus one more attribute for each of the keywords, if any.\n",
    "\n",
    ">Examples\n",
    "\n",
    ">john = Employee(\"John Doe\")\n",
    "\n",
    ">mary = Employee(\"Mary Major\", salary=120000)\n",
    "\n",
    ">richard = Employee(\"Richard Roe\", salary=110000, height=178)\n",
    "\n",
    ">giancarlo = Employee(\"Giancarlo Rossi\", salary=115000, height=182, nationality=\"Italian\")\n",
    "\n",
    ">john.name ➞ \"John\"\n",
    "\n",
    ">mary.lastname ➞ \"Major\"\n",
    "\n",
    ">richard.height ➞ 178\n",
    "\n",
    ">giancarlo.nationality ➞ \"Italian\"\n",
    "\n",
    "\n",
    "\n"
   ]
  },
  {
   "cell_type": "code",
   "execution_count": 73,
   "id": "adc175b6",
   "metadata": {},
   "outputs": [],
   "source": [
    "class Employee:\n",
    "    def __init__(self,name_lastname,salary=None,height=None,nationality=None):\n",
    "        self.name = name_lastname.split(\" \")[0]\n",
    "        self.lastname = name_lastname.split(\" \")[1]\n",
    "        self.salary = salary\n",
    "        self.height = height\n",
    "        self.nationality = nationality"
   ]
  },
  {
   "cell_type": "code",
   "execution_count": 74,
   "id": "46032d81",
   "metadata": {},
   "outputs": [],
   "source": [
    "john = Employee(\"John Doe\")\n",
    "\n",
    "mary = Employee(\"Mary Major\", salary=120000)\n",
    "\n",
    "richard = Employee(\"Richard Roe\", salary=110000, height=178)\n",
    "\n",
    "giancarlo = Employee(\"Giancarlo Rossi\", salary=115000, height=182, nationality=\"Italian\")"
   ]
  },
  {
   "cell_type": "code",
   "execution_count": 75,
   "id": "c7b99674",
   "metadata": {},
   "outputs": [
    {
     "data": {
      "text/plain": [
       "'John'"
      ]
     },
     "execution_count": 75,
     "metadata": {},
     "output_type": "execute_result"
    }
   ],
   "source": [
    "john.name"
   ]
  },
  {
   "cell_type": "code",
   "execution_count": 76,
   "id": "e432108b",
   "metadata": {},
   "outputs": [
    {
     "data": {
      "text/plain": [
       "'Major'"
      ]
     },
     "execution_count": 76,
     "metadata": {},
     "output_type": "execute_result"
    }
   ],
   "source": [
    "mary.lastname"
   ]
  },
  {
   "cell_type": "code",
   "execution_count": 77,
   "id": "0bf1bc9b",
   "metadata": {},
   "outputs": [
    {
     "data": {
      "text/plain": [
       "178"
      ]
     },
     "execution_count": 77,
     "metadata": {},
     "output_type": "execute_result"
    }
   ],
   "source": [
    "richard.height"
   ]
  },
  {
   "cell_type": "code",
   "execution_count": 78,
   "id": "cff44dd4",
   "metadata": {},
   "outputs": [
    {
     "data": {
      "text/plain": [
       "'Italian'"
      ]
     },
     "execution_count": 78,
     "metadata": {},
     "output_type": "execute_result"
    }
   ],
   "source": [
    "giancarlo.nationality "
   ]
  },
  {
   "cell_type": "code",
   "execution_count": null,
   "id": "c722d7df",
   "metadata": {},
   "outputs": [],
   "source": []
  },
  {
   "cell_type": "markdown",
   "id": "0ec1d679",
   "metadata": {},
   "source": [
    "# Question 4. \n",
    ">Create a function that determines whether each seat can \"see\" the front-stage. A number can \"see\" the front-stage if it is strictly greater than the number before it.\n",
    "\n",
    ">Everyone can see the front-stage in the example below:\n",
    "\n",
    ">\\# FRONT STAGE\n",
    "[[1, 2, 3, 2, 1, 1],\n",
    "[2, 4, 4, 3, 2, 2],\n",
    "[5, 5, 5, 5, 4, 4],\n",
    "[6, 6, 7, 6, 5, 5]]\n",
    "\n",
    ">\\# Starting from the left, the 6 > 5 > 2 > 1, so all numbers can see.\n",
    "\n",
    ">\\# 6 > 5 > 4 > 2 - so all numbers can see, etc.\n",
    "\n",
    ">Not everyone can see the front-stage in the example below:\n",
    "\n",
    ">\\# FRONT STAGE\n",
    "[[1, 2, 3, 2, 1, 1], \n",
    "[2, 4, 4, 3, 2, 2], \n",
    "[5, 5, 5, 10, 4, 4], \n",
    "[6, 6, 7, 6, 5, 5]]\n",
    "\n",
    ">\\# The 10 is directly in front of the 6 and blocking its view.\n",
    "\n",
    ">The function should return True if every number can see the front-stage, and False if even a single number cannot.\n",
    "\n",
    ">Examples\n",
    "\n",
    ">can_see_stage([\n",
    "  [1, 2, 3],\n",
    "  [4, 5, 6],\n",
    "  [7, 8, 9]\n",
    "]) ➞ True\n",
    "\n",
    ">can_see_stage([\n",
    "  [0, 0, 0],\n",
    "  [1, 1, 1],\n",
    "  [2, 2, 2]\n",
    "]) ➞ True\n",
    "\n",
    ">can_see_stage([\n",
    "  [2, 0, 0], \n",
    "  [1, 1, 1], \n",
    "  [2, 2, 2]\n",
    "]) ➞ False\n",
    "\n",
    ">can_see_stage([\n",
    "  [1, 0, 0],\n",
    "  [1, 1, 1],\n",
    "  [2, 2, 2]\n",
    "]) ➞ False\n",
    "\n",
    ">\\# Number must be strictly smaller than \n",
    "\n",
    ">\\# the number directly behind it.\n",
    "\n"
   ]
  },
  {
   "cell_type": "code",
   "execution_count": 81,
   "id": "591baf10",
   "metadata": {},
   "outputs": [],
   "source": [
    "def can_see_stage(l):\n",
    "    for i in range(len(l)-1):\n",
    "        for j in range(len(l[0])):\n",
    "            if l[i][j] < l[i+1][j]:\n",
    "                continue\n",
    "            else:\n",
    "                return False\n",
    "    return True\n",
    "            \n",
    "        "
   ]
  },
  {
   "cell_type": "code",
   "execution_count": 82,
   "id": "2ae101a0",
   "metadata": {},
   "outputs": [
    {
     "data": {
      "text/plain": [
       "True"
      ]
     },
     "execution_count": 82,
     "metadata": {},
     "output_type": "execute_result"
    }
   ],
   "source": [
    "can_see_stage([ [1, 2, 3], [4, 5, 6], [7, 8, 9] ]) "
   ]
  },
  {
   "cell_type": "code",
   "execution_count": 83,
   "id": "1477b69c",
   "metadata": {},
   "outputs": [
    {
     "data": {
      "text/plain": [
       "True"
      ]
     },
     "execution_count": 83,
     "metadata": {},
     "output_type": "execute_result"
    }
   ],
   "source": [
    "can_see_stage([ [0, 0, 0], [1, 1, 1], [2, 2, 2] ])"
   ]
  },
  {
   "cell_type": "code",
   "execution_count": 84,
   "id": "892d1009",
   "metadata": {},
   "outputs": [
    {
     "data": {
      "text/plain": [
       "False"
      ]
     },
     "execution_count": 84,
     "metadata": {},
     "output_type": "execute_result"
    }
   ],
   "source": [
    "can_see_stage([ [2, 0, 0], [1, 1, 1], [2, 2, 2] ]) "
   ]
  },
  {
   "cell_type": "code",
   "execution_count": 85,
   "id": "b3dea826",
   "metadata": {},
   "outputs": [
    {
     "data": {
      "text/plain": [
       "False"
      ]
     },
     "execution_count": 85,
     "metadata": {},
     "output_type": "execute_result"
    }
   ],
   "source": [
    "can_see_stage([ [1, 0, 0], [1, 1, 1], [2, 2, 2] ]) "
   ]
  },
  {
   "cell_type": "code",
   "execution_count": null,
   "id": "e8a455d2",
   "metadata": {},
   "outputs": [],
   "source": []
  }
 ],
 "metadata": {
  "kernelspec": {
   "display_name": "Python [conda env:.conda-gputest] *",
   "language": "python",
   "name": "conda-env-.conda-gputest-py"
  },
  "language_info": {
   "codemirror_mode": {
    "name": "ipython",
    "version": 3
   },
   "file_extension": ".py",
   "mimetype": "text/x-python",
   "name": "python",
   "nbconvert_exporter": "python",
   "pygments_lexer": "ipython3",
   "version": "3.6.12"
  }
 },
 "nbformat": 4,
 "nbformat_minor": 5
}
