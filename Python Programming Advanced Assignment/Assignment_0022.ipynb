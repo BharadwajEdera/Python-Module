{
 "cells": [
  {
   "cell_type": "markdown",
   "id": "30ecc89c",
   "metadata": {},
   "source": [
    "# Question 1. \n",
    ">Create a class Smoothie and do the following:\n",
    "\n",
    ">    - Create an instance attribute called ingredients.\n",
    "\n",
    ">    - Create a get_cost method which calculates the total cost of the ingredients used to make the smoothie.\n",
    "\n",
    ">    - Create a get_price method which returns the number from get_cost plus the number from get_cost multiplied by 1.5. Round to two decimal places.\n",
    "\n",
    ">    - Create a get_name method which gets the ingredients and puts them in alphabetical order into a nice descriptive sentence. If there are multiple ingredients, add the word \"Fusion\" to the end but otherwise, add \"Smoothie\". Remember to change \"-berries\" to \"-berry\". See the examples below.\n",
    "\n",
    ">Ingredient\t   Price\n",
    "\n",
    ">Strawberries  ::  \\\\$1.50\n",
    "\n",
    ">Banana\t   ::    \\\\$0.50\n",
    "\n",
    ">Mango\t    ::    \\\\$2.50\n",
    "\n",
    ">Blueberries\t::   \\\\$1.00\n",
    "\n",
    ">Raspberries\t::   \\\\$1.00\n",
    "\n",
    ">Apple\t  ::     \\\\$1.75\n",
    "\n",
    ">Pineapple  ::\t   \\\\$3.50\n",
    "\n",
    ">Examples\n",
    "\n",
    ">s1 = Smoothie([\"Banana\"])\n",
    "\n",
    ">s1.ingredients ➞ [\"Banana\"]\n",
    "\n",
    ">s1.get_cost() ➞ \"\\\\$0.50\"\n",
    "\n",
    ">s1.get_price() ➞ \"\\\\$1.25\"\n",
    "\n",
    ">s1.get_name() ➞ \"Banana Smoothie\"\n",
    "\n",
    ">s2 = Smoothie([\"Raspberries\", \"Strawberries\", \"Blueberries\"])\n",
    "\n",
    ">s2.ingredients ➞ [\"Raspberries\", \"Strawberries\", \"Blueberries\"]\n",
    "\n",
    ">s2.get_cost() ➞ \"\\\\$3.50\"\n",
    "\n",
    ">s2.get_price() ➞ \"\\\\$8.75\"\n",
    "\n",
    ">s2.get_name() ➞ \"Blueberry Raspberry Strawberry Fusion\"\n",
    "\n",
    "\n"
   ]
  },
  {
   "cell_type": "code",
   "execution_count": 97,
   "id": "422438c6",
   "metadata": {},
   "outputs": [],
   "source": [
    "class Smoothie:\n",
    "    def __init__(self,ingredients):\n",
    "        self.ingredients = ingredients\n",
    "        self.d = { \"Strawberries\" : \"$1.50\" , \"Banana\" : \"$0.50\" , \"Mango\" : \"$2.50\" ,\"Blueberries\" : \"$1.00\" , \"Raspberries\" : \"$1.00\" ,\"Apple\" : \"$1.75\" ,\"Pineapple\" : \"$3.50\"}\n",
    "    \n",
    "    def get_cost(self):\n",
    "        cost = 0\n",
    "        for i in self.ingredients:\n",
    "            a = self.d[i]\n",
    "            cost += float(a[1:])\n",
    "        return \"$\"+ str(cost)\n",
    "     \n",
    "    def get_price(self):\n",
    "        return \"$\" + str(float(self.get_cost()[1:]) + 1.5*float(self.get_cost()[1:]))\n",
    "    def get_name(self):\n",
    "        s = \"\"\n",
    "        for i in range(len(self.ingredients)):\n",
    "            if self.ingredients[i][-1] == \"s\":\n",
    "                s += self.ingredients[i].replace(\"ies\",\"y \")\n",
    "            elif self.ingredients[i][-1] != \"s\":\n",
    "                s += self.ingredients[i]\n",
    "        if self.ingredients[0][-1] == \"s\":\n",
    "            s += \" Fusion\"\n",
    "        else:\n",
    "            s += \" Smoothie\"\n",
    "        return s\n",
    "        \n",
    "        \n",
    "    "
   ]
  },
  {
   "cell_type": "code",
   "execution_count": 98,
   "id": "52e69334",
   "metadata": {},
   "outputs": [
    {
     "data": {
      "text/plain": [
       "['Banana']"
      ]
     },
     "execution_count": 98,
     "metadata": {},
     "output_type": "execute_result"
    }
   ],
   "source": [
    "s1 = Smoothie([\"Banana\"])\n",
    "s1.ingredients "
   ]
  },
  {
   "cell_type": "code",
   "execution_count": 99,
   "id": "c49be458",
   "metadata": {},
   "outputs": [
    {
     "data": {
      "text/plain": [
       "'$0.5'"
      ]
     },
     "execution_count": 99,
     "metadata": {},
     "output_type": "execute_result"
    }
   ],
   "source": [
    "s1.get_cost()"
   ]
  },
  {
   "cell_type": "code",
   "execution_count": 100,
   "id": "e2ea6c04",
   "metadata": {},
   "outputs": [
    {
     "data": {
      "text/plain": [
       "'$1.25'"
      ]
     },
     "execution_count": 100,
     "metadata": {},
     "output_type": "execute_result"
    }
   ],
   "source": [
    "s1.get_price()"
   ]
  },
  {
   "cell_type": "code",
   "execution_count": 101,
   "id": "8a507213",
   "metadata": {},
   "outputs": [
    {
     "data": {
      "text/plain": [
       "'Banana Smoothie'"
      ]
     },
     "execution_count": 101,
     "metadata": {},
     "output_type": "execute_result"
    }
   ],
   "source": [
    "s1.get_name()"
   ]
  },
  {
   "cell_type": "code",
   "execution_count": 102,
   "id": "15ba37e8",
   "metadata": {},
   "outputs": [],
   "source": [
    "s2 = Smoothie([\"Raspberries\", \"Strawberries\", \"Blueberries\"])"
   ]
  },
  {
   "cell_type": "code",
   "execution_count": 103,
   "id": "54ac78b3",
   "metadata": {},
   "outputs": [
    {
     "data": {
      "text/plain": [
       "['Raspberries', 'Strawberries', 'Blueberries']"
      ]
     },
     "execution_count": 103,
     "metadata": {},
     "output_type": "execute_result"
    }
   ],
   "source": [
    "s2.ingredients"
   ]
  },
  {
   "cell_type": "code",
   "execution_count": 104,
   "id": "8e0d492e",
   "metadata": {},
   "outputs": [
    {
     "data": {
      "text/plain": [
       "'$3.5'"
      ]
     },
     "execution_count": 104,
     "metadata": {},
     "output_type": "execute_result"
    }
   ],
   "source": [
    "s2.get_cost() "
   ]
  },
  {
   "cell_type": "code",
   "execution_count": 105,
   "id": "db98a297",
   "metadata": {},
   "outputs": [
    {
     "data": {
      "text/plain": [
       "'$8.75'"
      ]
     },
     "execution_count": 105,
     "metadata": {},
     "output_type": "execute_result"
    }
   ],
   "source": [
    "s2.get_price() "
   ]
  },
  {
   "cell_type": "code",
   "execution_count": 106,
   "id": "b337828f",
   "metadata": {},
   "outputs": [
    {
     "data": {
      "text/plain": [
       "'Raspberry Strawberry Blueberry  Fusion'"
      ]
     },
     "execution_count": 106,
     "metadata": {},
     "output_type": "execute_result"
    }
   ],
   "source": [
    "s2.get_name()"
   ]
  },
  {
   "cell_type": "markdown",
   "id": "2f3e9a5f",
   "metadata": {},
   "source": [
    "# Question 2. \n",
    ">Your task is to write a program which allows teachers to create a multiple choice test in a class called Testpaper and to be also able to assign a minimum pass mark. The testpaper's subject should also be included. The attributes are in the following order:\n",
    "\n",
    ">  1. subject\n",
    ">  2. markscheme\n",
    ">  3. pass_mark\n",
    "\n",
    ">As well as that, we need to create student objects to take the test itself! Create another class called Student and do the following:\n",
    "\n",
    ">  - Create an attribute called tests_taken and set the default as 'No tests taken'.\n",
    "\n",
    "> - Make a method called take_test(), which takes in the testpaper object they are completing and the student's answers. Compare what they wrote to the mark scheme, and append to the/create a dictionary assigned to tests_taken in the way as shown in the point below.\n",
    "\n",
    "> - Each key in the dictionary should be the testpaper subject and each value should be a string in the format seen in the examples below (whether or not the student has failed, and their percentage in brackets).\n",
    "\n",
    ">Examples\n",
    "\n",
    ">paper1 = Testpaper(\"Maths\", [\"1A\", \"2C\", \"3D\", \"4A\", \"5A\"], \"60%\")\n",
    "\n",
    ">paper2 = Testpaper(\"Chemistry\", [\"1C\", \"2C\", \"3D\", \"4A\"], \"75%\")\n",
    "\n",
    ">paper3 = Testpaper(\"Computing\", [\"1D\", \"2C\", \"3C\", \"4B\", \"5D\", \"6C\", \"7A\"], \"75%\")\n",
    "\n",
    ">student1 = Student()\n",
    "\n",
    ">student2 = Student()\n",
    "\n",
    ">student1.tests_taken ➞ \"No tests taken\"\n",
    "\n",
    ">student1.take_test(paper1, [\"1A\", \"2D\", \"3D\", \"4A\", \"5A\"])\n",
    "\n",
    ">student1.tests_taken ➞ {\"Maths\" : \"Passed! (80%)\"}\n",
    "\n",
    ">student2.take_test(paper2, [\"1C\", \"2D\", \"3A\", \"4C\"])\n",
    "\n",
    ">student2.take_test(paper3, [\"1A\", \"2C\", \"3A\", \"4C\", \"5D\", \"6C\", \"7B\"])\n",
    "\n",
    ">student2.tests_taken ➞ {\"Chemistry\" : \"Failed! (25%)\", \"Computing\" : \"Failed! (43%)\"}\n",
    "\n"
   ]
  },
  {
   "cell_type": "code",
   "execution_count": 172,
   "id": "86c18c6d",
   "metadata": {},
   "outputs": [],
   "source": [
    "class  Testpaper:\n",
    "    def __init__(self,subject, markscheme , pass_mark):\n",
    "        self.subjects = subject\n",
    "        self.markscheme = markscheme\n",
    "        self.pass_mark = pass_mark\n",
    "    \n",
    "class Student:\n",
    "    def __init__(self,tests_taken = 'No tests taken',d={}):\n",
    "        self.tests_taken = tests_taken\n",
    "        self.d = {}\n",
    "    def take_test(self,testpaper_object,student_answers):\n",
    "        count = 0\n",
    "        for i in student_answers:\n",
    "            if i in testpaper_object.markscheme:\n",
    "                count += 1\n",
    "        if (count/len(student_answers))*100 > float(testpaper_object.pass_mark[:-1]):\n",
    "            self.d[testpaper_object.subjects] = f\"Passed! ({round((count/len(student_answers))*100)}%)\"\n",
    "        else:\n",
    "            self.d[testpaper_object.subjects] = f\"Failed! ({round((count/len(student_answers))*100)}%)\"\n",
    "            \n",
    "        self.tests_taken = self.d\n",
    "\n",
    "    "
   ]
  },
  {
   "cell_type": "code",
   "execution_count": 173,
   "id": "84e6b865",
   "metadata": {},
   "outputs": [],
   "source": [
    "paper1 = Testpaper(\"Maths\", [\"1A\", \"2C\", \"3D\", \"4A\", \"5A\"], \"60%\")\n",
    "\n",
    "paper2 = Testpaper(\"Chemistry\", [\"1C\", \"2C\", \"3D\", \"4A\"], \"75%\")\n",
    "\n",
    "paper3 = Testpaper(\"Computing\", [\"1D\", \"2C\", \"3C\", \"4B\", \"5D\", \"6C\", \"7A\"], \"75%\")\n",
    "\n",
    "student1 = Student()\n",
    "\n",
    "student2 = Student()"
   ]
  },
  {
   "cell_type": "code",
   "execution_count": 174,
   "id": "a8ec0dad",
   "metadata": {},
   "outputs": [
    {
     "data": {
      "text/plain": [
       "'No tests taken'"
      ]
     },
     "execution_count": 174,
     "metadata": {},
     "output_type": "execute_result"
    }
   ],
   "source": [
    "student1.tests_taken"
   ]
  },
  {
   "cell_type": "code",
   "execution_count": 175,
   "id": "77e83ad7",
   "metadata": {},
   "outputs": [],
   "source": [
    "student1.take_test(paper1, [\"1A\", \"2D\", \"3D\", \"4A\", \"5A\"])"
   ]
  },
  {
   "cell_type": "code",
   "execution_count": 176,
   "id": "e48c86c6",
   "metadata": {},
   "outputs": [
    {
     "data": {
      "text/plain": [
       "{'Maths': 'Passed! (80%)'}"
      ]
     },
     "execution_count": 176,
     "metadata": {},
     "output_type": "execute_result"
    }
   ],
   "source": [
    "student1.tests_taken"
   ]
  },
  {
   "cell_type": "code",
   "execution_count": 177,
   "id": "2a7e231e",
   "metadata": {},
   "outputs": [
    {
     "data": {
      "text/plain": [
       "{'Chemistry': 'Failed! (25%)', 'Computing': 'Failed! (43%)'}"
      ]
     },
     "execution_count": 177,
     "metadata": {},
     "output_type": "execute_result"
    }
   ],
   "source": [
    "student2.take_test(paper2, [\"1C\", \"2D\", \"3A\", \"4C\"])\n",
    "\n",
    "student2.take_test(paper3, [\"1A\", \"2C\", \"3A\", \"4C\", \"5D\", \"6C\", \"7B\"])\n",
    "\n",
    "student2.tests_taken"
   ]
  },
  {
   "cell_type": "code",
   "execution_count": null,
   "id": "dc7dc638",
   "metadata": {},
   "outputs": [],
   "source": []
  },
  {
   "cell_type": "code",
   "execution_count": null,
   "id": "a94272a9",
   "metadata": {},
   "outputs": [],
   "source": []
  },
  {
   "cell_type": "markdown",
   "id": "287d4e55",
   "metadata": {},
   "source": [
    "# Question 3. \n",
    ">Due to unforseen circumstances in Suburbia, the trains will be delayed by a further 10 minutes.\n",
    "\n",
    ">Create a function that will help to plan out and manage these delays! Create a function called manage_delays that does the following:\n",
    "\n",
    ">   - Parameters will be the train object, a destination and number of minutes the delay is.\n",
    "\n",
    "> - Increment to the train object's expected_time by the delay, if the destination given is in the train object's destinations.\n",
    "\n",
    ">Examples\n",
    "\n",
    ">trains = [\n",
    "  Train([\"Townsville\", \"Suburbia\", \"Urbantska\"], \"13:04\"),\n",
    "  Train([\"Farmsdale\", \"Suburbia\", \"Lakeside Valley\"], \"13:20\"),\n",
    "  Train([\"Suburbia\", \"Townsville\", \"Lakeside Valley\"], \"13:22\")\n",
    "]\n",
    "\n",
    ">for t in trains:\n",
    ">>    manage_delays(t, \"Lakeside Valley\", 60)\n",
    "\n",
    ">trains[0].expected_time ➞ \"13:04\"\n",
    "\n",
    ">trains[1].expected_time ➞ \"14:20\"\n",
    "\n",
    ">trains[2].expected_time ➞ \"14:22\"\n",
    "\n"
   ]
  },
  {
   "cell_type": "code",
   "execution_count": 195,
   "id": "13bafff2",
   "metadata": {},
   "outputs": [],
   "source": [
    "class Train:\n",
    "    def __init__(self,destinations,expected_time):\n",
    "        self.destinations = destinations\n",
    "        self.expected_time = expected_time\n",
    "\n",
    "def manage_delays(train_object, destination, num_of_min_delay):\n",
    "    if destination in train_object.destinations:\n",
    "        hrs , mins = divmod(num_of_min_delay,60) \n",
    "        t = train_object.expected_time.split(\":\")\n",
    "        train_object.expected_time = str(int(t[0])+hrs) + \":\" + str(int(t[1])+mins)\n",
    "\n"
   ]
  },
  {
   "cell_type": "code",
   "execution_count": 196,
   "id": "07ca5129",
   "metadata": {},
   "outputs": [],
   "source": [
    "trains = [ Train([\"Townsville\", \"Suburbia\", \"Urbantska\"], \"13:04\"), Train([\"Farmsdale\", \"Suburbia\", \"Lakeside Valley\"], \"13:20\"), Train([\"Suburbia\", \"Townsville\", \"Lakeside Valley\"], \"13:22\") ]"
   ]
  },
  {
   "cell_type": "code",
   "execution_count": 197,
   "id": "8e9607e0",
   "metadata": {},
   "outputs": [],
   "source": [
    "for t in trains:\n",
    "    manage_delays(t, \"Lakeside Valley\", 60)"
   ]
  },
  {
   "cell_type": "code",
   "execution_count": 198,
   "id": "d4a8ce04",
   "metadata": {},
   "outputs": [
    {
     "data": {
      "text/plain": [
       "'13:04'"
      ]
     },
     "execution_count": 198,
     "metadata": {},
     "output_type": "execute_result"
    }
   ],
   "source": [
    "trains[0].expected_time"
   ]
  },
  {
   "cell_type": "code",
   "execution_count": 199,
   "id": "edb5c7c8",
   "metadata": {},
   "outputs": [
    {
     "data": {
      "text/plain": [
       "'14:20'"
      ]
     },
     "execution_count": 199,
     "metadata": {},
     "output_type": "execute_result"
    }
   ],
   "source": [
    "trains[1].expected_time"
   ]
  },
  {
   "cell_type": "code",
   "execution_count": 200,
   "id": "1585ccd9",
   "metadata": {},
   "outputs": [
    {
     "data": {
      "text/plain": [
       "'14:22'"
      ]
     },
     "execution_count": 200,
     "metadata": {},
     "output_type": "execute_result"
    }
   ],
   "source": [
    "trains[2].expected_time"
   ]
  },
  {
   "cell_type": "markdown",
   "id": "21ad9936",
   "metadata": {},
   "source": [
    "# Question 4. \n",
    ">Ted works as a computer programmer at Minecraft Inc. His boss has just given him an important assignment to update the code for the minecart tracks by the end of April. However, he has recently had to self-isolate due to Corvid-19 and has left the code for the tracks BACK AT WORK!! He has the shorthand for the tracks he's supposed to look at, and where the carts are suppost to end up, but not the actual code.\n",
    "\n",
    ">He knows that:\n",
    "\n",
    ">  1. \"-->\" = \"Speed-Up Track\" ⁠— If a minecart interacts with this track, it's velocity increases by 2.67 BPS unless it's at its maximum speed of 8 BPS.\n",
    "\n",
    ">2. \"<-->\" = \"Powered Track\" ⁠— If a minecart interacts with this track, it's velocity remains the same.\n",
    "\n",
    ">3. \"<--\" = \"Slow-Down Track\" ⁠— If a minecart interacts with this track, it's velocity decreases by 2.67 BPS unless it's velocity equals 0, at which point it stops.\n",
    "\n",
    ">4. \"---\" = \"Unpowered Track\" ⁠— If a minecart interacts with this track, it's velocity decreases by 1 BPS unless it's velocity equals 0, at which point it stops.\n",
    "\n",
    "> Help Ted by writing a class for the tracks that interact with the provided Minecart class as shown above. And then write a function that will take a list of the shorthand tracks and:\n",
    "\n",
    ">   - If the Minecart reaches the last peice of Track, return True.\n",
    "\n",
    "> - Else return the index of the Track where the Minecart stops.\n",
    "\n",
    ">Examples\n",
    "\n",
    ">mine_run([\"-->\", \"-->\", \"-->\", \"<--\", \"<--\", \"<--\"]) ➞ True\n",
    "\n",
    ">mine_run([\"-->\", \"<--\", \"-->\", \"-->\", \"<-->\", \"---\"]) ➞ 1\n",
    "\n"
   ]
  },
  {
   "cell_type": "code",
   "execution_count": 204,
   "id": "80ce89ff",
   "metadata": {},
   "outputs": [],
   "source": [
    "def mine_run(l):\n",
    "   \n",
    "    Speed_Up_Track = 2.67    # \"-->\" unless it's at its maximum speed of 8 BPS\n",
    "    Powered_Track = 0         # \"<-->\" \n",
    "    Slow_Down_Track = 2.67   # \"<--\" unless it's velocity equals 0\n",
    "    Unpowered_Track = -1      # \"--\" unless it's velocity equals 0\n",
    "    velocity = 0\n",
    "    for i in range(len(l)):\n",
    "        if l[i] ==  \"-->\" and velocity != 8:\n",
    "            velocity += Speed_Up_Track\n",
    "        elif l[i] ==  \"<-->\" and velocity != 0:\n",
    "            velocity += Powered_Track\n",
    "        elif l[i] ==  \"<--\" and velocity != 0:\n",
    "            velocity -= Slow_Down_Track\n",
    "            if velocity == 0 and i != len(l)-1:\n",
    "                return i\n",
    "        elif l[i] ==  \"---\" and velocity != 0:\n",
    "            velocity -= Unpowered_Track\n",
    "            if velocity == 0 and i != len(l)-1:\n",
    "                return i\n",
    "    else:\n",
    "        return True   "
   ]
  },
  {
   "cell_type": "code",
   "execution_count": 205,
   "id": "8faf41c3",
   "metadata": {},
   "outputs": [
    {
     "data": {
      "text/plain": [
       "True"
      ]
     },
     "execution_count": 205,
     "metadata": {},
     "output_type": "execute_result"
    }
   ],
   "source": [
    "mine_run([\"-->\", \"-->\", \"-->\", \"<--\", \"<--\", \"<--\"])"
   ]
  },
  {
   "cell_type": "code",
   "execution_count": 206,
   "id": "105d8edc",
   "metadata": {},
   "outputs": [
    {
     "data": {
      "text/plain": [
       "1"
      ]
     },
     "execution_count": 206,
     "metadata": {},
     "output_type": "execute_result"
    }
   ],
   "source": [
    "mine_run([\"-->\", \"<--\", \"-->\", \"-->\", \"<-->\", \"---\"])"
   ]
  },
  {
   "cell_type": "markdown",
   "id": "12a86318",
   "metadata": {},
   "source": [
    "# Question 5. \n",
    ">Make a Rectangle class with four parameters, an x, a y (representing the top-left corner of the rectangle), a width and a height exclusively in that order.\n",
    "\n",
    ">Lastly, make a function intersecting that takes two Rectangle objects and returns True if those objects are intersecting (colliding), else return False.\n",
    "\n",
    ">Examples\n",
    "\n",
    ">a = Rectangle(10, 20, 100, 20)\n",
    "\n",
    ">b = Rectangle(10, 40, 15, 20)\n",
    "\n",
    ">c = Rectangle(50, 50, 20, 30)\n",
    "\n",
    ">intersecting(a, b) ➞ True\n",
    "\n",
    ">intersecting(a, c) ➞ False\n",
    "\n",
    ">intersecting(b, c) ➞ True\n",
    "\n"
   ]
  },
  {
   "cell_type": "code",
   "execution_count": 50,
   "id": "027b05d0",
   "metadata": {},
   "outputs": [],
   "source": [
    "class Rectangle:\n",
    "    def __init__(self,x,y,width,height):\n",
    "        self.x = x\n",
    "        self.y = y\n",
    "        self.w = width\n",
    "        self.h = height\n"
   ]
  },
  {
   "cell_type": "code",
   "execution_count": 66,
   "id": "fa4db38d",
   "metadata": {},
   "outputs": [],
   "source": [
    "def intersecting(rect1,rect2):\n",
    " \n",
    "    delta_x = max(rect1.x, rect2.x) - min(rect1.x+rect1.w , rect2.x+rect2.w)\n",
    "    delta_y =  max(rect1.y, rect2.y) - min(rect1.y+rect1.h , rect2.y+rect2.h)\n",
    "\n",
    "    overlap = delta_x * delta_y\n",
    "    union = rect1.w * rect1.h + rect1.w * rect1.h - overlap\n",
    "    \n",
    "    IOU = overlap / union\n",
    "    if IOU >= 0:\n",
    "        return True\n",
    "    else:\n",
    "        return False"
   ]
  },
  {
   "cell_type": "code",
   "execution_count": 67,
   "id": "7ea25266",
   "metadata": {},
   "outputs": [],
   "source": [
    "a = Rectangle(10, 20, 100, 20)\n",
    "\n",
    "b = Rectangle(10, 40, 15, 20)\n",
    "\n",
    "c = Rectangle(50, 50, 20, 30)\n"
   ]
  },
  {
   "cell_type": "code",
   "execution_count": 68,
   "id": "e1745acc",
   "metadata": {},
   "outputs": [
    {
     "data": {
      "text/plain": [
       "True"
      ]
     },
     "execution_count": 68,
     "metadata": {},
     "output_type": "execute_result"
    }
   ],
   "source": [
    "intersecting(a, b)  "
   ]
  },
  {
   "cell_type": "code",
   "execution_count": 69,
   "id": "73428cde",
   "metadata": {},
   "outputs": [
    {
     "data": {
      "text/plain": [
       "False"
      ]
     },
     "execution_count": 69,
     "metadata": {},
     "output_type": "execute_result"
    }
   ],
   "source": [
    "intersecting(a, c) "
   ]
  },
  {
   "cell_type": "code",
   "execution_count": 65,
   "id": "6578c157",
   "metadata": {},
   "outputs": [
    {
     "data": {
      "text/plain": [
       "False"
      ]
     },
     "execution_count": 65,
     "metadata": {},
     "output_type": "execute_result"
    }
   ],
   "source": [
    "intersecting(b, c)"
   ]
  },
  {
   "cell_type": "code",
   "execution_count": null,
   "id": "8ba462dd",
   "metadata": {},
   "outputs": [],
   "source": []
  }
 ],
 "metadata": {
  "kernelspec": {
   "display_name": "Python [conda env:.conda-gputest] *",
   "language": "python",
   "name": "conda-env-.conda-gputest-py"
  },
  "language_info": {
   "codemirror_mode": {
    "name": "ipython",
    "version": 3
   },
   "file_extension": ".py",
   "mimetype": "text/x-python",
   "name": "python",
   "nbconvert_exporter": "python",
   "pygments_lexer": "ipython3",
   "version": "3.6.12"
  }
 },
 "nbformat": 4,
 "nbformat_minor": 5
}
