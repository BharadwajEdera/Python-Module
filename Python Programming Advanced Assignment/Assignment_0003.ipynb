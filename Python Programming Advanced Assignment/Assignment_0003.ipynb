{
 "cells": [
  {
   "cell_type": "markdown",
   "id": "957d5e34",
   "metadata": {},
   "source": [
    "### Question 1. \n",
    ">Create a function to perform basic arithmetic operations that includes addition, subtraction, multiplication and division on a string number (e.g. \"12 + 24\" or \"23 - 21\" or \"12 // 12\" or \"12 * 21\").\n",
    "\n",
    ">Here, we have 1 followed by a space, operator followed by another space and 2. For the challenge, we are going to have only two numbers between 1 valid operator. The return value should be a number.\n",
    "\n",
    ">eval() is not allowed. In case of division, whenever the second number equals \"0\" return -1.\n",
    "\n",
    ">For example:\n",
    "\n",
    ">\"15 // 0\"  ➞ -1\n",
    "\n",
    ">Examples\n",
    "\n",
    ">arithmetic_operation(\"12 + 12\") ➞ 24 // 12 + 12 = 24\n",
    "\n",
    ">arithmetic_operation(\"12 - 12\") ➞ 24 // 12 - 12 = 0\n",
    "\n",
    ">arithmetic_operation(\"12 * 12\") ➞ 144 // 12 * 12 = 144\n",
    "\n",
    ">arithmetic_operation(\"12 // 0\") ➞ -1 // 12 / 0 = -1\n",
    "\n"
   ]
  },
  {
   "cell_type": "code",
   "execution_count": 51,
   "id": "85afc86c",
   "metadata": {},
   "outputs": [],
   "source": [
    "def arithmetic_operation(s):\n",
    "    l = s.split(\" \")\n",
    "    r = 0\n",
    "    if l[1] == '+':\n",
    "        r = int(l[0]) + int(l[2])\n",
    "    elif l[1] == '-':\n",
    "        r = int(l[0]) - int(l[2])\n",
    "    elif l[1] == '*':\n",
    "        r = int(l[0]) * int(l[2])\n",
    "    elif l[1] == '/':\n",
    "        if l[2] == 0:\n",
    "            r = -1\n",
    "        else:\n",
    "            r = int(l[0]) / int(l[2])\n",
    "    return r"
   ]
  },
  {
   "cell_type": "code",
   "execution_count": 53,
   "id": "0daf731e",
   "metadata": {},
   "outputs": [
    {
     "name": "stdout",
     "output_type": "stream",
     "text": [
      "['12', '+', '12']\n"
     ]
    },
    {
     "data": {
      "text/plain": [
       "24"
      ]
     },
     "execution_count": 53,
     "metadata": {},
     "output_type": "execute_result"
    }
   ],
   "source": [
    "arithmetic_operation(\"12 + 12\")"
   ]
  },
  {
   "cell_type": "code",
   "execution_count": 54,
   "id": "b5941500",
   "metadata": {},
   "outputs": [
    {
     "name": "stdout",
     "output_type": "stream",
     "text": [
      "['12', '-', '12']\n"
     ]
    },
    {
     "data": {
      "text/plain": [
       "0"
      ]
     },
     "execution_count": 54,
     "metadata": {},
     "output_type": "execute_result"
    }
   ],
   "source": [
    "arithmetic_operation(\"12 - 12\")"
   ]
  },
  {
   "cell_type": "code",
   "execution_count": 55,
   "id": "492eb46d",
   "metadata": {},
   "outputs": [
    {
     "name": "stdout",
     "output_type": "stream",
     "text": [
      "['12', '*', '12']\n"
     ]
    },
    {
     "data": {
      "text/plain": [
       "144"
      ]
     },
     "execution_count": 55,
     "metadata": {},
     "output_type": "execute_result"
    }
   ],
   "source": [
    "arithmetic_operation(\"12 * 12\")"
   ]
  },
  {
   "cell_type": "code",
   "execution_count": 56,
   "id": "ad256af2",
   "metadata": {},
   "outputs": [
    {
     "name": "stdout",
     "output_type": "stream",
     "text": [
      "['12', '//', '0']\n"
     ]
    },
    {
     "data": {
      "text/plain": [
       "0"
      ]
     },
     "execution_count": 56,
     "metadata": {},
     "output_type": "execute_result"
    }
   ],
   "source": [
    "arithmetic_operation(\"12 // 0\")"
   ]
  },
  {
   "cell_type": "markdown",
   "id": "e7f3caa3",
   "metadata": {},
   "source": [
    "### Question 2. \n",
    ">Write a function that takes the coordinates of three points in the form of a 2d array and returns the perimeter of the triangle. The given points are the vertices of a triangle on a two-dimensional plane.\n",
    "\n",
    ">Examples\n",
    "\n",
    ">perimeter( [ [15, 7], [5, 22], [11, 1] ] ) ➞ 47.08\n",
    "\n",
    ">perimeter( [ [0, 0], [0, 1], [1, 0] ] ) ➞ 3.42\n",
    "\n",
    ">perimeter( [ [-10, -10], [10, 10 ], [-10, 10] ] ) ➞ 68.28\n",
    "\n"
   ]
  },
  {
   "cell_type": "code",
   "execution_count": 6,
   "id": "2069df90",
   "metadata": {},
   "outputs": [],
   "source": [
    "def perimeter(l):\n",
    "    from scipy.spatial import distance as dist\n",
    "    A = dist.euclidean(l[0], l[1])\n",
    "    B = dist.euclidean(l[1], l[2])\n",
    "    C = dist.euclidean(l[2], l[0])\n",
    "    return round(A+B+C , 2)\n",
    "    "
   ]
  },
  {
   "cell_type": "code",
   "execution_count": 7,
   "id": "9dff7e41",
   "metadata": {},
   "outputs": [
    {
     "data": {
      "text/plain": [
       "47.08"
      ]
     },
     "execution_count": 7,
     "metadata": {},
     "output_type": "execute_result"
    }
   ],
   "source": [
    "perimeter( [ [15, 7], [5, 22], [11, 1] ] )"
   ]
  },
  {
   "cell_type": "code",
   "execution_count": 8,
   "id": "88cf8692",
   "metadata": {},
   "outputs": [
    {
     "data": {
      "text/plain": [
       "3.41"
      ]
     },
     "execution_count": 8,
     "metadata": {},
     "output_type": "execute_result"
    }
   ],
   "source": [
    "perimeter( [ [0, 0], [0, 1], [1, 0] ] )"
   ]
  },
  {
   "cell_type": "code",
   "execution_count": 9,
   "id": "4b09e954",
   "metadata": {},
   "outputs": [
    {
     "data": {
      "text/plain": [
       "68.28"
      ]
     },
     "execution_count": 9,
     "metadata": {},
     "output_type": "execute_result"
    }
   ],
   "source": [
    "perimeter( [ [-10, -10], [10, 10 ], [-10, 10] ] )"
   ]
  },
  {
   "cell_type": "markdown",
   "id": "f7a8e550",
   "metadata": {},
   "source": [
    "### Question 3. \n",
    ">A city skyline can be represented as a 2-D list with 1s representing buildings. In the example below, the height of the tallest building is 4 (second-most right column).\n",
    "\n",
    ">[[0, 0, 0, 0, 0, 0],\n",
    "[0, 0, 0, 0, 1, 0],\n",
    "[0, 0, 1, 0, 1, 0],\n",
    "[0, 1, 1, 1, 1, 0],\n",
    "[1, 1, 1, 1, 1, 1]]\n",
    "\n",
    ">Create a function that takes a skyline (2-D list of 0's and 1's) and returns the height of the tallest skyscraper.\n",
    "\n",
    ">Examples\n",
    "\n",
    ">tallest_skyscraper([\n",
    "  [0, 0, 0, 0],\n",
    "  [0, 1, 0, 0],\n",
    "  [0, 1, 1, 0],\n",
    "  [1, 1, 1, 1]\n",
    "]) ➞ 3\n",
    "\n",
    ">tallest_skyscraper([\n",
    "  [0, 1, 0, 0],\n",
    "  [0, 1, 0, 0],\n",
    "  [0, 1, 1, 0],\n",
    "  [1, 1, 1, 1]\n",
    "]) ➞ 4\n",
    "\n",
    ">tallest_skyscraper([\n",
    "  [0, 0, 0, 0],\n",
    "  [0, 0, 0, 0],\n",
    "  [1, 1, 1, 0],\n",
    "  [1, 1, 1, 1]\n",
    "]) ➞ 2\n",
    "\n"
   ]
  },
  {
   "cell_type": "code",
   "execution_count": 23,
   "id": "53f2d119",
   "metadata": {},
   "outputs": [],
   "source": [
    "def tallest_skyscraper(l):\n",
    "    import numpy as np\n",
    "    k = np.sum(np.array(l) , axis = 0)\n",
    "    return k.max()    \n",
    "    "
   ]
  },
  {
   "cell_type": "code",
   "execution_count": 24,
   "id": "a9d85688",
   "metadata": {},
   "outputs": [
    {
     "data": {
      "text/plain": [
       "3"
      ]
     },
     "execution_count": 24,
     "metadata": {},
     "output_type": "execute_result"
    }
   ],
   "source": [
    "tallest_skyscraper([ [0, 0, 0, 0], [0, 1, 0, 0], [0, 1, 1, 0], [1, 1, 1, 1] ])\n"
   ]
  },
  {
   "cell_type": "code",
   "execution_count": 25,
   "id": "7eba8b18",
   "metadata": {},
   "outputs": [
    {
     "data": {
      "text/plain": [
       "4"
      ]
     },
     "execution_count": 25,
     "metadata": {},
     "output_type": "execute_result"
    }
   ],
   "source": [
    "tallest_skyscraper([ [0, 1, 0, 0], [0, 1, 0, 0], [0, 1, 1, 0], [1, 1, 1, 1] ])"
   ]
  },
  {
   "cell_type": "code",
   "execution_count": 26,
   "id": "e3bdb319",
   "metadata": {},
   "outputs": [
    {
     "data": {
      "text/plain": [
       "2"
      ]
     },
     "execution_count": 26,
     "metadata": {},
     "output_type": "execute_result"
    }
   ],
   "source": [
    "tallest_skyscraper([ [0, 0, 0, 0], [0, 0, 0, 0], [1, 1, 1, 0], [1, 1, 1, 1] ])"
   ]
  },
  {
   "cell_type": "markdown",
   "id": "a4ffe762",
   "metadata": {},
   "source": [
    "### Question 4. \n",
    ">A financial institution provides professional services to banks and claims charges from the customers based on the number of man-days provided. Internally, it has set a scheme to motivate and reward staff to meet and exceed targeted billable utilization and revenues by paying a bonus for each day claimed from customers in excess of a threshold target.\n",
    "\n",
    ">This quarterly scheme is calculated with a threshold target of 32 days per quarter, and the incentive payment for each billable day in excess of such threshold target is shown as follows:\n",
    "\n",
    ">Days\t              :::::               Bonus\n",
    "\n",
    ">0 to 32 days\t      :::::             Zero\n",
    "\n",
    ">33 to 40 days\t   :::::      SGD$325 per billable day\n",
    "\n",
    ">41 to 48 days\t  :::::       SGD$550 per billable day\n",
    "\n",
    ">Greater than 48 days  :::::    SGD$600 per billable day\n",
    "\n",
    ">Please note that incentive payment is calculated progressively. As an example, if an employee reached total billable days of 45 in a quarter, his/her incentive payment is computed as follows:\n",
    "\n",
    ">32\\*0 + 8\\*325 + 5\\*550 = 5350\n",
    "\n",
    ">Write a function to read the billable days of an employee and return the bonus he/she has obtained in that quarter.\n",
    "\n",
    ">Examples\n",
    "\n",
    ">bonus(15) ➞ 0\n",
    "\n",
    ">bonus(37) ➞ 1625\n",
    "\n",
    ">bonus(50) ➞ 8200\n",
    "\n"
   ]
  },
  {
   "cell_type": "code",
   "execution_count": 15,
   "id": "0bb533b5",
   "metadata": {},
   "outputs": [],
   "source": [
    "def bonus(x):\n",
    "    r = 0\n",
    "    if x > 48:\n",
    "        r += (x-48)*600\n",
    "        x = 48\n",
    "    if x in range(41,49):\n",
    "        r += (x - 40)*550\n",
    "        x = 40\n",
    "    if x in range(33,41):\n",
    "        r += (x - 32)*325\n",
    "        x = 32\n",
    "    if x in range(0,33):\n",
    "        r +=0\n",
    "    return r\n",
    "    "
   ]
  },
  {
   "cell_type": "code",
   "execution_count": 16,
   "id": "838901c4",
   "metadata": {},
   "outputs": [
    {
     "data": {
      "text/plain": [
       "0"
      ]
     },
     "execution_count": 16,
     "metadata": {},
     "output_type": "execute_result"
    }
   ],
   "source": [
    "bonus(15)"
   ]
  },
  {
   "cell_type": "code",
   "execution_count": 17,
   "id": "9789e938",
   "metadata": {},
   "outputs": [
    {
     "data": {
      "text/plain": [
       "1625"
      ]
     },
     "execution_count": 17,
     "metadata": {},
     "output_type": "execute_result"
    }
   ],
   "source": [
    "bonus(37)"
   ]
  },
  {
   "cell_type": "code",
   "execution_count": 18,
   "id": "03e626c4",
   "metadata": {},
   "outputs": [
    {
     "data": {
      "text/plain": [
       "8200"
      ]
     },
     "execution_count": 18,
     "metadata": {},
     "output_type": "execute_result"
    }
   ],
   "source": [
    "bonus(50)"
   ]
  },
  {
   "cell_type": "markdown",
   "id": "36d97911",
   "metadata": {},
   "source": [
    "### Question 5.\n",
    ">A number is said to be Disarium if the sum of its digits raised to their respective positions is the number itself.\n",
    "\n",
    ">Create a function that determines whether a number is a Disarium or not.\n",
    "\n",
    ">Examples\n",
    "\n",
    ">is_disarium(75) ➞ False\n",
    "\n",
    "> \\# 7^1 + 5^2 = 7 + 25 = 32\n",
    "\n",
    "> is_disarium(135) ➞ True\n",
    "\n",
    ">\\# 1^1 + 3^2 + 5^3 = 1 + 9 + 125 = 135\n",
    "\n",
    ">is_disarium(544) ➞ False\n",
    "\n",
    ">is_disarium(518) ➞ True\n",
    "\n",
    ">is_disarium(466) ➞ False\n",
    "\n",
    ">is_disarium(8) ➞ True\n"
   ]
  },
  {
   "cell_type": "code",
   "execution_count": 33,
   "id": "31c96e55",
   "metadata": {},
   "outputs": [],
   "source": [
    "def is_disarium(x):\n",
    "    s= str(x)\n",
    "    r = 0\n",
    "    for i in range(1,len(s)+1):\n",
    "        r += int(s[i-1])**i\n",
    "        #print(r)   \n",
    "    if r == x:\n",
    "        return True\n",
    "    \n",
    "    else:\n",
    "        return False\n",
    "        \n",
    "        "
   ]
  },
  {
   "cell_type": "code",
   "execution_count": 34,
   "id": "908f0d5b",
   "metadata": {},
   "outputs": [
    {
     "data": {
      "text/plain": [
       "False"
      ]
     },
     "execution_count": 34,
     "metadata": {},
     "output_type": "execute_result"
    }
   ],
   "source": [
    "is_disarium(75)"
   ]
  },
  {
   "cell_type": "code",
   "execution_count": 35,
   "id": "41bee98c",
   "metadata": {},
   "outputs": [
    {
     "data": {
      "text/plain": [
       "True"
      ]
     },
     "execution_count": 35,
     "metadata": {},
     "output_type": "execute_result"
    }
   ],
   "source": [
    "is_disarium(135)"
   ]
  },
  {
   "cell_type": "code",
   "execution_count": 36,
   "id": "4138cb05",
   "metadata": {},
   "outputs": [
    {
     "data": {
      "text/plain": [
       "False"
      ]
     },
     "execution_count": 36,
     "metadata": {},
     "output_type": "execute_result"
    }
   ],
   "source": [
    "is_disarium(544)"
   ]
  },
  {
   "cell_type": "code",
   "execution_count": 37,
   "id": "fa04d1da",
   "metadata": {},
   "outputs": [
    {
     "data": {
      "text/plain": [
       "True"
      ]
     },
     "execution_count": 37,
     "metadata": {},
     "output_type": "execute_result"
    }
   ],
   "source": [
    "is_disarium(518)"
   ]
  },
  {
   "cell_type": "code",
   "execution_count": 38,
   "id": "7172123c",
   "metadata": {},
   "outputs": [
    {
     "data": {
      "text/plain": [
       "False"
      ]
     },
     "execution_count": 38,
     "metadata": {},
     "output_type": "execute_result"
    }
   ],
   "source": [
    "is_disarium(466)"
   ]
  },
  {
   "cell_type": "code",
   "execution_count": 39,
   "id": "eb868a66",
   "metadata": {},
   "outputs": [
    {
     "data": {
      "text/plain": [
       "True"
      ]
     },
     "execution_count": 39,
     "metadata": {},
     "output_type": "execute_result"
    }
   ],
   "source": [
    "is_disarium(8)"
   ]
  }
 ],
 "metadata": {
  "kernelspec": {
   "display_name": "Python [conda env:.conda-gputest] *",
   "language": "python",
   "name": "conda-env-.conda-gputest-py"
  },
  "language_info": {
   "codemirror_mode": {
    "name": "ipython",
    "version": 3
   },
   "file_extension": ".py",
   "mimetype": "text/x-python",
   "name": "python",
   "nbconvert_exporter": "python",
   "pygments_lexer": "ipython3",
   "version": "3.6.12"
  }
 },
 "nbformat": 4,
 "nbformat_minor": 5
}
