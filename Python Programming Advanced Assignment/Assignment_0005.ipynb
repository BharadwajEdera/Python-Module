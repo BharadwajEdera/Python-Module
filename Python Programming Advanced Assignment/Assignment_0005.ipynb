{
 "cells": [
  {
   "cell_type": "markdown",
   "id": "8df646c8",
   "metadata": {},
   "source": [
    "### Question 1. \n",
    ">Create a function that takes a number n (integer greater than zero) as an argument, and returns 2 if n is odd and 8 if n is even.\n",
    "\n",
    ">You can only use the following arithmetic operators: addition of numbers +, subtraction of numbers -, multiplication of number \\*, division of number /, and exponentiation \\*\\*.\n",
    "\n",
    ">You are not allowed to use any other methods in this challenge (i.e. no if statements, comparison operators, etc).\n",
    "\n",
    ">Examples\n",
    "\n",
    ">f(1) ➞ 2\n",
    "\n",
    ">f(2) ➞ 8\n",
    "\n",
    ">f(3) ➞ 2\n",
    "\n"
   ]
  },
  {
   "cell_type": "code",
   "execution_count": 7,
   "id": "8a6b93aa",
   "metadata": {},
   "outputs": [],
   "source": [
    "def f(n):\n",
    "    l = [8 , 2]\n",
    "    return l[n%2]\n",
    "    "
   ]
  },
  {
   "cell_type": "code",
   "execution_count": 8,
   "id": "0cfb3a14",
   "metadata": {},
   "outputs": [
    {
     "data": {
      "text/plain": [
       "2"
      ]
     },
     "execution_count": 8,
     "metadata": {},
     "output_type": "execute_result"
    }
   ],
   "source": [
    "f(1)"
   ]
  },
  {
   "cell_type": "code",
   "execution_count": 9,
   "id": "665cfd3c",
   "metadata": {},
   "outputs": [
    {
     "data": {
      "text/plain": [
       "8"
      ]
     },
     "execution_count": 9,
     "metadata": {},
     "output_type": "execute_result"
    }
   ],
   "source": [
    "f(2) "
   ]
  },
  {
   "cell_type": "code",
   "execution_count": 10,
   "id": "93b9a53b",
   "metadata": {},
   "outputs": [
    {
     "data": {
      "text/plain": [
       "2"
      ]
     },
     "execution_count": 10,
     "metadata": {},
     "output_type": "execute_result"
    }
   ],
   "source": [
    "f(3)"
   ]
  },
  {
   "cell_type": "markdown",
   "id": "f9edab0e",
   "metadata": {},
   "source": [
    "### Question 2. \n",
    ">Create a function that returns the majority vote in a list. A majority vote is an element that occurs > N/2 times in a list (where N is the length of the list).\n",
    "\n",
    ">Examples\n",
    "\n",
    ">majority_vote([\"A\", \"A\", \"B\"]) ➞ \"A\"\n",
    "\n",
    ">majority_vote([\"A\", \"A\", \"A\", \"B\", \"C\", \"A\"]) ➞ \"A\"\n",
    "\n",
    ">majority_vote([\"A\", \"B\", \"B\", \"A\", \"C\", \"C\"]) ➞ None\n",
    "\n"
   ]
  },
  {
   "cell_type": "code",
   "execution_count": 18,
   "id": "bfb1395f",
   "metadata": {},
   "outputs": [],
   "source": [
    "def majority_vote(l):\n",
    "    for i in set(l):\n",
    "        if l.count(i) > (len(l)/2):\n",
    "            r = i\n",
    "            break\n",
    "        else:\n",
    "            r = \"None\"\n",
    "    \n",
    "    return r"
   ]
  },
  {
   "cell_type": "code",
   "execution_count": 19,
   "id": "a06d497d",
   "metadata": {},
   "outputs": [
    {
     "data": {
      "text/plain": [
       "'A'"
      ]
     },
     "execution_count": 19,
     "metadata": {},
     "output_type": "execute_result"
    }
   ],
   "source": [
    "majority_vote([\"A\", \"A\", \"B\"])"
   ]
  },
  {
   "cell_type": "code",
   "execution_count": 20,
   "id": "08a9d32d",
   "metadata": {},
   "outputs": [
    {
     "data": {
      "text/plain": [
       "'A'"
      ]
     },
     "execution_count": 20,
     "metadata": {},
     "output_type": "execute_result"
    }
   ],
   "source": [
    "majority_vote([\"A\", \"A\", \"A\", \"B\", \"C\", \"A\"])"
   ]
  },
  {
   "cell_type": "code",
   "execution_count": 21,
   "id": "2d33b8f8",
   "metadata": {},
   "outputs": [
    {
     "data": {
      "text/plain": [
       "'None'"
      ]
     },
     "execution_count": 21,
     "metadata": {},
     "output_type": "execute_result"
    }
   ],
   "source": [
    "majority_vote([\"A\", \"B\", \"B\", \"A\", \"C\", \"C\"])"
   ]
  },
  {
   "cell_type": "markdown",
   "id": "4207957b",
   "metadata": {},
   "source": [
    "### Question 3. \n",
    ">Create a function that takes a string txt and censors any word from a given list lst. The text removed must be replaced by the given character char.\n",
    "\n",
    ">Examples\n",
    "\n",
    ">censor_string(\"Today is a Wednesday!\", [\"Today\", \"a\"], \"-\") ➞ \"----- is - Wednesday!\"\n",
    "\n",
    ">censor_string(\"The cow jumped over the moon.\", [\"cow\", \"over\"], \"*\"), \"The *** jumped **** the moon.\")\n",
    "\n",
    ">censor_string(\"Why did the chicken cross the road?\", [\"Did\", \"chicken\", \"road\"], \"*\") ➞ \"Why *** the ******* cross the ****?\"\n",
    "\n",
    "\n"
   ]
  },
  {
   "cell_type": "code",
   "execution_count": 44,
   "id": "99311161",
   "metadata": {},
   "outputs": [],
   "source": [
    "def censor_string(s , l , c):\n",
    "    l = [i.lower() for i in l]\n",
    "    k = s.split(\" \")\n",
    "    for i in range(len(k)):\n",
    "        if k[i] in l:\n",
    "            k[i] = c\n",
    "    return ' '.join(k)"
   ]
  },
  {
   "cell_type": "code",
   "execution_count": 45,
   "id": "5300fb31",
   "metadata": {},
   "outputs": [
    {
     "data": {
      "text/plain": [
       "'Today is - Wednesday!'"
      ]
     },
     "execution_count": 45,
     "metadata": {},
     "output_type": "execute_result"
    }
   ],
   "source": [
    "censor_string(\"Today is a Wednesday!\", [\"Today\", \"a\"], \"-\")"
   ]
  },
  {
   "cell_type": "code",
   "execution_count": 46,
   "id": "94a72151",
   "metadata": {},
   "outputs": [
    {
     "data": {
      "text/plain": [
       "'The * jumped * the moon.'"
      ]
     },
     "execution_count": 46,
     "metadata": {},
     "output_type": "execute_result"
    }
   ],
   "source": [
    "censor_string(\"The cow jumped over the moon.\", [\"cow\", \"over\"], \"*\")"
   ]
  },
  {
   "cell_type": "code",
   "execution_count": 47,
   "id": "6d28a17f",
   "metadata": {},
   "outputs": [
    {
     "data": {
      "text/plain": [
       "'Why * the * cross the road?'"
      ]
     },
     "execution_count": 47,
     "metadata": {},
     "output_type": "execute_result"
    }
   ],
   "source": [
    "censor_string(\"Why did the chicken cross the road?\", [\"Did\", \"chicken\", \"road\"], \"*\")"
   ]
  },
  {
   "cell_type": "markdown",
   "id": "05ccb86d",
   "metadata": {},
   "source": [
    "### Question 4. \n",
    ">In mathematics a Polydivisible Number (or magic number) is a number in a given number base with digits abcde... that has the following properties:\n",
    "\n",
    ">-  Its first digit a is not 0.\n",
    "\n",
    ">- The number formed by its first two digits ab is a multiple of 2.\n",
    "\n",
    ">- The number formed by its first three digits abc is a multiple of 3.\n",
    "\n",
    ">- The number formed by its first four digits abcd is a multiple of 4.\n",
    "\n",
    ">Create a function which takes an integer n and returns True if the given number is a Polydivisible Number and False otherwise.\n",
    "\n",
    ">Examples\n",
    "\n",
    ">is_polydivisible(1232) ➞ True\n",
    "\n",
    ">\\# 1     / 1 = 1\n",
    "\n",
    ">\\# 12    / 2 = 6\n",
    "\n",
    ">\\# 123   / 3 = 41\n",
    "\n",
    ">\\# 1232  / 4 = 308\n",
    "\n",
    ">is_polydivisible(123220 ) ➞ False\n",
    "\n",
    ">\\# 1   / 1 = 1\n",
    "\n",
    ">\\# 12   / 2 = 6\n",
    "\n",
    ">\\# 123   / 3 = 41\n",
    "\n",
    ">\\# 1232   / 4 = 308\n",
    "\n",
    ">\\# 12322   / 5 = 2464.4         # Not a Whole Number\n",
    "\n",
    ">\\# 123220   /6 = 220536.333...  # Not a Whole Number\n",
    "\n"
   ]
  },
  {
   "cell_type": "code",
   "execution_count": 31,
   "id": "8aa1dc89",
   "metadata": {},
   "outputs": [],
   "source": [
    "def is_polydivisible(n):\n",
    "    s = str(n)\n",
    "    r = 0\n",
    "    if int(s[0]) != 0: \n",
    "        for i in range(1,len(s)-1):\n",
    "            if (int(s[:i+1]) % (i+1)) == 0:\n",
    "                continue   \n",
    "            else:\n",
    "                r = 1\n",
    "                break\n",
    "    if r == 1:\n",
    "        return False\n",
    "    else:\n",
    "        return True\n",
    "                \n",
    "            "
   ]
  },
  {
   "cell_type": "code",
   "execution_count": 33,
   "id": "d005a461",
   "metadata": {},
   "outputs": [
    {
     "data": {
      "text/plain": [
       "True"
      ]
     },
     "execution_count": 33,
     "metadata": {},
     "output_type": "execute_result"
    }
   ],
   "source": [
    "is_polydivisible(1232)"
   ]
  },
  {
   "cell_type": "code",
   "execution_count": 34,
   "id": "1cc471ee",
   "metadata": {},
   "outputs": [
    {
     "data": {
      "text/plain": [
       "False"
      ]
     },
     "execution_count": 34,
     "metadata": {},
     "output_type": "execute_result"
    }
   ],
   "source": [
    "is_polydivisible(123220)"
   ]
  },
  {
   "cell_type": "markdown",
   "id": "7214f805",
   "metadata": {},
   "source": [
    "### Question 5. \n",
    ">Create a function that takes a list of numbers and returns the sum of all prime numbers in the list.\n",
    "\n",
    ">Examples\n",
    "\n",
    ">sum_primes([1, 2, 3, 4, 5, 6, 7, 8, 9, 10]) ➞ 17\n",
    "\n",
    ">sum_primes([2, 3, 4, 11, 20, 50, 71]) ➞ 87\n",
    "\n",
    ">sum_primes([]) ➞ None\n",
    "\n"
   ]
  },
  {
   "cell_type": "code",
   "execution_count": 86,
   "id": "4d846183",
   "metadata": {},
   "outputs": [],
   "source": [
    "def sum_primes(l):\n",
    "    r = 0\n",
    "    if len(l) == 0:\n",
    "        return \"None\"\n",
    "    \n",
    "    for num in l:\n",
    "        if num > 1:\n",
    "            for i in range(2,num):\n",
    "                if (num % i) == 0:\n",
    "                    break\n",
    "            else:\n",
    "                r += num\n",
    "    return r     "
   ]
  },
  {
   "cell_type": "code",
   "execution_count": 87,
   "id": "911e83ca",
   "metadata": {},
   "outputs": [
    {
     "data": {
      "text/plain": [
       "17"
      ]
     },
     "execution_count": 87,
     "metadata": {},
     "output_type": "execute_result"
    }
   ],
   "source": [
    "sum_primes([1, 2, 3, 4, 5, 6, 7, 8, 9, 10])"
   ]
  },
  {
   "cell_type": "code",
   "execution_count": 88,
   "id": "f805ecaf",
   "metadata": {},
   "outputs": [
    {
     "data": {
      "text/plain": [
       "87"
      ]
     },
     "execution_count": 88,
     "metadata": {},
     "output_type": "execute_result"
    }
   ],
   "source": [
    "sum_primes([2, 3, 4, 11, 20, 50, 71])"
   ]
  },
  {
   "cell_type": "code",
   "execution_count": 89,
   "id": "cd512145",
   "metadata": {},
   "outputs": [
    {
     "data": {
      "text/plain": [
       "'None'"
      ]
     },
     "execution_count": 89,
     "metadata": {},
     "output_type": "execute_result"
    }
   ],
   "source": [
    "sum_primes([])"
   ]
  }
 ],
 "metadata": {
  "kernelspec": {
   "display_name": "Python [conda env:.conda-gputest] *",
   "language": "python",
   "name": "conda-env-.conda-gputest-py"
  },
  "language_info": {
   "codemirror_mode": {
    "name": "ipython",
    "version": 3
   },
   "file_extension": ".py",
   "mimetype": "text/x-python",
   "name": "python",
   "nbconvert_exporter": "python",
   "pygments_lexer": "ipython3",
   "version": "3.6.12"
  }
 },
 "nbformat": 4,
 "nbformat_minor": 5
}
