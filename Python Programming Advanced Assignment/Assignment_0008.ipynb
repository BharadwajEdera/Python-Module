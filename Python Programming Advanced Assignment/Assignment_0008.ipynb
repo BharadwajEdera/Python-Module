{
 "cells": [
  {
   "cell_type": "markdown",
   "id": "2ff21962",
   "metadata": {},
   "source": [
    "### Question 1. \n",
    ">Given a sentence as txt, return True if any two adjacent words have this property: One word ends with a vowel, while the word immediately after begins with a vowel (a e i o u).\n",
    "\n",
    ">Examples\n",
    "\n",
    ">vowel_links(\"a very large appliance\") ➞ True\n",
    "\n",
    ">vowel_links(\"go to edabit\") ➞ True\n",
    "\n",
    ">vowel_links(\"an open fire\") ➞ False\n",
    "\n",
    ">vowel_links(\"a sudden applause\") ➞ False\n",
    "\n"
   ]
  },
  {
   "cell_type": "code",
   "execution_count": 61,
   "id": "921ba9b0",
   "metadata": {},
   "outputs": [],
   "source": [
    "def vowel_links(s):\n",
    "    s = s.split(\" \")\n",
    "    if any( ( (s[i][len(s[i])-1]) in (\"a\",\"e\",\"i\",\"o\",\"u\") ) and ( (s[i+1][0]) in (\"a\",\"e\",\"i\",\"o\",\"u\") ) for i in range(len(s)-1)):\n",
    "        return True\n",
    "    else:\n",
    "        return False\n",
    "            "
   ]
  },
  {
   "cell_type": "code",
   "execution_count": 62,
   "id": "39768a52",
   "metadata": {},
   "outputs": [
    {
     "data": {
      "text/plain": [
       "True"
      ]
     },
     "execution_count": 62,
     "metadata": {},
     "output_type": "execute_result"
    }
   ],
   "source": [
    "vowel_links(\"a very large appliance\")"
   ]
  },
  {
   "cell_type": "code",
   "execution_count": 63,
   "id": "3482b3a2",
   "metadata": {},
   "outputs": [
    {
     "data": {
      "text/plain": [
       "True"
      ]
     },
     "execution_count": 63,
     "metadata": {},
     "output_type": "execute_result"
    }
   ],
   "source": [
    "vowel_links(\"go to edabit\")"
   ]
  },
  {
   "cell_type": "code",
   "execution_count": 64,
   "id": "f761eba9",
   "metadata": {},
   "outputs": [
    {
     "data": {
      "text/plain": [
       "False"
      ]
     },
     "execution_count": 64,
     "metadata": {},
     "output_type": "execute_result"
    }
   ],
   "source": [
    "vowel_links(\"an open fire\")"
   ]
  },
  {
   "cell_type": "code",
   "execution_count": 65,
   "id": "82fcacca",
   "metadata": {},
   "outputs": [
    {
     "data": {
      "text/plain": [
       "False"
      ]
     },
     "execution_count": 65,
     "metadata": {},
     "output_type": "execute_result"
    }
   ],
   "source": [
    "vowel_links(\"a sudden applause\")"
   ]
  },
  {
   "cell_type": "markdown",
   "id": "0ed91dca",
   "metadata": {},
   "source": [
    "### Question 2. \n",
    ">You are given three inputs: a string, one letter, and a second letter.\n",
    "\n",
    ">Write a function that returns True if every instance of the first letter occurs before every instance of the second letter.\n",
    "\n",
    ">Examples\n",
    "\n",
    ">first_before_second(\"a rabbit jumps joyfully\", \"a\", \"j\") ➞ True\n",
    "\n",
    ">\\# Every instance of \"a\" occurs before every instance of \"j\".\n",
    "\n",
    ">first_before_second(\"knaves knew about waterfalls\", \"k\", \"w\") ➞  True\n",
    "\n",
    ">first_before_second(\"happy birthday\", \"a\", \"y\") ➞ False\n",
    "\n",
    ">\\# The \"a\" in \"birthday\" occurs after the \"y\" in \"happy\".\n",
    "\n",
    ">first_before_second(\"precarious kangaroos\", \"k\", \"a\") ➞ False\n",
    "\n"
   ]
  },
  {
   "cell_type": "code",
   "execution_count": 134,
   "id": "66fd937b",
   "metadata": {},
   "outputs": [],
   "source": [
    "def first_before_second(s , s1 , s2):\n",
    "    l = [i for i in range(len(s)) if s[i] == s1 ]\n",
    "    if all(i<s.index(s2) for i in l):\n",
    "        return True\n",
    "    else:\n",
    "        return False"
   ]
  },
  {
   "cell_type": "code",
   "execution_count": 135,
   "id": "a7bb957f",
   "metadata": {},
   "outputs": [
    {
     "data": {
      "text/plain": [
       "True"
      ]
     },
     "execution_count": 135,
     "metadata": {},
     "output_type": "execute_result"
    }
   ],
   "source": [
    "first_before_second(\"a rabbit jumps joyfully\", \"a\", \"j\") "
   ]
  },
  {
   "cell_type": "code",
   "execution_count": 136,
   "id": "b0213c70",
   "metadata": {},
   "outputs": [
    {
     "data": {
      "text/plain": [
       "True"
      ]
     },
     "execution_count": 136,
     "metadata": {},
     "output_type": "execute_result"
    }
   ],
   "source": [
    "first_before_second(\"knaves knew about waterfalls\", \"k\", \"w\") "
   ]
  },
  {
   "cell_type": "code",
   "execution_count": 137,
   "id": "ad84d3a5",
   "metadata": {},
   "outputs": [
    {
     "data": {
      "text/plain": [
       "False"
      ]
     },
     "execution_count": 137,
     "metadata": {},
     "output_type": "execute_result"
    }
   ],
   "source": [
    "first_before_second(\"happy birthday\", \"a\", \"y\")"
   ]
  },
  {
   "cell_type": "code",
   "execution_count": 138,
   "id": "d7c2570c",
   "metadata": {},
   "outputs": [
    {
     "data": {
      "text/plain": [
       "False"
      ]
     },
     "execution_count": 138,
     "metadata": {},
     "output_type": "execute_result"
    }
   ],
   "source": [
    "first_before_second(\"precarious kangaroos\", \"k\", \"a\")"
   ]
  },
  {
   "cell_type": "markdown",
   "id": "b4045b35",
   "metadata": {},
   "source": [
    "### Question 3. \n",
    ">Create a function that returns the characters from a list or string r on odd or even positions, depending on the specifier s. The specifier will be \"odd\" for items on odd positions (1, 3, 5, ...) and \"even\" for items on even positions (2, 4, 6, ...).\n",
    "\n",
    ">Examples\n",
    "\n",
    ">char_at_pos([2, 4, 6, 8, 10], \"even\") ➞ [4, 8]\n",
    "\n",
    ">\\# 4 & 8 occupy the 2nd & 4th positions\n",
    "\n",
    ">char_at_pos(\"EDABIT\", \"odd\") ➞ \"EAI\"\n",
    "\n",
    ">\\# \"E\", \"A\" and \"I\" occupy the 1st, 3rd and 5th positions\n",
    "\n",
    ">char_at_pos([\"A\", \"R\", \"B\", \"I\", \"T\", \"R\", \"A\", \"R\", \"I\", \"L\", \"Y\"], \"odd\") ➞ [\"A\", \"B\", \"T\", \"A\", \"I\", \"Y\"]\n",
    "\n"
   ]
  },
  {
   "cell_type": "code",
   "execution_count": 154,
   "id": "6b14c9fa",
   "metadata": {},
   "outputs": [],
   "source": [
    "def char_at_pos(l , s):\n",
    "    if s == \"even\":\n",
    "        r = [ l[i] for i in range(len(l)) if i % 2 != 0]\n",
    "        if type(l) == str:\n",
    "            return \"\".join(r)\n",
    "        return r\n",
    "    elif s == \"odd\":\n",
    "        r = [ l[i] for i in range(len(l)) if i % 2 == 0]\n",
    "        if type(l) == str:\n",
    "            return \"\".join(r)\n",
    "        return r"
   ]
  },
  {
   "cell_type": "code",
   "execution_count": 155,
   "id": "d2498230",
   "metadata": {},
   "outputs": [
    {
     "data": {
      "text/plain": [
       "[4, 8]"
      ]
     },
     "execution_count": 155,
     "metadata": {},
     "output_type": "execute_result"
    }
   ],
   "source": [
    "char_at_pos([2, 4, 6, 8, 10], \"even\")"
   ]
  },
  {
   "cell_type": "code",
   "execution_count": 156,
   "id": "686a108c",
   "metadata": {},
   "outputs": [
    {
     "data": {
      "text/plain": [
       "'EAI'"
      ]
     },
     "execution_count": 156,
     "metadata": {},
     "output_type": "execute_result"
    }
   ],
   "source": [
    "char_at_pos(\"EDABIT\", \"odd\")"
   ]
  },
  {
   "cell_type": "code",
   "execution_count": 157,
   "id": "6741d912",
   "metadata": {},
   "outputs": [
    {
     "data": {
      "text/plain": [
       "['A', 'B', 'T', 'A', 'I', 'Y']"
      ]
     },
     "execution_count": 157,
     "metadata": {},
     "output_type": "execute_result"
    }
   ],
   "source": [
    "char_at_pos([\"A\", \"R\", \"B\", \"I\", \"T\", \"R\", \"A\", \"R\", \"I\", \"L\", \"Y\"], \"odd\") "
   ]
  },
  {
   "cell_type": "markdown",
   "id": "b8108e36",
   "metadata": {},
   "source": [
    "### Question 4. \n",
    ">Write a function that returns the greatest common divisor of all list elements. If the greatest common divisor is 1, return 1.\n",
    "\n",
    ">Examples\n",
    "\n",
    ">GCD([10, 20, 40]) ➞ 10\n",
    "\n",
    ">GCD([1, 2, 3, 100]) ➞ 1\n",
    "\n",
    ">GCD([1024, 192, 2048, 512]) ➞ 64\n",
    "\n"
   ]
  },
  {
   "cell_type": "code",
   "execution_count": 158,
   "id": "ddd15a7b",
   "metadata": {},
   "outputs": [],
   "source": [
    "def GCD(my_list):\n",
    "    result = my_list[0]\n",
    "    for x in my_list[1:]:\n",
    "        if result < x:\n",
    "            temp = result\n",
    "            result = x\n",
    "            x = temp\n",
    "        while x != 0:\n",
    "            temp = x\n",
    "            x = result % x\n",
    "            result = temp\n",
    "    return result "
   ]
  },
  {
   "cell_type": "code",
   "execution_count": 159,
   "id": "bddcff6d",
   "metadata": {},
   "outputs": [
    {
     "data": {
      "text/plain": [
       "10"
      ]
     },
     "execution_count": 159,
     "metadata": {},
     "output_type": "execute_result"
    }
   ],
   "source": [
    "GCD([10, 20, 40])"
   ]
  },
  {
   "cell_type": "code",
   "execution_count": 160,
   "id": "cb56bf54",
   "metadata": {},
   "outputs": [
    {
     "data": {
      "text/plain": [
       "1"
      ]
     },
     "execution_count": 160,
     "metadata": {},
     "output_type": "execute_result"
    }
   ],
   "source": [
    "GCD([1, 2, 3, 100]) "
   ]
  },
  {
   "cell_type": "code",
   "execution_count": 161,
   "id": "b3c7f39f",
   "metadata": {},
   "outputs": [
    {
     "data": {
      "text/plain": [
       "64"
      ]
     },
     "execution_count": 161,
     "metadata": {},
     "output_type": "execute_result"
    }
   ],
   "source": [
    "GCD([1024, 192, 2048, 512])"
   ]
  },
  {
   "cell_type": "markdown",
   "id": "d66f421e",
   "metadata": {},
   "source": [
    "### Question 5. \n",
    ">A number/string is a palindrome if the digits/characters are the same when read both forward and backward. Examples include \"racecar\" and 12321. Given a positive number n, check if n or the binary representation of n is palindromic. Return the following:\n",
    "\n",
    ">- \"Decimal only.\" if only n is a palindrome.\n",
    ">- \"Binary only.\" if only the binary representation of n is a palindrome.\n",
    ">- \"Decimal and binary.\" if both are palindromes.\n",
    ">- \"Neither!\" if neither are palindromes.\n",
    "\n",
    ">Examples\n",
    "\n",
    ">palindrome_type(1306031) ➞ \"Decimal only.\"\n",
    "\n",
    ">\\# decimal = 1306031\n",
    "\n",
    ">\\# binary  = \"100111110110110101111\"\n",
    "\n",
    ">palindrome_type(427787) ➞ \"Binary only.\"\n",
    "\n",
    ">\\# decimal = 427787\n",
    "\n",
    ">\\# binary  = \"1101000011100001011\"\n",
    "\n",
    ">palindrome_type(313) ➞ \"Decimal and binary.\"\n",
    "\n",
    ">\\# decimal = 313\n",
    "\n",
    ">\\# binary  = 100111001\n",
    "\n",
    ">palindrome_type(934) ➞ \"Neither!\"\n",
    "\n",
    ">\\# decimal = 934\n",
    "\n",
    ">\\# binary  = \"1110100110\"\n"
   ]
  },
  {
   "cell_type": "code",
   "execution_count": 166,
   "id": "620a45ce",
   "metadata": {},
   "outputs": [],
   "source": [
    "def palindrome_type(n):\n",
    "    s = str(n)\n",
    "    b = str(bin(n)[2:])\n",
    "    if s == s[::-1] and b == b[::-1]:\n",
    "        return \"Decimal and binary.\"\n",
    "    elif s == s[::-1]:\n",
    "        return \"Decimal only.\"\n",
    "    elif b == b[::-1]:\n",
    "        return \"Binary only\"\n",
    "    else:\n",
    "        return \"Neither!\"\n",
    "    \n",
    "        "
   ]
  },
  {
   "cell_type": "code",
   "execution_count": 167,
   "id": "91d69626",
   "metadata": {},
   "outputs": [
    {
     "data": {
      "text/plain": [
       "'Decimal only.'"
      ]
     },
     "execution_count": 167,
     "metadata": {},
     "output_type": "execute_result"
    }
   ],
   "source": [
    "palindrome_type(1306031)"
   ]
  },
  {
   "cell_type": "code",
   "execution_count": 168,
   "id": "0c1ab693",
   "metadata": {
    "scrolled": true
   },
   "outputs": [
    {
     "data": {
      "text/plain": [
       "'Binary only'"
      ]
     },
     "execution_count": 168,
     "metadata": {},
     "output_type": "execute_result"
    }
   ],
   "source": [
    "palindrome_type(427787)"
   ]
  },
  {
   "cell_type": "code",
   "execution_count": 169,
   "id": "bef8b2cc",
   "metadata": {},
   "outputs": [
    {
     "data": {
      "text/plain": [
       "'Decimal and binary.'"
      ]
     },
     "execution_count": 169,
     "metadata": {},
     "output_type": "execute_result"
    }
   ],
   "source": [
    "palindrome_type(313)"
   ]
  },
  {
   "cell_type": "code",
   "execution_count": 170,
   "id": "d8bcfd1b",
   "metadata": {},
   "outputs": [
    {
     "data": {
      "text/plain": [
       "'Neither!'"
      ]
     },
     "execution_count": 170,
     "metadata": {},
     "output_type": "execute_result"
    }
   ],
   "source": [
    "palindrome_type(934)"
   ]
  }
 ],
 "metadata": {
  "kernelspec": {
   "display_name": "Python [conda env:.conda-gputest] *",
   "language": "python",
   "name": "conda-env-.conda-gputest-py"
  },
  "language_info": {
   "codemirror_mode": {
    "name": "ipython",
    "version": 3
   },
   "file_extension": ".py",
   "mimetype": "text/x-python",
   "name": "python",
   "nbconvert_exporter": "python",
   "pygments_lexer": "ipython3",
   "version": "3.6.12"
  }
 },
 "nbformat": 4,
 "nbformat_minor": 5
}
