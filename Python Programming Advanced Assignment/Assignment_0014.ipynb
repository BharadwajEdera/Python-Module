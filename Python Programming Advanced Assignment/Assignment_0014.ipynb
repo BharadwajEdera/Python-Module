{
 "cells": [
  {
   "cell_type": "markdown",
   "id": "979a031a",
   "metadata": {},
   "source": [
    "### Question 1. \n",
    ">Given a list of numbers, create a function that removes 25% from every number in the list except the smallest number, and adds the total amount removed to the smallest number.\n",
    "\n",
    ">Examples\n",
    "\n",
    ">show_the_love([4, 1, 4]) ➞ [3, 3, 3]\n",
    "\n",
    ">show_the_love([16, 10, 8]) ➞ [12, 7.5, 14.5]\n",
    "\n",
    ">show_the_love([2, 100]) ➞ [27, 75]\n",
    "\n"
   ]
  },
  {
   "cell_type": "code",
   "execution_count": 83,
   "id": "fd39be58",
   "metadata": {},
   "outputs": [],
   "source": [
    "def show_the_love(l):\n",
    "    import numpy as np\n",
    "    r = [None]*len(l)\n",
    "    l = np.array(l)\n",
    "    small = np.min(l)\n",
    "    small_index = np.argmin(l)\n",
    "    for i in range(len(l)):\n",
    "        if i != small_index:\n",
    "            r[i] = l[i] * (3/4) \n",
    "            small += l[i] * (1/4)\n",
    "        else:\n",
    "            continue\n",
    "    r[small_index] = small\n",
    "            \n",
    "    return list(r)   "
   ]
  },
  {
   "cell_type": "code",
   "execution_count": 84,
   "id": "c3b3f351",
   "metadata": {},
   "outputs": [
    {
     "data": {
      "text/plain": [
       "[3.0, 3.0, 3.0]"
      ]
     },
     "execution_count": 84,
     "metadata": {},
     "output_type": "execute_result"
    }
   ],
   "source": [
    "show_the_love([4, 1, 4])"
   ]
  },
  {
   "cell_type": "code",
   "execution_count": 85,
   "id": "9cafcba6",
   "metadata": {},
   "outputs": [
    {
     "data": {
      "text/plain": [
       "[12.0, 7.5, 14.5]"
      ]
     },
     "execution_count": 85,
     "metadata": {},
     "output_type": "execute_result"
    }
   ],
   "source": [
    "show_the_love([16, 10, 8]) "
   ]
  },
  {
   "cell_type": "code",
   "execution_count": 86,
   "id": "da103ea0",
   "metadata": {},
   "outputs": [
    {
     "data": {
      "text/plain": [
       "[27.0, 75.0]"
      ]
     },
     "execution_count": 86,
     "metadata": {},
     "output_type": "execute_result"
    }
   ],
   "source": [
    "show_the_love([2, 100])"
   ]
  },
  {
   "cell_type": "markdown",
   "id": "418b1456",
   "metadata": {},
   "source": [
    "### Question 2. \n",
    ">Create a function that takes in two words as input and returns a list of three elements, in the following order:\n",
    "\n",
    " >  1.Shared letters between two words.\n",
    "  \n",
    "  > 2.Letters unique to word 1.\n",
    "   \n",
    "   > 3.Letters unique to word 2.\n",
    "\n",
    ">Each element should have unique letters, and have each letter be alphabetically sorted.\n",
    "\n",
    ">Examples\n",
    "\n",
    ">letters(\"sharp\", \"soap\") ➞ [\"aps\", \"hr\", \"o\"]\n",
    "\n",
    ">letters(\"board\", \"bored\") ➞ [\"bdor\", \"a\", \"e\"]\n",
    "\n",
    ">letters(\"happiness\", \"envelope\") ➞ [\"enp\", \"ahis\", \"lov\"]\n",
    "\n",
    ">letters(\"kerfuffle\", \"fluffy\") ➞ [\"flu\", \"ekr\", \"y\"]\n",
    "\n",
    ">\\# Even with multiple matching letters (e.g. 3 f's), there should \n",
    "\n",
    ">\\# only exist a single \"f\" in your first element.\n",
    "\n",
    ">letters(\"match\", \"ham\") ➞ [\"ahm\", \"ct\", \"\"]\n",
    "\n",
    ">\\# \"ham\" does not contain any letters that are not found already \n",
    "\n",
    ">\\# in \"match\".\n",
    "\n"
   ]
  },
  {
   "cell_type": "code",
   "execution_count": 116,
   "id": "68fd1c2e",
   "metadata": {},
   "outputs": [],
   "source": [
    "def letters(s1 , s2):\n",
    "    c = \"\"\n",
    "    first = \"\"\n",
    "    second = \"\"\n",
    "    set1 = list(set(s1)) \n",
    "    set2 =  list(set(s2))\n",
    "    s = list(set(s1 + s2))\n",
    "    for i in s:\n",
    "        if (i in s1) and (i in s2):\n",
    "            c += i\n",
    "        elif i in s1:\n",
    "            first += i\n",
    "        elif i in s2:\n",
    "            second += i\n",
    "    return (c,first,second)\n",
    "            \n",
    "            "
   ]
  },
  {
   "cell_type": "code",
   "execution_count": 117,
   "id": "1a619dd7",
   "metadata": {},
   "outputs": [
    {
     "data": {
      "text/plain": [
       "('aps', 'rh', 'o')"
      ]
     },
     "execution_count": 117,
     "metadata": {},
     "output_type": "execute_result"
    }
   ],
   "source": [
    "letters(\"sharp\", \"soap\")"
   ]
  },
  {
   "cell_type": "code",
   "execution_count": 119,
   "id": "5d004c52",
   "metadata": {},
   "outputs": [
    {
     "data": {
      "text/plain": [
       "('obdr', 'a', 'e')"
      ]
     },
     "execution_count": 119,
     "metadata": {},
     "output_type": "execute_result"
    }
   ],
   "source": [
    "letters(\"board\", \"bored\")"
   ]
  },
  {
   "cell_type": "code",
   "execution_count": 120,
   "id": "708b9583",
   "metadata": {},
   "outputs": [
    {
     "data": {
      "text/plain": [
       "('nep', 'iash', 'vlo')"
      ]
     },
     "execution_count": 120,
     "metadata": {},
     "output_type": "execute_result"
    }
   ],
   "source": [
    "letters(\"happiness\", \"envelope\")"
   ]
  },
  {
   "cell_type": "code",
   "execution_count": 122,
   "id": "2b3d9314",
   "metadata": {},
   "outputs": [
    {
     "data": {
      "text/plain": [
       "('ufl', 'ker', 'y')"
      ]
     },
     "execution_count": 122,
     "metadata": {},
     "output_type": "execute_result"
    }
   ],
   "source": [
    "letters(\"kerfuffle\", \"fluffy\")"
   ]
  },
  {
   "cell_type": "code",
   "execution_count": 118,
   "id": "d638967f",
   "metadata": {},
   "outputs": [
    {
     "data": {
      "text/plain": [
       "('mah', 'ct', '')"
      ]
     },
     "execution_count": 118,
     "metadata": {},
     "output_type": "execute_result"
    }
   ],
   "source": [
    "letters(\"match\", \"ham\")"
   ]
  },
  {
   "cell_type": "markdown",
   "id": "9f1f1acd",
   "metadata": {},
   "source": [
    "### Question 3. \n",
    ">Write a function that pairs the first number in an array with the last, the second number with the second to last, etc.\n",
    "\n",
    ">Examples\n",
    "\n",
    ">pairs([1, 2, 3, 4, 5, 6, 7]) ➞ [[1, 7], [2, 6], [3, 5], [4, 4]]\n",
    "\n",
    ">pairs([1, 2, 3, 4, 5, 6]) ➞ [[1, 6], [2, 5], [3, 4]]\n",
    "\n",
    ">pairs([5, 9, 8, 1, 2]) ➞ [[5, 2], [9, 1], [8, 8]]\n",
    "\n",
    ">pairs([]) ➞ []\n",
    "\n"
   ]
  },
  {
   "cell_type": "code",
   "execution_count": 146,
   "id": "ba05cd8c",
   "metadata": {},
   "outputs": [],
   "source": [
    "def pairs(l):\n",
    "    r = []\n",
    "    k = int(len(l)/2)+1\n",
    "    for i in range(k):\n",
    "        if len(l)%2 != 0:\n",
    "            r.append([l[i],l[len(l)-i-1]])\n",
    "        elif len(l)%2 == 0:\n",
    "            if i!= k-1:\n",
    "                r.append([l[i],l[len(l)-i-1]])\n",
    "    return r"
   ]
  },
  {
   "cell_type": "code",
   "execution_count": 147,
   "id": "415ca0fa",
   "metadata": {},
   "outputs": [
    {
     "data": {
      "text/plain": [
       "[[1, 7], [2, 6], [3, 5], [4, 4]]"
      ]
     },
     "execution_count": 147,
     "metadata": {},
     "output_type": "execute_result"
    }
   ],
   "source": [
    "pairs([1, 2, 3, 4, 5, 6, 7])"
   ]
  },
  {
   "cell_type": "code",
   "execution_count": 148,
   "id": "2fd253da",
   "metadata": {},
   "outputs": [
    {
     "data": {
      "text/plain": [
       "[[1, 6], [2, 5], [3, 4]]"
      ]
     },
     "execution_count": 148,
     "metadata": {},
     "output_type": "execute_result"
    }
   ],
   "source": [
    "pairs([1, 2, 3, 4, 5, 6])"
   ]
  },
  {
   "cell_type": "code",
   "execution_count": 149,
   "id": "d94eb1a7",
   "metadata": {},
   "outputs": [
    {
     "data": {
      "text/plain": [
       "[[5, 2], [9, 1], [8, 8]]"
      ]
     },
     "execution_count": 149,
     "metadata": {},
     "output_type": "execute_result"
    }
   ],
   "source": [
    "pairs([5, 9, 8, 1, 2])"
   ]
  },
  {
   "cell_type": "markdown",
   "id": "541214b4",
   "metadata": {},
   "source": [
    "### Question 4.\n",
    ">Write a function that adds two numbers. The catch, however, is that the numbers will be strings.\n",
    "\n",
    ">Examples\n",
    "\n",
    ">add_str_nums(\"4\", \"5\") ➞ \"9\"\n",
    "\n",
    ">add_str_nums(\"abcdefg\", \"3\") ➞ \"-1\"\n",
    "\n",
    ">add_str_nums(\"1\", \"\") ➞ \"1\"\n",
    "\n",
    ">add_str_nums(\"1874682736267235927359283579235789257\", \"32652983572985729\") ➞ \"1874682736267235927391936562808774986\"\n",
    "\n"
   ]
  },
  {
   "cell_type": "code",
   "execution_count": 162,
   "id": "33ed269c",
   "metadata": {},
   "outputs": [],
   "source": [
    "def add_str_nums(s1,s2):\n",
    "    try:\n",
    "        return str(int(s1) + int(s2))\n",
    "    except ValueError as e:\n",
    "        if len(s1)>0 and len(s2)>0:\n",
    "            return str(-1)\n",
    "        elif len(s1) > 0:\n",
    "            return s1\n",
    "        else:\n",
    "            return s2"
   ]
  },
  {
   "cell_type": "code",
   "execution_count": 163,
   "id": "db6d6724",
   "metadata": {},
   "outputs": [
    {
     "data": {
      "text/plain": [
       "'9'"
      ]
     },
     "execution_count": 163,
     "metadata": {},
     "output_type": "execute_result"
    }
   ],
   "source": [
    "add_str_nums(\"4\", \"5\")"
   ]
  },
  {
   "cell_type": "code",
   "execution_count": 164,
   "id": "6ba5dea4",
   "metadata": {},
   "outputs": [
    {
     "data": {
      "text/plain": [
       "'-1'"
      ]
     },
     "execution_count": 164,
     "metadata": {},
     "output_type": "execute_result"
    }
   ],
   "source": [
    "add_str_nums(\"abcdefg\", \"3\")"
   ]
  },
  {
   "cell_type": "code",
   "execution_count": 165,
   "id": "cc4d9c2a",
   "metadata": {},
   "outputs": [
    {
     "data": {
      "text/plain": [
       "'1'"
      ]
     },
     "execution_count": 165,
     "metadata": {},
     "output_type": "execute_result"
    }
   ],
   "source": [
    "add_str_nums(\"1\", \"\")"
   ]
  },
  {
   "cell_type": "code",
   "execution_count": 166,
   "id": "ff551f9e",
   "metadata": {},
   "outputs": [
    {
     "data": {
      "text/plain": [
       "'1874682736267235927391936562808774986'"
      ]
     },
     "execution_count": 166,
     "metadata": {},
     "output_type": "execute_result"
    }
   ],
   "source": [
    "add_str_nums(\"1874682736267235927359283579235789257\", \"32652983572985729\")"
   ]
  },
  {
   "cell_type": "markdown",
   "id": "396398c0",
   "metadata": {},
   "source": [
    "### Question 5. \n",
    ">lPaeesh le pemu mnxit ehess rtnisg! Oh, sorry, that was supposed to say: Please help me unmix these strings!\n",
    "\n",
    ">Somehow my strings have all become mixed up; every pair of characters has been swapped. Help me undo this so I can understand my strings again.\n",
    "\n",
    ">Examples\n",
    "\n",
    ">unmix(\"123456\") ➞ \"214365\"\n",
    "\n",
    ">unmix(\"hTsii  s aimex dpus rtni.g\") ➞ \"This is a mixed up string.\"\n",
    "\n",
    ">unmix(\"badce\") ➞ \"abcde\"\n",
    "\n"
   ]
  },
  {
   "cell_type": "code",
   "execution_count": null,
   "id": "ef203a89",
   "metadata": {},
   "outputs": [],
   "source": []
  },
  {
   "cell_type": "code",
   "execution_count": null,
   "id": "650a797a",
   "metadata": {},
   "outputs": [],
   "source": []
  }
 ],
 "metadata": {
  "kernelspec": {
   "display_name": "Python [conda env:.conda-gputest] *",
   "language": "python",
   "name": "conda-env-.conda-gputest-py"
  },
  "language_info": {
   "codemirror_mode": {
    "name": "ipython",
    "version": 3
   },
   "file_extension": ".py",
   "mimetype": "text/x-python",
   "name": "python",
   "nbconvert_exporter": "python",
   "pygments_lexer": "ipython3",
   "version": "3.6.12"
  }
 },
 "nbformat": 4,
 "nbformat_minor": 5
}
