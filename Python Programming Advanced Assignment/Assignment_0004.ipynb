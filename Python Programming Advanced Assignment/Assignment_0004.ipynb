{
 "cells": [
  {
   "attachments": {
    "0002%202.png": {
     "image/png": "[encoded data removed]"
    }
   },
   "cell_type": "markdown",
   "id": "cc114672",
   "metadata": {},
   "source": [
    "### Question 1. \n",
    ">In mathematics, the Fibonacci numbers, commonly denoted Fn, form a sequence, called the Fibonacci sequence, such that each number is the sum of the two preceding ones, starting from 0 and 1:\n",
    "![0002%202.png](attachment:0002%202.png)\n",
    "\n",
    ">The beginning of the sequence is this:\n",
    "\n",
    ">0, 1, 1, 2, 3, 5, 8, 13, 21, 34, 55, 89, 144, ...\n",
    "\n",
    ">The function fastFib(num) returns the fibonacci number Fn, of the given num as an argument.\n",
    "\n",
    ">Examples\n",
    "\n",
    ">fib_fast(5) ➞ 5\n",
    "\n",
    ">fib_fast(10) ➞ 55\n",
    "\n",
    ">fib_fast(20) ➞ 6765\n",
    "\n",
    ">fib_fast(50) ➞ 12586269025\n",
    "\n"
   ]
  },
  {
   "cell_type": "code",
   "execution_count": 1,
   "id": "5c33fc3b",
   "metadata": {},
   "outputs": [],
   "source": [
    "def fib_fast(num):\n",
    "    if num in (1,0):\n",
    "        return num\n",
    "    else :\n",
    "        return fib_fast(num-1) + fib_fast(num-2)"
   ]
  },
  {
   "cell_type": "code",
   "execution_count": 3,
   "id": "345b8dea",
   "metadata": {},
   "outputs": [
    {
     "data": {
      "text/plain": [
       "5"
      ]
     },
     "execution_count": 3,
     "metadata": {},
     "output_type": "execute_result"
    }
   ],
   "source": [
    "fib_fast(5)"
   ]
  },
  {
   "cell_type": "code",
   "execution_count": 4,
   "id": "e2317265",
   "metadata": {},
   "outputs": [
    {
     "data": {
      "text/plain": [
       "55"
      ]
     },
     "execution_count": 4,
     "metadata": {},
     "output_type": "execute_result"
    }
   ],
   "source": [
    "fib_fast(10)"
   ]
  },
  {
   "cell_type": "code",
   "execution_count": 5,
   "id": "8629f713",
   "metadata": {},
   "outputs": [
    {
     "data": {
      "text/plain": [
       "6765"
      ]
     },
     "execution_count": 5,
     "metadata": {},
     "output_type": "execute_result"
    }
   ],
   "source": [
    "fib_fast(20)"
   ]
  },
  {
   "cell_type": "code",
   "execution_count": null,
   "id": "06c0269d",
   "metadata": {},
   "outputs": [],
   "source": [
    "fib_fast(50)"
   ]
  },
  {
   "cell_type": "markdown",
   "id": "95f2d542",
   "metadata": {},
   "source": [
    "### Question 2. \n",
    ">Create a function that takes a strings characters as ASCII and returns each characters hexadecimal value as a string.\n",
    "\n",
    ">Examples\n",
    "\n",
    ">convert_to_hex(\"hello world\") ➞ \"68 65 6c 6c 6f 20 77 6f 72 6c 64\"\n",
    "\n",
    ">convert_to_hex(\"Big Boi\") ➞ \"42 69 67 20 42 6f 69\"\n",
    "\n",
    ">convert_to_hex(\"Marty Poppinson\") ➞ \"4d 61 72 74 79 20 50 6f 70 70 69 6e 73 6f 6e\"\n",
    "\n",
    "\n",
    "\n"
   ]
  },
  {
   "cell_type": "code",
   "execution_count": 14,
   "id": "5f541168",
   "metadata": {},
   "outputs": [],
   "source": [
    "def convert_to_hex(s):\n",
    "    r = \"\"\n",
    "    for i in s:\n",
    "        r += hex(ord(i))[2:] + \" \"\n",
    "        \n",
    "    return r\n",
    "        "
   ]
  },
  {
   "cell_type": "code",
   "execution_count": 15,
   "id": "cb41bb4f",
   "metadata": {},
   "outputs": [
    {
     "data": {
      "text/plain": [
       "'68 65 6c 6c 6f 20 77 6f 72 6c 64 '"
      ]
     },
     "execution_count": 15,
     "metadata": {},
     "output_type": "execute_result"
    }
   ],
   "source": [
    "convert_to_hex(\"hello world\")"
   ]
  },
  {
   "cell_type": "code",
   "execution_count": 16,
   "id": "b5731142",
   "metadata": {},
   "outputs": [
    {
     "data": {
      "text/plain": [
       "'42 69 67 20 42 6f 69 '"
      ]
     },
     "execution_count": 16,
     "metadata": {},
     "output_type": "execute_result"
    }
   ],
   "source": [
    "convert_to_hex(\"Big Boi\")"
   ]
  },
  {
   "cell_type": "code",
   "execution_count": 17,
   "id": "b796b68b",
   "metadata": {},
   "outputs": [
    {
     "data": {
      "text/plain": [
       "'4d 61 72 74 79 20 50 6f 70 70 69 6e 73 6f 6e '"
      ]
     },
     "execution_count": 17,
     "metadata": {},
     "output_type": "execute_result"
    }
   ],
   "source": [
    "convert_to_hex(\"Marty Poppinson\")"
   ]
  },
  {
   "cell_type": "markdown",
   "id": "353ba96c",
   "metadata": {},
   "source": [
    "### Question 3. \n",
    ">Someone has attempted to censor my strings by replacing every vowel with a \\*, l\\*k\\* th\\*s. Luckily, I've been able to find the vowels that were removed.\n",
    "\n",
    ">Given a censored string and a string of the censored vowels, return the original uncensored string.\n",
    "\n",
    ">Example\n",
    "\n",
    ">uncensor(\"Wh\\*r\\* d\\*d my v\\*w\\*ls g\\*?\", \"eeioeo\") ➞ \"Where did my vowels go?\"\n",
    "\n",
    ">uncensor(\"abcd\", \"\") ➞ \"abcd\"\n",
    "\n",
    ">uncensor(\"\\*PP\\*RC\\*S\\*\", \"UEAE\") ➞ \"UPPERCASE\"\n",
    "\n"
   ]
  },
  {
   "cell_type": "code",
   "execution_count": 31,
   "id": "32da295f",
   "metadata": {},
   "outputs": [],
   "source": [
    "def uncensor(s1 , s2 ):\n",
    "    l = s1.split(\"*\")\n",
    "    \n",
    "    if len(s2) > 1:\n",
    "        r = \"\"\n",
    "        for i in range(len(s2)):\n",
    "            r += l[i] + s2[i] \n",
    "        return r\n",
    "    else:\n",
    "        return s1\n",
    "            "
   ]
  },
  {
   "cell_type": "code",
   "execution_count": 32,
   "id": "8d4c3c0c",
   "metadata": {},
   "outputs": [
    {
     "data": {
      "text/plain": [
       "'Where did my vowels go'"
      ]
     },
     "execution_count": 32,
     "metadata": {},
     "output_type": "execute_result"
    }
   ],
   "source": [
    "uncensor(\"Wh*r* d*d my v*w*ls g*?\", \"eeioeo\") "
   ]
  },
  {
   "cell_type": "code",
   "execution_count": 33,
   "id": "9d9bfd27",
   "metadata": {},
   "outputs": [
    {
     "data": {
      "text/plain": [
       "'abcd'"
      ]
     },
     "execution_count": 33,
     "metadata": {},
     "output_type": "execute_result"
    }
   ],
   "source": [
    "uncensor(\"abcd\", \"\")"
   ]
  },
  {
   "cell_type": "code",
   "execution_count": 34,
   "id": "772332c8",
   "metadata": {},
   "outputs": [
    {
     "data": {
      "text/plain": [
       "'UPPERCASE'"
      ]
     },
     "execution_count": 34,
     "metadata": {},
     "output_type": "execute_result"
    }
   ],
   "source": [
    "uncensor(\"*PP*RC*S*\", \"UEAE\")"
   ]
  },
  {
   "cell_type": "markdown",
   "id": "7989f231",
   "metadata": {},
   "source": [
    "### Question 4. \n",
    ">Write a function that takes an IP address and returns the domain name using PTR DNS records.\n",
    "\n",
    ">Example\n",
    "\n",
    ">get_domain(\"8.8.8.8\") ➞ \"dns.google\"\n",
    "\n",
    ">get_domain(\"8.8.4.4\") ➞ \"dns.google\"\n",
    "\n",
    "\n"
   ]
  },
  {
   "cell_type": "code",
   "execution_count": null,
   "id": "5563b442",
   "metadata": {},
   "outputs": [],
   "source": []
  },
  {
   "cell_type": "code",
   "execution_count": null,
   "id": "9cfbd8cb",
   "metadata": {},
   "outputs": [],
   "source": []
  },
  {
   "cell_type": "markdown",
   "id": "074e9cc8",
   "metadata": {},
   "source": [
    "### Question 5. \n",
    ">Create a function that takes an integer n and returns the factorial of factorials. See below examples for a better understanding:\n",
    "\n",
    ">Examples\n",
    "\n",
    ">fact_of_fact(4) ➞ 288\n",
    ">\\# 4! * 3! * 2! * 1! = 288\n",
    "\n",
    ">fact_of_fact(5) ➞ 34560\n",
    "\n",
    ">fact_of_fact(6) ➞ 24883200\n"
   ]
  },
  {
   "cell_type": "code",
   "execution_count": 59,
   "id": "7edfc291",
   "metadata": {},
   "outputs": [],
   "source": [
    "def fact(i):\n",
    "    if i in (0,1):\n",
    "            return 1\n",
    "    else:\n",
    "        return  i * fact(i-1) \n",
    "         \n",
    "\n",
    "def fact_of_fact(x):\n",
    "    f = 1\n",
    "    for i in range(1 , x+1):\n",
    "        f *= fact(i)\n",
    "    return f\n",
    "        \n",
    "    "
   ]
  },
  {
   "cell_type": "code",
   "execution_count": 60,
   "id": "ed3ccb7e",
   "metadata": {},
   "outputs": [
    {
     "data": {
      "text/plain": [
       "288"
      ]
     },
     "execution_count": 60,
     "metadata": {},
     "output_type": "execute_result"
    }
   ],
   "source": [
    "fact_of_fact(4)"
   ]
  },
  {
   "cell_type": "code",
   "execution_count": 61,
   "id": "ea42896a",
   "metadata": {},
   "outputs": [
    {
     "data": {
      "text/plain": [
       "34560"
      ]
     },
     "execution_count": 61,
     "metadata": {},
     "output_type": "execute_result"
    }
   ],
   "source": [
    "fact_of_fact(5)"
   ]
  },
  {
   "cell_type": "code",
   "execution_count": 62,
   "id": "8e0cf34a",
   "metadata": {},
   "outputs": [
    {
     "data": {
      "text/plain": [
       "24883200"
      ]
     },
     "execution_count": 62,
     "metadata": {},
     "output_type": "execute_result"
    }
   ],
   "source": [
    "fact_of_fact(6)"
   ]
  }
 ],
 "metadata": {
  "kernelspec": {
   "display_name": "Python [conda env:.conda-gputest] *",
   "language": "python",
   "name": "conda-env-.conda-gputest-py"
  },
  "language_info": {
   "codemirror_mode": {
    "name": "ipython",
    "version": 3
   },
   "file_extension": ".py",
   "mimetype": "text/x-python",
   "name": "python",
   "nbconvert_exporter": "python",
   "pygments_lexer": "ipython3",
   "version": "3.6.12"
  }
 },
 "nbformat": 4,
 "nbformat_minor": 5
}
