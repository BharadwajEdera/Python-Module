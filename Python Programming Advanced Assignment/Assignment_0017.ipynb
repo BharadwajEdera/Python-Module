{
 "cells": [
  {
   "cell_type": "markdown",
   "id": "87d1e019",
   "metadata": {},
   "source": [
    "# Question 1. \n",
    ">Create a function that transposes a 2D matrix.\n",
    "\n",
    ">Examples\n",
    "\n",
    ">transpose_matrix([\n",
    "  [1, 1, 1],\n",
    "  [2, 2, 2],\n",
    "  [3, 3, 3]\n",
    "]) ➞ [\n",
    "  [1, 2, 3],\n",
    "  [1, 2, 3],\n",
    "  [1, 2, 3]\n",
    "]\n",
    "\n",
    ">transpose_matrix([\n",
    "  [5, 5],\n",
    "  [6, 7],\n",
    "  [9, 1]\n",
    "]) ➞ [\n",
    "  [5, 6, 9],\n",
    "  [5, 7, 1]\n",
    "]\n",
    "\n"
   ]
  },
  {
   "cell_type": "code",
   "execution_count": 11,
   "id": "a0f4d9cf",
   "metadata": {},
   "outputs": [],
   "source": [
    "def transpose_matrix(x):\n",
    "\n",
    "    result = [[x[j][i] for j in range(len(x))] for i in range(len(x[0]))]\n",
    "    return result\n",
    "    "
   ]
  },
  {
   "cell_type": "code",
   "execution_count": 12,
   "id": "e82e6643",
   "metadata": {},
   "outputs": [
    {
     "data": {
      "text/plain": [
       "[[1, 2, 3], [1, 2, 3], [1, 2, 3]]"
      ]
     },
     "execution_count": 12,
     "metadata": {},
     "output_type": "execute_result"
    }
   ],
   "source": [
    "transpose_matrix([ [1, 1, 1], [2, 2, 2], [3, 3, 3] ])"
   ]
  },
  {
   "cell_type": "code",
   "execution_count": 13,
   "id": "8212737a",
   "metadata": {},
   "outputs": [
    {
     "data": {
      "text/plain": [
       "[[5, 6, 9], [5, 7, 1]]"
      ]
     },
     "execution_count": 13,
     "metadata": {},
     "output_type": "execute_result"
    }
   ],
   "source": [
    "transpose_matrix([ [5, 5], [6, 7], [9, 1] ])"
   ]
  },
  {
   "cell_type": "markdown",
   "id": "49b85d20",
   "metadata": {},
   "source": [
    "# Question 2. \n",
    ">Create a function that determines whether a string is a valid hex code.\n",
    "\n",
    ">A hex code must begin with a pound key # and is exactly 6 characters in length. Each character must be a digit from 0-9 or an alphabetic character from A-F. All alphabetic characters may be uppercase or lowercase.\n",
    "\n",
    ">Examples\n",
    "\n",
    ">is_valid_hex_code(\"#CD5C5C\") ➞ True\n",
    "\n",
    ">is_valid_hex_code(\"#EAECEE\") ➞ True\n",
    "\n",
    ">is_valid_hex_code(\"#eaecee\") ➞ True\n",
    "\n",
    ">is_valid_hex_code(\"#CD5C58C\") ➞ False\n",
    "\n",
    ">\\# Length exceeds 6\n",
    "\n",
    ">is_valid_hex_code(\"#CD5C5Z\") ➞ False\n",
    "\n",
    ">\\# Not all alphabetic characters in A-F\n",
    "\n",
    ">is_valid_hex_code(\"#CD5C&C\") ➞ False\n",
    "\n",
    ">\\# Contains unacceptable character\n",
    "\n",
    ">is_valid_hex_code(\"CD5C5C\") ➞ False\n",
    "\n",
    ">\\# Missing #\n",
    "\n"
   ]
  },
  {
   "cell_type": "code",
   "execution_count": 23,
   "id": "8d327a32",
   "metadata": {},
   "outputs": [],
   "source": [
    "def is_valid_hex_code(s):\n",
    "    import re\n",
    "    pattern = re.compile(r\"#[a-fA-F0-9]{6}\")\n",
    "    if re.findall(pattern,s) != [] and len(s)==7:\n",
    "        return True\n",
    "    else:\n",
    "        return False"
   ]
  },
  {
   "cell_type": "code",
   "execution_count": 24,
   "id": "22f3bdd5",
   "metadata": {},
   "outputs": [
    {
     "data": {
      "text/plain": [
       "True"
      ]
     },
     "execution_count": 24,
     "metadata": {},
     "output_type": "execute_result"
    }
   ],
   "source": [
    "is_valid_hex_code(\"#CD5C5C\")"
   ]
  },
  {
   "cell_type": "code",
   "execution_count": 25,
   "id": "aa1c873f",
   "metadata": {},
   "outputs": [
    {
     "data": {
      "text/plain": [
       "True"
      ]
     },
     "execution_count": 25,
     "metadata": {},
     "output_type": "execute_result"
    }
   ],
   "source": [
    "is_valid_hex_code(\"#EAECEE\")"
   ]
  },
  {
   "cell_type": "code",
   "execution_count": 26,
   "id": "7931c980",
   "metadata": {},
   "outputs": [
    {
     "data": {
      "text/plain": [
       "True"
      ]
     },
     "execution_count": 26,
     "metadata": {},
     "output_type": "execute_result"
    }
   ],
   "source": [
    "is_valid_hex_code(\"#eaecee\") "
   ]
  },
  {
   "cell_type": "code",
   "execution_count": 28,
   "id": "f89c1c3b",
   "metadata": {},
   "outputs": [
    {
     "data": {
      "text/plain": [
       "False"
      ]
     },
     "execution_count": 28,
     "metadata": {},
     "output_type": "execute_result"
    }
   ],
   "source": [
    "is_valid_hex_code(\"#CD5C58C\")"
   ]
  },
  {
   "cell_type": "code",
   "execution_count": 29,
   "id": "6d2e9f97",
   "metadata": {},
   "outputs": [
    {
     "data": {
      "text/plain": [
       "False"
      ]
     },
     "execution_count": 29,
     "metadata": {},
     "output_type": "execute_result"
    }
   ],
   "source": [
    "is_valid_hex_code(\"#CD5C5Z\") "
   ]
  },
  {
   "cell_type": "code",
   "execution_count": 30,
   "id": "c199e850",
   "metadata": {},
   "outputs": [
    {
     "data": {
      "text/plain": [
       "False"
      ]
     },
     "execution_count": 30,
     "metadata": {},
     "output_type": "execute_result"
    }
   ],
   "source": [
    "is_valid_hex_code(\"#CD5C&C\")"
   ]
  },
  {
   "cell_type": "code",
   "execution_count": 31,
   "id": "a0eee1a1",
   "metadata": {},
   "outputs": [
    {
     "data": {
      "text/plain": [
       "False"
      ]
     },
     "execution_count": 31,
     "metadata": {},
     "output_type": "execute_result"
    }
   ],
   "source": [
    "is_valid_hex_code(\"CD5C5C\")"
   ]
  },
  {
   "cell_type": "markdown",
   "id": "b5e82eb4",
   "metadata": {},
   "source": [
    "# Question 3. \n",
    ">Given a list of math equations (given as strings), return the percentage of correct answers as a string. Round to the nearest whole number.\n",
    "\n",
    ">Examples\n",
    "\n",
    ">mark_maths([\"2+2=4\", \"3+2=5\", \"10-3=3\", \"5+5=10\"]) ➞ \"75%\"\n",
    "\n",
    ">mark_maths([\"1-2=-2\"]), \"0%\"\n",
    "\n",
    ">mark_maths([\"2+3=5\", \"4+4=9\", \"3-1=2\"]) ➞ \"67%\"\n",
    "\n"
   ]
  },
  {
   "cell_type": "code",
   "execution_count": 49,
   "id": "9867b5ac",
   "metadata": {},
   "outputs": [],
   "source": [
    "def mark_maths(l):\n",
    "    r = 0\n",
    "    for i in l:\n",
    "        e = i.split(\"=\")\n",
    "        if eval(e[0]) == eval(e[1]):\n",
    "            r += 1\n",
    "            \n",
    "    return str(round((r/len(l))*100)) + \"%\"\n",
    "            "
   ]
  },
  {
   "cell_type": "code",
   "execution_count": 50,
   "id": "8b870341",
   "metadata": {},
   "outputs": [
    {
     "data": {
      "text/plain": [
       "'75%'"
      ]
     },
     "execution_count": 50,
     "metadata": {},
     "output_type": "execute_result"
    }
   ],
   "source": [
    "mark_maths([\"2+2=4\", \"3+2=5\", \"10-3=3\", \"5+5=10\"])"
   ]
  },
  {
   "cell_type": "code",
   "execution_count": 51,
   "id": "138ad4ad",
   "metadata": {},
   "outputs": [
    {
     "data": {
      "text/plain": [
       "'0%'"
      ]
     },
     "execution_count": 51,
     "metadata": {},
     "output_type": "execute_result"
    }
   ],
   "source": [
    "mark_maths([\"1-2=-2\"])"
   ]
  },
  {
   "cell_type": "code",
   "execution_count": 52,
   "id": "b36b0612",
   "metadata": {},
   "outputs": [
    {
     "data": {
      "text/plain": [
       "'67%'"
      ]
     },
     "execution_count": 52,
     "metadata": {},
     "output_type": "execute_result"
    }
   ],
   "source": [
    "mark_maths([\"2+3=5\", \"4+4=9\", \"3-1=2\"]) "
   ]
  },
  {
   "cell_type": "markdown",
   "id": "bc3988df",
   "metadata": {},
   "source": [
    "# Question 4. \n",
    ">There are two players, Alice and Bob, each with a 3-by-3 grid. A referee tells Alice to fill out one particular row in the grid (say the second row) by putting either a 1 or a 0 in each box, such that the sum of the numbers in that row is odd. The referee tells Bob to fill out one column in the grid (say the first column) by putting either a 1 or a 0 in each box, such that the sum of the numbers in that column is even.\n",
    "\n",
    ">Alice and Bob win the game if Alice’s numbers give an odd sum, Bob’s give an even sum, and (most important) they’ve each written down the same number in the one square where their row and column intersect.\n",
    "\n",
    ">Examples\n",
    "\n",
    ">magic_square_game([2, \"100\"], [1, \"101\"]) ➞ False\n",
    "\n",
    ">magic_square_game([2, \"001\"], [1, \"101\"]) ➞ True\n",
    "\n",
    ">magic_square_game([3, \"111\"], [2, \"011\"]) ➞ True\n",
    "\n",
    ">magic_square_game([1, \"010\"], [3, \"101\"]) ➞ False\n",
    "\n",
    ">\\# Two lists, Alice [row, \"her choice\"], Bob [column, \"his choice\"]\n",
    "\n"
   ]
  },
  {
   "cell_type": "code",
   "execution_count": 90,
   "id": "15397820",
   "metadata": {},
   "outputs": [],
   "source": [
    "def magic_square_game(l1,l2):\n",
    "    d = {}\n",
    "    Alice = [int(i) for i in tuple(l1[1])]\n",
    "    Bob = [int(i) for i in tuple(l2[1])]\n",
    "    Alice_Row = l1[0]-1\n",
    "    Bob_Column = l2[0]-1\n",
    "    for j in range(3):\n",
    "        if (d.get((Alice_Row,j),10) == 10) and (sum(Alice)%2 != 0):\n",
    "            d[Alice_Row,j] = Alice[j]\n",
    "            print(d)\n",
    "        elif  d[Alice_Row,j] == Bob[j]:\n",
    "            d[Alice_Row,j] = Alice[j]   \n",
    "        else:\n",
    "            return False\n",
    "    for i in range(3):\n",
    "\n",
    "        if (d.get((i,Bob_Column),10) == 10) and (sum(Bob)%2 == 0): \n",
    "            d[i,Bob_Column] = Bob[i]\n",
    "            print(d)\n",
    "        elif  d[i,Bob_Column] == Bob[i]:\n",
    "            d[i,Bob_Column] == Bob[i]\n",
    "        else:\n",
    "            return False\n",
    "    return True\n",
    "            \n",
    "    "
   ]
  },
  {
   "cell_type": "code",
   "execution_count": 91,
   "id": "e237ebfb",
   "metadata": {},
   "outputs": [
    {
     "name": "stdout",
     "output_type": "stream",
     "text": [
      "{(1, 0): 1}\n",
      "{(1, 0): 1, (1, 1): 0}\n",
      "{(1, 0): 1, (1, 1): 0, (1, 2): 0}\n",
      "{(1, 0): 1, (1, 1): 0, (1, 2): 0, (0, 0): 1}\n"
     ]
    },
    {
     "data": {
      "text/plain": [
       "False"
      ]
     },
     "execution_count": 91,
     "metadata": {},
     "output_type": "execute_result"
    }
   ],
   "source": [
    "magic_square_game([2, \"100\"], [1, \"101\"]) "
   ]
  },
  {
   "cell_type": "code",
   "execution_count": 92,
   "id": "458c1cf2",
   "metadata": {},
   "outputs": [
    {
     "name": "stdout",
     "output_type": "stream",
     "text": [
      "{(1, 0): 0}\n",
      "{(1, 0): 0, (1, 1): 0}\n",
      "{(1, 0): 0, (1, 1): 0, (1, 2): 1}\n",
      "{(1, 0): 0, (1, 1): 0, (1, 2): 1, (0, 0): 1}\n",
      "{(1, 0): 0, (1, 1): 0, (1, 2): 1, (0, 0): 1, (2, 0): 1}\n"
     ]
    },
    {
     "data": {
      "text/plain": [
       "True"
      ]
     },
     "execution_count": 92,
     "metadata": {},
     "output_type": "execute_result"
    }
   ],
   "source": [
    "magic_square_game([2, \"001\"], [1, \"101\"])"
   ]
  },
  {
   "cell_type": "code",
   "execution_count": 93,
   "id": "6becba21",
   "metadata": {},
   "outputs": [
    {
     "name": "stdout",
     "output_type": "stream",
     "text": [
      "{(2, 0): 1}\n",
      "{(2, 0): 1, (2, 1): 1}\n",
      "{(2, 0): 1, (2, 1): 1, (2, 2): 1}\n",
      "{(2, 0): 1, (2, 1): 1, (2, 2): 1, (0, 1): 0}\n",
      "{(2, 0): 1, (2, 1): 1, (2, 2): 1, (0, 1): 0, (1, 1): 1}\n"
     ]
    },
    {
     "data": {
      "text/plain": [
       "True"
      ]
     },
     "execution_count": 93,
     "metadata": {},
     "output_type": "execute_result"
    }
   ],
   "source": [
    "magic_square_game([3, \"111\"], [2, \"011\"])"
   ]
  },
  {
   "cell_type": "code",
   "execution_count": 94,
   "id": "2cfa68bf",
   "metadata": {},
   "outputs": [
    {
     "name": "stdout",
     "output_type": "stream",
     "text": [
      "{(0, 0): 0}\n",
      "{(0, 0): 0, (0, 1): 1}\n",
      "{(0, 0): 0, (0, 1): 1, (0, 2): 0}\n"
     ]
    },
    {
     "data": {
      "text/plain": [
       "False"
      ]
     },
     "execution_count": 94,
     "metadata": {},
     "output_type": "execute_result"
    }
   ],
   "source": [
    "magic_square_game([1, \"010\"], [3, \"101\"])"
   ]
  },
  {
   "cell_type": "code",
   "execution_count": null,
   "id": "2e9a3c6f",
   "metadata": {},
   "outputs": [],
   "source": []
  },
  {
   "cell_type": "markdown",
   "id": "666dd182",
   "metadata": {},
   "source": [
    "# Question 5. \n",
    ">From point A, an object is moving towards point B at constant velocity va (in km/hr). From point B, another object is moving towards point A at constant velocity vb (in km/hr). Knowing this and the distance between point A and B (in km), write a function that returns how much time passes until both objects meet.\n",
    "\n",
    ">Format the output like this:\n",
    "\n",
    ">\"2h 23min 34s\"\n",
    "\n",
    ">Examples\n",
    "\n",
    ">lets_meet(100, 10, 30) ➞ \"2h 30min 0s\"\n",
    "\n",
    ">lets_meet(280, 70, 80) ➞ \"1h 52min 0s\"\n",
    "\n",
    ">lets_meet(90, 75, 65) ➞ \"0h 38min 34s\"\n"
   ]
  },
  {
   "cell_type": "code",
   "execution_count": 117,
   "id": "2d87c6e5",
   "metadata": {},
   "outputs": [],
   "source": [
    "def lets_meet(d,s1,s2):\n",
    "    t = (d)/(s1+s2)\n",
    "    time_in_seconds = t*60*60\n",
    "    minutes , seconds = divmod(time_in_seconds, 60)\n",
    "    hours , minutes = divmod(minutes, 60)\n",
    "    return \"%dh %02dmin %02ds\" % (hours, minutes, seconds)\n",
    "    "
   ]
  },
  {
   "cell_type": "code",
   "execution_count": 118,
   "id": "d1de751d",
   "metadata": {},
   "outputs": [
    {
     "data": {
      "text/plain": [
       "'2h 30min 00s'"
      ]
     },
     "execution_count": 118,
     "metadata": {},
     "output_type": "execute_result"
    }
   ],
   "source": [
    "lets_meet(100, 10, 30)"
   ]
  },
  {
   "cell_type": "code",
   "execution_count": 119,
   "id": "6e5fb078",
   "metadata": {},
   "outputs": [
    {
     "data": {
      "text/plain": [
       "'1h 52min 00s'"
      ]
     },
     "execution_count": 119,
     "metadata": {},
     "output_type": "execute_result"
    }
   ],
   "source": [
    "lets_meet(280, 70, 80)"
   ]
  },
  {
   "cell_type": "code",
   "execution_count": 120,
   "id": "c43d146e",
   "metadata": {},
   "outputs": [
    {
     "data": {
      "text/plain": [
       "'0h 38min 34s'"
      ]
     },
     "execution_count": 120,
     "metadata": {},
     "output_type": "execute_result"
    }
   ],
   "source": [
    "lets_meet(90, 75, 65) "
   ]
  },
  {
   "cell_type": "code",
   "execution_count": null,
   "id": "94816913",
   "metadata": {},
   "outputs": [],
   "source": []
  },
  {
   "cell_type": "code",
   "execution_count": null,
   "id": "3f315aa6",
   "metadata": {},
   "outputs": [],
   "source": []
  }
 ],
 "metadata": {
  "kernelspec": {
   "display_name": "Python [conda env:.conda-gputest] *",
   "language": "python",
   "name": "conda-env-.conda-gputest-py"
  },
  "language_info": {
   "codemirror_mode": {
    "name": "ipython",
    "version": 3
   },
   "file_extension": ".py",
   "mimetype": "text/x-python",
   "name": "python",
   "nbconvert_exporter": "python",
   "pygments_lexer": "ipython3",
   "version": "3.6.12"
  }
 },
 "nbformat": 4,
 "nbformat_minor": 5
}
