{
 "cells": [
  {
   "cell_type": "markdown",
   "metadata": {},
   "source": [
    "# Lambda\n",
    "\n",
    "> A lambda function is a small anonymous function.\n",
    "\n",
    "> A lambda function can take any number of arguments, but can only have one expression.\n",
    "\n",
    "### Syntax :\n",
    "\n",
    "> lambda arguments : expression\n",
    "\n",
    "### Description:\n",
    "\n",
    "> This function can have any number of arguments but only one expression, which is evaluated and returned."
   ]
  },
  {
   "cell_type": "markdown",
   "metadata": {},
   "source": [
    "### Example1 :\n",
    "### Python code to illustrate cube of a number without using lambda "
   ]
  },
  {
   "cell_type": "code",
   "execution_count": 4,
   "metadata": {},
   "outputs": [
    {
     "name": "stdout",
     "output_type": "stream",
     "text": [
      "125\n"
     ]
    }
   ],
   "source": [
    "def cube(y):\n",
    "    return y*y*y\n",
    "print(cube(5))"
   ]
  },
  {
   "cell_type": "markdown",
   "metadata": {},
   "source": [
    "#### Without using Lambda: \n",
    "\n",
    ">While using def, we needed to define a function with a name cube and needed to pass a value to it. After execution, we also needed to return the result from where the function was called using the return keyword."
   ]
  },
  {
   "cell_type": "markdown",
   "metadata": {},
   "source": [
    "### Python code to illustrate cube of a number using lambda"
   ]
  },
  {
   "cell_type": "code",
   "execution_count": 5,
   "metadata": {},
   "outputs": [
    {
     "name": "stdout",
     "output_type": "stream",
     "text": [
      "125\n"
     ]
    }
   ],
   "source": [
    "lambda_cube = lambda y: y*y*y\n",
    "print(lambda_cube(5))"
   ]
  },
  {
   "cell_type": "markdown",
   "metadata": {},
   "source": [
    "#### Using Lambda: \n",
    "\n",
    ">Lambda definition does not include a “return” statement, it always contains an expression that is returned. We can also put a lambda definition anywhere a function is expected, and we don’t have to assign it to a variable at all. This is the simplicity of lambda functions."
   ]
  },
  {
   "cell_type": "markdown",
   "metadata": {},
   "source": [
    "### Example 2 : Python Lambda Function – Multiple arguments"
   ]
  },
  {
   "cell_type": "code",
   "execution_count": 6,
   "metadata": {},
   "outputs": [
    {
     "name": "stdout",
     "output_type": "stream",
     "text": [
      "15\n"
     ]
    }
   ],
   "source": [
    "mul = lambda a,b: a*b\n",
    "result = mul(5,3)\n",
    "print(result)"
   ]
  },
  {
   "cell_type": "markdown",
   "metadata": {},
   "source": [
    "### Example 3: Python Lambda Function with No Arguments"
   ]
  },
  {
   "cell_type": "code",
   "execution_count": 2,
   "metadata": {},
   "outputs": [
    {
     "name": "stdout",
     "output_type": "stream",
     "text": [
      "6\n"
     ]
    }
   ],
   "source": [
    "six = lambda : 6 \n",
    "result = six()\n",
    "print(result)"
   ]
  },
  {
   "cell_type": "markdown",
   "metadata": {},
   "source": [
    "### Example 4: Recursive Lambda Function"
   ]
  },
  {
   "cell_type": "code",
   "execution_count": 6,
   "metadata": {},
   "outputs": [
    {
     "name": "stdout",
     "output_type": "stream",
     "text": [
      "120\n"
     ]
    }
   ],
   "source": [
    "factorial = lambda a: a*factorial(a-1) if (a>1) else 1\n",
    "result = factorial(5)\n",
    "print(result)"
   ]
  },
  {
   "cell_type": "markdown",
   "metadata": {},
   "source": [
    "### Example 5: Return Lambda Function"
   ]
  },
  {
   "cell_type": "code",
   "execution_count": 3,
   "metadata": {},
   "outputs": [
    {
     "data": {
      "text/plain": [
       "9"
      ]
     },
     "execution_count": 3,
     "metadata": {},
     "output_type": "execute_result"
    }
   ],
   "source": [
    "power = lambda a,n : a**n\n",
    "power(3,2)"
   ]
  },
  {
   "cell_type": "code",
   "execution_count": 9,
   "metadata": {},
   "outputs": [
    {
     "name": "stdout",
     "output_type": "stream",
     "text": [
      "9.0\n",
      "27.0\n",
      "1.7320508075688772\n"
     ]
    }
   ],
   "source": [
    "import math\n",
    "def myfunc(n):\n",
    "    return lambda a : math.pow(a, n)\n",
    "\n",
    "square = myfunc(2) #square = lambda a : math.pow(a, 2)\n",
    "cube = myfunc(3) #cube =  = lambda a : math.pow(a, 3)\n",
    "squareroot = myfunc(0.5) #squareroot = lambda a : math.pow(a, 0.5) \n",
    "\n",
    "print(square(3))\n",
    "print(cube(3))\n",
    "print(squareroot(3))"
   ]
  },
  {
   "cell_type": "code",
   "execution_count": null,
   "metadata": {},
   "outputs": [],
   "source": []
  },
  {
   "cell_type": "markdown",
   "metadata": {},
   "source": [
    "# Filter\n",
    "\n",
    "> The filter function in Python is used to fetch some selected elements from a iterable using certain conditions.\n",
    "\n",
    "### Syntax :\n",
    "\n",
    "> filter(function, iterable)\n",
    "\n",
    "### Description:\n",
    "\n",
    "> #### Function :  \n",
    "\n",
    ">Pass a regular Python function that tests if each element of a sequence true or not\n",
    "\n",
    "> #### iterable:\n",
    "\n",
    ">Pass any collection that is iterable, for example, tuple, list, etc."
   ]
  },
  {
   "cell_type": "markdown",
   "metadata": {},
   "source": [
    "### Example 1: Python filter()"
   ]
  },
  {
   "cell_type": "code",
   "execution_count": 1,
   "metadata": {},
   "outputs": [
    {
     "name": "stdout",
     "output_type": "stream",
     "text": [
      "2\n",
      "4\n",
      "6\n",
      "8\n"
     ]
    }
   ],
   "source": [
    "def even(n) :\n",
    "    if n % 2 == 0 :\n",
    "        return True\n",
    "    else :\n",
    "        return False\n",
    "\n",
    "list1 = [1, 2, 3, 4, 5, 6, 7, 8]\n",
    "\n",
    "output = filter(even, list1)\n",
    "\n",
    "for x in output:\n",
    "    print(x)"
   ]
  },
  {
   "cell_type": "markdown",
   "metadata": {},
   "source": [
    "### Example 2: Python filter() with Lambda Function"
   ]
  },
  {
   "cell_type": "code",
   "execution_count": 24,
   "metadata": {},
   "outputs": [
    {
     "name": "stdout",
     "output_type": "stream",
     "text": [
      "<filter object at 0x00000128735F00B8>\n",
      "2\n",
      "4\n",
      "6\n",
      "8\n"
     ]
    }
   ],
   "source": [
    "list1 = [1, 2, 3, 4, 5, 6, 7, 8]\n",
    "\n",
    "output = filter(lambda n: True if n % 2 == 0 else False, list1)\n",
    "print(output)\n",
    "\n",
    "for x in output:\n",
    "    print(x)"
   ]
  },
  {
   "cell_type": "code",
   "execution_count": 23,
   "metadata": {},
   "outputs": [
    {
     "name": "stdout",
     "output_type": "stream",
     "text": [
      "[2, 4, 6, 8]\n",
      "2\n",
      "4\n",
      "6\n",
      "8\n"
     ]
    }
   ],
   "source": [
    "list1 = [1, 2, 3, 4, 5, 6, 7, 8]\n",
    "\n",
    "output = list(filter(lambda n: True if n % 2 == 0 else False, list1))\n",
    "print(output)\n",
    "\n",
    "for x in output:\n",
    "    print(x)"
   ]
  },
  {
   "cell_type": "markdown",
   "metadata": {},
   "source": [
    "# Map\n",
    "\n",
    "> map() function returns a map object(which is an iterator) of the results after applying the given function to each item of a given iterable (list, tuple etc.)\n",
    "\n",
    "### Syntax :\n",
    "\n",
    "> map(function, iterables)\n",
    "\n",
    "### Description :\n",
    "\n",
    "> #### function :\n",
    "\n",
    "> map() passes each item of the iterable to this function.\n",
    "\n",
    "> #### iterable :\n",
    "\n",
    "> iterable which is to be mapped"
   ]
  },
  {
   "cell_type": "markdown",
   "metadata": {},
   "source": [
    "### Example 1:"
   ]
  },
  {
   "cell_type": "code",
   "execution_count": 10,
   "metadata": {},
   "outputs": [
    {
     "name": "stdout",
     "output_type": "stream",
     "text": [
      "[1, 4, 9, 16, 25, 36]\n"
     ]
    }
   ],
   "source": [
    "def square(n):\n",
    "    return n**2\n",
    "\n",
    "x = map(square, [1, 2, 3, 4, 5, 6])\n",
    "print(list(x))"
   ]
  },
  {
   "cell_type": "markdown",
   "metadata": {},
   "source": [
    "### Example 2: Python map() with Lambda Function"
   ]
  },
  {
   "cell_type": "code",
   "execution_count": 11,
   "metadata": {},
   "outputs": [
    {
     "name": "stdout",
     "output_type": "stream",
     "text": [
      "[1, 4, 9, 16, 25, 36]\n"
     ]
    }
   ],
   "source": [
    "x = map(lambda n: n**2, [1, 2, 3, 4, 5, 6])\n",
    "print(list(x))"
   ]
  },
  {
   "cell_type": "markdown",
   "metadata": {},
   "source": [
    "### Example 3 :"
   ]
  },
  {
   "cell_type": "code",
   "execution_count": 34,
   "metadata": {},
   "outputs": [
    {
     "data": {
      "text/plain": [
       "<map at 0x128735f0710>"
      ]
     },
     "execution_count": 34,
     "metadata": {},
     "output_type": "execute_result"
    }
   ],
   "source": [
    "l = ['sat', 'bat', 'cat', 'mat']\n",
    "map(list, l)"
   ]
  },
  {
   "cell_type": "code",
   "execution_count": 12,
   "metadata": {},
   "outputs": [
    {
     "name": "stdout",
     "output_type": "stream",
     "text": [
      "[['s', 'a', 't'], ['b', 'a', 't'], ['c', 'a', 't'], ['m', 'a', 't']]\n"
     ]
    }
   ],
   "source": [
    "l = ['sat', 'bat', 'cat', 'mat']\n",
    "test = list(map(list, l))\n",
    "print(test)"
   ]
  },
  {
   "cell_type": "markdown",
   "metadata": {},
   "source": [
    "# Reduce \n",
    "\n",
    "> Python’s reduce() implements a mathematical technique commonly known as folding or reduction. We’re doing a fold or reduction when you reduce a list of items to a single cumulative value. Python’s reduce() operates on any iterable. This function is defined in “functools” module.\n",
    "\n",
    "### Syntax :\n",
    "\n",
    "> reduce(FUNCTION, SEQUENCE, INITIAL)\n",
    "\n",
    "> `reduce` is the name reduce function\n",
    "\n",
    "> `FUNCTION`is the function name we want to use for evaluation of the SEQUENCE items.\n",
    "\n",
    "> `SEQUENCE` is the list that contains multiple items that are processed or evaluated by the FUNCTION.\n",
    "\n",
    "> `INITIAL` can be set as the first argument to the FUNCTION but INITIAL is optional and generally not used.\n",
    "\n",
    "### Description :\n",
    "\n",
    "> 1. Apply a function (or callable) to the first two items in an iterable and generate a partial result.\n",
    "\n",
    "> 2. Use that partial result, together with the third item in the iterable, to generate another partial result.\n",
    "\n",
    "> 3. Repeat the process until the iterable is exhausted and then return a single cumulative value.\n",
    "\n",
    "### Import functools Module/Library;\n",
    "\n",
    "> In order to use the reduce() function we need to provide the module which provides it. functools module provides the reduce() function.\n",
    "\n",
    ">> import functools\n"
   ]
  },
  {
   "cell_type": "markdown",
   "metadata": {},
   "source": [
    "### Example 1 :"
   ]
  },
  {
   "cell_type": "code",
   "execution_count": 17,
   "metadata": {},
   "outputs": [
    {
     "name": "stdout",
     "output_type": "stream",
     "text": [
      "15\n"
     ]
    }
   ],
   "source": [
    "from functools import reduce\n",
    "\n",
    "numbers = [ 1 , 2 , 3 , 4 , 5 ]\n",
    "\n",
    "def my_sum(a,b):\n",
    "    return a+b\n",
    "\n",
    "result = reduce(my_sum,numbers)\n",
    "\n",
    "print(result)"
   ]
  },
  {
   "cell_type": "markdown",
   "metadata": {},
   "source": [
    ">1. For the first time, the first and second elements of the numbers list will be provided to the my_sum() function.\n",
    "\n",
    ">2. As my_sum() function sum the given arguments which are 1 and 3 the function will return 3.\n",
    "\n",
    ">3. Now the 3 and next which is third in the list number 3 will be provided to the my_sum() function which will sum them and return 6\n",
    "\n",
    ">4. Now we have 6 and the fourth element of the numbers list which is 4 will be provided to the my_sum() function.\n",
    "\n",
    ">5. this will continue to every item in the list are evaluated with the given function and the last value will be set to the `result` variable."
   ]
  },
  {
   "cell_type": "markdown",
   "metadata": {},
   "source": [
    "### Example 2 : reduce() Example with Initial Value"
   ]
  },
  {
   "cell_type": "code",
   "execution_count": 18,
   "metadata": {},
   "outputs": [
    {
     "name": "stdout",
     "output_type": "stream",
     "text": [
      "22\n"
     ]
    }
   ],
   "source": [
    "from functools import reduce\n",
    "\n",
    "numbers = [ 1 , 2 , 3 , 4 , 5 ]\n",
    "\n",
    "def my_sum(a,b):\n",
    "    return a+b\n",
    "\n",
    "result = reduce(my_sum,numbers,7)\n",
    "\n",
    "print(result)"
   ]
  },
  {
   "cell_type": "markdown",
   "metadata": {},
   "source": [
    ">1. 7 is provided as the initial value and 1 is the first element of the numbers list. 7 and 1 will be provided to the function my_sum() as parameters and the result will be 8.\n",
    "\n",
    ">2. In the second iteration, the 8 will be first and 2 will be the second argument to the function my_sum().\n",
    "\n",
    ">3. things will continue like normal reduce function."
   ]
  },
  {
   "cell_type": "markdown",
   "metadata": {},
   "source": [
    "### Example 3 : reduce() Function with Operator Functions"
   ]
  },
  {
   "cell_type": "code",
   "execution_count": 19,
   "metadata": {},
   "outputs": [
    {
     "name": "stdout",
     "output_type": "stream",
     "text": [
      "15\n"
     ]
    }
   ],
   "source": [
    "from functools import reduce\n",
    "\n",
    "from operator import add\n",
    "\n",
    "numbers = [ 1 , 2 , 3 , 4 , 5 ]\n",
    "\n",
    "result = reduce(add,numbers)\n",
    "\n",
    "print(result)"
   ]
  },
  {
   "cell_type": "markdown",
   "metadata": {},
   "source": [
    "### Example 4 : reduce() with Lambda Function"
   ]
  },
  {
   "cell_type": "code",
   "execution_count": 20,
   "metadata": {},
   "outputs": [
    {
     "name": "stdout",
     "output_type": "stream",
     "text": [
      "15\n"
     ]
    }
   ],
   "source": [
    "from functools import reduce\n",
    "\n",
    "numbers = [ 1 , 2 , 3 , 4 , 5 ]\n",
    "\n",
    "result = reduce(lambda x,y: x+y ,numbers)\n",
    "\n",
    "print(result)"
   ]
  },
  {
   "cell_type": "markdown",
   "metadata": {},
   "source": [
    "### Example 5 : Convert List To String with reduce()"
   ]
  },
  {
   "cell_type": "code",
   "execution_count": 21,
   "metadata": {},
   "outputs": [
    {
     "name": "stdout",
     "output_type": "stream",
     "text": [
      "I love poftut.com\n"
     ]
    }
   ],
   "source": [
    "from functools import reduce\n",
    "\n",
    "from operator import add\n",
    "\n",
    "strlist=['I ', 'love ', 'poftut.com']\n",
    "\n",
    "result = reduce(lambda x,y: x+y ,strlist)\n",
    "\n",
    "print(result)"
   ]
  },
  {
   "cell_type": "code",
   "execution_count": null,
   "metadata": {},
   "outputs": [],
   "source": []
  },
  {
   "cell_type": "code",
   "execution_count": null,
   "metadata": {},
   "outputs": [],
   "source": []
  }
 ],
 "metadata": {
  "kernelspec": {
   "display_name": "Python 3",
   "language": "python",
   "name": "python3"
  },
  "language_info": {
   "codemirror_mode": {
    "name": "ipython",
    "version": 3
   },
   "file_extension": ".py",
   "mimetype": "text/x-python",
   "name": "python",
   "nbconvert_exporter": "python",
   "pygments_lexer": "ipython3",
   "version": "3.6.12"
  }
 },
 "nbformat": 4,
 "nbformat_minor": 4
}
