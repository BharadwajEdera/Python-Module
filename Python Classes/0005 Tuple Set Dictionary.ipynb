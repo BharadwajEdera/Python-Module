{
 "cells": [
  {
   "cell_type": "markdown",
   "id": "frozen-outline",
   "metadata": {},
   "source": [
    "# TUPLE"
   ]
  },
  {
   "cell_type": "code",
   "execution_count": 1,
   "id": "vertical-dominant",
   "metadata": {},
   "outputs": [],
   "source": [
    "t = ()"
   ]
  },
  {
   "cell_type": "code",
   "execution_count": 2,
   "id": "spread-visitor",
   "metadata": {},
   "outputs": [
    {
     "data": {
      "text/plain": [
       "tuple"
      ]
     },
     "execution_count": 2,
     "metadata": {},
     "output_type": "execute_result"
    }
   ],
   "source": [
    "type(t)"
   ]
  },
  {
   "cell_type": "code",
   "execution_count": 3,
   "id": "artistic-homeless",
   "metadata": {},
   "outputs": [
    {
     "data": {
      "text/plain": [
       "list"
      ]
     },
     "execution_count": 3,
     "metadata": {},
     "output_type": "execute_result"
    }
   ],
   "source": [
    "l = []\n",
    "type(l)"
   ]
  },
  {
   "cell_type": "code",
   "execution_count": 5,
   "id": "humanitarian-ethernet",
   "metadata": {},
   "outputs": [
    {
     "data": {
      "text/plain": [
       "(1, 2, 'bharadwaja', 12.5, True, (3+5j))"
      ]
     },
     "execution_count": 5,
     "metadata": {},
     "output_type": "execute_result"
    }
   ],
   "source": [
    "t1 = (1,2,\"bharadwaja\",12.5,True,3+5j)\n",
    "t1"
   ]
  },
  {
   "cell_type": "code",
   "execution_count": 6,
   "id": "stunning-asian",
   "metadata": {},
   "outputs": [
    {
     "data": {
      "text/plain": [
       "[1, 2, 'bharadwaja', 12.5, True, (3+5j)]"
      ]
     },
     "execution_count": 6,
     "metadata": {},
     "output_type": "execute_result"
    }
   ],
   "source": [
    "l1 =[1,2,\"bharadwaja\",12.5,True,3+5j]\n",
    "l1"
   ]
  },
  {
   "cell_type": "code",
   "execution_count": 7,
   "id": "victorian-introduction",
   "metadata": {},
   "outputs": [
    {
     "data": {
      "text/plain": [
       "1"
      ]
     },
     "execution_count": 7,
     "metadata": {},
     "output_type": "execute_result"
    }
   ],
   "source": [
    "t1[0]"
   ]
  },
  {
   "cell_type": "code",
   "execution_count": 8,
   "id": "chubby-committee",
   "metadata": {},
   "outputs": [
    {
     "ename": "IndexError",
     "evalue": "tuple index out of range",
     "output_type": "error",
     "traceback": [
      "\u001b[1;31m---------------------------------------------------------------------------\u001b[0m",
      "\u001b[1;31mIndexError\u001b[0m                                Traceback (most recent call last)",
      "\u001b[1;32m<ipython-input-8-4e90c3f6fed8>\u001b[0m in \u001b[0;36m<module>\u001b[1;34m\u001b[0m\n\u001b[1;32m----> 1\u001b[1;33m \u001b[0mt1\u001b[0m\u001b[1;33m[\u001b[0m\u001b[1;36m10\u001b[0m\u001b[1;33m]\u001b[0m\u001b[1;33m\u001b[0m\u001b[1;33m\u001b[0m\u001b[0m\n\u001b[0m",
      "\u001b[1;31mIndexError\u001b[0m: tuple index out of range"
     ]
    }
   ],
   "source": [
    "t1[10]"
   ]
  },
  {
   "cell_type": "code",
   "execution_count": 9,
   "id": "formal-darwin",
   "metadata": {},
   "outputs": [
    {
     "data": {
      "text/plain": [
       "(1, 2, 'bharadwaja')"
      ]
     },
     "execution_count": 9,
     "metadata": {},
     "output_type": "execute_result"
    }
   ],
   "source": [
    "t1[0:3]"
   ]
  },
  {
   "cell_type": "code",
   "execution_count": 11,
   "id": "micro-childhood",
   "metadata": {},
   "outputs": [
    {
     "data": {
      "text/plain": [
       "((3+5j), True, 12.5, 'bharadwaja', 2, 1)"
      ]
     },
     "execution_count": 11,
     "metadata": {},
     "output_type": "execute_result"
    }
   ],
   "source": [
    "t1[::-1]"
   ]
  },
  {
   "cell_type": "code",
   "execution_count": 12,
   "id": "union-ceiling",
   "metadata": {},
   "outputs": [
    {
     "data": {
      "text/plain": [
       "1"
      ]
     },
     "execution_count": 12,
     "metadata": {},
     "output_type": "execute_result"
    }
   ],
   "source": [
    "l1[0]"
   ]
  },
  {
   "cell_type": "markdown",
   "id": "driven-primary",
   "metadata": {},
   "source": [
    "## List are called immutable"
   ]
  },
  {
   "cell_type": "code",
   "execution_count": 13,
   "id": "characteristic-monroe",
   "metadata": {},
   "outputs": [],
   "source": [
    "l1[0] = \"Sai\""
   ]
  },
  {
   "cell_type": "code",
   "execution_count": 14,
   "id": "sharp-management",
   "metadata": {},
   "outputs": [
    {
     "data": {
      "text/plain": [
       "['Sai', 2, 'bharadwaja', 12.5, True, (3+5j)]"
      ]
     },
     "execution_count": 14,
     "metadata": {},
     "output_type": "execute_result"
    }
   ],
   "source": [
    "l1"
   ]
  },
  {
   "cell_type": "code",
   "execution_count": 15,
   "id": "geographic-glucose",
   "metadata": {},
   "outputs": [
    {
     "data": {
      "text/plain": [
       "1"
      ]
     },
     "execution_count": 15,
     "metadata": {},
     "output_type": "execute_result"
    }
   ],
   "source": [
    "t1[0]"
   ]
  },
  {
   "cell_type": "markdown",
   "id": "sound-trust",
   "metadata": {},
   "source": [
    "## Tuples are called immutable"
   ]
  },
  {
   "cell_type": "code",
   "execution_count": 16,
   "id": "loved-notion",
   "metadata": {},
   "outputs": [
    {
     "ename": "TypeError",
     "evalue": "'tuple' object does not support item assignment",
     "output_type": "error",
     "traceback": [
      "\u001b[1;31m---------------------------------------------------------------------------\u001b[0m",
      "\u001b[1;31mTypeError\u001b[0m                                 Traceback (most recent call last)",
      "\u001b[1;32m<ipython-input-16-bd54699a033b>\u001b[0m in \u001b[0;36m<module>\u001b[1;34m\u001b[0m\n\u001b[1;32m----> 1\u001b[1;33m \u001b[0mt1\u001b[0m\u001b[1;33m[\u001b[0m\u001b[1;36m0\u001b[0m\u001b[1;33m]\u001b[0m \u001b[1;33m=\u001b[0m \u001b[1;34m\"sai\"\u001b[0m\u001b[1;33m\u001b[0m\u001b[1;33m\u001b[0m\u001b[0m\n\u001b[0m",
      "\u001b[1;31mTypeError\u001b[0m: 'tuple' object does not support item assignment"
     ]
    }
   ],
   "source": [
    "t1[0] = \"sai\""
   ]
  },
  {
   "cell_type": "code",
   "execution_count": 17,
   "id": "equipped-arthritis",
   "metadata": {},
   "outputs": [],
   "source": [
    "t2 = (25,52,85)"
   ]
  },
  {
   "cell_type": "code",
   "execution_count": 18,
   "id": "classified-decision",
   "metadata": {},
   "outputs": [
    {
     "data": {
      "text/plain": [
       "(1, 2, 'bharadwaja', 12.5, True, (3+5j), 25, 52, 85)"
      ]
     },
     "execution_count": 18,
     "metadata": {},
     "output_type": "execute_result"
    }
   ],
   "source": [
    "t1 + t2"
   ]
  },
  {
   "cell_type": "code",
   "execution_count": 19,
   "id": "common-fifteen",
   "metadata": {},
   "outputs": [
    {
     "data": {
      "text/plain": [
       "(1,\n",
       " 2,\n",
       " 'bharadwaja',\n",
       " 12.5,\n",
       " True,\n",
       " (3+5j),\n",
       " 1,\n",
       " 2,\n",
       " 'bharadwaja',\n",
       " 12.5,\n",
       " True,\n",
       " (3+5j),\n",
       " 1,\n",
       " 2,\n",
       " 'bharadwaja',\n",
       " 12.5,\n",
       " True,\n",
       " (3+5j))"
      ]
     },
     "execution_count": 19,
     "metadata": {},
     "output_type": "execute_result"
    }
   ],
   "source": [
    "t1 * 3"
   ]
  },
  {
   "cell_type": "code",
   "execution_count": 20,
   "id": "peripheral-edition",
   "metadata": {},
   "outputs": [
    {
     "data": {
      "text/plain": [
       "False"
      ]
     },
     "execution_count": 20,
     "metadata": {},
     "output_type": "execute_result"
    }
   ],
   "source": [
    "34 in t1"
   ]
  },
  {
   "cell_type": "code",
   "execution_count": 21,
   "id": "documented-diameter",
   "metadata": {},
   "outputs": [
    {
     "data": {
      "text/plain": [
       "True"
      ]
     },
     "execution_count": 21,
     "metadata": {},
     "output_type": "execute_result"
    }
   ],
   "source": [
    "True in t1"
   ]
  },
  {
   "cell_type": "code",
   "execution_count": 23,
   "id": "bulgarian-czech",
   "metadata": {},
   "outputs": [
    {
     "data": {
      "text/plain": [
       "True"
      ]
     },
     "execution_count": 23,
     "metadata": {},
     "output_type": "execute_result"
    }
   ],
   "source": [
    "12.5 in t1"
   ]
  },
  {
   "cell_type": "code",
   "execution_count": 24,
   "id": "sunrise-herald",
   "metadata": {},
   "outputs": [
    {
     "ename": "TypeError",
     "evalue": "'>' not supported between instances of 'str' and 'int'",
     "output_type": "error",
     "traceback": [
      "\u001b[1;31m---------------------------------------------------------------------------\u001b[0m",
      "\u001b[1;31mTypeError\u001b[0m                                 Traceback (most recent call last)",
      "\u001b[1;32m<ipython-input-24-07c1bf72392e>\u001b[0m in \u001b[0;36m<module>\u001b[1;34m\u001b[0m\n\u001b[1;32m----> 1\u001b[1;33m \u001b[0mmax\u001b[0m\u001b[1;33m(\u001b[0m\u001b[0mt1\u001b[0m\u001b[1;33m)\u001b[0m\u001b[1;33m\u001b[0m\u001b[1;33m\u001b[0m\u001b[0m\n\u001b[0m",
      "\u001b[1;31mTypeError\u001b[0m: '>' not supported between instances of 'str' and 'int'"
     ]
    }
   ],
   "source": [
    "max(t1)"
   ]
  },
  {
   "cell_type": "code",
   "execution_count": 26,
   "id": "valuable-water",
   "metadata": {},
   "outputs": [
    {
     "data": {
      "text/plain": [
       "(25, 52, 85)"
      ]
     },
     "execution_count": 26,
     "metadata": {},
     "output_type": "execute_result"
    }
   ],
   "source": [
    "t2"
   ]
  },
  {
   "cell_type": "code",
   "execution_count": 25,
   "id": "persistent-average",
   "metadata": {},
   "outputs": [
    {
     "data": {
      "text/plain": [
       "85"
      ]
     },
     "execution_count": 25,
     "metadata": {},
     "output_type": "execute_result"
    }
   ],
   "source": [
    "max(t2)"
   ]
  },
  {
   "cell_type": "code",
   "execution_count": 27,
   "id": "hungry-crash",
   "metadata": {},
   "outputs": [],
   "source": [
    "t4 = (\"abc\",\"abcd\",\"abcdef\")"
   ]
  },
  {
   "cell_type": "code",
   "execution_count": 29,
   "id": "useful-moral",
   "metadata": {},
   "outputs": [
    {
     "data": {
      "text/plain": [
       "'abcdef'"
      ]
     },
     "execution_count": 29,
     "metadata": {},
     "output_type": "execute_result"
    }
   ],
   "source": [
    "max(t4)"
   ]
  },
  {
   "cell_type": "code",
   "execution_count": 31,
   "id": "damaged-connection",
   "metadata": {},
   "outputs": [
    {
     "data": {
      "text/plain": [
       "2"
      ]
     },
     "execution_count": 31,
     "metadata": {},
     "output_type": "execute_result"
    }
   ],
   "source": [
    "t1.index(\"bharadwaja\")"
   ]
  },
  {
   "cell_type": "code",
   "execution_count": 33,
   "id": "apparent-length",
   "metadata": {},
   "outputs": [
    {
     "data": {
      "text/plain": [
       "3"
      ]
     },
     "execution_count": 33,
     "metadata": {},
     "output_type": "execute_result"
    }
   ],
   "source": [
    "t1 = (1, 2, 'bharadwaja', 12.5,12.5,12.5, True, (3+5j))\n",
    "t1.index(12.5)"
   ]
  },
  {
   "cell_type": "code",
   "execution_count": 34,
   "id": "legitimate-chicago",
   "metadata": {},
   "outputs": [
    {
     "data": {
      "text/plain": [
       "3"
      ]
     },
     "execution_count": 34,
     "metadata": {},
     "output_type": "execute_result"
    }
   ],
   "source": [
    "t1.count(12.5)"
   ]
  },
  {
   "cell_type": "code",
   "execution_count": 35,
   "id": "binary-envelope",
   "metadata": {},
   "outputs": [
    {
     "data": {
      "text/plain": [
       "(1, 2, 'bharadwaja', 12.5, 12.5, 12.5, True, (3+5j))"
      ]
     },
     "execution_count": 35,
     "metadata": {},
     "output_type": "execute_result"
    }
   ],
   "source": [
    "t1\n"
   ]
  },
  {
   "cell_type": "code",
   "execution_count": 42,
   "id": "continued-sister",
   "metadata": {},
   "outputs": [
    {
     "name": "stdout",
     "output_type": "stream",
     "text": [
      "id of intial t1 2216027850456\n",
      "id of intial l 2216027706120\n",
      "id of after list to tuple t1 2216027849448\n"
     ]
    }
   ],
   "source": [
    "t1 = (1, 2, 'bharadwaja', 12.5,12.5,12.5, True, (3+5j))\n",
    "print(\"id of intial t1\",id(t1))\n",
    "l =list(t1)\n",
    "print(\"id of intial l\",id(l))\n",
    "l[1] = \"Bhagya\"\n",
    "t1 = tuple(l)\n",
    "t1\n",
    "print(\"id of after list to tuple t1\",id(t1))"
   ]
  },
  {
   "cell_type": "code",
   "execution_count": 39,
   "id": "national-august",
   "metadata": {},
   "outputs": [
    {
     "data": {
      "text/plain": [
       "2216027849560"
      ]
     },
     "execution_count": 39,
     "metadata": {},
     "output_type": "execute_result"
    }
   ],
   "source": [
    "id(t1)"
   ]
  },
  {
   "cell_type": "code",
   "execution_count": 47,
   "id": "peaceful-bikini",
   "metadata": {},
   "outputs": [],
   "source": [
    "t = ((1,2,3,4,5),(\"Bharadwaja\",12,52,45,8),1,15,51, [12,13,14])"
   ]
  },
  {
   "cell_type": "code",
   "execution_count": 48,
   "id": "recovered-dutch",
   "metadata": {},
   "outputs": [
    {
     "data": {
      "text/plain": [
       "[12, 13, 14]"
      ]
     },
     "execution_count": 48,
     "metadata": {},
     "output_type": "execute_result"
    }
   ],
   "source": [
    "t[5]"
   ]
  },
  {
   "cell_type": "code",
   "execution_count": 50,
   "id": "protecting-ethics",
   "metadata": {},
   "outputs": [
    {
     "data": {
      "text/plain": [
       "[14]"
      ]
     },
     "execution_count": 50,
     "metadata": {},
     "output_type": "execute_result"
    }
   ],
   "source": [
    "t[5][2:3]"
   ]
  },
  {
   "cell_type": "code",
   "execution_count": 53,
   "id": "tender-clone",
   "metadata": {},
   "outputs": [
    {
     "name": "stdout",
     "output_type": "stream",
     "text": [
      "1\n",
      "Bharadwaja\n"
     ]
    }
   ],
   "source": [
    "for i in t:\n",
    "    if type(i) == tuple:\n",
    "        print(i[0])"
   ]
  },
  {
   "cell_type": "code",
   "execution_count": 54,
   "id": "large-official",
   "metadata": {},
   "outputs": [
    {
     "data": {
      "text/plain": [
       "(1, 'Bhagya', 'bharadwaja', 12.5, 12.5, 12.5, True, (3+5j))"
      ]
     },
     "execution_count": 54,
     "metadata": {},
     "output_type": "execute_result"
    }
   ],
   "source": [
    "t1"
   ]
  },
  {
   "cell_type": "code",
   "execution_count": 55,
   "id": "documented-tribute",
   "metadata": {},
   "outputs": [
    {
     "data": {
      "text/plain": [
       "(25, 52, 85)"
      ]
     },
     "execution_count": 55,
     "metadata": {},
     "output_type": "execute_result"
    }
   ],
   "source": [
    "t2"
   ]
  },
  {
   "cell_type": "code",
   "execution_count": 57,
   "id": "royal-queens",
   "metadata": {},
   "outputs": [
    {
     "name": "stdout",
     "output_type": "stream",
     "text": [
      "no\n"
     ]
    }
   ],
   "source": [
    "if len(t1) == len(t2):\n",
    "    print(\"same\")\n",
    "else:\n",
    "    print(\"no\")"
   ]
  },
  {
   "cell_type": "code",
   "execution_count": 66,
   "id": "fitting-exclusion",
   "metadata": {},
   "outputs": [],
   "source": [
    "t = (1, 'Bhagya', 'bharadwaja', 12.5, 12.5, 12.5, True, (3+5j))"
   ]
  },
  {
   "cell_type": "code",
   "execution_count": 67,
   "id": "assured-tobago",
   "metadata": {},
   "outputs": [
    {
     "name": "stdout",
     "output_type": "stream",
     "text": [
      "Give ur intials\n",
      "not available\n"
     ]
    }
   ],
   "source": [
    "i = input(\"Give ur intials\")\n",
    "if i in t:\n",
    "    print(\"initials available\")\n",
    "else:\n",
    "    print(\"not available\")"
   ]
  },
  {
   "cell_type": "code",
   "execution_count": 68,
   "id": "forward-workplace",
   "metadata": {},
   "outputs": [
    {
     "data": {
      "text/plain": [
       "(1, 'Bhagya', 'bharadwaja', 12.5, 12.5, 12.5, True, (3+5j))"
      ]
     },
     "execution_count": 68,
     "metadata": {},
     "output_type": "execute_result"
    }
   ],
   "source": [
    "t"
   ]
  },
  {
   "cell_type": "code",
   "execution_count": 69,
   "id": "funny-carrier",
   "metadata": {},
   "outputs": [
    {
     "data": {
      "text/plain": [
       "['Sai', 2, 'bharadwaja', 12.5, True, (3+5j)]"
      ]
     },
     "execution_count": 69,
     "metadata": {},
     "output_type": "execute_result"
    }
   ],
   "source": [
    "l1"
   ]
  },
  {
   "cell_type": "code",
   "execution_count": 72,
   "id": "natural-letters",
   "metadata": {},
   "outputs": [
    {
     "data": {
      "text/plain": [
       "[1, 'Bhagya', True, (3+5j)]"
      ]
     },
     "execution_count": 72,
     "metadata": {},
     "output_type": "execute_result"
    }
   ],
   "source": [
    "del l[2]\n",
    "l"
   ]
  },
  {
   "cell_type": "code",
   "execution_count": 71,
   "id": "fresh-participation",
   "metadata": {},
   "outputs": [
    {
     "data": {
      "text/plain": [
       "[1, 'Bhagya', 12.5, True, (3+5j)]"
      ]
     },
     "execution_count": 71,
     "metadata": {},
     "output_type": "execute_result"
    }
   ],
   "source": [
    "l"
   ]
  },
  {
   "cell_type": "code",
   "execution_count": 73,
   "id": "distinct-shell",
   "metadata": {},
   "outputs": [
    {
     "ename": "TypeError",
     "evalue": "'tuple' object doesn't support item deletion",
     "output_type": "error",
     "traceback": [
      "\u001b[1;31m---------------------------------------------------------------------------\u001b[0m",
      "\u001b[1;31mTypeError\u001b[0m                                 Traceback (most recent call last)",
      "\u001b[1;32m<ipython-input-73-153155d276b3>\u001b[0m in \u001b[0;36m<module>\u001b[1;34m\u001b[0m\n\u001b[1;32m----> 1\u001b[1;33m \u001b[1;32mdel\u001b[0m \u001b[0mt\u001b[0m\u001b[1;33m[\u001b[0m\u001b[1;36m2\u001b[0m\u001b[1;33m]\u001b[0m\u001b[1;33m\u001b[0m\u001b[1;33m\u001b[0m\u001b[0m\n\u001b[0m\u001b[0;32m      2\u001b[0m \u001b[0mt\u001b[0m\u001b[1;33m\u001b[0m\u001b[1;33m\u001b[0m\u001b[0m\n",
      "\u001b[1;31mTypeError\u001b[0m: 'tuple' object doesn't support item deletion"
     ]
    }
   ],
   "source": [
    "del t[2]\n",
    "t"
   ]
  },
  {
   "cell_type": "markdown",
   "id": "union-invalid",
   "metadata": {},
   "source": [
    "## Set"
   ]
  },
  {
   "cell_type": "code",
   "execution_count": 89,
   "id": "incomplete-browser",
   "metadata": {},
   "outputs": [
    {
     "name": "stdout",
     "output_type": "stream",
     "text": [
      "<class 'set'>\n",
      "[34, 45, 54, 85, 'HABD', 'hbsd', 34, 34, 85, 84, 54, 'HABD']\n",
      "removing Duplicates using SET\n",
      "{34, 'HABD', 45, 84, 85, 54, 'hbsd'}\n"
     ]
    }
   ],
   "source": [
    "x = set()\n",
    "print(type(x))\n",
    "\n",
    "l = [34,45,54,85,'HABD','hbsd',34,34,85,84,54,'HABD']\n",
    "print(l)\n",
    "print(\"removing Duplicates using SET\")\n",
    "print(set(l))"
   ]
  },
  {
   "cell_type": "code",
   "execution_count": 80,
   "id": "sorted-interstate",
   "metadata": {},
   "outputs": [
    {
     "name": "stdout",
     "output_type": "stream",
     "text": [
      "34\n",
      "HABD\n",
      "45\n",
      "84\n",
      "85\n",
      "54\n",
      "hbsd\n"
     ]
    }
   ],
   "source": [
    "s = set(l)\n",
    "for i in s:\n",
    "    print(i)"
   ]
  },
  {
   "cell_type": "code",
   "execution_count": 81,
   "id": "sophisticated-pension",
   "metadata": {},
   "outputs": [
    {
     "data": {
      "text/plain": [
       "True"
      ]
     },
     "execution_count": 81,
     "metadata": {},
     "output_type": "execute_result"
    }
   ],
   "source": [
    "34 in s"
   ]
  },
  {
   "cell_type": "markdown",
   "id": "certain-invasion",
   "metadata": {},
   "source": [
    "## 'set' object does not support indexing"
   ]
  },
  {
   "cell_type": "code",
   "execution_count": 82,
   "id": "optional-exemption",
   "metadata": {},
   "outputs": [
    {
     "ename": "TypeError",
     "evalue": "'set' object does not support indexing",
     "output_type": "error",
     "traceback": [
      "\u001b[1;31m---------------------------------------------------------------------------\u001b[0m",
      "\u001b[1;31mTypeError\u001b[0m                                 Traceback (most recent call last)",
      "\u001b[1;32m<ipython-input-82-c9c96910e542>\u001b[0m in \u001b[0;36m<module>\u001b[1;34m\u001b[0m\n\u001b[1;32m----> 1\u001b[1;33m \u001b[0ms\u001b[0m\u001b[1;33m[\u001b[0m\u001b[1;36m0\u001b[0m\u001b[1;33m]\u001b[0m\u001b[1;33m\u001b[0m\u001b[1;33m\u001b[0m\u001b[0m\n\u001b[0m",
      "\u001b[1;31mTypeError\u001b[0m: 'set' object does not support indexing"
     ]
    }
   ],
   "source": [
    "s[0]"
   ]
  },
  {
   "cell_type": "code",
   "execution_count": 83,
   "id": "looking-treatment",
   "metadata": {},
   "outputs": [],
   "source": [
    "s = set()"
   ]
  },
  {
   "cell_type": "code",
   "execution_count": 84,
   "id": "warming-polls",
   "metadata": {},
   "outputs": [],
   "source": [
    "s.add(45)"
   ]
  },
  {
   "cell_type": "code",
   "execution_count": 90,
   "id": "relevant-hometown",
   "metadata": {},
   "outputs": [
    {
     "ename": "TypeError",
     "evalue": "unhashable type: 'list'",
     "output_type": "error",
     "traceback": [
      "\u001b[1;31m---------------------------------------------------------------------------\u001b[0m",
      "\u001b[1;31mTypeError\u001b[0m                                 Traceback (most recent call last)",
      "\u001b[1;32m<ipython-input-90-87d20f7b4c57>\u001b[0m in \u001b[0;36m<module>\u001b[1;34m\u001b[0m\n\u001b[1;32m----> 1\u001b[1;33m \u001b[0ms\u001b[0m\u001b[1;33m.\u001b[0m\u001b[0madd\u001b[0m\u001b[1;33m(\u001b[0m\u001b[1;33m[\u001b[0m\u001b[1;36m551\u001b[0m\u001b[1;33m,\u001b[0m\u001b[1;34m'hb'\u001b[0m\u001b[1;33m,\u001b[0m\u001b[1;34m'khbd'\u001b[0m\u001b[1;33m]\u001b[0m\u001b[1;33m)\u001b[0m\u001b[1;33m\u001b[0m\u001b[1;33m\u001b[0m\u001b[0m\n\u001b[0m",
      "\u001b[1;31mTypeError\u001b[0m: unhashable type: 'list'"
     ]
    }
   ],
   "source": [
    "s.add([551,'hb','khbd'])"
   ]
  },
  {
   "cell_type": "code",
   "execution_count": 91,
   "id": "after-opening",
   "metadata": {},
   "outputs": [
    {
     "data": {
      "text/plain": [
       "{45}"
      ]
     },
     "execution_count": 91,
     "metadata": {},
     "output_type": "execute_result"
    }
   ],
   "source": [
    "s"
   ]
  },
  {
   "cell_type": "code",
   "execution_count": 92,
   "id": "suited-watts",
   "metadata": {},
   "outputs": [],
   "source": [
    "s.add(45)"
   ]
  },
  {
   "cell_type": "code",
   "execution_count": 93,
   "id": "atmospheric-citation",
   "metadata": {},
   "outputs": [
    {
     "data": {
      "text/plain": [
       "{45}"
      ]
     },
     "execution_count": 93,
     "metadata": {},
     "output_type": "execute_result"
    }
   ],
   "source": [
    "s"
   ]
  },
  {
   "cell_type": "code",
   "execution_count": 94,
   "id": "modular-portugal",
   "metadata": {},
   "outputs": [],
   "source": [
    "s.remove(45)"
   ]
  },
  {
   "cell_type": "code",
   "execution_count": 95,
   "id": "naughty-feedback",
   "metadata": {},
   "outputs": [
    {
     "data": {
      "text/plain": [
       "set()"
      ]
     },
     "execution_count": 95,
     "metadata": {},
     "output_type": "execute_result"
    }
   ],
   "source": [
    "s"
   ]
  },
  {
   "cell_type": "code",
   "execution_count": 96,
   "id": "electrical-registration",
   "metadata": {},
   "outputs": [
    {
     "ename": "KeyError",
     "evalue": "45",
     "output_type": "error",
     "traceback": [
      "\u001b[1;31m---------------------------------------------------------------------------\u001b[0m",
      "\u001b[1;31mKeyError\u001b[0m                                  Traceback (most recent call last)",
      "\u001b[1;32m<ipython-input-96-30b5ee21a9a0>\u001b[0m in \u001b[0;36m<module>\u001b[1;34m\u001b[0m\n\u001b[1;32m----> 1\u001b[1;33m \u001b[0ms\u001b[0m\u001b[1;33m.\u001b[0m\u001b[0mremove\u001b[0m\u001b[1;33m(\u001b[0m\u001b[1;36m45\u001b[0m\u001b[1;33m)\u001b[0m\u001b[1;33m\u001b[0m\u001b[1;33m\u001b[0m\u001b[0m\n\u001b[0m",
      "\u001b[1;31mKeyError\u001b[0m: 45"
     ]
    }
   ],
   "source": [
    "s.remove(45)"
   ]
  },
  {
   "cell_type": "code",
   "execution_count": 97,
   "id": "historic-clearing",
   "metadata": {},
   "outputs": [
    {
     "data": {
      "text/plain": [
       "False"
      ]
     },
     "execution_count": 97,
     "metadata": {},
     "output_type": "execute_result"
    }
   ],
   "source": [
    "45 in s"
   ]
  },
  {
   "cell_type": "code",
   "execution_count": 98,
   "id": "alien-consensus",
   "metadata": {},
   "outputs": [],
   "source": [
    "s.clear()"
   ]
  },
  {
   "cell_type": "code",
   "execution_count": 99,
   "id": "middle-electron",
   "metadata": {},
   "outputs": [
    {
     "data": {
      "text/plain": [
       "set()"
      ]
     },
     "execution_count": 99,
     "metadata": {},
     "output_type": "execute_result"
    }
   ],
   "source": [
    "s"
   ]
  },
  {
   "cell_type": "code",
   "execution_count": 100,
   "id": "minus-place",
   "metadata": {},
   "outputs": [],
   "source": [
    "s = set(l)"
   ]
  },
  {
   "cell_type": "code",
   "execution_count": 127,
   "id": "collaborative-dryer",
   "metadata": {},
   "outputs": [
    {
     "data": {
      "text/plain": [
       "{34, 45, 52, 54, 84, 85, 'HABD', 'b', 'hab', 'hbsd'}"
      ]
     },
     "execution_count": 127,
     "metadata": {},
     "output_type": "execute_result"
    }
   ],
   "source": [
    "s"
   ]
  },
  {
   "cell_type": "code",
   "execution_count": 128,
   "id": "durable-fossil",
   "metadata": {},
   "outputs": [
    {
     "name": "stdout",
     "output_type": "stream",
     "text": [
      "hab\n",
      "b\n",
      "34\n",
      "HABD\n",
      "45\n",
      "84\n",
      "85\n",
      "54\n",
      "52\n",
      "hbsd\n"
     ]
    }
   ],
   "source": [
    "for i in s:\n",
    "    print(i)"
   ]
  },
  {
   "cell_type": "code",
   "execution_count": 129,
   "id": "prime-cedar",
   "metadata": {},
   "outputs": [
    {
     "ename": "TypeError",
     "evalue": "'set' object does not support indexing",
     "output_type": "error",
     "traceback": [
      "\u001b[1;31m---------------------------------------------------------------------------\u001b[0m",
      "\u001b[1;31mTypeError\u001b[0m                                 Traceback (most recent call last)",
      "\u001b[1;32m<ipython-input-129-c9c96910e542>\u001b[0m in \u001b[0;36m<module>\u001b[1;34m\u001b[0m\n\u001b[1;32m----> 1\u001b[1;33m \u001b[0ms\u001b[0m\u001b[1;33m[\u001b[0m\u001b[1;36m0\u001b[0m\u001b[1;33m]\u001b[0m\u001b[1;33m\u001b[0m\u001b[1;33m\u001b[0m\u001b[0m\n\u001b[0m",
      "\u001b[1;31mTypeError\u001b[0m: 'set' object does not support indexing"
     ]
    }
   ],
   "source": [
    "s[0]"
   ]
  },
  {
   "cell_type": "code",
   "execution_count": 102,
   "id": "configured-concept",
   "metadata": {},
   "outputs": [],
   "source": [
    "s.add(\"hab\")\n",
    "s.add(\"b\")\n",
    "s.add(52)\n"
   ]
  },
  {
   "cell_type": "code",
   "execution_count": 103,
   "id": "standing-colorado",
   "metadata": {},
   "outputs": [],
   "source": []
  },
  {
   "cell_type": "code",
   "execution_count": 104,
   "id": "listed-integration",
   "metadata": {},
   "outputs": [],
   "source": [
    "l = [ 41,51,51,51,651,651]"
   ]
  },
  {
   "cell_type": "code",
   "execution_count": 106,
   "id": "respective-hunter",
   "metadata": {},
   "outputs": [],
   "source": [
    "s1 = set(l)"
   ]
  },
  {
   "cell_type": "code",
   "execution_count": 107,
   "id": "involved-impact",
   "metadata": {},
   "outputs": [
    {
     "ename": "TypeError",
     "evalue": "unsupported operand type(s) for +: 'set' and 'set'",
     "output_type": "error",
     "traceback": [
      "\u001b[1;31m---------------------------------------------------------------------------\u001b[0m",
      "\u001b[1;31mTypeError\u001b[0m                                 Traceback (most recent call last)",
      "\u001b[1;32m<ipython-input-107-ad43f6863d4c>\u001b[0m in \u001b[0;36m<module>\u001b[1;34m\u001b[0m\n\u001b[1;32m----> 1\u001b[1;33m \u001b[0ms1\u001b[0m \u001b[1;33m+\u001b[0m \u001b[0ms\u001b[0m\u001b[1;33m\u001b[0m\u001b[1;33m\u001b[0m\u001b[0m\n\u001b[0m",
      "\u001b[1;31mTypeError\u001b[0m: unsupported operand type(s) for +: 'set' and 'set'"
     ]
    }
   ],
   "source": [
    "s1 + s"
   ]
  },
  {
   "cell_type": "code",
   "execution_count": 108,
   "id": "collaborative-mixer",
   "metadata": {},
   "outputs": [
    {
     "ename": "TypeError",
     "evalue": "unsupported operand type(s) for *: 'set' and 'int'",
     "output_type": "error",
     "traceback": [
      "\u001b[1;31m---------------------------------------------------------------------------\u001b[0m",
      "\u001b[1;31mTypeError\u001b[0m                                 Traceback (most recent call last)",
      "\u001b[1;32m<ipython-input-108-0b781dceee75>\u001b[0m in \u001b[0;36m<module>\u001b[1;34m\u001b[0m\n\u001b[1;32m----> 1\u001b[1;33m \u001b[0ms1\u001b[0m \u001b[1;33m*\u001b[0m \u001b[1;36m4\u001b[0m\u001b[1;33m\u001b[0m\u001b[1;33m\u001b[0m\u001b[0m\n\u001b[0m",
      "\u001b[1;31mTypeError\u001b[0m: unsupported operand type(s) for *: 'set' and 'int'"
     ]
    }
   ],
   "source": [
    "s1 * 4"
   ]
  },
  {
   "cell_type": "code",
   "execution_count": 109,
   "id": "classified-medicare",
   "metadata": {},
   "outputs": [
    {
     "data": {
      "text/plain": [
       "{34, 45, 52, 54, 84, 85, 'HABD', 'b', 'hab', 'hbsd'}"
      ]
     },
     "execution_count": 109,
     "metadata": {},
     "output_type": "execute_result"
    }
   ],
   "source": [
    "s "
   ]
  },
  {
   "cell_type": "code",
   "execution_count": 111,
   "id": "opening-dallas",
   "metadata": {},
   "outputs": [],
   "source": [
    "l = list(s)\n",
    "l.append(34)"
   ]
  },
  {
   "cell_type": "code",
   "execution_count": 114,
   "id": "several-burton",
   "metadata": {},
   "outputs": [
    {
     "data": {
      "text/plain": [
       "{34, 45, 52, 54, 84, 85, 'HABD', 'b', 'hab', 'hbsd'}"
      ]
     },
     "execution_count": 114,
     "metadata": {},
     "output_type": "execute_result"
    }
   ],
   "source": [
    "t4 = tuple(s)\n",
    "set(t4)"
   ]
  },
  {
   "cell_type": "code",
   "execution_count": 115,
   "id": "plastic-arcade",
   "metadata": {},
   "outputs": [
    {
     "ename": "TypeError",
     "evalue": "'set' object does not support indexing",
     "output_type": "error",
     "traceback": [
      "\u001b[1;31m---------------------------------------------------------------------------\u001b[0m",
      "\u001b[1;31mTypeError\u001b[0m                                 Traceback (most recent call last)",
      "\u001b[1;32m<ipython-input-115-a81280e08423>\u001b[0m in \u001b[0;36m<module>\u001b[1;34m\u001b[0m\n\u001b[1;32m----> 1\u001b[1;33m \u001b[0ms\u001b[0m\u001b[1;33m[\u001b[0m\u001b[1;36m4\u001b[0m\u001b[1;33m]\u001b[0m\u001b[1;33m\u001b[0m\u001b[1;33m\u001b[0m\u001b[0m\n\u001b[0m",
      "\u001b[1;31mTypeError\u001b[0m: 'set' object does not support indexing"
     ]
    }
   ],
   "source": [
    "s[4]"
   ]
  },
  {
   "cell_type": "markdown",
   "id": "civil-patch",
   "metadata": {},
   "source": [
    "## Dictionary"
   ]
  },
  {
   "cell_type": "code",
   "execution_count": 116,
   "id": "dietary-mainland",
   "metadata": {},
   "outputs": [
    {
     "data": {
      "text/plain": [
       "dict"
      ]
     },
     "execution_count": 116,
     "metadata": {},
     "output_type": "execute_result"
    }
   ],
   "source": [
    "x = {}\n",
    "type(x)"
   ]
  },
  {
   "cell_type": "code",
   "execution_count": 118,
   "id": "seventh-congo",
   "metadata": {},
   "outputs": [
    {
     "data": {
      "text/plain": [
       "set"
      ]
     },
     "execution_count": 118,
     "metadata": {},
     "output_type": "execute_result"
    }
   ],
   "source": [
    "y = {12,13,12}\n",
    "type(y)"
   ]
  },
  {
   "cell_type": "code",
   "execution_count": 119,
   "id": "united-hungarian",
   "metadata": {},
   "outputs": [
    {
     "data": {
      "text/plain": [
       "{12, 13}"
      ]
     },
     "execution_count": 119,
     "metadata": {},
     "output_type": "execute_result"
    }
   ],
   "source": [
    "y"
   ]
  },
  {
   "cell_type": "code",
   "execution_count": 122,
   "id": "focal-ranch",
   "metadata": {},
   "outputs": [
    {
     "name": "stdout",
     "output_type": "stream",
     "text": [
      "{1: 'Hb', 2: 'k'}\n"
     ]
    }
   ],
   "source": [
    "x = {1:\"Hb\",2:'k',1:\"Hb\"}\n",
    "print(x)"
   ]
  },
  {
   "cell_type": "code",
   "execution_count": 125,
   "id": "stuck-pontiac",
   "metadata": {},
   "outputs": [
    {
     "name": "stdout",
     "output_type": "stream",
     "text": [
      "{1: 'Hb', 2: 'k'}\n"
     ]
    }
   ],
   "source": [
    "x = {1:\"Hb\",2:'k',1:\"Hb\"}\n",
    "print(x)"
   ]
  },
  {
   "cell_type": "code",
   "execution_count": 126,
   "id": "understanding-stylus",
   "metadata": {},
   "outputs": [
    {
     "data": {
      "text/plain": [
       "dict"
      ]
     },
     "execution_count": 126,
     "metadata": {},
     "output_type": "execute_result"
    }
   ],
   "source": [
    "type(x)"
   ]
  },
  {
   "cell_type": "code",
   "execution_count": 131,
   "id": "local-tobacco",
   "metadata": {},
   "outputs": [
    {
     "data": {
      "text/plain": [
       "{1: 51}"
      ]
     },
     "execution_count": 131,
     "metadata": {},
     "output_type": "execute_result"
    }
   ],
   "source": [
    "x1 = {1:\"sai\",1:25,1:51}\n",
    "x1"
   ]
  },
  {
   "cell_type": "code",
   "execution_count": 134,
   "id": "oriented-collective",
   "metadata": {},
   "outputs": [],
   "source": [
    "x2 = {1:25,2:52,'$':1}"
   ]
  },
  {
   "cell_type": "code",
   "execution_count": 135,
   "id": "proved-wesley",
   "metadata": {},
   "outputs": [],
   "source": [
    "x2 = {1:25,2:52,1:'S'}"
   ]
  },
  {
   "cell_type": "code",
   "execution_count": 138,
   "id": "other-serum",
   "metadata": {},
   "outputs": [
    {
     "data": {
      "text/plain": [
       "{1: {25, 45, 52, 78, 85, 96},\n",
       " 2: [52, 45, 85, 85],\n",
       " 3: 'jhdc',\n",
       " 4: {25: 5698, 85: 856}}"
      ]
     },
     "execution_count": 138,
     "metadata": {},
     "output_type": "execute_result"
    }
   ],
   "source": [
    "xx = {1:{25,52,45,85,78,96},2:[52,45,85,85],3:('jhdc'),4:{25:5698,85:856}}\n",
    "xx"
   ]
  },
  {
   "cell_type": "code",
   "execution_count": 139,
   "id": "bulgarian-albert",
   "metadata": {},
   "outputs": [
    {
     "ename": "TypeError",
     "evalue": "unhashable type: 'list'",
     "output_type": "error",
     "traceback": [
      "\u001b[1;31m---------------------------------------------------------------------------\u001b[0m",
      "\u001b[1;31mTypeError\u001b[0m                                 Traceback (most recent call last)",
      "\u001b[1;32m<ipython-input-139-d4c10e7e06cb>\u001b[0m in \u001b[0;36m<module>\u001b[1;34m\u001b[0m\n\u001b[1;32m----> 1\u001b[1;33m \u001b[0mxx\u001b[0m \u001b[1;33m=\u001b[0m \u001b[1;33m{\u001b[0m\u001b[1;33m[\u001b[0m\u001b[1;36m1\u001b[0m\u001b[1;33m,\u001b[0m\u001b[1;36m2\u001b[0m\u001b[1;33m,\u001b[0m\u001b[1;36m3\u001b[0m\u001b[1;33m,\u001b[0m\u001b[1;36m4\u001b[0m\u001b[1;33m]\u001b[0m\u001b[1;33m:\u001b[0m\u001b[1;33m{\u001b[0m\u001b[1;36m25\u001b[0m\u001b[1;33m,\u001b[0m\u001b[1;36m52\u001b[0m\u001b[1;33m,\u001b[0m\u001b[1;36m45\u001b[0m\u001b[1;33m,\u001b[0m\u001b[1;36m85\u001b[0m\u001b[1;33m,\u001b[0m\u001b[1;36m78\u001b[0m\u001b[1;33m,\u001b[0m\u001b[1;36m96\u001b[0m\u001b[1;33m}\u001b[0m\u001b[1;33m,\u001b[0m\u001b[1;36m2\u001b[0m\u001b[1;33m:\u001b[0m\u001b[1;33m[\u001b[0m\u001b[1;36m52\u001b[0m\u001b[1;33m,\u001b[0m\u001b[1;36m45\u001b[0m\u001b[1;33m,\u001b[0m\u001b[1;36m85\u001b[0m\u001b[1;33m,\u001b[0m\u001b[1;36m85\u001b[0m\u001b[1;33m]\u001b[0m\u001b[1;33m,\u001b[0m\u001b[1;36m3\u001b[0m\u001b[1;33m:\u001b[0m\u001b[1;33m(\u001b[0m\u001b[1;34m'jhdc'\u001b[0m\u001b[1;33m)\u001b[0m\u001b[1;33m,\u001b[0m\u001b[1;36m4\u001b[0m\u001b[1;33m:\u001b[0m\u001b[1;33m{\u001b[0m\u001b[1;36m25\u001b[0m\u001b[1;33m:\u001b[0m\u001b[1;36m5698\u001b[0m\u001b[1;33m,\u001b[0m\u001b[1;36m85\u001b[0m\u001b[1;33m:\u001b[0m\u001b[1;36m856\u001b[0m\u001b[1;33m}\u001b[0m\u001b[1;33m}\u001b[0m\u001b[1;33m\u001b[0m\u001b[1;33m\u001b[0m\u001b[0m\n\u001b[0m\u001b[0;32m      2\u001b[0m \u001b[0mxx\u001b[0m\u001b[1;33m\u001b[0m\u001b[1;33m\u001b[0m\u001b[0m\n",
      "\u001b[1;31mTypeError\u001b[0m: unhashable type: 'list'"
     ]
    }
   ],
   "source": [
    "xx = {[1,2,3,4]:{25,52,45,85,78,96},2:[52,45,85,85],3:('jhdc'),4:{25:5698,85:856}}\n",
    "xx"
   ]
  },
  {
   "cell_type": "markdown",
   "id": "wired-catch",
   "metadata": {},
   "source": [
    "## tuples can be list incase of Dictionary"
   ]
  },
  {
   "cell_type": "code",
   "execution_count": 140,
   "id": "possible-relaxation",
   "metadata": {},
   "outputs": [
    {
     "data": {
      "text/plain": [
       "{(1, 2, 3, 4): {25, 45, 52, 78, 85, 96},\n",
       " 2: [52, 45, 85, 85],\n",
       " 3: 'jhdc',\n",
       " 4: {25: 5698, 85: 856}}"
      ]
     },
     "execution_count": 140,
     "metadata": {},
     "output_type": "execute_result"
    }
   ],
   "source": [
    "xx = {(1,2,3,4):{25,52,45,85,78,96},2:[52,45,85,85],3:('jhdc'),4:{25:5698,85:856}}\n",
    "xx"
   ]
  },
  {
   "cell_type": "code",
   "execution_count": 141,
   "id": "pharmaceutical-viking",
   "metadata": {},
   "outputs": [
    {
     "ename": "TypeError",
     "evalue": "unhashable type: 'set'",
     "output_type": "error",
     "traceback": [
      "\u001b[1;31m---------------------------------------------------------------------------\u001b[0m",
      "\u001b[1;31mTypeError\u001b[0m                                 Traceback (most recent call last)",
      "\u001b[1;32m<ipython-input-141-dc0c34337b44>\u001b[0m in \u001b[0;36m<module>\u001b[1;34m\u001b[0m\n\u001b[1;32m----> 1\u001b[1;33m \u001b[0mxx\u001b[0m \u001b[1;33m=\u001b[0m \u001b[1;33m{\u001b[0m\u001b[1;33m{\u001b[0m\u001b[1;36m1\u001b[0m\u001b[1;33m,\u001b[0m\u001b[1;36m2\u001b[0m\u001b[1;33m,\u001b[0m\u001b[1;36m3\u001b[0m\u001b[1;33m,\u001b[0m\u001b[1;36m4\u001b[0m\u001b[1;33m}\u001b[0m\u001b[1;33m:\u001b[0m\u001b[1;33m{\u001b[0m\u001b[1;36m25\u001b[0m\u001b[1;33m,\u001b[0m\u001b[1;36m52\u001b[0m\u001b[1;33m,\u001b[0m\u001b[1;36m45\u001b[0m\u001b[1;33m,\u001b[0m\u001b[1;36m85\u001b[0m\u001b[1;33m,\u001b[0m\u001b[1;36m78\u001b[0m\u001b[1;33m,\u001b[0m\u001b[1;36m96\u001b[0m\u001b[1;33m}\u001b[0m\u001b[1;33m,\u001b[0m\u001b[1;36m2\u001b[0m\u001b[1;33m:\u001b[0m\u001b[1;33m[\u001b[0m\u001b[1;36m52\u001b[0m\u001b[1;33m,\u001b[0m\u001b[1;36m45\u001b[0m\u001b[1;33m,\u001b[0m\u001b[1;36m85\u001b[0m\u001b[1;33m,\u001b[0m\u001b[1;36m85\u001b[0m\u001b[1;33m]\u001b[0m\u001b[1;33m,\u001b[0m\u001b[1;36m3\u001b[0m\u001b[1;33m:\u001b[0m\u001b[1;33m(\u001b[0m\u001b[1;34m'jhdc'\u001b[0m\u001b[1;33m)\u001b[0m\u001b[1;33m,\u001b[0m\u001b[1;36m4\u001b[0m\u001b[1;33m:\u001b[0m\u001b[1;33m{\u001b[0m\u001b[1;36m25\u001b[0m\u001b[1;33m:\u001b[0m\u001b[1;36m5698\u001b[0m\u001b[1;33m,\u001b[0m\u001b[1;36m85\u001b[0m\u001b[1;33m:\u001b[0m\u001b[1;36m856\u001b[0m\u001b[1;33m}\u001b[0m\u001b[1;33m}\u001b[0m\u001b[1;33m\u001b[0m\u001b[1;33m\u001b[0m\u001b[0m\n\u001b[0m\u001b[0;32m      2\u001b[0m \u001b[0mxx\u001b[0m\u001b[1;33m\u001b[0m\u001b[1;33m\u001b[0m\u001b[0m\n",
      "\u001b[1;31mTypeError\u001b[0m: unhashable type: 'set'"
     ]
    }
   ],
   "source": [
    "xx = {{1,2,3,4}:{25,52,45,85,78,96},2:[52,45,85,85],3:('jhdc'),4:{25:5698,85:856}}\n",
    "xx"
   ]
  },
  {
   "cell_type": "code",
   "execution_count": 144,
   "id": "sapphire-guyana",
   "metadata": {},
   "outputs": [
    {
     "data": {
      "text/plain": [
       "{25, 45, 52, 78, 85, 96}"
      ]
     },
     "execution_count": 144,
     "metadata": {},
     "output_type": "execute_result"
    }
   ],
   "source": [
    "xx[(1, 2, 3, 4)]"
   ]
  },
  {
   "cell_type": "code",
   "execution_count": 146,
   "id": "entitled-grocery",
   "metadata": {},
   "outputs": [
    {
     "data": {
      "text/plain": [
       "85"
      ]
     },
     "execution_count": 146,
     "metadata": {},
     "output_type": "execute_result"
    }
   ],
   "source": [
    "xx[2][2]"
   ]
  },
  {
   "cell_type": "code",
   "execution_count": 147,
   "id": "numeric-niagara",
   "metadata": {},
   "outputs": [
    {
     "ename": "TypeError",
     "evalue": "unsupported operand type(s) for +: 'dict' and 'dict'",
     "output_type": "error",
     "traceback": [
      "\u001b[1;31m---------------------------------------------------------------------------\u001b[0m",
      "\u001b[1;31mTypeError\u001b[0m                                 Traceback (most recent call last)",
      "\u001b[1;32m<ipython-input-147-d28e6f6fffa0>\u001b[0m in \u001b[0;36m<module>\u001b[1;34m\u001b[0m\n\u001b[1;32m----> 1\u001b[1;33m \u001b[0mx\u001b[0m \u001b[1;33m+\u001b[0m \u001b[0mxx\u001b[0m\u001b[1;33m\u001b[0m\u001b[1;33m\u001b[0m\u001b[0m\n\u001b[0m",
      "\u001b[1;31mTypeError\u001b[0m: unsupported operand type(s) for +: 'dict' and 'dict'"
     ]
    }
   ],
   "source": [
    "x + xx"
   ]
  },
  {
   "cell_type": "code",
   "execution_count": 148,
   "id": "front-chile",
   "metadata": {},
   "outputs": [
    {
     "ename": "TypeError",
     "evalue": "unsupported operand type(s) for *: 'dict' and 'int'",
     "output_type": "error",
     "traceback": [
      "\u001b[1;31m---------------------------------------------------------------------------\u001b[0m",
      "\u001b[1;31mTypeError\u001b[0m                                 Traceback (most recent call last)",
      "\u001b[1;32m<ipython-input-148-b770568c4f55>\u001b[0m in \u001b[0;36m<module>\u001b[1;34m\u001b[0m\n\u001b[1;32m----> 1\u001b[1;33m \u001b[0mxx\u001b[0m\u001b[1;33m*\u001b[0m\u001b[1;36m3\u001b[0m\u001b[1;33m\u001b[0m\u001b[1;33m\u001b[0m\u001b[0m\n\u001b[0m",
      "\u001b[1;31mTypeError\u001b[0m: unsupported operand type(s) for *: 'dict' and 'int'"
     ]
    }
   ],
   "source": [
    "xx*3"
   ]
  },
  {
   "cell_type": "code",
   "execution_count": 149,
   "id": "honest-difference",
   "metadata": {},
   "outputs": [
    {
     "data": {
      "text/plain": [
       "{(1, 2, 3, 4): {25, 45, 52, 78, 85, 96},\n",
       " 2: [52, 45, 85, 85],\n",
       " 3: 'jhdc',\n",
       " 4: {25: 5698, 85: 856}}"
      ]
     },
     "execution_count": 149,
     "metadata": {},
     "output_type": "execute_result"
    }
   ],
   "source": [
    "xx"
   ]
  },
  {
   "cell_type": "code",
   "execution_count": 151,
   "id": "heavy-place",
   "metadata": {},
   "outputs": [
    {
     "data": {
      "text/plain": [
       "{(1, 2, 3, 4): {25, 45, 52, 78, 85, 96},\n",
       " 2: [52, 45, 85, 85],\n",
       " 3: 'jhdc',\n",
       " 4: 'Bharadwaja'}"
      ]
     },
     "execution_count": 151,
     "metadata": {},
     "output_type": "execute_result"
    }
   ],
   "source": [
    "xx[4] = \"Bharadwaja\"\n",
    "xx"
   ]
  },
  {
   "cell_type": "code",
   "execution_count": 152,
   "id": "funky-pencil",
   "metadata": {},
   "outputs": [
    {
     "data": {
      "text/plain": [
       "4"
      ]
     },
     "execution_count": 152,
     "metadata": {},
     "output_type": "execute_result"
    }
   ],
   "source": [
    "len(xx)"
   ]
  },
  {
   "cell_type": "code",
   "execution_count": 153,
   "id": "threaded-composer",
   "metadata": {},
   "outputs": [
    {
     "ename": "TypeError",
     "evalue": "'dict' object is not callable",
     "output_type": "error",
     "traceback": [
      "\u001b[1;31m---------------------------------------------------------------------------\u001b[0m",
      "\u001b[1;31mTypeError\u001b[0m                                 Traceback (most recent call last)",
      "\u001b[1;32m<ipython-input-153-4320b31fc609>\u001b[0m in \u001b[0;36m<module>\u001b[1;34m\u001b[0m\n\u001b[0;32m      1\u001b[0m \u001b[1;32mfor\u001b[0m \u001b[0mi\u001b[0m \u001b[1;32min\u001b[0m \u001b[0mrange\u001b[0m\u001b[1;33m(\u001b[0m\u001b[0mlen\u001b[0m\u001b[1;33m(\u001b[0m\u001b[0mxx\u001b[0m\u001b[1;33m)\u001b[0m\u001b[1;33m)\u001b[0m\u001b[1;33m:\u001b[0m\u001b[1;33m\u001b[0m\u001b[1;33m\u001b[0m\u001b[0m\n\u001b[1;32m----> 2\u001b[1;33m     \u001b[0mprint\u001b[0m\u001b[1;33m(\u001b[0m\u001b[0mxx\u001b[0m\u001b[1;33m(\u001b[0m\u001b[0mi\u001b[0m\u001b[1;33m)\u001b[0m\u001b[1;33m)\u001b[0m\u001b[1;33m\u001b[0m\u001b[1;33m\u001b[0m\u001b[0m\n\u001b[0m",
      "\u001b[1;31mTypeError\u001b[0m: 'dict' object is not callable"
     ]
    }
   ],
   "source": [
    "for i in range(len(xx)):\n",
    "    print(xx(i))"
   ]
  },
  {
   "cell_type": "code",
   "execution_count": 154,
   "id": "floppy-isaac",
   "metadata": {},
   "outputs": [
    {
     "data": {
      "text/plain": [
       "dict_keys([(1, 2, 3, 4), 2, 3, 4])"
      ]
     },
     "execution_count": 154,
     "metadata": {},
     "output_type": "execute_result"
    }
   ],
   "source": [
    "xx.keys()"
   ]
  },
  {
   "cell_type": "code",
   "execution_count": 155,
   "id": "subsequent-nashville",
   "metadata": {},
   "outputs": [
    {
     "data": {
      "text/plain": [
       "True"
      ]
     },
     "execution_count": 155,
     "metadata": {},
     "output_type": "execute_result"
    }
   ],
   "source": [
    "4 in xx.keys()"
   ]
  },
  {
   "cell_type": "code",
   "execution_count": 156,
   "id": "secure-portal",
   "metadata": {},
   "outputs": [
    {
     "name": "stdout",
     "output_type": "stream",
     "text": [
      "{96, 45, 78, 52, 85, 25}\n",
      "[52, 45, 85, 85]\n",
      "jhdc\n",
      "Bharadwaja\n"
     ]
    }
   ],
   "source": [
    "for i in xx.keys():\n",
    "    print(xx[i])"
   ]
  },
  {
   "cell_type": "code",
   "execution_count": 157,
   "id": "streaming-broadcasting",
   "metadata": {},
   "outputs": [
    {
     "data": {
      "text/plain": [
       "dict_values([{96, 45, 78, 52, 85, 25}, [52, 45, 85, 85], 'jhdc', 'Bharadwaja'])"
      ]
     },
     "execution_count": 157,
     "metadata": {},
     "output_type": "execute_result"
    }
   ],
   "source": [
    "xx.values()"
   ]
  },
  {
   "cell_type": "code",
   "execution_count": 158,
   "id": "local-magnitude",
   "metadata": {},
   "outputs": [
    {
     "name": "stdout",
     "output_type": "stream",
     "text": [
      "<class 'set'>\n",
      "<class 'list'>\n",
      "<class 'str'>\n",
      "<class 'str'>\n"
     ]
    }
   ],
   "source": [
    "for i in xx.keys():\n",
    "    print(type(xx[i]))"
   ]
  },
  {
   "cell_type": "code",
   "execution_count": 160,
   "id": "private-campaign",
   "metadata": {},
   "outputs": [
    {
     "data": {
      "text/plain": [
       "dict_items([((1, 2, 3, 4), {96, 45, 78, 52, 85, 25}), (2, [52, 45, 85, 85]), (3, 'jhdc'), (4, 'Bharadwaja')])"
      ]
     },
     "execution_count": 160,
     "metadata": {},
     "output_type": "execute_result"
    }
   ],
   "source": [
    "xx.items()"
   ]
  },
  {
   "cell_type": "code",
   "execution_count": 163,
   "id": "signed-provincial",
   "metadata": {},
   "outputs": [
    {
     "name": "stdout",
     "output_type": "stream",
     "text": [
      "(1, 2, 3, 4)\n",
      "2\n",
      "3\n",
      "4\n"
     ]
    }
   ],
   "source": [
    "for i in xx.items():\n",
    "    print(i[0])"
   ]
  },
  {
   "cell_type": "code",
   "execution_count": 164,
   "id": "utility-brush",
   "metadata": {},
   "outputs": [
    {
     "name": "stdout",
     "output_type": "stream",
     "text": [
      "{96, 45, 78, 52, 85, 25}\n",
      "[52, 45, 85, 85]\n",
      "jhdc\n",
      "Bharadwaja\n"
     ]
    }
   ],
   "source": [
    "for i in xx.items():\n",
    "    print(i[1])"
   ]
  },
  {
   "cell_type": "code",
   "execution_count": 166,
   "id": "organic-siemens",
   "metadata": {},
   "outputs": [
    {
     "data": {
      "text/plain": [
       "'hbj j  cjnkh'"
      ]
     },
     "execution_count": 166,
     "metadata": {},
     "output_type": "execute_result"
    }
   ],
   "source": [
    "x5 = {(25,36,55):\"hbj j  cjnkh\"}\n",
    "x5[(25,36,55)]"
   ]
  },
  {
   "cell_type": "code",
   "execution_count": 167,
   "id": "hearing-cleaning",
   "metadata": {},
   "outputs": [
    {
     "data": {
      "text/plain": [
       "4"
      ]
     },
     "execution_count": 167,
     "metadata": {},
     "output_type": "execute_result"
    }
   ],
   "source": [
    "len(xx)"
   ]
  },
  {
   "cell_type": "markdown",
   "id": "multiple-marking",
   "metadata": {},
   "source": [
    "## Q0.Take input as a paragraph by using input function\n",
    "## Q1.convert it into list\n",
    "## Q2.Remove all the duplicate element in list\n",
    "## Q3. Use above distinct elements as the key for dictionary and assign your name as a value of all the key for the dictionary\n",
    "## Q4. Try to print tuple of all values\n",
    "## Q5. Try to print list of all the keys"
   ]
  },
  {
   "cell_type": "code",
   "execution_count": 174,
   "id": "electrical-words",
   "metadata": {},
   "outputs": [
    {
     "name": "stdout",
     "output_type": "stream",
     "text": [
      "Enter ParagraphThe COVID-19 pandemic in India is part of the worldwide pandemic of coronavirus disease 2019 (COVID-19) caused by severe acute respiratory syndrome coronavirus 2 (SARS-CoV-2). The first case of COVID-19 in India, which originated from China, was reported on 30 January 2020.[5] India currently has the largest number of confirmed cases in Asia,[6] and, as of March 2021, has the third-highest number of confirmed cases in the world after the United States and Brazil with more than 11.4 million reported cases of COVID-19 infection and more than 158,000 deaths as of March 15, 2021.[7] The per day cases peaked mid-September in India with over 90,000 cases reported per day and have since come down to below 15,000 as of 2021 January.[8]  In July 2020, India's Ministry of Information and Broadcasting claimed the country's case fatality rate was among the lowest in the world at 2.41% and \"steadily declining\".[9] By mid-May 2020, six cities accounted for around half of all reported cases in the country – Mumbai, Delhi, Ahmedabad, Chennai, Pune and Kolkata.[10] The last region to report its first case was Lakshadweep, on 19 January 2021, nearly a year after the first reported case in India.[11] On 10 June, India's recoveries exceeded active cases for the first time.[12] Infection rates started to drop significantly in September, and the number of daily new cases and active cases started to decline rapidly.[13] A Government panel on COVID-19 announced in October that the pandemic had peaked in India, and may come under control by February 2021.[14] This prediction was based on a mathematical simulation assuming than India reaches herd immunity, the so called \"Indian Supermodel\".[15][16][17][18][19] A comparison of the predicted and actual cases is available on its homepage.[20] In a paper on an improved simulation model published February 2021 the same authors estimate the immunity of the Indian population to be close to 60% and claim that India might be the only major economy that has successfully implemented a herd immunity strategy.[21] India has over 30 anti-COVID vaccines in various stages of development and a national vaccination drive was started on 16 January 2021.[22] India began the world's largest Covid vaccination drive on January 16 and in 18 days the country has successfully vaccinated over 4.1 million healthcare workers.\n"
     ]
    }
   ],
   "source": [
    "# Q0\n",
    "i = input(\"Enter Paragraph\")\n",
    "# Q1\n",
    "l = i.split()\n",
    "print(l)\n",
    "# Q2\n",
    "s = set(l)\n",
    "print(s)\n",
    "# Q3\n",
    "k = dict.fromkeys(s, \"Bharadwaja\")\n",
    "k\n",
    "# Q4\n",
    "k.keys()\n",
    "# Q05\n",
    "list(k.keys())"
   ]
  },
  {
   "cell_type": "code",
   "execution_count": 175,
   "id": "contemporary-selling",
   "metadata": {},
   "outputs": [
    {
     "name": "stdout",
     "output_type": "stream",
     "text": [
      "['The', 'COVID-19', 'pandemic', 'in', 'India', 'is', 'part', 'of', 'the', 'worldwide', 'pandemic', 'of', 'coronavirus', 'disease', '2019', '(COVID-19)', 'caused', 'by', 'severe', 'acute', 'respiratory', 'syndrome', 'coronavirus', '2', '(SARS-CoV-2).', 'The', 'first', 'case', 'of', 'COVID-19', 'in', 'India,', 'which', 'originated', 'from', 'China,', 'was', 'reported', 'on', '30', 'January', '2020.[5]', 'India', 'currently', 'has', 'the', 'largest', 'number', 'of', 'confirmed', 'cases', 'in', 'Asia,[6]', 'and,', 'as', 'of', 'March', '2021,', 'has', 'the', 'third-highest', 'number', 'of', 'confirmed', 'cases', 'in', 'the', 'world', 'after', 'the', 'United', 'States', 'and', 'Brazil', 'with', 'more', 'than', '11.4', 'million', 'reported', 'cases', 'of', 'COVID-19', 'infection', 'and', 'more', 'than', '158,000', 'deaths', 'as', 'of', 'March', '15,', '2021.[7]', 'The', 'per', 'day', 'cases', 'peaked', 'mid-September', 'in', 'India', 'with', 'over', '90,000', 'cases', 'reported', 'per', 'day', 'and', 'have', 'since', 'come', 'down', 'to', 'below', '15,000', 'as', 'of', '2021', 'January.[8]', 'In', 'July', '2020,', \"India's\", 'Ministry', 'of', 'Information', 'and', 'Broadcasting', 'claimed', 'the', \"country's\", 'case', 'fatality', 'rate', 'was', 'among', 'the', 'lowest', 'in', 'the', 'world', 'at', '2.41%', 'and', '\"steadily', 'declining\".[9]', 'By', 'mid-May', '2020,', 'six', 'cities', 'accounted', 'for', 'around', 'half', 'of', 'all', 'reported', 'cases', 'in', 'the', 'country', '–', 'Mumbai,', 'Delhi,', 'Ahmedabad,', 'Chennai,', 'Pune', 'and', 'Kolkata.[10]', 'The', 'last', 'region', 'to', 'report', 'its', 'first', 'case', 'was', 'Lakshadweep,', 'on', '19', 'January', '2021,', 'nearly', 'a', 'year', 'after', 'the', 'first', 'reported', 'case', 'in', 'India.[11]', 'On', '10', 'June,', \"India's\", 'recoveries', 'exceeded', 'active', 'cases', 'for', 'the', 'first', 'time.[12]', 'Infection', 'rates', 'started', 'to', 'drop', 'significantly', 'in', 'September,', 'and', 'the', 'number', 'of', 'daily', 'new', 'cases', 'and', 'active', 'cases', 'started', 'to', 'decline', 'rapidly.[13]', 'A', 'Government', 'panel', 'on', 'COVID-19', 'announced', 'in', 'October', 'that', 'the', 'pandemic', 'had', 'peaked', 'in', 'India,', 'and', 'may', 'come', 'under', 'control', 'by', 'February', '2021.[14]', 'This', 'prediction', 'was', 'based', 'on', 'a', 'mathematical', 'simulation', 'assuming', 'than', 'India', 'reaches', 'herd', 'immunity,', 'the', 'so', 'called', '\"Indian', 'Supermodel\".[15][16][17][18][19]', 'A', 'comparison', 'of', 'the', 'predicted', 'and', 'actual', 'cases', 'is', 'available', 'on', 'its', 'homepage.[20]', 'In', 'a', 'paper', 'on', 'an', 'improved', 'simulation', 'model', 'published', 'February', '2021', 'the', 'same', 'authors', 'estimate', 'the', 'immunity', 'of', 'the', 'Indian', 'population', 'to', 'be', 'close', 'to', '60%', 'and', 'claim', 'that', 'India', 'might', 'be', 'the', 'only', 'major', 'economy', 'that', 'has', 'successfully', 'implemented', 'a', 'herd', 'immunity', 'strategy.[21]', 'India', 'has', 'over', '30', 'anti-COVID', 'vaccines', 'in', 'various', 'stages', 'of', 'development', 'and', 'a', 'national', 'vaccination', 'drive', 'was', 'started', 'on', '16', 'January', '2021.[22]', 'India', 'began', 'the', \"world's\", 'largest', 'Covid', 'vaccination', 'drive', 'on', 'January', '16', 'and', 'in', '18', 'days', 'the', 'country', 'has', 'successfully', 'vaccinated', 'over', '4.1', 'million', 'healthcare', 'workers.']\n"
     ]
    }
   ],
   "source": [
    "# Q1\n",
    "l = i.split()\n",
    "print(l)"
   ]
  },
  {
   "cell_type": "code",
   "execution_count": 176,
   "id": "brown-dylan",
   "metadata": {},
   "outputs": [
    {
     "name": "stdout",
     "output_type": "stream",
     "text": [
      "{'Asia,[6]', 'time.[12]', 'available', 'June,', 'decline', 'stages', '2021,', 'report', 'strategy.[21]', 'COVID-19', '15,000', 'more', 'only', 'deaths', 'workers.', 'The', 'than', '18', '2021.[22]', 'United', 'pandemic', 'reported', 'largest', '16', 'Mumbai,', 'to', '4.1', 'at', 'around', 'close', 'January.[8]', 'drive', '10', '2020,', 'fatality', 'had', 'has', 'below', 'nearly', 'This', 'its', 'population', 'implemented', 'Ministry', 'may', '158,000', 'all', 'number', 'announced', 'In', 'region', 'confirmed', 'control', 'A', 'claim', 'model', 'severe', 'since', 'Broadcasting', 'for', 'that', 'Indian', 'days', 'down', 'States', 'Delhi,', 'Lakshadweep,', 'originated', '(SARS-CoV-2).', 'after', 'case', 'various', 'claimed', \"world's\", 'currently', 'half', 'was', 'On', 'actual', 'recoveries', 'is', 'day', 'of', '\"Indian', '2019', 'six', 'herd', 'called', 'predicted', '90,000', 'economy', 'exceeded', 'per', 'last', 'vaccinated', 'a', '2', 'accounted', 'the', '19', 'simulation', 'same', 'disease', 'Ahmedabad,', 'started', 'and,', 'published', 'cases', 'which', \"country's\", 'new', 'immunity,', '(COVID-19)', 'from', 'come', 'Pune', 'healthcare', 'as', 'Kolkata.[10]', 'based', 'so', 'third-highest', 'immunity', '2021.[14]', 'major', 'coronavirus', 'Infection', 'worldwide', 'mid-May', 'authors', 'January', '60%', 'an', 'declining\".[9]', 'peaked', 'China,', 'year', 'active', 'estimate', 'cities', 'acute', '2021.[7]', 'July', 'lowest', 'under', 'caused', 'respiratory', 'homepage.[20]', 'comparison', 'reaches', 'panel', '11.4', \"India's\", 'anti-COVID', 'national', 'rapidly.[13]', 'over', 'India,', 'on', '2.41%', 'have', 'successfully', '–', 'September,', 'rates', 'February', 'March', 'syndrome', 'October', 'million', 'India.[11]', '2020.[5]', 'Information', 'by', 'first', 'daily', 'Government', 'mathematical', 'improved', 'be', 'might', 'Covid', 'By', 'in', 'and', 'with', 'mid-September', '15,', 'assuming', 'Supermodel\".[15][16][17][18][19]', 'among', 'infection', 'Brazil', '2021', 'prediction', 'country', 'Chennai,', 'began', 'paper', 'vaccines', 'drop', 'vaccination', '\"steadily', 'significantly', 'part', 'development', 'world', '30', 'India', 'rate'}\n"
     ]
    }
   ],
   "source": [
    "# Q2\n",
    "s = set(l)\n",
    "print(s)"
   ]
  },
  {
   "cell_type": "code",
   "execution_count": 180,
   "id": "automotive-dressing",
   "metadata": {},
   "outputs": [
    {
     "data": {
      "text/plain": [
       "{'Asia,[6]': 'Bharadwaja',\n",
       " 'time.[12]': 'Bharadwaja',\n",
       " 'available': 'Bharadwaja',\n",
       " 'June,': 'Bharadwaja',\n",
       " 'decline': 'Bharadwaja',\n",
       " 'stages': 'Bharadwaja',\n",
       " '2021,': 'Bharadwaja',\n",
       " 'report': 'Bharadwaja',\n",
       " 'strategy.[21]': 'Bharadwaja',\n",
       " 'COVID-19': 'Bharadwaja',\n",
       " '15,000': 'Bharadwaja',\n",
       " 'more': 'Bharadwaja',\n",
       " 'only': 'Bharadwaja',\n",
       " 'deaths': 'Bharadwaja',\n",
       " 'workers.': 'Bharadwaja',\n",
       " 'The': 'Bharadwaja',\n",
       " 'than': 'Bharadwaja',\n",
       " '18': 'Bharadwaja',\n",
       " '2021.[22]': 'Bharadwaja',\n",
       " 'United': 'Bharadwaja',\n",
       " 'pandemic': 'Bharadwaja',\n",
       " 'reported': 'Bharadwaja',\n",
       " 'largest': 'Bharadwaja',\n",
       " '16': 'Bharadwaja',\n",
       " 'Mumbai,': 'Bharadwaja',\n",
       " 'to': 'Bharadwaja',\n",
       " '4.1': 'Bharadwaja',\n",
       " 'at': 'Bharadwaja',\n",
       " 'around': 'Bharadwaja',\n",
       " 'close': 'Bharadwaja',\n",
       " 'January.[8]': 'Bharadwaja',\n",
       " 'drive': 'Bharadwaja',\n",
       " '10': 'Bharadwaja',\n",
       " '2020,': 'Bharadwaja',\n",
       " 'fatality': 'Bharadwaja',\n",
       " 'had': 'Bharadwaja',\n",
       " 'has': 'Bharadwaja',\n",
       " 'below': 'Bharadwaja',\n",
       " 'nearly': 'Bharadwaja',\n",
       " 'This': 'Bharadwaja',\n",
       " 'its': 'Bharadwaja',\n",
       " 'population': 'Bharadwaja',\n",
       " 'implemented': 'Bharadwaja',\n",
       " 'Ministry': 'Bharadwaja',\n",
       " 'may': 'Bharadwaja',\n",
       " '158,000': 'Bharadwaja',\n",
       " 'all': 'Bharadwaja',\n",
       " 'number': 'Bharadwaja',\n",
       " 'announced': 'Bharadwaja',\n",
       " 'In': 'Bharadwaja',\n",
       " 'region': 'Bharadwaja',\n",
       " 'confirmed': 'Bharadwaja',\n",
       " 'control': 'Bharadwaja',\n",
       " 'A': 'Bharadwaja',\n",
       " 'claim': 'Bharadwaja',\n",
       " 'model': 'Bharadwaja',\n",
       " 'severe': 'Bharadwaja',\n",
       " 'since': 'Bharadwaja',\n",
       " 'Broadcasting': 'Bharadwaja',\n",
       " 'for': 'Bharadwaja',\n",
       " 'that': 'Bharadwaja',\n",
       " 'Indian': 'Bharadwaja',\n",
       " 'days': 'Bharadwaja',\n",
       " 'down': 'Bharadwaja',\n",
       " 'States': 'Bharadwaja',\n",
       " 'Delhi,': 'Bharadwaja',\n",
       " 'Lakshadweep,': 'Bharadwaja',\n",
       " 'originated': 'Bharadwaja',\n",
       " '(SARS-CoV-2).': 'Bharadwaja',\n",
       " 'after': 'Bharadwaja',\n",
       " 'case': 'Bharadwaja',\n",
       " 'various': 'Bharadwaja',\n",
       " 'claimed': 'Bharadwaja',\n",
       " \"world's\": 'Bharadwaja',\n",
       " 'currently': 'Bharadwaja',\n",
       " 'half': 'Bharadwaja',\n",
       " 'was': 'Bharadwaja',\n",
       " 'On': 'Bharadwaja',\n",
       " 'actual': 'Bharadwaja',\n",
       " 'recoveries': 'Bharadwaja',\n",
       " 'is': 'Bharadwaja',\n",
       " 'day': 'Bharadwaja',\n",
       " 'of': 'Bharadwaja',\n",
       " '\"Indian': 'Bharadwaja',\n",
       " '2019': 'Bharadwaja',\n",
       " 'six': 'Bharadwaja',\n",
       " 'herd': 'Bharadwaja',\n",
       " 'called': 'Bharadwaja',\n",
       " 'predicted': 'Bharadwaja',\n",
       " '90,000': 'Bharadwaja',\n",
       " 'economy': 'Bharadwaja',\n",
       " 'exceeded': 'Bharadwaja',\n",
       " 'per': 'Bharadwaja',\n",
       " 'last': 'Bharadwaja',\n",
       " 'vaccinated': 'Bharadwaja',\n",
       " 'a': 'Bharadwaja',\n",
       " '2': 'Bharadwaja',\n",
       " 'accounted': 'Bharadwaja',\n",
       " 'the': 'Bharadwaja',\n",
       " '19': 'Bharadwaja',\n",
       " 'simulation': 'Bharadwaja',\n",
       " 'same': 'Bharadwaja',\n",
       " 'disease': 'Bharadwaja',\n",
       " 'Ahmedabad,': 'Bharadwaja',\n",
       " 'started': 'Bharadwaja',\n",
       " 'and,': 'Bharadwaja',\n",
       " 'published': 'Bharadwaja',\n",
       " 'cases': 'Bharadwaja',\n",
       " 'which': 'Bharadwaja',\n",
       " \"country's\": 'Bharadwaja',\n",
       " 'new': 'Bharadwaja',\n",
       " 'immunity,': 'Bharadwaja',\n",
       " '(COVID-19)': 'Bharadwaja',\n",
       " 'from': 'Bharadwaja',\n",
       " 'come': 'Bharadwaja',\n",
       " 'Pune': 'Bharadwaja',\n",
       " 'healthcare': 'Bharadwaja',\n",
       " 'as': 'Bharadwaja',\n",
       " 'Kolkata.[10]': 'Bharadwaja',\n",
       " 'based': 'Bharadwaja',\n",
       " 'so': 'Bharadwaja',\n",
       " 'third-highest': 'Bharadwaja',\n",
       " 'immunity': 'Bharadwaja',\n",
       " '2021.[14]': 'Bharadwaja',\n",
       " 'major': 'Bharadwaja',\n",
       " 'coronavirus': 'Bharadwaja',\n",
       " 'Infection': 'Bharadwaja',\n",
       " 'worldwide': 'Bharadwaja',\n",
       " 'mid-May': 'Bharadwaja',\n",
       " 'authors': 'Bharadwaja',\n",
       " 'January': 'Bharadwaja',\n",
       " '60%': 'Bharadwaja',\n",
       " 'an': 'Bharadwaja',\n",
       " 'declining\".[9]': 'Bharadwaja',\n",
       " 'peaked': 'Bharadwaja',\n",
       " 'China,': 'Bharadwaja',\n",
       " 'year': 'Bharadwaja',\n",
       " 'active': 'Bharadwaja',\n",
       " 'estimate': 'Bharadwaja',\n",
       " 'cities': 'Bharadwaja',\n",
       " 'acute': 'Bharadwaja',\n",
       " '2021.[7]': 'Bharadwaja',\n",
       " 'July': 'Bharadwaja',\n",
       " 'lowest': 'Bharadwaja',\n",
       " 'under': 'Bharadwaja',\n",
       " 'caused': 'Bharadwaja',\n",
       " 'respiratory': 'Bharadwaja',\n",
       " 'homepage.[20]': 'Bharadwaja',\n",
       " 'comparison': 'Bharadwaja',\n",
       " 'reaches': 'Bharadwaja',\n",
       " 'panel': 'Bharadwaja',\n",
       " '11.4': 'Bharadwaja',\n",
       " \"India's\": 'Bharadwaja',\n",
       " 'anti-COVID': 'Bharadwaja',\n",
       " 'national': 'Bharadwaja',\n",
       " 'rapidly.[13]': 'Bharadwaja',\n",
       " 'over': 'Bharadwaja',\n",
       " 'India,': 'Bharadwaja',\n",
       " 'on': 'Bharadwaja',\n",
       " '2.41%': 'Bharadwaja',\n",
       " 'have': 'Bharadwaja',\n",
       " 'successfully': 'Bharadwaja',\n",
       " '–': 'Bharadwaja',\n",
       " 'September,': 'Bharadwaja',\n",
       " 'rates': 'Bharadwaja',\n",
       " 'February': 'Bharadwaja',\n",
       " 'March': 'Bharadwaja',\n",
       " 'syndrome': 'Bharadwaja',\n",
       " 'October': 'Bharadwaja',\n",
       " 'million': 'Bharadwaja',\n",
       " 'India.[11]': 'Bharadwaja',\n",
       " '2020.[5]': 'Bharadwaja',\n",
       " 'Information': 'Bharadwaja',\n",
       " 'by': 'Bharadwaja',\n",
       " 'first': 'Bharadwaja',\n",
       " 'daily': 'Bharadwaja',\n",
       " 'Government': 'Bharadwaja',\n",
       " 'mathematical': 'Bharadwaja',\n",
       " 'improved': 'Bharadwaja',\n",
       " 'be': 'Bharadwaja',\n",
       " 'might': 'Bharadwaja',\n",
       " 'Covid': 'Bharadwaja',\n",
       " 'By': 'Bharadwaja',\n",
       " 'in': 'Bharadwaja',\n",
       " 'and': 'Bharadwaja',\n",
       " 'with': 'Bharadwaja',\n",
       " 'mid-September': 'Bharadwaja',\n",
       " '15,': 'Bharadwaja',\n",
       " 'assuming': 'Bharadwaja',\n",
       " 'Supermodel\".[15][16][17][18][19]': 'Bharadwaja',\n",
       " 'among': 'Bharadwaja',\n",
       " 'infection': 'Bharadwaja',\n",
       " 'Brazil': 'Bharadwaja',\n",
       " '2021': 'Bharadwaja',\n",
       " 'prediction': 'Bharadwaja',\n",
       " 'country': 'Bharadwaja',\n",
       " 'Chennai,': 'Bharadwaja',\n",
       " 'began': 'Bharadwaja',\n",
       " 'paper': 'Bharadwaja',\n",
       " 'vaccines': 'Bharadwaja',\n",
       " 'drop': 'Bharadwaja',\n",
       " 'vaccination': 'Bharadwaja',\n",
       " '\"steadily': 'Bharadwaja',\n",
       " 'significantly': 'Bharadwaja',\n",
       " 'part': 'Bharadwaja',\n",
       " 'development': 'Bharadwaja',\n",
       " 'world': 'Bharadwaja',\n",
       " '30': 'Bharadwaja',\n",
       " 'India': 'Bharadwaja',\n",
       " 'rate': 'Bharadwaja'}"
      ]
     },
     "execution_count": 180,
     "metadata": {},
     "output_type": "execute_result"
    }
   ],
   "source": [
    "# Q3\n",
    "k = dict.fromkeys(s, \"Bharadwaja\")\n",
    "k"
   ]
  },
  {
   "cell_type": "code",
   "execution_count": 181,
   "id": "agreed-margin",
   "metadata": {},
   "outputs": [
    {
     "data": {
      "text/plain": [
       "dict_keys(['Asia,[6]', 'time.[12]', 'available', 'June,', 'decline', 'stages', '2021,', 'report', 'strategy.[21]', 'COVID-19', '15,000', 'more', 'only', 'deaths', 'workers.', 'The', 'than', '18', '2021.[22]', 'United', 'pandemic', 'reported', 'largest', '16', 'Mumbai,', 'to', '4.1', 'at', 'around', 'close', 'January.[8]', 'drive', '10', '2020,', 'fatality', 'had', 'has', 'below', 'nearly', 'This', 'its', 'population', 'implemented', 'Ministry', 'may', '158,000', 'all', 'number', 'announced', 'In', 'region', 'confirmed', 'control', 'A', 'claim', 'model', 'severe', 'since', 'Broadcasting', 'for', 'that', 'Indian', 'days', 'down', 'States', 'Delhi,', 'Lakshadweep,', 'originated', '(SARS-CoV-2).', 'after', 'case', 'various', 'claimed', \"world's\", 'currently', 'half', 'was', 'On', 'actual', 'recoveries', 'is', 'day', 'of', '\"Indian', '2019', 'six', 'herd', 'called', 'predicted', '90,000', 'economy', 'exceeded', 'per', 'last', 'vaccinated', 'a', '2', 'accounted', 'the', '19', 'simulation', 'same', 'disease', 'Ahmedabad,', 'started', 'and,', 'published', 'cases', 'which', \"country's\", 'new', 'immunity,', '(COVID-19)', 'from', 'come', 'Pune', 'healthcare', 'as', 'Kolkata.[10]', 'based', 'so', 'third-highest', 'immunity', '2021.[14]', 'major', 'coronavirus', 'Infection', 'worldwide', 'mid-May', 'authors', 'January', '60%', 'an', 'declining\".[9]', 'peaked', 'China,', 'year', 'active', 'estimate', 'cities', 'acute', '2021.[7]', 'July', 'lowest', 'under', 'caused', 'respiratory', 'homepage.[20]', 'comparison', 'reaches', 'panel', '11.4', \"India's\", 'anti-COVID', 'national', 'rapidly.[13]', 'over', 'India,', 'on', '2.41%', 'have', 'successfully', '–', 'September,', 'rates', 'February', 'March', 'syndrome', 'October', 'million', 'India.[11]', '2020.[5]', 'Information', 'by', 'first', 'daily', 'Government', 'mathematical', 'improved', 'be', 'might', 'Covid', 'By', 'in', 'and', 'with', 'mid-September', '15,', 'assuming', 'Supermodel\".[15][16][17][18][19]', 'among', 'infection', 'Brazil', '2021', 'prediction', 'country', 'Chennai,', 'began', 'paper', 'vaccines', 'drop', 'vaccination', '\"steadily', 'significantly', 'part', 'development', 'world', '30', 'India', 'rate'])"
      ]
     },
     "execution_count": 181,
     "metadata": {},
     "output_type": "execute_result"
    }
   ],
   "source": [
    "# Q5\n",
    "k.keys()"
   ]
  },
  {
   "cell_type": "code",
   "execution_count": 182,
   "id": "leading-andrew",
   "metadata": {},
   "outputs": [
    {
     "data": {
      "text/plain": [
       "['Asia,[6]',\n",
       " 'time.[12]',\n",
       " 'available',\n",
       " 'June,',\n",
       " 'decline',\n",
       " 'stages',\n",
       " '2021,',\n",
       " 'report',\n",
       " 'strategy.[21]',\n",
       " 'COVID-19',\n",
       " '15,000',\n",
       " 'more',\n",
       " 'only',\n",
       " 'deaths',\n",
       " 'workers.',\n",
       " 'The',\n",
       " 'than',\n",
       " '18',\n",
       " '2021.[22]',\n",
       " 'United',\n",
       " 'pandemic',\n",
       " 'reported',\n",
       " 'largest',\n",
       " '16',\n",
       " 'Mumbai,',\n",
       " 'to',\n",
       " '4.1',\n",
       " 'at',\n",
       " 'around',\n",
       " 'close',\n",
       " 'January.[8]',\n",
       " 'drive',\n",
       " '10',\n",
       " '2020,',\n",
       " 'fatality',\n",
       " 'had',\n",
       " 'has',\n",
       " 'below',\n",
       " 'nearly',\n",
       " 'This',\n",
       " 'its',\n",
       " 'population',\n",
       " 'implemented',\n",
       " 'Ministry',\n",
       " 'may',\n",
       " '158,000',\n",
       " 'all',\n",
       " 'number',\n",
       " 'announced',\n",
       " 'In',\n",
       " 'region',\n",
       " 'confirmed',\n",
       " 'control',\n",
       " 'A',\n",
       " 'claim',\n",
       " 'model',\n",
       " 'severe',\n",
       " 'since',\n",
       " 'Broadcasting',\n",
       " 'for',\n",
       " 'that',\n",
       " 'Indian',\n",
       " 'days',\n",
       " 'down',\n",
       " 'States',\n",
       " 'Delhi,',\n",
       " 'Lakshadweep,',\n",
       " 'originated',\n",
       " '(SARS-CoV-2).',\n",
       " 'after',\n",
       " 'case',\n",
       " 'various',\n",
       " 'claimed',\n",
       " \"world's\",\n",
       " 'currently',\n",
       " 'half',\n",
       " 'was',\n",
       " 'On',\n",
       " 'actual',\n",
       " 'recoveries',\n",
       " 'is',\n",
       " 'day',\n",
       " 'of',\n",
       " '\"Indian',\n",
       " '2019',\n",
       " 'six',\n",
       " 'herd',\n",
       " 'called',\n",
       " 'predicted',\n",
       " '90,000',\n",
       " 'economy',\n",
       " 'exceeded',\n",
       " 'per',\n",
       " 'last',\n",
       " 'vaccinated',\n",
       " 'a',\n",
       " '2',\n",
       " 'accounted',\n",
       " 'the',\n",
       " '19',\n",
       " 'simulation',\n",
       " 'same',\n",
       " 'disease',\n",
       " 'Ahmedabad,',\n",
       " 'started',\n",
       " 'and,',\n",
       " 'published',\n",
       " 'cases',\n",
       " 'which',\n",
       " \"country's\",\n",
       " 'new',\n",
       " 'immunity,',\n",
       " '(COVID-19)',\n",
       " 'from',\n",
       " 'come',\n",
       " 'Pune',\n",
       " 'healthcare',\n",
       " 'as',\n",
       " 'Kolkata.[10]',\n",
       " 'based',\n",
       " 'so',\n",
       " 'third-highest',\n",
       " 'immunity',\n",
       " '2021.[14]',\n",
       " 'major',\n",
       " 'coronavirus',\n",
       " 'Infection',\n",
       " 'worldwide',\n",
       " 'mid-May',\n",
       " 'authors',\n",
       " 'January',\n",
       " '60%',\n",
       " 'an',\n",
       " 'declining\".[9]',\n",
       " 'peaked',\n",
       " 'China,',\n",
       " 'year',\n",
       " 'active',\n",
       " 'estimate',\n",
       " 'cities',\n",
       " 'acute',\n",
       " '2021.[7]',\n",
       " 'July',\n",
       " 'lowest',\n",
       " 'under',\n",
       " 'caused',\n",
       " 'respiratory',\n",
       " 'homepage.[20]',\n",
       " 'comparison',\n",
       " 'reaches',\n",
       " 'panel',\n",
       " '11.4',\n",
       " \"India's\",\n",
       " 'anti-COVID',\n",
       " 'national',\n",
       " 'rapidly.[13]',\n",
       " 'over',\n",
       " 'India,',\n",
       " 'on',\n",
       " '2.41%',\n",
       " 'have',\n",
       " 'successfully',\n",
       " '–',\n",
       " 'September,',\n",
       " 'rates',\n",
       " 'February',\n",
       " 'March',\n",
       " 'syndrome',\n",
       " 'October',\n",
       " 'million',\n",
       " 'India.[11]',\n",
       " '2020.[5]',\n",
       " 'Information',\n",
       " 'by',\n",
       " 'first',\n",
       " 'daily',\n",
       " 'Government',\n",
       " 'mathematical',\n",
       " 'improved',\n",
       " 'be',\n",
       " 'might',\n",
       " 'Covid',\n",
       " 'By',\n",
       " 'in',\n",
       " 'and',\n",
       " 'with',\n",
       " 'mid-September',\n",
       " '15,',\n",
       " 'assuming',\n",
       " 'Supermodel\".[15][16][17][18][19]',\n",
       " 'among',\n",
       " 'infection',\n",
       " 'Brazil',\n",
       " '2021',\n",
       " 'prediction',\n",
       " 'country',\n",
       " 'Chennai,',\n",
       " 'began',\n",
       " 'paper',\n",
       " 'vaccines',\n",
       " 'drop',\n",
       " 'vaccination',\n",
       " '\"steadily',\n",
       " 'significantly',\n",
       " 'part',\n",
       " 'development',\n",
       " 'world',\n",
       " '30',\n",
       " 'India',\n",
       " 'rate']"
      ]
     },
     "execution_count": 182,
     "metadata": {},
     "output_type": "execute_result"
    }
   ],
   "source": [
    "# Q05\n",
    "list(k.keys())"
   ]
  },
  {
   "cell_type": "markdown",
   "id": "lesbian-custom",
   "metadata": {},
   "source": [
    "## Dictionary comprehension"
   ]
  },
  {
   "cell_type": "code",
   "execution_count": 183,
   "id": "mobile-encoding",
   "metadata": {},
   "outputs": [],
   "source": [
    "d = {'company':\"ineuron\",'Course':'FSDS','year':2021}"
   ]
  },
  {
   "cell_type": "code",
   "execution_count": 185,
   "id": "architectural-floor",
   "metadata": {},
   "outputs": [
    {
     "data": {
      "text/plain": [
       "['company', 'Course', 'year']"
      ]
     },
     "execution_count": 185,
     "metadata": {},
     "output_type": "execute_result"
    }
   ],
   "source": [
    "d = {'company':\"ineuron\",'Course':'FSDS','year':2021}\n",
    "[i for i in d.keys()]"
   ]
  },
  {
   "cell_type": "code",
   "execution_count": 186,
   "id": "affiliated-admission",
   "metadata": {},
   "outputs": [
    {
     "data": {
      "text/plain": [
       "['ineuron', 'FSDS', 2021]"
      ]
     },
     "execution_count": 186,
     "metadata": {},
     "output_type": "execute_result"
    }
   ],
   "source": [
    "[i for i in d.values()]"
   ]
  },
  {
   "cell_type": "code",
   "execution_count": 193,
   "id": "entitled-oakland",
   "metadata": {},
   "outputs": [
    {
     "data": {
      "text/plain": [
       "['2022', '2022', '2022']"
      ]
     },
     "execution_count": 193,
     "metadata": {},
     "output_type": "execute_result"
    }
   ],
   "source": [
    "d = {'company':\"ineuron\",'Course':'FSDS','year':2021}\n",
    "[ \"Year is fine\"  if ( (i == 'year') > 2021) else \"2022\" for i in d]"
   ]
  },
  {
   "cell_type": "code",
   "execution_count": 198,
   "id": "resistant-belle",
   "metadata": {},
   "outputs": [
    {
     "data": {
      "text/plain": [
       "{0: 0, 2: 4, 4: 16, 6: 36, 8: 64}"
      ]
     },
     "execution_count": 198,
     "metadata": {},
     "output_type": "execute_result"
    }
   ],
   "source": [
    "{i:i*i for i in range(0,10,2)}"
   ]
  },
  {
   "cell_type": "code",
   "execution_count": 200,
   "id": "confident-order",
   "metadata": {},
   "outputs": [
    {
     "data": {
      "text/plain": [
       "set"
      ]
     },
     "execution_count": 200,
     "metadata": {},
     "output_type": "execute_result"
    }
   ],
   "source": [
    "type({i for i in range(0,10,2)})"
   ]
  },
  {
   "cell_type": "code",
   "execution_count": null,
   "id": "fabulous-biography",
   "metadata": {},
   "outputs": [],
   "source": []
  },
  {
   "cell_type": "code",
   "execution_count": null,
   "id": "significant-assumption",
   "metadata": {},
   "outputs": [],
   "source": []
  },
  {
   "cell_type": "code",
   "execution_count": null,
   "id": "little-minute",
   "metadata": {},
   "outputs": [],
   "source": []
  },
  {
   "cell_type": "code",
   "execution_count": null,
   "id": "ahead-radiation",
   "metadata": {},
   "outputs": [],
   "source": []
  },
  {
   "cell_type": "code",
   "execution_count": null,
   "id": "attended-standing",
   "metadata": {},
   "outputs": [],
   "source": []
  },
  {
   "cell_type": "code",
   "execution_count": null,
   "id": "alert-communist",
   "metadata": {},
   "outputs": [],
   "source": []
  },
  {
   "cell_type": "code",
   "execution_count": null,
   "id": "taken-madonna",
   "metadata": {},
   "outputs": [],
   "source": []
  },
  {
   "cell_type": "code",
   "execution_count": null,
   "id": "greenhouse-compilation",
   "metadata": {},
   "outputs": [],
   "source": []
  },
  {
   "cell_type": "code",
   "execution_count": null,
   "id": "detected-money",
   "metadata": {},
   "outputs": [],
   "source": []
  },
  {
   "cell_type": "code",
   "execution_count": null,
   "id": "boxed-poster",
   "metadata": {},
   "outputs": [],
   "source": []
  },
  {
   "cell_type": "code",
   "execution_count": null,
   "id": "ranking-sacrifice",
   "metadata": {},
   "outputs": [],
   "source": []
  },
  {
   "cell_type": "code",
   "execution_count": null,
   "id": "chronic-sharing",
   "metadata": {},
   "outputs": [],
   "source": []
  },
  {
   "cell_type": "code",
   "execution_count": null,
   "id": "composite-marine",
   "metadata": {},
   "outputs": [],
   "source": []
  },
  {
   "cell_type": "code",
   "execution_count": null,
   "id": "informational-evolution",
   "metadata": {},
   "outputs": [],
   "source": []
  },
  {
   "cell_type": "code",
   "execution_count": null,
   "id": "israeli-motivation",
   "metadata": {},
   "outputs": [],
   "source": []
  }
 ],
 "metadata": {
  "kernelspec": {
   "display_name": "Python [conda env:.conda-gputest] *",
   "language": "python",
   "name": "conda-env-.conda-gputest-py"
  },
  "language_info": {
   "codemirror_mode": {
    "name": "ipython",
    "version": 3
   },
   "file_extension": ".py",
   "mimetype": "text/x-python",
   "name": "python",
   "nbconvert_exporter": "python",
   "pygments_lexer": "ipython3",
   "version": "3.6.12"
  }
 },
 "nbformat": 4,
 "nbformat_minor": 5
}
