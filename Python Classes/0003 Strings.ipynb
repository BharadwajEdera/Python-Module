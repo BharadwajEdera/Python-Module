{
 "cells": [
  {
   "cell_type": "markdown",
   "id": "dying-vintage",
   "metadata": {},
   "source": [
    "# String manipulations"
   ]
  },
  {
   "cell_type": "code",
   "execution_count": 1,
   "id": "coupled-overall",
   "metadata": {},
   "outputs": [],
   "source": [
    "a = 'Bharadwaja'"
   ]
  },
  {
   "cell_type": "code",
   "execution_count": 2,
   "id": "dated-implementation",
   "metadata": {},
   "outputs": [
    {
     "data": {
      "text/plain": [
       "'Bharadwaja'"
      ]
     },
     "execution_count": 2,
     "metadata": {},
     "output_type": "execute_result"
    }
   ],
   "source": [
    "a"
   ]
  },
  {
   "cell_type": "code",
   "execution_count": 5,
   "id": "interesting-preference",
   "metadata": {},
   "outputs": [],
   "source": [
    "c ='This is my name , im from \"andhra pradesh\" , india '"
   ]
  },
  {
   "cell_type": "code",
   "execution_count": 6,
   "id": "still-maine",
   "metadata": {},
   "outputs": [
    {
     "data": {
      "text/plain": [
       "'This is my name , im from \"andhra pradesh\" , india '"
      ]
     },
     "execution_count": 6,
     "metadata": {},
     "output_type": "execute_result"
    }
   ],
   "source": [
    "c"
   ]
  },
  {
   "cell_type": "code",
   "execution_count": 9,
   "id": "animated-friendship",
   "metadata": {},
   "outputs": [],
   "source": [
    "d = \"This is my name , im from 'andhra pradesh' , india\""
   ]
  },
  {
   "cell_type": "code",
   "execution_count": 10,
   "id": "secret-bobby",
   "metadata": {},
   "outputs": [
    {
     "data": {
      "text/plain": [
       "\"This is my name , im from 'andhra pradesh' , india\""
      ]
     },
     "execution_count": 10,
     "metadata": {},
     "output_type": "execute_result"
    }
   ],
   "source": [
    "d"
   ]
  },
  {
   "cell_type": "code",
   "execution_count": 11,
   "id": "antique-field",
   "metadata": {},
   "outputs": [],
   "source": [
    "a = \"This is a full stack class\""
   ]
  },
  {
   "cell_type": "code",
   "execution_count": 12,
   "id": "detailed-amino",
   "metadata": {},
   "outputs": [
    {
     "data": {
      "text/plain": [
       "'T'"
      ]
     },
     "execution_count": 12,
     "metadata": {},
     "output_type": "execute_result"
    }
   ],
   "source": [
    "a[0]"
   ]
  },
  {
   "cell_type": "code",
   "execution_count": 13,
   "id": "elementary-maine",
   "metadata": {},
   "outputs": [
    {
     "data": {
      "text/plain": [
       "'s'"
      ]
     },
     "execution_count": 13,
     "metadata": {},
     "output_type": "execute_result"
    }
   ],
   "source": [
    "a[-1]"
   ]
  },
  {
   "cell_type": "code",
   "execution_count": 14,
   "id": "moved-google",
   "metadata": {},
   "outputs": [
    {
     "ename": "IndexError",
     "evalue": "string index out of range",
     "output_type": "error",
     "traceback": [
      "\u001b[1;31m---------------------------------------------------------------------------\u001b[0m",
      "\u001b[1;31mIndexError\u001b[0m                                Traceback (most recent call last)",
      "\u001b[1;32m<ipython-input-14-cd7724b6c85f>\u001b[0m in \u001b[0;36m<module>\u001b[1;34m\u001b[0m\n\u001b[1;32m----> 1\u001b[1;33m \u001b[0ma\u001b[0m\u001b[1;33m[\u001b[0m\u001b[1;36m100\u001b[0m\u001b[1;33m]\u001b[0m\u001b[1;33m\u001b[0m\u001b[1;33m\u001b[0m\u001b[0m\n\u001b[0m",
      "\u001b[1;31mIndexError\u001b[0m: string index out of range"
     ]
    }
   ],
   "source": [
    "a[100]"
   ]
  },
  {
   "cell_type": "code",
   "execution_count": 15,
   "id": "divided-solution",
   "metadata": {},
   "outputs": [
    {
     "data": {
      "text/plain": [
       "26"
      ]
     },
     "execution_count": 15,
     "metadata": {},
     "output_type": "execute_result"
    }
   ],
   "source": [
    "len(a)"
   ]
  },
  {
   "cell_type": "code",
   "execution_count": 17,
   "id": "entitled-production",
   "metadata": {},
   "outputs": [
    {
     "data": {
      "text/plain": [
       "' is a '"
      ]
     },
     "execution_count": 17,
     "metadata": {},
     "output_type": "execute_result"
    }
   ],
   "source": [
    "a[4:10:1]"
   ]
  },
  {
   "cell_type": "code",
   "execution_count": 20,
   "id": "undefined-manual",
   "metadata": {},
   "outputs": [
    {
     "data": {
      "text/plain": [
       "''"
      ]
     },
     "execution_count": 20,
     "metadata": {},
     "output_type": "execute_result"
    }
   ],
   "source": [
    "a[-1:-10]"
   ]
  },
  {
   "cell_type": "code",
   "execution_count": 19,
   "id": "focal-liberty",
   "metadata": {},
   "outputs": [
    {
     "data": {
      "text/plain": [
       "'ssalc kca'"
      ]
     },
     "execution_count": 19,
     "metadata": {},
     "output_type": "execute_result"
    }
   ],
   "source": [
    "a[-1:-10:-1]"
   ]
  },
  {
   "cell_type": "code",
   "execution_count": 46,
   "id": "compound-cinema",
   "metadata": {},
   "outputs": [
    {
     "data": {
      "text/plain": [
       "'sackaslu  ish'"
      ]
     },
     "execution_count": 46,
     "metadata": {},
     "output_type": "execute_result"
    }
   ],
   "source": [
    "a[::-2]"
   ]
  },
  {
   "cell_type": "code",
   "execution_count": 21,
   "id": "indian-cheese",
   "metadata": {},
   "outputs": [
    {
     "data": {
      "text/plain": [
       "'This is a full stack class'"
      ]
     },
     "execution_count": 21,
     "metadata": {},
     "output_type": "execute_result"
    }
   ],
   "source": [
    "a"
   ]
  },
  {
   "cell_type": "code",
   "execution_count": 25,
   "id": "concerned-rendering",
   "metadata": {},
   "outputs": [
    {
     "name": "stdout",
     "output_type": "stream",
     "text": [
      "T\n",
      "h\n",
      "i\n",
      "s\n",
      " \n",
      "i\n",
      "s\n",
      " \n",
      "a\n",
      " \n",
      "f\n",
      "u\n",
      "l\n",
      "l\n",
      " \n",
      "s\n",
      "t\n",
      "a\n",
      "c\n",
      "k\n",
      " \n",
      "c\n",
      "l\n",
      "a\n",
      "s\n",
      "s\n"
     ]
    }
   ],
   "source": [
    "for i in a:\n",
    "    print(i)"
   ]
  },
  {
   "cell_type": "code",
   "execution_count": 33,
   "id": "convertible-foster",
   "metadata": {},
   "outputs": [
    {
     "name": "stdout",
     "output_type": "stream",
     "text": [
      "T\n",
      "h\n",
      "i\n",
      "s\n",
      " \n",
      "i\n",
      "s\n",
      " \n",
      "a\n",
      " \n",
      "f\n",
      "u\n",
      "l\n",
      "l\n",
      " \n",
      "s\n",
      "t\n",
      "a\n",
      "c\n",
      "k\n",
      " \n",
      "c\n",
      "l\n",
      "a\n",
      "s\n",
      "s\n"
     ]
    }
   ],
   "source": [
    "for i in range(len(a)):\n",
    "    print(a[i])"
   ]
  },
  {
   "cell_type": "code",
   "execution_count": 36,
   "id": "extreme-medline",
   "metadata": {},
   "outputs": [],
   "source": [
    "b = a[::-1]"
   ]
  },
  {
   "cell_type": "code",
   "execution_count": 37,
   "id": "ranging-place",
   "metadata": {},
   "outputs": [
    {
     "name": "stdout",
     "output_type": "stream",
     "text": [
      "s\n",
      "s\n",
      "a\n",
      "l\n",
      "c\n",
      " \n",
      "k\n",
      "c\n",
      "a\n",
      "t\n",
      "s\n",
      " \n",
      "l\n",
      "l\n",
      "u\n",
      "f\n",
      " \n",
      "a\n",
      " \n",
      "s\n",
      "i\n",
      " \n",
      "s\n",
      "i\n",
      "h\n",
      "T\n"
     ]
    }
   ],
   "source": [
    "for i in b:\n",
    "    print(i)"
   ]
  },
  {
   "cell_type": "code",
   "execution_count": 38,
   "id": "august-ferry",
   "metadata": {},
   "outputs": [
    {
     "data": {
      "text/plain": [
       "'This is a full stack class'"
      ]
     },
     "execution_count": 38,
     "metadata": {},
     "output_type": "execute_result"
    }
   ],
   "source": [
    "a"
   ]
  },
  {
   "cell_type": "markdown",
   "id": "modern-bathroom",
   "metadata": {},
   "source": [
    "# String is a immutable object \n",
    "\n",
    "# String object doesn't allow item assignment"
   ]
  },
  {
   "cell_type": "code",
   "execution_count": 41,
   "id": "exotic-polish",
   "metadata": {},
   "outputs": [
    {
     "ename": "TypeError",
     "evalue": "'str' object does not support item assignment",
     "output_type": "error",
     "traceback": [
      "\u001b[1;31m---------------------------------------------------------------------------\u001b[0m",
      "\u001b[1;31mTypeError\u001b[0m                                 Traceback (most recent call last)",
      "\u001b[1;32m<ipython-input-41-05461f9dbb46>\u001b[0m in \u001b[0;36m<module>\u001b[1;34m\u001b[0m\n\u001b[1;32m----> 1\u001b[1;33m \u001b[0ma\u001b[0m\u001b[1;33m[\u001b[0m\u001b[1;36m0\u001b[0m\u001b[1;33m]\u001b[0m \u001b[1;33m=\u001b[0m \u001b[1;34m'K'\u001b[0m\u001b[1;33m\u001b[0m\u001b[1;33m\u001b[0m\u001b[0m\n\u001b[0m",
      "\u001b[1;31mTypeError\u001b[0m: 'str' object does not support item assignment"
     ]
    }
   ],
   "source": [
    "a[0] = 'K'"
   ]
  },
  {
   "cell_type": "markdown",
   "id": "valuable-restoration",
   "metadata": {},
   "source": [
    "# List is a mutable object \n",
    "\n",
    "# List object allow item assignment"
   ]
  },
  {
   "cell_type": "code",
   "execution_count": 43,
   "id": "responsible-racing",
   "metadata": {},
   "outputs": [],
   "source": [
    "l = ['This',21,2+3j,\"gvhgv\"]"
   ]
  },
  {
   "cell_type": "code",
   "execution_count": 44,
   "id": "protected-sculpture",
   "metadata": {},
   "outputs": [],
   "source": [
    "l[0] = \"Bharadwaja\""
   ]
  },
  {
   "cell_type": "code",
   "execution_count": 45,
   "id": "greatest-spanish",
   "metadata": {},
   "outputs": [
    {
     "data": {
      "text/plain": [
       "['Bharadwaja', 21, (2+3j), 'gvhgv']"
      ]
     },
     "execution_count": 45,
     "metadata": {},
     "output_type": "execute_result"
    }
   ],
   "source": [
    "l"
   ]
  },
  {
   "cell_type": "code",
   "execution_count": 47,
   "id": "wanted-layout",
   "metadata": {},
   "outputs": [
    {
     "data": {
      "text/plain": [
       "'BharadwajaEdera'"
      ]
     },
     "execution_count": 47,
     "metadata": {},
     "output_type": "execute_result"
    }
   ],
   "source": [
    "\"Bharadwaja\" + \"Edera\""
   ]
  },
  {
   "cell_type": "code",
   "execution_count": 48,
   "id": "chronic-engine",
   "metadata": {},
   "outputs": [
    {
     "ename": "TypeError",
     "evalue": "must be str, not int",
     "output_type": "error",
     "traceback": [
      "\u001b[1;31m---------------------------------------------------------------------------\u001b[0m",
      "\u001b[1;31mTypeError\u001b[0m                                 Traceback (most recent call last)",
      "\u001b[1;32m<ipython-input-48-d1d673ebcb53>\u001b[0m in \u001b[0;36m<module>\u001b[1;34m\u001b[0m\n\u001b[1;32m----> 1\u001b[1;33m \u001b[1;34m\"Bharadwaja\"\u001b[0m \u001b[1;33m+\u001b[0m \u001b[1;36m3\u001b[0m\u001b[1;33m\u001b[0m\u001b[1;33m\u001b[0m\u001b[0m\n\u001b[0m",
      "\u001b[1;31mTypeError\u001b[0m: must be str, not int"
     ]
    }
   ],
   "source": [
    "\"Bharadwaja\" + 3"
   ]
  },
  {
   "cell_type": "markdown",
   "id": "painted-catch",
   "metadata": {},
   "source": [
    "# Type cast"
   ]
  },
  {
   "cell_type": "code",
   "execution_count": 49,
   "id": "breathing-inspection",
   "metadata": {},
   "outputs": [
    {
     "data": {
      "text/plain": [
       "'Bharadwaja3'"
      ]
     },
     "execution_count": 49,
     "metadata": {},
     "output_type": "execute_result"
    }
   ],
   "source": [
    "\"Bharadwaja\" + '3'"
   ]
  },
  {
   "cell_type": "code",
   "execution_count": 50,
   "id": "helpful-easter",
   "metadata": {},
   "outputs": [
    {
     "data": {
      "text/plain": [
       "'Bharadwaja3'"
      ]
     },
     "execution_count": 50,
     "metadata": {},
     "output_type": "execute_result"
    }
   ],
   "source": [
    "\"Bharadwaja\" + str(3)"
   ]
  },
  {
   "cell_type": "code",
   "execution_count": 51,
   "id": "psychological-strategy",
   "metadata": {},
   "outputs": [
    {
     "ename": "TypeError",
     "evalue": "must be str, not list",
     "output_type": "error",
     "traceback": [
      "\u001b[1;31m---------------------------------------------------------------------------\u001b[0m",
      "\u001b[1;31mTypeError\u001b[0m                                 Traceback (most recent call last)",
      "\u001b[1;32m<ipython-input-51-50dc5e48fbf3>\u001b[0m in \u001b[0;36m<module>\u001b[1;34m\u001b[0m\n\u001b[1;32m----> 1\u001b[1;33m \u001b[1;34m\"Bharadwaja\"\u001b[0m \u001b[1;33m+\u001b[0m \u001b[1;33m[\u001b[0m\u001b[1;34m\"Edera\"\u001b[0m\u001b[1;33m]\u001b[0m\u001b[1;33m\u001b[0m\u001b[1;33m\u001b[0m\u001b[0m\n\u001b[0m",
      "\u001b[1;31mTypeError\u001b[0m: must be str, not list"
     ]
    }
   ],
   "source": [
    "\"Bharadwaja\" + [\"Edera\"]"
   ]
  },
  {
   "cell_type": "code",
   "execution_count": 52,
   "id": "handed-retrieval",
   "metadata": {},
   "outputs": [
    {
     "data": {
      "text/plain": [
       "'bharadwajabharadwajabharadwaja'"
      ]
     },
     "execution_count": 52,
     "metadata": {},
     "output_type": "execute_result"
    }
   ],
   "source": [
    "\"bharadwaja\" * 3"
   ]
  },
  {
   "cell_type": "code",
   "execution_count": 72,
   "id": "hidden-police",
   "metadata": {},
   "outputs": [],
   "source": [
    "s = \"my name is\""
   ]
  },
  {
   "cell_type": "code",
   "execution_count": 63,
   "id": "signed-polish",
   "metadata": {},
   "outputs": [
    {
     "data": {
      "text/plain": [
       "0"
      ]
     },
     "execution_count": 63,
     "metadata": {},
     "output_type": "execute_result"
    }
   ],
   "source": [
    "s.find(\"m\")"
   ]
  },
  {
   "cell_type": "code",
   "execution_count": 64,
   "id": "exciting-mileage",
   "metadata": {},
   "outputs": [
    {
     "data": {
      "text/plain": [
       "9"
      ]
     },
     "execution_count": 64,
     "metadata": {},
     "output_type": "execute_result"
    }
   ],
   "source": [
    "s.find(\"s\")"
   ]
  },
  {
   "cell_type": "code",
   "execution_count": 68,
   "id": "flush-cleaner",
   "metadata": {},
   "outputs": [
    {
     "data": {
      "text/plain": [
       "-1"
      ]
     },
     "execution_count": 68,
     "metadata": {},
     "output_type": "execute_result"
    }
   ],
   "source": [
    "s.find(\"bcjc\")"
   ]
  },
  {
   "cell_type": "code",
   "execution_count": 69,
   "id": "pending-pregnancy",
   "metadata": {},
   "outputs": [
    {
     "data": {
      "text/plain": [
       "0"
      ]
     },
     "execution_count": 69,
     "metadata": {},
     "output_type": "execute_result"
    }
   ],
   "source": [
    "s.find(\"my\")"
   ]
  },
  {
   "cell_type": "code",
   "execution_count": 70,
   "id": "professional-objective",
   "metadata": {},
   "outputs": [
    {
     "data": {
      "text/plain": [
       "8"
      ]
     },
     "execution_count": 70,
     "metadata": {},
     "output_type": "execute_result"
    }
   ],
   "source": [
    "s.find(\"is\")"
   ]
  },
  {
   "cell_type": "code",
   "execution_count": 80,
   "id": "incorrect-budapest",
   "metadata": {},
   "outputs": [
    {
     "name": "stdout",
     "output_type": "stream",
     "text": [
      "3\n",
      "4\n",
      "5\n",
      "6\n"
     ]
    }
   ],
   "source": [
    "a = s.find(\"name\")\n",
    "for i in range(len(\"name\")):\n",
    "    print(a + i)"
   ]
  },
  {
   "cell_type": "code",
   "execution_count": 85,
   "id": "approved-liechtenstein",
   "metadata": {},
   "outputs": [
    {
     "data": {
      "text/plain": [
       "3"
      ]
     },
     "execution_count": 85,
     "metadata": {},
     "output_type": "execute_result"
    }
   ],
   "source": [
    "a"
   ]
  },
  {
   "cell_type": "code",
   "execution_count": 87,
   "id": "derived-michigan",
   "metadata": {},
   "outputs": [
    {
     "data": {
      "text/plain": [
       "2"
      ]
     },
     "execution_count": 87,
     "metadata": {},
     "output_type": "execute_result"
    }
   ],
   "source": [
    "s.count('m')"
   ]
  },
  {
   "cell_type": "code",
   "execution_count": 88,
   "id": "sensitive-twins",
   "metadata": {},
   "outputs": [
    {
     "data": {
      "text/plain": [
       "0"
      ]
     },
     "execution_count": 88,
     "metadata": {},
     "output_type": "execute_result"
    }
   ],
   "source": [
    "s.count(\"M\")"
   ]
  },
  {
   "cell_type": "code",
   "execution_count": 95,
   "id": "purple-federal",
   "metadata": {},
   "outputs": [
    {
     "data": {
      "text/plain": [
       "['my', 'name', 'is']"
      ]
     },
     "execution_count": 95,
     "metadata": {},
     "output_type": "execute_result"
    }
   ],
   "source": [
    "s.split()"
   ]
  },
  {
   "cell_type": "code",
   "execution_count": 96,
   "id": "medium-composer",
   "metadata": {},
   "outputs": [
    {
     "data": {
      "text/plain": [
       "['my ', 'ame is']"
      ]
     },
     "execution_count": 96,
     "metadata": {},
     "output_type": "execute_result"
    }
   ],
   "source": [
    "s.split('n')"
   ]
  },
  {
   "cell_type": "code",
   "execution_count": 97,
   "id": "broke-coating",
   "metadata": {},
   "outputs": [],
   "source": [
    "s = \"This is $ hbuv $ wbfhbf $jhwbfjh %jhdwejhf%s s ,hsbdvhbs$hbcsjhbc5%jhvj\""
   ]
  },
  {
   "cell_type": "code",
   "execution_count": 98,
   "id": "optional-thunder",
   "metadata": {},
   "outputs": [
    {
     "data": {
      "text/plain": [
       "['This is ',\n",
       " ' hbuv ',\n",
       " ' wbfhbf ',\n",
       " 'jhwbfjh %jhdwejhf%s s ,hsbdvhbs',\n",
       " 'hbcsjhbc5%jhvj']"
      ]
     },
     "execution_count": 98,
     "metadata": {},
     "output_type": "execute_result"
    }
   ],
   "source": [
    "s.split('$')"
   ]
  },
  {
   "cell_type": "code",
   "execution_count": 99,
   "id": "bizarre-quarter",
   "metadata": {},
   "outputs": [
    {
     "data": {
      "text/plain": [
       "['This is $ hbuv $ wbfhbf $jhwbfjh ',\n",
       " 'jhdwejhf',\n",
       " 's s ,hsbdvhbs$hbcsjhbc5',\n",
       " 'jhvj']"
      ]
     },
     "execution_count": 99,
     "metadata": {},
     "output_type": "execute_result"
    }
   ],
   "source": [
    "s.split('%')"
   ]
  },
  {
   "cell_type": "code",
   "execution_count": 100,
   "id": "electric-hungarian",
   "metadata": {},
   "outputs": [
    {
     "data": {
      "text/plain": [
       "list"
      ]
     },
     "execution_count": 100,
     "metadata": {},
     "output_type": "execute_result"
    }
   ],
   "source": [
    "type(s.split('%'))"
   ]
  },
  {
   "cell_type": "code",
   "execution_count": 101,
   "id": "muslim-christmas",
   "metadata": {},
   "outputs": [
    {
     "data": {
      "text/plain": [
       "'THIS IS $ HBUV $ WBFHBF $JHWBFJH %JHDWEJHF%S S ,HSBDVHBS$HBCSJHBC5%JHVJ'"
      ]
     },
     "execution_count": 101,
     "metadata": {},
     "output_type": "execute_result"
    }
   ],
   "source": [
    "s.upper()"
   ]
  },
  {
   "cell_type": "code",
   "execution_count": 102,
   "id": "nearby-jumping",
   "metadata": {},
   "outputs": [
    {
     "data": {
      "text/plain": [
       "'this is $ hbuv $ wbfhbf $jhwbfjh %jhdwejhf%s s ,hsbdvhbs$hbcsjhbc5%jhvj'"
      ]
     },
     "execution_count": 102,
     "metadata": {},
     "output_type": "execute_result"
    }
   ],
   "source": [
    "s.lower()"
   ]
  },
  {
   "cell_type": "code",
   "execution_count": 103,
   "id": "referenced-apparel",
   "metadata": {},
   "outputs": [
    {
     "data": {
      "text/plain": [
       "'tHIS IS $ HBUV $ WBFHBF $JHWBFJH %JHDWEJHF%S S ,HSBDVHBS$HBCSJHBC5%JHVJ'"
      ]
     },
     "execution_count": 103,
     "metadata": {},
     "output_type": "execute_result"
    }
   ],
   "source": [
    "s.swapcase()"
   ]
  },
  {
   "cell_type": "code",
   "execution_count": 108,
   "id": "frank-albuquerque",
   "metadata": {},
   "outputs": [
    {
     "data": {
      "text/plain": [
       "'T  h  i  s     i  s     $     h  b  u  v     $     w  b  f  h  b  f     $  j  h  w  b  f  j  h     %  j  h  d  w  e  j  h  f  %  s     s     ,  h  s  b  d  v  h  b  s  $  h  b  c  s  j  h  b  c  5  %  j  h  v  j'"
      ]
     },
     "execution_count": 108,
     "metadata": {},
     "output_type": "execute_result"
    }
   ],
   "source": [
    "\"  \".join(s)"
   ]
  },
  {
   "cell_type": "code",
   "execution_count": 110,
   "id": "solved-level",
   "metadata": {},
   "outputs": [
    {
     "data": {
      "text/plain": [
       "'T % h % i % s %   % i % s %   % $ %   % h % b % u % v %   % $ %   % w % b % f % h % b % f %   % $ % j % h % w % b % f % j % h %   % % % j % h % d % w % e % j % h % f % % % s %   % s %   % , % h % s % b % d % v % h % b % s % $ % h % b % c % s % j % h % b % c % 5 % % % j % h % v % j'"
      ]
     },
     "execution_count": 110,
     "metadata": {},
     "output_type": "execute_result"
    }
   ],
   "source": [
    "\" % \".join(s)"
   ]
  },
  {
   "cell_type": "code",
   "execution_count": 115,
   "id": "alpha-witch",
   "metadata": {},
   "outputs": [],
   "source": [
    "k = \"Bharadwaja\""
   ]
  },
  {
   "cell_type": "code",
   "execution_count": 116,
   "id": "magnetic-print",
   "metadata": {},
   "outputs": [
    {
     "data": {
      "text/plain": [
       "['a', 'j', 'a', 'w', 'd', 'a', 'r', 'a', 'h', 'B']"
      ]
     },
     "execution_count": 116,
     "metadata": {},
     "output_type": "execute_result"
    }
   ],
   "source": [
    "list(reversed(k))"
   ]
  },
  {
   "cell_type": "code",
   "execution_count": 117,
   "id": "union-circus",
   "metadata": {},
   "outputs": [
    {
     "name": "stdout",
     "output_type": "stream",
     "text": [
      "a\n",
      "j\n",
      "a\n",
      "w\n",
      "d\n",
      "a\n",
      "r\n",
      "a\n",
      "h\n",
      "B\n"
     ]
    }
   ],
   "source": [
    "for i in reversed(k):\n",
    "    print(i)"
   ]
  },
  {
   "cell_type": "code",
   "execution_count": 122,
   "id": "editorial-conversation",
   "metadata": {},
   "outputs": [],
   "source": [
    "s = '     kdbfjhbf    hbfhjwbf     hwebfhwb       '"
   ]
  },
  {
   "cell_type": "code",
   "execution_count": 123,
   "id": "dramatic-integration",
   "metadata": {},
   "outputs": [
    {
     "data": {
      "text/plain": [
       "'kdbfjhbf    hbfhjwbf     hwebfhwb'"
      ]
     },
     "execution_count": 123,
     "metadata": {},
     "output_type": "execute_result"
    }
   ],
   "source": [
    "s.strip()"
   ]
  },
  {
   "cell_type": "code",
   "execution_count": 124,
   "id": "authorized-embassy",
   "metadata": {},
   "outputs": [
    {
     "data": {
      "text/plain": [
       "'kdbfjhbf    hbfhjwbf     hwebfhwb       '"
      ]
     },
     "execution_count": 124,
     "metadata": {},
     "output_type": "execute_result"
    }
   ],
   "source": [
    "s.lstrip()"
   ]
  },
  {
   "cell_type": "code",
   "execution_count": 125,
   "id": "seasonal-quality",
   "metadata": {},
   "outputs": [
    {
     "data": {
      "text/plain": [
       "'     kdbfjhbf    hbfhjwbf     hwebfhwb'"
      ]
     },
     "execution_count": 125,
     "metadata": {},
     "output_type": "execute_result"
    }
   ],
   "source": [
    "s.rstrip()"
   ]
  },
  {
   "cell_type": "code",
   "execution_count": 126,
   "id": "helpful-singing",
   "metadata": {},
   "outputs": [],
   "source": [
    "s = \"greeting from Bharadwaja\""
   ]
  },
  {
   "cell_type": "code",
   "execution_count": 127,
   "id": "foster-reaction",
   "metadata": {},
   "outputs": [
    {
     "data": {
      "text/plain": [
       "'sreetins from Bharadwaja'"
      ]
     },
     "execution_count": 127,
     "metadata": {},
     "output_type": "execute_result"
    }
   ],
   "source": [
    "s.replace(\"g\",\"s\")"
   ]
  },
  {
   "cell_type": "code",
   "execution_count": 128,
   "id": "substantial-income",
   "metadata": {},
   "outputs": [
    {
     "data": {
      "text/plain": [
       "'s0eeting from Bharadwaja'"
      ]
     },
     "execution_count": 128,
     "metadata": {},
     "output_type": "execute_result"
    }
   ],
   "source": [
    "s.replace(\"gr\",\"s0\")"
   ]
  },
  {
   "cell_type": "code",
   "execution_count": 129,
   "id": "impaired-russian",
   "metadata": {},
   "outputs": [
    {
     "data": {
      "text/plain": [
       "'greeting from Bharadwaja'"
      ]
     },
     "execution_count": 129,
     "metadata": {},
     "output_type": "execute_result"
    }
   ],
   "source": [
    "s"
   ]
  },
  {
   "cell_type": "code",
   "execution_count": 130,
   "id": "fiscal-adventure",
   "metadata": {},
   "outputs": [],
   "source": [
    "s = s.replace(\"gr\",\"s0\")"
   ]
  },
  {
   "cell_type": "code",
   "execution_count": 131,
   "id": "hairy-confidentiality",
   "metadata": {},
   "outputs": [
    {
     "data": {
      "text/plain": [
       "'s0eeting from Bharadwaja'"
      ]
     },
     "execution_count": 131,
     "metadata": {},
     "output_type": "execute_result"
    }
   ],
   "source": [
    "s"
   ]
  },
  {
   "cell_type": "code",
   "execution_count": 135,
   "id": "stuck-launch",
   "metadata": {},
   "outputs": [],
   "source": [
    "s = \"Bharadwaja\""
   ]
  },
  {
   "cell_type": "code",
   "execution_count": 139,
   "id": "graphic-commercial",
   "metadata": {},
   "outputs": [
    {
     "data": {
      "text/plain": [
       "'iiiiiBharadwajaiiii'"
      ]
     },
     "execution_count": 139,
     "metadata": {},
     "output_type": "execute_result"
    }
   ],
   "source": [
    "s.center(19,'i')"
   ]
  },
  {
   "cell_type": "code",
   "execution_count": 140,
   "id": "noticed-cheese",
   "metadata": {},
   "outputs": [
    {
     "data": {
      "text/plain": [
       "'#####Bharadwaja####'"
      ]
     },
     "execution_count": 140,
     "metadata": {},
     "output_type": "execute_result"
    }
   ],
   "source": [
    "s.center(19,'#')"
   ]
  },
  {
   "cell_type": "code",
   "execution_count": 146,
   "id": "accepted-occurrence",
   "metadata": {},
   "outputs": [],
   "source": [
    "s = \"Bharadwaja\\tEdera\\tis\\tname\""
   ]
  },
  {
   "cell_type": "code",
   "execution_count": 147,
   "id": "saving-homeless",
   "metadata": {},
   "outputs": [
    {
     "data": {
      "text/plain": [
       "'Bharadwaja\\tEdera\\tis\\tname'"
      ]
     },
     "execution_count": 147,
     "metadata": {},
     "output_type": "execute_result"
    }
   ],
   "source": [
    "s"
   ]
  },
  {
   "cell_type": "code",
   "execution_count": 148,
   "id": "danish-czech",
   "metadata": {},
   "outputs": [
    {
     "data": {
      "text/plain": [
       "'Bharadwaja      Edera   is      name'"
      ]
     },
     "execution_count": 148,
     "metadata": {},
     "output_type": "execute_result"
    }
   ],
   "source": [
    "s.expandtabs()"
   ]
  },
  {
   "cell_type": "markdown",
   "id": "oriented-assistant",
   "metadata": {},
   "source": [
    "# Task\n",
    "## 1. Normalize all the string in lowercase\n",
    "## 2.Find number of ocurrences of \"a\" in entire Data\n",
    "## 3.Find all the location/index of a in String\n",
    "## 4.replace all \"a\" with i neuron\n",
    "## 5.print all words as a list"
   ]
  },
  {
   "cell_type": "code",
   "execution_count": 153,
   "id": "affecting-dinner",
   "metadata": {},
   "outputs": [],
   "source": [
    "s =\"we all are part of Full Stack\""
   ]
  },
  {
   "cell_type": "code",
   "execution_count": 159,
   "id": "dietary-terror",
   "metadata": {},
   "outputs": [
    {
     "name": "stdout",
     "output_type": "stream",
     "text": [
      "we all are part of full stack\n",
      "Number of occurences of 'a'  4\n",
      "[3, 7, 12, 26]\n",
      "we INEURONll INEURONre pINEURONrt of Full StINEURONck\n",
      "['we', 'all', 'are', 'part', 'of', 'Full', 'Stack']\n"
     ]
    }
   ],
   "source": [
    "def string(s):\n",
    "    a = s.lower()\n",
    "    print(a)\n",
    "    b = s.count(\"a\")\n",
    "    print(\"Number of occurences of 'a' \",b)\n",
    "    c = []\n",
    "    for i in range(len(s)):\n",
    "        if s[i] == \"a\":\n",
    "            c.append(i)\n",
    "    print(c)\n",
    "    d = s.replace(\"a\" , 'INEURON')\n",
    "    print(d)\n",
    "    e = s.split()\n",
    "    print(e)\n",
    "s =\"we all are part of Full Stack\"    \n",
    "string(s)       "
   ]
  },
  {
   "cell_type": "code",
   "execution_count": 157,
   "id": "inner-healing",
   "metadata": {},
   "outputs": [
    {
     "name": "stdout",
     "output_type": "stream",
     "text": [
      "we all are part of full stack\n",
      "Number of occurences of 'a'  4\n",
      "[3, 7, 12, 26]\n",
      "we INEURONll INEURONre pINEURONrt of Full StINEURONck\n",
      "['we', 'all', 'are', 'part', 'of', 'Full', 'Stack']\n"
     ]
    }
   ],
   "source": [
    "string(s)"
   ]
  },
  {
   "cell_type": "code",
   "execution_count": 160,
   "id": "national-graphic",
   "metadata": {},
   "outputs": [
    {
     "name": "stdout",
     "output_type": "stream",
     "text": [
      "we are all part of full stack\n",
      "4\n",
      "[3, 7, 12, 26]\n",
      "We Ineuronre Ineuronll pIneuronrt of Full StIneuronck\n",
      "['We', 'are', 'all', 'part', 'of', 'Full', 'Stack']\n"
     ]
    }
   ],
   "source": [
    "a = \"We are all part of Full Stack\"\n",
    "\n",
    "# 1. Normalizing entire string in lower case\n",
    "print(a.lower())\n",
    "# 2. Finding number of occurances of a in entire string\n",
    "print(len([i for i in range(len(a)) if a[i] == 'a']))\n",
    "# 3. Indexes where a is present \n",
    "print([i for i in range(len(a)) if a[i] == 'a'])  \n",
    "# 4 . replace all a's with ineuron\n",
    "print(a.replace('a','Ineuron'))\n",
    "#5. print all the words as a list\n",
    "print([i for i in a.split() ])\n",
    "\n"
   ]
  },
  {
   "cell_type": "code",
   "execution_count": 166,
   "id": "egyptian-principle",
   "metadata": {},
   "outputs": [],
   "source": [
    "s = 'Bharadwaja'"
   ]
  },
  {
   "cell_type": "code",
   "execution_count": 167,
   "id": "distributed-sector",
   "metadata": {},
   "outputs": [
    {
     "data": {
      "text/plain": [
       "False"
      ]
     },
     "execution_count": 167,
     "metadata": {},
     "output_type": "execute_result"
    }
   ],
   "source": [
    "s.isupper()"
   ]
  },
  {
   "cell_type": "code",
   "execution_count": 168,
   "id": "completed-northwest",
   "metadata": {},
   "outputs": [
    {
     "data": {
      "text/plain": [
       "False"
      ]
     },
     "execution_count": 168,
     "metadata": {},
     "output_type": "execute_result"
    }
   ],
   "source": [
    "s.islower()"
   ]
  },
  {
   "cell_type": "code",
   "execution_count": 164,
   "id": "forty-perspective",
   "metadata": {},
   "outputs": [],
   "source": [
    "s = 'SAI'"
   ]
  },
  {
   "cell_type": "code",
   "execution_count": 165,
   "id": "laughing-carter",
   "metadata": {},
   "outputs": [
    {
     "data": {
      "text/plain": [
       "True"
      ]
     },
     "execution_count": 165,
     "metadata": {},
     "output_type": "execute_result"
    }
   ],
   "source": [
    "s.isupper()"
   ]
  },
  {
   "cell_type": "code",
   "execution_count": 169,
   "id": "optional-passenger",
   "metadata": {},
   "outputs": [
    {
     "data": {
      "text/plain": [
       "False"
      ]
     },
     "execution_count": 169,
     "metadata": {},
     "output_type": "execute_result"
    }
   ],
   "source": [
    "s.isspace()"
   ]
  },
  {
   "cell_type": "code",
   "execution_count": 170,
   "id": "gentle-leave",
   "metadata": {},
   "outputs": [],
   "source": [
    "s = \"   hb\""
   ]
  },
  {
   "cell_type": "code",
   "execution_count": 171,
   "id": "incoming-reduction",
   "metadata": {},
   "outputs": [
    {
     "data": {
      "text/plain": [
       "False"
      ]
     },
     "execution_count": 171,
     "metadata": {},
     "output_type": "execute_result"
    }
   ],
   "source": [
    "s.isspace()"
   ]
  },
  {
   "cell_type": "code",
   "execution_count": 172,
   "id": "designing-savage",
   "metadata": {},
   "outputs": [],
   "source": [
    "s = \"   \""
   ]
  },
  {
   "cell_type": "code",
   "execution_count": 173,
   "id": "conscious-image",
   "metadata": {},
   "outputs": [
    {
     "data": {
      "text/plain": [
       "True"
      ]
     },
     "execution_count": 173,
     "metadata": {},
     "output_type": "execute_result"
    }
   ],
   "source": [
    "s.isspace()"
   ]
  },
  {
   "cell_type": "code",
   "execution_count": 174,
   "id": "correct-picture",
   "metadata": {},
   "outputs": [
    {
     "data": {
      "text/plain": [
       "False"
      ]
     },
     "execution_count": 174,
     "metadata": {},
     "output_type": "execute_result"
    }
   ],
   "source": [
    "s.isdigit()"
   ]
  },
  {
   "cell_type": "code",
   "execution_count": 187,
   "id": "general-python",
   "metadata": {},
   "outputs": [],
   "source": [
    "s = 'Bhar007adwaja'"
   ]
  },
  {
   "cell_type": "code",
   "execution_count": 188,
   "id": "athletic-uniform",
   "metadata": {},
   "outputs": [
    {
     "data": {
      "text/plain": [
       "True"
      ]
     },
     "execution_count": 188,
     "metadata": {},
     "output_type": "execute_result"
    }
   ],
   "source": [
    "s.endswith('a')"
   ]
  },
  {
   "cell_type": "code",
   "execution_count": 189,
   "id": "economic-supplier",
   "metadata": {},
   "outputs": [
    {
     "data": {
      "text/plain": [
       "True"
      ]
     },
     "execution_count": 189,
     "metadata": {},
     "output_type": "execute_result"
    }
   ],
   "source": [
    "s.startswith(\"B\")"
   ]
  },
  {
   "cell_type": "code",
   "execution_count": 190,
   "id": "growing-signature",
   "metadata": {},
   "outputs": [
    {
     "data": {
      "text/plain": [
       "True"
      ]
     },
     "execution_count": 190,
     "metadata": {},
     "output_type": "execute_result"
    }
   ],
   "source": [
    "s.isalnum()"
   ]
  },
  {
   "cell_type": "code",
   "execution_count": 191,
   "id": "black-receipt",
   "metadata": {},
   "outputs": [
    {
     "data": {
      "text/plain": [
       "False"
      ]
     },
     "execution_count": 191,
     "metadata": {},
     "output_type": "execute_result"
    }
   ],
   "source": [
    "s.isalpha()"
   ]
  },
  {
   "cell_type": "code",
   "execution_count": 193,
   "id": "thermal-crazy",
   "metadata": {},
   "outputs": [],
   "source": [
    "s = \"Bharadwaja\""
   ]
  },
  {
   "cell_type": "code",
   "execution_count": 194,
   "id": "pursuant-layer",
   "metadata": {},
   "outputs": [
    {
     "data": {
      "text/plain": [
       "True"
      ]
     },
     "execution_count": 194,
     "metadata": {},
     "output_type": "execute_result"
    }
   ],
   "source": [
    "s.istitle()"
   ]
  },
  {
   "cell_type": "code",
   "execution_count": 195,
   "id": "pacific-imagination",
   "metadata": {},
   "outputs": [],
   "source": [
    "s = 'This is Full Stack Batch'"
   ]
  },
  {
   "cell_type": "code",
   "execution_count": 198,
   "id": "fallen-receipt",
   "metadata": {},
   "outputs": [
    {
     "name": "stdout",
     "output_type": "stream",
     "text": [
      "24\n"
     ]
    }
   ],
   "source": [
    "a = 0\n",
    "for i in s:\n",
    "    a +=1\n",
    "print(a)"
   ]
  },
  {
   "cell_type": "code",
   "execution_count": 203,
   "id": "respective-queue",
   "metadata": {},
   "outputs": [
    {
     "name": "stdout",
     "output_type": "stream",
     "text": [
      "h\n",
      "c\n",
      "t\n",
      "a\n",
      "B\n",
      " \n",
      "k\n",
      "c\n",
      "a\n",
      "t\n",
      "S\n",
      " \n",
      "l\n",
      "l\n",
      "u\n",
      "F\n",
      " \n",
      "s\n",
      "i\n",
      " \n",
      "s\n",
      "i\n",
      "h\n",
      "T\n"
     ]
    }
   ],
   "source": [
    "for i in range(1 ,len(s)+1):\n",
    "    print(s[-i])\n",
    "    "
   ]
  },
  {
   "cell_type": "code",
   "execution_count": 206,
   "id": "tested-patent",
   "metadata": {},
   "outputs": [
    {
     "name": "stdout",
     "output_type": "stream",
     "text": [
      "a\n",
      "j\n",
      "a\n",
      "w\n",
      "d\n",
      "a\n",
      "r\n",
      "a\n",
      "h\n",
      "B\n"
     ]
    }
   ],
   "source": [
    "s = 'Bharadwaja'\n",
    "ch =len(s) -1\n",
    "while ch >= 0:\n",
    "    print(s[ch])\n",
    "    ch -=1"
   ]
  },
  {
   "cell_type": "code",
   "execution_count": 208,
   "id": "alternative-conference",
   "metadata": {},
   "outputs": [
    {
     "name": "stdout",
     "output_type": "stream",
     "text": [
      "i\n",
      "e\n",
      "u\n",
      "o\n"
     ]
    }
   ],
   "source": [
    "name = 'ineuron'\n",
    "vowels = 'AaEeIiOoUu'\n",
    "for i in name:\n",
    "    if i in vowels:\n",
    "        print(i)"
   ]
  },
  {
   "cell_type": "markdown",
   "id": "right-camping",
   "metadata": {},
   "source": [
    "# Palindrome"
   ]
  },
  {
   "cell_type": "code",
   "execution_count": 225,
   "id": "clinical-carrier",
   "metadata": {},
   "outputs": [
    {
     "name": "stdout",
     "output_type": "stream",
     "text": [
      "aba\n",
      "palindrome\n"
     ]
    }
   ],
   "source": [
    "s = input()\n",
    "if list(s) == list(reversed(s)):\n",
    "    print(\"palindrome\")\n",
    "else:\n",
    "    print(\"not palindrome\")\n",
    "        "
   ]
  },
  {
   "cell_type": "code",
   "execution_count": 223,
   "id": "former-shuttle",
   "metadata": {},
   "outputs": [
    {
     "data": {
      "text/plain": [
       "False"
      ]
     },
     "execution_count": 223,
     "metadata": {},
     "output_type": "execute_result"
    }
   ],
   "source": [
    "s == reversed(s)"
   ]
  },
  {
   "cell_type": "code",
   "execution_count": 216,
   "id": "working-springfield",
   "metadata": {},
   "outputs": [
    {
     "data": {
      "text/plain": [
       "['x', 'e', 'r', 'o', 'x']"
      ]
     },
     "execution_count": 216,
     "metadata": {},
     "output_type": "execute_result"
    }
   ],
   "source": [
    "list(s)"
   ]
  },
  {
   "cell_type": "code",
   "execution_count": 215,
   "id": "figured-helmet",
   "metadata": {},
   "outputs": [
    {
     "data": {
      "text/plain": [
       "['x', 'o', 'r', 'e', 'x']"
      ]
     },
     "execution_count": 215,
     "metadata": {},
     "output_type": "execute_result"
    }
   ],
   "source": [
    "list(reversed(s))"
   ]
  },
  {
   "cell_type": "code",
   "execution_count": 219,
   "id": "sweet-tactics",
   "metadata": {},
   "outputs": [
    {
     "data": {
      "text/plain": [
       "False"
      ]
     },
     "execution_count": 219,
     "metadata": {},
     "output_type": "execute_result"
    }
   ],
   "source": [
    "list(s) == list(reversed(s))"
   ]
  },
  {
   "cell_type": "code",
   "execution_count": 220,
   "id": "parental-license",
   "metadata": {},
   "outputs": [
    {
     "data": {
      "text/plain": [
       "['x', 'e', 'r', 'o', 'x']"
      ]
     },
     "execution_count": 220,
     "metadata": {},
     "output_type": "execute_result"
    }
   ],
   "source": [
    "list(s)"
   ]
  },
  {
   "cell_type": "code",
   "execution_count": 221,
   "id": "excited-brief",
   "metadata": {},
   "outputs": [
    {
     "data": {
      "text/plain": [
       "['x', 'o', 'r', 'e', 'x']"
      ]
     },
     "execution_count": 221,
     "metadata": {},
     "output_type": "execute_result"
    }
   ],
   "source": [
    "list(reversed(s))"
   ]
  },
  {
   "cell_type": "code",
   "execution_count": 226,
   "id": "adolescent-hypothetical",
   "metadata": {},
   "outputs": [
    {
     "name": "stdout",
     "output_type": "stream",
     "text": [
      "aba\n",
      "palindrome\n"
     ]
    }
   ],
   "source": [
    "s = input()\n",
    "s1 = s[::-1]\n",
    "if s == s1:\n",
    "    print(\"palindrome\")\n",
    "else:\n",
    "    print(\"not palindrome\")"
   ]
  },
  {
   "cell_type": "markdown",
   "id": "auburn-proposition",
   "metadata": {},
   "source": [
    "# List Manipulation"
   ]
  },
  {
   "cell_type": "code",
   "execution_count": 241,
   "id": "english-intelligence",
   "metadata": {},
   "outputs": [],
   "source": [
    "l = [\"Bharadwaja\",1234,\"Edera\",3+2j,[\"sai\",12345]]"
   ]
  },
  {
   "cell_type": "code",
   "execution_count": 229,
   "id": "vocal-local",
   "metadata": {},
   "outputs": [
    {
     "data": {
      "text/plain": [
       "'Bharadwaja'"
      ]
     },
     "execution_count": 229,
     "metadata": {},
     "output_type": "execute_result"
    }
   ],
   "source": [
    "l[0]"
   ]
  },
  {
   "cell_type": "code",
   "execution_count": 231,
   "id": "understanding-raising",
   "metadata": {},
   "outputs": [
    {
     "data": {
      "text/plain": [
       "['Bharadwaja', 1234, 'Edera']"
      ]
     },
     "execution_count": 231,
     "metadata": {},
     "output_type": "execute_result"
    }
   ],
   "source": [
    "l[0:3]"
   ]
  },
  {
   "cell_type": "code",
   "execution_count": 232,
   "id": "adaptive-failing",
   "metadata": {},
   "outputs": [
    {
     "data": {
      "text/plain": [
       "[['sai', 12345], (3+2j), 'Edera', 1234, 'Bharadwaja']"
      ]
     },
     "execution_count": 232,
     "metadata": {},
     "output_type": "execute_result"
    }
   ],
   "source": [
    "l[::-1]"
   ]
  },
  {
   "cell_type": "code",
   "execution_count": 234,
   "id": "directed-crisis",
   "metadata": {},
   "outputs": [
    {
     "data": {
      "text/plain": [
       "[12345, 'sai']"
      ]
     },
     "execution_count": 234,
     "metadata": {},
     "output_type": "execute_result"
    }
   ],
   "source": [
    "l[4][::-1]"
   ]
  },
  {
   "cell_type": "code",
   "execution_count": 235,
   "id": "blind-float",
   "metadata": {},
   "outputs": [],
   "source": [
    "s = \"sai\""
   ]
  },
  {
   "cell_type": "code",
   "execution_count": 237,
   "id": "protective-astronomy",
   "metadata": {},
   "outputs": [],
   "source": [
    "l2 = list(s)"
   ]
  },
  {
   "cell_type": "code",
   "execution_count": 238,
   "id": "outer-davis",
   "metadata": {},
   "outputs": [
    {
     "data": {
      "text/plain": [
       "['Bharadwaja', 1234, 'Edera', (3+2j), ['sai', 12345], 's', 'a', 'i']"
      ]
     },
     "execution_count": 238,
     "metadata": {},
     "output_type": "execute_result"
    }
   ],
   "source": [
    "l + l2"
   ]
  },
  {
   "cell_type": "code",
   "execution_count": 244,
   "id": "associate-likelihood",
   "metadata": {},
   "outputs": [
    {
     "data": {
      "text/plain": [
       "['Bharadwaja',\n",
       " 1234,\n",
       " 'Edera',\n",
       " (3+2j),\n",
       " ['sai', 12345],\n",
       " 'Bharadwaja',\n",
       " 1234,\n",
       " 'Edera',\n",
       " (3+2j),\n",
       " ['sai', 12345],\n",
       " 'Bharadwaja',\n",
       " 1234,\n",
       " 'Edera',\n",
       " (3+2j),\n",
       " ['sai', 12345]]"
      ]
     },
     "execution_count": 244,
     "metadata": {},
     "output_type": "execute_result"
    }
   ],
   "source": [
    "l * 3"
   ]
  },
  {
   "cell_type": "code",
   "execution_count": 245,
   "id": "empty-evans",
   "metadata": {},
   "outputs": [
    {
     "data": {
      "text/plain": [
       "5"
      ]
     },
     "execution_count": 245,
     "metadata": {},
     "output_type": "execute_result"
    }
   ],
   "source": [
    "len(l)"
   ]
  },
  {
   "cell_type": "code",
   "execution_count": 247,
   "id": "superior-greene",
   "metadata": {},
   "outputs": [
    {
     "data": {
      "text/plain": [
       "True"
      ]
     },
     "execution_count": 247,
     "metadata": {},
     "output_type": "execute_result"
    }
   ],
   "source": [
    "\"Bharadwaja\" in l"
   ]
  },
  {
   "cell_type": "code",
   "execution_count": 248,
   "id": "naval-testimony",
   "metadata": {},
   "outputs": [
    {
     "data": {
      "text/plain": [
       "False"
      ]
     },
     "execution_count": 248,
     "metadata": {},
     "output_type": "execute_result"
    }
   ],
   "source": [
    "'sai' in l"
   ]
  },
  {
   "cell_type": "code",
   "execution_count": null,
   "id": "wound-relevance",
   "metadata": {},
   "outputs": [],
   "source": []
  },
  {
   "cell_type": "code",
   "execution_count": null,
   "id": "developing-entry",
   "metadata": {},
   "outputs": [],
   "source": []
  },
  {
   "cell_type": "code",
   "execution_count": null,
   "id": "lyric-microphone",
   "metadata": {},
   "outputs": [],
   "source": []
  },
  {
   "cell_type": "code",
   "execution_count": null,
   "id": "preliminary-immune",
   "metadata": {},
   "outputs": [],
   "source": []
  },
  {
   "cell_type": "code",
   "execution_count": null,
   "id": "electronic-friendship",
   "metadata": {},
   "outputs": [],
   "source": []
  },
  {
   "cell_type": "code",
   "execution_count": null,
   "id": "apart-habitat",
   "metadata": {},
   "outputs": [],
   "source": []
  },
  {
   "cell_type": "code",
   "execution_count": null,
   "id": "confident-sitting",
   "metadata": {},
   "outputs": [],
   "source": []
  },
  {
   "cell_type": "code",
   "execution_count": null,
   "id": "oriental-surgeon",
   "metadata": {},
   "outputs": [],
   "source": []
  },
  {
   "cell_type": "code",
   "execution_count": null,
   "id": "discrete-roommate",
   "metadata": {},
   "outputs": [],
   "source": []
  }
 ],
 "metadata": {
  "kernelspec": {
   "display_name": "Python [conda env:.conda-gputest] *",
   "language": "python",
   "name": "conda-env-.conda-gputest-py"
  },
  "language_info": {
   "codemirror_mode": {
    "name": "ipython",
    "version": 3
   },
   "file_extension": ".py",
   "mimetype": "text/x-python",
   "name": "python",
   "nbconvert_exporter": "python",
   "pygments_lexer": "ipython3",
   "version": "3.6.12"
  }
 },
 "nbformat": 4,
 "nbformat_minor": 5
}
