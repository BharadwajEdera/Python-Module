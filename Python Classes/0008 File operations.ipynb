{
 "cells": [
  {
   "cell_type": "code",
   "execution_count": 1,
   "id": "central-country",
   "metadata": {},
   "outputs": [
    {
     "ename": "FileNotFoundError",
     "evalue": "[Errno 2] No such file or directory: 'test.txt'",
     "output_type": "error",
     "traceback": [
      "\u001b[1;31m---------------------------------------------------------------------------\u001b[0m",
      "\u001b[1;31mFileNotFoundError\u001b[0m                         Traceback (most recent call last)",
      "\u001b[1;32m<ipython-input-1-c1d6406a1bac>\u001b[0m in \u001b[0;36m<module>\u001b[1;34m\u001b[0m\n\u001b[1;32m----> 1\u001b[1;33m \u001b[0mf\u001b[0m \u001b[1;33m=\u001b[0m \u001b[0mopen\u001b[0m\u001b[1;33m(\u001b[0m\u001b[1;34m\"test.txt\"\u001b[0m\u001b[1;33m)\u001b[0m\u001b[1;33m\u001b[0m\u001b[1;33m\u001b[0m\u001b[0m\n\u001b[0m",
      "\u001b[1;31mFileNotFoundError\u001b[0m: [Errno 2] No such file or directory: 'test.txt'"
     ]
    }
   ],
   "source": [
    "f = open(\"test.txt\")"
   ]
  },
  {
   "cell_type": "markdown",
   "id": "vital-alcohol",
   "metadata": {},
   "source": [
    "# write()"
   ]
  },
  {
   "cell_type": "code",
   "execution_count": 7,
   "id": "awful-fundamentals",
   "metadata": {},
   "outputs": [],
   "source": [
    "f = open(\"test.txt\",\"w\")"
   ]
  },
  {
   "cell_type": "code",
   "execution_count": 8,
   "id": "outer-motivation",
   "metadata": {},
   "outputs": [
    {
     "data": {
      "text/plain": [
       "21"
      ]
     },
     "execution_count": 8,
     "metadata": {},
     "output_type": "execute_result"
    }
   ],
   "source": [
    "f.write(\"My name is Bharadwaja\")"
   ]
  },
  {
   "cell_type": "code",
   "execution_count": 9,
   "id": "informative-tongue",
   "metadata": {},
   "outputs": [
    {
     "data": {
      "text/plain": [
       "<function TextIOWrapper.close()>"
      ]
     },
     "execution_count": 9,
     "metadata": {},
     "output_type": "execute_result"
    }
   ],
   "source": [
    "f.close"
   ]
  },
  {
   "cell_type": "code",
   "execution_count": 1,
   "id": "miniature-costa",
   "metadata": {},
   "outputs": [],
   "source": [
    "f = open(\"test.txt\")"
   ]
  },
  {
   "cell_type": "code",
   "execution_count": 2,
   "id": "painted-tiffany",
   "metadata": {},
   "outputs": [
    {
     "data": {
      "text/plain": [
       "'My name is Bharadwaja'"
      ]
     },
     "execution_count": 2,
     "metadata": {},
     "output_type": "execute_result"
    }
   ],
   "source": [
    "f.read()"
   ]
  },
  {
   "cell_type": "code",
   "execution_count": 3,
   "id": "agreed-wholesale",
   "metadata": {},
   "outputs": [
    {
     "data": {
      "text/plain": [
       "''"
      ]
     },
     "execution_count": 3,
     "metadata": {},
     "output_type": "execute_result"
    }
   ],
   "source": [
    "f.read()"
   ]
  },
  {
   "cell_type": "markdown",
   "id": "juvenile-being",
   "metadata": {},
   "source": [
    "# seek() - to change the cursor position"
   ]
  },
  {
   "cell_type": "code",
   "execution_count": 5,
   "id": "cutting-proxy",
   "metadata": {},
   "outputs": [
    {
     "data": {
      "text/plain": [
       "0"
      ]
     },
     "execution_count": 5,
     "metadata": {},
     "output_type": "execute_result"
    }
   ],
   "source": [
    "f.seek(0)"
   ]
  },
  {
   "cell_type": "code",
   "execution_count": 6,
   "id": "cleared-invalid",
   "metadata": {},
   "outputs": [
    {
     "data": {
      "text/plain": [
       "'My name is Bharadwaja'"
      ]
     },
     "execution_count": 6,
     "metadata": {},
     "output_type": "execute_result"
    }
   ],
   "source": [
    "f.read()"
   ]
  },
  {
   "cell_type": "code",
   "execution_count": 7,
   "id": "romance-messenger",
   "metadata": {},
   "outputs": [
    {
     "data": {
      "text/plain": [
       "10"
      ]
     },
     "execution_count": 7,
     "metadata": {},
     "output_type": "execute_result"
    }
   ],
   "source": [
    "f.seek(10)"
   ]
  },
  {
   "cell_type": "code",
   "execution_count": 11,
   "id": "pharmaceutical-leonard",
   "metadata": {},
   "outputs": [
    {
     "data": {
      "text/plain": [
       "'My name is Bharadwaja'"
      ]
     },
     "execution_count": 11,
     "metadata": {},
     "output_type": "execute_result"
    }
   ],
   "source": [
    "f.read()"
   ]
  },
  {
   "cell_type": "markdown",
   "id": "decimal-course",
   "metadata": {},
   "source": [
    "# read mode"
   ]
  },
  {
   "cell_type": "code",
   "execution_count": 9,
   "id": "competent-wisconsin",
   "metadata": {},
   "outputs": [],
   "source": [
    "f = open(\"test.txt\",'r')"
   ]
  },
  {
   "cell_type": "code",
   "execution_count": 10,
   "id": "positive-dispatch",
   "metadata": {},
   "outputs": [
    {
     "ename": "UnsupportedOperation",
     "evalue": "not writable",
     "output_type": "error",
     "traceback": [
      "\u001b[1;31m---------------------------------------------------------------------------\u001b[0m",
      "\u001b[1;31mUnsupportedOperation\u001b[0m                      Traceback (most recent call last)",
      "\u001b[1;32m<ipython-input-10-3bd44c8fa148>\u001b[0m in \u001b[0;36m<module>\u001b[1;34m\u001b[0m\n\u001b[1;32m----> 1\u001b[1;33m \u001b[0mf\u001b[0m\u001b[1;33m.\u001b[0m\u001b[0mwrite\u001b[0m\u001b[1;33m(\u001b[0m\u001b[1;34m\"Sai\"\u001b[0m\u001b[1;33m)\u001b[0m\u001b[1;33m\u001b[0m\u001b[1;33m\u001b[0m\u001b[0m\n\u001b[0m",
      "\u001b[1;31mUnsupportedOperation\u001b[0m: not writable"
     ]
    }
   ],
   "source": [
    "f.write(\"Sai\")"
   ]
  },
  {
   "cell_type": "code",
   "execution_count": 12,
   "id": "aerial-communications",
   "metadata": {},
   "outputs": [
    {
     "data": {
      "text/plain": [
       "''"
      ]
     },
     "execution_count": 12,
     "metadata": {},
     "output_type": "execute_result"
    }
   ],
   "source": [
    "f.read()"
   ]
  },
  {
   "cell_type": "code",
   "execution_count": 13,
   "id": "metric-district",
   "metadata": {},
   "outputs": [
    {
     "data": {
      "text/plain": [
       "0"
      ]
     },
     "execution_count": 13,
     "metadata": {},
     "output_type": "execute_result"
    }
   ],
   "source": [
    "f.seek(0)"
   ]
  },
  {
   "cell_type": "code",
   "execution_count": 14,
   "id": "legislative-awareness",
   "metadata": {},
   "outputs": [
    {
     "data": {
      "text/plain": [
       "'My name is Bharadwaja'"
      ]
     },
     "execution_count": 14,
     "metadata": {},
     "output_type": "execute_result"
    }
   ],
   "source": [
    "f.read()"
   ]
  },
  {
   "cell_type": "code",
   "execution_count": 15,
   "id": "shared-sierra",
   "metadata": {},
   "outputs": [
    {
     "data": {
      "text/plain": [
       "''"
      ]
     },
     "execution_count": 15,
     "metadata": {},
     "output_type": "execute_result"
    }
   ],
   "source": [
    "f.read(5)"
   ]
  },
  {
   "cell_type": "code",
   "execution_count": 16,
   "id": "moral-palestine",
   "metadata": {},
   "outputs": [
    {
     "data": {
      "text/plain": [
       "0"
      ]
     },
     "execution_count": 16,
     "metadata": {},
     "output_type": "execute_result"
    }
   ],
   "source": [
    "f.seek(0)"
   ]
  },
  {
   "cell_type": "code",
   "execution_count": 17,
   "id": "suburban-place",
   "metadata": {},
   "outputs": [
    {
     "data": {
      "text/plain": [
       "'My na'"
      ]
     },
     "execution_count": 17,
     "metadata": {},
     "output_type": "execute_result"
    }
   ],
   "source": [
    "f.read(5)"
   ]
  },
  {
   "cell_type": "code",
   "execution_count": 18,
   "id": "romance-alarm",
   "metadata": {},
   "outputs": [],
   "source": [
    "f.close()"
   ]
  },
  {
   "cell_type": "code",
   "execution_count": 19,
   "id": "disturbed-export",
   "metadata": {},
   "outputs": [
    {
     "ename": "ValueError",
     "evalue": "I/O operation on closed file.",
     "output_type": "error",
     "traceback": [
      "\u001b[1;31m---------------------------------------------------------------------------\u001b[0m",
      "\u001b[1;31mValueError\u001b[0m                                Traceback (most recent call last)",
      "\u001b[1;32m<ipython-input-19-571e9fb02258>\u001b[0m in \u001b[0;36m<module>\u001b[1;34m\u001b[0m\n\u001b[1;32m----> 1\u001b[1;33m \u001b[0mf\u001b[0m\u001b[1;33m.\u001b[0m\u001b[0mread\u001b[0m\u001b[1;33m(\u001b[0m\u001b[1;33m)\u001b[0m\u001b[1;33m\u001b[0m\u001b[1;33m\u001b[0m\u001b[0m\n\u001b[0m",
      "\u001b[1;31mValueError\u001b[0m: I/O operation on closed file."
     ]
    }
   ],
   "source": [
    "f.read()"
   ]
  },
  {
   "cell_type": "code",
   "execution_count": 56,
   "id": "absolute-keyboard",
   "metadata": {},
   "outputs": [
    {
     "data": {
      "text/plain": [
       "<_io.TextIOWrapper name='test.txt' mode='w' encoding='cp1252'>"
      ]
     },
     "execution_count": 56,
     "metadata": {},
     "output_type": "execute_result"
    }
   ],
   "source": [
    "open(\"test.txt\",'w')"
   ]
  },
  {
   "cell_type": "code",
   "execution_count": 57,
   "id": "defensive-fortune",
   "metadata": {},
   "outputs": [],
   "source": [
    "f = open(\"test.txt\",'w')"
   ]
  },
  {
   "cell_type": "code",
   "execution_count": 58,
   "id": "animated-advertiser",
   "metadata": {},
   "outputs": [
    {
     "data": {
      "text/plain": [
       "45"
      ]
     },
     "execution_count": 58,
     "metadata": {},
     "output_type": "execute_result"
    }
   ],
   "source": [
    "f.write(\"My name is Bharadwaja \\n SC20m104 \\n MLC \\n IIST\")"
   ]
  },
  {
   "cell_type": "code",
   "execution_count": 59,
   "id": "broken-satellite",
   "metadata": {},
   "outputs": [],
   "source": [
    "f.close()"
   ]
  },
  {
   "cell_type": "code",
   "execution_count": 60,
   "id": "hawaiian-gamma",
   "metadata": {},
   "outputs": [],
   "source": [
    "f = open(\"test.txt\",'r')"
   ]
  },
  {
   "cell_type": "code",
   "execution_count": 61,
   "id": "retained-dodge",
   "metadata": {},
   "outputs": [
    {
     "data": {
      "text/plain": [
       "'My name is Bharadwaja \\n SC20m104 \\n MLC \\n IIST'"
      ]
     },
     "execution_count": 61,
     "metadata": {},
     "output_type": "execute_result"
    }
   ],
   "source": [
    "f.read()"
   ]
  },
  {
   "cell_type": "code",
   "execution_count": 62,
   "id": "bridal-tender",
   "metadata": {},
   "outputs": [
    {
     "data": {
      "text/plain": [
       "0"
      ]
     },
     "execution_count": 62,
     "metadata": {},
     "output_type": "execute_result"
    }
   ],
   "source": [
    "f.seek(0)"
   ]
  },
  {
   "cell_type": "code",
   "execution_count": 63,
   "id": "unexpected-daughter",
   "metadata": {},
   "outputs": [
    {
     "data": {
      "text/plain": [
       "'My name is Bharadwaja \\n SC20m104 \\n MLC \\n IIST'"
      ]
     },
     "execution_count": 63,
     "metadata": {},
     "output_type": "execute_result"
    }
   ],
   "source": [
    "f.read()"
   ]
  },
  {
   "cell_type": "code",
   "execution_count": 50,
   "id": "thick-brain",
   "metadata": {},
   "outputs": [],
   "source": [
    "f = open(\"test2.txt\",'w')"
   ]
  },
  {
   "cell_type": "code",
   "execution_count": 51,
   "id": "sublime-processing",
   "metadata": {},
   "outputs": [
    {
     "data": {
      "text/plain": [
       "45"
      ]
     },
     "execution_count": 51,
     "metadata": {},
     "output_type": "execute_result"
    }
   ],
   "source": [
    "f.write(\"My name is Bharadwaja \\n SC20m104 \\n MLC \\n IIST\")"
   ]
  },
  {
   "cell_type": "code",
   "execution_count": 47,
   "id": "dressed-function",
   "metadata": {},
   "outputs": [],
   "source": [
    "f.close()"
   ]
  },
  {
   "cell_type": "code",
   "execution_count": 73,
   "id": "noble-aspect",
   "metadata": {},
   "outputs": [],
   "source": [
    "f = open(\"test2.txt\",'r')"
   ]
  },
  {
   "cell_type": "code",
   "execution_count": 74,
   "id": "comparable-favor",
   "metadata": {},
   "outputs": [
    {
     "data": {
      "text/plain": [
       "'My name is Bharadwaja \\n SC20m104 \\n MLC \\n IIST'"
      ]
     },
     "execution_count": 74,
     "metadata": {},
     "output_type": "execute_result"
    }
   ],
   "source": [
    "f.read()"
   ]
  },
  {
   "cell_type": "code",
   "execution_count": 75,
   "id": "wired-firmware",
   "metadata": {},
   "outputs": [
    {
     "data": {
      "text/plain": [
       "0"
      ]
     },
     "execution_count": 75,
     "metadata": {},
     "output_type": "execute_result"
    }
   ],
   "source": [
    "f.seek(0)"
   ]
  },
  {
   "cell_type": "code",
   "execution_count": 76,
   "id": "freelance-indonesia",
   "metadata": {},
   "outputs": [
    {
     "data": {
      "text/plain": [
       "'My name is Bharadwaja \\n'"
      ]
     },
     "execution_count": 76,
     "metadata": {},
     "output_type": "execute_result"
    }
   ],
   "source": [
    "f.readline()"
   ]
  },
  {
   "cell_type": "code",
   "execution_count": 77,
   "id": "warming-engineering",
   "metadata": {},
   "outputs": [
    {
     "data": {
      "text/plain": [
       "' SC20m104 \\n'"
      ]
     },
     "execution_count": 77,
     "metadata": {},
     "output_type": "execute_result"
    }
   ],
   "source": [
    "f.readline()"
   ]
  },
  {
   "cell_type": "code",
   "execution_count": 78,
   "id": "dietary-details",
   "metadata": {},
   "outputs": [
    {
     "data": {
      "text/plain": [
       "' MLC \\n'"
      ]
     },
     "execution_count": 78,
     "metadata": {},
     "output_type": "execute_result"
    }
   ],
   "source": [
    "f.readline()"
   ]
  },
  {
   "cell_type": "code",
   "execution_count": 79,
   "id": "pleasant-running",
   "metadata": {},
   "outputs": [
    {
     "data": {
      "text/plain": [
       "0"
      ]
     },
     "execution_count": 79,
     "metadata": {},
     "output_type": "execute_result"
    }
   ],
   "source": [
    "f.seek(0)"
   ]
  },
  {
   "cell_type": "code",
   "execution_count": 80,
   "id": "precious-velvet",
   "metadata": {},
   "outputs": [
    {
     "data": {
      "text/plain": [
       "'My'"
      ]
     },
     "execution_count": 80,
     "metadata": {},
     "output_type": "execute_result"
    }
   ],
   "source": [
    "f.readline(2)"
   ]
  },
  {
   "cell_type": "code",
   "execution_count": 81,
   "id": "confidential-berry",
   "metadata": {},
   "outputs": [],
   "source": [
    "f.close()"
   ]
  },
  {
   "cell_type": "code",
   "execution_count": 84,
   "id": "passing-projection",
   "metadata": {},
   "outputs": [],
   "source": [
    "f = open(\"test2.txt\",'r')"
   ]
  },
  {
   "cell_type": "code",
   "execution_count": 88,
   "id": "otherwise-worst",
   "metadata": {},
   "outputs": [
    {
     "name": "stdout",
     "output_type": "stream",
     "text": [
      "My name is Bharadwaja \n",
      "  SC20m104 \n",
      "  MLC \n",
      "  IIST "
     ]
    }
   ],
   "source": [
    "f.seek(0)\n",
    "for i in f:\n",
    "    print(i,end = \" \")"
   ]
  },
  {
   "cell_type": "code",
   "execution_count": 89,
   "id": "sexual-mount",
   "metadata": {},
   "outputs": [],
   "source": [
    "f.close()"
   ]
  },
  {
   "cell_type": "code",
   "execution_count": 90,
   "id": "original-entrepreneur",
   "metadata": {},
   "outputs": [],
   "source": [
    "f = open(\"test2.txt\",'r')"
   ]
  },
  {
   "cell_type": "code",
   "execution_count": 91,
   "id": "distant-edgar",
   "metadata": {},
   "outputs": [
    {
     "data": {
      "text/plain": [
       "['My name is Bharadwaja \\n', ' SC20m104 \\n', ' MLC \\n', ' IIST']"
      ]
     },
     "execution_count": 91,
     "metadata": {},
     "output_type": "execute_result"
    }
   ],
   "source": [
    "list(f)"
   ]
  },
  {
   "cell_type": "code",
   "execution_count": 93,
   "id": "blond-bridge",
   "metadata": {},
   "outputs": [],
   "source": [
    "f.close()"
   ]
  },
  {
   "cell_type": "code",
   "execution_count": null,
   "id": "caring-photograph",
   "metadata": {},
   "outputs": [],
   "source": [
    "### Read and Write"
   ]
  },
  {
   "cell_type": "code",
   "execution_count": 94,
   "id": "brave-transfer",
   "metadata": {},
   "outputs": [],
   "source": [
    "f = open(\"test2.txt\",'r+')"
   ]
  },
  {
   "cell_type": "code",
   "execution_count": 95,
   "id": "seeing-recognition",
   "metadata": {},
   "outputs": [
    {
     "data": {
      "text/plain": [
       "28"
      ]
     },
     "execution_count": 95,
     "metadata": {},
     "output_type": "execute_result"
    }
   ],
   "source": [
    "f.write(\"M.tech \\n Kerala \\ Trivandram\")"
   ]
  },
  {
   "cell_type": "code",
   "execution_count": 96,
   "id": "cardiovascular-convergence",
   "metadata": {},
   "outputs": [],
   "source": [
    "f.close()"
   ]
  },
  {
   "cell_type": "markdown",
   "id": "narrow-naples",
   "metadata": {},
   "source": [
    "### integer descriptor"
   ]
  },
  {
   "cell_type": "code",
   "execution_count": 103,
   "id": "polar-series",
   "metadata": {},
   "outputs": [],
   "source": [
    "f = open(\"test.txt\",'r+')"
   ]
  },
  {
   "cell_type": "code",
   "execution_count": 104,
   "id": "popular-kenya",
   "metadata": {},
   "outputs": [
    {
     "data": {
      "text/plain": [
       "12"
      ]
     },
     "execution_count": 104,
     "metadata": {},
     "output_type": "execute_result"
    }
   ],
   "source": [
    "f.fileno()"
   ]
  },
  {
   "cell_type": "code",
   "execution_count": 106,
   "id": "private-welding",
   "metadata": {},
   "outputs": [
    {
     "name": "stdout",
     "output_type": "stream",
     "text": [
      "Writing test5.txt\n"
     ]
    }
   ],
   "source": [
    "%%writefile test5.txt\n",
    "my name is Bharadwaja"
   ]
  },
  {
   "cell_type": "code",
   "execution_count": 107,
   "id": "solar-meditation",
   "metadata": {},
   "outputs": [],
   "source": [
    "import os"
   ]
  },
  {
   "cell_type": "code",
   "execution_count": 108,
   "id": "owned-airport",
   "metadata": {},
   "outputs": [
    {
     "data": {
      "text/plain": [
       "'C:\\\\Users\\\\Bharadwaj\\\\ineuron\\\\Python Module\\\\Classes\\\\File operations'"
      ]
     },
     "execution_count": 108,
     "metadata": {},
     "output_type": "execute_result"
    }
   ],
   "source": [
    "pwd()"
   ]
  },
  {
   "cell_type": "code",
   "execution_count": 109,
   "id": "meaning-wrestling",
   "metadata": {},
   "outputs": [
    {
     "data": {
      "text/plain": [
       "'C:\\\\Users\\\\Bharadwaj\\\\ineuron\\\\Python Module\\\\Classes\\\\File operations'"
      ]
     },
     "execution_count": 109,
     "metadata": {},
     "output_type": "execute_result"
    }
   ],
   "source": [
    "os.getcwd()"
   ]
  },
  {
   "cell_type": "code",
   "execution_count": 111,
   "id": "separate-detector",
   "metadata": {},
   "outputs": [
    {
     "data": {
      "text/plain": [
       "['$RECYCLE.BIN',\n",
       " '01 FSDS ineuron',\n",
       " 'Activation Functions.jpg',\n",
       " 'ANDREW NG',\n",
       " 'APPLIED AI',\n",
       " 'Building Computer Vision Applications Using Artificial Neural Networks',\n",
       " 'Cheat Sheets',\n",
       " 'Data Structures and Algorithms',\n",
       " 'DATA STRUCTURES AND ALGORITHMS.pdf',\n",
       " 'Electrical and Electronics',\n",
       " 'IIST',\n",
       " 'INTERVIEW SKILLS',\n",
       " 'LINKED IN',\n",
       " 'MACHINE LEARNING NOTES',\n",
       " 'MATHEMATICS FOR MACHINE LEARNING',\n",
       " 'ML AI DS BOOKS',\n",
       " 'ML SOFTWARES',\n",
       " 'NLP',\n",
       " 'Others',\n",
       " 'System Volume Information']"
      ]
     },
     "execution_count": 111,
     "metadata": {},
     "output_type": "execute_result"
    }
   ],
   "source": [
    "os.listdir(\"M:\\\\\")"
   ]
  },
  {
   "cell_type": "code",
   "execution_count": 113,
   "id": "vertical-gateway",
   "metadata": {},
   "outputs": [
    {
     "data": {
      "text/plain": [
       "['Latex cheat Sheet']"
      ]
     },
     "execution_count": 113,
     "metadata": {},
     "output_type": "execute_result"
    }
   ],
   "source": [
    "os.listdir(\"M:\\\\Cheat Sheets\")"
   ]
  },
  {
   "cell_type": "code",
   "execution_count": 114,
   "id": "bright-chile",
   "metadata": {},
   "outputs": [],
   "source": [
    "os.chdir(\"M:\")"
   ]
  },
  {
   "cell_type": "code",
   "execution_count": 115,
   "id": "extreme-wholesale",
   "metadata": {},
   "outputs": [
    {
     "data": {
      "text/plain": [
       "'M:\\\\'"
      ]
     },
     "execution_count": 115,
     "metadata": {},
     "output_type": "execute_result"
    }
   ],
   "source": [
    "pwd()"
   ]
  },
  {
   "cell_type": "code",
   "execution_count": 116,
   "id": "aerial-medication",
   "metadata": {},
   "outputs": [],
   "source": [
    "os.chdir('C:\\\\Users\\\\Bharadwaj\\\\ineuron\\\\Python Module\\\\Classes\\\\File operations')"
   ]
  },
  {
   "cell_type": "code",
   "execution_count": 117,
   "id": "fatty-newsletter",
   "metadata": {},
   "outputs": [
    {
     "data": {
      "text/plain": [
       "'C:\\\\Users\\\\Bharadwaj\\\\ineuron\\\\Python Module\\\\Classes\\\\File operations'"
      ]
     },
     "execution_count": 117,
     "metadata": {},
     "output_type": "execute_result"
    }
   ],
   "source": [
    "pwd()"
   ]
  },
  {
   "cell_type": "code",
   "execution_count": 134,
   "id": "proprietary-pregnancy",
   "metadata": {},
   "outputs": [
    {
     "ename": "FileExistsError",
     "evalue": "[WinError 183] Cannot create a file when that file already exists: 'Bharadwaja'",
     "output_type": "error",
     "traceback": [
      "\u001b[1;31m---------------------------------------------------------------------------\u001b[0m",
      "\u001b[1;31mFileExistsError\u001b[0m                           Traceback (most recent call last)",
      "\u001b[1;32m<ipython-input-134-43b9f89fb425>\u001b[0m in \u001b[0;36m<module>\u001b[1;34m\u001b[0m\n\u001b[1;32m----> 1\u001b[1;33m \u001b[0mos\u001b[0m\u001b[1;33m.\u001b[0m\u001b[0mmkdir\u001b[0m\u001b[1;33m(\u001b[0m\u001b[1;34m\"Bharadwaja\"\u001b[0m\u001b[1;33m)\u001b[0m\u001b[1;33m\u001b[0m\u001b[1;33m\u001b[0m\u001b[0m\n\u001b[0m",
      "\u001b[1;31mFileExistsError\u001b[0m: [WinError 183] Cannot create a file when that file already exists: 'Bharadwaja'"
     ]
    }
   ],
   "source": [
    "os.mkdir(\"Bharadwaja\")"
   ]
  },
  {
   "cell_type": "code",
   "execution_count": 119,
   "id": "hidden-masters",
   "metadata": {},
   "outputs": [],
   "source": [
    "os.chdir('C:\\\\Users\\\\Bharadwaj\\\\ineuron\\\\Python Module\\\\Classes\\\\File operations\\\\Bhradwaja')"
   ]
  },
  {
   "cell_type": "code",
   "execution_count": 120,
   "id": "comparable-tennis",
   "metadata": {},
   "outputs": [
    {
     "data": {
      "text/plain": [
       "'C:\\\\Users\\\\Bharadwaj\\\\ineuron\\\\Python Module\\\\Classes\\\\File operations\\\\Bhradwaja'"
      ]
     },
     "execution_count": 120,
     "metadata": {},
     "output_type": "execute_result"
    }
   ],
   "source": [
    "pwd()"
   ]
  },
  {
   "cell_type": "code",
   "execution_count": 122,
   "id": "framed-denmark",
   "metadata": {},
   "outputs": [
    {
     "data": {
      "text/plain": [
       "[]"
      ]
     },
     "execution_count": 122,
     "metadata": {},
     "output_type": "execute_result"
    }
   ],
   "source": [
    "os.listdir()"
   ]
  },
  {
   "cell_type": "code",
   "execution_count": 123,
   "id": "straight-nation",
   "metadata": {},
   "outputs": [],
   "source": [
    "os.chdir('C:\\\\Users\\\\Bharadwaj\\\\ineuron\\\\Python Module\\\\Classes\\\\File operations')"
   ]
  },
  {
   "cell_type": "code",
   "execution_count": 124,
   "id": "meaningful-starter",
   "metadata": {},
   "outputs": [
    {
     "data": {
      "text/plain": [
       "['.ipynb_checkpoints',\n",
       " '.jovianrc',\n",
       " 'Bhradwaja',\n",
       " 'File operations.ipynb',\n",
       " 'test.txt',\n",
       " 'test2.txt',\n",
       " 'test5.txt']"
      ]
     },
     "execution_count": 124,
     "metadata": {},
     "output_type": "execute_result"
    }
   ],
   "source": [
    "os.listdir()"
   ]
  },
  {
   "cell_type": "code",
   "execution_count": 130,
   "id": "sized-equipment",
   "metadata": {},
   "outputs": [
    {
     "data": {
      "text/plain": [
       "21"
      ]
     },
     "execution_count": 130,
     "metadata": {},
     "output_type": "execute_result"
    }
   ],
   "source": [
    "f = open(\"test.txt\",'r+')\n",
    "f.write(\"My name is Bharadwaja\")"
   ]
  },
  {
   "cell_type": "code",
   "execution_count": 131,
   "id": "chronic-tyler",
   "metadata": {},
   "outputs": [],
   "source": [
    "f.close()"
   ]
  },
  {
   "cell_type": "code",
   "execution_count": 132,
   "id": "distinct-florist",
   "metadata": {},
   "outputs": [
    {
     "name": "stdout",
     "output_type": "stream",
     "text": [
      " File available\n"
     ]
    }
   ],
   "source": [
    "if \"test.txt\" in os.listdir():\n",
    "    print(\" File available\")\n",
    "    f = open(\"test.txt\",'r+')\n",
    "    f.read()\n",
    "else:\n",
    "    print(\" File NOT available\")"
   ]
  },
  {
   "cell_type": "code",
   "execution_count": 135,
   "id": "boring-employee",
   "metadata": {},
   "outputs": [
    {
     "ename": "FileExistsError",
     "evalue": "[WinError 183] Cannot create a file when that file already exists: 'Bharadwaja'",
     "output_type": "error",
     "traceback": [
      "\u001b[1;31m---------------------------------------------------------------------------\u001b[0m",
      "\u001b[1;31mFileExistsError\u001b[0m                           Traceback (most recent call last)",
      "\u001b[1;32m<ipython-input-135-43b9f89fb425>\u001b[0m in \u001b[0;36m<module>\u001b[1;34m\u001b[0m\n\u001b[1;32m----> 1\u001b[1;33m \u001b[0mos\u001b[0m\u001b[1;33m.\u001b[0m\u001b[0mmkdir\u001b[0m\u001b[1;33m(\u001b[0m\u001b[1;34m\"Bharadwaja\"\u001b[0m\u001b[1;33m)\u001b[0m\u001b[1;33m\u001b[0m\u001b[1;33m\u001b[0m\u001b[0m\n\u001b[0m",
      "\u001b[1;31mFileExistsError\u001b[0m: [WinError 183] Cannot create a file when that file already exists: 'Bharadwaja'"
     ]
    }
   ],
   "source": [
    "os.mkdir(\"Bharadwaja\")"
   ]
  },
  {
   "cell_type": "code",
   "execution_count": 136,
   "id": "coral-parks",
   "metadata": {},
   "outputs": [],
   "source": [
    "if not os.path.isdir(\"Bharadwaja\"):\n",
    "    os.mkdir(\"Bharadwaja\")\n",
    "    "
   ]
  },
  {
   "cell_type": "code",
   "execution_count": 140,
   "id": "lucky-redhead",
   "metadata": {},
   "outputs": [
    {
     "ename": "FileNotFoundError",
     "evalue": "[WinError 2] The system cannot find the file specified: 'Bhradwaja'",
     "output_type": "error",
     "traceback": [
      "\u001b[1;31m---------------------------------------------------------------------------\u001b[0m",
      "\u001b[1;31mFileNotFoundError\u001b[0m                         Traceback (most recent call last)",
      "\u001b[1;32m<ipython-input-140-5e688b4cf1eb>\u001b[0m in \u001b[0;36m<module>\u001b[1;34m\u001b[0m\n\u001b[1;32m----> 1\u001b[1;33m \u001b[0mos\u001b[0m\u001b[1;33m.\u001b[0m\u001b[0mrmdir\u001b[0m\u001b[1;33m(\u001b[0m\u001b[1;34m\"Bhradwaja\"\u001b[0m\u001b[1;33m)\u001b[0m\u001b[1;33m\u001b[0m\u001b[1;33m\u001b[0m\u001b[0m\n\u001b[0m",
      "\u001b[1;31mFileNotFoundError\u001b[0m: [WinError 2] The system cannot find the file specified: 'Bhradwaja'"
     ]
    }
   ],
   "source": [
    "os.rmdir(\"Bhradwaja\")"
   ]
  },
  {
   "cell_type": "code",
   "execution_count": null,
   "id": "crude-wesley",
   "metadata": {},
   "outputs": [],
   "source": [
    "import shutil\n",
    "shuti.move()"
   ]
  },
  {
   "cell_type": "markdown",
   "id": "representative-tender",
   "metadata": {},
   "source": [
    "### Create a New directory\n",
    "### create 10 txt file and write some data in all txt at a time\n",
    "### Read all the data from this directory / file, print in console\n",
    "### Hold all the data in a List\n",
    "### write all the Data in a New file from list\n",
    "### Keep only a new file in present dir and move rest in new dir"
   ]
  },
  {
   "cell_type": "code",
   "execution_count": 142,
   "id": "aware-translation",
   "metadata": {},
   "outputs": [
    {
     "data": {
      "text/plain": [
       "'C:\\\\Users\\\\Bharadwaj\\\\ineuron\\\\Python Module\\\\Classes\\\\File operations'"
      ]
     },
     "execution_count": 142,
     "metadata": {},
     "output_type": "execute_result"
    }
   ],
   "source": [
    "pwd"
   ]
  },
  {
   "cell_type": "code",
   "execution_count": 144,
   "id": "executed-nutrition",
   "metadata": {},
   "outputs": [],
   "source": [
    "import os\n",
    "os.mkdir(\"Bharadwaja\")"
   ]
  },
  {
   "cell_type": "code",
   "execution_count": 151,
   "id": "joint-estate",
   "metadata": {},
   "outputs": [],
   "source": [
    "for i in range(10):\n",
    "    f = open(\"text_%i.txt\"%i,\"w\")\n",
    "    f.write(\"From Wikipedia, the free encyclopedia Demonization or Demonisation is the reinterpretation of polytheistic deities as evil, lying demons by other religions, generally by the monotheistic and henotheistic ones. The term has since been expanded to refer to any characterization of individuals, groups, or political bodies as evil.\")\n",
    "    f.close()"
   ]
  },
  {
   "cell_type": "code",
   "execution_count": 159,
   "id": "resident-louisiana",
   "metadata": {},
   "outputs": [
    {
     "name": "stdout",
     "output_type": "stream",
     "text": [
      "From Wikipedia, the free encyclopedia Demonization or Demonisation is the reinterpretation of polytheistic deities as evil, lying demons by other religions, generally by the monotheistic and henotheistic ones. The term has since been expanded to refer to any characterization of individuals, groups, or political bodies as evil.\n",
      "From Wikipedia, the free encyclopedia Demonization or Demonisation is the reinterpretation of polytheistic deities as evil, lying demons by other religions, generally by the monotheistic and henotheistic ones. The term has since been expanded to refer to any characterization of individuals, groups, or political bodies as evil.\n",
      "From Wikipedia, the free encyclopedia Demonization or Demonisation is the reinterpretation of polytheistic deities as evil, lying demons by other religions, generally by the monotheistic and henotheistic ones. The term has since been expanded to refer to any characterization of individuals, groups, or political bodies as evil.\n",
      "From Wikipedia, the free encyclopedia Demonization or Demonisation is the reinterpretation of polytheistic deities as evil, lying demons by other religions, generally by the monotheistic and henotheistic ones. The term has since been expanded to refer to any characterization of individuals, groups, or political bodies as evil.\n",
      "From Wikipedia, the free encyclopedia Demonization or Demonisation is the reinterpretation of polytheistic deities as evil, lying demons by other religions, generally by the monotheistic and henotheistic ones. The term has since been expanded to refer to any characterization of individuals, groups, or political bodies as evil.\n",
      "From Wikipedia, the free encyclopedia Demonization or Demonisation is the reinterpretation of polytheistic deities as evil, lying demons by other religions, generally by the monotheistic and henotheistic ones. The term has since been expanded to refer to any characterization of individuals, groups, or political bodies as evil.\n",
      "From Wikipedia, the free encyclopedia Demonization or Demonisation is the reinterpretation of polytheistic deities as evil, lying demons by other religions, generally by the monotheistic and henotheistic ones. The term has since been expanded to refer to any characterization of individuals, groups, or political bodies as evil.\n",
      "From Wikipedia, the free encyclopedia Demonization or Demonisation is the reinterpretation of polytheistic deities as evil, lying demons by other religions, generally by the monotheistic and henotheistic ones. The term has since been expanded to refer to any characterization of individuals, groups, or political bodies as evil.\n",
      "From Wikipedia, the free encyclopedia Demonization or Demonisation is the reinterpretation of polytheistic deities as evil, lying demons by other religions, generally by the monotheistic and henotheistic ones. The term has since been expanded to refer to any characterization of individuals, groups, or political bodies as evil.\n",
      "From Wikipedia, the free encyclopedia Demonization or Demonisation is the reinterpretation of polytheistic deities as evil, lying demons by other religions, generally by the monotheistic and henotheistic ones. The term has since been expanded to refer to any characterization of individuals, groups, or political bodies as evil.\n"
     ]
    }
   ],
   "source": [
    "for i in range(10):\n",
    "    f = open(\"text_%i.txt\"%i,\"r\")\n",
    "    print(f.read())\n",
    "    "
   ]
  },
  {
   "cell_type": "code",
   "execution_count": 168,
   "id": "southwest-tractor",
   "metadata": {},
   "outputs": [
    {
     "name": "stdout",
     "output_type": "stream",
     "text": [
      "['From Wikipedia, the free encyclopedia Demonization or Demonisation is the reinterpretation of polytheistic deities as evil, lying demons by other religions, generally by the monotheistic and henotheistic ones. The term has since been expanded to refer to any characterization of individuals, groups, or political bodies as evil.', 'From Wikipedia, the free encyclopedia Demonization or Demonisation is the reinterpretation of polytheistic deities as evil, lying demons by other religions, generally by the monotheistic and henotheistic ones. The term has since been expanded to refer to any characterization of individuals, groups, or political bodies as evil.', 'From Wikipedia, the free encyclopedia Demonization or Demonisation is the reinterpretation of polytheistic deities as evil, lying demons by other religions, generally by the monotheistic and henotheistic ones. The term has since been expanded to refer to any characterization of individuals, groups, or political bodies as evil.', 'From Wikipedia, the free encyclopedia Demonization or Demonisation is the reinterpretation of polytheistic deities as evil, lying demons by other religions, generally by the monotheistic and henotheistic ones. The term has since been expanded to refer to any characterization of individuals, groups, or political bodies as evil.', 'From Wikipedia, the free encyclopedia Demonization or Demonisation is the reinterpretation of polytheistic deities as evil, lying demons by other religions, generally by the monotheistic and henotheistic ones. The term has since been expanded to refer to any characterization of individuals, groups, or political bodies as evil.', 'From Wikipedia, the free encyclopedia Demonization or Demonisation is the reinterpretation of polytheistic deities as evil, lying demons by other religions, generally by the monotheistic and henotheistic ones. The term has since been expanded to refer to any characterization of individuals, groups, or political bodies as evil.', 'From Wikipedia, the free encyclopedia Demonization or Demonisation is the reinterpretation of polytheistic deities as evil, lying demons by other religions, generally by the monotheistic and henotheistic ones. The term has since been expanded to refer to any characterization of individuals, groups, or political bodies as evil.', 'From Wikipedia, the free encyclopedia Demonization or Demonisation is the reinterpretation of polytheistic deities as evil, lying demons by other religions, generally by the monotheistic and henotheistic ones. The term has since been expanded to refer to any characterization of individuals, groups, or political bodies as evil.', 'From Wikipedia, the free encyclopedia Demonization or Demonisation is the reinterpretation of polytheistic deities as evil, lying demons by other religions, generally by the monotheistic and henotheistic ones. The term has since been expanded to refer to any characterization of individuals, groups, or political bodies as evil.', 'From Wikipedia, the free encyclopedia Demonization or Demonisation is the reinterpretation of polytheistic deities as evil, lying demons by other religions, generally by the monotheistic and henotheistic ones. The term has since been expanded to refer to any characterization of individuals, groups, or political bodies as evil.']\n"
     ]
    }
   ],
   "source": [
    "l= []\n",
    "for i in range(10):\n",
    "    f = open(\"text_%i.txt\"%i,\"r\")\n",
    "    l.append(f.read())\n",
    "print(l)\n",
    "    "
   ]
  },
  {
   "cell_type": "code",
   "execution_count": 170,
   "id": "capable-rescue",
   "metadata": {},
   "outputs": [
    {
     "data": {
      "text/plain": [
       "3320"
      ]
     },
     "execution_count": 170,
     "metadata": {},
     "output_type": "execute_result"
    }
   ],
   "source": [
    "f = open(\"text_all.txt\",\"w\")\n",
    "f.write(str(l))"
   ]
  },
  {
   "cell_type": "code",
   "execution_count": 172,
   "id": "modified-feeling",
   "metadata": {},
   "outputs": [],
   "source": [
    "os.mkdir(\"new\")"
   ]
  },
  {
   "cell_type": "code",
   "execution_count": 173,
   "id": "automatic-liberty",
   "metadata": {},
   "outputs": [],
   "source": [
    "import shutil\n",
    "for i in range(10):\n",
    "    shutil.move(\"text_%i.txt\"%i,\"new\")\n",
    "    "
   ]
  },
  {
   "cell_type": "code",
   "execution_count": 175,
   "id": "electric-corps",
   "metadata": {},
   "outputs": [
    {
     "data": {
      "text/plain": [
       "'C:\\\\Users\\\\Bharadwaj\\\\ineuron\\\\Python Module\\\\Classes\\\\File operations'"
      ]
     },
     "execution_count": 175,
     "metadata": {},
     "output_type": "execute_result"
    }
   ],
   "source": [
    "pwd"
   ]
  },
  {
   "cell_type": "code",
   "execution_count": 176,
   "id": "diverse-invasion",
   "metadata": {},
   "outputs": [
    {
     "name": "stdout",
     "output_type": "stream",
     "text": [
      "From Wikipedia, the free encyclopedia Demonization or Demonisation is the reinterpretation of polytheistic deities as evil, lying demons by other religions, generally by the monotheistic and henotheistic ones. The term has since been expanded to refer to any characterization of individuals, groups, or political bodies as evil.\n",
      "From Wikipedia, the free encyclopedia Demonization or Demonisation is the reinterpretation of polytheistic deities as evil, lying demons by other religions, generally by the monotheistic and henotheistic ones. The term has since been expanded to refer to any characterization of individuals, groups, or political bodies as evil.\n",
      "From Wikipedia, the free encyclopedia Demonization or Demonisation is the reinterpretation of polytheistic deities as evil, lying demons by other religions, generally by the monotheistic and henotheistic ones. The term has since been expanded to refer to any characterization of individuals, groups, or political bodies as evil.\n",
      "From Wikipedia, the free encyclopedia Demonization or Demonisation is the reinterpretation of polytheistic deities as evil, lying demons by other religions, generally by the monotheistic and henotheistic ones. The term has since been expanded to refer to any characterization of individuals, groups, or political bodies as evil.\n",
      "From Wikipedia, the free encyclopedia Demonization or Demonisation is the reinterpretation of polytheistic deities as evil, lying demons by other religions, generally by the monotheistic and henotheistic ones. The term has since been expanded to refer to any characterization of individuals, groups, or political bodies as evil.\n",
      "From Wikipedia, the free encyclopedia Demonization or Demonisation is the reinterpretation of polytheistic deities as evil, lying demons by other religions, generally by the monotheistic and henotheistic ones. The term has since been expanded to refer to any characterization of individuals, groups, or political bodies as evil.\n",
      "From Wikipedia, the free encyclopedia Demonization or Demonisation is the reinterpretation of polytheistic deities as evil, lying demons by other religions, generally by the monotheistic and henotheistic ones. The term has since been expanded to refer to any characterization of individuals, groups, or political bodies as evil.\n",
      "From Wikipedia, the free encyclopedia Demonization or Demonisation is the reinterpretation of polytheistic deities as evil, lying demons by other religions, generally by the monotheistic and henotheistic ones. The term has since been expanded to refer to any characterization of individuals, groups, or political bodies as evil.\n",
      "From Wikipedia, the free encyclopedia Demonization or Demonisation is the reinterpretation of polytheistic deities as evil, lying demons by other religions, generally by the monotheistic and henotheistic ones. The term has since been expanded to refer to any characterization of individuals, groups, or political bodies as evil.\n",
      "From Wikipedia, the free encyclopedia Demonization or Demonisation is the reinterpretation of polytheistic deities as evil, lying demons by other religions, generally by the monotheistic and henotheistic ones. The term has since been expanded to refer to any characterization of individuals, groups, or political bodies as evil.\n",
      "['From Wikipedia, the free encyclopedia Demonization or Demonisation is the reinterpretation of polytheistic deities as evil, lying demons by other religions, generally by the monotheistic and henotheistic ones. The term has since been expanded to refer to any characterization of individuals, groups, or political bodies as evil.', 'From Wikipedia, the free encyclopedia Demonization or Demonisation is the reinterpretation of polytheistic deities as evil, lying demons by other religions, generally by the monotheistic and henotheistic ones. The term has since been expanded to refer to any characterization of individuals, groups, or political bodies as evil.', 'From Wikipedia, the free encyclopedia Demonization or Demonisation is the reinterpretation of polytheistic deities as evil, lying demons by other religions, generally by the monotheistic and henotheistic ones. The term has since been expanded to refer to any characterization of individuals, groups, or political bodies as evil.', 'From Wikipedia, the free encyclopedia Demonization or Demonisation is the reinterpretation of polytheistic deities as evil, lying demons by other religions, generally by the monotheistic and henotheistic ones. The term has since been expanded to refer to any characterization of individuals, groups, or political bodies as evil.', 'From Wikipedia, the free encyclopedia Demonization or Demonisation is the reinterpretation of polytheistic deities as evil, lying demons by other religions, generally by the monotheistic and henotheistic ones. The term has since been expanded to refer to any characterization of individuals, groups, or political bodies as evil.', 'From Wikipedia, the free encyclopedia Demonization or Demonisation is the reinterpretation of polytheistic deities as evil, lying demons by other religions, generally by the monotheistic and henotheistic ones. The term has since been expanded to refer to any characterization of individuals, groups, or political bodies as evil.', 'From Wikipedia, the free encyclopedia Demonization or Demonisation is the reinterpretation of polytheistic deities as evil, lying demons by other religions, generally by the monotheistic and henotheistic ones. The term has since been expanded to refer to any characterization of individuals, groups, or political bodies as evil.', 'From Wikipedia, the free encyclopedia Demonization or Demonisation is the reinterpretation of polytheistic deities as evil, lying demons by other religions, generally by the monotheistic and henotheistic ones. The term has since been expanded to refer to any characterization of individuals, groups, or political bodies as evil.', 'From Wikipedia, the free encyclopedia Demonization or Demonisation is the reinterpretation of polytheistic deities as evil, lying demons by other religions, generally by the monotheistic and henotheistic ones. The term has since been expanded to refer to any characterization of individuals, groups, or political bodies as evil.', 'From Wikipedia, the free encyclopedia Demonization or Demonisation is the reinterpretation of polytheistic deities as evil, lying demons by other religions, generally by the monotheistic and henotheistic ones. The term has since been expanded to refer to any characterization of individuals, groups, or political bodies as evil.']\n"
     ]
    }
   ],
   "source": [
    "#Ques 1:\n",
    "import os\n",
    "os.mkdir(\"Bharadwaja\")\n",
    "\n",
    "#Ques 2:\n",
    "os.chdir('C:\\\\Users\\\\Bharadwaj\\\\ineuron\\\\Python Module\\\\Classes\\\\File operations\\\\Bharadwaja')\n",
    "\n",
    "for i in range(10):\n",
    "    f = open(\"text_%i.txt\"%i,\"w\")\n",
    "    f.write(\"From Wikipedia, the free encyclopedia Demonization or Demonisation is the reinterpretation of polytheistic deities as evil, lying demons by other religions, generally by the monotheistic and henotheistic ones. The term has since been expanded to refer to any characterization of individuals, groups, or political bodies as evil.\")\n",
    "    f.close()\n",
    "\n",
    "\n",
    "#Ques 3:\n",
    "\n",
    "for i in range(10):\n",
    "    f = open(\"text_%i.txt\"%i,\"r\")\n",
    "    print(f.read())\n",
    "    \n",
    "\n",
    "\n",
    "#Ques 4:\n",
    "\n",
    "l= []\n",
    "for i in range(10):\n",
    "    f = open(\"text_%i.txt\"%i,\"r\")\n",
    "    l.append(f.read())\n",
    "print(l)\n",
    "    \n",
    "#Ques 5:\n",
    "\n",
    "f = open(\"text_all.txt\",\"w\")\n",
    "for i in l:\n",
    "    f.write(i)\n",
    "\n",
    "\n",
    "#Ques 6:\n",
    "\n",
    "os.mkdir(\"new\")\n",
    "import shutil\n",
    "for i in range(10):\n",
    "    shutil.move(\"text_%i.txt\"%i,\"new\")\n",
    "    \n"
   ]
  },
  {
   "cell_type": "code",
   "execution_count": null,
   "id": "advisory-affect",
   "metadata": {},
   "outputs": [],
   "source": []
  },
  {
   "cell_type": "code",
   "execution_count": null,
   "id": "abstract-steal",
   "metadata": {},
   "outputs": [],
   "source": []
  },
  {
   "cell_type": "code",
   "execution_count": null,
   "id": "editorial-services",
   "metadata": {},
   "outputs": [],
   "source": []
  },
  {
   "cell_type": "code",
   "execution_count": null,
   "id": "plain-input",
   "metadata": {},
   "outputs": [],
   "source": []
  },
  {
   "cell_type": "code",
   "execution_count": null,
   "id": "incomplete-velvet",
   "metadata": {},
   "outputs": [],
   "source": []
  },
  {
   "cell_type": "code",
   "execution_count": null,
   "id": "nuclear-effectiveness",
   "metadata": {},
   "outputs": [],
   "source": []
  },
  {
   "cell_type": "code",
   "execution_count": null,
   "id": "southwest-appliance",
   "metadata": {},
   "outputs": [],
   "source": []
  },
  {
   "cell_type": "code",
   "execution_count": null,
   "id": "ceramic-vulnerability",
   "metadata": {},
   "outputs": [],
   "source": []
  },
  {
   "cell_type": "code",
   "execution_count": null,
   "id": "inside-practice",
   "metadata": {},
   "outputs": [],
   "source": []
  },
  {
   "cell_type": "code",
   "execution_count": null,
   "id": "revised-mainland",
   "metadata": {},
   "outputs": [],
   "source": []
  },
  {
   "cell_type": "code",
   "execution_count": null,
   "id": "collectible-alabama",
   "metadata": {},
   "outputs": [],
   "source": []
  },
  {
   "cell_type": "code",
   "execution_count": null,
   "id": "responsible-morning",
   "metadata": {},
   "outputs": [],
   "source": []
  },
  {
   "cell_type": "code",
   "execution_count": null,
   "id": "fitting-active",
   "metadata": {},
   "outputs": [],
   "source": []
  },
  {
   "cell_type": "code",
   "execution_count": null,
   "id": "solved-backing",
   "metadata": {},
   "outputs": [],
   "source": []
  },
  {
   "cell_type": "code",
   "execution_count": null,
   "id": "intimate-arthur",
   "metadata": {},
   "outputs": [],
   "source": []
  },
  {
   "cell_type": "code",
   "execution_count": null,
   "id": "allied-discipline",
   "metadata": {},
   "outputs": [],
   "source": []
  }
 ],
 "metadata": {
  "kernelspec": {
   "display_name": "Python [conda env:.conda-gputest] *",
   "language": "python",
   "name": "conda-env-.conda-gputest-py"
  },
  "language_info": {
   "codemirror_mode": {
    "name": "ipython",
    "version": 3
   },
   "file_extension": ".py",
   "mimetype": "text/x-python",
   "name": "python",
   "nbconvert_exporter": "python",
   "pygments_lexer": "ipython3",
   "version": "3.6.12"
  }
 },
 "nbformat": 4,
 "nbformat_minor": 5
}
