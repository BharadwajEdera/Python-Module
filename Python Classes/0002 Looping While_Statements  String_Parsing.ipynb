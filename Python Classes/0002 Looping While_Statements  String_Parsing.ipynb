{
 "cells": [
  {
   "cell_type": "markdown",
   "id": "secure-myanmar",
   "metadata": {},
   "source": [
    "## How to write a Multiple conditions in if statement"
   ]
  },
  {
   "cell_type": "markdown",
   "id": "silent-maria",
   "metadata": {},
   "source": [
    "## AND condition"
   ]
  },
  {
   "cell_type": "code",
   "execution_count": 1,
   "id": "british-spirituality",
   "metadata": {},
   "outputs": [
    {
     "name": "stdout",
     "output_type": "stream",
     "text": [
      "this valid Statement\n"
     ]
    }
   ],
   "source": [
    "a =10\n",
    "b =20\n",
    "## == is comparision operator\n",
    "if a == 10 and b == 20:\n",
    "    print(\"this valid Statement\")"
   ]
  },
  {
   "cell_type": "code",
   "execution_count": 4,
   "id": "stainless-fabric",
   "metadata": {},
   "outputs": [
    {
     "data": {
      "text/plain": [
       "True"
      ]
     },
     "execution_count": 4,
     "metadata": {},
     "output_type": "execute_result"
    }
   ],
   "source": [
    "a == 10 and b == 20"
   ]
  },
  {
   "cell_type": "code",
   "execution_count": 5,
   "id": "textile-horizon",
   "metadata": {},
   "outputs": [
    {
     "data": {
      "text/plain": [
       "True"
      ]
     },
     "execution_count": 5,
     "metadata": {},
     "output_type": "execute_result"
    }
   ],
   "source": [
    "a == 10"
   ]
  },
  {
   "cell_type": "code",
   "execution_count": 6,
   "id": "respected-johns",
   "metadata": {},
   "outputs": [
    {
     "data": {
      "text/plain": [
       "True"
      ]
     },
     "execution_count": 6,
     "metadata": {},
     "output_type": "execute_result"
    }
   ],
   "source": [
    "b == 20"
   ]
  },
  {
   "cell_type": "code",
   "execution_count": 11,
   "id": "impaired-square",
   "metadata": {},
   "outputs": [
    {
     "name": "stdout",
     "output_type": "stream",
     "text": [
      "statement is in eliF\n"
     ]
    }
   ],
   "source": [
    "a =10\n",
    "b =20\n",
    "## == is comparision operator\n",
    "if a == 10 and b > 20:\n",
    "    print(\"this valid Statement\")\n",
    "elif a==10 and b<=20:\n",
    "    print(\"statement is in eliF\")\n",
    "else:\n",
    "    print(\"Here condition is Not valid\")"
   ]
  },
  {
   "cell_type": "markdown",
   "id": "increased-register",
   "metadata": {},
   "source": [
    "## OR condition"
   ]
  },
  {
   "cell_type": "code",
   "execution_count": 16,
   "id": "speaking-injury",
   "metadata": {},
   "outputs": [
    {
     "name": "stdout",
     "output_type": "stream",
     "text": [
      "this valid Statement\n"
     ]
    }
   ],
   "source": [
    "a =10\n",
    "b =20\n",
    "## == is comparision operator\n",
    "if a == 10 or b > 20:\n",
    "    print(\"this valid Statement\")\n",
    "elif a==10 and b<=20:\n",
    "    print(\"statement is in eliF\")\n",
    "else:\n",
    "    print(\"Here condition is Not valid\")"
   ]
  },
  {
   "cell_type": "markdown",
   "id": "ancient-twenty",
   "metadata": {},
   "source": [
    "## TASK : Take input From your Keyboard as your first name and last name and Try to validate of write multiple condition by yourself"
   ]
  },
  {
   "cell_type": "code",
   "execution_count": 13,
   "id": "increased-riverside",
   "metadata": {},
   "outputs": [
    {
     "name": "stdout",
     "output_type": "stream",
     "text": [
      "Enter First NameBharadwaja\n",
      "Enter Last Namesai\n",
      "Either First NAme or Last name is correct\n"
     ]
    }
   ],
   "source": [
    "a = input(\"Enter First Name\")\n",
    "b = input(\"Enter Last Name\")\n",
    "## == is comparision operator\n",
    "if a == \"Bharadwaja\" and b == \"Edera\":\n",
    "    print(\"Yourself\")\n",
    "elif a == \"Bharadwaja\" or b == \"Edera\":\n",
    "    print(\"Either First NAme or Last name is correct\")\n",
    "else:\n",
    "    print(\"Incorrect Name\")"
   ]
  },
  {
   "cell_type": "code",
   "execution_count": 17,
   "id": "clinical-unknown",
   "metadata": {},
   "outputs": [
    {
     "name": "stdout",
     "output_type": "stream",
     "text": [
      "This is also valid\n"
     ]
    }
   ],
   "source": [
    "if a ==10 : print(\"This is also valid\")"
   ]
  },
  {
   "cell_type": "markdown",
   "id": "alone-finder",
   "metadata": {},
   "source": [
    "## LOOP"
   ]
  },
  {
   "cell_type": "markdown",
   "id": "crucial-access",
   "metadata": {},
   "source": [
    "## While Statement"
   ]
  },
  {
   "cell_type": "code",
   "execution_count": 3,
   "id": "romance-converter",
   "metadata": {},
   "outputs": [
    {
     "name": "stdout",
     "output_type": "stream",
     "text": [
      "Speed\n",
      "Speed\n",
      "Speed\n",
      "Speed\n",
      "Speed\n",
      "Speed\n",
      "Speed\n",
      "Speed\n",
      "Speed\n"
     ]
    }
   ],
   "source": [
    "initial_speed = 0\n",
    "final_speed = 100\n",
    "count = 1\n",
    "while initial_speed <= final_speed:\n",
    "    print(\"Speed\")\n",
    "    count  +=1\n",
    "    if count ==10:\n",
    "        break\n",
    "    "
   ]
  },
  {
   "cell_type": "code",
   "execution_count": 13,
   "id": "crazy-liberia",
   "metadata": {},
   "outputs": [
    {
     "name": "stdout",
     "output_type": "stream",
     "text": [
      "Speed : 10\n",
      "Speed : 50\n",
      " WARNING!! Speed : 1000 , Reduce The Speed\n"
     ]
    }
   ],
   "source": [
    "initial_speed = 0\n",
    "final_speed = 1000\n",
    "count = 1\n",
    "while initial_speed <= final_speed:\n",
    "    initial_speed  +=10\n",
    "    if initial_speed == 10:\n",
    "        print(\"Speed : {}\".format(initial_speed))\n",
    "    elif initial_speed ==50:\n",
    "        print(\"Speed : {}\".format(initial_speed))\n",
    "    elif initial_speed == final_speed:\n",
    "        print(\" WARNING!! Speed : {} , Reduce The Speed\".format(initial_speed))\n",
    "\n",
    "    "
   ]
  },
  {
   "cell_type": "code",
   "execution_count": 14,
   "id": "preceding-complaint",
   "metadata": {},
   "outputs": [
    {
     "name": "stdout",
     "output_type": "stream",
     "text": [
      "1\n",
      "2\n",
      "3\n",
      "4\n"
     ]
    }
   ],
   "source": [
    "i = 1\n",
    "j = 5\n",
    "while i<j:\n",
    "    print(i)\n",
    "    i = i +1"
   ]
  },
  {
   "cell_type": "markdown",
   "id": "aggregate-lover",
   "metadata": {},
   "source": [
    "## While  Else"
   ]
  },
  {
   "cell_type": "code",
   "execution_count": 2,
   "id": "absent-hardwood",
   "metadata": {},
   "outputs": [
    {
     "name": "stdout",
     "output_type": "stream",
     "text": [
      "1\n",
      "2\n",
      "3\n",
      "4\n",
      "1\n",
      "No 10 rs available\n"
     ]
    }
   ],
   "source": [
    "notes = 5\n",
    "i =1\n",
    "j=1\n",
    "while i < notes:\n",
    "    print(i)\n",
    "    i +=1\n",
    "else:\n",
    "    while j < 2:\n",
    "        print(j)\n",
    "        j +=1\n",
    "    print(\"No 10 rs available\")"
   ]
  },
  {
   "cell_type": "markdown",
   "id": "corrected-carolina",
   "metadata": {},
   "source": [
    "## STRINGS and String Parsing Operations"
   ]
  },
  {
   "cell_type": "code",
   "execution_count": 3,
   "id": "unlike-transformation",
   "metadata": {},
   "outputs": [],
   "source": [
    "S = \"Bharadwaja\""
   ]
  },
  {
   "cell_type": "code",
   "execution_count": 6,
   "id": "medical-discipline",
   "metadata": {},
   "outputs": [
    {
     "data": {
      "text/plain": [
       "'Bharadwaja'"
      ]
     },
     "execution_count": 6,
     "metadata": {},
     "output_type": "execute_result"
    }
   ],
   "source": [
    "S"
   ]
  },
  {
   "cell_type": "code",
   "execution_count": 9,
   "id": "remarkable-thread",
   "metadata": {},
   "outputs": [
    {
     "data": {
      "text/plain": [
       "'r'"
      ]
     },
     "execution_count": 9,
     "metadata": {},
     "output_type": "execute_result"
    }
   ],
   "source": [
    "S[3]"
   ]
  },
  {
   "cell_type": "code",
   "execution_count": 8,
   "id": "lucky-lending",
   "metadata": {},
   "outputs": [
    {
     "ename": "IndexError",
     "evalue": "string index out of range",
     "output_type": "error",
     "traceback": [
      "\u001b[1;31m---------------------------------------------------------------------------\u001b[0m",
      "\u001b[1;31mIndexError\u001b[0m                                Traceback (most recent call last)",
      "\u001b[1;32m<ipython-input-8-5a7264189c70>\u001b[0m in \u001b[0;36m<module>\u001b[1;34m\u001b[0m\n\u001b[1;32m----> 1\u001b[1;33m \u001b[0mS\u001b[0m\u001b[1;33m[\u001b[0m\u001b[1;36m20\u001b[0m\u001b[1;33m]\u001b[0m\u001b[1;33m\u001b[0m\u001b[1;33m\u001b[0m\u001b[0m\n\u001b[0m",
      "\u001b[1;31mIndexError\u001b[0m: string index out of range"
     ]
    }
   ],
   "source": [
    "S[20]"
   ]
  },
  {
   "cell_type": "code",
   "execution_count": 18,
   "id": "floppy-pontiac",
   "metadata": {},
   "outputs": [],
   "source": [
    "s =\"My name is Bharadwaja\""
   ]
  },
  {
   "cell_type": "code",
   "execution_count": 24,
   "id": "postal-visit",
   "metadata": {},
   "outputs": [
    {
     "data": {
      "text/plain": [
       "'name is'"
      ]
     },
     "execution_count": 24,
     "metadata": {},
     "output_type": "execute_result"
    }
   ],
   "source": [
    "s[3:10]"
   ]
  },
  {
   "cell_type": "code",
   "execution_count": 28,
   "id": "productive-latin",
   "metadata": {},
   "outputs": [
    {
     "data": {
      "text/plain": [
       "'nes'"
      ]
     },
     "execution_count": 28,
     "metadata": {},
     "output_type": "execute_result"
    }
   ],
   "source": [
    "s[3:10:3]"
   ]
  },
  {
   "cell_type": "code",
   "execution_count": 36,
   "id": "optical-coordinate",
   "metadata": {},
   "outputs": [
    {
     "data": {
      "text/plain": [
       "' si ema'"
      ]
     },
     "execution_count": 36,
     "metadata": {},
     "output_type": "execute_result"
    }
   ],
   "source": [
    "# By default Stepsize = 1\n",
    "s[10:3:-1]"
   ]
  },
  {
   "cell_type": "code",
   "execution_count": 37,
   "id": "brilliant-machine",
   "metadata": {},
   "outputs": [
    {
     "data": {
      "text/plain": [
       "' iea'"
      ]
     },
     "execution_count": 37,
     "metadata": {},
     "output_type": "execute_result"
    }
   ],
   "source": [
    "s[10:3:-2]"
   ]
  },
  {
   "cell_type": "code",
   "execution_count": 39,
   "id": "dominican-marijuana",
   "metadata": {},
   "outputs": [
    {
     "data": {
      "text/plain": [
       "'ajawdarahB si eman yM'"
      ]
     },
     "execution_count": 39,
     "metadata": {},
     "output_type": "execute_result"
    }
   ],
   "source": [
    "s[::-1]"
   ]
  },
  {
   "cell_type": "code",
   "execution_count": 40,
   "id": "naughty-monaco",
   "metadata": {},
   "outputs": [
    {
     "data": {
      "text/plain": [
       "' name is Bhar'"
      ]
     },
     "execution_count": 40,
     "metadata": {},
     "output_type": "execute_result"
    }
   ],
   "source": [
    "s[2:-6]"
   ]
  },
  {
   "cell_type": "code",
   "execution_count": 46,
   "id": "optional-battle",
   "metadata": {},
   "outputs": [],
   "source": [
    "s =\"Bharadwaja\""
   ]
  },
  {
   "cell_type": "markdown",
   "id": "potential-function",
   "metadata": {},
   "source": [
    "## For loop"
   ]
  },
  {
   "cell_type": "code",
   "execution_count": 49,
   "id": "sexual-assessment",
   "metadata": {},
   "outputs": [
    {
     "name": "stdout",
     "output_type": "stream",
     "text": [
      "B\n",
      "h\n",
      "i got \"h\" \n",
      "a\n",
      "r\n",
      "a\n",
      "d\n",
      "w\n",
      "a\n",
      "j\n",
      "a\n"
     ]
    }
   ],
   "source": [
    "for i in s:\n",
    "    print(i)\n",
    "    if i == 'h':\n",
    "        print(\"i got \\\"h\\\" \")"
   ]
  },
  {
   "cell_type": "markdown",
   "id": "guilty-drunk",
   "metadata": {},
   "source": [
    "## For Else"
   ]
  },
  {
   "cell_type": "code",
   "execution_count": 50,
   "id": "alleged-depression",
   "metadata": {},
   "outputs": [
    {
     "name": "stdout",
     "output_type": "stream",
     "text": [
      "B\n",
      "h\n",
      "a\n",
      "r\n",
      "a\n",
      "d\n",
      "w\n",
      "a\n",
      "j\n",
      "a\n",
      "This is ElsE\n"
     ]
    }
   ],
   "source": [
    "for i in s:\n",
    "    print(i)\n",
    "else:\n",
    "    if i==\"a\":\n",
    "        print(\"This is ElsE\")"
   ]
  },
  {
   "cell_type": "markdown",
   "id": "chubby-piece",
   "metadata": {},
   "source": [
    "### In For Else , else Execute only when for loop is complete itself"
   ]
  },
  {
   "cell_type": "markdown",
   "id": "color-consciousness",
   "metadata": {},
   "source": [
    "## Break"
   ]
  },
  {
   "cell_type": "code",
   "execution_count": 52,
   "id": "higher-disco",
   "metadata": {},
   "outputs": [
    {
     "name": "stdout",
     "output_type": "stream",
     "text": [
      "B\n",
      "h\n",
      "a\n"
     ]
    }
   ],
   "source": [
    "for i in s:\n",
    "    if i == 'r':\n",
    "        break\n",
    "    print(i)\n",
    "else:\n",
    "    if i==\"a\":\n",
    "        print(\"This is ElsE\")"
   ]
  },
  {
   "cell_type": "markdown",
   "id": "mexican-format",
   "metadata": {},
   "source": [
    "## Continue"
   ]
  },
  {
   "cell_type": "code",
   "execution_count": 54,
   "id": "welcome-curtis",
   "metadata": {},
   "outputs": [
    {
     "name": "stdout",
     "output_type": "stream",
     "text": [
      "B\n",
      "h\n",
      "a\n",
      "a\n",
      "d\n",
      "w\n",
      "a\n",
      "j\n",
      "a\n",
      "This is ElsE\n"
     ]
    }
   ],
   "source": [
    "for i in s:\n",
    "    if i == 'r':\n",
    "        continue\n",
    "    print(i)\n",
    "else:\n",
    "    if i==\"a\":\n",
    "        print(\"This is ElsE\")"
   ]
  },
  {
   "cell_type": "code",
   "execution_count": 60,
   "id": "broadband-disability",
   "metadata": {},
   "outputs": [
    {
     "name": "stdout",
     "output_type": "stream",
     "text": [
      "B\n",
      "a\n",
      "y\n",
      "a\n",
      "completed execution of for\n"
     ]
    }
   ],
   "source": [
    "s = 'Bhagya'\n",
    "for i in range(len(s)):\n",
    "    if s[i] == 'h' or s[i] == 'g':\n",
    "        continue\n",
    "    print(s[i])\n",
    "else:\n",
    "    print(\"completed execution of for\")"
   ]
  },
  {
   "cell_type": "markdown",
   "id": "chinese-tokyo",
   "metadata": {},
   "source": [
    "## Nested for loop"
   ]
  },
  {
   "cell_type": "code",
   "execution_count": 68,
   "id": "advanced-optimum",
   "metadata": {},
   "outputs": [
    {
     "name": "stdout",
     "output_type": "stream",
     "text": [
      "+ \r\n",
      "+ + \r\n",
      "+ + + \r\n",
      "+ + + + \r\n",
      "+ + + + + \r\n",
      "+ + + + + + \r\n",
      "+ + + + + + + \r\n"
     ]
    }
   ],
   "source": [
    "n = 7\n",
    "i\n",
    "k=15\n",
    "for i in range(0,n):\n",
    "    for j in range(0,i+1):\n",
    "        print('+',end=' ')\n",
    "        k -=1\n",
    "    print(\"\\r\")\n",
    "        "
   ]
  },
  {
   "cell_type": "markdown",
   "id": "arbitrary-oxford",
   "metadata": {},
   "source": [
    "## Task "
   ]
  },
  {
   "cell_type": "code",
   "execution_count": 80,
   "id": "resistant-generator",
   "metadata": {},
   "outputs": [
    {
     "name": "stdout",
     "output_type": "stream",
     "text": [
      "        * * * * * * \n",
      "         * * * * * \n",
      "          * * * * \n",
      "           * * * \n",
      "            * * \n",
      "             * \n"
     ]
    }
   ],
   "source": [
    "num = 5\n",
    "m = 2 * num - 2\n",
    "for i in range(num, -1, -1):\n",
    "    for j in range(m, 0, -1):\n",
    "        print(end=\" \")\n",
    "    m = m + 1\n",
    "    for j in range(0, i + 1):\n",
    "        print(\"*\", end=\" \")\n",
    "    print(\"\")\n",
    "\n",
    "        "
   ]
  },
  {
   "cell_type": "code",
   "execution_count": 81,
   "id": "democratic-virtue",
   "metadata": {},
   "outputs": [
    {
     "name": "stdout",
     "output_type": "stream",
     "text": [
      "Enter number of rows required: 10\n",
      "*******************\n",
      " *****************\n",
      "  ***************\n",
      "   *************\n",
      "    ***********\n",
      "     *********\n",
      "      *******\n",
      "       *****\n",
      "        ***\n",
      "         *\n"
     ]
    }
   ],
   "source": [
    "n = int(input('Enter number of rows required: '))\n",
    "\n",
    "for i in range(n,0,-1):\n",
    "    for j in range(n-i):\n",
    "        print(' ', end='') \n",
    "    \n",
    "    for j in range(2*i-1):\n",
    "        print('*',end='') \n",
    "    print()\n"
   ]
  },
  {
   "cell_type": "markdown",
   "id": "careful-poster",
   "metadata": {},
   "source": [
    "## Task"
   ]
  },
  {
   "cell_type": "code",
   "execution_count": 94,
   "id": "british-grant",
   "metadata": {},
   "outputs": [
    {
     "data": {
      "text/plain": [
       "range(0, 3)"
      ]
     },
     "execution_count": 94,
     "metadata": {},
     "output_type": "execute_result"
    }
   ],
   "source": [
    "range(3)"
   ]
  },
  {
   "cell_type": "code",
   "execution_count": 96,
   "id": "sound-permission",
   "metadata": {},
   "outputs": [
    {
     "name": "stdout",
     "output_type": "stream",
     "text": [
      "4\n",
      "5\n",
      "6\n",
      "7\n"
     ]
    }
   ],
   "source": [
    "for i in range(4,8):\n",
    "    print(i)"
   ]
  },
  {
   "cell_type": "code",
   "execution_count": 97,
   "id": "considerable-memphis",
   "metadata": {},
   "outputs": [
    {
     "name": "stdout",
     "output_type": "stream",
     "text": [
      "8\n",
      "7\n",
      "6\n",
      "5\n"
     ]
    }
   ],
   "source": [
    "for i in range(8,4,-1):\n",
    "    print(i)"
   ]
  },
  {
   "cell_type": "code",
   "execution_count": 104,
   "id": "elect-usage",
   "metadata": {},
   "outputs": [
    {
     "name": "stdout",
     "output_type": "stream",
     "text": [
      "        * \n",
      "       * * \n",
      "      * * * \n",
      "     * * * * \n",
      "    * * * * * \n",
      "   * * * * * * \n",
      "  * * * * * * * \n",
      " * * * * * * * * \n",
      "* * * * * * * * * \n"
     ]
    }
   ],
   "source": [
    "n = 9\n",
    "i = 0\n",
    "while i < n:\n",
    "    print(\" \"*(n-i-1) + '* '*(i+1))\n",
    "    i +=1"
   ]
  },
  {
   "cell_type": "markdown",
   "id": "retired-browse",
   "metadata": {},
   "source": [
    "# List"
   ]
  },
  {
   "cell_type": "code",
   "execution_count": 105,
   "id": "interim-arnold",
   "metadata": {},
   "outputs": [],
   "source": [
    "name = 'bharadwaja'\n",
    "phn = 123456789\n",
    "addr = 'vhgasvd'\n",
    "\n",
    "name , phn , addr = 'bharadwaja',123456789,'gvsvgsv'"
   ]
  },
  {
   "cell_type": "code",
   "execution_count": 122,
   "id": "quick-syndicate",
   "metadata": {},
   "outputs": [],
   "source": [
    "l = ['bharadwaja',123456789,\"hdsvf\",True,[3,4,5,\"uwuywg\"],6.783,3+3j]"
   ]
  },
  {
   "cell_type": "code",
   "execution_count": 120,
   "id": "multiple-static",
   "metadata": {},
   "outputs": [
    {
     "data": {
      "text/plain": [
       "True"
      ]
     },
     "execution_count": 120,
     "metadata": {},
     "output_type": "execute_result"
    }
   ],
   "source": [
    "l[3]"
   ]
  },
  {
   "cell_type": "code",
   "execution_count": 113,
   "id": "powerful-process",
   "metadata": {},
   "outputs": [
    {
     "data": {
      "text/plain": [
       "list"
      ]
     },
     "execution_count": 113,
     "metadata": {},
     "output_type": "execute_result"
    }
   ],
   "source": [
    "type(l)"
   ]
  },
  {
   "cell_type": "code",
   "execution_count": 114,
   "id": "processed-julian",
   "metadata": {},
   "outputs": [],
   "source": [
    "l1 = []"
   ]
  },
  {
   "cell_type": "code",
   "execution_count": 115,
   "id": "western-outreach",
   "metadata": {},
   "outputs": [
    {
     "data": {
      "text/plain": [
       "list"
      ]
     },
     "execution_count": 115,
     "metadata": {},
     "output_type": "execute_result"
    }
   ],
   "source": [
    "type(l1)"
   ]
  },
  {
   "cell_type": "code",
   "execution_count": 116,
   "id": "dense-quarter",
   "metadata": {},
   "outputs": [],
   "source": [
    "l2 =list()"
   ]
  },
  {
   "cell_type": "code",
   "execution_count": 117,
   "id": "eleven-profile",
   "metadata": {},
   "outputs": [
    {
     "data": {
      "text/plain": [
       "[]"
      ]
     },
     "execution_count": 117,
     "metadata": {},
     "output_type": "execute_result"
    }
   ],
   "source": [
    "l2"
   ]
  },
  {
   "cell_type": "code",
   "execution_count": 118,
   "id": "resident-therapy",
   "metadata": {},
   "outputs": [
    {
     "data": {
      "text/plain": [
       "list"
      ]
     },
     "execution_count": 118,
     "metadata": {},
     "output_type": "execute_result"
    }
   ],
   "source": [
    "type(l2)"
   ]
  },
  {
   "cell_type": "code",
   "execution_count": 123,
   "id": "similar-integral",
   "metadata": {},
   "outputs": [
    {
     "name": "stdout",
     "output_type": "stream",
     "text": [
      "<class 'str'>\n",
      "<class 'int'>\n",
      "<class 'str'>\n",
      "<class 'bool'>\n",
      "<class 'list'>\n",
      "<class 'float'>\n",
      "<class 'complex'>\n"
     ]
    }
   ],
   "source": [
    "for i in l:\n",
    "    print(type(i))"
   ]
  },
  {
   "cell_type": "code",
   "execution_count": 126,
   "id": "activated-antigua",
   "metadata": {},
   "outputs": [
    {
     "name": "stdout",
     "output_type": "stream",
     "text": [
      "<class 'int'>\n",
      "<class 'int'>\n",
      "<class 'int'>\n",
      "<class 'str'>\n"
     ]
    }
   ],
   "source": [
    "for i in l:\n",
    "    if type(i) == list:\n",
    "        for j in i:\n",
    "            print(type(j))"
   ]
  },
  {
   "cell_type": "code",
   "execution_count": 130,
   "id": "adjustable-clarity",
   "metadata": {},
   "outputs": [
    {
     "name": "stdout",
     "output_type": "stream",
     "text": [
      "24\n",
      "<class 'str'>\n"
     ]
    }
   ],
   "source": [
    "for i in l:\n",
    "    if type(i) == list:\n",
    "        0\n",
    "        for j in i:\n",
    "            if type(j) == int:\n",
    "                n = n+j\n",
    "        print(n)   \n",
    "            \n",
    "        print(type(j))"
   ]
  },
  {
   "cell_type": "code",
   "execution_count": 136,
   "id": "robust-formation",
   "metadata": {},
   "outputs": [
    {
     "data": {
      "text/plain": [
       "[(3+3j), 6.783, [3, 4, 5, 'uwuywg']]"
      ]
     },
     "execution_count": 136,
     "metadata": {},
     "output_type": "execute_result"
    }
   ],
   "source": [
    "l[50:3:-1]"
   ]
  },
  {
   "cell_type": "code",
   "execution_count": 137,
   "id": "differential-process",
   "metadata": {},
   "outputs": [
    {
     "data": {
      "text/plain": [
       "range(0, 10)"
      ]
     },
     "execution_count": 137,
     "metadata": {},
     "output_type": "execute_result"
    }
   ],
   "source": [
    "range(10)"
   ]
  },
  {
   "cell_type": "code",
   "execution_count": 138,
   "id": "human-district",
   "metadata": {},
   "outputs": [
    {
     "data": {
      "text/plain": [
       "[0, 1, 2, 3, 4, 5, 6, 7, 8, 9]"
      ]
     },
     "execution_count": 138,
     "metadata": {},
     "output_type": "execute_result"
    }
   ],
   "source": [
    "list(range(10))"
   ]
  },
  {
   "cell_type": "code",
   "execution_count": 139,
   "id": "funded-interest",
   "metadata": {},
   "outputs": [
    {
     "data": {
      "text/plain": [
       "range"
      ]
     },
     "execution_count": 139,
     "metadata": {},
     "output_type": "execute_result"
    }
   ],
   "source": [
    "type(range(10))"
   ]
  },
  {
   "cell_type": "code",
   "execution_count": 140,
   "id": "occupied-gregory",
   "metadata": {},
   "outputs": [
    {
     "data": {
      "text/plain": [
       "7"
      ]
     },
     "execution_count": 140,
     "metadata": {},
     "output_type": "execute_result"
    }
   ],
   "source": [
    "len(l)"
   ]
  },
  {
   "cell_type": "code",
   "execution_count": null,
   "id": "supreme-personality",
   "metadata": {},
   "outputs": [],
   "source": []
  },
  {
   "cell_type": "code",
   "execution_count": null,
   "id": "increasing-today",
   "metadata": {},
   "outputs": [],
   "source": []
  },
  {
   "cell_type": "code",
   "execution_count": null,
   "id": "catholic-parent",
   "metadata": {},
   "outputs": [],
   "source": []
  },
  {
   "cell_type": "code",
   "execution_count": null,
   "id": "greatest-constitution",
   "metadata": {},
   "outputs": [],
   "source": []
  },
  {
   "cell_type": "code",
   "execution_count": null,
   "id": "worst-hartford",
   "metadata": {},
   "outputs": [],
   "source": []
  },
  {
   "cell_type": "code",
   "execution_count": null,
   "id": "ignored-policy",
   "metadata": {},
   "outputs": [],
   "source": []
  },
  {
   "cell_type": "code",
   "execution_count": null,
   "id": "recovered-reducing",
   "metadata": {},
   "outputs": [],
   "source": []
  },
  {
   "cell_type": "code",
   "execution_count": null,
   "id": "residential-dover",
   "metadata": {},
   "outputs": [],
   "source": []
  },
  {
   "cell_type": "code",
   "execution_count": null,
   "id": "seeing-channels",
   "metadata": {},
   "outputs": [],
   "source": []
  },
  {
   "cell_type": "code",
   "execution_count": null,
   "id": "adverse-committee",
   "metadata": {},
   "outputs": [],
   "source": []
  },
  {
   "cell_type": "code",
   "execution_count": null,
   "id": "metric-gospel",
   "metadata": {},
   "outputs": [],
   "source": []
  },
  {
   "cell_type": "code",
   "execution_count": null,
   "id": "signed-solution",
   "metadata": {},
   "outputs": [],
   "source": []
  },
  {
   "cell_type": "code",
   "execution_count": null,
   "id": "bigger-treasurer",
   "metadata": {},
   "outputs": [],
   "source": []
  },
  {
   "cell_type": "code",
   "execution_count": null,
   "id": "immediate-attendance",
   "metadata": {},
   "outputs": [],
   "source": []
  },
  {
   "cell_type": "code",
   "execution_count": null,
   "id": "latest-stereo",
   "metadata": {},
   "outputs": [],
   "source": []
  },
  {
   "cell_type": "code",
   "execution_count": null,
   "id": "protected-accent",
   "metadata": {},
   "outputs": [],
   "source": []
  },
  {
   "cell_type": "code",
   "execution_count": null,
   "id": "meaning-delicious",
   "metadata": {},
   "outputs": [],
   "source": []
  },
  {
   "cell_type": "code",
   "execution_count": null,
   "id": "enabling-renewal",
   "metadata": {},
   "outputs": [],
   "source": []
  },
  {
   "cell_type": "code",
   "execution_count": null,
   "id": "fewer-priority",
   "metadata": {},
   "outputs": [],
   "source": []
  },
  {
   "cell_type": "code",
   "execution_count": null,
   "id": "limited-uganda",
   "metadata": {},
   "outputs": [],
   "source": []
  },
  {
   "cell_type": "code",
   "execution_count": null,
   "id": "subject-break",
   "metadata": {},
   "outputs": [],
   "source": []
  },
  {
   "cell_type": "code",
   "execution_count": null,
   "id": "labeled-movement",
   "metadata": {},
   "outputs": [],
   "source": []
  },
  {
   "cell_type": "code",
   "execution_count": null,
   "id": "comfortable-chinese",
   "metadata": {},
   "outputs": [],
   "source": []
  },
  {
   "cell_type": "code",
   "execution_count": null,
   "id": "final-mailing",
   "metadata": {},
   "outputs": [],
   "source": []
  },
  {
   "cell_type": "code",
   "execution_count": null,
   "id": "ceramic-writing",
   "metadata": {},
   "outputs": [],
   "source": []
  },
  {
   "cell_type": "code",
   "execution_count": null,
   "id": "foreign-silver",
   "metadata": {},
   "outputs": [],
   "source": []
  },
  {
   "cell_type": "code",
   "execution_count": null,
   "id": "hundred-amplifier",
   "metadata": {},
   "outputs": [],
   "source": []
  },
  {
   "cell_type": "code",
   "execution_count": null,
   "id": "chicken-award",
   "metadata": {},
   "outputs": [],
   "source": []
  },
  {
   "cell_type": "code",
   "execution_count": null,
   "id": "married-object",
   "metadata": {},
   "outputs": [],
   "source": []
  },
  {
   "cell_type": "code",
   "execution_count": null,
   "id": "italian-stick",
   "metadata": {},
   "outputs": [],
   "source": []
  },
  {
   "cell_type": "code",
   "execution_count": null,
   "id": "vocal-passion",
   "metadata": {},
   "outputs": [],
   "source": []
  },
  {
   "cell_type": "code",
   "execution_count": null,
   "id": "directed-bread",
   "metadata": {},
   "outputs": [],
   "source": []
  },
  {
   "cell_type": "code",
   "execution_count": null,
   "id": "systematic-adapter",
   "metadata": {},
   "outputs": [],
   "source": []
  },
  {
   "cell_type": "code",
   "execution_count": null,
   "id": "desperate-adapter",
   "metadata": {},
   "outputs": [],
   "source": []
  },
  {
   "cell_type": "code",
   "execution_count": null,
   "id": "eligible-stylus",
   "metadata": {},
   "outputs": [],
   "source": []
  },
  {
   "cell_type": "code",
   "execution_count": null,
   "id": "expensive-concord",
   "metadata": {},
   "outputs": [],
   "source": []
  },
  {
   "cell_type": "code",
   "execution_count": null,
   "id": "veterinary-marine",
   "metadata": {},
   "outputs": [],
   "source": []
  },
  {
   "cell_type": "code",
   "execution_count": null,
   "id": "instructional-guatemala",
   "metadata": {},
   "outputs": [],
   "source": []
  },
  {
   "cell_type": "code",
   "execution_count": null,
   "id": "sound-railway",
   "metadata": {},
   "outputs": [],
   "source": []
  },
  {
   "cell_type": "code",
   "execution_count": null,
   "id": "welsh-journalism",
   "metadata": {},
   "outputs": [],
   "source": []
  },
  {
   "cell_type": "code",
   "execution_count": null,
   "id": "whole-timeline",
   "metadata": {},
   "outputs": [],
   "source": []
  },
  {
   "cell_type": "code",
   "execution_count": null,
   "id": "surface-usage",
   "metadata": {},
   "outputs": [],
   "source": []
  },
  {
   "cell_type": "code",
   "execution_count": null,
   "id": "informal-incidence",
   "metadata": {},
   "outputs": [],
   "source": []
  },
  {
   "cell_type": "code",
   "execution_count": null,
   "id": "breeding-louisiana",
   "metadata": {},
   "outputs": [],
   "source": []
  },
  {
   "cell_type": "code",
   "execution_count": null,
   "id": "amber-corrections",
   "metadata": {},
   "outputs": [],
   "source": []
  },
  {
   "cell_type": "code",
   "execution_count": null,
   "id": "painful-engine",
   "metadata": {},
   "outputs": [],
   "source": []
  },
  {
   "cell_type": "code",
   "execution_count": null,
   "id": "stupid-entrepreneur",
   "metadata": {},
   "outputs": [],
   "source": []
  },
  {
   "cell_type": "code",
   "execution_count": null,
   "id": "maritime-component",
   "metadata": {},
   "outputs": [],
   "source": []
  },
  {
   "cell_type": "code",
   "execution_count": null,
   "id": "devoted-fundamentals",
   "metadata": {},
   "outputs": [],
   "source": []
  },
  {
   "cell_type": "code",
   "execution_count": null,
   "id": "restricted-phone",
   "metadata": {},
   "outputs": [],
   "source": []
  }
 ],
 "metadata": {
  "kernelspec": {
   "display_name": "Python [conda env:.conda-gputest] *",
   "language": "python",
   "name": "conda-env-.conda-gputest-py"
  },
  "language_info": {
   "codemirror_mode": {
    "name": "ipython",
    "version": 3
   },
   "file_extension": ".py",
   "mimetype": "text/x-python",
   "name": "python",
   "nbconvert_exporter": "python",
   "pygments_lexer": "ipython3",
   "version": "3.6.12"
  }
 },
 "nbformat": 4,
 "nbformat_minor": 5
}
