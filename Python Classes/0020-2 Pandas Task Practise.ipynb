{
 "cells": [
  {
   "cell_type": "markdown",
   "id": "2289e21b",
   "metadata": {},
   "source": [
    "# Task\n",
    "### Chiptole.tsv Dataset\n",
    "https://raw.githubusercontent.com/justmarkham/DAT8/master/data/chipotle.tsv\n",
    "\n",
    "### Beer.txt Dataset\n",
    "https://raw.githubusercontent.com/justmarkham/DAT8/master/data/beer.txt\n",
    "\n",
    "### US_Crime_Rates_1960_2014.csv DataSet\n",
    "https://gist.githubusercontent.com/ganeshbabuNN/9ef28b5313d52b0007e8de63c33ff435/raw/f69899e2ad7798bc64692f080272821c84e29a07/US_Crime_Rates_1960_2014.csv\n",
    "\n",
    "### vincentarelbundock openintro causaldata HMLdiag\n",
    "https://raw.githubusercontent.com/vincentarelbundock/Rdatasets/master/datasets.csv\n",
    "\n",
    "### Ineuron Practise Examples in  Pandas\n",
    "https://drive.google.com/file/d/1etGP85wJWsgqbsh3gX5oxc8dPKLMA1eT/view"
   ]
  },
  {
   "cell_type": "markdown",
   "id": "0c32e32f",
   "metadata": {},
   "source": [
    "### 1 .IMPORTING DATA"
   ]
  },
  {
   "cell_type": "code",
   "execution_count": 2,
   "id": "c4264dfe",
   "metadata": {},
   "outputs": [],
   "source": [
    "import pandas as pd"
   ]
  },
  {
   "cell_type": "code",
   "execution_count": 4,
   "id": "ce3542b9",
   "metadata": {},
   "outputs": [
    {
     "data": {
      "text/html": [
       "<div>\n",
       "<style scoped>\n",
       "    .dataframe tbody tr th:only-of-type {\n",
       "        vertical-align: middle;\n",
       "    }\n",
       "\n",
       "    .dataframe tbody tr th {\n",
       "        vertical-align: top;\n",
       "    }\n",
       "\n",
       "    .dataframe thead th {\n",
       "        text-align: right;\n",
       "    }\n",
       "</style>\n",
       "<table border=\"1\" class=\"dataframe\">\n",
       "  <thead>\n",
       "    <tr style=\"text-align: right;\">\n",
       "      <th></th>\n",
       "      <th>Year</th>\n",
       "      <th>Population</th>\n",
       "      <th>Total</th>\n",
       "      <th>Violent</th>\n",
       "      <th>Property</th>\n",
       "      <th>Murder</th>\n",
       "      <th>Forcible_Rape</th>\n",
       "      <th>Robbery</th>\n",
       "      <th>Aggravated_assault</th>\n",
       "      <th>Burglary</th>\n",
       "      <th>Larceny_Theft</th>\n",
       "      <th>Vehicle_Theft</th>\n",
       "    </tr>\n",
       "  </thead>\n",
       "  <tbody>\n",
       "    <tr>\n",
       "      <th>0</th>\n",
       "      <td>1960</td>\n",
       "      <td>179323175</td>\n",
       "      <td>3384200</td>\n",
       "      <td>288460</td>\n",
       "      <td>3095700</td>\n",
       "      <td>9110</td>\n",
       "      <td>17190</td>\n",
       "      <td>107840</td>\n",
       "      <td>154320</td>\n",
       "      <td>912100</td>\n",
       "      <td>1855400</td>\n",
       "      <td>328200</td>\n",
       "    </tr>\n",
       "    <tr>\n",
       "      <th>1</th>\n",
       "      <td>1961</td>\n",
       "      <td>182992000</td>\n",
       "      <td>3488000</td>\n",
       "      <td>289390</td>\n",
       "      <td>3198600</td>\n",
       "      <td>8740</td>\n",
       "      <td>17220</td>\n",
       "      <td>106670</td>\n",
       "      <td>156760</td>\n",
       "      <td>949600</td>\n",
       "      <td>1913000</td>\n",
       "      <td>336000</td>\n",
       "    </tr>\n",
       "  </tbody>\n",
       "</table>\n",
       "</div>"
      ],
      "text/plain": [
       "   Year  Population    Total  Violent  Property  Murder  Forcible_Rape  \\\n",
       "0  1960   179323175  3384200   288460   3095700    9110          17190   \n",
       "1  1961   182992000  3488000   289390   3198600    8740          17220   \n",
       "\n",
       "   Robbery  Aggravated_assault  Burglary  Larceny_Theft  Vehicle_Theft  \n",
       "0   107840              154320    912100        1855400         328200  \n",
       "1   106670              156760    949600        1913000         336000  "
      ]
     },
     "execution_count": 4,
     "metadata": {},
     "output_type": "execute_result"
    }
   ],
   "source": [
    "### From a CSV file\n",
    "df1 = pd.read_csv(\"https://gist.githubusercontent.com/ganeshbabuNN/9ef28b5313d52b0007e8de63c33ff435/raw/f69899e2ad7798bc64692f080272821c84e29a07/US_Crime_Rates_1960_2014.csv\")\n",
    "df1.head(2)"
   ]
  },
  {
   "cell_type": "code",
   "execution_count": 7,
   "id": "bf2820b5",
   "metadata": {},
   "outputs": [
    {
     "data": {
      "text/html": [
       "<div>\n",
       "<style scoped>\n",
       "    .dataframe tbody tr th:only-of-type {\n",
       "        vertical-align: middle;\n",
       "    }\n",
       "\n",
       "    .dataframe tbody tr th {\n",
       "        vertical-align: top;\n",
       "    }\n",
       "\n",
       "    .dataframe thead th {\n",
       "        text-align: right;\n",
       "    }\n",
       "</style>\n",
       "<table border=\"1\" class=\"dataframe\">\n",
       "  <thead>\n",
       "    <tr style=\"text-align: right;\">\n",
       "      <th></th>\n",
       "      <th>order_id</th>\n",
       "      <th>quantity</th>\n",
       "      <th>item_name</th>\n",
       "      <th>choice_description</th>\n",
       "      <th>item_price</th>\n",
       "    </tr>\n",
       "  </thead>\n",
       "  <tbody>\n",
       "    <tr>\n",
       "      <th>0</th>\n",
       "      <td>1</td>\n",
       "      <td>1</td>\n",
       "      <td>Chips and Fresh Tomato Salsa</td>\n",
       "      <td>NaN</td>\n",
       "      <td>$2.39</td>\n",
       "    </tr>\n",
       "    <tr>\n",
       "      <th>1</th>\n",
       "      <td>1</td>\n",
       "      <td>1</td>\n",
       "      <td>Izze</td>\n",
       "      <td>[Clementine]</td>\n",
       "      <td>$3.39</td>\n",
       "    </tr>\n",
       "  </tbody>\n",
       "</table>\n",
       "</div>"
      ],
      "text/plain": [
       "   order_id  quantity                     item_name choice_description  \\\n",
       "0         1         1  Chips and Fresh Tomato Salsa                NaN   \n",
       "1         1         1                          Izze       [Clementine]   \n",
       "\n",
       "  item_price  \n",
       "0     $2.39   \n",
       "1     $3.39   "
      ]
     },
     "execution_count": 7,
     "metadata": {},
     "output_type": "execute_result"
    }
   ],
   "source": [
    "### - From a delimited text file (like TSV)\n",
    "df2 = pd.read_table(\"https://raw.githubusercontent.com/justmarkham/DAT8/master/data/chipotle.tsv\")\n",
    "df2.head(2)"
   ]
  },
  {
   "cell_type": "code",
   "execution_count": 8,
   "id": "234199be",
   "metadata": {},
   "outputs": [
    {
     "data": {
      "text/html": [
       "<div>\n",
       "<style scoped>\n",
       "    .dataframe tbody tr th:only-of-type {\n",
       "        vertical-align: middle;\n",
       "    }\n",
       "\n",
       "    .dataframe tbody tr th {\n",
       "        vertical-align: top;\n",
       "    }\n",
       "\n",
       "    .dataframe thead th {\n",
       "        text-align: right;\n",
       "    }\n",
       "</style>\n",
       "<table border=\"1\" class=\"dataframe\">\n",
       "  <thead>\n",
       "    <tr style=\"text-align: right;\">\n",
       "      <th></th>\n",
       "      <th>order_id</th>\n",
       "      <th>quantity</th>\n",
       "      <th>item_name</th>\n",
       "      <th>choice_description</th>\n",
       "      <th>item_price</th>\n",
       "    </tr>\n",
       "  </thead>\n",
       "  <tbody>\n",
       "    <tr>\n",
       "      <th>0</th>\n",
       "      <td>1</td>\n",
       "      <td>1</td>\n",
       "      <td>Chips and Fresh Tomato Salsa</td>\n",
       "      <td>NaN</td>\n",
       "      <td>$2.39</td>\n",
       "    </tr>\n",
       "    <tr>\n",
       "      <th>1</th>\n",
       "      <td>1</td>\n",
       "      <td>1</td>\n",
       "      <td>Izze</td>\n",
       "      <td>[Clementine]</td>\n",
       "      <td>$3.39</td>\n",
       "    </tr>\n",
       "  </tbody>\n",
       "</table>\n",
       "</div>"
      ],
      "text/plain": [
       "   order_id  quantity                     item_name choice_description  \\\n",
       "0         1         1  Chips and Fresh Tomato Salsa                NaN   \n",
       "1         1         1                          Izze       [Clementine]   \n",
       "\n",
       "  item_price  \n",
       "0     $2.39   \n",
       "1     $3.39   "
      ]
     },
     "execution_count": 8,
     "metadata": {},
     "output_type": "execute_result"
    }
   ],
   "source": [
    "### - From a delimited text file (like TSV)\n",
    "df2 = pd.read_table(\"https://raw.githubusercontent.com/justmarkham/DAT8/master/data/chipotle.tsv\", sep='\\t')\n",
    "df2.head(2)"
   ]
  },
  {
   "cell_type": "code",
   "execution_count": 3,
   "id": "06dcd671",
   "metadata": {},
   "outputs": [
    {
     "name": "stdout",
     "output_type": "stream",
     "text": [
      "M:\\01 FSDS ineuron\\Python Module\\Classes\\0020 Pandas\\datasets\n"
     ]
    }
   ],
   "source": [
    "cd M:\\01 FSDS ineuron\\Python Module\\Classes\\0020 Pandas\\datasets"
   ]
  },
  {
   "cell_type": "code",
   "execution_count": 6,
   "id": "6ceda613",
   "metadata": {},
   "outputs": [
    {
     "data": {
      "text/html": [
       "<div>\n",
       "<style scoped>\n",
       "    .dataframe tbody tr th:only-of-type {\n",
       "        vertical-align: middle;\n",
       "    }\n",
       "\n",
       "    .dataframe tbody tr th {\n",
       "        vertical-align: top;\n",
       "    }\n",
       "\n",
       "    .dataframe thead th {\n",
       "        text-align: right;\n",
       "    }\n",
       "</style>\n",
       "<table border=\"1\" class=\"dataframe\">\n",
       "  <thead>\n",
       "    <tr style=\"text-align: right;\">\n",
       "      <th></th>\n",
       "      <th>Country</th>\n",
       "      <th>Year</th>\n",
       "      <th>Rank</th>\n",
       "      <th>Total</th>\n",
       "      <th>C1: Security Apparatus</th>\n",
       "      <th>C2: Factionalized Elites</th>\n",
       "      <th>C3: Group Grievance</th>\n",
       "      <th>E1: Economy</th>\n",
       "      <th>E2: Economic Inequality</th>\n",
       "      <th>E3: Human Flight and Brain Drain</th>\n",
       "      <th>P1: State Legitimacy</th>\n",
       "      <th>P2: Public Services</th>\n",
       "      <th>P3: Human Rights</th>\n",
       "      <th>S1: Demographic Pressures</th>\n",
       "      <th>S2: Refugees and IDPs</th>\n",
       "      <th>X1: External Intervention</th>\n",
       "    </tr>\n",
       "  </thead>\n",
       "  <tbody>\n",
       "    <tr>\n",
       "      <th>0</th>\n",
       "      <td>Yemen</td>\n",
       "      <td>2021</td>\n",
       "      <td>1st</td>\n",
       "      <td>111.7</td>\n",
       "      <td>9.4</td>\n",
       "      <td>10.0</td>\n",
       "      <td>9.4</td>\n",
       "      <td>9.8</td>\n",
       "      <td>7.7</td>\n",
       "      <td>6.7</td>\n",
       "      <td>9.9</td>\n",
       "      <td>9.8</td>\n",
       "      <td>9.7</td>\n",
       "      <td>9.8</td>\n",
       "      <td>9.8</td>\n",
       "      <td>9.7</td>\n",
       "    </tr>\n",
       "    <tr>\n",
       "      <th>1</th>\n",
       "      <td>Somalia</td>\n",
       "      <td>2021</td>\n",
       "      <td>2nd</td>\n",
       "      <td>110.9</td>\n",
       "      <td>9.3</td>\n",
       "      <td>10.0</td>\n",
       "      <td>8.3</td>\n",
       "      <td>9.2</td>\n",
       "      <td>9.5</td>\n",
       "      <td>8.8</td>\n",
       "      <td>9.2</td>\n",
       "      <td>9.8</td>\n",
       "      <td>8.7</td>\n",
       "      <td>10.0</td>\n",
       "      <td>9.2</td>\n",
       "      <td>8.9</td>\n",
       "    </tr>\n",
       "  </tbody>\n",
       "</table>\n",
       "</div>"
      ],
      "text/plain": [
       "   Country  Year Rank  Total  C1: Security Apparatus  \\\n",
       "0    Yemen  2021  1st  111.7                     9.4   \n",
       "1  Somalia  2021  2nd  110.9                     9.3   \n",
       "\n",
       "   C2: Factionalized Elites  C3: Group Grievance  E1: Economy  \\\n",
       "0                      10.0                  9.4          9.8   \n",
       "1                      10.0                  8.3          9.2   \n",
       "\n",
       "   E2: Economic Inequality  E3: Human Flight and Brain Drain  \\\n",
       "0                      7.7                               6.7   \n",
       "1                      9.5                               8.8   \n",
       "\n",
       "   P1: State Legitimacy  P2: Public Services  P3: Human Rights  \\\n",
       "0                   9.9                  9.8               9.7   \n",
       "1                   9.2                  9.8               8.7   \n",
       "\n",
       "   S1: Demographic Pressures  S2: Refugees and IDPs  X1: External Intervention  \n",
       "0                        9.8                    9.8                        9.7  \n",
       "1                       10.0                    9.2                        8.9  "
      ]
     },
     "execution_count": 6,
     "metadata": {},
     "output_type": "execute_result"
    }
   ],
   "source": [
    "### From an Excel file\n",
    "import openpyxl\n",
    "import pandas as pd\n",
    "df3 = pd.read_excel(\"fsi-2021.xlsx\" , engine='openpyxl')\n",
    "df3.head(2)"
   ]
  },
  {
   "cell_type": "code",
   "execution_count": 15,
   "id": "89a7b171",
   "metadata": {},
   "outputs": [
    {
     "data": {
      "text/html": [
       "<div>\n",
       "<style scoped>\n",
       "    .dataframe tbody tr th:only-of-type {\n",
       "        vertical-align: middle;\n",
       "    }\n",
       "\n",
       "    .dataframe tbody tr th {\n",
       "        vertical-align: top;\n",
       "    }\n",
       "\n",
       "    .dataframe thead th {\n",
       "        text-align: right;\n",
       "    }\n",
       "</style>\n",
       "<table border=\"1\" class=\"dataframe\">\n",
       "  <thead>\n",
       "    <tr style=\"text-align: right;\">\n",
       "      <th></th>\n",
       "      <th>Database</th>\n",
       "    </tr>\n",
       "  </thead>\n",
       "  <tbody>\n",
       "    <tr>\n",
       "      <th>0</th>\n",
       "      <td>carbonnanotubes</td>\n",
       "    </tr>\n",
       "    <tr>\n",
       "      <th>1</th>\n",
       "      <td>information_schema</td>\n",
       "    </tr>\n",
       "  </tbody>\n",
       "</table>\n",
       "</div>"
      ],
      "text/plain": [
       "             Database\n",
       "0     carbonnanotubes\n",
       "1  information_schema"
      ]
     },
     "execution_count": 15,
     "metadata": {},
     "output_type": "execute_result"
    }
   ],
   "source": [
    "### Reads from a SQL table/database\n",
    "import mysql.connector as connection\n",
    "conn = connection.connect(host=\"127.0.0.1\", database = \"practise\" ,user=\"root\", passwd=\"Bharadwaja01\",use_pure=True)\n",
    "df4 = pd.read_sql(\"show databases\", conn)\n",
    "df4.head(2)"
   ]
  },
  {
   "cell_type": "code",
   "execution_count": 16,
   "id": "eebf4e8b",
   "metadata": {},
   "outputs": [
    {
     "data": {
      "text/html": [
       "<div>\n",
       "<style scoped>\n",
       "    .dataframe tbody tr th:only-of-type {\n",
       "        vertical-align: middle;\n",
       "    }\n",
       "\n",
       "    .dataframe tbody tr th {\n",
       "        vertical-align: top;\n",
       "    }\n",
       "\n",
       "    .dataframe thead th {\n",
       "        text-align: right;\n",
       "    }\n",
       "</style>\n",
       "<table border=\"1\" class=\"dataframe\">\n",
       "  <thead>\n",
       "    <tr style=\"text-align: right;\">\n",
       "      <th></th>\n",
       "      <th>url</th>\n",
       "      <th>repository_url</th>\n",
       "      <th>labels_url</th>\n",
       "      <th>comments_url</th>\n",
       "      <th>events_url</th>\n",
       "      <th>html_url</th>\n",
       "      <th>id</th>\n",
       "      <th>node_id</th>\n",
       "      <th>number</th>\n",
       "      <th>title</th>\n",
       "      <th>...</th>\n",
       "      <th>milestone</th>\n",
       "      <th>comments</th>\n",
       "      <th>created_at</th>\n",
       "      <th>updated_at</th>\n",
       "      <th>closed_at</th>\n",
       "      <th>author_association</th>\n",
       "      <th>active_lock_reason</th>\n",
       "      <th>body</th>\n",
       "      <th>performed_via_github_app</th>\n",
       "      <th>pull_request</th>\n",
       "    </tr>\n",
       "  </thead>\n",
       "  <tbody>\n",
       "    <tr>\n",
       "      <th>0</th>\n",
       "      <td>https://api.github.com/repos/pandas-dev/pandas...</td>\n",
       "      <td>https://api.github.com/repos/pandas-dev/pandas</td>\n",
       "      <td>https://api.github.com/repos/pandas-dev/pandas...</td>\n",
       "      <td>https://api.github.com/repos/pandas-dev/pandas...</td>\n",
       "      <td>https://api.github.com/repos/pandas-dev/pandas...</td>\n",
       "      <td>https://github.com/pandas-dev/pandas/issues/41865</td>\n",
       "      <td>914243317</td>\n",
       "      <td>MDU6SXNzdWU5MTQyNDMzMTc=</td>\n",
       "      <td>41865</td>\n",
       "      <td>Timezone specification like +HHMM without colo...</td>\n",
       "      <td>...</td>\n",
       "      <td>None</td>\n",
       "      <td>0</td>\n",
       "      <td>2021-06-08 03:22:56+00:00</td>\n",
       "      <td>2021-06-08 03:22:56+00:00</td>\n",
       "      <td>NaT</td>\n",
       "      <td>NONE</td>\n",
       "      <td>NaN</td>\n",
       "      <td>- [x] I have checked that this issue has not a...</td>\n",
       "      <td>NaN</td>\n",
       "      <td>NaN</td>\n",
       "    </tr>\n",
       "    <tr>\n",
       "      <th>1</th>\n",
       "      <td>https://api.github.com/repos/pandas-dev/pandas...</td>\n",
       "      <td>https://api.github.com/repos/pandas-dev/pandas</td>\n",
       "      <td>https://api.github.com/repos/pandas-dev/pandas...</td>\n",
       "      <td>https://api.github.com/repos/pandas-dev/pandas...</td>\n",
       "      <td>https://api.github.com/repos/pandas-dev/pandas...</td>\n",
       "      <td>https://github.com/pandas-dev/pandas/pull/41864</td>\n",
       "      <td>914237758</td>\n",
       "      <td>MDExOlB1bGxSZXF1ZXN0NjY0MTY5OTMz</td>\n",
       "      <td>41864</td>\n",
       "      <td>Clean up ujson initialization</td>\n",
       "      <td>...</td>\n",
       "      <td>None</td>\n",
       "      <td>0</td>\n",
       "      <td>2021-06-08 03:17:34+00:00</td>\n",
       "      <td>2021-06-08 03:17:34+00:00</td>\n",
       "      <td>NaT</td>\n",
       "      <td>MEMBER</td>\n",
       "      <td>NaN</td>\n",
       "      <td>The way we do this now is a little wonky as we...</td>\n",
       "      <td>NaN</td>\n",
       "      <td>{'url': 'https://api.github.com/repos/pandas-d...</td>\n",
       "    </tr>\n",
       "  </tbody>\n",
       "</table>\n",
       "<p>2 rows × 26 columns</p>\n",
       "</div>"
      ],
      "text/plain": [
       "                                                 url  \\\n",
       "0  https://api.github.com/repos/pandas-dev/pandas...   \n",
       "1  https://api.github.com/repos/pandas-dev/pandas...   \n",
       "\n",
       "                                   repository_url  \\\n",
       "0  https://api.github.com/repos/pandas-dev/pandas   \n",
       "1  https://api.github.com/repos/pandas-dev/pandas   \n",
       "\n",
       "                                          labels_url  \\\n",
       "0  https://api.github.com/repos/pandas-dev/pandas...   \n",
       "1  https://api.github.com/repos/pandas-dev/pandas...   \n",
       "\n",
       "                                        comments_url  \\\n",
       "0  https://api.github.com/repos/pandas-dev/pandas...   \n",
       "1  https://api.github.com/repos/pandas-dev/pandas...   \n",
       "\n",
       "                                          events_url  \\\n",
       "0  https://api.github.com/repos/pandas-dev/pandas...   \n",
       "1  https://api.github.com/repos/pandas-dev/pandas...   \n",
       "\n",
       "                                            html_url         id  \\\n",
       "0  https://github.com/pandas-dev/pandas/issues/41865  914243317   \n",
       "1    https://github.com/pandas-dev/pandas/pull/41864  914237758   \n",
       "\n",
       "                            node_id  number  \\\n",
       "0          MDU6SXNzdWU5MTQyNDMzMTc=   41865   \n",
       "1  MDExOlB1bGxSZXF1ZXN0NjY0MTY5OTMz   41864   \n",
       "\n",
       "                                               title  ... milestone comments  \\\n",
       "0  Timezone specification like +HHMM without colo...  ...      None        0   \n",
       "1                      Clean up ujson initialization  ...      None        0   \n",
       "\n",
       "                 created_at                updated_at  closed_at  \\\n",
       "0 2021-06-08 03:22:56+00:00 2021-06-08 03:22:56+00:00        NaT   \n",
       "1 2021-06-08 03:17:34+00:00 2021-06-08 03:17:34+00:00        NaT   \n",
       "\n",
       "  author_association active_lock_reason  \\\n",
       "0               NONE                NaN   \n",
       "1             MEMBER                NaN   \n",
       "\n",
       "                                                body performed_via_github_app  \\\n",
       "0  - [x] I have checked that this issue has not a...                      NaN   \n",
       "1  The way we do this now is a little wonky as we...                      NaN   \n",
       "\n",
       "                                        pull_request  \n",
       "0                                                NaN  \n",
       "1  {'url': 'https://api.github.com/repos/pandas-d...  \n",
       "\n",
       "[2 rows x 26 columns]"
      ]
     },
     "execution_count": 16,
     "metadata": {},
     "output_type": "execute_result"
    }
   ],
   "source": [
    "### Reads from a JSON  formatted string, URL or file.\n",
    "df5 = pd.read_json('https://api.github.com/repos/pandas-dev/pandas/issues')\n",
    "df5.head(2)"
   ]
  },
  {
   "cell_type": "code",
   "execution_count": 22,
   "id": "fbded2a4",
   "metadata": {},
   "outputs": [
    {
     "data": {
      "text/html": [
       "<div>\n",
       "<style scoped>\n",
       "    .dataframe tbody tr th:only-of-type {\n",
       "        vertical-align: middle;\n",
       "    }\n",
       "\n",
       "    .dataframe tbody tr th {\n",
       "        vertical-align: top;\n",
       "    }\n",
       "\n",
       "    .dataframe thead th {\n",
       "        text-align: right;\n",
       "    }\n",
       "</style>\n",
       "<table border=\"1\" class=\"dataframe\">\n",
       "  <thead>\n",
       "    <tr style=\"text-align: right;\">\n",
       "      <th></th>\n",
       "      <th>Season</th>\n",
       "      <th>Age</th>\n",
       "      <th>Tm</th>\n",
       "      <th>Lg</th>\n",
       "      <th>Pos</th>\n",
       "      <th>G</th>\n",
       "      <th>GS</th>\n",
       "      <th>MP</th>\n",
       "      <th>FG</th>\n",
       "      <th>FGA</th>\n",
       "      <th>...</th>\n",
       "      <th>DRB</th>\n",
       "      <th>TRB</th>\n",
       "      <th>AST</th>\n",
       "      <th>STL</th>\n",
       "      <th>BLK</th>\n",
       "      <th>TOV</th>\n",
       "      <th>PF</th>\n",
       "      <th>PTS</th>\n",
       "      <th>Unnamed: 30</th>\n",
       "      <th>Trp Dbl</th>\n",
       "    </tr>\n",
       "  </thead>\n",
       "  <tbody>\n",
       "    <tr>\n",
       "      <th>0</th>\n",
       "      <td>2009-10</td>\n",
       "      <td>20.0</td>\n",
       "      <td>OKC</td>\n",
       "      <td>NBA</td>\n",
       "      <td>PF</td>\n",
       "      <td>73.0</td>\n",
       "      <td>0.0</td>\n",
       "      <td>1323.0</td>\n",
       "      <td>201.0</td>\n",
       "      <td>370.0</td>\n",
       "      <td>...</td>\n",
       "      <td>259.0</td>\n",
       "      <td>397.0</td>\n",
       "      <td>10.0</td>\n",
       "      <td>25.0</td>\n",
       "      <td>97.0</td>\n",
       "      <td>68.0</td>\n",
       "      <td>194.0</td>\n",
       "      <td>461.0</td>\n",
       "      <td>NaN</td>\n",
       "      <td>0.0</td>\n",
       "    </tr>\n",
       "    <tr>\n",
       "      <th>1</th>\n",
       "      <td>2010-11</td>\n",
       "      <td>21.0</td>\n",
       "      <td>OKC</td>\n",
       "      <td>NBA</td>\n",
       "      <td>PF</td>\n",
       "      <td>82.0</td>\n",
       "      <td>44.0</td>\n",
       "      <td>2216.0</td>\n",
       "      <td>335.0</td>\n",
       "      <td>617.0</td>\n",
       "      <td>...</td>\n",
       "      <td>408.0</td>\n",
       "      <td>622.0</td>\n",
       "      <td>22.0</td>\n",
       "      <td>31.0</td>\n",
       "      <td>198.0</td>\n",
       "      <td>71.0</td>\n",
       "      <td>267.0</td>\n",
       "      <td>808.0</td>\n",
       "      <td>NaN</td>\n",
       "      <td>0.0</td>\n",
       "    </tr>\n",
       "  </tbody>\n",
       "</table>\n",
       "<p>2 rows × 32 columns</p>\n",
       "</div>"
      ],
      "text/plain": [
       "    Season   Age   Tm   Lg Pos     G    GS      MP     FG    FGA  ...    DRB  \\\n",
       "0  2009-10  20.0  OKC  NBA  PF  73.0   0.0  1323.0  201.0  370.0  ...  259.0   \n",
       "1  2010-11  21.0  OKC  NBA  PF  82.0  44.0  2216.0  335.0  617.0  ...  408.0   \n",
       "\n",
       "     TRB   AST   STL    BLK   TOV     PF    PTS  Unnamed: 30  Trp Dbl  \n",
       "0  397.0  10.0  25.0   97.0  68.0  194.0  461.0          NaN      0.0  \n",
       "1  622.0  22.0  31.0  198.0  71.0  267.0  808.0          NaN      0.0  \n",
       "\n",
       "[2 rows x 32 columns]"
      ]
     },
     "execution_count": 22,
     "metadata": {},
     "output_type": "execute_result"
    }
   ],
   "source": [
    "### Parses an html URL, string or  file and extracts tables to a list of dataframes\n",
    "df6=pd.read_html('''https://www.basketball-reference.com/players/i/ibakase01.html?utm_source=direct&utm_medium=Share&utm_campaign=ShareTool\n",
    "''')\n",
    "df6[2].head(2)\n"
   ]
  },
  {
   "cell_type": "markdown",
   "id": "872d044e",
   "metadata": {},
   "source": [
    "### Select table, copy and run below command"
   ]
  },
  {
   "cell_type": "code",
   "execution_count": 28,
   "id": "2da996fa",
   "metadata": {},
   "outputs": [
    {
     "data": {
      "text/html": [
       "<div>\n",
       "<style scoped>\n",
       "    .dataframe tbody tr th:only-of-type {\n",
       "        vertical-align: middle;\n",
       "    }\n",
       "\n",
       "    .dataframe tbody tr th {\n",
       "        vertical-align: top;\n",
       "    }\n",
       "\n",
       "    .dataframe thead th {\n",
       "        text-align: right;\n",
       "    }\n",
       "</style>\n",
       "<table border=\"1\" class=\"dataframe\">\n",
       "  <thead>\n",
       "    <tr style=\"text-align: right;\">\n",
       "      <th></th>\n",
       "      <th>Database</th>\n",
       "    </tr>\n",
       "  </thead>\n",
       "  <tbody>\n",
       "    <tr>\n",
       "      <th>0</th>\n",
       "      <td>carbonnanotubes</td>\n",
       "    </tr>\n",
       "    <tr>\n",
       "      <th>1</th>\n",
       "      <td>information_schema</td>\n",
       "    </tr>\n",
       "  </tbody>\n",
       "</table>\n",
       "</div>"
      ],
      "text/plain": [
       "             Database\n",
       "0     carbonnanotubes\n",
       "1  information_schema"
      ]
     },
     "execution_count": 28,
     "metadata": {},
     "output_type": "execute_result"
    }
   ],
   "source": [
    "###  Takes the contents of your clipboard and passes it to read_table()\n",
    "df7 = pd.read_clipboard() \n",
    "df7"
   ]
  },
  {
   "cell_type": "code",
   "execution_count": null,
   "id": "a74fee84",
   "metadata": {},
   "outputs": [],
   "source": [
    "###  From a dict, keys for \n",
    "columns names, values for data as lists\n",
    "pd.DataFrame(dict) "
   ]
  },
  {
   "cell_type": "markdown",
   "id": "d43e5b2a",
   "metadata": {},
   "source": [
    "### CREATE TEST OBJECTS"
   ]
  },
  {
   "cell_type": "code",
   "execution_count": 5,
   "id": "6d035c6a",
   "metadata": {},
   "outputs": [
    {
     "data": {
      "text/plain": [
       "array([[0.74977183, 0.39238808, 0.16432684, 0.23859807, 0.21221121],\n",
       "       [0.50151193, 0.37193842, 0.36090038, 0.72678036, 0.65377526],\n",
       "       [0.85390553, 0.45100797, 0.24705441, 0.46560928, 0.06128624],\n",
       "       [0.40919529, 0.26028573, 0.83211298, 0.53503766, 0.08896129],\n",
       "       [0.47348466, 0.43662818, 0.07385645, 0.99993966, 0.0771838 ]])"
      ]
     },
     "execution_count": 5,
     "metadata": {},
     "output_type": "execute_result"
    }
   ],
   "source": [
    "np.random.rand(5,5)"
   ]
  },
  {
   "cell_type": "code",
   "execution_count": 25,
   "id": "483d612d",
   "metadata": {},
   "outputs": [
    {
     "data": {
      "text/html": [
       "<div>\n",
       "<style scoped>\n",
       "    .dataframe tbody tr th:only-of-type {\n",
       "        vertical-align: middle;\n",
       "    }\n",
       "\n",
       "    .dataframe tbody tr th {\n",
       "        vertical-align: top;\n",
       "    }\n",
       "\n",
       "    .dataframe thead th {\n",
       "        text-align: right;\n",
       "    }\n",
       "</style>\n",
       "<table border=\"1\" class=\"dataframe\">\n",
       "  <thead>\n",
       "    <tr style=\"text-align: right;\">\n",
       "      <th></th>\n",
       "      <th>0</th>\n",
       "      <th>1</th>\n",
       "      <th>2</th>\n",
       "      <th>3</th>\n",
       "      <th>4</th>\n",
       "    </tr>\n",
       "  </thead>\n",
       "  <tbody>\n",
       "    <tr>\n",
       "      <th>0</th>\n",
       "      <td>0.329579</td>\n",
       "      <td>0.388073</td>\n",
       "      <td>0.142658</td>\n",
       "      <td>0.497346</td>\n",
       "      <td>0.337940</td>\n",
       "    </tr>\n",
       "    <tr>\n",
       "      <th>1</th>\n",
       "      <td>0.875608</td>\n",
       "      <td>0.951857</td>\n",
       "      <td>0.403505</td>\n",
       "      <td>0.687571</td>\n",
       "      <td>0.961991</td>\n",
       "    </tr>\n",
       "    <tr>\n",
       "      <th>2</th>\n",
       "      <td>0.595665</td>\n",
       "      <td>0.310376</td>\n",
       "      <td>0.719283</td>\n",
       "      <td>0.726838</td>\n",
       "      <td>0.646611</td>\n",
       "    </tr>\n",
       "    <tr>\n",
       "      <th>3</th>\n",
       "      <td>0.652885</td>\n",
       "      <td>0.106864</td>\n",
       "      <td>0.755165</td>\n",
       "      <td>0.044254</td>\n",
       "      <td>0.735911</td>\n",
       "    </tr>\n",
       "    <tr>\n",
       "      <th>4</th>\n",
       "      <td>0.672025</td>\n",
       "      <td>0.540250</td>\n",
       "      <td>0.660234</td>\n",
       "      <td>0.148890</td>\n",
       "      <td>0.161194</td>\n",
       "    </tr>\n",
       "  </tbody>\n",
       "</table>\n",
       "</div>"
      ],
      "text/plain": [
       "          0         1         2         3         4\n",
       "0  0.329579  0.388073  0.142658  0.497346  0.337940\n",
       "1  0.875608  0.951857  0.403505  0.687571  0.961991\n",
       "2  0.595665  0.310376  0.719283  0.726838  0.646611\n",
       "3  0.652885  0.106864  0.755165  0.044254  0.735911\n",
       "4  0.672025  0.540250  0.660234  0.148890  0.161194"
      ]
     },
     "execution_count": 25,
     "metadata": {},
     "output_type": "execute_result"
    }
   ],
   "source": [
    "import pandas as pd\n",
    "import numpy as np\n",
    "df = pd.DataFrame(np.random.rand(5,5))\n",
    "df"
   ]
  },
  {
   "cell_type": "code",
   "execution_count": 8,
   "id": "84941286",
   "metadata": {},
   "outputs": [
    {
     "name": "stdout",
     "output_type": "stream",
     "text": [
      "[1, 2, 3]\n",
      "<class 'list'>\n",
      "<class 'pandas.core.series.Series'>\n",
      "0    1\n",
      "1    2\n",
      "2    3\n",
      "dtype: int64\n"
     ]
    }
   ],
   "source": [
    "my_list = [1,2,3]\n",
    "print(my_list)\n",
    "print(type(my_list))\n",
    "a = pd.Series(my_list)\n",
    "print(type(a))\n",
    "print(a)"
   ]
  },
  {
   "cell_type": "markdown",
   "id": "fab04d16",
   "metadata": {},
   "source": [
    "### TSV dataframe"
   ]
  },
  {
   "cell_type": "code",
   "execution_count": 211,
   "id": "1ae76bb1",
   "metadata": {},
   "outputs": [
    {
     "data": {
      "text/html": [
       "<div>\n",
       "<style scoped>\n",
       "    .dataframe tbody tr th:only-of-type {\n",
       "        vertical-align: middle;\n",
       "    }\n",
       "\n",
       "    .dataframe tbody tr th {\n",
       "        vertical-align: top;\n",
       "    }\n",
       "\n",
       "    .dataframe thead th {\n",
       "        text-align: right;\n",
       "    }\n",
       "</style>\n",
       "<table border=\"1\" class=\"dataframe\">\n",
       "  <thead>\n",
       "    <tr style=\"text-align: right;\">\n",
       "      <th></th>\n",
       "      <th>order_id</th>\n",
       "      <th>quantity</th>\n",
       "      <th>item_name</th>\n",
       "      <th>choice_description</th>\n",
       "      <th>item_price</th>\n",
       "    </tr>\n",
       "  </thead>\n",
       "  <tbody>\n",
       "    <tr>\n",
       "      <th>0</th>\n",
       "      <td>1</td>\n",
       "      <td>1</td>\n",
       "      <td>Chips and Fresh Tomato Salsa</td>\n",
       "      <td>NaN</td>\n",
       "      <td>$2.39</td>\n",
       "    </tr>\n",
       "    <tr>\n",
       "      <th>1</th>\n",
       "      <td>1</td>\n",
       "      <td>1</td>\n",
       "      <td>Izze</td>\n",
       "      <td>[Clementine]</td>\n",
       "      <td>$3.39</td>\n",
       "    </tr>\n",
       "  </tbody>\n",
       "</table>\n",
       "</div>"
      ],
      "text/plain": [
       "   order_id  quantity                     item_name choice_description  \\\n",
       "0         1         1  Chips and Fresh Tomato Salsa                NaN   \n",
       "1         1         1                          Izze       [Clementine]   \n",
       "\n",
       "  item_price  \n",
       "0     $2.39   \n",
       "1     $3.39   "
      ]
     },
     "execution_count": 211,
     "metadata": {},
     "output_type": "execute_result"
    }
   ],
   "source": [
    "### - From a delimited text file (like TSV)\n",
    "df = pd.read_table(\"https://raw.githubusercontent.com/justmarkham/DAT8/master/data/chipotle.tsv\")\n",
    "df.head(2)"
   ]
  },
  {
   "cell_type": "code",
   "execution_count": 37,
   "id": "a2172c35",
   "metadata": {},
   "outputs": [
    {
     "data": {
      "text/plain": [
       "(4622, 5)"
      ]
     },
     "execution_count": 37,
     "metadata": {},
     "output_type": "execute_result"
    }
   ],
   "source": [
    "df.shape"
   ]
  },
  {
   "cell_type": "code",
   "execution_count": 38,
   "id": "3d5c0c57",
   "metadata": {},
   "outputs": [
    {
     "data": {
      "text/plain": [
       "<bound method DataFrame.info of       order_id  quantity                              item_name  \\\n",
       "0            1         1           Chips and Fresh Tomato Salsa   \n",
       "1            1         1                                   Izze   \n",
       "2            1         1                       Nantucket Nectar   \n",
       "3            1         1  Chips and Tomatillo-Green Chili Salsa   \n",
       "4            2         2                           Chicken Bowl   \n",
       "...        ...       ...                                    ...   \n",
       "4617      1833         1                          Steak Burrito   \n",
       "4618      1833         1                          Steak Burrito   \n",
       "4619      1834         1                     Chicken Salad Bowl   \n",
       "4620      1834         1                     Chicken Salad Bowl   \n",
       "4621      1834         1                     Chicken Salad Bowl   \n",
       "\n",
       "                                     choice_description item_price  \n",
       "0                                                   NaN     $2.39   \n",
       "1                                          [Clementine]     $3.39   \n",
       "2                                               [Apple]     $3.39   \n",
       "3                                                   NaN     $2.39   \n",
       "4     [Tomatillo-Red Chili Salsa (Hot), [Black Beans...    $16.98   \n",
       "...                                                 ...        ...  \n",
       "4617  [Fresh Tomato Salsa, [Rice, Black Beans, Sour ...    $11.75   \n",
       "4618  [Fresh Tomato Salsa, [Rice, Sour Cream, Cheese...    $11.75   \n",
       "4619  [Fresh Tomato Salsa, [Fajita Vegetables, Pinto...    $11.25   \n",
       "4620  [Fresh Tomato Salsa, [Fajita Vegetables, Lettu...     $8.75   \n",
       "4621  [Fresh Tomato Salsa, [Fajita Vegetables, Pinto...     $8.75   \n",
       "\n",
       "[4622 rows x 5 columns]>"
      ]
     },
     "execution_count": 38,
     "metadata": {},
     "output_type": "execute_result"
    }
   ],
   "source": [
    "df.info"
   ]
  },
  {
   "cell_type": "code",
   "execution_count": 40,
   "id": "1244d9fa",
   "metadata": {
    "scrolled": true
   },
   "outputs": [
    {
     "data": {
      "text/plain": [
       "item_price\n",
       "$8.75      730\n",
       "$11.25     521\n",
       "$9.25      398\n",
       "$4.45      349\n",
       "$8.49      311\n",
       "          ... \n",
       "$22.96       1\n",
       "$4.36        1\n",
       "$32.94       1\n",
       "$33.75       1\n",
       "$26.07       1\n",
       "Length: 78, dtype: int64"
      ]
     },
     "execution_count": 40,
     "metadata": {},
     "output_type": "execute_result"
    }
   ],
   "source": [
    "df.value_counts(\"item_price\")"
   ]
  },
  {
   "cell_type": "code",
   "execution_count": 42,
   "id": "e7fd3850",
   "metadata": {},
   "outputs": [
    {
     "data": {
      "text/plain": [
       "item_name\n",
       "Chicken Bowl           726\n",
       "Chicken Burrito        553\n",
       "Chips and Guacamole    479\n",
       "Steak Burrito          368\n",
       "Canned Soft Drink      301\n",
       "dtype: int64"
      ]
     },
     "execution_count": 42,
     "metadata": {},
     "output_type": "execute_result"
    }
   ],
   "source": [
    "df.value_counts(\"item_name\").head(5)"
   ]
  },
  {
   "cell_type": "code",
   "execution_count": 45,
   "id": "5ecced6d",
   "metadata": {},
   "outputs": [
    {
     "data": {
      "text/plain": [
       "0             Chips and Fresh Tomato Salsa\n",
       "1                                     Izze\n",
       "2                         Nantucket Nectar\n",
       "3    Chips and Tomatillo-Green Chili Salsa\n",
       "4                             Chicken Bowl\n",
       "Name: item_name, dtype: object"
      ]
     },
     "execution_count": 45,
     "metadata": {},
     "output_type": "execute_result"
    }
   ],
   "source": [
    "df[\"item_name\"].head(5)"
   ]
  },
  {
   "cell_type": "code",
   "execution_count": 47,
   "id": "79ff0ab9",
   "metadata": {},
   "outputs": [
    {
     "data": {
      "text/html": [
       "<div>\n",
       "<style scoped>\n",
       "    .dataframe tbody tr th:only-of-type {\n",
       "        vertical-align: middle;\n",
       "    }\n",
       "\n",
       "    .dataframe tbody tr th {\n",
       "        vertical-align: top;\n",
       "    }\n",
       "\n",
       "    .dataframe thead th {\n",
       "        text-align: right;\n",
       "    }\n",
       "</style>\n",
       "<table border=\"1\" class=\"dataframe\">\n",
       "  <thead>\n",
       "    <tr style=\"text-align: right;\">\n",
       "      <th></th>\n",
       "      <th>item_name</th>\n",
       "      <th>item_price</th>\n",
       "    </tr>\n",
       "  </thead>\n",
       "  <tbody>\n",
       "    <tr>\n",
       "      <th>0</th>\n",
       "      <td>Chips and Fresh Tomato Salsa</td>\n",
       "      <td>$2.39</td>\n",
       "    </tr>\n",
       "    <tr>\n",
       "      <th>1</th>\n",
       "      <td>Izze</td>\n",
       "      <td>$3.39</td>\n",
       "    </tr>\n",
       "    <tr>\n",
       "      <th>2</th>\n",
       "      <td>Nantucket Nectar</td>\n",
       "      <td>$3.39</td>\n",
       "    </tr>\n",
       "    <tr>\n",
       "      <th>3</th>\n",
       "      <td>Chips and Tomatillo-Green Chili Salsa</td>\n",
       "      <td>$2.39</td>\n",
       "    </tr>\n",
       "    <tr>\n",
       "      <th>4</th>\n",
       "      <td>Chicken Bowl</td>\n",
       "      <td>$16.98</td>\n",
       "    </tr>\n",
       "  </tbody>\n",
       "</table>\n",
       "</div>"
      ],
      "text/plain": [
       "                               item_name item_price\n",
       "0           Chips and Fresh Tomato Salsa     $2.39 \n",
       "1                                   Izze     $3.39 \n",
       "2                       Nantucket Nectar     $3.39 \n",
       "3  Chips and Tomatillo-Green Chili Salsa     $2.39 \n",
       "4                           Chicken Bowl    $16.98 "
      ]
     },
     "execution_count": 47,
     "metadata": {},
     "output_type": "execute_result"
    }
   ],
   "source": [
    "df[[\"item_name\" , \"item_price\"]].head(5)"
   ]
  },
  {
   "cell_type": "code",
   "execution_count": 55,
   "id": "f6dbad70",
   "metadata": {},
   "outputs": [
    {
     "data": {
      "text/html": [
       "<div>\n",
       "<style scoped>\n",
       "    .dataframe tbody tr th:only-of-type {\n",
       "        vertical-align: middle;\n",
       "    }\n",
       "\n",
       "    .dataframe tbody tr th {\n",
       "        vertical-align: top;\n",
       "    }\n",
       "\n",
       "    .dataframe thead th {\n",
       "        text-align: right;\n",
       "    }\n",
       "</style>\n",
       "<table border=\"1\" class=\"dataframe\">\n",
       "  <thead>\n",
       "    <tr style=\"text-align: right;\">\n",
       "      <th></th>\n",
       "      <th>order_id</th>\n",
       "      <th>quantity</th>\n",
       "      <th>item_name</th>\n",
       "      <th>choice_description</th>\n",
       "      <th>item_price</th>\n",
       "    </tr>\n",
       "  </thead>\n",
       "  <tbody>\n",
       "    <tr>\n",
       "      <th>0</th>\n",
       "      <td>1</td>\n",
       "      <td>1</td>\n",
       "      <td>Chips and Fresh Tomato Salsa</td>\n",
       "      <td>NaN</td>\n",
       "      <td>$2.39</td>\n",
       "    </tr>\n",
       "    <tr>\n",
       "      <th>2</th>\n",
       "      <td>1</td>\n",
       "      <td>1</td>\n",
       "      <td>Nantucket Nectar</td>\n",
       "      <td>[Apple]</td>\n",
       "      <td>$3.39</td>\n",
       "    </tr>\n",
       "    <tr>\n",
       "      <th>4</th>\n",
       "      <td>2</td>\n",
       "      <td>2</td>\n",
       "      <td>Chicken Bowl</td>\n",
       "      <td>[Tomatillo-Red Chili Salsa (Hot), [Black Beans...</td>\n",
       "      <td>$16.98</td>\n",
       "    </tr>\n",
       "    <tr>\n",
       "      <th>6</th>\n",
       "      <td>3</td>\n",
       "      <td>1</td>\n",
       "      <td>Side of Chips</td>\n",
       "      <td>NaN</td>\n",
       "      <td>$1.69</td>\n",
       "    </tr>\n",
       "    <tr>\n",
       "      <th>8</th>\n",
       "      <td>4</td>\n",
       "      <td>1</td>\n",
       "      <td>Steak Soft Tacos</td>\n",
       "      <td>[Tomatillo Green Chili Salsa, [Pinto Beans, Ch...</td>\n",
       "      <td>$9.25</td>\n",
       "    </tr>\n",
       "    <tr>\n",
       "      <th>10</th>\n",
       "      <td>5</td>\n",
       "      <td>1</td>\n",
       "      <td>Chips and Guacamole</td>\n",
       "      <td>NaN</td>\n",
       "      <td>$4.45</td>\n",
       "    </tr>\n",
       "  </tbody>\n",
       "</table>\n",
       "</div>"
      ],
      "text/plain": [
       "    order_id  quantity                     item_name  \\\n",
       "0          1         1  Chips and Fresh Tomato Salsa   \n",
       "2          1         1              Nantucket Nectar   \n",
       "4          2         2                  Chicken Bowl   \n",
       "6          3         1                 Side of Chips   \n",
       "8          4         1              Steak Soft Tacos   \n",
       "10         5         1           Chips and Guacamole   \n",
       "\n",
       "                                   choice_description item_price  \n",
       "0                                                 NaN     $2.39   \n",
       "2                                             [Apple]     $3.39   \n",
       "4   [Tomatillo-Red Chili Salsa (Hot), [Black Beans...    $16.98   \n",
       "6                                                 NaN     $1.69   \n",
       "8   [Tomatillo Green Chili Salsa, [Pinto Beans, Ch...     $9.25   \n",
       "10                                                NaN     $4.45   "
      ]
     },
     "execution_count": 55,
     "metadata": {},
     "output_type": "execute_result"
    }
   ],
   "source": [
    "df.loc[0:10:2]"
   ]
  },
  {
   "cell_type": "code",
   "execution_count": 56,
   "id": "ccd9929d",
   "metadata": {
    "scrolled": true
   },
   "outputs": [
    {
     "data": {
      "text/html": [
       "<div>\n",
       "<style scoped>\n",
       "    .dataframe tbody tr th:only-of-type {\n",
       "        vertical-align: middle;\n",
       "    }\n",
       "\n",
       "    .dataframe tbody tr th {\n",
       "        vertical-align: top;\n",
       "    }\n",
       "\n",
       "    .dataframe thead th {\n",
       "        text-align: right;\n",
       "    }\n",
       "</style>\n",
       "<table border=\"1\" class=\"dataframe\">\n",
       "  <thead>\n",
       "    <tr style=\"text-align: right;\">\n",
       "      <th></th>\n",
       "      <th>order_id</th>\n",
       "      <th>quantity</th>\n",
       "      <th>item_name</th>\n",
       "      <th>choice_description</th>\n",
       "      <th>item_price</th>\n",
       "    </tr>\n",
       "  </thead>\n",
       "  <tbody>\n",
       "    <tr>\n",
       "      <th>0</th>\n",
       "      <td>1</td>\n",
       "      <td>1</td>\n",
       "      <td>Chips and Fresh Tomato Salsa</td>\n",
       "      <td>NaN</td>\n",
       "      <td>$2.39</td>\n",
       "    </tr>\n",
       "    <tr>\n",
       "      <th>2</th>\n",
       "      <td>1</td>\n",
       "      <td>1</td>\n",
       "      <td>Nantucket Nectar</td>\n",
       "      <td>[Apple]</td>\n",
       "      <td>$3.39</td>\n",
       "    </tr>\n",
       "    <tr>\n",
       "      <th>4</th>\n",
       "      <td>2</td>\n",
       "      <td>2</td>\n",
       "      <td>Chicken Bowl</td>\n",
       "      <td>[Tomatillo-Red Chili Salsa (Hot), [Black Beans...</td>\n",
       "      <td>$16.98</td>\n",
       "    </tr>\n",
       "    <tr>\n",
       "      <th>6</th>\n",
       "      <td>3</td>\n",
       "      <td>1</td>\n",
       "      <td>Side of Chips</td>\n",
       "      <td>NaN</td>\n",
       "      <td>$1.69</td>\n",
       "    </tr>\n",
       "    <tr>\n",
       "      <th>8</th>\n",
       "      <td>4</td>\n",
       "      <td>1</td>\n",
       "      <td>Steak Soft Tacos</td>\n",
       "      <td>[Tomatillo Green Chili Salsa, [Pinto Beans, Ch...</td>\n",
       "      <td>$9.25</td>\n",
       "    </tr>\n",
       "  </tbody>\n",
       "</table>\n",
       "</div>"
      ],
      "text/plain": [
       "   order_id  quantity                     item_name  \\\n",
       "0         1         1  Chips and Fresh Tomato Salsa   \n",
       "2         1         1              Nantucket Nectar   \n",
       "4         2         2                  Chicken Bowl   \n",
       "6         3         1                 Side of Chips   \n",
       "8         4         1              Steak Soft Tacos   \n",
       "\n",
       "                                  choice_description item_price  \n",
       "0                                                NaN     $2.39   \n",
       "2                                            [Apple]     $3.39   \n",
       "4  [Tomatillo-Red Chili Salsa (Hot), [Black Beans...    $16.98   \n",
       "6                                                NaN     $1.69   \n",
       "8  [Tomatillo Green Chili Salsa, [Pinto Beans, Ch...     $9.25   "
      ]
     },
     "execution_count": 56,
     "metadata": {},
     "output_type": "execute_result"
    }
   ],
   "source": [
    "df.iloc[0:10:2]"
   ]
  },
  {
   "cell_type": "code",
   "execution_count": 57,
   "id": "8167bcd4",
   "metadata": {},
   "outputs": [
    {
     "data": {
      "text/plain": [
       "(4622, 5)"
      ]
     },
     "execution_count": 57,
     "metadata": {},
     "output_type": "execute_result"
    }
   ],
   "source": [
    "df.shape"
   ]
  },
  {
   "cell_type": "code",
   "execution_count": 59,
   "id": "395c0f82",
   "metadata": {},
   "outputs": [
    {
     "data": {
      "text/html": [
       "<div>\n",
       "<style scoped>\n",
       "    .dataframe tbody tr th:only-of-type {\n",
       "        vertical-align: middle;\n",
       "    }\n",
       "\n",
       "    .dataframe tbody tr th {\n",
       "        vertical-align: top;\n",
       "    }\n",
       "\n",
       "    .dataframe thead th {\n",
       "        text-align: right;\n",
       "    }\n",
       "</style>\n",
       "<table border=\"1\" class=\"dataframe\">\n",
       "  <thead>\n",
       "    <tr style=\"text-align: right;\">\n",
       "      <th></th>\n",
       "      <th>order_id</th>\n",
       "      <th>quantity</th>\n",
       "      <th>item_name</th>\n",
       "      <th>choice_description</th>\n",
       "      <th>item_price</th>\n",
       "    </tr>\n",
       "  </thead>\n",
       "  <tbody>\n",
       "    <tr>\n",
       "      <th>0</th>\n",
       "      <td>False</td>\n",
       "      <td>False</td>\n",
       "      <td>False</td>\n",
       "      <td>True</td>\n",
       "      <td>False</td>\n",
       "    </tr>\n",
       "    <tr>\n",
       "      <th>1</th>\n",
       "      <td>False</td>\n",
       "      <td>False</td>\n",
       "      <td>False</td>\n",
       "      <td>False</td>\n",
       "      <td>False</td>\n",
       "    </tr>\n",
       "    <tr>\n",
       "      <th>2</th>\n",
       "      <td>False</td>\n",
       "      <td>False</td>\n",
       "      <td>False</td>\n",
       "      <td>False</td>\n",
       "      <td>False</td>\n",
       "    </tr>\n",
       "    <tr>\n",
       "      <th>3</th>\n",
       "      <td>False</td>\n",
       "      <td>False</td>\n",
       "      <td>False</td>\n",
       "      <td>True</td>\n",
       "      <td>False</td>\n",
       "    </tr>\n",
       "    <tr>\n",
       "      <th>4</th>\n",
       "      <td>False</td>\n",
       "      <td>False</td>\n",
       "      <td>False</td>\n",
       "      <td>False</td>\n",
       "      <td>False</td>\n",
       "    </tr>\n",
       "  </tbody>\n",
       "</table>\n",
       "</div>"
      ],
      "text/plain": [
       "   order_id  quantity  item_name  choice_description  item_price\n",
       "0     False     False      False                True       False\n",
       "1     False     False      False               False       False\n",
       "2     False     False      False               False       False\n",
       "3     False     False      False                True       False\n",
       "4     False     False      False               False       False"
      ]
     },
     "execution_count": 59,
     "metadata": {},
     "output_type": "execute_result"
    }
   ],
   "source": [
    "df.isnull().head()"
   ]
  },
  {
   "cell_type": "code",
   "execution_count": 63,
   "id": "20cb5546",
   "metadata": {},
   "outputs": [
    {
     "data": {
      "text/plain": [
       "0     True\n",
       "1    False\n",
       "2    False\n",
       "3     True\n",
       "4    False\n",
       "Name: choice_description, dtype: bool"
      ]
     },
     "execution_count": 63,
     "metadata": {},
     "output_type": "execute_result"
    }
   ],
   "source": [
    "df[\"choice_description\"].isnull().head()"
   ]
  },
  {
   "cell_type": "code",
   "execution_count": 99,
   "id": "c879d592",
   "metadata": {},
   "outputs": [
    {
     "data": {
      "text/plain": [
       "Int64Index([   0,    3,    6,   10,   14,   15,   20,   25,   30,   32,\n",
       "            ...\n",
       "            4582, 4584, 4588, 4596, 4598, 4600, 4605, 4613, 4614, 4616],\n",
       "           dtype='int64', length=1246)"
      ]
     },
     "execution_count": 99,
     "metadata": {},
     "output_type": "execute_result"
    }
   ],
   "source": [
    "a = df[df[\"choice_description\"].isnull()].index\n",
    "a"
   ]
  },
  {
   "cell_type": "code",
   "execution_count": 103,
   "id": "fe645010",
   "metadata": {},
   "outputs": [
    {
     "data": {
      "text/html": [
       "<div>\n",
       "<style scoped>\n",
       "    .dataframe tbody tr th:only-of-type {\n",
       "        vertical-align: middle;\n",
       "    }\n",
       "\n",
       "    .dataframe tbody tr th {\n",
       "        vertical-align: top;\n",
       "    }\n",
       "\n",
       "    .dataframe thead th {\n",
       "        text-align: right;\n",
       "    }\n",
       "</style>\n",
       "<table border=\"1\" class=\"dataframe\">\n",
       "  <thead>\n",
       "    <tr style=\"text-align: right;\">\n",
       "      <th></th>\n",
       "      <th>order_id</th>\n",
       "      <th>quantity</th>\n",
       "      <th>item_name</th>\n",
       "      <th>choice_description</th>\n",
       "      <th>item_price</th>\n",
       "    </tr>\n",
       "  </thead>\n",
       "  <tbody>\n",
       "    <tr>\n",
       "      <th>0</th>\n",
       "      <td>1</td>\n",
       "      <td>1</td>\n",
       "      <td>Chips and Fresh Tomato Salsa</td>\n",
       "      <td>NaN</td>\n",
       "      <td>$2.39</td>\n",
       "    </tr>\n",
       "    <tr>\n",
       "      <th>3</th>\n",
       "      <td>1</td>\n",
       "      <td>1</td>\n",
       "      <td>Chips and Tomatillo-Green Chili Salsa</td>\n",
       "      <td>NaN</td>\n",
       "      <td>$2.39</td>\n",
       "    </tr>\n",
       "    <tr>\n",
       "      <th>6</th>\n",
       "      <td>3</td>\n",
       "      <td>1</td>\n",
       "      <td>Side of Chips</td>\n",
       "      <td>NaN</td>\n",
       "      <td>$1.69</td>\n",
       "    </tr>\n",
       "    <tr>\n",
       "      <th>10</th>\n",
       "      <td>5</td>\n",
       "      <td>1</td>\n",
       "      <td>Chips and Guacamole</td>\n",
       "      <td>NaN</td>\n",
       "      <td>$4.45</td>\n",
       "    </tr>\n",
       "    <tr>\n",
       "      <th>14</th>\n",
       "      <td>7</td>\n",
       "      <td>1</td>\n",
       "      <td>Chips and Guacamole</td>\n",
       "      <td>NaN</td>\n",
       "      <td>$4.45</td>\n",
       "    </tr>\n",
       "  </tbody>\n",
       "</table>\n",
       "</div>"
      ],
      "text/plain": [
       "    order_id  quantity                              item_name  \\\n",
       "0          1         1           Chips and Fresh Tomato Salsa   \n",
       "3          1         1  Chips and Tomatillo-Green Chili Salsa   \n",
       "6          3         1                          Side of Chips   \n",
       "10         5         1                    Chips and Guacamole   \n",
       "14         7         1                    Chips and Guacamole   \n",
       "\n",
       "   choice_description item_price  \n",
       "0                 NaN     $2.39   \n",
       "3                 NaN     $2.39   \n",
       "6                 NaN     $1.69   \n",
       "10                NaN     $4.45   \n",
       "14                NaN     $4.45   "
      ]
     },
     "execution_count": 103,
     "metadata": {},
     "output_type": "execute_result"
    }
   ],
   "source": [
    "df.iloc[a].head(5)"
   ]
  },
  {
   "cell_type": "code",
   "execution_count": 104,
   "id": "aeb11bd3",
   "metadata": {},
   "outputs": [
    {
     "data": {
      "text/plain": [
       "1246"
      ]
     },
     "execution_count": 104,
     "metadata": {},
     "output_type": "execute_result"
    }
   ],
   "source": [
    "len(df[df[\"choice_description\"].isnull()].index)"
   ]
  },
  {
   "cell_type": "code",
   "execution_count": 74,
   "id": "39960ba2",
   "metadata": {},
   "outputs": [
    {
     "data": {
      "text/plain": [
       "(4622, 5)"
      ]
     },
     "execution_count": 74,
     "metadata": {},
     "output_type": "execute_result"
    }
   ],
   "source": [
    "df.shape"
   ]
  },
  {
   "cell_type": "code",
   "execution_count": 105,
   "id": "82e680a6",
   "metadata": {},
   "outputs": [],
   "source": [
    "df1 = df"
   ]
  },
  {
   "cell_type": "code",
   "execution_count": 73,
   "id": "0607c902",
   "metadata": {},
   "outputs": [
    {
     "data": {
      "text/plain": [
       "(3376, 5)"
      ]
     },
     "execution_count": 73,
     "metadata": {},
     "output_type": "execute_result"
    }
   ],
   "source": [
    "df1.dropna().shape"
   ]
  },
  {
   "cell_type": "code",
   "execution_count": 75,
   "id": "d62215d5",
   "metadata": {},
   "outputs": [
    {
     "data": {
      "text/plain": [
       "1246"
      ]
     },
     "execution_count": 75,
     "metadata": {},
     "output_type": "execute_result"
    }
   ],
   "source": [
    "4622 - 3376"
   ]
  },
  {
   "cell_type": "code",
   "execution_count": 84,
   "id": "0bcd076c",
   "metadata": {},
   "outputs": [
    {
     "data": {
      "text/plain": [
       "(4622, 5)"
      ]
     },
     "execution_count": 84,
     "metadata": {},
     "output_type": "execute_result"
    }
   ],
   "source": [
    "df.shape"
   ]
  },
  {
   "cell_type": "code",
   "execution_count": 80,
   "id": "ee0ec343",
   "metadata": {},
   "outputs": [],
   "source": [
    "df2 = df"
   ]
  },
  {
   "cell_type": "code",
   "execution_count": 83,
   "id": "a9dd659a",
   "metadata": {},
   "outputs": [
    {
     "data": {
      "text/plain": [
       "(4622, 4)"
      ]
     },
     "execution_count": 83,
     "metadata": {},
     "output_type": "execute_result"
    }
   ],
   "source": [
    "a = df2.dropna(axis=1)\n",
    "a.shape"
   ]
  },
  {
   "cell_type": "code",
   "execution_count": 89,
   "id": "7103d310",
   "metadata": {},
   "outputs": [
    {
     "data": {
      "text/plain": [
       "(4622, 5)"
      ]
     },
     "execution_count": 89,
     "metadata": {},
     "output_type": "execute_result"
    }
   ],
   "source": [
    "b = df1.dropna(axis=1,thresh=3)\n",
    "b.shape"
   ]
  },
  {
   "cell_type": "code",
   "execution_count": 93,
   "id": "ab1f22c9",
   "metadata": {},
   "outputs": [
    {
     "data": {
      "text/html": [
       "<div>\n",
       "<style scoped>\n",
       "    .dataframe tbody tr th:only-of-type {\n",
       "        vertical-align: middle;\n",
       "    }\n",
       "\n",
       "    .dataframe tbody tr th {\n",
       "        vertical-align: top;\n",
       "    }\n",
       "\n",
       "    .dataframe thead th {\n",
       "        text-align: right;\n",
       "    }\n",
       "</style>\n",
       "<table border=\"1\" class=\"dataframe\">\n",
       "  <thead>\n",
       "    <tr style=\"text-align: right;\">\n",
       "      <th></th>\n",
       "      <th>order_id</th>\n",
       "      <th>quantity</th>\n",
       "      <th>item_name</th>\n",
       "      <th>choice_description</th>\n",
       "      <th>item_price</th>\n",
       "    </tr>\n",
       "  </thead>\n",
       "  <tbody>\n",
       "    <tr>\n",
       "      <th>0</th>\n",
       "      <td>1</td>\n",
       "      <td>1</td>\n",
       "      <td>Chips and Fresh Tomato Salsa</td>\n",
       "      <td>ABC</td>\n",
       "      <td>$2.39</td>\n",
       "    </tr>\n",
       "    <tr>\n",
       "      <th>1</th>\n",
       "      <td>1</td>\n",
       "      <td>1</td>\n",
       "      <td>Izze</td>\n",
       "      <td>[Clementine]</td>\n",
       "      <td>$3.39</td>\n",
       "    </tr>\n",
       "  </tbody>\n",
       "</table>\n",
       "</div>"
      ],
      "text/plain": [
       "   order_id  quantity                     item_name choice_description  \\\n",
       "0         1         1  Chips and Fresh Tomato Salsa                ABC   \n",
       "1         1         1                          Izze       [Clementine]   \n",
       "\n",
       "  item_price  \n",
       "0     $2.39   \n",
       "1     $3.39   "
      ]
     },
     "execution_count": 93,
     "metadata": {},
     "output_type": "execute_result"
    }
   ],
   "source": [
    "df2 = df1.fillna(\"ABC\")\n",
    "df2.head(2)"
   ]
  },
  {
   "cell_type": "code",
   "execution_count": 115,
   "id": "259b27dd",
   "metadata": {},
   "outputs": [
    {
     "data": {
      "text/html": [
       "<div>\n",
       "<style scoped>\n",
       "    .dataframe tbody tr th:only-of-type {\n",
       "        vertical-align: middle;\n",
       "    }\n",
       "\n",
       "    .dataframe tbody tr th {\n",
       "        vertical-align: top;\n",
       "    }\n",
       "\n",
       "    .dataframe thead th {\n",
       "        text-align: right;\n",
       "    }\n",
       "</style>\n",
       "<table border=\"1\" class=\"dataframe\">\n",
       "  <thead>\n",
       "    <tr style=\"text-align: right;\">\n",
       "      <th></th>\n",
       "      <th>order_id</th>\n",
       "      <th>quantity</th>\n",
       "    </tr>\n",
       "  </thead>\n",
       "  <tbody>\n",
       "    <tr>\n",
       "      <th>0</th>\n",
       "      <td>1.0</td>\n",
       "      <td>1.0</td>\n",
       "    </tr>\n",
       "    <tr>\n",
       "      <th>1</th>\n",
       "      <td>1.0</td>\n",
       "      <td>1.0</td>\n",
       "    </tr>\n",
       "    <tr>\n",
       "      <th>2</th>\n",
       "      <td>1.0</td>\n",
       "      <td>1.0</td>\n",
       "    </tr>\n",
       "    <tr>\n",
       "      <th>3</th>\n",
       "      <td>1.0</td>\n",
       "      <td>1.0</td>\n",
       "    </tr>\n",
       "    <tr>\n",
       "      <th>4</th>\n",
       "      <td>2.0</td>\n",
       "      <td>2.0</td>\n",
       "    </tr>\n",
       "  </tbody>\n",
       "</table>\n",
       "</div>"
      ],
      "text/plain": [
       "   order_id  quantity\n",
       "0       1.0       1.0\n",
       "1       1.0       1.0\n",
       "2       1.0       1.0\n",
       "3       1.0       1.0\n",
       "4       2.0       2.0"
      ]
     },
     "execution_count": 115,
     "metadata": {},
     "output_type": "execute_result"
    }
   ],
   "source": [
    "df3 = df1[[\"order_id\",\"quantity\"]].astype(float)\n",
    "df3.head()"
   ]
  },
  {
   "cell_type": "code",
   "execution_count": 118,
   "id": "c8aa5a3a",
   "metadata": {},
   "outputs": [
    {
     "data": {
      "text/html": [
       "<div>\n",
       "<style scoped>\n",
       "    .dataframe tbody tr th:only-of-type {\n",
       "        vertical-align: middle;\n",
       "    }\n",
       "\n",
       "    .dataframe tbody tr th {\n",
       "        vertical-align: top;\n",
       "    }\n",
       "\n",
       "    .dataframe thead th {\n",
       "        text-align: right;\n",
       "    }\n",
       "</style>\n",
       "<table border=\"1\" class=\"dataframe\">\n",
       "  <thead>\n",
       "    <tr style=\"text-align: right;\">\n",
       "      <th></th>\n",
       "      <th>order_id</th>\n",
       "      <th>quantity</th>\n",
       "    </tr>\n",
       "  </thead>\n",
       "  <tbody>\n",
       "    <tr>\n",
       "      <th>0</th>\n",
       "      <td>one</td>\n",
       "      <td>one</td>\n",
       "    </tr>\n",
       "    <tr>\n",
       "      <th>1</th>\n",
       "      <td>one</td>\n",
       "      <td>one</td>\n",
       "    </tr>\n",
       "    <tr>\n",
       "      <th>2</th>\n",
       "      <td>one</td>\n",
       "      <td>one</td>\n",
       "    </tr>\n",
       "    <tr>\n",
       "      <th>3</th>\n",
       "      <td>one</td>\n",
       "      <td>one</td>\n",
       "    </tr>\n",
       "    <tr>\n",
       "      <th>4</th>\n",
       "      <td>2</td>\n",
       "      <td>2</td>\n",
       "    </tr>\n",
       "  </tbody>\n",
       "</table>\n",
       "</div>"
      ],
      "text/plain": [
       "  order_id quantity\n",
       "0      one      one\n",
       "1      one      one\n",
       "2      one      one\n",
       "3      one      one\n",
       "4        2        2"
      ]
     },
     "execution_count": 118,
     "metadata": {},
     "output_type": "execute_result"
    }
   ],
   "source": [
    "df3.replace(1,'one').head(5)"
   ]
  },
  {
   "cell_type": "code",
   "execution_count": 119,
   "id": "5ed13e4c",
   "metadata": {},
   "outputs": [
    {
     "data": {
      "text/html": [
       "<div>\n",
       "<style scoped>\n",
       "    .dataframe tbody tr th:only-of-type {\n",
       "        vertical-align: middle;\n",
       "    }\n",
       "\n",
       "    .dataframe tbody tr th {\n",
       "        vertical-align: top;\n",
       "    }\n",
       "\n",
       "    .dataframe thead th {\n",
       "        text-align: right;\n",
       "    }\n",
       "</style>\n",
       "<table border=\"1\" class=\"dataframe\">\n",
       "  <thead>\n",
       "    <tr style=\"text-align: right;\">\n",
       "      <th></th>\n",
       "      <th>order_id</th>\n",
       "      <th>quantity</th>\n",
       "      <th>item_name</th>\n",
       "      <th>choice_description</th>\n",
       "      <th>item_price</th>\n",
       "    </tr>\n",
       "  </thead>\n",
       "  <tbody>\n",
       "    <tr>\n",
       "      <th>0</th>\n",
       "      <td>1</td>\n",
       "      <td>1</td>\n",
       "      <td>Chips and Fresh Tomato Salsa</td>\n",
       "      <td>ABC</td>\n",
       "      <td>$2.39</td>\n",
       "    </tr>\n",
       "    <tr>\n",
       "      <th>1</th>\n",
       "      <td>1</td>\n",
       "      <td>1</td>\n",
       "      <td>Izze</td>\n",
       "      <td>[Clementine]</td>\n",
       "      <td>$3.39</td>\n",
       "    </tr>\n",
       "  </tbody>\n",
       "</table>\n",
       "</div>"
      ],
      "text/plain": [
       "   order_id  quantity                     item_name choice_description  \\\n",
       "0         1         1  Chips and Fresh Tomato Salsa                ABC   \n",
       "1         1         1                          Izze       [Clementine]   \n",
       "\n",
       "  item_price  \n",
       "0     $2.39   \n",
       "1     $3.39   "
      ]
     },
     "execution_count": 119,
     "metadata": {},
     "output_type": "execute_result"
    }
   ],
   "source": [
    "df2.head(2)"
   ]
  },
  {
   "cell_type": "code",
   "execution_count": 121,
   "id": "61d538a6",
   "metadata": {},
   "outputs": [
    {
     "data": {
      "text/html": [
       "<div>\n",
       "<style scoped>\n",
       "    .dataframe tbody tr th:only-of-type {\n",
       "        vertical-align: middle;\n",
       "    }\n",
       "\n",
       "    .dataframe tbody tr th {\n",
       "        vertical-align: top;\n",
       "    }\n",
       "\n",
       "    .dataframe thead th {\n",
       "        text-align: right;\n",
       "    }\n",
       "</style>\n",
       "<table border=\"1\" class=\"dataframe\">\n",
       "  <thead>\n",
       "    <tr style=\"text-align: right;\">\n",
       "      <th></th>\n",
       "      <th>order_id</th>\n",
       "      <th>quantity</th>\n",
       "      <th>item_name</th>\n",
       "      <th>choice_description</th>\n",
       "      <th>item_price</th>\n",
       "    </tr>\n",
       "  </thead>\n",
       "  <tbody>\n",
       "    <tr>\n",
       "      <th>0</th>\n",
       "      <td>one</td>\n",
       "      <td>one</td>\n",
       "      <td>Veg</td>\n",
       "      <td>XYZ</td>\n",
       "      <td>$2.39</td>\n",
       "    </tr>\n",
       "    <tr>\n",
       "      <th>1</th>\n",
       "      <td>one</td>\n",
       "      <td>one</td>\n",
       "      <td>Izze</td>\n",
       "      <td>[Clementine]</td>\n",
       "      <td>$3.39</td>\n",
       "    </tr>\n",
       "  </tbody>\n",
       "</table>\n",
       "</div>"
      ],
      "text/plain": [
       "  order_id quantity item_name choice_description item_price\n",
       "0      one      one       Veg                XYZ     $2.39 \n",
       "1      one      one      Izze       [Clementine]     $3.39 "
      ]
     },
     "execution_count": 121,
     "metadata": {},
     "output_type": "execute_result"
    }
   ],
   "source": [
    "df2.replace([1,\"Chips and Fresh Tomato Salsa\",\"ABC\"],[\"one\",\"Veg\",\"XYZ\"]).head(2)"
   ]
  },
  {
   "cell_type": "code",
   "execution_count": 131,
   "id": "1a50a3b3",
   "metadata": {},
   "outputs": [
    {
     "data": {
      "text/html": [
       "<div>\n",
       "<style scoped>\n",
       "    .dataframe tbody tr th:only-of-type {\n",
       "        vertical-align: middle;\n",
       "    }\n",
       "\n",
       "    .dataframe tbody tr th {\n",
       "        vertical-align: top;\n",
       "    }\n",
       "\n",
       "    .dataframe thead th {\n",
       "        text-align: right;\n",
       "    }\n",
       "</style>\n",
       "<table border=\"1\" class=\"dataframe\">\n",
       "  <thead>\n",
       "    <tr style=\"text-align: right;\">\n",
       "      <th></th>\n",
       "      <th>id</th>\n",
       "      <th>quantity</th>\n",
       "      <th>item_name</th>\n",
       "      <th>choice_description</th>\n",
       "      <th>item_price</th>\n",
       "    </tr>\n",
       "  </thead>\n",
       "  <tbody>\n",
       "    <tr>\n",
       "      <th>0</th>\n",
       "      <td>1</td>\n",
       "      <td>1</td>\n",
       "      <td>Chips and Fresh Tomato Salsa</td>\n",
       "      <td>ABC</td>\n",
       "      <td>$2.39</td>\n",
       "    </tr>\n",
       "    <tr>\n",
       "      <th>1</th>\n",
       "      <td>1</td>\n",
       "      <td>1</td>\n",
       "      <td>Izze</td>\n",
       "      <td>[Clementine]</td>\n",
       "      <td>$3.39</td>\n",
       "    </tr>\n",
       "  </tbody>\n",
       "</table>\n",
       "</div>"
      ],
      "text/plain": [
       "   id  quantity                     item_name choice_description item_price\n",
       "0   1         1  Chips and Fresh Tomato Salsa                ABC     $2.39 \n",
       "1   1         1                          Izze       [Clementine]     $3.39 "
      ]
     },
     "execution_count": 131,
     "metadata": {},
     "output_type": "execute_result"
    }
   ],
   "source": [
    "df2.rename(columns={'order_id': 'id'}).head(2)"
   ]
  },
  {
   "cell_type": "code",
   "execution_count": 135,
   "id": "eda7e4eb",
   "metadata": {},
   "outputs": [
    {
     "data": {
      "text/html": [
       "<div>\n",
       "<style scoped>\n",
       "    .dataframe tbody tr th:only-of-type {\n",
       "        vertical-align: middle;\n",
       "    }\n",
       "\n",
       "    .dataframe tbody tr th {\n",
       "        vertical-align: top;\n",
       "    }\n",
       "\n",
       "    .dataframe thead th {\n",
       "        text-align: right;\n",
       "    }\n",
       "</style>\n",
       "<table border=\"1\" class=\"dataframe\">\n",
       "  <thead>\n",
       "    <tr style=\"text-align: right;\">\n",
       "      <th></th>\n",
       "      <th>quantity</th>\n",
       "      <th>item_name</th>\n",
       "      <th>choice_description</th>\n",
       "      <th>item_price</th>\n",
       "    </tr>\n",
       "    <tr>\n",
       "      <th>order_id</th>\n",
       "      <th></th>\n",
       "      <th></th>\n",
       "      <th></th>\n",
       "      <th></th>\n",
       "    </tr>\n",
       "  </thead>\n",
       "  <tbody>\n",
       "    <tr>\n",
       "      <th>1</th>\n",
       "      <td>1</td>\n",
       "      <td>Chips and Fresh Tomato Salsa</td>\n",
       "      <td>ABC</td>\n",
       "      <td>$2.39</td>\n",
       "    </tr>\n",
       "    <tr>\n",
       "      <th>1</th>\n",
       "      <td>1</td>\n",
       "      <td>Izze</td>\n",
       "      <td>[Clementine]</td>\n",
       "      <td>$3.39</td>\n",
       "    </tr>\n",
       "  </tbody>\n",
       "</table>\n",
       "</div>"
      ],
      "text/plain": [
       "          quantity                     item_name choice_description item_price\n",
       "order_id                                                                      \n",
       "1                1  Chips and Fresh Tomato Salsa                ABC     $2.39 \n",
       "1                1                          Izze       [Clementine]     $3.39 "
      ]
     },
     "execution_count": 135,
     "metadata": {},
     "output_type": "execute_result"
    }
   ],
   "source": [
    "df2.set_index('order_id').head(2)"
   ]
  },
  {
   "cell_type": "code",
   "execution_count": null,
   "id": "5714b2ad",
   "metadata": {},
   "outputs": [],
   "source": [
    "Chicken Bowl"
   ]
  },
  {
   "cell_type": "code",
   "execution_count": 147,
   "id": "c41af4ac",
   "metadata": {},
   "outputs": [
    {
     "data": {
      "text/html": [
       "<div>\n",
       "<style scoped>\n",
       "    .dataframe tbody tr th:only-of-type {\n",
       "        vertical-align: middle;\n",
       "    }\n",
       "\n",
       "    .dataframe tbody tr th {\n",
       "        vertical-align: top;\n",
       "    }\n",
       "\n",
       "    .dataframe thead th {\n",
       "        text-align: right;\n",
       "    }\n",
       "</style>\n",
       "<table border=\"1\" class=\"dataframe\">\n",
       "  <thead>\n",
       "    <tr style=\"text-align: right;\">\n",
       "      <th></th>\n",
       "      <th>order_id</th>\n",
       "      <th>quantity</th>\n",
       "      <th>item_name</th>\n",
       "      <th>choice_description</th>\n",
       "      <th>item_price</th>\n",
       "    </tr>\n",
       "  </thead>\n",
       "  <tbody>\n",
       "    <tr>\n",
       "      <th>4</th>\n",
       "      <td>2</td>\n",
       "      <td>2</td>\n",
       "      <td>Chicken Bowl</td>\n",
       "      <td>[Tomatillo-Red Chili Salsa (Hot), [Black Beans...</td>\n",
       "      <td>$16.98</td>\n",
       "    </tr>\n",
       "    <tr>\n",
       "      <th>5</th>\n",
       "      <td>3</td>\n",
       "      <td>1</td>\n",
       "      <td>Chicken Bowl</td>\n",
       "      <td>[Fresh Tomato Salsa (Mild), [Rice, Cheese, Sou...</td>\n",
       "      <td>$10.98</td>\n",
       "    </tr>\n",
       "  </tbody>\n",
       "</table>\n",
       "</div>"
      ],
      "text/plain": [
       "   order_id  quantity     item_name  \\\n",
       "4         2         2  Chicken Bowl   \n",
       "5         3         1  Chicken Bowl   \n",
       "\n",
       "                                  choice_description item_price  \n",
       "4  [Tomatillo-Red Chili Salsa (Hot), [Black Beans...    $16.98   \n",
       "5  [Fresh Tomato Salsa (Mild), [Rice, Cheese, Sou...    $10.98   "
      ]
     },
     "execution_count": 147,
     "metadata": {},
     "output_type": "execute_result"
    }
   ],
   "source": [
    "df[df[\"item_name\"] == \"Chicken Bowl\"].head(2)"
   ]
  },
  {
   "cell_type": "code",
   "execution_count": 148,
   "id": "c259d913",
   "metadata": {},
   "outputs": [],
   "source": [
    "df25 = df[df[\"item_name\"] == \"Chicken Bowl\"]"
   ]
  },
  {
   "cell_type": "code",
   "execution_count": 149,
   "id": "d84784ad",
   "metadata": {},
   "outputs": [
    {
     "data": {
      "text/html": [
       "<div>\n",
       "<style scoped>\n",
       "    .dataframe tbody tr th:only-of-type {\n",
       "        vertical-align: middle;\n",
       "    }\n",
       "\n",
       "    .dataframe tbody tr th {\n",
       "        vertical-align: top;\n",
       "    }\n",
       "\n",
       "    .dataframe thead th {\n",
       "        text-align: right;\n",
       "    }\n",
       "</style>\n",
       "<table border=\"1\" class=\"dataframe\">\n",
       "  <thead>\n",
       "    <tr style=\"text-align: right;\">\n",
       "      <th></th>\n",
       "      <th>order_id</th>\n",
       "      <th>quantity</th>\n",
       "      <th>item_name</th>\n",
       "      <th>choice_description</th>\n",
       "      <th>item_price</th>\n",
       "    </tr>\n",
       "  </thead>\n",
       "  <tbody>\n",
       "    <tr>\n",
       "      <th>4</th>\n",
       "      <td>2</td>\n",
       "      <td>2</td>\n",
       "      <td>Chicken Bowl</td>\n",
       "      <td>[Tomatillo-Red Chili Salsa (Hot), [Black Beans...</td>\n",
       "      <td>$16.98</td>\n",
       "    </tr>\n",
       "    <tr>\n",
       "      <th>5</th>\n",
       "      <td>3</td>\n",
       "      <td>1</td>\n",
       "      <td>Chicken Bowl</td>\n",
       "      <td>[Fresh Tomato Salsa (Mild), [Rice, Cheese, Sou...</td>\n",
       "      <td>$10.98</td>\n",
       "    </tr>\n",
       "  </tbody>\n",
       "</table>\n",
       "</div>"
      ],
      "text/plain": [
       "   order_id  quantity     item_name  \\\n",
       "4         2         2  Chicken Bowl   \n",
       "5         3         1  Chicken Bowl   \n",
       "\n",
       "                                  choice_description item_price  \n",
       "4  [Tomatillo-Red Chili Salsa (Hot), [Black Beans...    $16.98   \n",
       "5  [Fresh Tomato Salsa (Mild), [Rice, Cheese, Sou...    $10.98   "
      ]
     },
     "execution_count": 149,
     "metadata": {},
     "output_type": "execute_result"
    }
   ],
   "source": [
    "df25.head(2)"
   ]
  },
  {
   "cell_type": "code",
   "execution_count": 178,
   "id": "7fe83102",
   "metadata": {},
   "outputs": [
    {
     "data": {
      "text/html": [
       "<div>\n",
       "<style scoped>\n",
       "    .dataframe tbody tr th:only-of-type {\n",
       "        vertical-align: middle;\n",
       "    }\n",
       "\n",
       "    .dataframe tbody tr th {\n",
       "        vertical-align: top;\n",
       "    }\n",
       "\n",
       "    .dataframe thead th {\n",
       "        text-align: right;\n",
       "    }\n",
       "</style>\n",
       "<table border=\"1\" class=\"dataframe\">\n",
       "  <thead>\n",
       "    <tr style=\"text-align: right;\">\n",
       "      <th></th>\n",
       "      <th>order_id</th>\n",
       "      <th>quantity</th>\n",
       "      <th>item_name</th>\n",
       "      <th>choice_description</th>\n",
       "      <th>item_price</th>\n",
       "    </tr>\n",
       "  </thead>\n",
       "  <tbody>\n",
       "    <tr>\n",
       "      <th>409</th>\n",
       "      <td>178</td>\n",
       "      <td>3</td>\n",
       "      <td>Chicken Bowl</td>\n",
       "      <td>[[Fresh Tomato Salsa (Mild), Tomatillo-Green C...</td>\n",
       "      <td>$32.94</td>\n",
       "    </tr>\n",
       "    <tr>\n",
       "      <th>1514</th>\n",
       "      <td>616</td>\n",
       "      <td>3</td>\n",
       "      <td>Chicken Bowl</td>\n",
       "      <td>[Fresh Tomato Salsa, [Rice, Black Beans, Chees...</td>\n",
       "      <td>$26.25</td>\n",
       "    </tr>\n",
       "  </tbody>\n",
       "</table>\n",
       "</div>"
      ],
      "text/plain": [
       "      order_id  quantity     item_name  \\\n",
       "409        178         3  Chicken Bowl   \n",
       "1514       616         3  Chicken Bowl   \n",
       "\n",
       "                                     choice_description item_price  \n",
       "409   [[Fresh Tomato Salsa (Mild), Tomatillo-Green C...    $32.94   \n",
       "1514  [Fresh Tomato Salsa, [Rice, Black Beans, Chees...    $26.25   "
      ]
     },
     "execution_count": 178,
     "metadata": {},
     "output_type": "execute_result"
    }
   ],
   "source": [
    "df25[df25[\"quantity\"] > 2]"
   ]
  },
  {
   "cell_type": "code",
   "execution_count": 181,
   "id": "e2618d3a",
   "metadata": {},
   "outputs": [
    {
     "data": {
      "text/html": [
       "<div>\n",
       "<style scoped>\n",
       "    .dataframe tbody tr th:only-of-type {\n",
       "        vertical-align: middle;\n",
       "    }\n",
       "\n",
       "    .dataframe tbody tr th {\n",
       "        vertical-align: top;\n",
       "    }\n",
       "\n",
       "    .dataframe thead th {\n",
       "        text-align: right;\n",
       "    }\n",
       "</style>\n",
       "<table border=\"1\" class=\"dataframe\">\n",
       "  <thead>\n",
       "    <tr style=\"text-align: right;\">\n",
       "      <th></th>\n",
       "      <th>order_id</th>\n",
       "      <th>quantity</th>\n",
       "      <th>item_name</th>\n",
       "      <th>choice_description</th>\n",
       "      <th>item_price</th>\n",
       "    </tr>\n",
       "  </thead>\n",
       "  <tbody>\n",
       "    <tr>\n",
       "      <th>0</th>\n",
       "      <td>1</td>\n",
       "      <td>1</td>\n",
       "      <td>Chips and Fresh Tomato Salsa</td>\n",
       "      <td>NaN</td>\n",
       "      <td>$2.39</td>\n",
       "    </tr>\n",
       "    <tr>\n",
       "      <th>1</th>\n",
       "      <td>1</td>\n",
       "      <td>1</td>\n",
       "      <td>Izze</td>\n",
       "      <td>[Clementine]</td>\n",
       "      <td>$3.39</td>\n",
       "    </tr>\n",
       "  </tbody>\n",
       "</table>\n",
       "</div>"
      ],
      "text/plain": [
       "   order_id  quantity                     item_name choice_description  \\\n",
       "0         1         1  Chips and Fresh Tomato Salsa                NaN   \n",
       "1         1         1                          Izze       [Clementine]   \n",
       "\n",
       "  item_price  \n",
       "0     $2.39   \n",
       "1     $3.39   "
      ]
     },
     "execution_count": 181,
     "metadata": {},
     "output_type": "execute_result"
    }
   ],
   "source": [
    "df.head(2)"
   ]
  },
  {
   "cell_type": "code",
   "execution_count": 183,
   "id": "d0fb570a",
   "metadata": {},
   "outputs": [
    {
     "data": {
      "text/plain": [
       "order_id               int64\n",
       "quantity               int64\n",
       "item_name             object\n",
       "choice_description    object\n",
       "item_price            object\n",
       "dtype: object"
      ]
     },
     "execution_count": 183,
     "metadata": {},
     "output_type": "execute_result"
    }
   ],
   "source": [
    "df.dtypes"
   ]
  },
  {
   "cell_type": "code",
   "execution_count": 190,
   "id": "39d5c0b8",
   "metadata": {},
   "outputs": [
    {
     "data": {
      "text/plain": [
       "'2.39 '"
      ]
     },
     "execution_count": 190,
     "metadata": {},
     "output_type": "execute_result"
    }
   ],
   "source": [
    "df[\"item_price\"][0][1:]"
   ]
  },
  {
   "cell_type": "code",
   "execution_count": 191,
   "id": "c3313528",
   "metadata": {},
   "outputs": [
    {
     "data": {
      "text/plain": [
       "2.39"
      ]
     },
     "execution_count": 191,
     "metadata": {},
     "output_type": "execute_result"
    }
   ],
   "source": [
    "float(df[\"item_price\"][0][1:])"
   ]
  },
  {
   "cell_type": "code",
   "execution_count": 212,
   "id": "eea195db",
   "metadata": {},
   "outputs": [
    {
     "data": {
      "text/plain": [
       "(4622, 5)"
      ]
     },
     "execution_count": 212,
     "metadata": {},
     "output_type": "execute_result"
    }
   ],
   "source": [
    "df.shape"
   ]
  },
  {
   "cell_type": "code",
   "execution_count": 213,
   "id": "1c07fd85",
   "metadata": {},
   "outputs": [],
   "source": [
    "l = []\n",
    "for i in range(df.shape[0]):\n",
    "    l.append(float(df[\"item_price\"][i][1:]))"
   ]
  },
  {
   "cell_type": "code",
   "execution_count": 201,
   "id": "5ec2ce8c",
   "metadata": {},
   "outputs": [
    {
     "data": {
      "text/plain": [
       "[2.39, 3.39, 3.39, 2.39, 16.98]"
      ]
     },
     "execution_count": 201,
     "metadata": {},
     "output_type": "execute_result"
    }
   ],
   "source": [
    "l[0:5]"
   ]
  },
  {
   "cell_type": "code",
   "execution_count": 215,
   "id": "5a3c280a",
   "metadata": {},
   "outputs": [],
   "source": [
    "df[\"float_item_price\"] = l"
   ]
  },
  {
   "cell_type": "code",
   "execution_count": 216,
   "id": "9365cea6",
   "metadata": {},
   "outputs": [
    {
     "data": {
      "text/html": [
       "<div>\n",
       "<style scoped>\n",
       "    .dataframe tbody tr th:only-of-type {\n",
       "        vertical-align: middle;\n",
       "    }\n",
       "\n",
       "    .dataframe tbody tr th {\n",
       "        vertical-align: top;\n",
       "    }\n",
       "\n",
       "    .dataframe thead th {\n",
       "        text-align: right;\n",
       "    }\n",
       "</style>\n",
       "<table border=\"1\" class=\"dataframe\">\n",
       "  <thead>\n",
       "    <tr style=\"text-align: right;\">\n",
       "      <th></th>\n",
       "      <th>order_id</th>\n",
       "      <th>quantity</th>\n",
       "      <th>item_name</th>\n",
       "      <th>choice_description</th>\n",
       "      <th>item_price</th>\n",
       "      <th>float_item_price</th>\n",
       "    </tr>\n",
       "  </thead>\n",
       "  <tbody>\n",
       "    <tr>\n",
       "      <th>0</th>\n",
       "      <td>1</td>\n",
       "      <td>1</td>\n",
       "      <td>Chips and Fresh Tomato Salsa</td>\n",
       "      <td>NaN</td>\n",
       "      <td>$2.39</td>\n",
       "      <td>2.39</td>\n",
       "    </tr>\n",
       "    <tr>\n",
       "      <th>1</th>\n",
       "      <td>1</td>\n",
       "      <td>1</td>\n",
       "      <td>Izze</td>\n",
       "      <td>[Clementine]</td>\n",
       "      <td>$3.39</td>\n",
       "      <td>3.39</td>\n",
       "    </tr>\n",
       "    <tr>\n",
       "      <th>2</th>\n",
       "      <td>1</td>\n",
       "      <td>1</td>\n",
       "      <td>Nantucket Nectar</td>\n",
       "      <td>[Apple]</td>\n",
       "      <td>$3.39</td>\n",
       "      <td>3.39</td>\n",
       "    </tr>\n",
       "    <tr>\n",
       "      <th>3</th>\n",
       "      <td>1</td>\n",
       "      <td>1</td>\n",
       "      <td>Chips and Tomatillo-Green Chili Salsa</td>\n",
       "      <td>NaN</td>\n",
       "      <td>$2.39</td>\n",
       "      <td>2.39</td>\n",
       "    </tr>\n",
       "    <tr>\n",
       "      <th>4</th>\n",
       "      <td>2</td>\n",
       "      <td>2</td>\n",
       "      <td>Chicken Bowl</td>\n",
       "      <td>[Tomatillo-Red Chili Salsa (Hot), [Black Beans...</td>\n",
       "      <td>$16.98</td>\n",
       "      <td>16.98</td>\n",
       "    </tr>\n",
       "  </tbody>\n",
       "</table>\n",
       "</div>"
      ],
      "text/plain": [
       "   order_id  quantity                              item_name  \\\n",
       "0         1         1           Chips and Fresh Tomato Salsa   \n",
       "1         1         1                                   Izze   \n",
       "2         1         1                       Nantucket Nectar   \n",
       "3         1         1  Chips and Tomatillo-Green Chili Salsa   \n",
       "4         2         2                           Chicken Bowl   \n",
       "\n",
       "                                  choice_description item_price  \\\n",
       "0                                                NaN     $2.39    \n",
       "1                                       [Clementine]     $3.39    \n",
       "2                                            [Apple]     $3.39    \n",
       "3                                                NaN     $2.39    \n",
       "4  [Tomatillo-Red Chili Salsa (Hot), [Black Beans...    $16.98    \n",
       "\n",
       "   float_item_price  \n",
       "0              2.39  \n",
       "1              3.39  \n",
       "2              3.39  \n",
       "3              2.39  \n",
       "4             16.98  "
      ]
     },
     "execution_count": 216,
     "metadata": {},
     "output_type": "execute_result"
    }
   ],
   "source": [
    "df.head(5)"
   ]
  },
  {
   "cell_type": "code",
   "execution_count": 217,
   "id": "d275387c",
   "metadata": {},
   "outputs": [
    {
     "data": {
      "text/html": [
       "<div>\n",
       "<style scoped>\n",
       "    .dataframe tbody tr th:only-of-type {\n",
       "        vertical-align: middle;\n",
       "    }\n",
       "\n",
       "    .dataframe tbody tr th {\n",
       "        vertical-align: top;\n",
       "    }\n",
       "\n",
       "    .dataframe thead th {\n",
       "        text-align: right;\n",
       "    }\n",
       "</style>\n",
       "<table border=\"1\" class=\"dataframe\">\n",
       "  <thead>\n",
       "    <tr style=\"text-align: right;\">\n",
       "      <th></th>\n",
       "      <th>order_id</th>\n",
       "      <th>quantity</th>\n",
       "      <th>item_name</th>\n",
       "      <th>choice_description</th>\n",
       "      <th>float_item_price</th>\n",
       "    </tr>\n",
       "  </thead>\n",
       "  <tbody>\n",
       "    <tr>\n",
       "      <th>0</th>\n",
       "      <td>1</td>\n",
       "      <td>1</td>\n",
       "      <td>Chips and Fresh Tomato Salsa</td>\n",
       "      <td>NaN</td>\n",
       "      <td>2.39</td>\n",
       "    </tr>\n",
       "    <tr>\n",
       "      <th>1</th>\n",
       "      <td>1</td>\n",
       "      <td>1</td>\n",
       "      <td>Izze</td>\n",
       "      <td>[Clementine]</td>\n",
       "      <td>3.39</td>\n",
       "    </tr>\n",
       "  </tbody>\n",
       "</table>\n",
       "</div>"
      ],
      "text/plain": [
       "   order_id  quantity                     item_name choice_description  \\\n",
       "0         1         1  Chips and Fresh Tomato Salsa                NaN   \n",
       "1         1         1                          Izze       [Clementine]   \n",
       "\n",
       "   float_item_price  \n",
       "0              2.39  \n",
       "1              3.39  "
      ]
     },
     "execution_count": 217,
     "metadata": {},
     "output_type": "execute_result"
    }
   ],
   "source": [
    "df2 = df.drop([\"item_price\"] , axis=1)\n",
    "df2.head(2)"
   ]
  },
  {
   "cell_type": "code",
   "execution_count": 218,
   "id": "5164eee7",
   "metadata": {},
   "outputs": [],
   "source": [
    "df2[\"Tot_price\"] = df[\"quantity\"] * df[\"float_item_price\"]"
   ]
  },
  {
   "cell_type": "code",
   "execution_count": 219,
   "id": "1a533afe",
   "metadata": {},
   "outputs": [
    {
     "data": {
      "text/html": [
       "<div>\n",
       "<style scoped>\n",
       "    .dataframe tbody tr th:only-of-type {\n",
       "        vertical-align: middle;\n",
       "    }\n",
       "\n",
       "    .dataframe tbody tr th {\n",
       "        vertical-align: top;\n",
       "    }\n",
       "\n",
       "    .dataframe thead th {\n",
       "        text-align: right;\n",
       "    }\n",
       "</style>\n",
       "<table border=\"1\" class=\"dataframe\">\n",
       "  <thead>\n",
       "    <tr style=\"text-align: right;\">\n",
       "      <th></th>\n",
       "      <th>order_id</th>\n",
       "      <th>quantity</th>\n",
       "      <th>item_name</th>\n",
       "      <th>choice_description</th>\n",
       "      <th>float_item_price</th>\n",
       "      <th>Tot_price</th>\n",
       "    </tr>\n",
       "  </thead>\n",
       "  <tbody>\n",
       "    <tr>\n",
       "      <th>0</th>\n",
       "      <td>1</td>\n",
       "      <td>1</td>\n",
       "      <td>Chips and Fresh Tomato Salsa</td>\n",
       "      <td>NaN</td>\n",
       "      <td>2.39</td>\n",
       "      <td>2.39</td>\n",
       "    </tr>\n",
       "    <tr>\n",
       "      <th>1</th>\n",
       "      <td>1</td>\n",
       "      <td>1</td>\n",
       "      <td>Izze</td>\n",
       "      <td>[Clementine]</td>\n",
       "      <td>3.39</td>\n",
       "      <td>3.39</td>\n",
       "    </tr>\n",
       "    <tr>\n",
       "      <th>2</th>\n",
       "      <td>1</td>\n",
       "      <td>1</td>\n",
       "      <td>Nantucket Nectar</td>\n",
       "      <td>[Apple]</td>\n",
       "      <td>3.39</td>\n",
       "      <td>3.39</td>\n",
       "    </tr>\n",
       "    <tr>\n",
       "      <th>3</th>\n",
       "      <td>1</td>\n",
       "      <td>1</td>\n",
       "      <td>Chips and Tomatillo-Green Chili Salsa</td>\n",
       "      <td>NaN</td>\n",
       "      <td>2.39</td>\n",
       "      <td>2.39</td>\n",
       "    </tr>\n",
       "    <tr>\n",
       "      <th>4</th>\n",
       "      <td>2</td>\n",
       "      <td>2</td>\n",
       "      <td>Chicken Bowl</td>\n",
       "      <td>[Tomatillo-Red Chili Salsa (Hot), [Black Beans...</td>\n",
       "      <td>16.98</td>\n",
       "      <td>33.96</td>\n",
       "    </tr>\n",
       "  </tbody>\n",
       "</table>\n",
       "</div>"
      ],
      "text/plain": [
       "   order_id  quantity                              item_name  \\\n",
       "0         1         1           Chips and Fresh Tomato Salsa   \n",
       "1         1         1                                   Izze   \n",
       "2         1         1                       Nantucket Nectar   \n",
       "3         1         1  Chips and Tomatillo-Green Chili Salsa   \n",
       "4         2         2                           Chicken Bowl   \n",
       "\n",
       "                                  choice_description  float_item_price  \\\n",
       "0                                                NaN              2.39   \n",
       "1                                       [Clementine]              3.39   \n",
       "2                                            [Apple]              3.39   \n",
       "3                                                NaN              2.39   \n",
       "4  [Tomatillo-Red Chili Salsa (Hot), [Black Beans...             16.98   \n",
       "\n",
       "   Tot_price  \n",
       "0       2.39  \n",
       "1       3.39  \n",
       "2       3.39  \n",
       "3       2.39  \n",
       "4      33.96  "
      ]
     },
     "execution_count": 219,
     "metadata": {},
     "output_type": "execute_result"
    }
   ],
   "source": [
    "df2.head(5)"
   ]
  },
  {
   "cell_type": "code",
   "execution_count": 2,
   "id": "8f5afc93",
   "metadata": {},
   "outputs": [],
   "source": [
    "import numpy as np \n",
    "import matplotlib.pyplot as plt \n",
    "import pandas as pd \n",
    "from pandas import DataFrame, Series "
   ]
  },
  {
   "cell_type": "code",
   "execution_count": 4,
   "id": "b175ffdc",
   "metadata": {},
   "outputs": [
    {
     "data": {
      "text/plain": [
       "[3, 4, 5, 6, 7, 8]"
      ]
     },
     "execution_count": 4,
     "metadata": {},
     "output_type": "execute_result"
    }
   ],
   "source": [
    "l1 = [3,4,5]\n",
    "l2 = [6,7,8]\n",
    "l1+l2"
   ]
  },
  {
   "cell_type": "code",
   "execution_count": 8,
   "id": "51cf30dc",
   "metadata": {},
   "outputs": [
    {
     "data": {
      "text/plain": [
       "0    13\n",
       "1    15\n",
       "2    17\n",
       "3    19\n",
       "dtype: int64"
      ]
     },
     "execution_count": 8,
     "metadata": {},
     "output_type": "execute_result"
    }
   ],
   "source": [
    "s1 = Series(range(12,16)) # -> 0, 1, 2, 3 \n",
    "s2 = Series(range(1,5)) # -> 1, 2, 3, 4 \n",
    "s1 + s2"
   ]
  },
  {
   "cell_type": "code",
   "execution_count": 19,
   "id": "b64d8b94",
   "metadata": {},
   "outputs": [],
   "source": [
    "from io import StringIO \n",
    "data = \"\"\", Animal, Cuteness, Desirable \n",
    "row-1, dog, 8.7, True \n",
    "row-2, cat, 9.5, True \n",
    "row-3, bat, 2.6, False\"\"\" \n",
    "df = pd.read_csv(StringIO(data), header=0, \n",
    "  index_col=0,skipinitialspace=True) "
   ]
  },
  {
   "cell_type": "code",
   "execution_count": 20,
   "id": "f9b149d7",
   "metadata": {},
   "outputs": [
    {
     "data": {
      "text/html": [
       "<div>\n",
       "<style scoped>\n",
       "    .dataframe tbody tr th:only-of-type {\n",
       "        vertical-align: middle;\n",
       "    }\n",
       "\n",
       "    .dataframe tbody tr th {\n",
       "        vertical-align: top;\n",
       "    }\n",
       "\n",
       "    .dataframe thead th {\n",
       "        text-align: right;\n",
       "    }\n",
       "</style>\n",
       "<table border=\"1\" class=\"dataframe\">\n",
       "  <thead>\n",
       "    <tr style=\"text-align: right;\">\n",
       "      <th></th>\n",
       "      <th>Animal</th>\n",
       "      <th>Cuteness</th>\n",
       "      <th>Desirable</th>\n",
       "    </tr>\n",
       "  </thead>\n",
       "  <tbody>\n",
       "    <tr>\n",
       "      <th>row-1</th>\n",
       "      <td>dog</td>\n",
       "      <td>8.7</td>\n",
       "      <td>True</td>\n",
       "    </tr>\n",
       "    <tr>\n",
       "      <th>row-2</th>\n",
       "      <td>cat</td>\n",
       "      <td>9.5</td>\n",
       "      <td>True</td>\n",
       "    </tr>\n",
       "    <tr>\n",
       "      <th>row-3</th>\n",
       "      <td>bat</td>\n",
       "      <td>2.6</td>\n",
       "      <td>False</td>\n",
       "    </tr>\n",
       "  </tbody>\n",
       "</table>\n",
       "</div>"
      ],
      "text/plain": [
       "      Animal  Cuteness Desirable \n",
       "row-1    dog       8.7      True \n",
       "row-2    cat       9.5      True \n",
       "row-3    bat       2.6      False"
      ]
     },
     "execution_count": 20,
     "metadata": {},
     "output_type": "execute_result"
    }
   ],
   "source": [
    "df"
   ]
  },
  {
   "cell_type": "code",
   "execution_count": 21,
   "id": "a91f1bb2",
   "metadata": {},
   "outputs": [
    {
     "data": {
      "text/html": [
       "<div>\n",
       "<style scoped>\n",
       "    .dataframe tbody tr th:only-of-type {\n",
       "        vertical-align: middle;\n",
       "    }\n",
       "\n",
       "    .dataframe tbody tr th {\n",
       "        vertical-align: top;\n",
       "    }\n",
       "\n",
       "    .dataframe thead th {\n",
       "        text-align: right;\n",
       "    }\n",
       "</style>\n",
       "<table border=\"1\" class=\"dataframe\">\n",
       "  <thead>\n",
       "    <tr style=\"text-align: right;\">\n",
       "      <th></th>\n",
       "      <th>0</th>\n",
       "      <th>1</th>\n",
       "    </tr>\n",
       "  </thead>\n",
       "  <tbody>\n",
       "    <tr>\n",
       "      <th>0</th>\n",
       "      <td>0.0</td>\n",
       "      <td>NaN</td>\n",
       "    </tr>\n",
       "    <tr>\n",
       "      <th>1</th>\n",
       "      <td>1.0</td>\n",
       "      <td>NaN</td>\n",
       "    </tr>\n",
       "    <tr>\n",
       "      <th>2</th>\n",
       "      <td>2.0</td>\n",
       "      <td>0.0</td>\n",
       "    </tr>\n",
       "    <tr>\n",
       "      <th>3</th>\n",
       "      <td>3.0</td>\n",
       "      <td>1.0</td>\n",
       "    </tr>\n",
       "    <tr>\n",
       "      <th>4</th>\n",
       "      <td>4.0</td>\n",
       "      <td>4.0</td>\n",
       "    </tr>\n",
       "    <tr>\n",
       "      <th>5</th>\n",
       "      <td>5.0</td>\n",
       "      <td>9.0</td>\n",
       "    </tr>\n",
       "    <tr>\n",
       "      <th>6</th>\n",
       "      <td>NaN</td>\n",
       "      <td>16.0</td>\n",
       "    </tr>\n",
       "    <tr>\n",
       "      <th>7</th>\n",
       "      <td>NaN</td>\n",
       "      <td>25.0</td>\n",
       "    </tr>\n",
       "  </tbody>\n",
       "</table>\n",
       "</div>"
      ],
      "text/plain": [
       "     0     1\n",
       "0  0.0   NaN\n",
       "1  1.0   NaN\n",
       "2  2.0   0.0\n",
       "3  3.0   1.0\n",
       "4  4.0   4.0\n",
       "5  5.0   9.0\n",
       "6  NaN  16.0\n",
       "7  NaN  25.0"
      ]
     },
     "execution_count": 21,
     "metadata": {},
     "output_type": "execute_result"
    }
   ],
   "source": [
    "s1 = Series(range(6)) \n",
    "s2 = s1 * s1 \n",
    "s2.index = s2.index + 2 # misalign indexes \n",
    "df = pd.concat([s1, s2], axis=1) \n",
    "df"
   ]
  },
  {
   "cell_type": "code",
   "execution_count": 25,
   "id": "e5ad04b3",
   "metadata": {},
   "outputs": [
    {
     "data": {
      "text/html": [
       "<div>\n",
       "<style scoped>\n",
       "    .dataframe tbody tr th:only-of-type {\n",
       "        vertical-align: middle;\n",
       "    }\n",
       "\n",
       "    .dataframe tbody tr th {\n",
       "        vertical-align: top;\n",
       "    }\n",
       "\n",
       "    .dataframe thead th {\n",
       "        text-align: right;\n",
       "    }\n",
       "</style>\n",
       "<table border=\"1\" class=\"dataframe\">\n",
       "  <thead>\n",
       "    <tr style=\"text-align: right;\">\n",
       "      <th></th>\n",
       "      <th>ABC</th>\n",
       "      <th>DEF</th>\n",
       "    </tr>\n",
       "  </thead>\n",
       "  <tbody>\n",
       "    <tr>\n",
       "      <th>Tom</th>\n",
       "      <td>1</td>\n",
       "      <td>3</td>\n",
       "    </tr>\n",
       "    <tr>\n",
       "      <th>Dick</th>\n",
       "      <td>4</td>\n",
       "      <td>2</td>\n",
       "    </tr>\n",
       "    <tr>\n",
       "      <th>Har</th>\n",
       "      <td>9</td>\n",
       "      <td>9</td>\n",
       "    </tr>\n",
       "    <tr>\n",
       "      <th>Mar</th>\n",
       "      <td>5</td>\n",
       "      <td>5</td>\n",
       "    </tr>\n",
       "  </tbody>\n",
       "</table>\n",
       "</div>"
      ],
      "text/plain": [
       "      ABC  DEF\n",
       "Tom     1    3\n",
       "Dick    4    2\n",
       "Har     9    9\n",
       "Mar     5    5"
      ]
     },
     "execution_count": 25,
     "metadata": {},
     "output_type": "execute_result"
    }
   ],
   "source": [
    "s3 = Series({'Tom':1, 'Dick':4, 'Har':9 , 'Mar':5 }) \n",
    "s4 = Series({'Tom':3, 'Dick':2, 'Mar':5 , 'Har':9 }) \n",
    "df = pd.concat({'ABC':s3, 'DEF':s4 }, axis=1) \n",
    "df"
   ]
  },
  {
   "cell_type": "code",
   "execution_count": 26,
   "id": "a6ce1ce8",
   "metadata": {},
   "outputs": [
    {
     "data": {
      "text/plain": [
       "ABC  Tom     1\n",
       "     Dick    4\n",
       "     Har     9\n",
       "     Mar     5\n",
       "DEF  Tom     3\n",
       "     Dick    2\n",
       "     Mar     5\n",
       "     Har     9\n",
       "dtype: int64"
      ]
     },
     "execution_count": 26,
     "metadata": {},
     "output_type": "execute_result"
    }
   ],
   "source": [
    "s3 = Series({'Tom':1, 'Dick':4, 'Har':9 , 'Mar':5 }) \n",
    "s4 = Series({'Tom':3, 'Dick':2, 'Mar':5 , 'Har':9 }) \n",
    "df = pd.concat({'ABC':s3, 'DEF':s4 }, axis=0) \n",
    "df"
   ]
  },
  {
   "cell_type": "code",
   "execution_count": 27,
   "id": "dbf71a99",
   "metadata": {},
   "outputs": [
    {
     "data": {
      "text/html": [
       "<div>\n",
       "<style scoped>\n",
       "    .dataframe tbody tr th:only-of-type {\n",
       "        vertical-align: middle;\n",
       "    }\n",
       "\n",
       "    .dataframe tbody tr th {\n",
       "        vertical-align: top;\n",
       "    }\n",
       "\n",
       "    .dataframe thead th {\n",
       "        text-align: right;\n",
       "    }\n",
       "</style>\n",
       "<table border=\"1\" class=\"dataframe\">\n",
       "  <thead>\n",
       "    <tr style=\"text-align: right;\">\n",
       "      <th></th>\n",
       "      <th>col0</th>\n",
       "      <th>col1</th>\n",
       "    </tr>\n",
       "  </thead>\n",
       "  <tbody>\n",
       "    <tr>\n",
       "      <th>0</th>\n",
       "      <td>1.0</td>\n",
       "      <td>100</td>\n",
       "    </tr>\n",
       "    <tr>\n",
       "      <th>1</th>\n",
       "      <td>2.0</td>\n",
       "      <td>200</td>\n",
       "    </tr>\n",
       "    <tr>\n",
       "      <th>2</th>\n",
       "      <td>3.0</td>\n",
       "      <td>300</td>\n",
       "    </tr>\n",
       "    <tr>\n",
       "      <th>3</th>\n",
       "      <td>4.0</td>\n",
       "      <td>400</td>\n",
       "    </tr>\n",
       "  </tbody>\n",
       "</table>\n",
       "</div>"
      ],
      "text/plain": [
       "   col0  col1\n",
       "0   1.0   100\n",
       "1   2.0   200\n",
       "2   3.0   300\n",
       "3   4.0   400"
      ]
     },
     "execution_count": 27,
     "metadata": {},
     "output_type": "execute_result"
    }
   ],
   "source": [
    "df = DataFrame({ \n",
    " 'col0' : [1.0, 2.0, 3.0, 4.0], \n",
    " 'col1' : [100, 200, 300, 400] \n",
    " }) \n",
    "df"
   ]
  },
  {
   "cell_type": "code",
   "execution_count": 28,
   "id": "47758af9",
   "metadata": {},
   "outputs": [
    {
     "data": {
      "text/html": [
       "<div>\n",
       "<style scoped>\n",
       "    .dataframe tbody tr th:only-of-type {\n",
       "        vertical-align: middle;\n",
       "    }\n",
       "\n",
       "    .dataframe tbody tr th {\n",
       "        vertical-align: top;\n",
       "    }\n",
       "\n",
       "    .dataframe thead th {\n",
       "        text-align: right;\n",
       "    }\n",
       "</style>\n",
       "<table border=\"1\" class=\"dataframe\">\n",
       "  <thead>\n",
       "    <tr style=\"text-align: right;\">\n",
       "      <th></th>\n",
       "      <th>col0</th>\n",
       "      <th>col1</th>\n",
       "    </tr>\n",
       "  </thead>\n",
       "  <tbody>\n",
       "    <tr>\n",
       "      <th>row0</th>\n",
       "      <td>0</td>\n",
       "      <td>A</td>\n",
       "    </tr>\n",
       "    <tr>\n",
       "      <th>row1</th>\n",
       "      <td>1</td>\n",
       "      <td>B</td>\n",
       "    </tr>\n",
       "  </tbody>\n",
       "</table>\n",
       "</div>"
      ],
      "text/plain": [
       "      col0 col1\n",
       "row0     0    A\n",
       "row1     1    B"
      ]
     },
     "execution_count": 28,
     "metadata": {},
     "output_type": "execute_result"
    }
   ],
   "source": [
    "df = DataFrame.from_dict({ # data by row \n",
    " # rows as python dictionaries \n",
    " 'row0' : {'col0':0, 'col1':'A'}, \n",
    " 'row1' : {'col0':1, 'col1':'B'} \n",
    " }, orient='index') \n",
    "df"
   ]
  },
  {
   "cell_type": "code",
   "execution_count": 32,
   "id": "bcc97ecb",
   "metadata": {},
   "outputs": [
    {
     "data": {
      "text/html": [
       "<div>\n",
       "<style scoped>\n",
       "    .dataframe tbody tr th:only-of-type {\n",
       "        vertical-align: middle;\n",
       "    }\n",
       "\n",
       "    .dataframe tbody tr th {\n",
       "        vertical-align: top;\n",
       "    }\n",
       "\n",
       "    .dataframe thead th {\n",
       "        text-align: right;\n",
       "    }\n",
       "</style>\n",
       "<table border=\"1\" class=\"dataframe\">\n",
       "  <thead>\n",
       "    <tr style=\"text-align: right;\">\n",
       "      <th></th>\n",
       "      <th>0</th>\n",
       "      <th>1</th>\n",
       "      <th>2</th>\n",
       "    </tr>\n",
       "  </thead>\n",
       "  <tbody>\n",
       "    <tr>\n",
       "      <th>row0</th>\n",
       "      <td>1</td>\n",
       "      <td>1.000000+1.000000j</td>\n",
       "      <td>A</td>\n",
       "    </tr>\n",
       "    <tr>\n",
       "      <th>row1</th>\n",
       "      <td>2</td>\n",
       "      <td>2.000000+2.000000j</td>\n",
       "      <td>B</td>\n",
       "    </tr>\n",
       "  </tbody>\n",
       "</table>\n",
       "</div>"
      ],
      "text/plain": [
       "      0                   1  2\n",
       "row0  1  1.000000+1.000000j  A\n",
       "row1  2  2.000000+2.000000j  B"
      ]
     },
     "execution_count": 32,
     "metadata": {},
     "output_type": "execute_result"
    }
   ],
   "source": [
    "df = DataFrame.from_dict({ # data by row \n",
    " # rows as python lists \n",
    " 'row0' : [1, 1+1j, 'A'], \n",
    " 'row1' : [2, 2+2j, 'B'] \n",
    " }, orient='index') \n",
    "df"
   ]
  },
  {
   "cell_type": "code",
   "execution_count": 34,
   "id": "1acc5903",
   "metadata": {},
   "outputs": [
    {
     "data": {
      "text/html": [
       "<div>\n",
       "<style scoped>\n",
       "    .dataframe tbody tr th:only-of-type {\n",
       "        vertical-align: middle;\n",
       "    }\n",
       "\n",
       "    .dataframe tbody tr th {\n",
       "        vertical-align: top;\n",
       "    }\n",
       "\n",
       "    .dataframe thead th {\n",
       "        text-align: right;\n",
       "    }\n",
       "</style>\n",
       "<table border=\"1\" class=\"dataframe\">\n",
       "  <thead>\n",
       "    <tr style=\"text-align: right;\">\n",
       "      <th></th>\n",
       "      <th>0</th>\n",
       "      <th>1</th>\n",
       "      <th>2</th>\n",
       "      <th>3</th>\n",
       "      <th>4</th>\n",
       "    </tr>\n",
       "  </thead>\n",
       "  <tbody>\n",
       "    <tr>\n",
       "      <th>0</th>\n",
       "      <td>0.106118</td>\n",
       "      <td>0.986283</td>\n",
       "      <td>0.438349</td>\n",
       "      <td>0.688792</td>\n",
       "      <td>0.978579</td>\n",
       "    </tr>\n",
       "    <tr>\n",
       "      <th>1</th>\n",
       "      <td>0.252289</td>\n",
       "      <td>0.132774</td>\n",
       "      <td>0.953656</td>\n",
       "      <td>0.673386</td>\n",
       "      <td>0.557216</td>\n",
       "    </tr>\n",
       "    <tr>\n",
       "      <th>2</th>\n",
       "      <td>0.604203</td>\n",
       "      <td>0.413122</td>\n",
       "      <td>0.965415</td>\n",
       "      <td>0.438292</td>\n",
       "      <td>0.909470</td>\n",
       "    </tr>\n",
       "    <tr>\n",
       "      <th>3</th>\n",
       "      <td>0.543470</td>\n",
       "      <td>0.362040</td>\n",
       "      <td>0.145629</td>\n",
       "      <td>0.595556</td>\n",
       "      <td>0.239288</td>\n",
       "    </tr>\n",
       "    <tr>\n",
       "      <th>4</th>\n",
       "      <td>0.406223</td>\n",
       "      <td>0.670763</td>\n",
       "      <td>0.028979</td>\n",
       "      <td>0.401410</td>\n",
       "      <td>0.342222</td>\n",
       "    </tr>\n",
       "  </tbody>\n",
       "</table>\n",
       "</div>"
      ],
      "text/plain": [
       "          0         1         2         3         4\n",
       "0  0.106118  0.986283  0.438349  0.688792  0.978579\n",
       "1  0.252289  0.132774  0.953656  0.673386  0.557216\n",
       "2  0.604203  0.413122  0.965415  0.438292  0.909470\n",
       "3  0.543470  0.362040  0.145629  0.595556  0.239288\n",
       "4  0.406223  0.670763  0.028979  0.401410  0.342222"
      ]
     },
     "execution_count": 34,
     "metadata": {},
     "output_type": "execute_result"
    }
   ],
   "source": [
    "df = DataFrame(np.random.rand(5,5))\n",
    "df"
   ]
  },
  {
   "cell_type": "code",
   "execution_count": 35,
   "id": "9b4620b0",
   "metadata": {},
   "outputs": [
    {
     "data": {
      "text/html": [
       "<div>\n",
       "<style scoped>\n",
       "    .dataframe tbody tr th:only-of-type {\n",
       "        vertical-align: middle;\n",
       "    }\n",
       "\n",
       "    .dataframe tbody tr th {\n",
       "        vertical-align: top;\n",
       "    }\n",
       "\n",
       "    .dataframe thead th {\n",
       "        text-align: right;\n",
       "    }\n",
       "</style>\n",
       "<table border=\"1\" class=\"dataframe\">\n",
       "  <thead>\n",
       "    <tr style=\"text-align: right;\">\n",
       "      <th></th>\n",
       "      <th>0</th>\n",
       "      <th>1</th>\n",
       "      <th>2</th>\n",
       "      <th>3</th>\n",
       "      <th>4</th>\n",
       "    </tr>\n",
       "  </thead>\n",
       "  <tbody>\n",
       "    <tr>\n",
       "      <th>0</th>\n",
       "      <td>0.726975</td>\n",
       "      <td>0.620957</td>\n",
       "      <td>0.784167</td>\n",
       "      <td>0.314502</td>\n",
       "      <td>0.919551</td>\n",
       "    </tr>\n",
       "    <tr>\n",
       "      <th>1</th>\n",
       "      <td>0.432410</td>\n",
       "      <td>0.511324</td>\n",
       "      <td>0.297579</td>\n",
       "      <td>0.289369</td>\n",
       "      <td>0.517095</td>\n",
       "    </tr>\n",
       "    <tr>\n",
       "      <th>2</th>\n",
       "      <td>0.251988</td>\n",
       "      <td>0.018400</td>\n",
       "      <td>0.230118</td>\n",
       "      <td>0.477994</td>\n",
       "      <td>0.902215</td>\n",
       "    </tr>\n",
       "    <tr>\n",
       "      <th>3</th>\n",
       "      <td>0.908752</td>\n",
       "      <td>0.882001</td>\n",
       "      <td>0.987383</td>\n",
       "      <td>0.641370</td>\n",
       "      <td>0.360910</td>\n",
       "    </tr>\n",
       "    <tr>\n",
       "      <th>4</th>\n",
       "      <td>0.578002</td>\n",
       "      <td>0.720426</td>\n",
       "      <td>0.004966</td>\n",
       "      <td>0.155745</td>\n",
       "      <td>0.182977</td>\n",
       "    </tr>\n",
       "  </tbody>\n",
       "</table>\n",
       "</div>"
      ],
      "text/plain": [
       "          0         1         2         3         4\n",
       "0  0.726975  0.620957  0.784167  0.314502  0.919551\n",
       "1  0.432410  0.511324  0.297579  0.289369  0.517095\n",
       "2  0.251988  0.018400  0.230118  0.477994  0.902215\n",
       "3  0.908752  0.882001  0.987383  0.641370  0.360910\n",
       "4  0.578002  0.720426  0.004966  0.155745  0.182977"
      ]
     },
     "execution_count": 35,
     "metadata": {},
     "output_type": "execute_result"
    }
   ],
   "source": [
    "df = DataFrame(np.random.rand(5,5))\n",
    "df"
   ]
  },
  {
   "cell_type": "code",
   "execution_count": 43,
   "id": "df01ab26",
   "metadata": {},
   "outputs": [
    {
     "data": {
      "text/html": [
       "<div>\n",
       "<style scoped>\n",
       "    .dataframe tbody tr th:only-of-type {\n",
       "        vertical-align: middle;\n",
       "    }\n",
       "\n",
       "    .dataframe tbody tr th {\n",
       "        vertical-align: top;\n",
       "    }\n",
       "\n",
       "    .dataframe thead th {\n",
       "        text-align: right;\n",
       "    }\n",
       "</style>\n",
       "<table border=\"1\" class=\"dataframe\">\n",
       "  <thead>\n",
       "    <tr style=\"text-align: right;\">\n",
       "      <th></th>\n",
       "      <th>0</th>\n",
       "      <th>1</th>\n",
       "      <th>2</th>\n",
       "      <th>3</th>\n",
       "      <th>4</th>\n",
       "    </tr>\n",
       "  </thead>\n",
       "  <tbody>\n",
       "    <tr>\n",
       "      <th>2005-12-31</th>\n",
       "      <td>0.726975</td>\n",
       "      <td>0.620957</td>\n",
       "      <td>0.784167</td>\n",
       "      <td>0.314502</td>\n",
       "      <td>0.919551</td>\n",
       "    </tr>\n",
       "    <tr>\n",
       "      <th>2006-12-31</th>\n",
       "      <td>0.432410</td>\n",
       "      <td>0.511324</td>\n",
       "      <td>0.297579</td>\n",
       "      <td>0.289369</td>\n",
       "      <td>0.517095</td>\n",
       "    </tr>\n",
       "    <tr>\n",
       "      <th>2007-12-31</th>\n",
       "      <td>0.251988</td>\n",
       "      <td>0.018400</td>\n",
       "      <td>0.230118</td>\n",
       "      <td>0.477994</td>\n",
       "      <td>0.902215</td>\n",
       "    </tr>\n",
       "    <tr>\n",
       "      <th>2008-12-31</th>\n",
       "      <td>0.908752</td>\n",
       "      <td>0.882001</td>\n",
       "      <td>0.987383</td>\n",
       "      <td>0.641370</td>\n",
       "      <td>0.360910</td>\n",
       "    </tr>\n",
       "    <tr>\n",
       "      <th>2009-12-31</th>\n",
       "      <td>0.578002</td>\n",
       "      <td>0.720426</td>\n",
       "      <td>0.004966</td>\n",
       "      <td>0.155745</td>\n",
       "      <td>0.182977</td>\n",
       "    </tr>\n",
       "  </tbody>\n",
       "</table>\n",
       "</div>"
      ],
      "text/plain": [
       "                   0         1         2         3         4\n",
       "2005-12-31  0.726975  0.620957  0.784167  0.314502  0.919551\n",
       "2006-12-31  0.432410  0.511324  0.297579  0.289369  0.517095\n",
       "2007-12-31  0.251988  0.018400  0.230118  0.477994  0.902215\n",
       "2008-12-31  0.908752  0.882001  0.987383  0.641370  0.360910\n",
       "2009-12-31  0.578002  0.720426  0.004966  0.155745  0.182977"
      ]
     },
     "execution_count": 43,
     "metadata": {},
     "output_type": "execute_result"
    }
   ],
   "source": [
    "df.index = pd.date_range('1/1/2005', \n",
    " periods=len(df) , freq='Y') \n",
    "df"
   ]
  },
  {
   "cell_type": "code",
   "execution_count": 48,
   "id": "0941c2b0",
   "metadata": {},
   "outputs": [],
   "source": [
    "# --- with alphabetic row and col indexes \n",
    "# and a \"groupable\" variable \n",
    "import string \n",
    "import random \n",
    "rows = 52 \n",
    "cols = 5 \n",
    "assert(1 <= rows <= 52) # min/max row count \n",
    "df = DataFrame(np.random.randn(rows, cols), \n",
    " columns=['c'+str(i) for i in range(cols)], \n",
    " index=list((string.ascii_uppercase + \n",
    " string.ascii_lowercase)[0:rows])) \n",
    "\n",
    "\n",
    "df['groupable'] = [random.choice('abcde') \n",
    " for _ in range(rows)] \n"
   ]
  },
  {
   "cell_type": "code",
   "execution_count": 49,
   "id": "b0eb5efe",
   "metadata": {},
   "outputs": [
    {
     "name": "stdout",
     "output_type": "stream",
     "text": [
      "<class 'pandas.core.frame.DataFrame'>\n",
      "Index: 52 entries, A to z\n",
      "Data columns (total 6 columns):\n",
      " #   Column     Non-Null Count  Dtype  \n",
      "---  ------     --------------  -----  \n",
      " 0   c0         52 non-null     float64\n",
      " 1   c1         52 non-null     float64\n",
      " 2   c2         52 non-null     float64\n",
      " 3   c3         52 non-null     float64\n",
      " 4   c4         52 non-null     float64\n",
      " 5   groupable  52 non-null     object \n",
      "dtypes: float64(5), object(1)\n",
      "memory usage: 2.8+ KB\n"
     ]
    }
   ],
   "source": [
    "df.info()"
   ]
  },
  {
   "cell_type": "code",
   "execution_count": 50,
   "id": "ca419a80",
   "metadata": {},
   "outputs": [
    {
     "data": {
      "text/html": [
       "<div>\n",
       "<style scoped>\n",
       "    .dataframe tbody tr th:only-of-type {\n",
       "        vertical-align: middle;\n",
       "    }\n",
       "\n",
       "    .dataframe tbody tr th {\n",
       "        vertical-align: top;\n",
       "    }\n",
       "\n",
       "    .dataframe thead th {\n",
       "        text-align: right;\n",
       "    }\n",
       "</style>\n",
       "<table border=\"1\" class=\"dataframe\">\n",
       "  <thead>\n",
       "    <tr style=\"text-align: right;\">\n",
       "      <th></th>\n",
       "      <th>c0</th>\n",
       "      <th>c1</th>\n",
       "      <th>c2</th>\n",
       "      <th>c3</th>\n",
       "    </tr>\n",
       "  </thead>\n",
       "  <tbody>\n",
       "    <tr>\n",
       "      <th>A</th>\n",
       "      <td>-0.539654</td>\n",
       "      <td>-0.572994</td>\n",
       "      <td>-1.406656</td>\n",
       "      <td>0.045272</td>\n",
       "    </tr>\n",
       "    <tr>\n",
       "      <th>B</th>\n",
       "      <td>1.392011</td>\n",
       "      <td>-0.140589</td>\n",
       "      <td>1.015876</td>\n",
       "      <td>-0.996384</td>\n",
       "    </tr>\n",
       "    <tr>\n",
       "      <th>C</th>\n",
       "      <td>1.579727</td>\n",
       "      <td>0.781952</td>\n",
       "      <td>0.321885</td>\n",
       "      <td>-1.211463</td>\n",
       "    </tr>\n",
       "    <tr>\n",
       "      <th>D</th>\n",
       "      <td>1.642743</td>\n",
       "      <td>-0.007436</td>\n",
       "      <td>-0.321796</td>\n",
       "      <td>-1.002238</td>\n",
       "    </tr>\n",
       "  </tbody>\n",
       "</table>\n",
       "</div>"
      ],
      "text/plain": [
       "         c0        c1        c2        c3\n",
       "A -0.539654 -0.572994 -1.406656  0.045272\n",
       "B  1.392011 -0.140589  1.015876 -0.996384\n",
       "C  1.579727  0.781952  0.321885 -1.211463\n",
       "D  1.642743 -0.007436 -0.321796 -1.002238"
      ]
     },
     "execution_count": 50,
     "metadata": {},
     "output_type": "execute_result"
    }
   ],
   "source": [
    "top_left_corner_df = df.iloc[:4, :4] \n",
    "top_left_corner_df"
   ]
  },
  {
   "cell_type": "code",
   "execution_count": 51,
   "id": "cce0d365",
   "metadata": {},
   "outputs": [
    {
     "data": {
      "text/html": [
       "<div>\n",
       "<style scoped>\n",
       "    .dataframe tbody tr th:only-of-type {\n",
       "        vertical-align: middle;\n",
       "    }\n",
       "\n",
       "    .dataframe tbody tr th {\n",
       "        vertical-align: top;\n",
       "    }\n",
       "\n",
       "    .dataframe thead th {\n",
       "        text-align: right;\n",
       "    }\n",
       "</style>\n",
       "<table border=\"1\" class=\"dataframe\">\n",
       "  <thead>\n",
       "    <tr style=\"text-align: right;\">\n",
       "      <th></th>\n",
       "      <th>A</th>\n",
       "      <th>B</th>\n",
       "      <th>C</th>\n",
       "      <th>D</th>\n",
       "      <th>E</th>\n",
       "      <th>F</th>\n",
       "      <th>G</th>\n",
       "      <th>H</th>\n",
       "      <th>I</th>\n",
       "      <th>J</th>\n",
       "      <th>...</th>\n",
       "      <th>q</th>\n",
       "      <th>r</th>\n",
       "      <th>s</th>\n",
       "      <th>t</th>\n",
       "      <th>u</th>\n",
       "      <th>v</th>\n",
       "      <th>w</th>\n",
       "      <th>x</th>\n",
       "      <th>y</th>\n",
       "      <th>z</th>\n",
       "    </tr>\n",
       "  </thead>\n",
       "  <tbody>\n",
       "    <tr>\n",
       "      <th>c0</th>\n",
       "      <td>-0.539654</td>\n",
       "      <td>1.39201</td>\n",
       "      <td>1.57973</td>\n",
       "      <td>1.64274</td>\n",
       "      <td>0.772196</td>\n",
       "      <td>0.347332</td>\n",
       "      <td>0.227074</td>\n",
       "      <td>0.590816</td>\n",
       "      <td>0.561258</td>\n",
       "      <td>1.53824</td>\n",
       "      <td>...</td>\n",
       "      <td>-0.0604582</td>\n",
       "      <td>1.27761</td>\n",
       "      <td>-0.898018</td>\n",
       "      <td>-1.4072</td>\n",
       "      <td>1.04816</td>\n",
       "      <td>-0.47016</td>\n",
       "      <td>-0.509146</td>\n",
       "      <td>1.42363</td>\n",
       "      <td>0.667531</td>\n",
       "      <td>1.11253</td>\n",
       "    </tr>\n",
       "    <tr>\n",
       "      <th>c1</th>\n",
       "      <td>-0.572994</td>\n",
       "      <td>-0.140589</td>\n",
       "      <td>0.781952</td>\n",
       "      <td>-0.00743637</td>\n",
       "      <td>-1.27336</td>\n",
       "      <td>1.34975</td>\n",
       "      <td>-0.449105</td>\n",
       "      <td>0.65551</td>\n",
       "      <td>-1.59219</td>\n",
       "      <td>0.224297</td>\n",
       "      <td>...</td>\n",
       "      <td>0.610869</td>\n",
       "      <td>1.05639</td>\n",
       "      <td>-1.59902</td>\n",
       "      <td>0.358228</td>\n",
       "      <td>-0.00133336</td>\n",
       "      <td>-0.881317</td>\n",
       "      <td>-1.89976</td>\n",
       "      <td>0.0967842</td>\n",
       "      <td>-1.05864</td>\n",
       "      <td>0.106048</td>\n",
       "    </tr>\n",
       "    <tr>\n",
       "      <th>c2</th>\n",
       "      <td>-1.40666</td>\n",
       "      <td>1.01588</td>\n",
       "      <td>0.321885</td>\n",
       "      <td>-0.321796</td>\n",
       "      <td>0.493252</td>\n",
       "      <td>-0.316302</td>\n",
       "      <td>0.0569093</td>\n",
       "      <td>1.04683</td>\n",
       "      <td>0.345067</td>\n",
       "      <td>0.552589</td>\n",
       "      <td>...</td>\n",
       "      <td>-0.863758</td>\n",
       "      <td>-0.916935</td>\n",
       "      <td>-1.03536</td>\n",
       "      <td>0.677918</td>\n",
       "      <td>-0.541734</td>\n",
       "      <td>-1.01908</td>\n",
       "      <td>-0.820033</td>\n",
       "      <td>-0.766853</td>\n",
       "      <td>-0.344843</td>\n",
       "      <td>1.23828</td>\n",
       "    </tr>\n",
       "    <tr>\n",
       "      <th>c3</th>\n",
       "      <td>0.0452717</td>\n",
       "      <td>-0.996384</td>\n",
       "      <td>-1.21146</td>\n",
       "      <td>-1.00224</td>\n",
       "      <td>1.00221</td>\n",
       "      <td>-1.41479</td>\n",
       "      <td>0.184415</td>\n",
       "      <td>0.130521</td>\n",
       "      <td>0.699406</td>\n",
       "      <td>-0.407885</td>\n",
       "      <td>...</td>\n",
       "      <td>-0.242834</td>\n",
       "      <td>-2.13464</td>\n",
       "      <td>-1.41488</td>\n",
       "      <td>-0.14494</td>\n",
       "      <td>1.37311</td>\n",
       "      <td>0.513704</td>\n",
       "      <td>-0.213419</td>\n",
       "      <td>0.61896</td>\n",
       "      <td>1.61763</td>\n",
       "      <td>0.315124</td>\n",
       "    </tr>\n",
       "    <tr>\n",
       "      <th>c4</th>\n",
       "      <td>0.334597</td>\n",
       "      <td>-0.171121</td>\n",
       "      <td>-0.154783</td>\n",
       "      <td>-0.308483</td>\n",
       "      <td>0.187475</td>\n",
       "      <td>0.14595</td>\n",
       "      <td>0.284376</td>\n",
       "      <td>-0.471129</td>\n",
       "      <td>-0.664824</td>\n",
       "      <td>-0.844535</td>\n",
       "      <td>...</td>\n",
       "      <td>0.765392</td>\n",
       "      <td>0.223378</td>\n",
       "      <td>1.51402</td>\n",
       "      <td>0.047126</td>\n",
       "      <td>-0.935956</td>\n",
       "      <td>-0.802584</td>\n",
       "      <td>-0.140987</td>\n",
       "      <td>1.18664</td>\n",
       "      <td>0.526972</td>\n",
       "      <td>0.10994</td>\n",
       "    </tr>\n",
       "    <tr>\n",
       "      <th>groupable</th>\n",
       "      <td>b</td>\n",
       "      <td>e</td>\n",
       "      <td>c</td>\n",
       "      <td>c</td>\n",
       "      <td>a</td>\n",
       "      <td>a</td>\n",
       "      <td>e</td>\n",
       "      <td>c</td>\n",
       "      <td>a</td>\n",
       "      <td>e</td>\n",
       "      <td>...</td>\n",
       "      <td>e</td>\n",
       "      <td>e</td>\n",
       "      <td>d</td>\n",
       "      <td>d</td>\n",
       "      <td>a</td>\n",
       "      <td>d</td>\n",
       "      <td>b</td>\n",
       "      <td>c</td>\n",
       "      <td>b</td>\n",
       "      <td>c</td>\n",
       "    </tr>\n",
       "  </tbody>\n",
       "</table>\n",
       "<p>6 rows × 52 columns</p>\n",
       "</div>"
      ],
      "text/plain": [
       "                   A         B         C           D         E         F  \\\n",
       "c0         -0.539654   1.39201   1.57973     1.64274  0.772196  0.347332   \n",
       "c1         -0.572994 -0.140589  0.781952 -0.00743637  -1.27336   1.34975   \n",
       "c2          -1.40666   1.01588  0.321885   -0.321796  0.493252 -0.316302   \n",
       "c3         0.0452717 -0.996384  -1.21146    -1.00224   1.00221  -1.41479   \n",
       "c4          0.334597 -0.171121 -0.154783   -0.308483  0.187475   0.14595   \n",
       "groupable          b         e         c           c         a         a   \n",
       "\n",
       "                   G         H         I         J  ...          q         r  \\\n",
       "c0          0.227074  0.590816  0.561258   1.53824  ... -0.0604582   1.27761   \n",
       "c1         -0.449105   0.65551  -1.59219  0.224297  ...   0.610869   1.05639   \n",
       "c2         0.0569093   1.04683  0.345067  0.552589  ...  -0.863758 -0.916935   \n",
       "c3          0.184415  0.130521  0.699406 -0.407885  ...  -0.242834  -2.13464   \n",
       "c4          0.284376 -0.471129 -0.664824 -0.844535  ...   0.765392  0.223378   \n",
       "groupable          e         c         a         e  ...          e         e   \n",
       "\n",
       "                  s         t           u         v         w          x  \\\n",
       "c0        -0.898018   -1.4072     1.04816  -0.47016 -0.509146    1.42363   \n",
       "c1         -1.59902  0.358228 -0.00133336 -0.881317  -1.89976  0.0967842   \n",
       "c2         -1.03536  0.677918   -0.541734  -1.01908 -0.820033  -0.766853   \n",
       "c3         -1.41488  -0.14494     1.37311  0.513704 -0.213419    0.61896   \n",
       "c4          1.51402  0.047126   -0.935956 -0.802584 -0.140987    1.18664   \n",
       "groupable         d         d           a         d         b          c   \n",
       "\n",
       "                  y         z  \n",
       "c0         0.667531   1.11253  \n",
       "c1         -1.05864  0.106048  \n",
       "c2        -0.344843   1.23828  \n",
       "c3          1.61763  0.315124  \n",
       "c4         0.526972   0.10994  \n",
       "groupable         b         c  \n",
       "\n",
       "[6 rows x 52 columns]"
      ]
     },
     "execution_count": 51,
     "metadata": {},
     "output_type": "execute_result"
    }
   ],
   "source": [
    "df1 = df.T\n",
    "df1"
   ]
  },
  {
   "cell_type": "code",
   "execution_count": 52,
   "id": "d8df175c",
   "metadata": {},
   "outputs": [
    {
     "data": {
      "text/plain": [
       "[Index(['A', 'B', 'C', 'D', 'E', 'F', 'G', 'H', 'I', 'J', 'K', 'L', 'M', 'N',\n",
       "        'O', 'P', 'Q', 'R', 'S', 'T', 'U', 'V', 'W', 'X', 'Y', 'Z', 'a', 'b',\n",
       "        'c', 'd', 'e', 'f', 'g', 'h', 'i', 'j', 'k', 'l', 'm', 'n', 'o', 'p',\n",
       "        'q', 'r', 's', 't', 'u', 'v', 'w', 'x', 'y', 'z'],\n",
       "       dtype='object'),\n",
       " Index(['c0', 'c1', 'c2', 'c3', 'c4', 'groupable'], dtype='object')]"
      ]
     },
     "execution_count": 52,
     "metadata": {},
     "output_type": "execute_result"
    }
   ],
   "source": [
    "l = df.axes\n",
    "l"
   ]
  },
  {
   "cell_type": "code",
   "execution_count": 53,
   "id": "c31d8857",
   "metadata": {},
   "outputs": [
    {
     "data": {
      "text/plain": [
       "Index(['A', 'B', 'C', 'D', 'E', 'F', 'G', 'H', 'I', 'J', 'K', 'L', 'M', 'N',\n",
       "       'O', 'P', 'Q', 'R', 'S', 'T', 'U', 'V', 'W', 'X', 'Y', 'Z', 'a', 'b',\n",
       "       'c', 'd', 'e', 'f', 'g', 'h', 'i', 'j', 'k', 'l', 'm', 'n', 'o', 'p',\n",
       "       'q', 'r', 's', 't', 'u', 'v', 'w', 'x', 'y', 'z'],\n",
       "      dtype='object')"
      ]
     },
     "execution_count": 53,
     "metadata": {},
     "output_type": "execute_result"
    }
   ],
   "source": [
    "(r_idx, c_idx) = df.axes\n",
    "r_idx"
   ]
  },
  {
   "cell_type": "code",
   "execution_count": 54,
   "id": "4419b0a1",
   "metadata": {},
   "outputs": [
    {
     "data": {
      "text/plain": [
       "Index(['c0', 'c1', 'c2', 'c3', 'c4', 'groupable'], dtype='object')"
      ]
     },
     "execution_count": 54,
     "metadata": {},
     "output_type": "execute_result"
    }
   ],
   "source": [
    "c_idx"
   ]
  },
  {
   "cell_type": "code",
   "execution_count": 59,
   "id": "36c18a60",
   "metadata": {},
   "outputs": [
    {
     "data": {
      "text/plain": [
       "c0           float64\n",
       "c1           float64\n",
       "c2           float64\n",
       "c3           float64\n",
       "c4           float64\n",
       "groupable     object\n",
       "dtype: object"
      ]
     },
     "execution_count": 59,
     "metadata": {},
     "output_type": "execute_result"
    }
   ],
   "source": [
    " df.dtypes "
   ]
  },
  {
   "cell_type": "code",
   "execution_count": 60,
   "id": "c3cd794d",
   "metadata": {},
   "outputs": [
    {
     "data": {
      "text/plain": [
       "False"
      ]
     },
     "execution_count": 60,
     "metadata": {},
     "output_type": "execute_result"
    }
   ],
   "source": [
    "df.empty"
   ]
  },
  {
   "cell_type": "code",
   "execution_count": 61,
   "id": "6e100ca5",
   "metadata": {},
   "outputs": [
    {
     "data": {
      "text/plain": [
       "2"
      ]
     },
     "execution_count": 61,
     "metadata": {},
     "output_type": "execute_result"
    }
   ],
   "source": [
    "df.ndim "
   ]
  },
  {
   "cell_type": "code",
   "execution_count": 62,
   "id": "9d1c0452",
   "metadata": {},
   "outputs": [
    {
     "data": {
      "text/plain": [
       "(52, 6)"
      ]
     },
     "execution_count": 62,
     "metadata": {},
     "output_type": "execute_result"
    }
   ],
   "source": [
    "df.shape"
   ]
  },
  {
   "cell_type": "code",
   "execution_count": 63,
   "id": "e4863b9d",
   "metadata": {},
   "outputs": [
    {
     "data": {
      "text/plain": [
       "312"
      ]
     },
     "execution_count": 63,
     "metadata": {},
     "output_type": "execute_result"
    }
   ],
   "source": [
    "df.size "
   ]
  },
  {
   "cell_type": "code",
   "execution_count": 66,
   "id": "272748ac",
   "metadata": {},
   "outputs": [
    {
     "data": {
      "text/plain": [
       "array([[-0.5396544546512704, -0.5729941444694224, -1.406656324686357,\n",
       "        0.04527166359713437, 0.3345974364941622, 'b'],\n",
       "       [1.3920111406191915, -0.14058866101896858, 1.015875736653298,\n",
       "        -0.9963843705206737, -0.1711210692321214, 'e'],\n",
       "       [1.579727181912662, 0.7819521397181763, 0.3218845150343614,\n",
       "        -1.211463058464233, -0.15478309327248754, 'c']], dtype=object)"
      ]
     },
     "execution_count": 66,
     "metadata": {},
     "output_type": "execute_result"
    }
   ],
   "source": [
    " df.head(3).values"
   ]
  },
  {
   "cell_type": "code",
   "execution_count": 67,
   "id": "147faad2",
   "metadata": {},
   "outputs": [],
   "source": [
    "df1 = df"
   ]
  },
  {
   "cell_type": "code",
   "execution_count": null,
   "id": "76a8f41b",
   "metadata": {},
   "outputs": [],
   "source": [
    "df1 = df.copy()"
   ]
  },
  {
   "cell_type": "code",
   "execution_count": null,
   "id": "161067a1",
   "metadata": {},
   "outputs": [],
   "source": [
    "df.rank()"
   ]
  },
  {
   "cell_type": "code",
   "execution_count": 71,
   "id": "1664277b",
   "metadata": {},
   "outputs": [
    {
     "data": {
      "text/html": [
       "<div>\n",
       "<style scoped>\n",
       "    .dataframe tbody tr th:only-of-type {\n",
       "        vertical-align: middle;\n",
       "    }\n",
       "\n",
       "    .dataframe tbody tr th {\n",
       "        vertical-align: top;\n",
       "    }\n",
       "\n",
       "    .dataframe thead th {\n",
       "        text-align: right;\n",
       "    }\n",
       "</style>\n",
       "<table border=\"1\" class=\"dataframe\">\n",
       "  <thead>\n",
       "    <tr style=\"text-align: right;\">\n",
       "      <th></th>\n",
       "      <th>c0</th>\n",
       "      <th>c1</th>\n",
       "      <th>c2</th>\n",
       "      <th>c3</th>\n",
       "      <th>c4</th>\n",
       "      <th>groupable</th>\n",
       "    </tr>\n",
       "  </thead>\n",
       "  <tbody>\n",
       "    <tr>\n",
       "      <th>g</th>\n",
       "      <td>-1.731727</td>\n",
       "      <td>-0.919281</td>\n",
       "      <td>-2.315278</td>\n",
       "      <td>2.257602</td>\n",
       "      <td>-0.763343</td>\n",
       "      <td>a</td>\n",
       "    </tr>\n",
       "    <tr>\n",
       "      <th>Q</th>\n",
       "      <td>-1.727055</td>\n",
       "      <td>0.556184</td>\n",
       "      <td>3.070508</td>\n",
       "      <td>-0.838413</td>\n",
       "      <td>-0.318321</td>\n",
       "      <td>a</td>\n",
       "    </tr>\n",
       "    <tr>\n",
       "      <th>d</th>\n",
       "      <td>-1.609128</td>\n",
       "      <td>-0.066680</td>\n",
       "      <td>2.105011</td>\n",
       "      <td>-0.273137</td>\n",
       "      <td>-0.649841</td>\n",
       "      <td>d</td>\n",
       "    </tr>\n",
       "    <tr>\n",
       "      <th>j</th>\n",
       "      <td>-1.422376</td>\n",
       "      <td>1.268995</td>\n",
       "      <td>-0.146637</td>\n",
       "      <td>1.397533</td>\n",
       "      <td>0.618906</td>\n",
       "      <td>c</td>\n",
       "    </tr>\n",
       "    <tr>\n",
       "      <th>t</th>\n",
       "      <td>-1.407201</td>\n",
       "      <td>0.358228</td>\n",
       "      <td>0.677918</td>\n",
       "      <td>-0.144940</td>\n",
       "      <td>0.047126</td>\n",
       "      <td>d</td>\n",
       "    </tr>\n",
       "  </tbody>\n",
       "</table>\n",
       "</div>"
      ],
      "text/plain": [
       "         c0        c1        c2        c3        c4 groupable\n",
       "g -1.731727 -0.919281 -2.315278  2.257602 -0.763343         a\n",
       "Q -1.727055  0.556184  3.070508 -0.838413 -0.318321         a\n",
       "d -1.609128 -0.066680  2.105011 -0.273137 -0.649841         d\n",
       "j -1.422376  1.268995 -0.146637  1.397533  0.618906         c\n",
       "t -1.407201  0.358228  0.677918 -0.144940  0.047126         d"
      ]
     },
     "execution_count": 71,
     "metadata": {},
     "output_type": "execute_result"
    }
   ],
   "source": [
    "df.sort_values(by=\"c0\") .head()\n"
   ]
  },
  {
   "cell_type": "code",
   "execution_count": null,
   "id": "167c6563",
   "metadata": {},
   "outputs": [],
   "source": [
    "df.sort_values(by=[\"c0\", \"c1\"]) "
   ]
  },
  {
   "cell_type": "code",
   "execution_count": null,
   "id": "6d73d208",
   "metadata": {},
   "outputs": [],
   "source": [
    "df.sort_index()"
   ]
  },
  {
   "cell_type": "code",
   "execution_count": 79,
   "id": "21679221",
   "metadata": {},
   "outputs": [
    {
     "data": {
      "text/plain": [
       "c0           float64\n",
       "c1           float64\n",
       "c2           float64\n",
       "c3           float64\n",
       "c4           float64\n",
       "groupable     object\n",
       "dtype: object"
      ]
     },
     "execution_count": 79,
     "metadata": {},
     "output_type": "execute_result"
    }
   ],
   "source": [
    "df.dtypes"
   ]
  },
  {
   "cell_type": "code",
   "execution_count": 87,
   "id": "c37478e1",
   "metadata": {},
   "outputs": [
    {
     "data": {
      "text/plain": [
       "dtype('float32')"
      ]
     },
     "execution_count": 87,
     "metadata": {},
     "output_type": "execute_result"
    }
   ],
   "source": [
    "df2 = df[\"c0\"].astype(\"float32\")\n",
    "df2.dtypes"
   ]
  },
  {
   "cell_type": "code",
   "execution_count": 98,
   "id": "fb9bf6aa",
   "metadata": {},
   "outputs": [
    {
     "name": "stdout",
     "output_type": "stream",
     "text": [
      "('c0', A   -0.539654\n",
      "B    1.392011\n",
      "C    1.579727\n",
      "D    1.642743\n",
      "E    0.772196\n",
      "Name: c0, dtype: float64)\n",
      "('c1', A   -0.572994\n",
      "B   -0.140589\n",
      "C    0.781952\n",
      "D   -0.007436\n",
      "E   -1.273361\n",
      "Name: c1, dtype: float64)\n",
      "('c2', A   -1.406656\n",
      "B    1.015876\n",
      "C    0.321885\n",
      "D   -0.321796\n",
      "E    0.493252\n",
      "Name: c2, dtype: float64)\n",
      "('c3', A    0.045272\n",
      "B   -0.996384\n",
      "C   -1.211463\n",
      "D   -1.002238\n",
      "E    1.002212\n",
      "Name: c3, dtype: float64)\n",
      "('c4', A    0.334597\n",
      "B   -0.171121\n",
      "C   -0.154783\n",
      "D   -0.308483\n",
      "E    0.187475\n",
      "Name: c4, dtype: float64)\n",
      "('groupable', A    b\n",
      "B    e\n",
      "C    c\n",
      "D    c\n",
      "E    a\n",
      "Name: groupable, dtype: object)\n"
     ]
    }
   ],
   "source": [
    "\n",
    "for i in df.head(5).iteritems():\n",
    "    print(i)"
   ]
  },
  {
   "cell_type": "code",
   "execution_count": 99,
   "id": "fe904abd",
   "metadata": {},
   "outputs": [
    {
     "name": "stdout",
     "output_type": "stream",
     "text": [
      "('A', c0           -0.539654\n",
      "c1           -0.572994\n",
      "c2            -1.40666\n",
      "c3           0.0452717\n",
      "c4            0.334597\n",
      "groupable            b\n",
      "Name: A, dtype: object)\n",
      "('B', c0            1.39201\n",
      "c1          -0.140589\n",
      "c2            1.01588\n",
      "c3          -0.996384\n",
      "c4          -0.171121\n",
      "groupable           e\n",
      "Name: B, dtype: object)\n",
      "('C', c0            1.57973\n",
      "c1           0.781952\n",
      "c2           0.321885\n",
      "c3           -1.21146\n",
      "c4          -0.154783\n",
      "groupable           c\n",
      "Name: C, dtype: object)\n",
      "('D', c0              1.64274\n",
      "c1          -0.00743637\n",
      "c2            -0.321796\n",
      "c3             -1.00224\n",
      "c4            -0.308483\n",
      "groupable             c\n",
      "Name: D, dtype: object)\n",
      "('E', c0           0.772196\n",
      "c1           -1.27336\n",
      "c2           0.493252\n",
      "c3            1.00221\n",
      "c4           0.187475\n",
      "groupable           a\n",
      "Name: E, dtype: object)\n"
     ]
    }
   ],
   "source": [
    "for i in df.head(5).iterrows():\n",
    "    print(i)"
   ]
  },
  {
   "cell_type": "code",
   "execution_count": 105,
   "id": "9bff9e6b",
   "metadata": {},
   "outputs": [
    {
     "name": "stdout",
     "output_type": "stream",
     "text": [
      "\n",
      "Col name: c0\n",
      "4th value: 0.7721959820090509\n",
      "\n",
      "Col name: c1\n",
      "4th value: -1.2733608785995272\n",
      "\n",
      "Col name: c2\n",
      "4th value: 0.49325220001193704\n",
      "\n",
      "Col name: c3\n",
      "4th value: 1.002212008640696\n",
      "\n",
      "Col name: c4\n",
      "4th value: 0.18747464630591726\n",
      "\n",
      "Col name: groupable\n",
      "4th value: a\n"
     ]
    }
   ],
   "source": [
    "for (name, series) in df.head(5).iteritems(): \n",
    "    print('\\nCol name: ' + str(name)) \n",
    "    print('4th value: ' + str(series.iat[4])) "
   ]
  },
  {
   "cell_type": "code",
   "execution_count": 107,
   "id": "cc59d765",
   "metadata": {},
   "outputs": [
    {
     "data": {
      "text/plain": [
       "A    0.539654\n",
       "B    1.392011\n",
       "C    1.579727\n",
       "D    1.642743\n",
       "E    0.772196\n",
       "Name: c0, dtype: float64"
      ]
     },
     "execution_count": 107,
     "metadata": {},
     "output_type": "execute_result"
    }
   ],
   "source": [
    " df[\"c0\"].head(5).abs() "
   ]
  },
  {
   "cell_type": "code",
   "execution_count": 112,
   "id": "9bafc462",
   "metadata": {},
   "outputs": [
    {
     "data": {
      "text/plain": [
       "c0           52\n",
       "c1           52\n",
       "c2           52\n",
       "c3           52\n",
       "c4           52\n",
       "groupable    52\n",
       "dtype: int64"
      ]
     },
     "execution_count": 112,
     "metadata": {},
     "output_type": "execute_result"
    }
   ],
   "source": [
    "df.count() "
   ]
  },
  {
   "cell_type": "code",
   "execution_count": 131,
   "id": "e2320990",
   "metadata": {},
   "outputs": [
    {
     "data": {
      "text/html": [
       "<div>\n",
       "<style scoped>\n",
       "    .dataframe tbody tr th:only-of-type {\n",
       "        vertical-align: middle;\n",
       "    }\n",
       "\n",
       "    .dataframe tbody tr th {\n",
       "        vertical-align: top;\n",
       "    }\n",
       "\n",
       "    .dataframe thead th {\n",
       "        text-align: right;\n",
       "    }\n",
       "</style>\n",
       "<table border=\"1\" class=\"dataframe\">\n",
       "  <thead>\n",
       "    <tr style=\"text-align: right;\">\n",
       "      <th></th>\n",
       "      <th>c0</th>\n",
       "      <th>c1</th>\n",
       "      <th>c2</th>\n",
       "      <th>c3</th>\n",
       "      <th>c4</th>\n",
       "      <th>groupable</th>\n",
       "    </tr>\n",
       "  </thead>\n",
       "  <tbody>\n",
       "    <tr>\n",
       "      <th>A</th>\n",
       "      <td>NaN</td>\n",
       "      <td>NaN</td>\n",
       "      <td>NaN</td>\n",
       "      <td>NaN</td>\n",
       "      <td>NaN</td>\n",
       "      <td>NaN</td>\n",
       "    </tr>\n",
       "    <tr>\n",
       "      <th>B</th>\n",
       "      <td>1.392011</td>\n",
       "      <td>-0.140589</td>\n",
       "      <td>1.015876</td>\n",
       "      <td>-0.996384</td>\n",
       "      <td>-0.171121</td>\n",
       "      <td>e</td>\n",
       "    </tr>\n",
       "    <tr>\n",
       "      <th>C</th>\n",
       "      <td>1.579727</td>\n",
       "      <td>0.781952</td>\n",
       "      <td>0.321885</td>\n",
       "      <td>-1.211463</td>\n",
       "      <td>-0.154783</td>\n",
       "      <td>c</td>\n",
       "    </tr>\n",
       "    <tr>\n",
       "      <th>D</th>\n",
       "      <td>1.642743</td>\n",
       "      <td>-0.007436</td>\n",
       "      <td>-0.321796</td>\n",
       "      <td>-1.002238</td>\n",
       "      <td>-0.308483</td>\n",
       "      <td>c</td>\n",
       "    </tr>\n",
       "    <tr>\n",
       "      <th>E</th>\n",
       "      <td>0.772196</td>\n",
       "      <td>-1.273361</td>\n",
       "      <td>0.493252</td>\n",
       "      <td>1.002212</td>\n",
       "      <td>0.187475</td>\n",
       "      <td>a</td>\n",
       "    </tr>\n",
       "  </tbody>\n",
       "</table>\n",
       "</div>"
      ],
      "text/plain": [
       "         c0        c1        c2        c3        c4 groupable\n",
       "A       NaN       NaN       NaN       NaN       NaN       NaN\n",
       "B  1.392011 -0.140589  1.015876 -0.996384 -0.171121         e\n",
       "C  1.579727  0.781952  0.321885 -1.211463 -0.154783         c\n",
       "D  1.642743 -0.007436 -0.321796 -1.002238 -0.308483         c\n",
       "E  0.772196 -1.273361  0.493252  1.002212  0.187475         a"
      ]
     },
     "execution_count": 131,
     "metadata": {},
     "output_type": "execute_result"
    }
   ],
   "source": [
    "df.head(5).where(df[\"c0\"] > 0.5, other=np.nan)"
   ]
  },
  {
   "cell_type": "code",
   "execution_count": 141,
   "id": "f0854a4d",
   "metadata": {},
   "outputs": [
    {
     "data": {
      "text/html": [
       "<div>\n",
       "<style scoped>\n",
       "    .dataframe tbody tr th:only-of-type {\n",
       "        vertical-align: middle;\n",
       "    }\n",
       "\n",
       "    .dataframe tbody tr th {\n",
       "        vertical-align: top;\n",
       "    }\n",
       "\n",
       "    .dataframe thead th {\n",
       "        text-align: right;\n",
       "    }\n",
       "</style>\n",
       "<table border=\"1\" class=\"dataframe\">\n",
       "  <thead>\n",
       "    <tr style=\"text-align: right;\">\n",
       "      <th></th>\n",
       "      <th>c0</th>\n",
       "      <th>c1</th>\n",
       "      <th>c2</th>\n",
       "      <th>c3</th>\n",
       "      <th>c4</th>\n",
       "      <th>groupable</th>\n",
       "    </tr>\n",
       "  </thead>\n",
       "  <tbody>\n",
       "    <tr>\n",
       "      <th>a</th>\n",
       "      <td>-0.369808</td>\n",
       "      <td>1.175656</td>\n",
       "      <td>-1.080029</td>\n",
       "      <td>-0.913686</td>\n",
       "      <td>-0.081621</td>\n",
       "      <td>c</td>\n",
       "    </tr>\n",
       "    <tr>\n",
       "      <th>A</th>\n",
       "      <td>-0.539654</td>\n",
       "      <td>-0.572994</td>\n",
       "      <td>-1.406656</td>\n",
       "      <td>0.045272</td>\n",
       "      <td>0.334597</td>\n",
       "      <td>b</td>\n",
       "    </tr>\n",
       "    <tr>\n",
       "      <th>z</th>\n",
       "      <td>1.112532</td>\n",
       "      <td>0.106048</td>\n",
       "      <td>1.238279</td>\n",
       "      <td>0.315124</td>\n",
       "      <td>0.109940</td>\n",
       "      <td>c</td>\n",
       "    </tr>\n",
       "  </tbody>\n",
       "</table>\n",
       "</div>"
      ],
      "text/plain": [
       "         c0        c1        c2        c3        c4 groupable\n",
       "a -0.369808  1.175656 -1.080029 -0.913686 -0.081621         c\n",
       "A -0.539654 -0.572994 -1.406656  0.045272  0.334597         b\n",
       "z  1.112532  0.106048  1.238279  0.315124  0.109940         c"
      ]
     },
     "execution_count": 141,
     "metadata": {},
     "output_type": "execute_result"
    }
   ],
   "source": [
    " df.filter(items=[\"a\",\"A\",\"z\"], axis=0)"
   ]
  },
  {
   "cell_type": "code",
   "execution_count": null,
   "id": "b79b1e14",
   "metadata": {},
   "outputs": [],
   "source": [
    "df.filter(like='c')"
   ]
  },
  {
   "cell_type": "code",
   "execution_count": null,
   "id": "a4ffcd20",
   "metadata": {},
   "outputs": [],
   "source": [
    "df.filter(regex='c1')"
   ]
  },
  {
   "cell_type": "code",
   "execution_count": 152,
   "id": "4fb7fab5",
   "metadata": {},
   "outputs": [
    {
     "data": {
      "text/plain": [
       "array(['c0', 'c1', 'c2', 'c3', 'c4', 'groupable'], dtype=object)"
      ]
     },
     "execution_count": 152,
     "metadata": {},
     "output_type": "execute_result"
    }
   ],
   "source": [
    "df.columns.values"
   ]
  },
  {
   "cell_type": "code",
   "execution_count": 153,
   "id": "4f1fbcc1",
   "metadata": {},
   "outputs": [
    {
     "data": {
      "text/plain": [
       "['c0', 'c1', 'c2', 'c3', 'c4', 'groupable']"
      ]
     },
     "execution_count": 153,
     "metadata": {},
     "output_type": "execute_result"
    }
   ],
   "source": [
    "df.columns.tolist() "
   ]
  },
  {
   "cell_type": "code",
   "execution_count": 156,
   "id": "6766aace",
   "metadata": {},
   "outputs": [
    {
     "data": {
      "text/html": [
       "<div>\n",
       "<style scoped>\n",
       "    .dataframe tbody tr th:only-of-type {\n",
       "        vertical-align: middle;\n",
       "    }\n",
       "\n",
       "    .dataframe tbody tr th {\n",
       "        vertical-align: top;\n",
       "    }\n",
       "\n",
       "    .dataframe thead th {\n",
       "        text-align: right;\n",
       "    }\n",
       "</style>\n",
       "<table border=\"1\" class=\"dataframe\">\n",
       "  <thead>\n",
       "    <tr style=\"text-align: right;\">\n",
       "      <th></th>\n",
       "      <th>c10</th>\n",
       "      <th>c11</th>\n",
       "      <th>c2</th>\n",
       "      <th>c3</th>\n",
       "      <th>c4</th>\n",
       "      <th>groupable</th>\n",
       "    </tr>\n",
       "  </thead>\n",
       "  <tbody>\n",
       "    <tr>\n",
       "      <th>A</th>\n",
       "      <td>-0.539654</td>\n",
       "      <td>-0.572994</td>\n",
       "      <td>-1.406656</td>\n",
       "      <td>0.045272</td>\n",
       "      <td>0.334597</td>\n",
       "      <td>b</td>\n",
       "    </tr>\n",
       "    <tr>\n",
       "      <th>B</th>\n",
       "      <td>1.392011</td>\n",
       "      <td>-0.140589</td>\n",
       "      <td>1.015876</td>\n",
       "      <td>-0.996384</td>\n",
       "      <td>-0.171121</td>\n",
       "      <td>e</td>\n",
       "    </tr>\n",
       "    <tr>\n",
       "      <th>C</th>\n",
       "      <td>1.579727</td>\n",
       "      <td>0.781952</td>\n",
       "      <td>0.321885</td>\n",
       "      <td>-1.211463</td>\n",
       "      <td>-0.154783</td>\n",
       "      <td>c</td>\n",
       "    </tr>\n",
       "    <tr>\n",
       "      <th>D</th>\n",
       "      <td>1.642743</td>\n",
       "      <td>-0.007436</td>\n",
       "      <td>-0.321796</td>\n",
       "      <td>-1.002238</td>\n",
       "      <td>-0.308483</td>\n",
       "      <td>c</td>\n",
       "    </tr>\n",
       "    <tr>\n",
       "      <th>E</th>\n",
       "      <td>0.772196</td>\n",
       "      <td>-1.273361</td>\n",
       "      <td>0.493252</td>\n",
       "      <td>1.002212</td>\n",
       "      <td>0.187475</td>\n",
       "      <td>a</td>\n",
       "    </tr>\n",
       "  </tbody>\n",
       "</table>\n",
       "</div>"
      ],
      "text/plain": [
       "        c10       c11        c2        c3        c4 groupable\n",
       "A -0.539654 -0.572994 -1.406656  0.045272  0.334597         b\n",
       "B  1.392011 -0.140589  1.015876 -0.996384 -0.171121         e\n",
       "C  1.579727  0.781952  0.321885 -1.211463 -0.154783         c\n",
       "D  1.642743 -0.007436 -0.321796 -1.002238 -0.308483         c\n",
       "E  0.772196 -1.273361  0.493252  1.002212  0.187475         a"
      ]
     },
     "execution_count": 156,
     "metadata": {},
     "output_type": "execute_result"
    }
   ],
   "source": [
    "df.head(5).rename(columns={'c0':'c10','c1':'c11'})"
   ]
  },
  {
   "cell_type": "code",
   "execution_count": 157,
   "id": "c4ebc665",
   "metadata": {},
   "outputs": [
    {
     "data": {
      "text/plain": [
       "Index(['c0', 'c1', 'c2', 'c3', 'c4', 'groupable'], dtype='object')"
      ]
     },
     "execution_count": 157,
     "metadata": {},
     "output_type": "execute_result"
    }
   ],
   "source": [
    "df.columns"
   ]
  },
  {
   "cell_type": "code",
   "execution_count": 159,
   "id": "4184f363",
   "metadata": {},
   "outputs": [],
   "source": [
    "df.columns = ['c10', 'c11', 'c2' , 'c3' , 'c4',\"groupable\"] "
   ]
  },
  {
   "cell_type": "code",
   "execution_count": 160,
   "id": "36eb87d2",
   "metadata": {},
   "outputs": [
    {
     "data": {
      "text/plain": [
       "Index(['c10', 'c11', 'c2', 'c3', 'c4', 'groupable'], dtype='object')"
      ]
     },
     "execution_count": 160,
     "metadata": {},
     "output_type": "execute_result"
    }
   ],
   "source": [
    "df.columns"
   ]
  },
  {
   "cell_type": "code",
   "execution_count": 162,
   "id": "1d488f25",
   "metadata": {},
   "outputs": [
    {
     "data": {
      "text/plain": [
       "Index(['c10', 'c11', 'c2', 'c3'], dtype='object')"
      ]
     },
     "execution_count": 162,
     "metadata": {},
     "output_type": "execute_result"
    }
   ],
   "source": [
    "df.columns[:-2]"
   ]
  },
  {
   "cell_type": "code",
   "execution_count": 165,
   "id": "ad204f52",
   "metadata": {},
   "outputs": [
    {
     "data": {
      "text/html": [
       "<div>\n",
       "<style scoped>\n",
       "    .dataframe tbody tr th:only-of-type {\n",
       "        vertical-align: middle;\n",
       "    }\n",
       "\n",
       "    .dataframe tbody tr th {\n",
       "        vertical-align: top;\n",
       "    }\n",
       "\n",
       "    .dataframe thead th {\n",
       "        text-align: right;\n",
       "    }\n",
       "</style>\n",
       "<table border=\"1\" class=\"dataframe\">\n",
       "  <thead>\n",
       "    <tr style=\"text-align: right;\">\n",
       "      <th></th>\n",
       "      <th>c11</th>\n",
       "      <th>c2</th>\n",
       "      <th>c3</th>\n",
       "      <th>c4</th>\n",
       "      <th>groupable</th>\n",
       "    </tr>\n",
       "  </thead>\n",
       "  <tbody>\n",
       "    <tr>\n",
       "      <th>A</th>\n",
       "      <td>-0.572994</td>\n",
       "      <td>-1.406656</td>\n",
       "      <td>0.045272</td>\n",
       "      <td>0.334597</td>\n",
       "      <td>b</td>\n",
       "    </tr>\n",
       "    <tr>\n",
       "      <th>B</th>\n",
       "      <td>-0.140589</td>\n",
       "      <td>1.015876</td>\n",
       "      <td>-0.996384</td>\n",
       "      <td>-0.171121</td>\n",
       "      <td>e</td>\n",
       "    </tr>\n",
       "    <tr>\n",
       "      <th>C</th>\n",
       "      <td>0.781952</td>\n",
       "      <td>0.321885</td>\n",
       "      <td>-1.211463</td>\n",
       "      <td>-0.154783</td>\n",
       "      <td>c</td>\n",
       "    </tr>\n",
       "    <tr>\n",
       "      <th>D</th>\n",
       "      <td>-0.007436</td>\n",
       "      <td>-0.321796</td>\n",
       "      <td>-1.002238</td>\n",
       "      <td>-0.308483</td>\n",
       "      <td>c</td>\n",
       "    </tr>\n",
       "    <tr>\n",
       "      <th>E</th>\n",
       "      <td>-1.273361</td>\n",
       "      <td>0.493252</td>\n",
       "      <td>1.002212</td>\n",
       "      <td>0.187475</td>\n",
       "      <td>a</td>\n",
       "    </tr>\n",
       "  </tbody>\n",
       "</table>\n",
       "</div>"
      ],
      "text/plain": [
       "        c11        c2        c3        c4 groupable\n",
       "A -0.572994 -1.406656  0.045272  0.334597         b\n",
       "B -0.140589  1.015876 -0.996384 -0.171121         e\n",
       "C  0.781952  0.321885 -1.211463 -0.154783         c\n",
       "D -0.007436 -0.321796 -1.002238 -0.308483         c\n",
       "E -1.273361  0.493252  1.002212  0.187475         a"
      ]
     },
     "execution_count": 165,
     "metadata": {},
     "output_type": "execute_result"
    }
   ],
   "source": [
    "df.pop('c10')\n",
    "df.head(5)"
   ]
  },
  {
   "cell_type": "code",
   "execution_count": 166,
   "id": "2088bbae",
   "metadata": {},
   "outputs": [],
   "source": [
    "df.drop('c11', axis=1, inplace=True) "
   ]
  },
  {
   "cell_type": "code",
   "execution_count": 167,
   "id": "aee151d3",
   "metadata": {},
   "outputs": [
    {
     "data": {
      "text/html": [
       "<div>\n",
       "<style scoped>\n",
       "    .dataframe tbody tr th:only-of-type {\n",
       "        vertical-align: middle;\n",
       "    }\n",
       "\n",
       "    .dataframe tbody tr th {\n",
       "        vertical-align: top;\n",
       "    }\n",
       "\n",
       "    .dataframe thead th {\n",
       "        text-align: right;\n",
       "    }\n",
       "</style>\n",
       "<table border=\"1\" class=\"dataframe\">\n",
       "  <thead>\n",
       "    <tr style=\"text-align: right;\">\n",
       "      <th></th>\n",
       "      <th>c2</th>\n",
       "      <th>c3</th>\n",
       "      <th>c4</th>\n",
       "      <th>groupable</th>\n",
       "    </tr>\n",
       "  </thead>\n",
       "  <tbody>\n",
       "    <tr>\n",
       "      <th>A</th>\n",
       "      <td>-1.406656</td>\n",
       "      <td>0.045272</td>\n",
       "      <td>0.334597</td>\n",
       "      <td>b</td>\n",
       "    </tr>\n",
       "    <tr>\n",
       "      <th>B</th>\n",
       "      <td>1.015876</td>\n",
       "      <td>-0.996384</td>\n",
       "      <td>-0.171121</td>\n",
       "      <td>e</td>\n",
       "    </tr>\n",
       "    <tr>\n",
       "      <th>C</th>\n",
       "      <td>0.321885</td>\n",
       "      <td>-1.211463</td>\n",
       "      <td>-0.154783</td>\n",
       "      <td>c</td>\n",
       "    </tr>\n",
       "    <tr>\n",
       "      <th>D</th>\n",
       "      <td>-0.321796</td>\n",
       "      <td>-1.002238</td>\n",
       "      <td>-0.308483</td>\n",
       "      <td>c</td>\n",
       "    </tr>\n",
       "    <tr>\n",
       "      <th>E</th>\n",
       "      <td>0.493252</td>\n",
       "      <td>1.002212</td>\n",
       "      <td>0.187475</td>\n",
       "      <td>a</td>\n",
       "    </tr>\n",
       "  </tbody>\n",
       "</table>\n",
       "</div>"
      ],
      "text/plain": [
       "         c2        c3        c4 groupable\n",
       "A -1.406656  0.045272  0.334597         b\n",
       "B  1.015876 -0.996384 -0.171121         e\n",
       "C  0.321885 -1.211463 -0.154783         c\n",
       "D -0.321796 -1.002238 -0.308483         c\n",
       "E  0.493252  1.002212  0.187475         a"
      ]
     },
     "execution_count": 167,
     "metadata": {},
     "output_type": "execute_result"
    }
   ],
   "source": [
    "df.head()"
   ]
  },
  {
   "cell_type": "code",
   "execution_count": 174,
   "id": "f29c980e",
   "metadata": {},
   "outputs": [
    {
     "data": {
      "text/html": [
       "<div>\n",
       "<style scoped>\n",
       "    .dataframe tbody tr th:only-of-type {\n",
       "        vertical-align: middle;\n",
       "    }\n",
       "\n",
       "    .dataframe tbody tr th {\n",
       "        vertical-align: top;\n",
       "    }\n",
       "\n",
       "    .dataframe thead th {\n",
       "        text-align: right;\n",
       "    }\n",
       "</style>\n",
       "<table border=\"1\" class=\"dataframe\">\n",
       "  <thead>\n",
       "    <tr style=\"text-align: right;\">\n",
       "      <th></th>\n",
       "      <th>c3</th>\n",
       "      <th>c4</th>\n",
       "      <th>groupable</th>\n",
       "    </tr>\n",
       "  </thead>\n",
       "  <tbody>\n",
       "    <tr>\n",
       "      <th>A</th>\n",
       "      <td>0.045272</td>\n",
       "      <td>0.334597</td>\n",
       "      <td>b</td>\n",
       "    </tr>\n",
       "    <tr>\n",
       "      <th>B</th>\n",
       "      <td>-0.996384</td>\n",
       "      <td>-0.171121</td>\n",
       "      <td>e</td>\n",
       "    </tr>\n",
       "    <tr>\n",
       "      <th>C</th>\n",
       "      <td>-1.211463</td>\n",
       "      <td>-0.154783</td>\n",
       "      <td>c</td>\n",
       "    </tr>\n",
       "    <tr>\n",
       "      <th>D</th>\n",
       "      <td>-1.002238</td>\n",
       "      <td>-0.308483</td>\n",
       "      <td>c</td>\n",
       "    </tr>\n",
       "    <tr>\n",
       "      <th>E</th>\n",
       "      <td>1.002212</td>\n",
       "      <td>0.187475</td>\n",
       "      <td>a</td>\n",
       "    </tr>\n",
       "  </tbody>\n",
       "</table>\n",
       "</div>"
      ],
      "text/plain": [
       "         c3        c4 groupable\n",
       "A  0.045272  0.334597         b\n",
       "B -0.996384 -0.171121         e\n",
       "C -1.211463 -0.154783         c\n",
       "D -1.002238 -0.308483         c\n",
       "E  1.002212  0.187475         a"
      ]
     },
     "execution_count": 174,
     "metadata": {},
     "output_type": "execute_result"
    }
   ],
   "source": [
    "df3 = df.drop('c2', axis=1) \n",
    "df3.head()"
   ]
  },
  {
   "cell_type": "code",
   "execution_count": 178,
   "id": "aecb52d5",
   "metadata": {},
   "outputs": [
    {
     "data": {
      "text/plain": [
       "A   -3.095074\n",
       "B         NaN\n",
       "C         NaN\n",
       "D         NaN\n",
       "E    0.002210\n",
       "Name: c3, dtype: float64"
      ]
     },
     "execution_count": 178,
     "metadata": {},
     "output_type": "execute_result"
    }
   ],
   "source": [
    "np.log(df3.head(5)['c3']) "
   ]
  },
  {
   "cell_type": "code",
   "execution_count": 179,
   "id": "55629b62",
   "metadata": {},
   "outputs": [],
   "source": [
    "def sigmoid(x):\n",
    "    return 1 / (1+np.exp(-1))"
   ]
  },
  {
   "cell_type": "code",
   "execution_count": 190,
   "id": "94ba3534",
   "metadata": {},
   "outputs": [],
   "source": [
    "df3[\"c3\"] = sigmoid(df3[\"c3\"])"
   ]
  },
  {
   "cell_type": "code",
   "execution_count": 193,
   "id": "d6fd2804",
   "metadata": {},
   "outputs": [
    {
     "data": {
      "text/html": [
       "<div>\n",
       "<style scoped>\n",
       "    .dataframe tbody tr th:only-of-type {\n",
       "        vertical-align: middle;\n",
       "    }\n",
       "\n",
       "    .dataframe tbody tr th {\n",
       "        vertical-align: top;\n",
       "    }\n",
       "\n",
       "    .dataframe thead th {\n",
       "        text-align: right;\n",
       "    }\n",
       "</style>\n",
       "<table border=\"1\" class=\"dataframe\">\n",
       "  <thead>\n",
       "    <tr style=\"text-align: right;\">\n",
       "      <th></th>\n",
       "      <th>c2</th>\n",
       "      <th>c3</th>\n",
       "      <th>c4</th>\n",
       "      <th>groupable</th>\n",
       "    </tr>\n",
       "  </thead>\n",
       "  <tbody>\n",
       "    <tr>\n",
       "      <th>A</th>\n",
       "      <td>-1.406656</td>\n",
       "      <td>0.045272</td>\n",
       "      <td>0.334597</td>\n",
       "      <td>b</td>\n",
       "    </tr>\n",
       "    <tr>\n",
       "      <th>B</th>\n",
       "      <td>1.015876</td>\n",
       "      <td>-0.996384</td>\n",
       "      <td>-0.171121</td>\n",
       "      <td>e</td>\n",
       "    </tr>\n",
       "    <tr>\n",
       "      <th>C</th>\n",
       "      <td>0.321885</td>\n",
       "      <td>-1.211463</td>\n",
       "      <td>-0.154783</td>\n",
       "      <td>c</td>\n",
       "    </tr>\n",
       "    <tr>\n",
       "      <th>D</th>\n",
       "      <td>-0.321796</td>\n",
       "      <td>-1.002238</td>\n",
       "      <td>-0.308483</td>\n",
       "      <td>c</td>\n",
       "    </tr>\n",
       "    <tr>\n",
       "      <th>E</th>\n",
       "      <td>0.493252</td>\n",
       "      <td>1.002212</td>\n",
       "      <td>0.187475</td>\n",
       "      <td>a</td>\n",
       "    </tr>\n",
       "  </tbody>\n",
       "</table>\n",
       "</div>"
      ],
      "text/plain": [
       "         c2        c3        c4 groupable\n",
       "A -1.406656  0.045272  0.334597         b\n",
       "B  1.015876 -0.996384 -0.171121         e\n",
       "C  0.321885 -1.211463 -0.154783         c\n",
       "D -0.321796 -1.002238 -0.308483         c\n",
       "E  0.493252  1.002212  0.187475         a"
      ]
     },
     "execution_count": 193,
     "metadata": {},
     "output_type": "execute_result"
    }
   ],
   "source": [
    "df.head()"
   ]
  },
  {
   "cell_type": "code",
   "execution_count": 194,
   "id": "bcab7c0f",
   "metadata": {},
   "outputs": [],
   "source": [
    "df['z'] = df['c2'].where(df['c2']>0, other=0) "
   ]
  },
  {
   "cell_type": "code",
   "execution_count": 196,
   "id": "bcb6e5c6",
   "metadata": {},
   "outputs": [
    {
     "data": {
      "text/html": [
       "<div>\n",
       "<style scoped>\n",
       "    .dataframe tbody tr th:only-of-type {\n",
       "        vertical-align: middle;\n",
       "    }\n",
       "\n",
       "    .dataframe tbody tr th {\n",
       "        vertical-align: top;\n",
       "    }\n",
       "\n",
       "    .dataframe thead th {\n",
       "        text-align: right;\n",
       "    }\n",
       "</style>\n",
       "<table border=\"1\" class=\"dataframe\">\n",
       "  <thead>\n",
       "    <tr style=\"text-align: right;\">\n",
       "      <th></th>\n",
       "      <th>c2</th>\n",
       "      <th>c3</th>\n",
       "      <th>c4</th>\n",
       "      <th>groupable</th>\n",
       "      <th>z</th>\n",
       "    </tr>\n",
       "  </thead>\n",
       "  <tbody>\n",
       "    <tr>\n",
       "      <th>A</th>\n",
       "      <td>-1.406656</td>\n",
       "      <td>0.045272</td>\n",
       "      <td>0.334597</td>\n",
       "      <td>b</td>\n",
       "      <td>0.000000</td>\n",
       "    </tr>\n",
       "    <tr>\n",
       "      <th>B</th>\n",
       "      <td>1.015876</td>\n",
       "      <td>-0.996384</td>\n",
       "      <td>-0.171121</td>\n",
       "      <td>e</td>\n",
       "      <td>1.015876</td>\n",
       "    </tr>\n",
       "    <tr>\n",
       "      <th>C</th>\n",
       "      <td>0.321885</td>\n",
       "      <td>-1.211463</td>\n",
       "      <td>-0.154783</td>\n",
       "      <td>c</td>\n",
       "      <td>0.321885</td>\n",
       "    </tr>\n",
       "  </tbody>\n",
       "</table>\n",
       "</div>"
      ],
      "text/plain": [
       "         c2        c3        c4 groupable         z\n",
       "A -1.406656  0.045272  0.334597         b  0.000000\n",
       "B  1.015876 -0.996384 -0.171121         e  1.015876\n",
       "C  0.321885 -1.211463 -0.154783         c  0.321885"
      ]
     },
     "execution_count": 196,
     "metadata": {},
     "output_type": "execute_result"
    }
   ],
   "source": [
    "df.head(3)"
   ]
  },
  {
   "cell_type": "code",
   "execution_count": 197,
   "id": "7f18f838",
   "metadata": {},
   "outputs": [
    {
     "data": {
      "text/plain": [
       "-5.10744324209698"
      ]
     },
     "execution_count": 197,
     "metadata": {},
     "output_type": "execute_result"
    }
   ],
   "source": [
    "df['c2'].sum() "
   ]
  },
  {
   "cell_type": "code",
   "execution_count": 198,
   "id": "4b9b7a2d",
   "metadata": {},
   "outputs": [
    {
     "data": {
      "text/plain": [
       "-2.0327741807890272e-13"
      ]
     },
     "execution_count": 198,
     "metadata": {},
     "output_type": "execute_result"
    }
   ],
   "source": [
    " df['c2'].prod()"
   ]
  },
  {
   "cell_type": "code",
   "execution_count": 199,
   "id": "89d41054",
   "metadata": {},
   "outputs": [
    {
     "data": {
      "text/plain": [
       "-0.12517355725862592"
      ]
     },
     "execution_count": 199,
     "metadata": {},
     "output_type": "execute_result"
    }
   ],
   "source": [
    "df['c2'].cov(df['c3'])"
   ]
  },
  {
   "cell_type": "code",
   "execution_count": 202,
   "id": "9d1f1cb9",
   "metadata": {},
   "outputs": [],
   "source": [
    "df1 = df.drop([\"groupable\"],axis=1)"
   ]
  },
  {
   "cell_type": "code",
   "execution_count": 208,
   "id": "263f9e10",
   "metadata": {},
   "outputs": [
    {
     "data": {
      "text/plain": [
       "'g'"
      ]
     },
     "execution_count": 208,
     "metadata": {},
     "output_type": "execute_result"
    }
   ],
   "source": [
    "df['c2'].idxmin()"
   ]
  },
  {
   "cell_type": "code",
   "execution_count": null,
   "id": "837ae080",
   "metadata": {},
   "outputs": [],
   "source": [
    "df.where(df[\"c2\"]==df['c2'].min())"
   ]
  },
  {
   "cell_type": "code",
   "execution_count": 217,
   "id": "2aa5f8ce",
   "metadata": {},
   "outputs": [
    {
     "data": {
      "text/plain": [
       "A   -1.41\n",
       "B    1.02\n",
       "C    0.32\n",
       "D   -0.32\n",
       "E    0.49\n",
       "Name: c2, dtype: float64"
      ]
     },
     "execution_count": 217,
     "metadata": {},
     "output_type": "execute_result"
    }
   ],
   "source": [
    "df['c2'].head(5).round(decimals=2)"
   ]
  },
  {
   "cell_type": "code",
   "execution_count": 226,
   "id": "1429cbef",
   "metadata": {},
   "outputs": [
    {
     "data": {
      "text/plain": [
       "A   -1.406656\n",
       "B    1.015876\n",
       "C    0.321885\n",
       "D   -0.321796\n",
       "E    0.493252\n",
       "Name: c2, dtype: float64"
      ]
     },
     "execution_count": 226,
     "metadata": {},
     "output_type": "execute_result"
    }
   ],
   "source": [
    "df['c2'].head(5)"
   ]
  },
  {
   "cell_type": "code",
   "execution_count": 228,
   "id": "e559ec12",
   "metadata": {},
   "outputs": [
    {
     "data": {
      "text/plain": [
       "A         NaN\n",
       "B         NaN\n",
       "C    1.728541\n",
       "D   -1.337672\n",
       "E    0.171368\n",
       "Name: c2, dtype: float64"
      ]
     },
     "execution_count": 228,
     "metadata": {},
     "output_type": "execute_result"
    }
   ],
   "source": [
    "df['c2'].head(5).diff(periods=2)"
   ]
  },
  {
   "cell_type": "code",
   "execution_count": 247,
   "id": "8b52b5d8",
   "metadata": {},
   "outputs": [
    {
     "data": {
      "text/html": [
       "<div>\n",
       "<style scoped>\n",
       "    .dataframe tbody tr th:only-of-type {\n",
       "        vertical-align: middle;\n",
       "    }\n",
       "\n",
       "    .dataframe tbody tr th {\n",
       "        vertical-align: top;\n",
       "    }\n",
       "\n",
       "    .dataframe thead th {\n",
       "        text-align: right;\n",
       "    }\n",
       "</style>\n",
       "<table border=\"1\" class=\"dataframe\">\n",
       "  <thead>\n",
       "    <tr style=\"text-align: right;\">\n",
       "      <th></th>\n",
       "      <th>c2</th>\n",
       "      <th>c3</th>\n",
       "    </tr>\n",
       "  </thead>\n",
       "  <tbody>\n",
       "    <tr>\n",
       "      <th>A</th>\n",
       "      <td>NaN</td>\n",
       "      <td>NaN</td>\n",
       "    </tr>\n",
       "    <tr>\n",
       "      <th>B</th>\n",
       "      <td>-1.406656</td>\n",
       "      <td>0.045272</td>\n",
       "    </tr>\n",
       "    <tr>\n",
       "      <th>C</th>\n",
       "      <td>1.015876</td>\n",
       "      <td>-0.996384</td>\n",
       "    </tr>\n",
       "    <tr>\n",
       "      <th>D</th>\n",
       "      <td>0.321885</td>\n",
       "      <td>-1.211463</td>\n",
       "    </tr>\n",
       "    <tr>\n",
       "      <th>E</th>\n",
       "      <td>-0.321796</td>\n",
       "      <td>-1.002238</td>\n",
       "    </tr>\n",
       "  </tbody>\n",
       "</table>\n",
       "</div>"
      ],
      "text/plain": [
       "         c2        c3\n",
       "A       NaN       NaN\n",
       "B -1.406656  0.045272\n",
       "C  1.015876 -0.996384\n",
       "D  0.321885 -1.211463\n",
       "E -0.321796 -1.002238"
      ]
     },
     "execution_count": 247,
     "metadata": {},
     "output_type": "execute_result"
    }
   ],
   "source": [
    "df[[\"c2\",\"c3\"]].head(5).shift(periods=1)"
   ]
  },
  {
   "cell_type": "code",
   "execution_count": null,
   "id": "2d35699b",
   "metadata": {},
   "outputs": [],
   "source": [
    "df['c2'].pct_change(periods=1)"
   ]
  },
  {
   "cell_type": "code",
   "execution_count": 242,
   "id": "d6718d21",
   "metadata": {},
   "outputs": [],
   "source": [
    "df10 = df.drop([\"groupable\"],axis=1)"
   ]
  },
  {
   "cell_type": "code",
   "execution_count": 253,
   "id": "48a4126f",
   "metadata": {},
   "outputs": [
    {
     "data": {
      "text/html": [
       "<div>\n",
       "<style scoped>\n",
       "    .dataframe tbody tr th:only-of-type {\n",
       "        vertical-align: middle;\n",
       "    }\n",
       "\n",
       "    .dataframe tbody tr th {\n",
       "        vertical-align: top;\n",
       "    }\n",
       "\n",
       "    .dataframe thead th {\n",
       "        text-align: right;\n",
       "    }\n",
       "</style>\n",
       "<table border=\"1\" class=\"dataframe\">\n",
       "  <thead>\n",
       "    <tr style=\"text-align: right;\">\n",
       "      <th></th>\n",
       "      <th>c2</th>\n",
       "      <th>c3</th>\n",
       "    </tr>\n",
       "  </thead>\n",
       "  <tbody>\n",
       "    <tr>\n",
       "      <th>A</th>\n",
       "      <td>NaN</td>\n",
       "      <td>NaN</td>\n",
       "    </tr>\n",
       "    <tr>\n",
       "      <th>B</th>\n",
       "      <td>-0.390781</td>\n",
       "      <td>-0.951113</td>\n",
       "    </tr>\n",
       "    <tr>\n",
       "      <th>C</th>\n",
       "      <td>1.337760</td>\n",
       "      <td>-2.207847</td>\n",
       "    </tr>\n",
       "    <tr>\n",
       "      <th>D</th>\n",
       "      <td>0.000089</td>\n",
       "      <td>-2.213701</td>\n",
       "    </tr>\n",
       "    <tr>\n",
       "      <th>E</th>\n",
       "      <td>0.171456</td>\n",
       "      <td>-0.000026</td>\n",
       "    </tr>\n",
       "  </tbody>\n",
       "</table>\n",
       "</div>"
      ],
      "text/plain": [
       "         c2        c3\n",
       "A       NaN       NaN\n",
       "B -0.390781 -0.951113\n",
       "C  1.337760 -2.207847\n",
       "D  0.000089 -2.213701\n",
       "E  0.171456 -0.000026"
      ]
     },
     "execution_count": 253,
     "metadata": {},
     "output_type": "execute_result"
    }
   ],
   "source": [
    "df[[\"c2\",\"c3\"]].head(5).rolling(window=2, \n",
    " min_periods=2, center=False).sum()"
   ]
  },
  {
   "cell_type": "code",
   "execution_count": 255,
   "id": "69469964",
   "metadata": {},
   "outputs": [
    {
     "data": {
      "text/plain": [
       "True"
      ]
     },
     "execution_count": 255,
     "metadata": {},
     "output_type": "execute_result"
    }
   ],
   "source": [
    "df[\"c2\"].is_unique"
   ]
  },
  {
   "cell_type": "code",
   "execution_count": 257,
   "id": "3157a010",
   "metadata": {},
   "outputs": [
    {
     "data": {
      "text/plain": [
       "False"
      ]
     },
     "execution_count": 257,
     "metadata": {},
     "output_type": "execute_result"
    }
   ],
   "source": [
    "df[\"c2\"].is_monotonic_increasing "
   ]
  },
  {
   "cell_type": "code",
   "execution_count": 258,
   "id": "7a13438e",
   "metadata": {},
   "outputs": [
    {
     "data": {
      "text/plain": [
       "'A'"
      ]
     },
     "execution_count": 258,
     "metadata": {},
     "output_type": "execute_result"
    }
   ],
   "source": [
    "df.index[0] "
   ]
  },
  {
   "cell_type": "code",
   "execution_count": 269,
   "id": "4bbb0b25",
   "metadata": {},
   "outputs": [
    {
     "data": {
      "text/html": [
       "<div>\n",
       "<style scoped>\n",
       "    .dataframe tbody tr th:only-of-type {\n",
       "        vertical-align: middle;\n",
       "    }\n",
       "\n",
       "    .dataframe tbody tr th {\n",
       "        vertical-align: top;\n",
       "    }\n",
       "\n",
       "    .dataframe thead th {\n",
       "        text-align: right;\n",
       "    }\n",
       "</style>\n",
       "<table border=\"1\" class=\"dataframe\">\n",
       "  <thead>\n",
       "    <tr style=\"text-align: right;\">\n",
       "      <th></th>\n",
       "      <th>index</th>\n",
       "      <th>c2</th>\n",
       "      <th>c3</th>\n",
       "      <th>c4</th>\n",
       "      <th>groupable</th>\n",
       "      <th>z</th>\n",
       "    </tr>\n",
       "  </thead>\n",
       "  <tbody>\n",
       "    <tr>\n",
       "      <th>0</th>\n",
       "      <td>A</td>\n",
       "      <td>-1.406656</td>\n",
       "      <td>0.045272</td>\n",
       "      <td>0.334597</td>\n",
       "      <td>b</td>\n",
       "      <td>0.000000</td>\n",
       "    </tr>\n",
       "    <tr>\n",
       "      <th>1</th>\n",
       "      <td>B</td>\n",
       "      <td>1.015876</td>\n",
       "      <td>-0.996384</td>\n",
       "      <td>-0.171121</td>\n",
       "      <td>e</td>\n",
       "      <td>1.015876</td>\n",
       "    </tr>\n",
       "    <tr>\n",
       "      <th>2</th>\n",
       "      <td>C</td>\n",
       "      <td>0.321885</td>\n",
       "      <td>-1.211463</td>\n",
       "      <td>-0.154783</td>\n",
       "      <td>c</td>\n",
       "      <td>0.321885</td>\n",
       "    </tr>\n",
       "    <tr>\n",
       "      <th>3</th>\n",
       "      <td>D</td>\n",
       "      <td>-0.321796</td>\n",
       "      <td>-1.002238</td>\n",
       "      <td>-0.308483</td>\n",
       "      <td>c</td>\n",
       "      <td>0.000000</td>\n",
       "    </tr>\n",
       "    <tr>\n",
       "      <th>4</th>\n",
       "      <td>E</td>\n",
       "      <td>0.493252</td>\n",
       "      <td>1.002212</td>\n",
       "      <td>0.187475</td>\n",
       "      <td>a</td>\n",
       "      <td>0.493252</td>\n",
       "    </tr>\n",
       "  </tbody>\n",
       "</table>\n",
       "</div>"
      ],
      "text/plain": [
       "  index        c2        c3        c4 groupable         z\n",
       "0     A -1.406656  0.045272  0.334597         b  0.000000\n",
       "1     B  1.015876 -0.996384 -0.171121         e  1.015876\n",
       "2     C  0.321885 -1.211463 -0.154783         c  0.321885\n",
       "3     D -0.321796 -1.002238 -0.308483         c  0.000000\n",
       "4     E  0.493252  1.002212  0.187475         a  0.493252"
      ]
     },
     "execution_count": 269,
     "metadata": {},
     "output_type": "execute_result"
    }
   ],
   "source": [
    "df1 = df\n",
    "df1.head(5).reset_index()"
   ]
  },
  {
   "cell_type": "code",
   "execution_count": 270,
   "id": "a7f48dc7",
   "metadata": {},
   "outputs": [],
   "source": [
    "df.rename(index={'A':'Z1'}, inplace=True) "
   ]
  },
  {
   "cell_type": "code",
   "execution_count": 271,
   "id": "fa6bbaf3",
   "metadata": {},
   "outputs": [
    {
     "data": {
      "text/html": [
       "<div>\n",
       "<style scoped>\n",
       "    .dataframe tbody tr th:only-of-type {\n",
       "        vertical-align: middle;\n",
       "    }\n",
       "\n",
       "    .dataframe tbody tr th {\n",
       "        vertical-align: top;\n",
       "    }\n",
       "\n",
       "    .dataframe thead th {\n",
       "        text-align: right;\n",
       "    }\n",
       "</style>\n",
       "<table border=\"1\" class=\"dataframe\">\n",
       "  <thead>\n",
       "    <tr style=\"text-align: right;\">\n",
       "      <th></th>\n",
       "      <th>c2</th>\n",
       "      <th>c3</th>\n",
       "      <th>c4</th>\n",
       "      <th>groupable</th>\n",
       "      <th>z</th>\n",
       "    </tr>\n",
       "  </thead>\n",
       "  <tbody>\n",
       "    <tr>\n",
       "      <th>Z1</th>\n",
       "      <td>-1.406656</td>\n",
       "      <td>0.045272</td>\n",
       "      <td>0.334597</td>\n",
       "      <td>b</td>\n",
       "      <td>0.000000</td>\n",
       "    </tr>\n",
       "    <tr>\n",
       "      <th>B</th>\n",
       "      <td>1.015876</td>\n",
       "      <td>-0.996384</td>\n",
       "      <td>-0.171121</td>\n",
       "      <td>e</td>\n",
       "      <td>1.015876</td>\n",
       "    </tr>\n",
       "    <tr>\n",
       "      <th>C</th>\n",
       "      <td>0.321885</td>\n",
       "      <td>-1.211463</td>\n",
       "      <td>-0.154783</td>\n",
       "      <td>c</td>\n",
       "      <td>0.321885</td>\n",
       "    </tr>\n",
       "  </tbody>\n",
       "</table>\n",
       "</div>"
      ],
      "text/plain": [
       "          c2        c3        c4 groupable         z\n",
       "Z1 -1.406656  0.045272  0.334597         b  0.000000\n",
       "B   1.015876 -0.996384 -0.171121         e  1.015876\n",
       "C   0.321885 -1.211463 -0.154783         c  0.321885"
      ]
     },
     "execution_count": 271,
     "metadata": {},
     "output_type": "execute_result"
    }
   ],
   "source": [
    "df.head(3)"
   ]
  },
  {
   "cell_type": "code",
   "execution_count": 274,
   "id": "07057370",
   "metadata": {},
   "outputs": [
    {
     "data": {
      "text/html": [
       "<div>\n",
       "<style scoped>\n",
       "    .dataframe tbody tr th:only-of-type {\n",
       "        vertical-align: middle;\n",
       "    }\n",
       "\n",
       "    .dataframe tbody tr th {\n",
       "        vertical-align: top;\n",
       "    }\n",
       "\n",
       "    .dataframe thead th {\n",
       "        text-align: right;\n",
       "    }\n",
       "</style>\n",
       "<table border=\"1\" class=\"dataframe\">\n",
       "  <thead>\n",
       "    <tr style=\"text-align: right;\">\n",
       "      <th></th>\n",
       "      <th>c2</th>\n",
       "      <th>c3</th>\n",
       "      <th>c4</th>\n",
       "      <th>groupable</th>\n",
       "      <th>z</th>\n",
       "    </tr>\n",
       "  </thead>\n",
       "  <tbody>\n",
       "    <tr>\n",
       "      <th>B</th>\n",
       "      <td>1.015876</td>\n",
       "      <td>-0.996384</td>\n",
       "      <td>-0.171121</td>\n",
       "      <td>e</td>\n",
       "      <td>1.015876</td>\n",
       "    </tr>\n",
       "    <tr>\n",
       "      <th>H</th>\n",
       "      <td>1.046830</td>\n",
       "      <td>0.130521</td>\n",
       "      <td>-0.471129</td>\n",
       "      <td>c</td>\n",
       "      <td>1.046830</td>\n",
       "    </tr>\n",
       "    <tr>\n",
       "      <th>Q</th>\n",
       "      <td>3.070508</td>\n",
       "      <td>-0.838413</td>\n",
       "      <td>-0.318321</td>\n",
       "      <td>a</td>\n",
       "      <td>3.070508</td>\n",
       "    </tr>\n",
       "    <tr>\n",
       "      <th>Y</th>\n",
       "      <td>1.333566</td>\n",
       "      <td>1.731109</td>\n",
       "      <td>1.546093</td>\n",
       "      <td>a</td>\n",
       "      <td>1.333566</td>\n",
       "    </tr>\n",
       "    <tr>\n",
       "      <th>Z</th>\n",
       "      <td>1.014570</td>\n",
       "      <td>-0.657160</td>\n",
       "      <td>0.900181</td>\n",
       "      <td>b</td>\n",
       "      <td>1.014570</td>\n",
       "    </tr>\n",
       "    <tr>\n",
       "      <th>d</th>\n",
       "      <td>2.105011</td>\n",
       "      <td>-0.273137</td>\n",
       "      <td>-0.649841</td>\n",
       "      <td>d</td>\n",
       "      <td>2.105011</td>\n",
       "    </tr>\n",
       "    <tr>\n",
       "      <th>f</th>\n",
       "      <td>1.950197</td>\n",
       "      <td>-0.347727</td>\n",
       "      <td>0.204425</td>\n",
       "      <td>d</td>\n",
       "      <td>1.950197</td>\n",
       "    </tr>\n",
       "    <tr>\n",
       "      <th>z</th>\n",
       "      <td>1.238279</td>\n",
       "      <td>0.315124</td>\n",
       "      <td>0.109940</td>\n",
       "      <td>c</td>\n",
       "      <td>1.238279</td>\n",
       "    </tr>\n",
       "  </tbody>\n",
       "</table>\n",
       "</div>"
      ],
      "text/plain": [
       "         c2        c3        c4 groupable         z\n",
       "B  1.015876 -0.996384 -0.171121         e  1.015876\n",
       "H  1.046830  0.130521 -0.471129         c  1.046830\n",
       "Q  3.070508 -0.838413 -0.318321         a  3.070508\n",
       "Y  1.333566  1.731109  1.546093         a  1.333566\n",
       "Z  1.014570 -0.657160  0.900181         b  1.014570\n",
       "d  2.105011 -0.273137 -0.649841         d  2.105011\n",
       "f  1.950197 -0.347727  0.204425         d  1.950197\n",
       "z  1.238279  0.315124  0.109940         c  1.238279"
      ]
     },
     "execution_count": 274,
     "metadata": {},
     "output_type": "execute_result"
    }
   ],
   "source": [
    "df[df['c2'] >= 1.0]"
   ]
  },
  {
   "cell_type": "code",
   "execution_count": 276,
   "id": "4d9a1504",
   "metadata": {},
   "outputs": [
    {
     "data": {
      "text/html": [
       "<div>\n",
       "<style scoped>\n",
       "    .dataframe tbody tr th:only-of-type {\n",
       "        vertical-align: middle;\n",
       "    }\n",
       "\n",
       "    .dataframe tbody tr th {\n",
       "        vertical-align: top;\n",
       "    }\n",
       "\n",
       "    .dataframe thead th {\n",
       "        text-align: right;\n",
       "    }\n",
       "</style>\n",
       "<table border=\"1\" class=\"dataframe\">\n",
       "  <thead>\n",
       "    <tr style=\"text-align: right;\">\n",
       "      <th></th>\n",
       "      <th>1</th>\n",
       "      <th>2</th>\n",
       "      <th>3</th>\n",
       "    </tr>\n",
       "  </thead>\n",
       "  <tbody>\n",
       "    <tr>\n",
       "      <th>2</th>\n",
       "      <td>3</td>\n",
       "      <td>9</td>\n",
       "      <td>27</td>\n",
       "    </tr>\n",
       "  </tbody>\n",
       "</table>\n",
       "</div>"
      ],
      "text/plain": [
       "   1  2   3\n",
       "2  3  9  27"
      ]
     },
     "execution_count": 276,
     "metadata": {},
     "output_type": "execute_result"
    }
   ],
   "source": [
    "# fake up some data \n",
    "data = {1:[1,2,3], 2:[1,4,9], 3:[1,8,27]} \n",
    "df = DataFrame(data) \n",
    "# multi-column isin \n",
    "lf = {1:[1, 3], 3:[8, 27]} # look for \n",
    "f = df[df[list(lf)].isin(lf).all(axis=1)]\n",
    "f"
   ]
  },
  {
   "cell_type": "code",
   "execution_count": null,
   "id": "f2db24d9",
   "metadata": {},
   "outputs": [],
   "source": []
  },
  {
   "cell_type": "code",
   "execution_count": null,
   "id": "34429202",
   "metadata": {},
   "outputs": [],
   "source": []
  },
  {
   "cell_type": "code",
   "execution_count": null,
   "id": "283067c1",
   "metadata": {},
   "outputs": [],
   "source": []
  },
  {
   "cell_type": "code",
   "execution_count": null,
   "id": "874194ee",
   "metadata": {},
   "outputs": [],
   "source": []
  },
  {
   "cell_type": "code",
   "execution_count": null,
   "id": "154a398f",
   "metadata": {},
   "outputs": [],
   "source": []
  }
 ],
 "metadata": {
  "kernelspec": {
   "display_name": "Python 3",
   "language": "python",
   "name": "python3"
  },
  "language_info": {
   "codemirror_mode": {
    "name": "ipython",
    "version": 3
   },
   "file_extension": ".py",
   "mimetype": "text/x-python",
   "name": "python",
   "nbconvert_exporter": "python",
   "pygments_lexer": "ipython3",
   "version": "3.6.12"
  }
 },
 "nbformat": 4,
 "nbformat_minor": 5
}
