{
 "cells": [
  {
   "cell_type": "markdown",
   "id": "dynamic-supplement",
   "metadata": {},
   "source": [
    "## **kwargs Returns Dict"
   ]
  },
  {
   "cell_type": "code",
   "execution_count": 6,
   "id": "facial-scheduling",
   "metadata": {},
   "outputs": [],
   "source": [
    "def test(**kwargs):\n",
    "    print(kwargs.items())"
   ]
  },
  {
   "cell_type": "code",
   "execution_count": 7,
   "id": "stylish-coordinator",
   "metadata": {},
   "outputs": [
    {
     "ename": "TypeError",
     "evalue": "test() takes 0 positional arguments but 2 were given",
     "output_type": "error",
     "traceback": [
      "\u001b[1;31m---------------------------------------------------------------------------\u001b[0m",
      "\u001b[1;31mTypeError\u001b[0m                                 Traceback (most recent call last)",
      "\u001b[1;32m<ipython-input-7-128c7e744fae>\u001b[0m in \u001b[0;36m<module>\u001b[1;34m\u001b[0m\n\u001b[1;32m----> 1\u001b[1;33m \u001b[0mtest\u001b[0m\u001b[1;33m(\u001b[0m\u001b[1;34m\"Bharadwaja\"\u001b[0m\u001b[1;33m,\u001b[0m\u001b[1;34m\"sai\"\u001b[0m\u001b[1;33m)\u001b[0m\u001b[1;33m\u001b[0m\u001b[1;33m\u001b[0m\u001b[0m\n\u001b[0m",
      "\u001b[1;31mTypeError\u001b[0m: test() takes 0 positional arguments but 2 were given"
     ]
    }
   ],
   "source": [
    "test(\"Bharadwaja\",\"sai\")"
   ]
  },
  {
   "cell_type": "code",
   "execution_count": 8,
   "id": "proved-approach",
   "metadata": {},
   "outputs": [
    {
     "name": "stdout",
     "output_type": "stream",
     "text": [
      "dict_items([('x', 'Bharadwaja'), ('y', 'sai')])\n"
     ]
    }
   ],
   "source": [
    "test(x=\"Bharadwaja\",y=\"sai\")"
   ]
  },
  {
   "cell_type": "code",
   "execution_count": 9,
   "id": "cubic-delight",
   "metadata": {},
   "outputs": [
    {
     "name": "stdout",
     "output_type": "stream",
     "text": [
      "dict_items([('x', 'Bharadwaja'), ('y', 'sai'), ('l', [1, 2, 3, 4, 5, 6])])\n"
     ]
    }
   ],
   "source": [
    "test(x=\"Bharadwaja\",y=\"sai\",l=[1,2,3,4,5,6])"
   ]
  },
  {
   "cell_type": "code",
   "execution_count": 12,
   "id": "radical-summer",
   "metadata": {},
   "outputs": [],
   "source": [
    "def test(**kwargs):\n",
    "    print(type(kwargs))"
   ]
  },
  {
   "cell_type": "code",
   "execution_count": 13,
   "id": "hungarian-wales",
   "metadata": {},
   "outputs": [
    {
     "name": "stdout",
     "output_type": "stream",
     "text": [
      "<class 'dict'>\n"
     ]
    }
   ],
   "source": [
    "test(x=\"Bharadwaja\",y=\"sai\")"
   ]
  },
  {
   "cell_type": "code",
   "execution_count": null,
   "id": "rolled-catalyst",
   "metadata": {},
   "outputs": [],
   "source": []
  },
  {
   "cell_type": "markdown",
   "id": "comparable-reception",
   "metadata": {},
   "source": [
    "## Anonymous function or Lambda Function"
   ]
  },
  {
   "cell_type": "code",
   "execution_count": 16,
   "id": "occasional-trust",
   "metadata": {},
   "outputs": [],
   "source": [
    "def test1(name,mailid):\n",
    "    con = name+\" \"+mailid\n",
    "    return con"
   ]
  },
  {
   "cell_type": "code",
   "execution_count": 17,
   "id": "adapted-brand",
   "metadata": {},
   "outputs": [
    {
     "data": {
      "text/plain": [
       "'Bharadwaja genuinebharadwaja01@gmail.com'"
      ]
     },
     "execution_count": 17,
     "metadata": {},
     "output_type": "execute_result"
    }
   ],
   "source": [
    "test1(\"Bharadwaja\",\"genuinebharadwaja01@gmail.com\")"
   ]
  },
  {
   "cell_type": "code",
   "execution_count": 18,
   "id": "first-positive",
   "metadata": {},
   "outputs": [
    {
     "data": {
      "text/plain": [
       "20"
      ]
     },
     "execution_count": 18,
     "metadata": {},
     "output_type": "execute_result"
    }
   ],
   "source": [
    "a = 10\n",
    "b = 10\n",
    "def test1(x,y):\n",
    "    return x+y\n",
    "test1(a,b)"
   ]
  },
  {
   "cell_type": "code",
   "execution_count": 20,
   "id": "plastic-caribbean",
   "metadata": {},
   "outputs": [],
   "source": [
    "m = lambda x,y : x+y"
   ]
  },
  {
   "cell_type": "code",
   "execution_count": 21,
   "id": "toxic-future",
   "metadata": {},
   "outputs": [
    {
     "data": {
      "text/plain": [
       "20"
      ]
     },
     "execution_count": 21,
     "metadata": {},
     "output_type": "execute_result"
    }
   ],
   "source": [
    "m(a,b)"
   ]
  },
  {
   "cell_type": "code",
   "execution_count": 22,
   "id": "canadian-marble",
   "metadata": {},
   "outputs": [
    {
     "data": {
      "text/plain": [
       "'Bharadwajagenuinebharadwaja01@gmail.com'"
      ]
     },
     "execution_count": 22,
     "metadata": {},
     "output_type": "execute_result"
    }
   ],
   "source": [
    "m(\"Bharadwaja\",\"genuinebharadwaja01@gmail.com\")"
   ]
  },
  {
   "cell_type": "code",
   "execution_count": null,
   "id": "equivalent-consent",
   "metadata": {},
   "outputs": [],
   "source": [
    "m = lambda arg1 , arg2 : print(arg1 , arg2)"
   ]
  },
  {
   "cell_type": "code",
   "execution_count": 23,
   "id": "copyrighted-receiver",
   "metadata": {},
   "outputs": [
    {
     "data": {
      "text/plain": [
       "'Bharadwajagenuinebharadwaja01@gmail.com'"
      ]
     },
     "execution_count": 23,
     "metadata": {},
     "output_type": "execute_result"
    }
   ],
   "source": [
    "m(\"Bharadwaja\",\"genuinebharadwaja01@gmail.com\")"
   ]
  },
  {
   "cell_type": "markdown",
   "id": "consistent-trigger",
   "metadata": {},
   "source": [
    "### Scope of Variables in function"
   ]
  },
  {
   "cell_type": "code",
   "execution_count": 32,
   "id": "attempted-commons",
   "metadata": {},
   "outputs": [
    {
     "name": "stdout",
     "output_type": "stream",
     "text": [
      "10\n"
     ]
    }
   ],
   "source": [
    "r = 10\n",
    "def test3(a,b):\n",
    "    r = a/b\n",
    "    print(r)\n",
    "print(r)"
   ]
  },
  {
   "cell_type": "code",
   "execution_count": 33,
   "id": "colonial-cincinnati",
   "metadata": {},
   "outputs": [
    {
     "name": "stdout",
     "output_type": "stream",
     "text": [
      "1.0\n"
     ]
    }
   ],
   "source": [
    "test3(10,10)"
   ]
  },
  {
   "cell_type": "markdown",
   "id": "intense-homework",
   "metadata": {},
   "source": [
    "### Creating Doc Strings\n",
    "### press shift + tab"
   ]
  },
  {
   "cell_type": "code",
   "execution_count": 38,
   "id": "minute-bouquet",
   "metadata": {},
   "outputs": [
    {
     "name": "stdout",
     "output_type": "stream",
     "text": [
      "\n"
     ]
    }
   ],
   "source": [
    "print()"
   ]
  },
  {
   "cell_type": "code",
   "execution_count": 42,
   "id": "aboriginal-pregnancy",
   "metadata": {},
   "outputs": [
    {
     "name": "stdout",
     "output_type": "stream",
     "text": [
      "Help on built-in function print in module builtins:\n",
      "\n",
      "print(...)\n",
      "    print(value, ..., sep=' ', end='\\n', file=sys.stdout, flush=False)\n",
      "    \n",
      "    Prints the values to a stream, or to sys.stdout by default.\n",
      "    Optional keyword arguments:\n",
      "    file:  a file-like object (stream); defaults to the current sys.stdout.\n",
      "    sep:   string inserted between values, default a space.\n",
      "    end:   string appended after the last value, default a newline.\n",
      "    flush: whether to forcibly flush the stream.\n",
      "\n"
     ]
    }
   ],
   "source": [
    "help(print)"
   ]
  },
  {
   "cell_type": "code",
   "execution_count": 49,
   "id": "frozen-benefit",
   "metadata": {},
   "outputs": [],
   "source": [
    "def test4():\n",
    "    \"\"\"\n",
    "    test4(a = name,b = mail_id)\n",
    "    This is my test function\n",
    "    This helps us in creating DOCstring\n",
    "    \"\"\"\n",
    "    print(\"name is xyz\")"
   ]
  },
  {
   "cell_type": "code",
   "execution_count": 50,
   "id": "foster-corruption",
   "metadata": {},
   "outputs": [
    {
     "name": "stdout",
     "output_type": "stream",
     "text": [
      "name is xyz\n"
     ]
    }
   ],
   "source": [
    "test4()"
   ]
  },
  {
   "cell_type": "code",
   "execution_count": 51,
   "id": "concrete-impact",
   "metadata": {},
   "outputs": [
    {
     "name": "stdout",
     "output_type": "stream",
     "text": [
      "Help on function test4 in module __main__:\n",
      "\n",
      "test4()\n",
      "    test4(a = name,b = mail_id)\n",
      "    This is my test function\n",
      "    This helps us in creating DOCstring\n",
      "\n"
     ]
    }
   ],
   "source": [
    "help(test4)"
   ]
  },
  {
   "cell_type": "markdown",
   "id": "pleasant-saturn",
   "metadata": {},
   "source": [
    "# iterator , iteratable and Generator"
   ]
  },
  {
   "cell_type": "code",
   "execution_count": 52,
   "id": "abstract-garage",
   "metadata": {},
   "outputs": [
    {
     "ename": "TypeError",
     "evalue": "'int' object is not iterable",
     "output_type": "error",
     "traceback": [
      "\u001b[1;31m---------------------------------------------------------------------------\u001b[0m",
      "\u001b[1;31mTypeError\u001b[0m                                 Traceback (most recent call last)",
      "\u001b[1;32m<ipython-input-52-00579f11ec90>\u001b[0m in \u001b[0;36m<module>\u001b[1;34m\u001b[0m\n\u001b[0;32m      1\u001b[0m \u001b[0ma\u001b[0m \u001b[1;33m=\u001b[0m \u001b[1;36m10\u001b[0m\u001b[1;33m\u001b[0m\u001b[1;33m\u001b[0m\u001b[0m\n\u001b[1;32m----> 2\u001b[1;33m \u001b[1;32mfor\u001b[0m \u001b[0mi\u001b[0m \u001b[1;32min\u001b[0m \u001b[0ma\u001b[0m\u001b[1;33m:\u001b[0m\u001b[1;33m\u001b[0m\u001b[1;33m\u001b[0m\u001b[0m\n\u001b[0m\u001b[0;32m      3\u001b[0m     \u001b[0mprint\u001b[0m\u001b[1;33m(\u001b[0m\u001b[0ma\u001b[0m\u001b[1;33m)\u001b[0m\u001b[1;33m\u001b[0m\u001b[1;33m\u001b[0m\u001b[0m\n",
      "\u001b[1;31mTypeError\u001b[0m: 'int' object is not iterable"
     ]
    }
   ],
   "source": [
    "a = 10\n",
    "for i in a:\n",
    "    print(a)"
   ]
  },
  {
   "cell_type": "code",
   "execution_count": 54,
   "id": "posted-formation",
   "metadata": {},
   "outputs": [
    {
     "name": "stdout",
     "output_type": "stream",
     "text": [
      "B\n",
      "h\n",
      "a\n",
      "r\n",
      "a\n",
      "d\n",
      "w\n",
      "a\n",
      "j\n",
      "a\n"
     ]
    }
   ],
   "source": [
    "for i in \"Bharadwaja\":\n",
    "    print(i)"
   ]
  },
  {
   "cell_type": "markdown",
   "id": "muslim-longitude",
   "metadata": {},
   "source": [
    "## next()"
   ]
  },
  {
   "cell_type": "code",
   "execution_count": 55,
   "id": "unknown-broadcast",
   "metadata": {},
   "outputs": [
    {
     "ename": "TypeError",
     "evalue": "'str' object is not an iterator",
     "output_type": "error",
     "traceback": [
      "\u001b[1;31m---------------------------------------------------------------------------\u001b[0m",
      "\u001b[1;31mTypeError\u001b[0m                                 Traceback (most recent call last)",
      "\u001b[1;32m<ipython-input-55-178438d50ca5>\u001b[0m in \u001b[0;36m<module>\u001b[1;34m\u001b[0m\n\u001b[1;32m----> 1\u001b[1;33m \u001b[0mnext\u001b[0m\u001b[1;33m(\u001b[0m\u001b[1;34m\"Bharadwaja\"\u001b[0m\u001b[1;33m)\u001b[0m\u001b[1;33m\u001b[0m\u001b[1;33m\u001b[0m\u001b[0m\n\u001b[0m",
      "\u001b[1;31mTypeError\u001b[0m: 'str' object is not an iterator"
     ]
    }
   ],
   "source": [
    "next(\"Bharadwaja\")"
   ]
  },
  {
   "cell_type": "code",
   "execution_count": 56,
   "id": "conservative-yield",
   "metadata": {},
   "outputs": [
    {
     "ename": "TypeError",
     "evalue": "'int' object is not iterable",
     "output_type": "error",
     "traceback": [
      "\u001b[1;31m---------------------------------------------------------------------------\u001b[0m",
      "\u001b[1;31mTypeError\u001b[0m                                 Traceback (most recent call last)",
      "\u001b[1;32m<ipython-input-56-00579f11ec90>\u001b[0m in \u001b[0;36m<module>\u001b[1;34m\u001b[0m\n\u001b[0;32m      1\u001b[0m \u001b[0ma\u001b[0m \u001b[1;33m=\u001b[0m \u001b[1;36m10\u001b[0m\u001b[1;33m\u001b[0m\u001b[1;33m\u001b[0m\u001b[0m\n\u001b[1;32m----> 2\u001b[1;33m \u001b[1;32mfor\u001b[0m \u001b[0mi\u001b[0m \u001b[1;32min\u001b[0m \u001b[0ma\u001b[0m\u001b[1;33m:\u001b[0m\u001b[1;33m\u001b[0m\u001b[1;33m\u001b[0m\u001b[0m\n\u001b[0m\u001b[0;32m      3\u001b[0m     \u001b[0mprint\u001b[0m\u001b[1;33m(\u001b[0m\u001b[0ma\u001b[0m\u001b[1;33m)\u001b[0m\u001b[1;33m\u001b[0m\u001b[1;33m\u001b[0m\u001b[0m\n",
      "\u001b[1;31mTypeError\u001b[0m: 'int' object is not iterable"
     ]
    }
   ],
   "source": [
    "a = 10\n",
    "for i in a:\n",
    "    print(a)"
   ]
  },
  {
   "cell_type": "markdown",
   "id": "formal-following",
   "metadata": {},
   "source": [
    "## iterable and iterators are different"
   ]
  },
  {
   "cell_type": "markdown",
   "id": "frank-level",
   "metadata": {},
   "source": [
    "### iterator is a kind of entity out of which we can able extract INDEX\n",
    "### iteratable is a kind of entity out of which we can able extract DATA\n",
    "### if object is iterable we can convert it as a iterable\n",
    "### By string is not a iterator , But string is a iterable object\n",
    "### for loop is trying to convert string into a iterator"
   ]
  },
  {
   "cell_type": "markdown",
   "id": "offshore-columbia",
   "metadata": {},
   "source": []
  },
  {
   "cell_type": "markdown",
   "id": "champion-wrong",
   "metadata": {},
   "source": [
    "# iter()\n",
    "### iter() coverts an iterable object into iterator\n",
    "### By default it should be iterable then iter covert it into iterator"
   ]
  },
  {
   "cell_type": "code",
   "execution_count": 61,
   "id": "smooth-consumption",
   "metadata": {},
   "outputs": [
    {
     "ename": "TypeError",
     "evalue": "'str' object is not an iterator",
     "output_type": "error",
     "traceback": [
      "\u001b[1;31m---------------------------------------------------------------------------\u001b[0m",
      "\u001b[1;31mTypeError\u001b[0m                                 Traceback (most recent call last)",
      "\u001b[1;32m<ipython-input-61-178438d50ca5>\u001b[0m in \u001b[0;36m<module>\u001b[1;34m\u001b[0m\n\u001b[1;32m----> 1\u001b[1;33m \u001b[0mnext\u001b[0m\u001b[1;33m(\u001b[0m\u001b[1;34m\"Bharadwaja\"\u001b[0m\u001b[1;33m)\u001b[0m\u001b[1;33m\u001b[0m\u001b[1;33m\u001b[0m\u001b[0m\n\u001b[0m",
      "\u001b[1;31mTypeError\u001b[0m: 'str' object is not an iterator"
     ]
    }
   ],
   "source": [
    "next(\"Bharadwaja\")"
   ]
  },
  {
   "cell_type": "code",
   "execution_count": 62,
   "id": "consolidated-vietnam",
   "metadata": {},
   "outputs": [
    {
     "data": {
      "text/plain": [
       "'S'"
      ]
     },
     "execution_count": 62,
     "metadata": {},
     "output_type": "execute_result"
    }
   ],
   "source": [
    "s= \"Sai\"\n",
    "s = iter(s)\n",
    "next(s)"
   ]
  },
  {
   "cell_type": "code",
   "execution_count": 63,
   "id": "limiting-cloud",
   "metadata": {},
   "outputs": [
    {
     "data": {
      "text/plain": [
       "'a'"
      ]
     },
     "execution_count": 63,
     "metadata": {},
     "output_type": "execute_result"
    }
   ],
   "source": [
    "next(s)"
   ]
  },
  {
   "cell_type": "code",
   "execution_count": 64,
   "id": "optical-minimum",
   "metadata": {},
   "outputs": [
    {
     "data": {
      "text/plain": [
       "'i'"
      ]
     },
     "execution_count": 64,
     "metadata": {},
     "output_type": "execute_result"
    }
   ],
   "source": [
    "next(s)"
   ]
  },
  {
   "cell_type": "code",
   "execution_count": 65,
   "id": "suited-alpha",
   "metadata": {},
   "outputs": [
    {
     "ename": "StopIteration",
     "evalue": "",
     "output_type": "error",
     "traceback": [
      "\u001b[1;31m---------------------------------------------------------------------------\u001b[0m",
      "\u001b[1;31mStopIteration\u001b[0m                             Traceback (most recent call last)",
      "\u001b[1;32m<ipython-input-65-61c30b5fe1d5>\u001b[0m in \u001b[0;36m<module>\u001b[1;34m\u001b[0m\n\u001b[1;32m----> 1\u001b[1;33m \u001b[0mnext\u001b[0m\u001b[1;33m(\u001b[0m\u001b[0ms\u001b[0m\u001b[1;33m)\u001b[0m\u001b[1;33m\u001b[0m\u001b[1;33m\u001b[0m\u001b[0m\n\u001b[0m",
      "\u001b[1;31mStopIteration\u001b[0m: "
     ]
    }
   ],
   "source": [
    "next(s)"
   ]
  },
  {
   "cell_type": "markdown",
   "id": "about-indication",
   "metadata": {},
   "source": [
    "### By default string is an iterable \n",
    "### by using iter(String) we can convert string into iterator"
   ]
  },
  {
   "cell_type": "code",
   "execution_count": 67,
   "id": "italic-spyware",
   "metadata": {},
   "outputs": [
    {
     "name": "stdout",
     "output_type": "stream",
     "text": [
      "S\n",
      "a\n",
      "i\n"
     ]
    }
   ],
   "source": [
    "for i in \"Sai\":\n",
    "    print(i)"
   ]
  },
  {
   "cell_type": "markdown",
   "id": "pregnant-seminar",
   "metadata": {},
   "source": [
    "### for converts iterable object into iterator\n",
    "### Examples of iterable objects : String , List , tuple , set , dict\n",
    "### but String , List , tuple , set , dict  are not iterator"
   ]
  },
  {
   "cell_type": "code",
   "execution_count": 68,
   "id": "material-agency",
   "metadata": {},
   "outputs": [
    {
     "ename": "TypeError",
     "evalue": "'list' object is not an iterator",
     "output_type": "error",
     "traceback": [
      "\u001b[1;31m---------------------------------------------------------------------------\u001b[0m",
      "\u001b[1;31mTypeError\u001b[0m                                 Traceback (most recent call last)",
      "\u001b[1;32m<ipython-input-68-60f3220f3f0e>\u001b[0m in \u001b[0;36m<module>\u001b[1;34m\u001b[0m\n\u001b[0;32m      1\u001b[0m \u001b[0ml\u001b[0m \u001b[1;33m=\u001b[0m \u001b[1;33m[\u001b[0m\u001b[1;36m1\u001b[0m\u001b[1;33m,\u001b[0m\u001b[1;36m2\u001b[0m\u001b[1;33m,\u001b[0m\u001b[1;36m3\u001b[0m\u001b[1;33m,\u001b[0m\u001b[1;36m4\u001b[0m\u001b[1;33m,\u001b[0m\u001b[1;36m5\u001b[0m\u001b[1;33m,\u001b[0m\u001b[1;36m6\u001b[0m\u001b[1;33m]\u001b[0m\u001b[1;33m\u001b[0m\u001b[1;33m\u001b[0m\u001b[0m\n\u001b[1;32m----> 2\u001b[1;33m \u001b[0mnext\u001b[0m\u001b[1;33m(\u001b[0m\u001b[0ml\u001b[0m\u001b[1;33m)\u001b[0m\u001b[1;33m\u001b[0m\u001b[1;33m\u001b[0m\u001b[0m\n\u001b[0m",
      "\u001b[1;31mTypeError\u001b[0m: 'list' object is not an iterator"
     ]
    }
   ],
   "source": [
    "l = [1,2,3,4,5,6]\n",
    "next(l)"
   ]
  },
  {
   "cell_type": "code",
   "execution_count": 69,
   "id": "daily-begin",
   "metadata": {},
   "outputs": [
    {
     "data": {
      "text/plain": [
       "1"
      ]
     },
     "execution_count": 69,
     "metadata": {},
     "output_type": "execute_result"
    }
   ],
   "source": [
    "l = [1,2,3,4,5,6]\n",
    "l = iter(l)\n",
    "next(l)"
   ]
  },
  {
   "cell_type": "code",
   "execution_count": 70,
   "id": "solved-village",
   "metadata": {},
   "outputs": [
    {
     "ename": "TypeError",
     "evalue": "'tuple' object is not an iterator",
     "output_type": "error",
     "traceback": [
      "\u001b[1;31m---------------------------------------------------------------------------\u001b[0m",
      "\u001b[1;31mTypeError\u001b[0m                                 Traceback (most recent call last)",
      "\u001b[1;32m<ipython-input-70-365a49042913>\u001b[0m in \u001b[0;36m<module>\u001b[1;34m\u001b[0m\n\u001b[0;32m      1\u001b[0m \u001b[0mt\u001b[0m \u001b[1;33m=\u001b[0m \u001b[1;33m(\u001b[0m\u001b[1;36m1\u001b[0m\u001b[1;33m,\u001b[0m\u001b[1;36m2\u001b[0m\u001b[1;33m,\u001b[0m\u001b[1;36m3\u001b[0m\u001b[1;33m,\u001b[0m\u001b[1;36m4\u001b[0m\u001b[1;33m,\u001b[0m\u001b[1;36m5\u001b[0m\u001b[1;33m)\u001b[0m\u001b[1;33m\u001b[0m\u001b[1;33m\u001b[0m\u001b[0m\n\u001b[1;32m----> 2\u001b[1;33m \u001b[0mnext\u001b[0m\u001b[1;33m(\u001b[0m\u001b[0mt\u001b[0m\u001b[1;33m)\u001b[0m\u001b[1;33m\u001b[0m\u001b[1;33m\u001b[0m\u001b[0m\n\u001b[0m",
      "\u001b[1;31mTypeError\u001b[0m: 'tuple' object is not an iterator"
     ]
    }
   ],
   "source": [
    "t = (1,2,3,4,5)\n",
    "next(t)"
   ]
  },
  {
   "cell_type": "code",
   "execution_count": 71,
   "id": "quick-waters",
   "metadata": {},
   "outputs": [
    {
     "data": {
      "text/plain": [
       "1"
      ]
     },
     "execution_count": 71,
     "metadata": {},
     "output_type": "execute_result"
    }
   ],
   "source": [
    "t = (1,2,3,4,5)\n",
    "t = iter(t)\n",
    "next(t)"
   ]
  },
  {
   "cell_type": "code",
   "execution_count": 72,
   "id": "accredited-execution",
   "metadata": {},
   "outputs": [
    {
     "ename": "TypeError",
     "evalue": "'set' object is not an iterator",
     "output_type": "error",
     "traceback": [
      "\u001b[1;31m---------------------------------------------------------------------------\u001b[0m",
      "\u001b[1;31mTypeError\u001b[0m                                 Traceback (most recent call last)",
      "\u001b[1;32m<ipython-input-72-bbf7b02eed0b>\u001b[0m in \u001b[0;36m<module>\u001b[1;34m\u001b[0m\n\u001b[0;32m      1\u001b[0m \u001b[0ms\u001b[0m \u001b[1;33m=\u001b[0m \u001b[1;33m{\u001b[0m\u001b[1;36m1\u001b[0m\u001b[1;33m,\u001b[0m\u001b[1;36m2\u001b[0m\u001b[1;33m,\u001b[0m\u001b[1;36m3\u001b[0m\u001b[1;33m,\u001b[0m\u001b[1;36m4\u001b[0m\u001b[1;33m}\u001b[0m\u001b[1;33m\u001b[0m\u001b[1;33m\u001b[0m\u001b[0m\n\u001b[1;32m----> 2\u001b[1;33m \u001b[0mnext\u001b[0m\u001b[1;33m(\u001b[0m\u001b[0ms\u001b[0m\u001b[1;33m)\u001b[0m\u001b[1;33m\u001b[0m\u001b[1;33m\u001b[0m\u001b[0m\n\u001b[0m",
      "\u001b[1;31mTypeError\u001b[0m: 'set' object is not an iterator"
     ]
    }
   ],
   "source": [
    "s = {1,2,3,4}\n",
    "next(s)"
   ]
  },
  {
   "cell_type": "code",
   "execution_count": 73,
   "id": "accessory-fields",
   "metadata": {},
   "outputs": [
    {
     "data": {
      "text/plain": [
       "1"
      ]
     },
     "execution_count": 73,
     "metadata": {},
     "output_type": "execute_result"
    }
   ],
   "source": [
    "s = {1,2,3,4}\n",
    "s = iter(s)\n",
    "next(s)"
   ]
  },
  {
   "cell_type": "code",
   "execution_count": 77,
   "id": "round-inclusion",
   "metadata": {},
   "outputs": [
    {
     "ename": "TypeError",
     "evalue": "'dict' object is not an iterator",
     "output_type": "error",
     "traceback": [
      "\u001b[1;31m---------------------------------------------------------------------------\u001b[0m",
      "\u001b[1;31mTypeError\u001b[0m                                 Traceback (most recent call last)",
      "\u001b[1;32m<ipython-input-77-9eff4d976c44>\u001b[0m in \u001b[0;36m<module>\u001b[1;34m\u001b[0m\n\u001b[0;32m      1\u001b[0m \u001b[0md\u001b[0m \u001b[1;33m=\u001b[0m \u001b[1;33m{\u001b[0m\u001b[1;36m1\u001b[0m\u001b[1;33m:\u001b[0m\u001b[1;34m'a'\u001b[0m\u001b[1;33m,\u001b[0m\u001b[1;36m2\u001b[0m\u001b[1;33m:\u001b[0m\u001b[1;34m'b'\u001b[0m\u001b[1;33m,\u001b[0m\u001b[1;36m3\u001b[0m\u001b[1;33m:\u001b[0m\u001b[1;34m'c'\u001b[0m\u001b[1;33m,\u001b[0m\u001b[1;36m4\u001b[0m\u001b[1;33m:\u001b[0m\u001b[1;34m'd'\u001b[0m\u001b[1;33m}\u001b[0m\u001b[1;33m\u001b[0m\u001b[1;33m\u001b[0m\u001b[0m\n\u001b[0;32m      2\u001b[0m \u001b[1;33m\u001b[0m\u001b[0m\n\u001b[1;32m----> 3\u001b[1;33m \u001b[0mnext\u001b[0m\u001b[1;33m(\u001b[0m\u001b[0md\u001b[0m\u001b[1;33m)\u001b[0m\u001b[1;33m\u001b[0m\u001b[1;33m\u001b[0m\u001b[0m\n\u001b[0m",
      "\u001b[1;31mTypeError\u001b[0m: 'dict' object is not an iterator"
     ]
    }
   ],
   "source": [
    "d = {1:'a',2:'b',3:'c',4:'d'}\n",
    "\n",
    "next(d)"
   ]
  },
  {
   "cell_type": "code",
   "execution_count": 75,
   "id": "equal-waters",
   "metadata": {},
   "outputs": [
    {
     "data": {
      "text/plain": [
       "1"
      ]
     },
     "execution_count": 75,
     "metadata": {},
     "output_type": "execute_result"
    }
   ],
   "source": [
    "d = {1:'a',2:'b',3:'c',4:'d'}\n",
    "d= iter(d)\n",
    "next(d)"
   ]
  },
  {
   "cell_type": "code",
   "execution_count": 76,
   "id": "accompanied-aging",
   "metadata": {},
   "outputs": [
    {
     "data": {
      "text/plain": [
       "2"
      ]
     },
     "execution_count": 76,
     "metadata": {},
     "output_type": "execute_result"
    }
   ],
   "source": [
    "next(d)"
   ]
  },
  {
   "cell_type": "markdown",
   "id": "democratic-assault",
   "metadata": {},
   "source": [
    "# Generator"
   ]
  },
  {
   "cell_type": "code",
   "execution_count": 84,
   "id": "iraqi-scott",
   "metadata": {},
   "outputs": [],
   "source": [
    "def test4(n):\n",
    "    l = []\n",
    "    for i in range(n):\n",
    "        l.append(i**3)\n",
    "    return(l)\n",
    "        "
   ]
  },
  {
   "cell_type": "code",
   "execution_count": 87,
   "id": "specified-species",
   "metadata": {},
   "outputs": [
    {
     "data": {
      "text/plain": [
       "[0, 1, 8, 27, 64, 125]"
      ]
     },
     "execution_count": 87,
     "metadata": {},
     "output_type": "execute_result"
    }
   ],
   "source": [
    "test4(6)"
   ]
  },
  {
   "cell_type": "code",
   "execution_count": null,
   "id": "hourly-agriculture",
   "metadata": {},
   "outputs": [],
   "source": [
    "test4(6000000000000000000)"
   ]
  },
  {
   "cell_type": "markdown",
   "id": "golden-keeping",
   "metadata": {},
   "source": [
    "### we are trying only one memory location and we are adding the values in that memory\n",
    "### so cpu will not release computation power till the process is completed"
   ]
  },
  {
   "cell_type": "markdown",
   "id": "fatty-skating",
   "metadata": {},
   "source": [
    "# Generator\n",
    "## yield returns a generator object\n",
    "### generator remebers what operation is done last time\n",
    "### The last permormed opertion is remebered by Keyword : yield"
   ]
  },
  {
   "cell_type": "code",
   "execution_count": 90,
   "id": "technical-boring",
   "metadata": {},
   "outputs": [],
   "source": [
    "def test5(n):\n",
    "    l = []\n",
    "    for i in range(n):\n",
    "        l.append(i**3)\n",
    "    yield l    "
   ]
  },
  {
   "cell_type": "code",
   "execution_count": 95,
   "id": "available-flooring",
   "metadata": {},
   "outputs": [
    {
     "data": {
      "text/plain": [
       "<generator object test5 at 0x000001F9A455AA98>"
      ]
     },
     "execution_count": 95,
     "metadata": {},
     "output_type": "execute_result"
    }
   ],
   "source": [
    "test5(20)"
   ]
  },
  {
   "cell_type": "code",
   "execution_count": 96,
   "id": "wrapped-height",
   "metadata": {},
   "outputs": [
    {
     "name": "stdout",
     "output_type": "stream",
     "text": [
      "[0, 1, 8, 27, 64, 125, 216, 343, 512, 729, 1000, 1331, 1728, 2197, 2744, 3375, 4096, 4913, 5832, 6859, 8000, 9261, 10648, 12167, 13824, 15625, 17576, 19683, 21952, 24389]\n"
     ]
    }
   ],
   "source": [
    "for i in test5(30):\n",
    "    print(i)"
   ]
  },
  {
   "cell_type": "markdown",
   "id": "opposite-resident",
   "metadata": {},
   "source": [
    "### Range"
   ]
  },
  {
   "cell_type": "code",
   "execution_count": 92,
   "id": "authorized-helicopter",
   "metadata": {},
   "outputs": [
    {
     "data": {
      "text/plain": [
       "range(0, 20)"
      ]
     },
     "execution_count": 92,
     "metadata": {},
     "output_type": "execute_result"
    }
   ],
   "source": [
    "range(20)"
   ]
  },
  {
   "cell_type": "code",
   "execution_count": 93,
   "id": "dirty-drain",
   "metadata": {},
   "outputs": [
    {
     "data": {
      "text/plain": [
       "[0, 1, 2, 3, 4, 5, 6, 7, 8, 9, 10, 11, 12, 13, 14, 15, 16, 17, 18, 19]"
      ]
     },
     "execution_count": 93,
     "metadata": {},
     "output_type": "execute_result"
    }
   ],
   "source": [
    "list(range(20))"
   ]
  },
  {
   "cell_type": "code",
   "execution_count": 94,
   "id": "representative-korean",
   "metadata": {},
   "outputs": [
    {
     "name": "stdout",
     "output_type": "stream",
     "text": [
      "0\n",
      "1\n",
      "2\n",
      "3\n",
      "4\n",
      "5\n",
      "6\n",
      "7\n",
      "8\n",
      "9\n",
      "10\n",
      "11\n",
      "12\n",
      "13\n",
      "14\n",
      "15\n",
      "16\n",
      "17\n",
      "18\n",
      "19\n"
     ]
    }
   ],
   "source": [
    "for i in range(20):\n",
    "    print(i)"
   ]
  },
  {
   "cell_type": "code",
   "execution_count": 2,
   "id": "beginning-morrison",
   "metadata": {},
   "outputs": [],
   "source": [
    "def test5(n):\n",
    "    l = []\n",
    "    for i in range(n):\n",
    "        yield i**3   "
   ]
  },
  {
   "cell_type": "code",
   "execution_count": 3,
   "id": "polyphonic-button",
   "metadata": {},
   "outputs": [
    {
     "data": {
      "text/plain": [
       "<generator object test5 at 0x000001A0B8C5D8E0>"
      ]
     },
     "execution_count": 3,
     "metadata": {},
     "output_type": "execute_result"
    }
   ],
   "source": [
    "test5(600)"
   ]
  },
  {
   "cell_type": "code",
   "execution_count": null,
   "id": "covered-harbor",
   "metadata": {},
   "outputs": [],
   "source": []
  },
  {
   "cell_type": "code",
   "execution_count": null,
   "id": "funny-arbitration",
   "metadata": {},
   "outputs": [],
   "source": [
    "print(\"sai\")"
   ]
  },
  {
   "cell_type": "markdown",
   "id": "preliminary-baseline",
   "metadata": {},
   "source": [
    "# return and yield\n",
    "\n",
    "### Return : it returns the output when the entire operation is performed for all the data. Return statedment occupies entire Memory and Computation power . But return won't give output till entire operation is perfom\n",
    "\n",
    "### yield : yield remebers the last performomed operation. it returns generator object . Once we iterate through generator object , Then it produces output at Runtime instantaneously . It will not wait till entire operation is performed and it will not use entire memory"
   ]
  },
  {
   "cell_type": "code",
   "execution_count": 11,
   "id": "isolated-mainstream",
   "metadata": {},
   "outputs": [],
   "source": [
    "def fibonacci(n):\n",
    "    a = 1\n",
    "    b = 1\n",
    "    output = []\n",
    "    for i in range(n):\n",
    "        output.append(a)\n",
    "        a,b = b,a+b\n",
    "    return output"
   ]
  },
  {
   "cell_type": "code",
   "execution_count": 12,
   "id": "recreational-albany",
   "metadata": {},
   "outputs": [
    {
     "data": {
      "text/plain": [
       "[1, 1, 2, 3, 5, 8, 13, 21, 34, 55]"
      ]
     },
     "execution_count": 12,
     "metadata": {},
     "output_type": "execute_result"
    }
   ],
   "source": [
    "fibonacci(10)"
   ]
  },
  {
   "cell_type": "code",
   "execution_count": 14,
   "id": "immediate-power",
   "metadata": {},
   "outputs": [],
   "source": [
    "def fibonacci1(n):\n",
    "    a = 1\n",
    "    b = 1\n",
    "    output = []\n",
    "    for i in range(n):\n",
    "        yield a\n",
    "        a,b = b,a+b"
   ]
  },
  {
   "cell_type": "code",
   "execution_count": 15,
   "id": "altered-valuable",
   "metadata": {},
   "outputs": [
    {
     "data": {
      "text/plain": [
       "<generator object fibonacci1 at 0x000001A0B8C5DF10>"
      ]
     },
     "execution_count": 15,
     "metadata": {},
     "output_type": "execute_result"
    }
   ],
   "source": [
    "fibonacci1(10)"
   ]
  },
  {
   "cell_type": "code",
   "execution_count": 17,
   "id": "chief-emperor",
   "metadata": {},
   "outputs": [
    {
     "name": "stdout",
     "output_type": "stream",
     "text": [
      "1\n",
      "1\n",
      "2\n",
      "3\n",
      "5\n",
      "8\n",
      "13\n",
      "21\n",
      "34\n",
      "55\n"
     ]
    }
   ],
   "source": [
    "for i in fibonacci1(10):\n",
    "    print(i)"
   ]
  },
  {
   "cell_type": "code",
   "execution_count": null,
   "id": "sublime-danish",
   "metadata": {},
   "outputs": [],
   "source": []
  },
  {
   "cell_type": "code",
   "execution_count": null,
   "id": "introductory-oriental",
   "metadata": {},
   "outputs": [],
   "source": []
  },
  {
   "cell_type": "code",
   "execution_count": null,
   "id": "expected-scanner",
   "metadata": {},
   "outputs": [],
   "source": []
  },
  {
   "cell_type": "code",
   "execution_count": null,
   "id": "previous-michael",
   "metadata": {},
   "outputs": [],
   "source": []
  },
  {
   "cell_type": "code",
   "execution_count": null,
   "id": "qualified-oriental",
   "metadata": {},
   "outputs": [],
   "source": []
  },
  {
   "cell_type": "code",
   "execution_count": null,
   "id": "major-score",
   "metadata": {},
   "outputs": [],
   "source": []
  },
  {
   "cell_type": "code",
   "execution_count": null,
   "id": "powered-dutch",
   "metadata": {},
   "outputs": [],
   "source": []
  },
  {
   "cell_type": "code",
   "execution_count": null,
   "id": "inside-tattoo",
   "metadata": {},
   "outputs": [],
   "source": []
  },
  {
   "cell_type": "code",
   "execution_count": null,
   "id": "liberal-right",
   "metadata": {},
   "outputs": [],
   "source": []
  },
  {
   "cell_type": "code",
   "execution_count": null,
   "id": "copyrighted-upgrade",
   "metadata": {},
   "outputs": [],
   "source": []
  },
  {
   "cell_type": "code",
   "execution_count": null,
   "id": "photographic-wholesale",
   "metadata": {},
   "outputs": [],
   "source": []
  }
 ],
 "metadata": {
  "kernelspec": {
   "display_name": "Python [conda env:.conda-gputest] *",
   "language": "python",
   "name": "conda-env-.conda-gputest-py"
  },
  "language_info": {
   "codemirror_mode": {
    "name": "ipython",
    "version": 3
   },
   "file_extension": ".py",
   "mimetype": "text/x-python",
   "name": "python",
   "nbconvert_exporter": "python",
   "pygments_lexer": "ipython3",
   "version": "3.6.12"
  }
 },
 "nbformat": 4,
 "nbformat_minor": 5
}
