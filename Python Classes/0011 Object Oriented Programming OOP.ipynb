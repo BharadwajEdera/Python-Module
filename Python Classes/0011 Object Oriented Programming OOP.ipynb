{
 "cells": [
  {
   "cell_type": "markdown",
   "id": "located-platinum",
   "metadata": {},
   "source": [
    "# Object Orient Programming"
   ]
  },
  {
   "cell_type": "markdown",
   "id": "greatest-apartment",
   "metadata": {},
   "source": [
    "### Class : Classification of a Real World Entity\n",
    "### Object : Variable of a Class by which we'll able to do a Real time Representation of data within the entity"
   ]
  },
  {
   "cell_type": "markdown",
   "id": "fourth-fairy",
   "metadata": {},
   "source": [
    "### Examples\n",
    "### Class : car         Object : Audi q7\n",
    "### Class : Animal      Object : Lion\n",
    "### Class : Laptop      Object : Dell G3"
   ]
  },
  {
   "cell_type": "markdown",
   "id": "recreational-perception",
   "metadata": {},
   "source": [
    "## Main Purpose of using OOP's is:\n",
    "### 1.Modular Code\n",
    "### 2.Increasing the Reusability\n",
    "### 3.Implementing Abstraction"
   ]
  },
  {
   "cell_type": "code",
   "execution_count": 28,
   "id": "sunrise-attraction",
   "metadata": {},
   "outputs": [
    {
     "ename": "SyntaxError",
     "evalue": "unexpected EOF while parsing (<ipython-input-28-02ef5be3782f>, line 2)",
     "output_type": "error",
     "traceback": [
      "\u001b[1;36m  File \u001b[1;32m\"<ipython-input-28-02ef5be3782f>\"\u001b[1;36m, line \u001b[1;32m2\u001b[0m\n\u001b[1;33m    \u001b[0m\n\u001b[1;37m    ^\u001b[0m\n\u001b[1;31mSyntaxError\u001b[0m\u001b[1;31m:\u001b[0m unexpected EOF while parsing\n"
     ]
    }
   ],
   "source": [
    "class car:\n",
    "    "
   ]
  },
  {
   "cell_type": "code",
   "execution_count": 29,
   "id": "sustainable-radio",
   "metadata": {},
   "outputs": [],
   "source": [
    "class car:\n",
    "    pass"
   ]
  },
  {
   "cell_type": "code",
   "execution_count": 30,
   "id": "distant-provider",
   "metadata": {},
   "outputs": [],
   "source": [
    "audiq7 = car()"
   ]
  },
  {
   "cell_type": "code",
   "execution_count": 31,
   "id": "annoying-benchmark",
   "metadata": {},
   "outputs": [
    {
     "data": {
      "text/plain": [
       "<__main__.car at 0x21d08b8e978>"
      ]
     },
     "execution_count": 31,
     "metadata": {},
     "output_type": "execute_result"
    }
   ],
   "source": [
    "audiq7"
   ]
  },
  {
   "cell_type": "code",
   "execution_count": 32,
   "id": "transsexual-arrest",
   "metadata": {},
   "outputs": [],
   "source": [
    "class car:\n",
    "    pass"
   ]
  },
  {
   "cell_type": "code",
   "execution_count": 33,
   "id": "terminal-cache",
   "metadata": {},
   "outputs": [],
   "source": [
    "audiq7.mileage = 10\n",
    "audiq7.year = 2020\n",
    "audiq7.make = 502\n",
    "audiq7.model = \"jcnsdk\""
   ]
  },
  {
   "cell_type": "code",
   "execution_count": 34,
   "id": "sitting-mitchell",
   "metadata": {},
   "outputs": [
    {
     "data": {
      "text/plain": [
       "10"
      ]
     },
     "execution_count": 34,
     "metadata": {},
     "output_type": "execute_result"
    }
   ],
   "source": [
    "audiq7.mileage"
   ]
  },
  {
   "cell_type": "code",
   "execution_count": 35,
   "id": "exotic-temperature",
   "metadata": {},
   "outputs": [
    {
     "data": {
      "text/plain": [
       "'jcnsdk'"
      ]
     },
     "execution_count": 35,
     "metadata": {},
     "output_type": "execute_result"
    }
   ],
   "source": [
    "audiq7.model"
   ]
  },
  {
   "cell_type": "code",
   "execution_count": 36,
   "id": "sacred-composer",
   "metadata": {},
   "outputs": [],
   "source": [
    "nano = car()"
   ]
  },
  {
   "cell_type": "code",
   "execution_count": 37,
   "id": "existing-linux",
   "metadata": {},
   "outputs": [],
   "source": [
    "nano.mileage = 20\n",
    "nano.year = 2020\n",
    "nano.make = 502\n",
    "nano.model = \"jcnsdk\"\n",
    "nano.engine = 1231113"
   ]
  },
  {
   "cell_type": "code",
   "execution_count": 38,
   "id": "modified-preserve",
   "metadata": {},
   "outputs": [
    {
     "name": "stdout",
     "output_type": "stream",
     "text": [
      "20 10\n"
     ]
    }
   ],
   "source": [
    "print(nano.mileage,audiq7.mileage)"
   ]
  },
  {
   "cell_type": "markdown",
   "id": "corporate-purpose",
   "metadata": {},
   "source": [
    "### Instead of creating Different variables for each class we can Make use of    self\n",
    "### self : Pointer to itself"
   ]
  },
  {
   "cell_type": "markdown",
   "id": "sonic-compact",
   "metadata": {},
   "source": [
    "## Good Programming Practise"
   ]
  },
  {
   "cell_type": "markdown",
   "id": "divided-hindu",
   "metadata": {},
   "source": [
    "### Example 1:\n",
    "#### audiq7 = car()\n",
    "#### self.mileage = 10  is same as audiq7.mileage\n",
    "#### self.year = 2020 is same as audiq7.year\n",
    "### Example 2:\n",
    "#### nano = car()\n",
    "#### self.mileage = 10  is same as nano.mileage\n",
    "#### self.year = 2020 is same as nano.year\n",
    "\n",
    "\n"
   ]
  },
  {
   "cell_type": "markdown",
   "id": "intellectual-rating",
   "metadata": {},
   "source": [
    "# \\_\\_init\\_\\_\n",
    "### \\_\\_init\\_\\_ is used to define Class Variables"
   ]
  },
  {
   "cell_type": "code",
   "execution_count": 44,
   "id": "medieval-bloom",
   "metadata": {},
   "outputs": [],
   "source": [
    "class car:\n",
    "    def __init__(self, mileage , year , make , model):\n",
    "        self.mileage = mileage\n",
    "        self.year = year\n",
    "        self.make = make\n",
    "        self.model = model"
   ]
  },
  {
   "cell_type": "code",
   "execution_count": 45,
   "id": "worldwide-techno",
   "metadata": {},
   "outputs": [
    {
     "ename": "TypeError",
     "evalue": "__init__() missing 4 required positional arguments: 'mileage', 'year', 'make', and 'model'",
     "output_type": "error",
     "traceback": [
      "\u001b[1;31m---------------------------------------------------------------------------\u001b[0m",
      "\u001b[1;31mTypeError\u001b[0m                                 Traceback (most recent call last)",
      "\u001b[1;32m<ipython-input-45-16870c6ee572>\u001b[0m in \u001b[0;36m<module>\u001b[1;34m\u001b[0m\n\u001b[1;32m----> 1\u001b[1;33m \u001b[0mnano1\u001b[0m \u001b[1;33m=\u001b[0m \u001b[0mcar\u001b[0m\u001b[1;33m(\u001b[0m\u001b[1;33m)\u001b[0m\u001b[1;33m\u001b[0m\u001b[1;33m\u001b[0m\u001b[0m\n\u001b[0m",
      "\u001b[1;31mTypeError\u001b[0m: __init__() missing 4 required positional arguments: 'mileage', 'year', 'make', and 'model'"
     ]
    }
   ],
   "source": [
    "nano1 = car()"
   ]
  },
  {
   "cell_type": "code",
   "execution_count": 46,
   "id": "better-liverpool",
   "metadata": {},
   "outputs": [],
   "source": [
    "nano1 = car(20,2020,51651,\"jhafjsd\")"
   ]
  },
  {
   "cell_type": "code",
   "execution_count": 47,
   "id": "convenient-dakota",
   "metadata": {},
   "outputs": [],
   "source": [
    "qudiq71 = car(10,2020,8981,\"uvhuv\")"
   ]
  },
  {
   "cell_type": "code",
   "execution_count": 48,
   "id": "republican-hundred",
   "metadata": {},
   "outputs": [
    {
     "data": {
      "text/plain": [
       "20"
      ]
     },
     "execution_count": 48,
     "metadata": {},
     "output_type": "execute_result"
    }
   ],
   "source": [
    "nano1.mileage"
   ]
  },
  {
   "cell_type": "code",
   "execution_count": 49,
   "id": "radical-mozambique",
   "metadata": {},
   "outputs": [],
   "source": [
    "nano2 = car(20,2020,51651,\"jhafjsd\")\n",
    "qudiq72 = car(10,2020,8981,\"uvhuv\")\n",
    "nano3 = car(20,2020,51651,\"jhafjsd\")\n",
    "qudiq73 = car(10,2020,8981,\"uvhuv\")\n",
    "nano4 = car(20,2020,51651,\"jhafjsd\")\n",
    "qudiq74 = car(10,2020,8981,\"uvhuv\")\n",
    "nano5 = car(20,2020,51651,\"jhafjsd\")\n",
    "qudiq75 = car(10,2020,8981,\"uvhuv\")\n",
    "nano6 = car(20,2020,51651,\"jhafjsd\")\n",
    "qudiq76 = car(10,2020,8981,\"uvhuv\")"
   ]
  },
  {
   "cell_type": "markdown",
   "id": "greenhouse-gothic",
   "metadata": {},
   "source": [
    "### self is not a predefined keyword , we can use any variable as keyword to point to itself\n",
    "### If we don't give self then whatever the 1st variable we'll give , it will be considered as pointer to itself"
   ]
  },
  {
   "cell_type": "code",
   "execution_count": 87,
   "id": "controlling-neutral",
   "metadata": {},
   "outputs": [],
   "source": [
    "class car:\n",
    "    def __init__( a , mileage , year , make , model):\n",
    "        a.mileage = mileage\n",
    "        a.year = year\n",
    "        a.make = make\n",
    "        a.model = model"
   ]
  },
  {
   "cell_type": "code",
   "execution_count": 88,
   "id": "supported-measurement",
   "metadata": {},
   "outputs": [],
   "source": [
    "nano2 = car(20,2020,51651,\"jhafjsd\")\n",
    "qudiq72 = car(10,2020,8981,\"uvhuv\")"
   ]
  },
  {
   "cell_type": "code",
   "execution_count": 89,
   "id": "received-orientation",
   "metadata": {},
   "outputs": [],
   "source": [
    "class car:\n",
    "    def __init__( a , m , y , ma , mo):\n",
    "        a.mileage = m\n",
    "        a.year = y\n",
    "        a.make = ma\n",
    "        a.model = mo"
   ]
  },
  {
   "cell_type": "code",
   "execution_count": 90,
   "id": "independent-relevance",
   "metadata": {},
   "outputs": [],
   "source": [
    "nano2 = car(20,2020,51651,\"jhafjsd\")\n",
    "qudiq72 = car(10,2020,8981,\"uvhuv\")"
   ]
  },
  {
   "cell_type": "code",
   "execution_count": 91,
   "id": "inner-point",
   "metadata": {},
   "outputs": [
    {
     "ename": "AttributeError",
     "evalue": "'car' object has no attribute 'm'",
     "output_type": "error",
     "traceback": [
      "\u001b[1;31m---------------------------------------------------------------------------\u001b[0m",
      "\u001b[1;31mAttributeError\u001b[0m                            Traceback (most recent call last)",
      "\u001b[1;32m<ipython-input-91-1e379d0a2b1b>\u001b[0m in \u001b[0;36m<module>\u001b[1;34m\u001b[0m\n\u001b[1;32m----> 1\u001b[1;33m \u001b[0mnano2\u001b[0m\u001b[1;33m.\u001b[0m\u001b[0mm\u001b[0m\u001b[1;33m\u001b[0m\u001b[1;33m\u001b[0m\u001b[0m\n\u001b[0m",
      "\u001b[1;31mAttributeError\u001b[0m: 'car' object has no attribute 'm'"
     ]
    }
   ],
   "source": [
    "nano2.m"
   ]
  },
  {
   "cell_type": "code",
   "execution_count": 93,
   "id": "unauthorized-place",
   "metadata": {},
   "outputs": [
    {
     "data": {
      "text/plain": [
       "20"
      ]
     },
     "execution_count": 93,
     "metadata": {},
     "output_type": "execute_result"
    }
   ],
   "source": [
    "nano2.mileage"
   ]
  },
  {
   "cell_type": "markdown",
   "id": "mysterious-joining",
   "metadata": {},
   "source": [
    "### How to write a Method/Function in Class"
   ]
  },
  {
   "cell_type": "code",
   "execution_count": 94,
   "id": "phantom-lewis",
   "metadata": {},
   "outputs": [],
   "source": [
    "class car:\n",
    "    def __init__( a , m , y , ma , mo):\n",
    "        a.mileage = m\n",
    "        a.year = y\n",
    "        a.make = ma\n",
    "        a.model = mo\n",
    "    \n",
    "    def age_of_car(self,Current_year):\n",
    "        return Current_year - a.year"
   ]
  },
  {
   "cell_type": "code",
   "execution_count": 95,
   "id": "significant-river",
   "metadata": {},
   "outputs": [],
   "source": [
    "nano6 = car(20,2020,51651,\"jhafjsd\")"
   ]
  },
  {
   "cell_type": "code",
   "execution_count": 96,
   "id": "correct-distance",
   "metadata": {},
   "outputs": [
    {
     "data": {
      "text/plain": [
       "<bound method car.age_of_car of <__main__.car object at 0x0000021D08C58BA8>>"
      ]
     },
     "execution_count": 96,
     "metadata": {},
     "output_type": "execute_result"
    }
   ],
   "source": [
    "nano6.age_of_car"
   ]
  },
  {
   "cell_type": "code",
   "execution_count": 97,
   "id": "yellow-rainbow",
   "metadata": {},
   "outputs": [
    {
     "ename": "NameError",
     "evalue": "name 'a' is not defined",
     "output_type": "error",
     "traceback": [
      "\u001b[1;31m---------------------------------------------------------------------------\u001b[0m",
      "\u001b[1;31mNameError\u001b[0m                                 Traceback (most recent call last)",
      "\u001b[1;32m<ipython-input-97-5cc0dc2caf2e>\u001b[0m in \u001b[0;36m<module>\u001b[1;34m\u001b[0m\n\u001b[1;32m----> 1\u001b[1;33m \u001b[0mnano6\u001b[0m\u001b[1;33m.\u001b[0m\u001b[0mage_of_car\u001b[0m\u001b[1;33m(\u001b[0m\u001b[1;36m2021\u001b[0m\u001b[1;33m)\u001b[0m\u001b[1;33m\u001b[0m\u001b[1;33m\u001b[0m\u001b[0m\n\u001b[0m",
      "\u001b[1;32m<ipython-input-94-8bdfa0c48463>\u001b[0m in \u001b[0;36mage_of_car\u001b[1;34m(self, Current_year)\u001b[0m\n\u001b[0;32m      7\u001b[0m \u001b[1;33m\u001b[0m\u001b[0m\n\u001b[0;32m      8\u001b[0m     \u001b[1;32mdef\u001b[0m \u001b[0mage_of_car\u001b[0m\u001b[1;33m(\u001b[0m\u001b[0mself\u001b[0m\u001b[1;33m,\u001b[0m\u001b[0mCurrent_year\u001b[0m\u001b[1;33m)\u001b[0m\u001b[1;33m:\u001b[0m\u001b[1;33m\u001b[0m\u001b[1;33m\u001b[0m\u001b[0m\n\u001b[1;32m----> 9\u001b[1;33m         \u001b[1;32mreturn\u001b[0m \u001b[0mCurrent_year\u001b[0m \u001b[1;33m-\u001b[0m \u001b[0ma\u001b[0m\u001b[1;33m.\u001b[0m\u001b[0myear\u001b[0m\u001b[1;33m\u001b[0m\u001b[1;33m\u001b[0m\u001b[0m\n\u001b[0m",
      "\u001b[1;31mNameError\u001b[0m: name 'a' is not defined"
     ]
    }
   ],
   "source": [
    "nano6.age_of_car(2021)"
   ]
  },
  {
   "cell_type": "code",
   "execution_count": 98,
   "id": "handled-definition",
   "metadata": {},
   "outputs": [],
   "source": [
    "class car:\n",
    "    def __init__( a , m , y , ma , mo):\n",
    "        a.mileage = m\n",
    "        a.year = y\n",
    "        a.make = ma\n",
    "        a.model = mo\n",
    "    \n",
    "    def age_of_car(self,Current_year):\n",
    "        return self.Current_year - self.year"
   ]
  },
  {
   "cell_type": "code",
   "execution_count": 99,
   "id": "outside-liquid",
   "metadata": {},
   "outputs": [],
   "source": [
    "nano6 = car(20,2020,51651,\"jhafjsd\")"
   ]
  },
  {
   "cell_type": "code",
   "execution_count": 100,
   "id": "cardiac-sugar",
   "metadata": {},
   "outputs": [
    {
     "ename": "AttributeError",
     "evalue": "'car' object has no attribute 'Current_year'",
     "output_type": "error",
     "traceback": [
      "\u001b[1;31m---------------------------------------------------------------------------\u001b[0m",
      "\u001b[1;31mAttributeError\u001b[0m                            Traceback (most recent call last)",
      "\u001b[1;32m<ipython-input-100-5cc0dc2caf2e>\u001b[0m in \u001b[0;36m<module>\u001b[1;34m\u001b[0m\n\u001b[1;32m----> 1\u001b[1;33m \u001b[0mnano6\u001b[0m\u001b[1;33m.\u001b[0m\u001b[0mage_of_car\u001b[0m\u001b[1;33m(\u001b[0m\u001b[1;36m2021\u001b[0m\u001b[1;33m)\u001b[0m\u001b[1;33m\u001b[0m\u001b[1;33m\u001b[0m\u001b[0m\n\u001b[0m",
      "\u001b[1;32m<ipython-input-98-fcf6dd0648ef>\u001b[0m in \u001b[0;36mage_of_car\u001b[1;34m(self, Current_year)\u001b[0m\n\u001b[0;32m      7\u001b[0m \u001b[1;33m\u001b[0m\u001b[0m\n\u001b[0;32m      8\u001b[0m     \u001b[1;32mdef\u001b[0m \u001b[0mage_of_car\u001b[0m\u001b[1;33m(\u001b[0m\u001b[0mself\u001b[0m\u001b[1;33m,\u001b[0m\u001b[0mCurrent_year\u001b[0m\u001b[1;33m)\u001b[0m\u001b[1;33m:\u001b[0m\u001b[1;33m\u001b[0m\u001b[1;33m\u001b[0m\u001b[0m\n\u001b[1;32m----> 9\u001b[1;33m         \u001b[1;32mreturn\u001b[0m \u001b[0mself\u001b[0m\u001b[1;33m.\u001b[0m\u001b[0mCurrent_year\u001b[0m \u001b[1;33m-\u001b[0m \u001b[0mself\u001b[0m\u001b[1;33m.\u001b[0m\u001b[0myear\u001b[0m\u001b[1;33m\u001b[0m\u001b[1;33m\u001b[0m\u001b[0m\n\u001b[0m",
      "\u001b[1;31mAttributeError\u001b[0m: 'car' object has no attribute 'Current_year'"
     ]
    }
   ],
   "source": [
    "nano6.age_of_car(2021)"
   ]
  },
  {
   "cell_type": "markdown",
   "id": "official-dryer",
   "metadata": {},
   "source": [
    "### self is not a predefined keyword , we can use any variable as keyword to point to itself\n",
    "### If we don't give self then whatever the 1st variable we'll give , it will be considered as pointer to itself"
   ]
  },
  {
   "cell_type": "code",
   "execution_count": 104,
   "id": "mobile-embassy",
   "metadata": {},
   "outputs": [],
   "source": [
    "class car:\n",
    "    def __init__( a , m , y , ma , mo): ### here a is given as pointer to itself\n",
    "        a.mileage = m\n",
    "        a.year = y\n",
    "        a.make = ma\n",
    "        a.model = mo\n",
    "    \n",
    "    def age_of_car(self,Current_year):   ### here self is given as pointer to itself\n",
    "        return Current_year - self.year\n",
    "    \n",
    "    def mileage1(xyz):  ### here xyz is given as pointer to itself\n",
    "        print(\"Mileage of the car is :\",xyz.mileage)  "
   ]
  },
  {
   "cell_type": "code",
   "execution_count": 105,
   "id": "sitting-customs",
   "metadata": {},
   "outputs": [],
   "source": [
    "nano7 = car(20,2020,51651,\"jhafjsd\")"
   ]
  },
  {
   "cell_type": "code",
   "execution_count": 106,
   "id": "institutional-intro",
   "metadata": {},
   "outputs": [
    {
     "name": "stdout",
     "output_type": "stream",
     "text": [
      "Mileage of the car is : 20\n"
     ]
    }
   ],
   "source": [
    "nano7.mileage1()"
   ]
  },
  {
   "cell_type": "markdown",
   "id": "living-iraqi",
   "metadata": {},
   "source": [
    "# \\_\\_str\\_\\_"
   ]
  },
  {
   "cell_type": "markdown",
   "id": "buried-vault",
   "metadata": {},
   "source": [
    "### \\_\\_str\\_\\_ to print the description of the Class when object is called"
   ]
  },
  {
   "cell_type": "code",
   "execution_count": 34,
   "id": "faced-thing",
   "metadata": {},
   "outputs": [],
   "source": [
    "class car:\n",
    "    def __init__( a , m , y , ma , mo): ### here a is given as pointer to itself\n",
    "        a.mileage = m\n",
    "        a.year = y\n",
    "        a.make = ma\n",
    "        a.model = mo\n",
    "    \n",
    "    def age_of_car(self,Current_year):   ### here self is given as pointer to itself\n",
    "        return Current_year - self.year\n",
    "    \n",
    "    def mileage1(xyz):  ### here xyz is given as pointer to itself\n",
    "        print(\"Mileage of the car is :\",xyz.mileage)  "
   ]
  },
  {
   "cell_type": "code",
   "execution_count": 35,
   "id": "harmful-fountain",
   "metadata": {},
   "outputs": [],
   "source": [
    "nano7 = car(20,2020,51651,\"jhafjsd\")"
   ]
  },
  {
   "cell_type": "code",
   "execution_count": 36,
   "id": "therapeutic-metro",
   "metadata": {},
   "outputs": [
    {
     "name": "stdout",
     "output_type": "stream",
     "text": [
      "<__main__.car object at 0x00000290B6DAE0B8>\n"
     ]
    }
   ],
   "source": [
    "print(nano7)"
   ]
  },
  {
   "cell_type": "code",
   "execution_count": 9,
   "id": "copyrighted-stupid",
   "metadata": {},
   "outputs": [],
   "source": [
    "class car:\n",
    "    def __init__( a , m , y , ma , mo): ### here a is given as pointer to itself\n",
    "        a.mileage = m\n",
    "        a.year = y\n",
    "        a.make = ma\n",
    "        a.model = mo\n",
    "    \n",
    "    def age_of_car(self,Current_year):   ### here self is given as pointer to itself\n",
    "        return Current_year - self.year\n",
    "    \n",
    "    def mileage1(xyz):  ### here xyz is given as pointer to itself\n",
    "        print(\"Mileage of the car is :\",xyz.mileage)  \n",
    "        \n",
    "    def __str__():\n",
    "        return \"This the class created for car\""
   ]
  },
  {
   "cell_type": "code",
   "execution_count": 10,
   "id": "sporting-isolation",
   "metadata": {},
   "outputs": [],
   "source": [
    "nano7 = car(20,2020,51651,\"jhafjsd\")"
   ]
  },
  {
   "cell_type": "code",
   "execution_count": 11,
   "id": "split-texas",
   "metadata": {},
   "outputs": [
    {
     "ename": "TypeError",
     "evalue": "__str__() takes 0 positional arguments but 1 was given",
     "output_type": "error",
     "traceback": [
      "\u001b[1;31m---------------------------------------------------------------------------\u001b[0m",
      "\u001b[1;31mTypeError\u001b[0m                                 Traceback (most recent call last)",
      "\u001b[1;32m<ipython-input-11-2a115dc5520a>\u001b[0m in \u001b[0;36m<module>\u001b[1;34m\u001b[0m\n\u001b[1;32m----> 1\u001b[1;33m \u001b[0mprint\u001b[0m\u001b[1;33m(\u001b[0m\u001b[0mnano7\u001b[0m\u001b[1;33m)\u001b[0m\u001b[1;33m\u001b[0m\u001b[1;33m\u001b[0m\u001b[0m\n\u001b[0m",
      "\u001b[1;31mTypeError\u001b[0m: __str__() takes 0 positional arguments but 1 was given"
     ]
    }
   ],
   "source": [
    "print(nano7)"
   ]
  },
  {
   "cell_type": "code",
   "execution_count": 12,
   "id": "expressed-hands",
   "metadata": {},
   "outputs": [],
   "source": [
    "class car:\n",
    "    def __init__( a , m , y , ma , mo): ### here a is given as pointer to itself\n",
    "        a.mileage = m\n",
    "        a.year = y\n",
    "        a.make = ma\n",
    "        a.model = mo\n",
    "    \n",
    "    def age_of_car(self,Current_year):   ### here self is given as pointer to itself\n",
    "        return Current_year - self.year\n",
    "    \n",
    "    def mileage1(xyz):  ### here xyz is given as pointer to itself\n",
    "        print(\"Mileage of the car is :\",xyz.mileage)  \n",
    "        \n",
    "    def __str__(c):\n",
    "        return \"This the class created for car\""
   ]
  },
  {
   "cell_type": "code",
   "execution_count": 13,
   "id": "limiting-vanilla",
   "metadata": {},
   "outputs": [],
   "source": [
    "nano7 = car(20,2020,51651,\"jhafjsd\")"
   ]
  },
  {
   "cell_type": "code",
   "execution_count": 14,
   "id": "equal-breeding",
   "metadata": {},
   "outputs": [
    {
     "name": "stdout",
     "output_type": "stream",
     "text": [
      "This the class created for car\n"
     ]
    }
   ],
   "source": [
    "print(nano7)"
   ]
  },
  {
   "cell_type": "code",
   "execution_count": 54,
   "id": "quarterly-uruguay",
   "metadata": {},
   "outputs": [],
   "source": [
    "class Student:\n",
    "    def __init__(self , name , rollNo , joining_date , current_topic):\n",
    "        self.name = name\n",
    "        self.rollNo = rollNo\n",
    "        self.joining_date = joining_date\n",
    "        self.current_topic = current_topic\n",
    "        \n",
    "    def crt_topic(self):\n",
    "        print(\"Current topic going on class is :\",self.current_topic)\n",
    "        \n",
    "    def str_rollNo(self):\n",
    "        \n",
    "        if type(self.rollNo) == str:\n",
    "            print(\"Do nothing\")\n",
    "            print(self.rollNo)\n",
    "        else:\n",
    "            return str(self.rollNo)\n",
    "    \n",
    "    def name_Parsing(self):\n",
    "        if type(self.name) == list :\n",
    "            for i in range(len(self.name)):\n",
    "                print(\"Name of the Student is :\",self.name[i])\n",
    "            \n",
    "        \n",
    "    def duration(self, current_date):\n",
    "        print(\"Duration of the student in my class is :\",(current_date-self.joining_date))\n",
    "        \n",
    "    def __str__(self):\n",
    "        return \"This is the class where students can enter the data and fetch it\""
   ]
  },
  {
   "cell_type": "code",
   "execution_count": 55,
   "id": "brutal-symbol",
   "metadata": {},
   "outputs": [],
   "source": [
    "Bharadwaja = Student(\"Bharadwaja\",\"SC20M104\",2,\"OOPs\")"
   ]
  },
  {
   "cell_type": "code",
   "execution_count": 56,
   "id": "tough-buying",
   "metadata": {},
   "outputs": [
    {
     "name": "stdout",
     "output_type": "stream",
     "text": [
      "Current topic going on class is : OOPs\n"
     ]
    }
   ],
   "source": [
    "Bharadwaja.crt_topic()"
   ]
  },
  {
   "cell_type": "code",
   "execution_count": 57,
   "id": "animated-mozambique",
   "metadata": {},
   "outputs": [
    {
     "name": "stdout",
     "output_type": "stream",
     "text": [
      "Do nothing\n",
      "SC20M104\n"
     ]
    }
   ],
   "source": [
    "Bharadwaja.str_rollNo()"
   ]
  },
  {
   "cell_type": "code",
   "execution_count": 58,
   "id": "norwegian-mainland",
   "metadata": {},
   "outputs": [
    {
     "name": "stdout",
     "output_type": "stream",
     "text": [
      "Duration of the student in my class is : 14\n"
     ]
    }
   ],
   "source": [
    "Bharadwaja.duration(16)"
   ]
  },
  {
   "cell_type": "code",
   "execution_count": 59,
   "id": "growing-customs",
   "metadata": {},
   "outputs": [
    {
     "name": "stdout",
     "output_type": "stream",
     "text": [
      "This is the class where students can enter the data and fetch it\n"
     ]
    }
   ],
   "source": [
    "print(Bharadwaja)"
   ]
  },
  {
   "cell_type": "code",
   "execution_count": 60,
   "id": "documented-winter",
   "metadata": {},
   "outputs": [],
   "source": [
    "Chinni = Student(\"Chinni\",104,2020,\"OOPs\")"
   ]
  },
  {
   "cell_type": "code",
   "execution_count": 64,
   "id": "second-reputation",
   "metadata": {},
   "outputs": [
    {
     "name": "stdout",
     "output_type": "stream",
     "text": [
      "Duration of the student in my class is : 1\n"
     ]
    }
   ],
   "source": [
    "Chinni.duration(2021)"
   ]
  },
  {
   "cell_type": "code",
   "execution_count": 62,
   "id": "independent-violence",
   "metadata": {},
   "outputs": [],
   "source": [
    "stu = Student([\"Bharadwaj\",\"Chinni\",\"Bujji\",\"Chitti\"],[51,52,53,54],2021,\"OOPs\")"
   ]
  },
  {
   "cell_type": "code",
   "execution_count": 63,
   "id": "muslim-nothing",
   "metadata": {},
   "outputs": [
    {
     "name": "stdout",
     "output_type": "stream",
     "text": [
      "Name of the Student is : Bharadwaj\n",
      "Name of the Student is : Chinni\n",
      "Name of the Student is : Bujji\n",
      "Name of the Student is : Chitti\n"
     ]
    }
   ],
   "source": [
    "stu.name_Parsing()"
   ]
  },
  {
   "cell_type": "markdown",
   "id": "sharing-showcase",
   "metadata": {},
   "source": [
    "### we can use Doc String , \\*args , \\*\\*kwargs , Exception Handlers [try_except_else_finally] , Logging in class"
   ]
  },
  {
   "cell_type": "code",
   "execution_count": null,
   "id": "forty-finnish",
   "metadata": {},
   "outputs": [],
   "source": []
  },
  {
   "cell_type": "markdown",
   "id": "bronze-cylinder",
   "metadata": {},
   "source": [
    "# TASK\n",
    "\n",
    "# LEVEL 1\n",
    "### 01.Create Class data:\n",
    "### 02.Class variables File_name , File_type,Date,Size (you can even provide Multiple File_names as list Disctionary tuples etc)\n",
    "### 03.Create Function called File_open , It will take file name as input and i should create a file and write something in File\n",
    "### 04.Create Function called File_read , It should take file_name and read the data\n",
    "### 05.Create Function called File_append , Append the New Data in the same file and read \n",
    "\n",
    "# LEVEL 2\n",
    "### 06.implement Exception Handling\n",
    "### 07.implement Logging [Create log function and make use of that to logging]\n"
   ]
  },
  {
   "cell_type": "code",
   "execution_count": 76,
   "id": "matched-child",
   "metadata": {},
   "outputs": [
    {
     "data": {
      "text/plain": [
       "'C:\\\\Users\\\\Bharadwaj\\\\ineuron\\\\Python Module\\\\Classes'"
      ]
     },
     "execution_count": 76,
     "metadata": {},
     "output_type": "execute_result"
    }
   ],
   "source": [
    "import os\n",
    "os.getcwd()"
   ]
  },
  {
   "cell_type": "code",
   "execution_count": 77,
   "id": "mounted-advance",
   "metadata": {},
   "outputs": [],
   "source": [
    "os.chdir(os.getcwd()+\"\\\\\"+\"File operations\")"
   ]
  },
  {
   "cell_type": "code",
   "execution_count": 78,
   "id": "convenient-student",
   "metadata": {},
   "outputs": [
    {
     "data": {
      "text/plain": [
       "'C:\\\\Users\\\\Bharadwaj\\\\ineuron\\\\Python Module\\\\Classes\\\\File operations'"
      ]
     },
     "execution_count": 78,
     "metadata": {},
     "output_type": "execute_result"
    }
   ],
   "source": [
    "os.getcwd()"
   ]
  },
  {
   "cell_type": "code",
   "execution_count": 108,
   "id": "infrared-figure",
   "metadata": {},
   "outputs": [],
   "source": [
    "class data:\n",
    "    \n",
    "    def __init__(self,File_name,File_type,date,size):\n",
    "        self.File_name = File_name\n",
    "        self.File_type = File_type\n",
    "        self.date = date\n",
    "        self.size = size\n",
    "        \n",
    "    def log(self,arg):\n",
    "        import logging as lg\n",
    "        self.arg = arg\n",
    "        lg.basicConfig(filename = \"OOPs_Task.log\",level = lg.INFO)\n",
    "        lg.info(self.arg)\n",
    "        \n",
    "    def File_open(self):\n",
    "        try:\n",
    "            for i in range(len(self.File_name)):\n",
    "                f = open(f\"{self.File_name[i]}.txt\",\"w+\")\n",
    "                f.write(f\"Write : This is The file with name {self.File_name[i]} Created using class data\")\n",
    "        except Exception as e:\n",
    "            print(\"There is an error in creating a File\",e)\n",
    "            self.log(f\"There is an Error : {e} , at File_open method in Class : data\")\n",
    "        else:\n",
    "            print(\"File Created Successfully and some data is written in them\")\n",
    "            self.log(f\"File Created Successfully in  File_open method in Class : data ,and some data is written in them\")\n",
    "        finally:\n",
    "            f.close()\n",
    "            self.log(f\"File Successfully closed in File_open method in Class : data\")\n",
    "            \n",
    "    \n",
    "    def File_read(self):    \n",
    "        try:\n",
    "            for i in range(len(self.File_name)):\n",
    "                f = open(f\"{self.File_name[i]}.txt\",\"r+\")\n",
    "                print(f.read())\n",
    "        except Exception as e:\n",
    "            print(\"There is an error in creating a File\",e)\n",
    "            self.log(f\"There is an Error : {e} , at File_read method in Class : data\")\n",
    "        else:\n",
    "            print(\"File Reading Successfully completed \")\n",
    "            self.log(f\"File Reading Successful in  File_read method in Class : data \")\n",
    "            \n",
    "        finally:\n",
    "            f.close()\n",
    "            self.log(f\"File Successfully closed in File_read method in Class : data\")\n",
    "            \n",
    "    def File_append(self):    \n",
    "        try:\n",
    "            for i in range(len(self.File_name)):\n",
    "                f = open(f\"{self.File_name[i]}.txt\",\"a+\")\n",
    "                f.write(f\"Append : This is The file with name {self.File_name[i]} is appended with this data using class data\")\n",
    "        except Exception as e:\n",
    "            print(\"There is an error in creating a File\",e)\n",
    "            self.log(f\"There is an Error : {e} , at File_append method in Class : data\")\n",
    "        else:\n",
    "            print(\"File Reading Successfully completed \")\n",
    "            self.log(f\"File appending with data is Successful in  File_append method in Class : data \")\n",
    "            \n",
    "        finally:\n",
    "            f.close()\n",
    "            self.log(f\"File Successfully closed in File_append method in Class : data\")\n",
    "        \n",
    "        "
   ]
  },
  {
   "cell_type": "code",
   "execution_count": 109,
   "id": "stuffed-champagne",
   "metadata": {},
   "outputs": [],
   "source": [
    "d = data([\"Full\",\"Stack\",\"Data\",\"Science\"],\".txt\",\"16-04-2021\",\"20kb\")"
   ]
  },
  {
   "cell_type": "code",
   "execution_count": 110,
   "id": "grateful-moral",
   "metadata": {},
   "outputs": [
    {
     "name": "stdout",
     "output_type": "stream",
     "text": [
      "File Created Successfully and some data is written in them\n"
     ]
    }
   ],
   "source": [
    "d.File_open()"
   ]
  },
  {
   "cell_type": "code",
   "execution_count": 111,
   "id": "eligible-advancement",
   "metadata": {},
   "outputs": [
    {
     "name": "stdout",
     "output_type": "stream",
     "text": [
      "Write : This is The file with name Full Created using class data\n",
      "Write : This is The file with name Stack Created using class data\n",
      "Write : This is The file with name Data Created using class data\n",
      "Write : This is The file with name Science Created using class data\n",
      "File Reading Successfully completed \n"
     ]
    }
   ],
   "source": [
    "d.File_read()"
   ]
  },
  {
   "cell_type": "code",
   "execution_count": 112,
   "id": "failing-librarian",
   "metadata": {},
   "outputs": [
    {
     "name": "stdout",
     "output_type": "stream",
     "text": [
      "File Reading Successfully completed \n"
     ]
    }
   ],
   "source": [
    "d.File_append()"
   ]
  },
  {
   "cell_type": "code",
   "execution_count": null,
   "id": "seventh-construction",
   "metadata": {},
   "outputs": [],
   "source": []
  },
  {
   "cell_type": "code",
   "execution_count": null,
   "id": "vietnamese-shanghai",
   "metadata": {},
   "outputs": [],
   "source": []
  }
 ],
 "metadata": {
  "kernelspec": {
   "display_name": "Python [conda env:.conda-gputest] *",
   "language": "python",
   "name": "conda-env-.conda-gputest-py"
  },
  "language_info": {
   "codemirror_mode": {
    "name": "ipython",
    "version": 3
   },
   "file_extension": ".py",
   "mimetype": "text/x-python",
   "name": "python",
   "nbconvert_exporter": "python",
   "pygments_lexer": "ipython3",
   "version": "3.6.12"
  }
 },
 "nbformat": 4,
 "nbformat_minor": 5
}
