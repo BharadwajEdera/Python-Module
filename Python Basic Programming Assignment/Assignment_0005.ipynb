{
 "cells": [
  {
   "cell_type": "markdown",
   "id": "amended-deviation",
   "metadata": {},
   "source": [
    "### 1. Write a Python Program to Find LCM?"
   ]
  },
  {
   "cell_type": "markdown",
   "id": "objective-tours",
   "metadata": {},
   "source": [
    "#### LCM >= greater Number and LCM is divisible by all the Numbers"
   ]
  },
  {
   "cell_type": "code",
   "execution_count": 5,
   "id": "whole-ottawa",
   "metadata": {},
   "outputs": [
    {
     "data": {
      "text/plain": [
       "48"
      ]
     },
     "execution_count": 5,
     "metadata": {},
     "output_type": "execute_result"
    }
   ],
   "source": [
    "def LCM(a,b,c):\n",
    "    if a>b and a>c:\n",
    "        greater = a\n",
    "    elif b>a and b>c:\n",
    "        greater = b\n",
    "    else:\n",
    "        greater = c\n",
    "    while(True):\n",
    "        if(greater%a ==0) and (greater%b ==0) and (greater%c ==0):\n",
    "            break\n",
    "        greater +=1\n",
    "    return greater\n",
    "\n",
    "LCM(8,16,24)"
   ]
  },
  {
   "cell_type": "code",
   "execution_count": 6,
   "id": "enabling-chrome",
   "metadata": {},
   "outputs": [
    {
     "data": {
      "text/plain": [
       "24"
      ]
     },
     "execution_count": 6,
     "metadata": {},
     "output_type": "execute_result"
    }
   ],
   "source": [
    "LCM(2,8,24)"
   ]
  },
  {
   "cell_type": "markdown",
   "id": "minute-cutting",
   "metadata": {},
   "source": [
    "### 2. Write a Python Program to Find HCF?"
   ]
  },
  {
   "cell_type": "markdown",
   "id": "outstanding-protest",
   "metadata": {},
   "source": [
    "#### HCF <= least Number and HCF is the factor of all the Numbers"
   ]
  },
  {
   "cell_type": "code",
   "execution_count": 7,
   "id": "social-bedroom",
   "metadata": {},
   "outputs": [
    {
     "data": {
      "text/plain": [
       "8"
      ]
     },
     "execution_count": 7,
     "metadata": {},
     "output_type": "execute_result"
    }
   ],
   "source": [
    "def HCF(a,b,c):\n",
    "    if a<b and a<c:\n",
    "        least = a\n",
    "    elif b<a and b<c:\n",
    "        least = b\n",
    "    else:\n",
    "        least = c\n",
    "    while(True):\n",
    "        if(a%least ==0) and (b%least ==0) and (c%least ==0):\n",
    "            break\n",
    "        least -=1\n",
    "    return least\n",
    "\n",
    "HCF(8,16,24)"
   ]
  },
  {
   "cell_type": "code",
   "execution_count": 8,
   "id": "black-geometry",
   "metadata": {},
   "outputs": [
    {
     "data": {
      "text/plain": [
       "8"
      ]
     },
     "execution_count": 8,
     "metadata": {},
     "output_type": "execute_result"
    }
   ],
   "source": [
    "HCF(16,24,48)"
   ]
  },
  {
   "cell_type": "markdown",
   "id": "thrown-gathering",
   "metadata": {},
   "source": [
    "### 3. Write a Python Program to Convert Decimal to Binary, Octal and Hexadecimal?"
   ]
  },
  {
   "cell_type": "code",
   "execution_count": 61,
   "id": "robust-being",
   "metadata": {},
   "outputs": [
    {
     "name": "stdout",
     "output_type": "stream",
     "text": [
      "    Enter 1 for Decimal to Binary Conversion\n",
      "    Enter 2 for Decimal to Octal Conversion\n",
      "    Enter 3 for Decimal to HexaDecimal Conversion\n",
      "    1\n",
      "[1, 0, 0, 0, 0]\n"
     ]
    }
   ],
   "source": [
    "def D2B(n):\n",
    "    if n in (0,1):\n",
    "        l.append(n)\n",
    "    else:\n",
    "        a = n%2\n",
    "        l.append(a)\n",
    "        D2B(n//2)\n",
    "def D2O(n):\n",
    "    if n in (0,1):\n",
    "        l.append(n)\n",
    "    else:\n",
    "        a = n%8\n",
    "        l.append(a)\n",
    "        D2O(n//8)\n",
    "def D2H(n):\n",
    "    if n in (0,1):\n",
    "        l.append(n)\n",
    "    else:\n",
    "        a = n%16\n",
    "        l.append(a)\n",
    "        D2H(n//16)\n",
    "def Conversion(n):\n",
    "    c = int(input(\"\"\"    Enter 1 for Decimal to Binary Conversion\n",
    "    Enter 2 for Decimal to Octal Conversion\n",
    "    Enter 3 for Decimal to HexaDecimal Conversion\n",
    "    \"\"\"))\n",
    "    global l\n",
    "    l = []\n",
    "    if c == 1:\n",
    "        D2B(n)\n",
    "        print(l[::-1])\n",
    "    elif c == 2:\n",
    "        D2O(n)\n",
    "        print(l[::-1])\n",
    "    elif c == 3:\n",
    "        D2H(n)\n",
    "        print(l[::-1])\n",
    "    \n",
    "Conversion(16)   "
   ]
  },
  {
   "cell_type": "code",
   "execution_count": 62,
   "id": "previous-listing",
   "metadata": {},
   "outputs": [
    {
     "name": "stdout",
     "output_type": "stream",
     "text": [
      "    Enter 1 for Decimal to Binary Conversion\n",
      "    Enter 2 for Decimal to Octal Conversion\n",
      "    Enter 3 for Decimal to HexaDecimal Conversion\n",
      "    2\n",
      "[0, 2, 0]\n"
     ]
    }
   ],
   "source": [
    "Conversion(16)"
   ]
  },
  {
   "cell_type": "code",
   "execution_count": 63,
   "id": "copyrighted-agency",
   "metadata": {},
   "outputs": [
    {
     "name": "stdout",
     "output_type": "stream",
     "text": [
      "    Enter 1 for Decimal to Binary Conversion\n",
      "    Enter 2 for Decimal to Octal Conversion\n",
      "    Enter 3 for Decimal to HexaDecimal Conversion\n",
      "    3\n",
      "[1, 0]\n"
     ]
    }
   ],
   "source": [
    "Conversion(16)"
   ]
  },
  {
   "cell_type": "markdown",
   "id": "impressive-percentage",
   "metadata": {},
   "source": [
    "### 4. Write a Python Program To Find ASCII value of a character?"
   ]
  },
  {
   "cell_type": "code",
   "execution_count": 71,
   "id": "exposed-specialist",
   "metadata": {},
   "outputs": [
    {
     "name": "stdout",
     "output_type": "stream",
     "text": [
      "Enter a character: 0\n",
      "The ASCII value of 0 is 48\n"
     ]
    }
   ],
   "source": [
    "def ASCII():\n",
    "    char = input(\"Enter a character: \")   \n",
    "    print(\"The ASCII value of \"+ char +\" is\",ord(char))\n",
    "ASCII()"
   ]
  },
  {
   "cell_type": "code",
   "execution_count": 73,
   "id": "useful-jimmy",
   "metadata": {},
   "outputs": [
    {
     "name": "stdout",
     "output_type": "stream",
     "text": [
      "Enter a character: A\n",
      "The ASCII value of A is 65\n"
     ]
    }
   ],
   "source": [
    "ASCII()"
   ]
  },
  {
   "cell_type": "code",
   "execution_count": 74,
   "id": "supported-payday",
   "metadata": {},
   "outputs": [
    {
     "name": "stdout",
     "output_type": "stream",
     "text": [
      "Enter a character: a\n",
      "The ASCII value of a is 97\n"
     ]
    }
   ],
   "source": [
    "ASCII()"
   ]
  },
  {
   "cell_type": "markdown",
   "id": "induced-aluminum",
   "metadata": {},
   "source": [
    "### 5. Write a Python Program to Make a Simple Calculator with 4 basic mathematical operations?"
   ]
  },
  {
   "cell_type": "code",
   "execution_count": 85,
   "id": "uniform-librarian",
   "metadata": {},
   "outputs": [
    {
     "name": "stdout",
     "output_type": "stream",
     "text": [
      "Enter 1st Number10\n",
      "Enter 2nd Number20\n",
      "   Enter 1 for addition\n",
      "    Enter 2 for substraction\n",
      "    Enter 3 for multiplication\n",
      "    Enter 4 for division :1\n",
      " 10.0+20.0 = 30.0:\n"
     ]
    }
   ],
   "source": [
    "def Calculator():\n",
    "    a = float(input(\"Enter 1st Number\"))\n",
    "    b = float(input(\"Enter 2nd Number\"))\n",
    "    k = int(input(\"\"\"   Enter 1 for addition\n",
    "    Enter 2 for substraction\n",
    "    Enter 3 for multiplication\n",
    "    Enter 4 for division :\"\"\"))\n",
    "    \n",
    "    if k == 1:\n",
    "        print(\" {}+{} = {}:\".format(a,b,a+b))\n",
    "    elif k == 2:\n",
    "        print(\" {}-{} = {}:\".format(a,b,a-b))\n",
    "    elif k == 3:\n",
    "        print(\"  {}*{} = {}:\".format(a,b,a*b))\n",
    "    elif k == 4:\n",
    "        print(\" {}/{} = {}:\".format(a,b,a/b))\n",
    "    else:\n",
    "        print(\"invalid operation\")\n",
    "Calculator()\n",
    "    "
   ]
  },
  {
   "cell_type": "code",
   "execution_count": 87,
   "id": "regular-ballet",
   "metadata": {},
   "outputs": [
    {
     "name": "stdout",
     "output_type": "stream",
     "text": [
      "Enter 1st Number10\n",
      "Enter 2nd Number20\n",
      "   Enter 1 for addition\n",
      "    Enter 2 for substraction\n",
      "    Enter 3 for multiplication\n",
      "    Enter 4 for division :2\n",
      " 10.0-20.0 = -10.0:\n"
     ]
    }
   ],
   "source": [
    "Calculator()"
   ]
  },
  {
   "cell_type": "code",
   "execution_count": 88,
   "id": "opposed-reverse",
   "metadata": {},
   "outputs": [
    {
     "name": "stdout",
     "output_type": "stream",
     "text": [
      "Enter 1st Number10\n",
      "Enter 2nd Number20\n",
      "   Enter 1 for addition\n",
      "    Enter 2 for substraction\n",
      "    Enter 3 for multiplication\n",
      "    Enter 4 for division :3\n",
      "  10.0*20.0 = 200.0:\n"
     ]
    }
   ],
   "source": [
    "Calculator()"
   ]
  },
  {
   "cell_type": "code",
   "execution_count": 89,
   "id": "competitive-belly",
   "metadata": {},
   "outputs": [
    {
     "name": "stdout",
     "output_type": "stream",
     "text": [
      "Enter 1st Number10\n",
      "Enter 2nd Number20\n",
      "   Enter 1 for addition\n",
      "    Enter 2 for substraction\n",
      "    Enter 3 for multiplication\n",
      "    Enter 4 for division :4\n",
      " 10.0/20.0 = 0.5:\n"
     ]
    }
   ],
   "source": [
    "Calculator()"
   ]
  },
  {
   "cell_type": "code",
   "execution_count": null,
   "id": "selective-corporation",
   "metadata": {},
   "outputs": [],
   "source": []
  }
 ],
 "metadata": {
  "kernelspec": {
   "display_name": "Python [conda env:.conda-gputest] *",
   "language": "python",
   "name": "conda-env-.conda-gputest-py"
  },
  "language_info": {
   "codemirror_mode": {
    "name": "ipython",
    "version": 3
   },
   "file_extension": ".py",
   "mimetype": "text/x-python",
   "name": "python",
   "nbconvert_exporter": "python",
   "pygments_lexer": "ipython3",
   "version": "3.6.12"
  }
 },
 "nbformat": 4,
 "nbformat_minor": 5
}
