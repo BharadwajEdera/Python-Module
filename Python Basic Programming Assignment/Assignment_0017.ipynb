{
 "cells": [
  {
   "cell_type": "markdown",
   "id": "35954316",
   "metadata": {},
   "source": [
    "### Question1.\n",
    ">Create a function that takes three arguments a, b, c and returns the sum of the numbers that are evenly divided by c from the range a, b inclusive.\n",
    "\n",
    ">Examples\n",
    "\n",
    ">evenly_divisible(1, 10, 20) ➞ 0\n",
    "\n",
    ">No number between 1 and 10 can be evenly divided by 20.\n",
    "\n",
    ">evenly_divisible(1, 10, 2) ➞ 30\n",
    "\n",
    ">2 + 4 + 6 + 8 + 10 = 30\n",
    "\n",
    ">evenly_divisible(1, 10, 3) ➞ 18\n",
    "\n",
    "> 3 + 6 + 9 = 18\n",
    "\n",
    "\n"
   ]
  },
  {
   "cell_type": "code",
   "execution_count": 26,
   "id": "400cf3b5",
   "metadata": {},
   "outputs": [],
   "source": [
    "def evenly_divisible(a,b,c):\n",
    "    i = 0\n",
    "    n = 1\n",
    "    j = c\n",
    "    if c in range(a,b):\n",
    "        while j <= b:\n",
    "            i += n * c\n",
    "            j += c\n",
    "            n += 1\n",
    "    return i    "
   ]
  },
  {
   "cell_type": "code",
   "execution_count": 27,
   "id": "fa359dad",
   "metadata": {},
   "outputs": [
    {
     "data": {
      "text/plain": [
       "0"
      ]
     },
     "execution_count": 27,
     "metadata": {},
     "output_type": "execute_result"
    }
   ],
   "source": [
    "evenly_divisible(1, 10, 20)"
   ]
  },
  {
   "cell_type": "code",
   "execution_count": 28,
   "id": "fe1dcdfe",
   "metadata": {},
   "outputs": [
    {
     "data": {
      "text/plain": [
       "30"
      ]
     },
     "execution_count": 28,
     "metadata": {},
     "output_type": "execute_result"
    }
   ],
   "source": [
    "evenly_divisible(1, 10, 2)"
   ]
  },
  {
   "cell_type": "code",
   "execution_count": 29,
   "id": "92b7bd77",
   "metadata": {},
   "outputs": [
    {
     "data": {
      "text/plain": [
       "18"
      ]
     },
     "execution_count": 29,
     "metadata": {},
     "output_type": "execute_result"
    }
   ],
   "source": [
    "evenly_divisible(1, 10, 3)"
   ]
  },
  {
   "cell_type": "markdown",
   "id": "2a667a49",
   "metadata": {},
   "source": [
    "### Question2. \n",
    ">Create a function that returns True if a given inequality expression is correct and False otherwise.\n",
    "\n",
    ">Examples\n",
    "\n",
    ">correct_signs(\"3 < 7 < 11\") ➞ True\n",
    "\n",
    ">correct_signs(\"13 > 44 > 33 > 1\") ➞ False\n",
    "\n",
    ">correct_signs(\"1 < 2 < 6 < 9 > 3\") ➞ True\n",
    "\n"
   ]
  },
  {
   "cell_type": "code",
   "execution_count": 41,
   "id": "252d317d",
   "metadata": {},
   "outputs": [],
   "source": [
    "def correct_signs(s):\n",
    "    if eval(s):\n",
    "        return True\n",
    "    else:\n",
    "        return False"
   ]
  },
  {
   "cell_type": "code",
   "execution_count": 43,
   "id": "612dd052",
   "metadata": {},
   "outputs": [
    {
     "data": {
      "text/plain": [
       "True"
      ]
     },
     "execution_count": 43,
     "metadata": {},
     "output_type": "execute_result"
    }
   ],
   "source": [
    "correct_signs(\"3 < 7 < 11\")"
   ]
  },
  {
   "cell_type": "code",
   "execution_count": 44,
   "id": "3d741e91",
   "metadata": {},
   "outputs": [
    {
     "data": {
      "text/plain": [
       "False"
      ]
     },
     "execution_count": 44,
     "metadata": {},
     "output_type": "execute_result"
    }
   ],
   "source": [
    "correct_signs(\"13 > 44 > 33 > 1\")"
   ]
  },
  {
   "cell_type": "code",
   "execution_count": 45,
   "id": "e717571c",
   "metadata": {},
   "outputs": [
    {
     "data": {
      "text/plain": [
       "True"
      ]
     },
     "execution_count": 45,
     "metadata": {},
     "output_type": "execute_result"
    }
   ],
   "source": [
    "correct_signs(\"1 < 2 < 6 < 9 > 3\")"
   ]
  },
  {
   "cell_type": "markdown",
   "id": "4ce10e16",
   "metadata": {},
   "source": [
    "### Question3. \n",
    ">Create a function that replaces all the vowels in a string with a specified character.\n",
    "\n",
    ">Examples\n",
    "\n",
    ">replace_vowels(\"the aardvark\", \"#\") ➞ \"th# ##rdv#rk\"\n",
    "\n",
    ">replace_vowels(\"minnie mouse\", \"?\") ➞ \"m?nn?? m??s?\"\n",
    "\n",
    ">replace_vowels(\"shakespeare\", \"*\") ➞ \"sh*k*sp**r*\"\n",
    "\n"
   ]
  },
  {
   "cell_type": "code",
   "execution_count": 53,
   "id": "b96cd5ad",
   "metadata": {},
   "outputs": [],
   "source": [
    "def replace_vowels(s,symbol):\n",
    "    vowels = 'AEIOUaeiou'\n",
    "    for i in vowels:\n",
    "        s = s.replace(i,symbol)\n",
    "    return s"
   ]
  },
  {
   "cell_type": "code",
   "execution_count": 54,
   "id": "24117803",
   "metadata": {},
   "outputs": [
    {
     "data": {
      "text/plain": [
       "'th# ##rdv#rk'"
      ]
     },
     "execution_count": 54,
     "metadata": {},
     "output_type": "execute_result"
    }
   ],
   "source": [
    "replace_vowels(\"the aardvark\", \"#\")"
   ]
  },
  {
   "cell_type": "code",
   "execution_count": 55,
   "id": "d1124a9d",
   "metadata": {},
   "outputs": [
    {
     "data": {
      "text/plain": [
       "'m?nn?? m??s?'"
      ]
     },
     "execution_count": 55,
     "metadata": {},
     "output_type": "execute_result"
    }
   ],
   "source": [
    "replace_vowels(\"minnie mouse\", \"?\")"
   ]
  },
  {
   "cell_type": "code",
   "execution_count": 56,
   "id": "3f168b65",
   "metadata": {},
   "outputs": [
    {
     "data": {
      "text/plain": [
       "'sh*k*sp**r*'"
      ]
     },
     "execution_count": 56,
     "metadata": {},
     "output_type": "execute_result"
    }
   ],
   "source": [
    "replace_vowels(\"shakespeare\", \"*\") "
   ]
  },
  {
   "cell_type": "markdown",
   "id": "095cc80d",
   "metadata": {},
   "source": [
    "### Question4. \n",
    ">Write a function that calculates the factorial of a number recursively.\n",
    "\n",
    ">Examples\n",
    "\n",
    ">factorial(5) ➞ 120\n",
    "\n",
    ">factorial(3) ➞ 6\n",
    "\n",
    ">factorial(1) ➞ 1\n",
    "\n",
    ">factorial(0) ➞ 1\n",
    "\n",
    "\n",
    "\n"
   ]
  },
  {
   "cell_type": "code",
   "execution_count": 60,
   "id": "b71900a2",
   "metadata": {},
   "outputs": [],
   "source": [
    "def factorial(n):\n",
    "    assert n==int(n) and n>=0 ,\"Enter a positive integer\"\n",
    "    if n in (0,1):\n",
    "        return 1\n",
    "    else:\n",
    "        return n * factorial(n-1)"
   ]
  },
  {
   "cell_type": "code",
   "execution_count": 61,
   "id": "cde1f4d5",
   "metadata": {},
   "outputs": [
    {
     "data": {
      "text/plain": [
       "120"
      ]
     },
     "execution_count": 61,
     "metadata": {},
     "output_type": "execute_result"
    }
   ],
   "source": [
    "factorial(5)"
   ]
  },
  {
   "cell_type": "code",
   "execution_count": 62,
   "id": "659cee5f",
   "metadata": {},
   "outputs": [
    {
     "data": {
      "text/plain": [
       "6"
      ]
     },
     "execution_count": 62,
     "metadata": {},
     "output_type": "execute_result"
    }
   ],
   "source": [
    "factorial(3)"
   ]
  },
  {
   "cell_type": "code",
   "execution_count": 63,
   "id": "5767d76b",
   "metadata": {},
   "outputs": [
    {
     "data": {
      "text/plain": [
       "1"
      ]
     },
     "execution_count": 63,
     "metadata": {},
     "output_type": "execute_result"
    }
   ],
   "source": [
    "factorial(1)"
   ]
  },
  {
   "cell_type": "code",
   "execution_count": 64,
   "id": "222d6039",
   "metadata": {},
   "outputs": [
    {
     "data": {
      "text/plain": [
       "1"
      ]
     },
     "execution_count": 64,
     "metadata": {},
     "output_type": "execute_result"
    }
   ],
   "source": [
    "factorial(0) "
   ]
  },
  {
   "cell_type": "markdown",
   "id": "08d0cf82",
   "metadata": {},
   "source": [
    "### Question 5\n",
    "\n",
    ">Hamming distance is the number of characters that differ between two strings.\n",
    "\n",
    ">To illustrate:\n",
    "\n",
    ">String1: \"abcbba\"\n",
    "\n",
    ">String2: \"abcbda\"\n",
    "\n",
    ">Hamming Distance: 1 - \"b\" vs. \"d\" is the only difference.\n",
    "\n",
    ">Create a function that computes the hamming distance between two strings.\n",
    "\n",
    ">Examples\n",
    "\n",
    ">hamming_distance(\"abcde\", \"bcdef\") ➞ 5\n",
    "\n",
    ">hamming_distance(\"abcde\", \"abcde\") ➞ 0\n",
    "\n",
    ">hamming_distance(\"strong\", \"strung\") ➞ 6\n"
   ]
  },
  {
   "cell_type": "code",
   "execution_count": 73,
   "id": "49555a6e",
   "metadata": {},
   "outputs": [],
   "source": [
    "def hamming_distance(s1,s2):\n",
    "    k = 0\n",
    "    if len(s1) == len(s2):\n",
    "        for i in range(len(s1)):\n",
    "            k += abs(ord(s1[i])-ord(s2[i]))\n",
    "        return k\n",
    "    else:\n",
    "        return \"Length of {} and {} are not equal\".format(s1,s2)\n",
    "            "
   ]
  },
  {
   "cell_type": "code",
   "execution_count": 74,
   "id": "314f41f1",
   "metadata": {},
   "outputs": [
    {
     "data": {
      "text/plain": [
       "5"
      ]
     },
     "execution_count": 74,
     "metadata": {},
     "output_type": "execute_result"
    }
   ],
   "source": [
    "hamming_distance(\"abcde\", \"bcdef\")"
   ]
  },
  {
   "cell_type": "code",
   "execution_count": 75,
   "id": "cee85344",
   "metadata": {},
   "outputs": [
    {
     "data": {
      "text/plain": [
       "0"
      ]
     },
     "execution_count": 75,
     "metadata": {},
     "output_type": "execute_result"
    }
   ],
   "source": [
    "hamming_distance(\"abcde\", \"abcde\")"
   ]
  },
  {
   "cell_type": "code",
   "execution_count": 76,
   "id": "99826be5",
   "metadata": {},
   "outputs": [
    {
     "data": {
      "text/plain": [
       "6"
      ]
     },
     "execution_count": 76,
     "metadata": {},
     "output_type": "execute_result"
    }
   ],
   "source": [
    "hamming_distance(\"strong\", \"strung\") "
   ]
  }
 ],
 "metadata": {
  "kernelspec": {
   "display_name": "Python [conda env:.conda-gputest] *",
   "language": "python",
   "name": "conda-env-.conda-gputest-py"
  },
  "language_info": {
   "codemirror_mode": {
    "name": "ipython",
    "version": 3
   },
   "file_extension": ".py",
   "mimetype": "text/x-python",
   "name": "python",
   "nbconvert_exporter": "python",
   "pygments_lexer": "ipython3",
   "version": "3.6.12"
  }
 },
 "nbformat": 4,
 "nbformat_minor": 5
}
