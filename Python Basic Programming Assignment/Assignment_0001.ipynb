{
 "cells": [
  {
   "cell_type": "markdown",
   "id": "international-liverpool",
   "metadata": {},
   "source": [
    "### 1. Write a Python program to print \"Hello Python\"?"
   ]
  },
  {
   "cell_type": "code",
   "execution_count": 1,
   "id": "lesser-marble",
   "metadata": {},
   "outputs": [
    {
     "name": "stdout",
     "output_type": "stream",
     "text": [
      "Hello Python\n"
     ]
    }
   ],
   "source": [
    "print(\"Hello Python\")"
   ]
  },
  {
   "cell_type": "markdown",
   "id": "valid-performance",
   "metadata": {},
   "source": [
    "### 2. Write a Python program to do arithmetical operations addition and division.?"
   ]
  },
  {
   "cell_type": "code",
   "execution_count": 11,
   "id": "crude-clinton",
   "metadata": {},
   "outputs": [
    {
     "name": "stdout",
     "output_type": "stream",
     "text": [
      "How many Numbers to add2\n",
      "Enter a number : 12.5\n",
      "Enter a number : 12.5\n"
     ]
    },
    {
     "data": {
      "text/plain": [
       "25.0"
      ]
     },
     "execution_count": 11,
     "metadata": {},
     "output_type": "execute_result"
    }
   ],
   "source": [
    "def add():\n",
    "    n = int(input(\"How many Numbers to add\"))\n",
    "    l = []\n",
    "    for i in range(n):\n",
    "        l.append(float(input(\"Enter a number : \")))\n",
    "    s = 0\n",
    "    for i in range(len(l)):\n",
    "        s += l[i]\n",
    "    return s\n",
    "add()"
   ]
  },
  {
   "cell_type": "code",
   "execution_count": 12,
   "id": "mental-nelson",
   "metadata": {},
   "outputs": [
    {
     "name": "stdout",
     "output_type": "stream",
     "text": [
      "Enter Numerator : 10.5\n",
      "Enter Denominator : 2.5\n"
     ]
    },
    {
     "data": {
      "text/plain": [
       "4.2"
      ]
     },
     "execution_count": 12,
     "metadata": {},
     "output_type": "execute_result"
    }
   ],
   "source": [
    "def division():\n",
    "    n = float(input(\"Enter Numerator : \"))\n",
    "    d = float(input(\"Enter Denominator : \"))\n",
    "    return n/d\n",
    "division()       \n",
    "    "
   ]
  },
  {
   "cell_type": "markdown",
   "id": "sunset-index",
   "metadata": {},
   "source": [
    "### 3. Write a Python program to find the area of a triangle?"
   ]
  },
  {
   "cell_type": "code",
   "execution_count": 14,
   "id": "decent-family",
   "metadata": {},
   "outputs": [
    {
     "name": "stdout",
     "output_type": "stream",
     "text": [
      "Enter Base : 5\n",
      "Enter Height : 5\n"
     ]
    },
    {
     "data": {
      "text/plain": [
       "12.5"
      ]
     },
     "execution_count": 14,
     "metadata": {},
     "output_type": "execute_result"
    }
   ],
   "source": [
    "def Area_Triangle():\n",
    "    b = float(input(\"Enter Base : \"))\n",
    "    h = float(input(\"Enter Height : \"))\n",
    "    return 0.5 * b * h\n",
    "Area_Triangle()    "
   ]
  },
  {
   "cell_type": "markdown",
   "id": "surprising-staff",
   "metadata": {},
   "source": [
    "### 4. Write a Python program to swap two variables?"
   ]
  },
  {
   "cell_type": "code",
   "execution_count": 16,
   "id": "loose-boston",
   "metadata": {},
   "outputs": [
    {
     "name": "stdout",
     "output_type": "stream",
     "text": [
      "Enter number a = 40\n",
      "Enter number b = 100\n",
      " \n",
      " Before Swap a = 40.0  b = 100.0 \n",
      " \n",
      " After Swap a = 100.0  b = 40.0 \n"
     ]
    }
   ],
   "source": [
    "def swap():\n",
    "    a = float(input(\"Enter number a = \"))\n",
    "    b = float(input(\"Enter number b = \"))\n",
    "    print(\" \")\n",
    "    print(\" Before Swap a = {}  b = {} \".format(a,b))\n",
    "    temp = a\n",
    "    a = b\n",
    "    b = temp\n",
    "    print(\" \")\n",
    "    print(\" After Swap a = {}  b = {} \".format(a,b))\n",
    "swap()\n",
    "    "
   ]
  },
  {
   "cell_type": "markdown",
   "id": "coral-insight",
   "metadata": {},
   "source": [
    "### 5. Write a Python program to generate a random number?"
   ]
  },
  {
   "cell_type": "code",
   "execution_count": 23,
   "id": "inclusive-facial",
   "metadata": {},
   "outputs": [
    {
     "name": "stdout",
     "output_type": "stream",
     "text": [
      "Enter number of RandomNumbers Required : 5\n",
      "Enter Lower Bound : 10\n",
      "Enter Upper Bound : 100\n",
      "54\n",
      "55\n",
      "27\n",
      "21\n",
      "71\n"
     ]
    }
   ],
   "source": [
    "import random\n",
    "def randomNumbers():\n",
    "    n = int(input(\"Enter number of RandomNumbers Required : \"))\n",
    "    a = int(input(\"Enter Lower Bound : \"))\n",
    "    b = int(input(\"Enter Upper Bound : \"))\n",
    "    for i in range(n):\n",
    "        print(random.randint(a,b))\n",
    "randomNumbers()"
   ]
  },
  {
   "cell_type": "code",
   "execution_count": null,
   "id": "comic-cincinnati",
   "metadata": {},
   "outputs": [],
   "source": []
  },
  {
   "cell_type": "code",
   "execution_count": null,
   "id": "antique-macro",
   "metadata": {},
   "outputs": [],
   "source": []
  },
  {
   "cell_type": "code",
   "execution_count": null,
   "id": "shaped-minnesota",
   "metadata": {},
   "outputs": [],
   "source": []
  },
  {
   "cell_type": "code",
   "execution_count": null,
   "id": "alternate-jewelry",
   "metadata": {},
   "outputs": [],
   "source": []
  },
  {
   "cell_type": "code",
   "execution_count": null,
   "id": "close-breeding",
   "metadata": {},
   "outputs": [],
   "source": []
  },
  {
   "cell_type": "code",
   "execution_count": null,
   "id": "attractive-opposition",
   "metadata": {},
   "outputs": [],
   "source": []
  },
  {
   "cell_type": "code",
   "execution_count": null,
   "id": "massive-division",
   "metadata": {},
   "outputs": [],
   "source": []
  },
  {
   "cell_type": "code",
   "execution_count": null,
   "id": "incomplete-organization",
   "metadata": {},
   "outputs": [],
   "source": []
  }
 ],
 "metadata": {
  "kernelspec": {
   "display_name": "Python [conda env:.conda-gputest] *",
   "language": "python",
   "name": "conda-env-.conda-gputest-py"
  },
  "language_info": {
   "codemirror_mode": {
    "name": "ipython",
    "version": 3
   },
   "file_extension": ".py",
   "mimetype": "text/x-python",
   "name": "python",
   "nbconvert_exporter": "python",
   "pygments_lexer": "ipython3",
   "version": "3.6.12"
  }
 },
 "nbformat": 4,
 "nbformat_minor": 5
}
