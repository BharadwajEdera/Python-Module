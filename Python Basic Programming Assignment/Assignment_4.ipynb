{
 "cells": [
  {
   "cell_type": "markdown",
   "id": "focal-memphis",
   "metadata": {},
   "source": [
    "### 1. Write a Python Program to Find the Factorial of a Number?"
   ]
  },
  {
   "cell_type": "code",
   "execution_count": 12,
   "id": "julian-hygiene",
   "metadata": {},
   "outputs": [
    {
     "data": {
      "text/plain": [
       "120"
      ]
     },
     "execution_count": 12,
     "metadata": {},
     "output_type": "execute_result"
    }
   ],
   "source": [
    "def factorial(n):\n",
    "    assert n>=0 and int(n) == n , \"Warning : Number Should be Positive Integer only !!!\"\n",
    "    if n == 0:\n",
    "        return 1\n",
    "    else:\n",
    "        return n*factorial(n-1)\n",
    "factorial(5)"
   ]
  },
  {
   "cell_type": "code",
   "execution_count": 87,
   "id": "framed-kennedy",
   "metadata": {},
   "outputs": [
    {
     "data": {
      "text/plain": [
       "720"
      ]
     },
     "execution_count": 87,
     "metadata": {},
     "output_type": "execute_result"
    }
   ],
   "source": [
    "factorial(6)"
   ]
  },
  {
   "cell_type": "code",
   "execution_count": 5,
   "id": "prerequisite-input",
   "metadata": {},
   "outputs": [
    {
     "ename": "AssertionError",
     "evalue": "Warning : Number Should be Positive Integer only !!!",
     "output_type": "error",
     "traceback": [
      "\u001b[1;31m---------------------------------------------------------------------------\u001b[0m",
      "\u001b[1;31mAssertionError\u001b[0m                            Traceback (most recent call last)",
      "\u001b[1;32m<ipython-input-5-76683e6cb948>\u001b[0m in \u001b[0;36m<module>\u001b[1;34m\u001b[0m\n\u001b[1;32m----> 1\u001b[1;33m \u001b[0mfactorial\u001b[0m\u001b[1;33m(\u001b[0m\u001b[1;36m1.5\u001b[0m\u001b[1;33m)\u001b[0m\u001b[1;33m\u001b[0m\u001b[1;33m\u001b[0m\u001b[0m\n\u001b[0m",
      "\u001b[1;32m<ipython-input-4-225c1831908c>\u001b[0m in \u001b[0;36mfactorial\u001b[1;34m(n)\u001b[0m\n\u001b[0;32m      1\u001b[0m \u001b[1;32mdef\u001b[0m \u001b[0mfactorial\u001b[0m\u001b[1;33m(\u001b[0m\u001b[0mn\u001b[0m\u001b[1;33m)\u001b[0m\u001b[1;33m:\u001b[0m\u001b[1;33m\u001b[0m\u001b[1;33m\u001b[0m\u001b[0m\n\u001b[1;32m----> 2\u001b[1;33m     \u001b[1;32massert\u001b[0m \u001b[0mn\u001b[0m\u001b[1;33m>=\u001b[0m\u001b[1;36m0\u001b[0m \u001b[1;32mand\u001b[0m \u001b[0mint\u001b[0m\u001b[1;33m(\u001b[0m\u001b[0mn\u001b[0m\u001b[1;33m)\u001b[0m \u001b[1;33m==\u001b[0m \u001b[0mn\u001b[0m \u001b[1;33m,\u001b[0m \u001b[1;34m\"Warning : Number Should be Positive Integer only !!!\"\u001b[0m\u001b[1;33m\u001b[0m\u001b[1;33m\u001b[0m\u001b[0m\n\u001b[0m\u001b[0;32m      3\u001b[0m     \u001b[1;32mif\u001b[0m \u001b[0mn\u001b[0m \u001b[1;33m==\u001b[0m \u001b[1;36m0\u001b[0m\u001b[1;33m:\u001b[0m\u001b[1;33m\u001b[0m\u001b[1;33m\u001b[0m\u001b[0m\n\u001b[0;32m      4\u001b[0m         \u001b[1;32mreturn\u001b[0m \u001b[1;36m1\u001b[0m\u001b[1;33m\u001b[0m\u001b[1;33m\u001b[0m\u001b[0m\n\u001b[0;32m      5\u001b[0m     \u001b[1;32melse\u001b[0m\u001b[1;33m:\u001b[0m\u001b[1;33m\u001b[0m\u001b[1;33m\u001b[0m\u001b[0m\n",
      "\u001b[1;31mAssertionError\u001b[0m: Warning : Number Should be Positive Integer only !!!"
     ]
    }
   ],
   "source": [
    "# Checking for float values\n",
    "factorial(1.5)"
   ]
  },
  {
   "cell_type": "code",
   "execution_count": 6,
   "id": "independent-dinner",
   "metadata": {},
   "outputs": [
    {
     "ename": "AssertionError",
     "evalue": "Warning : Number Should be Positive Integer only !!!",
     "output_type": "error",
     "traceback": [
      "\u001b[1;31m---------------------------------------------------------------------------\u001b[0m",
      "\u001b[1;31mAssertionError\u001b[0m                            Traceback (most recent call last)",
      "\u001b[1;32m<ipython-input-6-f54498a639df>\u001b[0m in \u001b[0;36m<module>\u001b[1;34m\u001b[0m\n\u001b[0;32m      1\u001b[0m \u001b[1;31m# Checking for Negitive Numbers\u001b[0m\u001b[1;33m\u001b[0m\u001b[1;33m\u001b[0m\u001b[1;33m\u001b[0m\u001b[0m\n\u001b[1;32m----> 2\u001b[1;33m \u001b[0mfactorial\u001b[0m\u001b[1;33m(\u001b[0m\u001b[1;33m-\u001b[0m\u001b[1;36m2\u001b[0m\u001b[1;33m)\u001b[0m\u001b[1;33m\u001b[0m\u001b[1;33m\u001b[0m\u001b[0m\n\u001b[0m",
      "\u001b[1;32m<ipython-input-4-225c1831908c>\u001b[0m in \u001b[0;36mfactorial\u001b[1;34m(n)\u001b[0m\n\u001b[0;32m      1\u001b[0m \u001b[1;32mdef\u001b[0m \u001b[0mfactorial\u001b[0m\u001b[1;33m(\u001b[0m\u001b[0mn\u001b[0m\u001b[1;33m)\u001b[0m\u001b[1;33m:\u001b[0m\u001b[1;33m\u001b[0m\u001b[1;33m\u001b[0m\u001b[0m\n\u001b[1;32m----> 2\u001b[1;33m     \u001b[1;32massert\u001b[0m \u001b[0mn\u001b[0m\u001b[1;33m>=\u001b[0m\u001b[1;36m0\u001b[0m \u001b[1;32mand\u001b[0m \u001b[0mint\u001b[0m\u001b[1;33m(\u001b[0m\u001b[0mn\u001b[0m\u001b[1;33m)\u001b[0m \u001b[1;33m==\u001b[0m \u001b[0mn\u001b[0m \u001b[1;33m,\u001b[0m \u001b[1;34m\"Warning : Number Should be Positive Integer only !!!\"\u001b[0m\u001b[1;33m\u001b[0m\u001b[1;33m\u001b[0m\u001b[0m\n\u001b[0m\u001b[0;32m      3\u001b[0m     \u001b[1;32mif\u001b[0m \u001b[0mn\u001b[0m \u001b[1;33m==\u001b[0m \u001b[1;36m0\u001b[0m\u001b[1;33m:\u001b[0m\u001b[1;33m\u001b[0m\u001b[1;33m\u001b[0m\u001b[0m\n\u001b[0;32m      4\u001b[0m         \u001b[1;32mreturn\u001b[0m \u001b[1;36m1\u001b[0m\u001b[1;33m\u001b[0m\u001b[1;33m\u001b[0m\u001b[0m\n\u001b[0;32m      5\u001b[0m     \u001b[1;32melse\u001b[0m\u001b[1;33m:\u001b[0m\u001b[1;33m\u001b[0m\u001b[1;33m\u001b[0m\u001b[0m\n",
      "\u001b[1;31mAssertionError\u001b[0m: Warning : Number Should be Positive Integer only !!!"
     ]
    }
   ],
   "source": [
    "# Checking for Negitive Numbers\n",
    "factorial(-2)"
   ]
  },
  {
   "cell_type": "markdown",
   "id": "prescription-style",
   "metadata": {},
   "source": [
    "### 2. Write a Python Program to Display the multiplication Table?"
   ]
  },
  {
   "cell_type": "code",
   "execution_count": 13,
   "id": "packed-brazilian",
   "metadata": {},
   "outputs": [
    {
     "name": "stdout",
     "output_type": "stream",
     "text": [
      "Enter a number2\n",
      " 2 * 0 = 0 \n",
      " 2 * 1 = 2 \n",
      " 2 * 2 = 4 \n",
      " 2 * 3 = 6 \n",
      " 2 * 4 = 8 \n",
      " 2 * 5 = 10 \n",
      " 2 * 6 = 12 \n",
      " 2 * 7 = 14 \n",
      " 2 * 8 = 16 \n",
      " 2 * 9 = 18 \n",
      " 2 * 10 = 20 \n"
     ]
    }
   ],
   "source": [
    "def MultiplicationTable():\n",
    "    n = int(input(\"Enter a number\"))\n",
    "    for i in range(11):\n",
    "        print(\" {} * {} = {} \".format(n,i,n*i))\n",
    "MultiplicationTable()"
   ]
  },
  {
   "cell_type": "markdown",
   "id": "heated-round",
   "metadata": {},
   "source": [
    "### 3. Write a Python Program to Print the Fibonacci sequence?"
   ]
  },
  {
   "cell_type": "code",
   "execution_count": 48,
   "id": "generous-trail",
   "metadata": {},
   "outputs": [
    {
     "name": "stdout",
     "output_type": "stream",
     "text": [
      "0\n",
      "1\n",
      "1\n",
      "2\n",
      "3\n",
      "5\n",
      "8\n",
      "13\n",
      "21\n",
      "34\n"
     ]
    }
   ],
   "source": [
    "def fibonacci(n):\n",
    "    assert n>=0 and int(n) == n , \"Warning : Number Should be Positive Integer only !!!\"\n",
    "    if n in (0,1):\n",
    "        return n\n",
    "    else:\n",
    "        return fibonacci(n-1) + fibonacci(n-2) \n",
    "\n",
    "def fibonacci_Seq(n_terms):\n",
    "    for i in range(n_terms):\n",
    "        print(fibonacci(i))\n",
    "        \n",
    "fibonacci_Seq(10)        "
   ]
  },
  {
   "cell_type": "markdown",
   "id": "engaged-radar",
   "metadata": {},
   "source": [
    "### 4. Write a Python Program to Check Armstrong Number?"
   ]
  },
  {
   "cell_type": "code",
   "execution_count": 69,
   "id": "strategic-interview",
   "metadata": {},
   "outputs": [
    {
     "name": "stdout",
     "output_type": "stream",
     "text": [
      "153 is an Armstrong Number\n"
     ]
    }
   ],
   "source": [
    "def ArmstrongNumber(n):\n",
    "    t = n\n",
    "    sum = 0\n",
    "    for i in range(len(str(n))):\n",
    "        a = int(t%10)\n",
    "        sum += a**3\n",
    "        t //=10\n",
    "        \n",
    "    if n == sum:\n",
    "        print(\"{} is an Armstrong Number\".format(n))\n",
    "    else:\n",
    "        print(\"{} is NOT an Armstrong Number\".format(n))\n",
    "ArmstrongNumber(153)    "
   ]
  },
  {
   "cell_type": "code",
   "execution_count": 72,
   "id": "structural-midnight",
   "metadata": {},
   "outputs": [
    {
     "name": "stdout",
     "output_type": "stream",
     "text": [
      "173 is NOT an Armstrong Number\n"
     ]
    }
   ],
   "source": [
    "ArmstrongNumber(173) "
   ]
  },
  {
   "cell_type": "markdown",
   "id": "blank-toner",
   "metadata": {},
   "source": [
    "### 5. Write a Python Program to Find Armstrong Number in an Interval?"
   ]
  },
  {
   "cell_type": "code",
   "execution_count": 80,
   "id": "superb-dispatch",
   "metadata": {},
   "outputs": [
    {
     "name": "stdout",
     "output_type": "stream",
     "text": [
      "1 is an Armstrong Number\n",
      "153 is an Armstrong Number\n"
     ]
    }
   ],
   "source": [
    "def ArmstrongNumber(l,u):\n",
    "    for j in range(l,u+1):\n",
    "        t = j\n",
    "        sum = 0\n",
    "        for i in range(len(str(j))):\n",
    "            a = int(t%10)\n",
    "            sum += a**3\n",
    "            t //=10\n",
    "        \n",
    "        if j == sum:\n",
    "            print(\"{} is an Armstrong Number\".format(j))\n",
    "        else:\n",
    "            continue\n",
    "ArmstrongNumber(1,200)"
   ]
  },
  {
   "cell_type": "markdown",
   "id": "irish-republic",
   "metadata": {},
   "source": [
    "### 6. Write a Python Program to Find the Sum of Natural Numbers?"
   ]
  },
  {
   "cell_type": "code",
   "execution_count": 83,
   "id": "geological-billy",
   "metadata": {},
   "outputs": [
    {
     "data": {
      "text/plain": [
       "15"
      ]
     },
     "execution_count": 83,
     "metadata": {},
     "output_type": "execute_result"
    }
   ],
   "source": [
    "def Sum_Of_Natural_Numbers(n):\n",
    "    if n in (0,1):\n",
    "        return n\n",
    "    else:\n",
    "        return n + Sum_Of_Natural_Numbers(n-1)\n",
    "Sum_Of_Natural_Numbers(5)"
   ]
  },
  {
   "cell_type": "code",
   "execution_count": 84,
   "id": "sunrise-sunday",
   "metadata": {},
   "outputs": [
    {
     "data": {
      "text/plain": [
       "55"
      ]
     },
     "execution_count": 84,
     "metadata": {},
     "output_type": "execute_result"
    }
   ],
   "source": [
    "Sum_Of_Natural_Numbers(10)"
   ]
  },
  {
   "cell_type": "markdown",
   "id": "altered-chocolate",
   "metadata": {},
   "source": [
    "### or"
   ]
  },
  {
   "cell_type": "code",
   "execution_count": 85,
   "id": "surprising-ministry",
   "metadata": {},
   "outputs": [
    {
     "data": {
      "text/plain": [
       "15.0"
      ]
     },
     "execution_count": 85,
     "metadata": {},
     "output_type": "execute_result"
    }
   ],
   "source": [
    "def Sum_Of_Natural_Numbers(n):\n",
    "        return (n * (n+1))/2\n",
    "Sum_Of_Natural_Numbers(5)"
   ]
  },
  {
   "cell_type": "code",
   "execution_count": 86,
   "id": "utility-bidder",
   "metadata": {},
   "outputs": [
    {
     "data": {
      "text/plain": [
       "55.0"
      ]
     },
     "execution_count": 86,
     "metadata": {},
     "output_type": "execute_result"
    }
   ],
   "source": [
    "Sum_Of_Natural_Numbers(10)"
   ]
  },
  {
   "cell_type": "code",
   "execution_count": null,
   "id": "analyzed-palmer",
   "metadata": {},
   "outputs": [],
   "source": []
  }
 ],
 "metadata": {
  "kernelspec": {
   "display_name": "Python [conda env:.conda-gputest] *",
   "language": "python",
   "name": "conda-env-.conda-gputest-py"
  },
  "language_info": {
   "codemirror_mode": {
    "name": "ipython",
    "version": 3
   },
   "file_extension": ".py",
   "mimetype": "text/x-python",
   "name": "python",
   "nbconvert_exporter": "python",
   "pygments_lexer": "ipython3",
   "version": "3.6.12"
  }
 },
 "nbformat": 4,
 "nbformat_minor": 5
}
