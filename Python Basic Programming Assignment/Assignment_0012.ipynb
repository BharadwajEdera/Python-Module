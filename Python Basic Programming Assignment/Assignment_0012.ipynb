{
 "cells": [
  {
   "cell_type": "markdown",
   "id": "latest-happening",
   "metadata": {},
   "source": [
    "### 1. Write a Python program to Extract Unique values dictionary values?\n",
    "\n",
    "\n",
    "\n",
    "\n",
    "\n"
   ]
  },
  {
   "cell_type": "code",
   "execution_count": 1,
   "id": "extraordinary-preliminary",
   "metadata": {},
   "outputs": [],
   "source": [
    "class unique_values_dictionary:\n",
    "    def __init__(self,d):\n",
    "        self.d = d\n",
    "    def unique_dict(self):\n",
    "        if type(self.d) == dict:\n",
    "            return set(self.d.values()) \n",
    "        else:\n",
    "            self.log(f\"The given data:{self.d} is a {type(self.d)} ,But not a Dictionary\")\n",
    "            raise Exception(f\"The given data:{self.d} is a {type(self.d)} ,But not a Dictionary\")\n",
    "            \n",
    "    def log(self,e):\n",
    "        self.e = e\n",
    "        import logging as lg\n",
    "        lg.basicConfig(filename = \"0012_Assignment_12.log\" , level = lg.DEBUG , format = '%(asctime)s %(name)s %(levelname)s %(message)s')\n",
    "        Ques1 = lg.getLogger(\"Ques1\")\n",
    "        Ques1.warning(self.e)\n",
    "    def __str__(self):\n",
    "        return \"unique_values_dictionary is used to get unquie Values in the Dictionary\""
   ]
  },
  {
   "cell_type": "code",
   "execution_count": 2,
   "id": "eleven-majority",
   "metadata": {},
   "outputs": [
    {
     "data": {
      "text/plain": [
       "dict_values([1, 2, 3, 3, 4, 1, 2, 3, 4, 5])"
      ]
     },
     "execution_count": 2,
     "metadata": {},
     "output_type": "execute_result"
    }
   ],
   "source": [
    "d = {\"a\":1,\"b\":2,\"c\":3,\"d\":3,\"e\":4,\"f\":1,\"g\":2,\"h\":3,\"i\":4,\"j\":5}\n",
    "d.values()"
   ]
  },
  {
   "cell_type": "code",
   "execution_count": 3,
   "id": "settled-patch",
   "metadata": {},
   "outputs": [
    {
     "name": "stdout",
     "output_type": "stream",
     "text": [
      "unique_values_dictionary is used to get unquie Values in the Dictionary\n"
     ]
    }
   ],
   "source": [
    "u = unique_values_dictionary(d)\n",
    "print(u)"
   ]
  },
  {
   "cell_type": "code",
   "execution_count": 4,
   "id": "documented-decision",
   "metadata": {},
   "outputs": [
    {
     "data": {
      "text/plain": [
       "{1, 2, 3, 4, 5}"
      ]
     },
     "execution_count": 4,
     "metadata": {},
     "output_type": "execute_result"
    }
   ],
   "source": [
    "u.unique_dict()"
   ]
  },
  {
   "cell_type": "code",
   "execution_count": 5,
   "id": "proprietary-developer",
   "metadata": {},
   "outputs": [
    {
     "ename": "Exception",
     "evalue": "The given data:[1, 2, 3, 4] is a <class 'list'> ,But not a Dictionary",
     "output_type": "error",
     "traceback": [
      "\u001b[1;31m---------------------------------------------------------------------------\u001b[0m",
      "\u001b[1;31mException\u001b[0m                                 Traceback (most recent call last)",
      "\u001b[1;32m<ipython-input-5-f9c4064afc75>\u001b[0m in \u001b[0;36m<module>\u001b[1;34m\u001b[0m\n\u001b[0;32m      1\u001b[0m \u001b[0ml\u001b[0m \u001b[1;33m=\u001b[0m \u001b[1;33m[\u001b[0m\u001b[1;36m1\u001b[0m\u001b[1;33m,\u001b[0m\u001b[1;36m2\u001b[0m\u001b[1;33m,\u001b[0m\u001b[1;36m3\u001b[0m\u001b[1;33m,\u001b[0m\u001b[1;36m4\u001b[0m\u001b[1;33m]\u001b[0m\u001b[1;33m\u001b[0m\u001b[1;33m\u001b[0m\u001b[0m\n\u001b[0;32m      2\u001b[0m \u001b[0mu\u001b[0m \u001b[1;33m=\u001b[0m \u001b[0munique_values_dictionary\u001b[0m\u001b[1;33m(\u001b[0m\u001b[0ml\u001b[0m\u001b[1;33m)\u001b[0m\u001b[1;33m\u001b[0m\u001b[1;33m\u001b[0m\u001b[0m\n\u001b[1;32m----> 3\u001b[1;33m \u001b[0mu\u001b[0m\u001b[1;33m.\u001b[0m\u001b[0munique_dict\u001b[0m\u001b[1;33m(\u001b[0m\u001b[1;33m)\u001b[0m\u001b[1;33m\u001b[0m\u001b[1;33m\u001b[0m\u001b[0m\n\u001b[0m",
      "\u001b[1;32m<ipython-input-1-2ccec64a9a2c>\u001b[0m in \u001b[0;36munique_dict\u001b[1;34m(self)\u001b[0m\n\u001b[0;32m      7\u001b[0m         \u001b[1;32melse\u001b[0m\u001b[1;33m:\u001b[0m\u001b[1;33m\u001b[0m\u001b[1;33m\u001b[0m\u001b[0m\n\u001b[0;32m      8\u001b[0m             \u001b[0mself\u001b[0m\u001b[1;33m.\u001b[0m\u001b[0mlog\u001b[0m\u001b[1;33m(\u001b[0m\u001b[1;34mf\"The given data:{self.d} is a {type(self.d)} ,But not a Dictionary\"\u001b[0m\u001b[1;33m)\u001b[0m\u001b[1;33m\u001b[0m\u001b[1;33m\u001b[0m\u001b[0m\n\u001b[1;32m----> 9\u001b[1;33m             \u001b[1;32mraise\u001b[0m \u001b[0mException\u001b[0m\u001b[1;33m(\u001b[0m\u001b[1;34mf\"The given data:{self.d} is a {type(self.d)} ,But not a Dictionary\"\u001b[0m\u001b[1;33m)\u001b[0m\u001b[1;33m\u001b[0m\u001b[1;33m\u001b[0m\u001b[0m\n\u001b[0m\u001b[0;32m     10\u001b[0m \u001b[1;33m\u001b[0m\u001b[0m\n\u001b[0;32m     11\u001b[0m     \u001b[1;32mdef\u001b[0m \u001b[0mlog\u001b[0m\u001b[1;33m(\u001b[0m\u001b[0mself\u001b[0m\u001b[1;33m,\u001b[0m\u001b[0me\u001b[0m\u001b[1;33m)\u001b[0m\u001b[1;33m:\u001b[0m\u001b[1;33m\u001b[0m\u001b[1;33m\u001b[0m\u001b[0m\n",
      "\u001b[1;31mException\u001b[0m: The given data:[1, 2, 3, 4] is a <class 'list'> ,But not a Dictionary"
     ]
    }
   ],
   "source": [
    "l = [1,2,3,4]\n",
    "u = unique_values_dictionary(l)\n",
    "u.unique_dict()"
   ]
  },
  {
   "cell_type": "code",
   "execution_count": 6,
   "id": "fundamental-stocks",
   "metadata": {},
   "outputs": [
    {
     "ename": "Exception",
     "evalue": "The given data:{1, 2, 3, 4} is a <class 'set'> ,But not a Dictionary",
     "output_type": "error",
     "traceback": [
      "\u001b[1;31m---------------------------------------------------------------------------\u001b[0m",
      "\u001b[1;31mException\u001b[0m                                 Traceback (most recent call last)",
      "\u001b[1;32m<ipython-input-6-06d7345a6cf2>\u001b[0m in \u001b[0;36m<module>\u001b[1;34m\u001b[0m\n\u001b[0;32m      1\u001b[0m \u001b[0ms\u001b[0m \u001b[1;33m=\u001b[0m \u001b[1;33m{\u001b[0m\u001b[1;36m1\u001b[0m\u001b[1;33m,\u001b[0m\u001b[1;36m2\u001b[0m\u001b[1;33m,\u001b[0m\u001b[1;36m3\u001b[0m\u001b[1;33m,\u001b[0m\u001b[1;36m4\u001b[0m\u001b[1;33m}\u001b[0m\u001b[1;33m\u001b[0m\u001b[1;33m\u001b[0m\u001b[0m\n\u001b[0;32m      2\u001b[0m \u001b[0mu\u001b[0m \u001b[1;33m=\u001b[0m \u001b[0munique_values_dictionary\u001b[0m\u001b[1;33m(\u001b[0m\u001b[0ms\u001b[0m\u001b[1;33m)\u001b[0m\u001b[1;33m\u001b[0m\u001b[1;33m\u001b[0m\u001b[0m\n\u001b[1;32m----> 3\u001b[1;33m \u001b[0mu\u001b[0m\u001b[1;33m.\u001b[0m\u001b[0munique_dict\u001b[0m\u001b[1;33m(\u001b[0m\u001b[1;33m)\u001b[0m\u001b[1;33m\u001b[0m\u001b[1;33m\u001b[0m\u001b[0m\n\u001b[0m",
      "\u001b[1;32m<ipython-input-1-2ccec64a9a2c>\u001b[0m in \u001b[0;36munique_dict\u001b[1;34m(self)\u001b[0m\n\u001b[0;32m      7\u001b[0m         \u001b[1;32melse\u001b[0m\u001b[1;33m:\u001b[0m\u001b[1;33m\u001b[0m\u001b[1;33m\u001b[0m\u001b[0m\n\u001b[0;32m      8\u001b[0m             \u001b[0mself\u001b[0m\u001b[1;33m.\u001b[0m\u001b[0mlog\u001b[0m\u001b[1;33m(\u001b[0m\u001b[1;34mf\"The given data:{self.d} is a {type(self.d)} ,But not a Dictionary\"\u001b[0m\u001b[1;33m)\u001b[0m\u001b[1;33m\u001b[0m\u001b[1;33m\u001b[0m\u001b[0m\n\u001b[1;32m----> 9\u001b[1;33m             \u001b[1;32mraise\u001b[0m \u001b[0mException\u001b[0m\u001b[1;33m(\u001b[0m\u001b[1;34mf\"The given data:{self.d} is a {type(self.d)} ,But not a Dictionary\"\u001b[0m\u001b[1;33m)\u001b[0m\u001b[1;33m\u001b[0m\u001b[1;33m\u001b[0m\u001b[0m\n\u001b[0m\u001b[0;32m     10\u001b[0m \u001b[1;33m\u001b[0m\u001b[0m\n\u001b[0;32m     11\u001b[0m     \u001b[1;32mdef\u001b[0m \u001b[0mlog\u001b[0m\u001b[1;33m(\u001b[0m\u001b[0mself\u001b[0m\u001b[1;33m,\u001b[0m\u001b[0me\u001b[0m\u001b[1;33m)\u001b[0m\u001b[1;33m:\u001b[0m\u001b[1;33m\u001b[0m\u001b[1;33m\u001b[0m\u001b[0m\n",
      "\u001b[1;31mException\u001b[0m: The given data:{1, 2, 3, 4} is a <class 'set'> ,But not a Dictionary"
     ]
    }
   ],
   "source": [
    "s = {1,2,3,4}\n",
    "u = unique_values_dictionary(s)\n",
    "u.unique_dict()"
   ]
  },
  {
   "cell_type": "code",
   "execution_count": 11,
   "id": "satellite-wallet",
   "metadata": {},
   "outputs": [
    {
     "ename": "Exception",
     "evalue": "The given data:(1, 2, 3, 4) is a <class 'tuple'> ,But not a Dictionary",
     "output_type": "error",
     "traceback": [
      "\u001b[1;31m---------------------------------------------------------------------------\u001b[0m",
      "\u001b[1;31mException\u001b[0m                                 Traceback (most recent call last)",
      "\u001b[1;32m<ipython-input-11-5cc5a894edf2>\u001b[0m in \u001b[0;36m<module>\u001b[1;34m\u001b[0m\n\u001b[0;32m      1\u001b[0m \u001b[0mt\u001b[0m \u001b[1;33m=\u001b[0m \u001b[1;33m(\u001b[0m\u001b[1;36m1\u001b[0m\u001b[1;33m,\u001b[0m\u001b[1;36m2\u001b[0m\u001b[1;33m,\u001b[0m\u001b[1;36m3\u001b[0m\u001b[1;33m,\u001b[0m\u001b[1;36m4\u001b[0m\u001b[1;33m)\u001b[0m\u001b[1;33m\u001b[0m\u001b[1;33m\u001b[0m\u001b[0m\n\u001b[0;32m      2\u001b[0m \u001b[0mu\u001b[0m \u001b[1;33m=\u001b[0m \u001b[0munique_values_dictionary\u001b[0m\u001b[1;33m(\u001b[0m\u001b[0mt\u001b[0m\u001b[1;33m)\u001b[0m\u001b[1;33m\u001b[0m\u001b[1;33m\u001b[0m\u001b[0m\n\u001b[1;32m----> 3\u001b[1;33m \u001b[0mu\u001b[0m\u001b[1;33m.\u001b[0m\u001b[0munique_dict\u001b[0m\u001b[1;33m(\u001b[0m\u001b[1;33m)\u001b[0m\u001b[1;33m\u001b[0m\u001b[1;33m\u001b[0m\u001b[0m\n\u001b[0m",
      "\u001b[1;32m<ipython-input-1-2ccec64a9a2c>\u001b[0m in \u001b[0;36munique_dict\u001b[1;34m(self)\u001b[0m\n\u001b[0;32m      7\u001b[0m         \u001b[1;32melse\u001b[0m\u001b[1;33m:\u001b[0m\u001b[1;33m\u001b[0m\u001b[1;33m\u001b[0m\u001b[0m\n\u001b[0;32m      8\u001b[0m             \u001b[0mself\u001b[0m\u001b[1;33m.\u001b[0m\u001b[0mlog\u001b[0m\u001b[1;33m(\u001b[0m\u001b[1;34mf\"The given data:{self.d} is a {type(self.d)} ,But not a Dictionary\"\u001b[0m\u001b[1;33m)\u001b[0m\u001b[1;33m\u001b[0m\u001b[1;33m\u001b[0m\u001b[0m\n\u001b[1;32m----> 9\u001b[1;33m             \u001b[1;32mraise\u001b[0m \u001b[0mException\u001b[0m\u001b[1;33m(\u001b[0m\u001b[1;34mf\"The given data:{self.d} is a {type(self.d)} ,But not a Dictionary\"\u001b[0m\u001b[1;33m)\u001b[0m\u001b[1;33m\u001b[0m\u001b[1;33m\u001b[0m\u001b[0m\n\u001b[0m\u001b[0;32m     10\u001b[0m \u001b[1;33m\u001b[0m\u001b[0m\n\u001b[0;32m     11\u001b[0m     \u001b[1;32mdef\u001b[0m \u001b[0mlog\u001b[0m\u001b[1;33m(\u001b[0m\u001b[0mself\u001b[0m\u001b[1;33m,\u001b[0m\u001b[0me\u001b[0m\u001b[1;33m)\u001b[0m\u001b[1;33m:\u001b[0m\u001b[1;33m\u001b[0m\u001b[1;33m\u001b[0m\u001b[0m\n",
      "\u001b[1;31mException\u001b[0m: The given data:(1, 2, 3, 4) is a <class 'tuple'> ,But not a Dictionary"
     ]
    }
   ],
   "source": [
    "t = (1,2,3,4)\n",
    "u = unique_values_dictionary(t)\n",
    "u.unique_dict()"
   ]
  },
  {
   "cell_type": "markdown",
   "id": "identified-amazon",
   "metadata": {},
   "source": [
    "### 2. Write a Python program to find the sum of all items in a dictionary?"
   ]
  },
  {
   "cell_type": "code",
   "execution_count": 16,
   "id": "later-scotland",
   "metadata": {},
   "outputs": [],
   "source": [
    "class Sum_of_all_items:\n",
    "    def __init__(self,d):\n",
    "        self.d = d\n",
    "    def sum_items_dict(self):\n",
    "        if type(self.d) == dict:\n",
    "            s = \" \"\n",
    "            sum = 0\n",
    "            for i in self.d.values():\n",
    "                if type(i) in (int,float):\n",
    "                    sum += i\n",
    "                else:\n",
    "                    s += str(i)\n",
    "            for i in self.d.keys():\n",
    "                if type(i) in (int,float):\n",
    "                    sum += i\n",
    "                else:\n",
    "                    s += str(i)\n",
    "                    \n",
    "            return \"Numerical_sum :\",sum ,\"String:\",s \n",
    "        else:\n",
    "            self.log(f\"The given data:{self.d} is a {type(self.d)} ,But not a Dictionary\")\n",
    "            raise Exception(f\"The given data:{self.d} is a {type(self.d)} ,But not a Dictionary\")\n",
    "            \n",
    "    def log(self,e):\n",
    "        self.e = e\n",
    "        import logging as lg\n",
    "        lg.basicConfig(filename = \"0012_Assignment_12.log\" , level = lg.DEBUG , format = '%(asctime)s %(name)s %(levelname)s %(message)s')\n",
    "        Ques2 = lg.getLogger(\"Ques2\")\n",
    "        Ques2.warning(self.e)\n",
    "    def __str__(self):\n",
    "        return \"Sum_of_all_items is used to get unquie Values in the Dictionary\""
   ]
  },
  {
   "cell_type": "code",
   "execution_count": 17,
   "id": "seeing-forest",
   "metadata": {},
   "outputs": [
    {
     "data": {
      "text/plain": [
       "dict_items([('a', 1), ('b', 2), ('c', 3), ('d', 3), ('e', 4), ('f', 1), ('g', 2), ('h', 3), ('i', 4), ('j', 5)])"
      ]
     },
     "execution_count": 17,
     "metadata": {},
     "output_type": "execute_result"
    }
   ],
   "source": [
    "d = {\"a\":1,\"b\":2,\"c\":3,\"d\":3,\"e\":4,\"f\":1,\"g\":2,\"h\":3,\"i\":4,\"j\":5}\n",
    "d.items()"
   ]
  },
  {
   "cell_type": "code",
   "execution_count": 18,
   "id": "lesser-pittsburgh",
   "metadata": {},
   "outputs": [
    {
     "name": "stdout",
     "output_type": "stream",
     "text": [
      "Sum_of_all_items is used to get unquie Values in the Dictionary\n"
     ]
    }
   ],
   "source": [
    "s = Sum_of_all_items(d)\n",
    "print(s)"
   ]
  },
  {
   "cell_type": "code",
   "execution_count": 19,
   "id": "scheduled-keyboard",
   "metadata": {},
   "outputs": [
    {
     "data": {
      "text/plain": [
       "('Numerical_sum :', 28, 'String:', ' abcdefghij')"
      ]
     },
     "execution_count": 19,
     "metadata": {},
     "output_type": "execute_result"
    }
   ],
   "source": [
    "s.sum_items_dict()"
   ]
  },
  {
   "cell_type": "code",
   "execution_count": 21,
   "id": "portable-monday",
   "metadata": {},
   "outputs": [
    {
     "ename": "Exception",
     "evalue": "The given data:[1, 2, 3, 4] is a <class 'list'> ,But not a Dictionary",
     "output_type": "error",
     "traceback": [
      "\u001b[1;31m---------------------------------------------------------------------------\u001b[0m",
      "\u001b[1;31mException\u001b[0m                                 Traceback (most recent call last)",
      "\u001b[1;32m<ipython-input-21-b250f406ceb6>\u001b[0m in \u001b[0;36m<module>\u001b[1;34m\u001b[0m\n\u001b[0;32m      1\u001b[0m \u001b[0ml\u001b[0m \u001b[1;33m=\u001b[0m \u001b[1;33m[\u001b[0m\u001b[1;36m1\u001b[0m\u001b[1;33m,\u001b[0m\u001b[1;36m2\u001b[0m\u001b[1;33m,\u001b[0m\u001b[1;36m3\u001b[0m\u001b[1;33m,\u001b[0m\u001b[1;36m4\u001b[0m\u001b[1;33m]\u001b[0m\u001b[1;33m\u001b[0m\u001b[1;33m\u001b[0m\u001b[0m\n\u001b[0;32m      2\u001b[0m \u001b[0ms\u001b[0m \u001b[1;33m=\u001b[0m \u001b[0mSum_of_all_items\u001b[0m\u001b[1;33m(\u001b[0m\u001b[0ml\u001b[0m\u001b[1;33m)\u001b[0m\u001b[1;33m\u001b[0m\u001b[1;33m\u001b[0m\u001b[0m\n\u001b[1;32m----> 3\u001b[1;33m \u001b[0ms\u001b[0m\u001b[1;33m.\u001b[0m\u001b[0msum_items_dict\u001b[0m\u001b[1;33m(\u001b[0m\u001b[1;33m)\u001b[0m\u001b[1;33m\u001b[0m\u001b[1;33m\u001b[0m\u001b[0m\n\u001b[0m",
      "\u001b[1;32m<ipython-input-16-b08f46b9bf94>\u001b[0m in \u001b[0;36msum_items_dict\u001b[1;34m(self)\u001b[0m\n\u001b[0;32m     20\u001b[0m         \u001b[1;32melse\u001b[0m\u001b[1;33m:\u001b[0m\u001b[1;33m\u001b[0m\u001b[1;33m\u001b[0m\u001b[0m\n\u001b[0;32m     21\u001b[0m             \u001b[0mself\u001b[0m\u001b[1;33m.\u001b[0m\u001b[0mlog\u001b[0m\u001b[1;33m(\u001b[0m\u001b[1;34mf\"The given data:{self.d} is a {type(self.d)} ,But not a Dictionary\"\u001b[0m\u001b[1;33m)\u001b[0m\u001b[1;33m\u001b[0m\u001b[1;33m\u001b[0m\u001b[0m\n\u001b[1;32m---> 22\u001b[1;33m             \u001b[1;32mraise\u001b[0m \u001b[0mException\u001b[0m\u001b[1;33m(\u001b[0m\u001b[1;34mf\"The given data:{self.d} is a {type(self.d)} ,But not a Dictionary\"\u001b[0m\u001b[1;33m)\u001b[0m\u001b[1;33m\u001b[0m\u001b[1;33m\u001b[0m\u001b[0m\n\u001b[0m\u001b[0;32m     23\u001b[0m \u001b[1;33m\u001b[0m\u001b[0m\n\u001b[0;32m     24\u001b[0m     \u001b[1;32mdef\u001b[0m \u001b[0mlog\u001b[0m\u001b[1;33m(\u001b[0m\u001b[0mself\u001b[0m\u001b[1;33m,\u001b[0m\u001b[0me\u001b[0m\u001b[1;33m)\u001b[0m\u001b[1;33m:\u001b[0m\u001b[1;33m\u001b[0m\u001b[1;33m\u001b[0m\u001b[0m\n",
      "\u001b[1;31mException\u001b[0m: The given data:[1, 2, 3, 4] is a <class 'list'> ,But not a Dictionary"
     ]
    }
   ],
   "source": [
    "l = [1,2,3,4]\n",
    "s = Sum_of_all_items(l)\n",
    "s.sum_items_dict()"
   ]
  },
  {
   "cell_type": "code",
   "execution_count": 30,
   "id": "bigger-pattern",
   "metadata": {},
   "outputs": [
    {
     "ename": "Exception",
     "evalue": "The given data:{1, 2, 3, 4} is a <class 'set'> ,But not a Dictionary",
     "output_type": "error",
     "traceback": [
      "\u001b[1;31m---------------------------------------------------------------------------\u001b[0m",
      "\u001b[1;31mException\u001b[0m                                 Traceback (most recent call last)",
      "\u001b[1;32m<ipython-input-30-b4be9bac3eda>\u001b[0m in \u001b[0;36m<module>\u001b[1;34m\u001b[0m\n\u001b[0;32m      1\u001b[0m \u001b[0ms\u001b[0m \u001b[1;33m=\u001b[0m \u001b[1;33m{\u001b[0m\u001b[1;36m1\u001b[0m\u001b[1;33m,\u001b[0m\u001b[1;36m2\u001b[0m\u001b[1;33m,\u001b[0m\u001b[1;36m3\u001b[0m\u001b[1;33m,\u001b[0m\u001b[1;36m4\u001b[0m\u001b[1;33m}\u001b[0m\u001b[1;33m\u001b[0m\u001b[1;33m\u001b[0m\u001b[0m\n\u001b[0;32m      2\u001b[0m \u001b[0ms\u001b[0m \u001b[1;33m=\u001b[0m \u001b[0mSum_of_all_items\u001b[0m\u001b[1;33m(\u001b[0m\u001b[0ms\u001b[0m\u001b[1;33m)\u001b[0m\u001b[1;33m\u001b[0m\u001b[1;33m\u001b[0m\u001b[0m\n\u001b[1;32m----> 3\u001b[1;33m \u001b[0ms\u001b[0m\u001b[1;33m.\u001b[0m\u001b[0msum_items_dict\u001b[0m\u001b[1;33m(\u001b[0m\u001b[1;33m)\u001b[0m\u001b[1;33m\u001b[0m\u001b[1;33m\u001b[0m\u001b[0m\n\u001b[0m",
      "\u001b[1;32m<ipython-input-16-b08f46b9bf94>\u001b[0m in \u001b[0;36msum_items_dict\u001b[1;34m(self)\u001b[0m\n\u001b[0;32m     20\u001b[0m         \u001b[1;32melse\u001b[0m\u001b[1;33m:\u001b[0m\u001b[1;33m\u001b[0m\u001b[1;33m\u001b[0m\u001b[0m\n\u001b[0;32m     21\u001b[0m             \u001b[0mself\u001b[0m\u001b[1;33m.\u001b[0m\u001b[0mlog\u001b[0m\u001b[1;33m(\u001b[0m\u001b[1;34mf\"The given data:{self.d} is a {type(self.d)} ,But not a Dictionary\"\u001b[0m\u001b[1;33m)\u001b[0m\u001b[1;33m\u001b[0m\u001b[1;33m\u001b[0m\u001b[0m\n\u001b[1;32m---> 22\u001b[1;33m             \u001b[1;32mraise\u001b[0m \u001b[0mException\u001b[0m\u001b[1;33m(\u001b[0m\u001b[1;34mf\"The given data:{self.d} is a {type(self.d)} ,But not a Dictionary\"\u001b[0m\u001b[1;33m)\u001b[0m\u001b[1;33m\u001b[0m\u001b[1;33m\u001b[0m\u001b[0m\n\u001b[0m\u001b[0;32m     23\u001b[0m \u001b[1;33m\u001b[0m\u001b[0m\n\u001b[0;32m     24\u001b[0m     \u001b[1;32mdef\u001b[0m \u001b[0mlog\u001b[0m\u001b[1;33m(\u001b[0m\u001b[0mself\u001b[0m\u001b[1;33m,\u001b[0m\u001b[0me\u001b[0m\u001b[1;33m)\u001b[0m\u001b[1;33m:\u001b[0m\u001b[1;33m\u001b[0m\u001b[1;33m\u001b[0m\u001b[0m\n",
      "\u001b[1;31mException\u001b[0m: The given data:{1, 2, 3, 4} is a <class 'set'> ,But not a Dictionary"
     ]
    }
   ],
   "source": [
    "s = {1,2,3,4}\n",
    "s = Sum_of_all_items(s)\n",
    "s.sum_items_dict()"
   ]
  },
  {
   "cell_type": "markdown",
   "id": "round-while",
   "metadata": {},
   "source": [
    "### 3. Write a Python program to Merging two Dictionaries?"
   ]
  },
  {
   "cell_type": "code",
   "execution_count": 50,
   "id": "infectious-picture",
   "metadata": {},
   "outputs": [],
   "source": [
    "class Merge:\n",
    "    def __init__(self,d1,d2):\n",
    "        self.d1 = d1\n",
    "        self.d2 = d2\n",
    "    def Merge_2_dict(self):\n",
    "        if type(self.d1) == dict and type(self.d2) == dict:\n",
    "            return {**self.d1,**self.d2}\n",
    "        \n",
    "        else:\n",
    "            self.log(f\"The given data:{self.d1} is a {type(self.d1)} and {self.d2} is a {type(self.d2)}\")\n",
    "            raise Exception(f\"The given data:{self.d1} is a {type(self.d1)} and {self.d2} is a {type(self.d2)}\")\n",
    "            \n",
    "    def log(self,e):\n",
    "        self.e = e\n",
    "        import logging as lg\n",
    "        lg.basicConfig(filename = \"0012_Assignment_12.log\" , level = lg.DEBUG , format = '%(asctime)s %(name)s %(levelname)s %(message)s')\n",
    "        Ques3 = lg.getLogger(\"Ques3\")\n",
    "        Ques3.warning(self.e)\n",
    "    def __str__(self):\n",
    "        return \"Python program to Merging two Dictionaries\""
   ]
  },
  {
   "cell_type": "code",
   "execution_count": 10,
   "id": "compliant-enlargement",
   "metadata": {},
   "outputs": [],
   "source": [
    "d1 = {\"a\":1,\"b\":2,\"C\":3}\n",
    "d2 = {\"d\":4,\"e\":5}"
   ]
  },
  {
   "cell_type": "code",
   "execution_count": 11,
   "id": "regional-disclosure",
   "metadata": {},
   "outputs": [],
   "source": [
    "m = Merge(d1,d2)"
   ]
  },
  {
   "cell_type": "code",
   "execution_count": 12,
   "id": "local-destiny",
   "metadata": {},
   "outputs": [
    {
     "data": {
      "text/plain": [
       "{'a': 1, 'b': 2, 'C': 3, 'd': 4, 'e': 5}"
      ]
     },
     "execution_count": 12,
     "metadata": {},
     "output_type": "execute_result"
    }
   ],
   "source": [
    "m.Merge_2_dict()"
   ]
  },
  {
   "cell_type": "code",
   "execution_count": 13,
   "id": "bearing-hampton",
   "metadata": {},
   "outputs": [],
   "source": [
    "l1 = [1,2,3,4]\n",
    "l2 = [1,2,3,4]\n",
    "m = Merge(l1,l2)"
   ]
  },
  {
   "cell_type": "code",
   "execution_count": 14,
   "id": "supposed-brighton",
   "metadata": {},
   "outputs": [
    {
     "ename": "Exception",
     "evalue": "The given data:[1, 2, 3, 4] is a <class 'list'> and [1, 2, 3, 4] is a <class 'list'>",
     "output_type": "error",
     "traceback": [
      "\u001b[1;31m---------------------------------------------------------------------------\u001b[0m",
      "\u001b[1;31mException\u001b[0m                                 Traceback (most recent call last)",
      "\u001b[1;32m<ipython-input-14-c46663fbecf3>\u001b[0m in \u001b[0;36m<module>\u001b[1;34m\u001b[0m\n\u001b[1;32m----> 1\u001b[1;33m \u001b[0mm\u001b[0m\u001b[1;33m.\u001b[0m\u001b[0mMerge_2_dict\u001b[0m\u001b[1;33m(\u001b[0m\u001b[1;33m)\u001b[0m\u001b[1;33m\u001b[0m\u001b[1;33m\u001b[0m\u001b[0m\n\u001b[0m",
      "\u001b[1;32m<ipython-input-9-c67dd7b19601>\u001b[0m in \u001b[0;36mMerge_2_dict\u001b[1;34m(self)\u001b[0m\n\u001b[0;32m      9\u001b[0m         \u001b[1;32melse\u001b[0m\u001b[1;33m:\u001b[0m\u001b[1;33m\u001b[0m\u001b[1;33m\u001b[0m\u001b[0m\n\u001b[0;32m     10\u001b[0m             \u001b[0mself\u001b[0m\u001b[1;33m.\u001b[0m\u001b[0mlog\u001b[0m\u001b[1;33m(\u001b[0m\u001b[1;34mf\"The given data:{self.d1} is a {type(self.d1)} and {self.d2} is a {type(self.d2)}\"\u001b[0m\u001b[1;33m)\u001b[0m\u001b[1;33m\u001b[0m\u001b[1;33m\u001b[0m\u001b[0m\n\u001b[1;32m---> 11\u001b[1;33m             \u001b[1;32mraise\u001b[0m \u001b[0mException\u001b[0m\u001b[1;33m(\u001b[0m\u001b[1;34mf\"The given data:{self.d1} is a {type(self.d1)} and {self.d2} is a {type(self.d2)}\"\u001b[0m\u001b[1;33m)\u001b[0m\u001b[1;33m\u001b[0m\u001b[1;33m\u001b[0m\u001b[0m\n\u001b[0m\u001b[0;32m     12\u001b[0m \u001b[1;33m\u001b[0m\u001b[0m\n\u001b[0;32m     13\u001b[0m     \u001b[1;32mdef\u001b[0m \u001b[0mlog\u001b[0m\u001b[1;33m(\u001b[0m\u001b[0mself\u001b[0m\u001b[1;33m,\u001b[0m\u001b[0me\u001b[0m\u001b[1;33m)\u001b[0m\u001b[1;33m:\u001b[0m\u001b[1;33m\u001b[0m\u001b[1;33m\u001b[0m\u001b[0m\n",
      "\u001b[1;31mException\u001b[0m: The given data:[1, 2, 3, 4] is a <class 'list'> and [1, 2, 3, 4] is a <class 'list'>"
     ]
    }
   ],
   "source": [
    "m.Merge_2_dict()"
   ]
  },
  {
   "cell_type": "code",
   "execution_count": 15,
   "id": "provincial-showcase",
   "metadata": {},
   "outputs": [],
   "source": [
    "s1 = {1,2,3,4}\n",
    "s2 = {1,2,3,4}\n",
    "m = Merge(s1,s2)"
   ]
  },
  {
   "cell_type": "code",
   "execution_count": 16,
   "id": "second-testimony",
   "metadata": {},
   "outputs": [
    {
     "ename": "Exception",
     "evalue": "The given data:{1, 2, 3, 4} is a <class 'set'> and {1, 2, 3, 4} is a <class 'set'>",
     "output_type": "error",
     "traceback": [
      "\u001b[1;31m---------------------------------------------------------------------------\u001b[0m",
      "\u001b[1;31mException\u001b[0m                                 Traceback (most recent call last)",
      "\u001b[1;32m<ipython-input-16-c46663fbecf3>\u001b[0m in \u001b[0;36m<module>\u001b[1;34m\u001b[0m\n\u001b[1;32m----> 1\u001b[1;33m \u001b[0mm\u001b[0m\u001b[1;33m.\u001b[0m\u001b[0mMerge_2_dict\u001b[0m\u001b[1;33m(\u001b[0m\u001b[1;33m)\u001b[0m\u001b[1;33m\u001b[0m\u001b[1;33m\u001b[0m\u001b[0m\n\u001b[0m",
      "\u001b[1;32m<ipython-input-9-c67dd7b19601>\u001b[0m in \u001b[0;36mMerge_2_dict\u001b[1;34m(self)\u001b[0m\n\u001b[0;32m      9\u001b[0m         \u001b[1;32melse\u001b[0m\u001b[1;33m:\u001b[0m\u001b[1;33m\u001b[0m\u001b[1;33m\u001b[0m\u001b[0m\n\u001b[0;32m     10\u001b[0m             \u001b[0mself\u001b[0m\u001b[1;33m.\u001b[0m\u001b[0mlog\u001b[0m\u001b[1;33m(\u001b[0m\u001b[1;34mf\"The given data:{self.d1} is a {type(self.d1)} and {self.d2} is a {type(self.d2)}\"\u001b[0m\u001b[1;33m)\u001b[0m\u001b[1;33m\u001b[0m\u001b[1;33m\u001b[0m\u001b[0m\n\u001b[1;32m---> 11\u001b[1;33m             \u001b[1;32mraise\u001b[0m \u001b[0mException\u001b[0m\u001b[1;33m(\u001b[0m\u001b[1;34mf\"The given data:{self.d1} is a {type(self.d1)} and {self.d2} is a {type(self.d2)}\"\u001b[0m\u001b[1;33m)\u001b[0m\u001b[1;33m\u001b[0m\u001b[1;33m\u001b[0m\u001b[0m\n\u001b[0m\u001b[0;32m     12\u001b[0m \u001b[1;33m\u001b[0m\u001b[0m\n\u001b[0;32m     13\u001b[0m     \u001b[1;32mdef\u001b[0m \u001b[0mlog\u001b[0m\u001b[1;33m(\u001b[0m\u001b[0mself\u001b[0m\u001b[1;33m,\u001b[0m\u001b[0me\u001b[0m\u001b[1;33m)\u001b[0m\u001b[1;33m:\u001b[0m\u001b[1;33m\u001b[0m\u001b[1;33m\u001b[0m\u001b[0m\n",
      "\u001b[1;31mException\u001b[0m: The given data:{1, 2, 3, 4} is a <class 'set'> and {1, 2, 3, 4} is a <class 'set'>"
     ]
    }
   ],
   "source": [
    "m.Merge_2_dict()"
   ]
  },
  {
   "cell_type": "markdown",
   "id": "original-finnish",
   "metadata": {},
   "source": [
    "### 4. Write a Python program to convert key-values list to flat dictionary?"
   ]
  },
  {
   "cell_type": "code",
   "execution_count": 27,
   "id": "electrical-camel",
   "metadata": {},
   "outputs": [],
   "source": [
    "class Flat:\n",
    "    def __init__(self,d):\n",
    "        self.d = d\n",
    "        self.keys = d.keys()\n",
    "        self.values = d.values() \n",
    "        \n",
    "    def Flat_dict(self):\n",
    "        if type(self.d) == dict:\n",
    "            return dict(zip(d[\"keys\"],d[\"values\"]))\n",
    " \n",
    "        else:\n",
    "            self.log(f\"The given data:{self.d} is a {type(self.d)} ,But not a Dictionary\")\n",
    "            raise Exception(f\"The given data:{self.d} is a {type(self.d)} ,But not a Dictionary\")\n",
    "            \n",
    "    def log(self,e):\n",
    "        self.e = e\n",
    "        import logging as lg\n",
    "        lg.basicConfig(filename = \"0012_Assignment_12.log\" , level = lg.DEBUG , format = '%(asctime)s %(name)s %(levelname)s %(message)s')\n",
    "        Ques4 = lg.getLogger(\"Ques4\")\n",
    "        Ques4.warning(self.e)\n",
    "    def __str__(self):\n",
    "        return \"Python program to convert key-values list to flat dictionary\""
   ]
  },
  {
   "cell_type": "code",
   "execution_count": 32,
   "id": "proud-control",
   "metadata": {},
   "outputs": [],
   "source": [
    "d = {\"keys\":[\"a\",\"b\",\"c\",\"d\"],\"values\":[1,2,3,4]}\n",
    "f = Flat(d)"
   ]
  },
  {
   "cell_type": "code",
   "execution_count": 33,
   "id": "protective-climate",
   "metadata": {},
   "outputs": [
    {
     "data": {
      "text/plain": [
       "{'a': 1, 'b': 2, 'c': 3, 'd': 4}"
      ]
     },
     "execution_count": 33,
     "metadata": {},
     "output_type": "execute_result"
    }
   ],
   "source": [
    "f.Flat_dict()"
   ]
  },
  {
   "cell_type": "code",
   "execution_count": null,
   "id": "curious-ebony",
   "metadata": {},
   "outputs": [],
   "source": []
  },
  {
   "cell_type": "markdown",
   "id": "hidden-background",
   "metadata": {},
   "source": [
    "### 5. Write a Python program to insertion at the beginning in OrderedDict?"
   ]
  },
  {
   "cell_type": "code",
   "execution_count": 82,
   "id": "transparent-birmingham",
   "metadata": {},
   "outputs": [],
   "source": [
    "class insertion:\n",
    "    def __init__(self,l1):\n",
    "        self.l1 = l1\n",
    "        \n",
    "    def Ordered_dict(self,d2):\n",
    "        from collections import OrderedDict\n",
    "        if type(self.l1) == list and type(d2) == dict:\n",
    "            d1 = OrderedDict(self.l1)\n",
    "            \n",
    "            return dict(**d2,**d1)\n",
    " \n",
    "        else:\n",
    "            self.log(f\"The given data:{self.d} is a {type(self.d)} ,But not a Dictionary\")\n",
    "            raise Exception(f\"The given data:{self.d} is a {type(self.d)} ,But not a Dictionary\")\n",
    "            \n",
    "    def log(self,e):\n",
    "        self.e = e\n",
    "        import logging as lg\n",
    "        lg.basicConfig(filename = \"0012_Assignment_12.log\" , level = lg.DEBUG , format = '%(asctime)s %(name)s %(levelname)s %(message)s')\n",
    "        Ques5 = lg.getLogger(\"Ques4\")\n",
    "        Ques5.warning(self.e)\n",
    "    def __str__(self):\n",
    "        return \"Python program to insertion at the beginning in OrderedDict\""
   ]
  },
  {
   "cell_type": "code",
   "execution_count": 83,
   "id": "female-continuity",
   "metadata": {},
   "outputs": [],
   "source": [
    "l = [(\"a\",\"1\"),(\"b\",\"2\"),(\"c\",\"3\")]\n",
    "d2 = {\"d\":4,\"e\":5}"
   ]
  },
  {
   "cell_type": "code",
   "execution_count": 84,
   "id": "expired-valuation",
   "metadata": {},
   "outputs": [
    {
     "data": {
      "text/plain": [
       "{'d': 4, 'e': 5, 'a': '1', 'b': '2', 'c': '3'}"
      ]
     },
     "execution_count": 84,
     "metadata": {},
     "output_type": "execute_result"
    }
   ],
   "source": [
    "i = insertion(l)\n",
    "i.Ordered_dict(d2)"
   ]
  },
  {
   "cell_type": "code",
   "execution_count": null,
   "id": "stupid-mixer",
   "metadata": {},
   "outputs": [],
   "source": []
  },
  {
   "cell_type": "markdown",
   "id": "strange-fundamental",
   "metadata": {},
   "source": [
    "### 6. Write a Python program to check order of character in string using OrderedDict()?"
   ]
  },
  {
   "cell_type": "code",
   "execution_count": 20,
   "id": "bulgarian-exhaust",
   "metadata": {},
   "outputs": [],
   "source": [
    "    from collections import OrderedDict\n",
    "    def checkOrder(input, pattern):\n",
    "        dict = OrderedDict.fromkeys(input)\n",
    "        ptrlen = 0\n",
    "        for key,value in dict.items():\n",
    "            if (key == pattern[ptrlen]):\n",
    "                ptrlen = ptrlen + 1\n",
    "            if (ptrlen == (len(pattern))):\n",
    "                return 'true'\n",
    "        return 'false'"
   ]
  },
  {
   "cell_type": "code",
   "execution_count": 34,
   "id": "guilty-fisher",
   "metadata": {},
   "outputs": [
    {
     "name": "stdout",
     "output_type": "stream",
     "text": [
      "true\n",
      "Because all the 'R's that we have in the String are before 'L'\n"
     ]
    }
   ],
   "source": [
    "input = 'RocknRoLL'\n",
    "pattern = 'RL'\n",
    "print(checkOrder(input, pattern))   \n",
    "print(\"Because all the 'R's that we have in the String are before 'L'\")    "
   ]
  },
  {
   "cell_type": "code",
   "execution_count": 33,
   "id": "a743d040",
   "metadata": {},
   "outputs": [
    {
     "name": "stdout",
     "output_type": "stream",
     "text": [
      "false\n",
      "Because one 'R' that we have in the String are left of 'c' \n"
     ]
    }
   ],
   "source": [
    "input = 'RocknRoLL'\n",
    "pattern = 'cR'\n",
    "print(checkOrder(input, pattern))   \n",
    "print(\"Because one 'R' that we have in the String are left of 'c' \")    "
   ]
  },
  {
   "cell_type": "code",
   "execution_count": 25,
   "id": "ad13f7e2",
   "metadata": {},
   "outputs": [
    {
     "data": {
      "text/plain": [
       "'true'"
      ]
     },
     "execution_count": 25,
     "metadata": {},
     "output_type": "execute_result"
    }
   ],
   "source": [
    "input = 'Bharadwaja'\n",
    "pattern = 'rd'\n",
    "checkOrder(input, pattern)   \n",
    "    "
   ]
  },
  {
   "cell_type": "markdown",
   "id": "collective-turkish",
   "metadata": {},
   "source": [
    "### 7. Write a Python program to sort Python Dictionaries by Key or Value?"
   ]
  },
  {
   "cell_type": "code",
   "execution_count": 103,
   "id": "unknown-share",
   "metadata": {},
   "outputs": [],
   "source": [
    "class DictSort:\n",
    "    def __init__(self,d):\n",
    "        self.d = d\n",
    "    def Key_DictSort(self):\n",
    "        a = sorted(self.d.keys())\n",
    "        s = {}\n",
    "        for i in a:\n",
    "            s[i] = self.d[i]\n",
    "        return s\n",
    "    def Value_DictSort(self):\n",
    "        a = sorted(self.d, key=self.d.__getitem__)\n",
    "        s = {}\n",
    "        for i in a:\n",
    "            s[i] = self.d[i]\n",
    "        return s    "
   ]
  },
  {
   "cell_type": "code",
   "execution_count": 104,
   "id": "rapid-pencil",
   "metadata": {},
   "outputs": [],
   "source": [
    "d1 = {\"c\":2,\"d\":1,\"b\":3,\"a\":4}"
   ]
  },
  {
   "cell_type": "code",
   "execution_count": 105,
   "id": "declared-pulse",
   "metadata": {},
   "outputs": [],
   "source": [
    "d = DictSort(d1)"
   ]
  },
  {
   "cell_type": "code",
   "execution_count": 107,
   "id": "monetary-football",
   "metadata": {},
   "outputs": [
    {
     "data": {
      "text/plain": [
       "{'a': 4, 'b': 3, 'c': 2, 'd': 1}"
      ]
     },
     "execution_count": 107,
     "metadata": {},
     "output_type": "execute_result"
    }
   ],
   "source": [
    "d.Key_DictSort()"
   ]
  },
  {
   "cell_type": "code",
   "execution_count": 108,
   "id": "interested-circulation",
   "metadata": {},
   "outputs": [
    {
     "data": {
      "text/plain": [
       "{'d': 1, 'c': 2, 'b': 3, 'a': 4}"
      ]
     },
     "execution_count": 108,
     "metadata": {},
     "output_type": "execute_result"
    }
   ],
   "source": [
    "d.Value_DictSort()"
   ]
  },
  {
   "cell_type": "code",
   "execution_count": null,
   "id": "discrete-township",
   "metadata": {},
   "outputs": [],
   "source": []
  },
  {
   "cell_type": "code",
   "execution_count": null,
   "id": "severe-miami",
   "metadata": {},
   "outputs": [],
   "source": []
  }
 ],
 "metadata": {
  "kernelspec": {
   "display_name": "Python [conda env:.conda-gputest] *",
   "language": "python",
   "name": "conda-env-.conda-gputest-py"
  },
  "language_info": {
   "codemirror_mode": {
    "name": "ipython",
    "version": 3
   },
   "file_extension": ".py",
   "mimetype": "text/x-python",
   "name": "python",
   "nbconvert_exporter": "python",
   "pygments_lexer": "ipython3",
   "version": "3.6.12"
  }
 },
 "nbformat": 4,
 "nbformat_minor": 5
}
