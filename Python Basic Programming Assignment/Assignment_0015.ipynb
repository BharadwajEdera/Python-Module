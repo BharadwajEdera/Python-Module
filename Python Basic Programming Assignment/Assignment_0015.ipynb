{
 "cells": [
  {
   "cell_type": "markdown",
   "id": "777b2be6",
   "metadata": {},
   "source": [
    "### Question 1:\n",
    ">Please write a program using generator to print the numbers which can be divisible by 5 and 7 between 0 and n in comma separated form while n is input by console.\n",
    "\n",
    ">Example:\n",
    "\n",
    ">If the following n is given as input to the program:\n",
    "\n",
    ">100\n",
    "\n",
    ">Then, the output of the program should be:\n",
    "\n",
    ">0,35,70\n",
    "\n"
   ]
  },
  {
   "cell_type": "code",
   "execution_count": 14,
   "id": "925c1948",
   "metadata": {},
   "outputs": [],
   "source": [
    "class using_gen:\n",
    "        \n",
    "    def div_by_5_and_7(self):\n",
    "        n = int(input(\"Enter range n :\"))\n",
    "        l= []\n",
    "        for i in range(n):\n",
    "            if i % 5 == 0 and i % 7 == 0:\n",
    "                l.append(str(i))\n",
    "        s = \",\".join(l)\n",
    "        yield s\n",
    "            "
   ]
  },
  {
   "cell_type": "code",
   "execution_count": 15,
   "id": "a4a4c753",
   "metadata": {},
   "outputs": [],
   "source": [
    "a = using_gen()"
   ]
  },
  {
   "cell_type": "code",
   "execution_count": 16,
   "id": "1aeceb09",
   "metadata": {},
   "outputs": [
    {
     "data": {
      "text/plain": [
       "<generator object using_gen.div_by_5_and_7 at 0x000002A1C0896F68>"
      ]
     },
     "execution_count": 16,
     "metadata": {},
     "output_type": "execute_result"
    }
   ],
   "source": [
    "a.div_by_5_and_7()"
   ]
  },
  {
   "cell_type": "code",
   "execution_count": 17,
   "id": "dc69502f",
   "metadata": {},
   "outputs": [
    {
     "name": "stdout",
     "output_type": "stream",
     "text": [
      "Enter range n :100\n",
      "0,35,70\n"
     ]
    }
   ],
   "source": [
    "for i in a.div_by_5_and_7():\n",
    "    print(i)"
   ]
  },
  {
   "cell_type": "markdown",
   "id": "076302f8",
   "metadata": {},
   "source": [
    "### Question 2:\n",
    "\n",
    ">Please write a program using generator to print the even numbers between 0 and n in comma separated form while n is input by console.\n",
    "\n",
    ">Example:\n",
    "\n",
    ">If the following n is given as input to the program:\n",
    "\n",
    ">10\n",
    "\n",
    ">Then, the output of the program should be:\n",
    "\n",
    ">0,2,4,6,8,10\n",
    "\n"
   ]
  },
  {
   "cell_type": "code",
   "execution_count": 20,
   "id": "9e5cae42",
   "metadata": {},
   "outputs": [],
   "source": [
    "class using_gen:     \n",
    "    def even(self):\n",
    "        n = int(input(\"Enter range n :\"))\n",
    "        l= []\n",
    "        for i in range(n):\n",
    "            if i % 2 == 0 :\n",
    "                l.append(str(i))\n",
    "        s = \",\".join(l)\n",
    "        yield s\n",
    "            "
   ]
  },
  {
   "cell_type": "code",
   "execution_count": 21,
   "id": "6878cbdb",
   "metadata": {},
   "outputs": [],
   "source": [
    "a = using_gen()"
   ]
  },
  {
   "cell_type": "code",
   "execution_count": 22,
   "id": "44e4edd6",
   "metadata": {},
   "outputs": [
    {
     "data": {
      "text/plain": [
       "<generator object using_gen.even at 0x000002A1C08E20A0>"
      ]
     },
     "execution_count": 22,
     "metadata": {},
     "output_type": "execute_result"
    }
   ],
   "source": [
    "a.even()"
   ]
  },
  {
   "cell_type": "code",
   "execution_count": 23,
   "id": "149fe846",
   "metadata": {},
   "outputs": [
    {
     "name": "stdout",
     "output_type": "stream",
     "text": [
      "Enter range n :10\n",
      "0,2,4,6,8\n"
     ]
    }
   ],
   "source": [
    "for i in a.even():\n",
    "    print(i)"
   ]
  },
  {
   "cell_type": "markdown",
   "id": "a966e3ee",
   "metadata": {},
   "source": [
    "### Question 3:\n",
    "\n",
    ">The Fibonacci Sequence is computed based on the following formula:\n",
    "\n",
    ">f(n)=0 if n=0\n",
    "\n",
    ">f(n)=1 if n=1\n",
    "\n",
    ">f(n)=f(n-1)+f(n-2) if n>1\n",
    "\n",
    ">Please write a program using list comprehension to print the Fibonacci Sequence in comma separated form with a given n input by console.\n",
    "\n",
    ">Example:\n",
    "\n",
    ">If the following n is given as input to the program:\n",
    "\n",
    ">7\n",
    "\n",
    ">Then, the output of the program should be:\n",
    "\n",
    ">0,1,1,2,3,5,8,13\n",
    "\n"
   ]
  },
  {
   "cell_type": "code",
   "execution_count": 38,
   "id": "04b7b8ae",
   "metadata": {},
   "outputs": [
    {
     "name": "stdout",
     "output_type": "stream",
     "text": [
      "7\n",
      "0,1,1,2,3,5,8,13\n"
     ]
    }
   ],
   "source": [
    "def fibonacci(n):\n",
    "    assert n == int(n) and n>=0 , \"Enter Positive integer\"\n",
    "    if n in (0,1):\n",
    "        return n\n",
    "    else:\n",
    "        return fibonacci(n-1) + fibonacci(n-2)\n",
    "\n",
    "        \n",
    "n=int(input())\n",
    "values = [str(fibonacci(x)) for x in range(0, n+1)]\n",
    "print(\",\".join(values))        "
   ]
  },
  {
   "cell_type": "markdown",
   "id": "f4b99b80",
   "metadata": {},
   "source": [
    "### Question 4:\n",
    "\n",
    ">Assuming that we have some email addresses in the \"username@companyname.com\" format, please write program to print the user name of a given email address. Both user names and company names are composed of letters only.\n",
    "\n",
    ">Example:\n",
    "\n",
    ">If the following email address is given as input to the program:\n",
    "\n",
    ">john@google.com\n",
    "\n",
    ">Then, the output of the program should be:\n",
    "\n",
    ">john\n",
    "\n"
   ]
  },
  {
   "cell_type": "code",
   "execution_count": 39,
   "id": "de7978b4",
   "metadata": {},
   "outputs": [
    {
     "name": "stdout",
     "output_type": "stream",
     "text": [
      "john@google.com\n",
      "john\n"
     ]
    }
   ],
   "source": [
    "import re\n",
    "emailAddress = input()\n",
    "pattern = \"(\\w+)@((\\w+\\.)+(com))\"\n",
    "username = re.match(pattern,emailAddress)\n",
    "print(username.group(1))"
   ]
  },
  {
   "cell_type": "markdown",
   "id": "f2507142",
   "metadata": {},
   "source": [
    "### Question 5:\n",
    "\n",
    ">Define a class named Shape and its subclass Square. The Square class has an init function which takes a length as argument. Both classes have a area function which can print the area of the shape where Shape's area is 0 by default.\n",
    "\n"
   ]
  },
  {
   "cell_type": "code",
   "execution_count": 43,
   "id": "1056e2d4",
   "metadata": {},
   "outputs": [
    {
     "name": "stdout",
     "output_type": "stream",
     "text": [
      "16\n"
     ]
    }
   ],
   "source": [
    "class Shape(object):\n",
    "    def __init__(self):\n",
    "        pass\n",
    "\n",
    "    def area(self):\n",
    "        return 0\n",
    "\n",
    "class Square(Shape):\n",
    "    def __init__(self, l):\n",
    "        Shape.__init__(self)\n",
    "        self.length = l\n",
    "\n",
    "    def area(self):\n",
    "        return self.length*self.length\n",
    "\n",
    "aSquare= Square(4)\n",
    "print(aSquare.area())"
   ]
  }
 ],
 "metadata": {
  "kernelspec": {
   "display_name": "Python [conda env:.conda-gputest] *",
   "language": "python",
   "name": "conda-env-.conda-gputest-py"
  },
  "language_info": {
   "codemirror_mode": {
    "name": "ipython",
    "version": 3
   },
   "file_extension": ".py",
   "mimetype": "text/x-python",
   "name": "python",
   "nbconvert_exporter": "python",
   "pygments_lexer": "ipython3",
   "version": "3.6.12"
  }
 },
 "nbformat": 4,
 "nbformat_minor": 5
}
