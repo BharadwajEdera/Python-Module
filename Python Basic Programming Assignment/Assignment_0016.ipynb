{
 "cells": [
  {
   "cell_type": "markdown",
   "id": "856d2b73",
   "metadata": {},
   "source": [
    "### Question1. \n",
    ">Write a function that stutters a word as if someone is struggling to read it. The first two letters are repeated twice with an ellipsis ... and space after each, and then the word is pronounced with a question mark ?.\n",
    "\n",
    ">Examples\n",
    "\n",
    ">stutter(\"incredible\") ➞ \"in... in... incredible?\"\n",
    "\n",
    ">stutter(\"enthusiastic\") ➞ \"en... en... enthusiastic?\"\n",
    "\n",
    ">stutter(\"outstanding\") ➞ \"ou... ou... outstanding?\"\n",
    "\n",
    ">Hint :- Assume all input is in lower case and at least two characters long.\n",
    "\n"
   ]
  },
  {
   "cell_type": "code",
   "execution_count": 4,
   "id": "f74b0559",
   "metadata": {},
   "outputs": [],
   "source": [
    "def stutter(s):\n",
    "    k = s[0] + s[1] + \"...\"\n",
    "    return k + k + s +\"?\""
   ]
  },
  {
   "cell_type": "code",
   "execution_count": 5,
   "id": "b4ab2757",
   "metadata": {},
   "outputs": [
    {
     "data": {
      "text/plain": [
       "'in...in...incredible?'"
      ]
     },
     "execution_count": 5,
     "metadata": {},
     "output_type": "execute_result"
    }
   ],
   "source": [
    "stutter(\"incredible\")"
   ]
  },
  {
   "cell_type": "code",
   "execution_count": 6,
   "id": "e6347efd",
   "metadata": {},
   "outputs": [
    {
     "data": {
      "text/plain": [
       "'en...en...enthusiastic?'"
      ]
     },
     "execution_count": 6,
     "metadata": {},
     "output_type": "execute_result"
    }
   ],
   "source": [
    "stutter(\"enthusiastic\") "
   ]
  },
  {
   "cell_type": "code",
   "execution_count": 7,
   "id": "077789f0",
   "metadata": {},
   "outputs": [
    {
     "data": {
      "text/plain": [
       "'ou...ou...outstanding?'"
      ]
     },
     "execution_count": 7,
     "metadata": {},
     "output_type": "execute_result"
    }
   ],
   "source": [
    "stutter(\"outstanding\")"
   ]
  },
  {
   "cell_type": "markdown",
   "id": "af43aa65",
   "metadata": {},
   "source": [
    "### Question 2.\n",
    ">Create a function that takes an angle in radians and returns the corresponding angle in degrees rounded to one decimal place.\n",
    "\n",
    ">Examples\n",
    "\n",
    ">radians_to_degrees(1) ➞ 57.3\n",
    "\n",
    ">radians_to_degrees(20) ➞ 1145.9\n",
    "\n",
    ">radians_to_degrees(50) ➞ 2864.8\n",
    "\n",
    "\n"
   ]
  },
  {
   "cell_type": "code",
   "execution_count": 15,
   "id": "d72965ff",
   "metadata": {},
   "outputs": [],
   "source": [
    "def radians_to_degrees(x):\n",
    "    import math\n",
    "    k = x * (180/math.pi)\n",
    "    return round(k,1)"
   ]
  },
  {
   "cell_type": "code",
   "execution_count": 16,
   "id": "43820968",
   "metadata": {},
   "outputs": [
    {
     "data": {
      "text/plain": [
       "57.3"
      ]
     },
     "execution_count": 16,
     "metadata": {},
     "output_type": "execute_result"
    }
   ],
   "source": [
    "radians_to_degrees(1)"
   ]
  },
  {
   "cell_type": "code",
   "execution_count": 17,
   "id": "1ffb6dc1",
   "metadata": {},
   "outputs": [
    {
     "data": {
      "text/plain": [
       "1145.9"
      ]
     },
     "execution_count": 17,
     "metadata": {},
     "output_type": "execute_result"
    }
   ],
   "source": [
    "radians_to_degrees(20)"
   ]
  },
  {
   "cell_type": "code",
   "execution_count": 18,
   "id": "ed2acad1",
   "metadata": {},
   "outputs": [
    {
     "data": {
      "text/plain": [
       "2864.8"
      ]
     },
     "execution_count": 18,
     "metadata": {},
     "output_type": "execute_result"
    }
   ],
   "source": [
    "radians_to_degrees(50)"
   ]
  },
  {
   "cell_type": "markdown",
   "id": "879b65b2",
   "metadata": {},
   "source": [
    "### Question 3. \n",
    "\n",
    ">In this challenge, establish if a given integer num is a Curzon number. If 1 plus 2 elevated to num is exactly divisible by 1 plus 2 multiplied by num, then num is a Curzon number.\n",
    "Given a non-negative integer num, implement a function that returns True if num is a Curzon number, or False otherwise.\n",
    "\n",
    ">Examples\n",
    "\n",
    ">is_curzon(5) ➞ True\n",
    "\n",
    "> 2 ** 5 + 1 = 33\n",
    "\n",
    "> 2 * 5 + 1 = 11\n",
    "\n",
    ">33 is a multiple of 11\n",
    "\n",
    ">is_curzon(10) ➞ False\n",
    "\n",
    ">2 ** 10 + 1 = 1025\n",
    "\n",
    ">2 * 10 + 1 = 21\n",
    "\n",
    ">1025 is not a multiple of 21\n",
    "\n",
    ">is_curzon(14) ➞ True\n",
    "\n",
    ">2 ** 14 + 1 = 16385\n",
    "\n",
    ">2 * 14 + 1 = 29\n",
    "\n",
    ">16385 is a multiple of 29\n",
    "\n"
   ]
  },
  {
   "cell_type": "code",
   "execution_count": 25,
   "id": "eb8ffd67",
   "metadata": {},
   "outputs": [],
   "source": [
    "def is_curzon(x):\n",
    "    p = 2 ** x + 1\n",
    "    q = 2 * x + 1\n",
    "    if p % q == 0:\n",
    "        print(\"True\")\n",
    "        print(\"2 ** {} + 1 = {} \".format(x,p))\n",
    "        print(\"2 * {} + 1 = {} \".format(x,q))\n",
    "        print(\"{} is a multiple of {} \".format(p,q))\n",
    "    else:\n",
    "        print(\"False\")\n",
    "        print(\"2 ** {} + 1 = {} \".format(x,p))\n",
    "        print(\"2 * {} + 1 = {} \".format(x,q))\n",
    "        print(\"{} is not a multiple of {} \".format(p,q))\n",
    "        \n",
    "        "
   ]
  },
  {
   "cell_type": "code",
   "execution_count": 26,
   "id": "dc179e6f",
   "metadata": {},
   "outputs": [
    {
     "name": "stdout",
     "output_type": "stream",
     "text": [
      "True\n",
      "2 ** 5 + 1 = 33 \n",
      "2 * 5 + 1 = 11 \n",
      "33 is a multiple of 11 \n"
     ]
    }
   ],
   "source": [
    "is_curzon(5)"
   ]
  },
  {
   "cell_type": "code",
   "execution_count": 27,
   "id": "8c2fc1d3",
   "metadata": {},
   "outputs": [
    {
     "name": "stdout",
     "output_type": "stream",
     "text": [
      "False\n",
      "2 ** 10 + 1 = 1025 \n",
      "2 * 10 + 1 = 21 \n",
      "1025 is not a multiple of 21 \n"
     ]
    }
   ],
   "source": [
    "is_curzon(10)"
   ]
  },
  {
   "cell_type": "code",
   "execution_count": 28,
   "id": "7b5a9dd3",
   "metadata": {},
   "outputs": [
    {
     "name": "stdout",
     "output_type": "stream",
     "text": [
      "True\n",
      "2 ** 14 + 1 = 16385 \n",
      "2 * 14 + 1 = 29 \n",
      "16385 is a multiple of 29 \n"
     ]
    }
   ],
   "source": [
    "is_curzon(14)"
   ]
  },
  {
   "cell_type": "code",
   "execution_count": null,
   "id": "f3638f32",
   "metadata": {},
   "outputs": [],
   "source": []
  },
  {
   "cell_type": "markdown",
   "id": "b7cd8a86",
   "metadata": {},
   "source": [
    "### Question 4.\n",
    ">Given the side length x find the area of a hexagon.\n",
    " \n",
    ">Examples\n",
    "\n",
    ">area_of_hexagon(1) ➞ 2.6\n",
    "\n",
    ">area_of_hexagon(2) ➞ 10.4\n",
    "\n",
    ">area_of_hexagon(3) ➞ 23.4\n",
    "\n",
    "\n",
    "\n",
    "\n",
    "\n",
    "\n",
    "\n",
    "\n"
   ]
  },
  {
   "cell_type": "code",
   "execution_count": 31,
   "id": "c4f82843",
   "metadata": {},
   "outputs": [],
   "source": [
    "def area_of_hexagon(x):\n",
    "    import numpy as np\n",
    "    area = (3 * np.sqrt(3)/2) * (x ** 2)\n",
    "    return round(area , 1)"
   ]
  },
  {
   "cell_type": "code",
   "execution_count": 32,
   "id": "ee173ba1",
   "metadata": {},
   "outputs": [
    {
     "data": {
      "text/plain": [
       "2.6"
      ]
     },
     "execution_count": 32,
     "metadata": {},
     "output_type": "execute_result"
    }
   ],
   "source": [
    "area_of_hexagon(1)"
   ]
  },
  {
   "cell_type": "code",
   "execution_count": 33,
   "id": "05e7dfdf",
   "metadata": {},
   "outputs": [
    {
     "data": {
      "text/plain": [
       "10.4"
      ]
     },
     "execution_count": 33,
     "metadata": {},
     "output_type": "execute_result"
    }
   ],
   "source": [
    "area_of_hexagon(2)"
   ]
  },
  {
   "cell_type": "code",
   "execution_count": 34,
   "id": "97ca64bb",
   "metadata": {},
   "outputs": [
    {
     "data": {
      "text/plain": [
       "23.4"
      ]
     },
     "execution_count": 34,
     "metadata": {},
     "output_type": "execute_result"
    }
   ],
   "source": [
    "area_of_hexagon(3)"
   ]
  },
  {
   "cell_type": "markdown",
   "id": "a7e8a2e8",
   "metadata": {},
   "source": [
    "### Question 5. \n",
    ">Create a function that returns a base-2 (binary) representation of a base-10 (decimal) string number. To convert is simple: ((2) means base-2 and (10) means base-10) 010101001(2) = 1 + 8 + 32 + 128.\n",
    "Going from right to left, the value of the most right bit is 1, now from that every bit to the left will be x2 the value, value of an 8 bit binary numbers are (256, 128, 64, 32, 16, 8, 4, 2, 1).\n",
    "\n",
    ">Examples\n",
    "\n",
    ">binary(1) ➞ \"1\"\n",
    "\n",
    ">1*1 = 1\n",
    "\n",
    ">binary(5) ➞ \"101\"\n",
    "\n",
    ">1*1 + 1*4 = 5\n",
    "\n",
    ">binary(10) ➞ \"1010\"\n",
    "\n",
    ">1*2 + 1*8 = 10"
   ]
  },
  {
   "cell_type": "code",
   "execution_count": 72,
   "id": "e7b939c9",
   "metadata": {},
   "outputs": [],
   "source": [
    "def binary(x):\n",
    "    s = \"\"\n",
    "    while x != 0:\n",
    "        k = x // 2\n",
    "        p = x % 2\n",
    "        x = k\n",
    "        s += str(p)\n",
    "    return s[::-1]"
   ]
  },
  {
   "cell_type": "code",
   "execution_count": 73,
   "id": "415b6447",
   "metadata": {},
   "outputs": [
    {
     "data": {
      "text/plain": [
       "'1'"
      ]
     },
     "execution_count": 73,
     "metadata": {},
     "output_type": "execute_result"
    }
   ],
   "source": [
    "binary(1)"
   ]
  },
  {
   "cell_type": "code",
   "execution_count": 74,
   "id": "02f782f4",
   "metadata": {},
   "outputs": [
    {
     "data": {
      "text/plain": [
       "'101'"
      ]
     },
     "execution_count": 74,
     "metadata": {},
     "output_type": "execute_result"
    }
   ],
   "source": [
    "binary(5)"
   ]
  },
  {
   "cell_type": "code",
   "execution_count": 75,
   "id": "29316b20",
   "metadata": {},
   "outputs": [
    {
     "data": {
      "text/plain": [
       "'1010'"
      ]
     },
     "execution_count": 75,
     "metadata": {},
     "output_type": "execute_result"
    }
   ],
   "source": [
    "binary(10)"
   ]
  }
 ],
 "metadata": {
  "kernelspec": {
   "display_name": "Python [conda env:.conda-gputest] *",
   "language": "python",
   "name": "conda-env-.conda-gputest-py"
  },
  "language_info": {
   "codemirror_mode": {
    "name": "ipython",
    "version": 3
   },
   "file_extension": ".py",
   "mimetype": "text/x-python",
   "name": "python",
   "nbconvert_exporter": "python",
   "pygments_lexer": "ipython3",
   "version": "3.6.12"
  }
 },
 "nbformat": 4,
 "nbformat_minor": 5
}
