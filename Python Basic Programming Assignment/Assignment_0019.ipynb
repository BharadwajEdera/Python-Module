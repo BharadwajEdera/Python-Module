{
 "cells": [
  {
   "cell_type": "markdown",
   "id": "9bdd4eb6",
   "metadata": {},
   "source": [
    "### Question1\n",
    ">Create a function that takes a string and returns a string in which each character is repeated once.\n",
    "\n",
    ">Examples\n",
    "\n",
    ">double_char(\"String\") ➞ \"SSttrriinngg\"\n",
    "\n",
    ">double_char(\"Hello World!\") ➞ \"HHeelllloo  WWoorrlldd!!\"\n",
    "\n",
    ">double_char(\"1234!_ \") ➞ \"11223344!!__  \"\n",
    "\n"
   ]
  },
  {
   "cell_type": "code",
   "execution_count": 3,
   "id": "64fa4c91",
   "metadata": {},
   "outputs": [],
   "source": [
    "def double_char(s):\n",
    "    a= \"\"\n",
    "    for i in range(len(s)):\n",
    "        a += 2*s[i]\n",
    "    return a"
   ]
  },
  {
   "cell_type": "code",
   "execution_count": 4,
   "id": "f4e6f878",
   "metadata": {},
   "outputs": [
    {
     "data": {
      "text/plain": [
       "'SSttrriinngg'"
      ]
     },
     "execution_count": 4,
     "metadata": {},
     "output_type": "execute_result"
    }
   ],
   "source": [
    "double_char(\"String\")"
   ]
  },
  {
   "cell_type": "code",
   "execution_count": 5,
   "id": "488540ad",
   "metadata": {},
   "outputs": [
    {
     "data": {
      "text/plain": [
       "'HHeelllloo  WWoorrlldd!!'"
      ]
     },
     "execution_count": 5,
     "metadata": {},
     "output_type": "execute_result"
    }
   ],
   "source": [
    "double_char(\"Hello World!\")"
   ]
  },
  {
   "cell_type": "code",
   "execution_count": 6,
   "id": "0b9ac95b",
   "metadata": {},
   "outputs": [
    {
     "data": {
      "text/plain": [
       "'11223344!!__  '"
      ]
     },
     "execution_count": 6,
     "metadata": {},
     "output_type": "execute_result"
    }
   ],
   "source": [
    "double_char(\"1234!_ \")"
   ]
  },
  {
   "cell_type": "markdown",
   "id": "55d58c53",
   "metadata": {},
   "source": [
    "### Question2\n",
    ">Create a function that reverses a boolean value and returns the string \"boolean expected\" if another variable type is given.\n",
    "\n",
    ">Examples\n",
    "\n",
    ">reverse(True) ➞ False\n",
    "\n",
    ">reverse(False) ➞ True\n",
    "\n",
    ">reverse(0) ➞ \"boolean expected\"\n",
    "\n",
    ">reverse(None) ➞ \"boolean expected\"\n",
    "\n"
   ]
  },
  {
   "cell_type": "code",
   "execution_count": 38,
   "id": "d510b79d",
   "metadata": {},
   "outputs": [],
   "source": [
    "def reverse(boolean):\n",
    "    if boolean in (True,False):\n",
    "        return not boolean\n",
    "    else:\n",
    "        return \"boolean expected\""
   ]
  },
  {
   "cell_type": "code",
   "execution_count": 39,
   "id": "b14c8bad",
   "metadata": {},
   "outputs": [
    {
     "data": {
      "text/plain": [
       "False"
      ]
     },
     "execution_count": 39,
     "metadata": {},
     "output_type": "execute_result"
    }
   ],
   "source": [
    "reverse(True)"
   ]
  },
  {
   "cell_type": "code",
   "execution_count": 40,
   "id": "7db53299",
   "metadata": {},
   "outputs": [
    {
     "data": {
      "text/plain": [
       "True"
      ]
     },
     "execution_count": 40,
     "metadata": {},
     "output_type": "execute_result"
    }
   ],
   "source": [
    "reverse(False) "
   ]
  },
  {
   "cell_type": "code",
   "execution_count": 44,
   "id": "38316920",
   "metadata": {},
   "outputs": [
    {
     "data": {
      "text/plain": [
       "True"
      ]
     },
     "execution_count": 44,
     "metadata": {},
     "output_type": "execute_result"
    }
   ],
   "source": [
    "reverse(0)"
   ]
  },
  {
   "cell_type": "code",
   "execution_count": 42,
   "id": "14c56fa0",
   "metadata": {},
   "outputs": [
    {
     "data": {
      "text/plain": [
       "'boolean expected'"
      ]
     },
     "execution_count": 42,
     "metadata": {},
     "output_type": "execute_result"
    }
   ],
   "source": [
    "reverse(None)"
   ]
  },
  {
   "cell_type": "code",
   "execution_count": null,
   "id": "56157d84",
   "metadata": {},
   "outputs": [],
   "source": []
  },
  {
   "cell_type": "markdown",
   "id": "b2311c90",
   "metadata": {},
   "source": [
    "### Question3\n",
    ">Create a function that returns the thickness (in meters) of a piece of paper after folding it n number of times. The paper starts off with a thickness of 0.5mm.\n",
    "\n",
    ">Examples\n",
    "\n",
    ">num_layers(1) ➞ \"0.001m\"\n",
    "\n",
    ">Paper folded once is 1mm (equal to 0.001m)\n",
    "\n",
    ">num_layers(4) ➞ \"0.008m\"\n",
    "\n",
    ">Paper folded 4 times is 8mm (equal to 0.008m)\n",
    "\n",
    ">num_layers(21) ➞ \"1048.576m\"\n",
    "\n",
    ">Paper folded 21 times is 1048576mm (equal to 1048.576m)\n",
    "\n",
    "\n"
   ]
  },
  {
   "cell_type": "code",
   "execution_count": 65,
   "id": "583e66d5",
   "metadata": {},
   "outputs": [],
   "source": [
    "def num_layers(a):\n",
    "    res = 0.5\n",
    "    for _ in range(a):\n",
    "        res *= 2\n",
    "    return res / 1000"
   ]
  },
  {
   "cell_type": "code",
   "execution_count": 66,
   "id": "ecb32300",
   "metadata": {},
   "outputs": [
    {
     "data": {
      "text/plain": [
       "0.001"
      ]
     },
     "execution_count": 66,
     "metadata": {},
     "output_type": "execute_result"
    }
   ],
   "source": [
    "num_layers(1) "
   ]
  },
  {
   "cell_type": "code",
   "execution_count": 67,
   "id": "d1114c56",
   "metadata": {},
   "outputs": [
    {
     "data": {
      "text/plain": [
       "0.008"
      ]
     },
     "execution_count": 67,
     "metadata": {},
     "output_type": "execute_result"
    }
   ],
   "source": [
    "num_layers(4) "
   ]
  },
  {
   "cell_type": "code",
   "execution_count": 68,
   "id": "fefce119",
   "metadata": {},
   "outputs": [
    {
     "data": {
      "text/plain": [
       "1048.576"
      ]
     },
     "execution_count": 68,
     "metadata": {},
     "output_type": "execute_result"
    }
   ],
   "source": [
    "num_layers(21)"
   ]
  },
  {
   "cell_type": "markdown",
   "id": "2297cb28",
   "metadata": {},
   "source": [
    "### Question4\n",
    ">Create a function that takes a single string as argument and returns an ordered list containing the indices of all capital letters in the string.\n",
    "\n",
    ">Examples\n",
    "\n",
    ">index_of_caps(\"eDaBiT\") ➞ [1, 3, 5]\n",
    "\n",
    ">index_of_caps(\"eQuINoX\") ➞ [1, 3, 4, 6]\n",
    "\n",
    ">index_of_caps(\"determine\") ➞ []\n",
    "\n",
    ">index_of_caps(\"STRIKE\") ➞ [0, 1, 2, 3, 4, 5]\n",
    "\n",
    ">index_of_caps(\"sUn\") ➞ [1]\n",
    "\n"
   ]
  },
  {
   "cell_type": "code",
   "execution_count": 75,
   "id": "e1e42d26",
   "metadata": {},
   "outputs": [],
   "source": [
    "def index_of_caps(s):\n",
    "    l = [i for i in range(len(s)) if s[i].isupper() ]\n",
    "    return l\n",
    "        "
   ]
  },
  {
   "cell_type": "code",
   "execution_count": 76,
   "id": "35fd5f94",
   "metadata": {},
   "outputs": [
    {
     "data": {
      "text/plain": [
       "[1, 3, 5]"
      ]
     },
     "execution_count": 76,
     "metadata": {},
     "output_type": "execute_result"
    }
   ],
   "source": [
    "index_of_caps(\"eDaBiT\")"
   ]
  },
  {
   "cell_type": "code",
   "execution_count": 77,
   "id": "83d077f2",
   "metadata": {},
   "outputs": [
    {
     "data": {
      "text/plain": [
       "[1, 3, 4, 6]"
      ]
     },
     "execution_count": 77,
     "metadata": {},
     "output_type": "execute_result"
    }
   ],
   "source": [
    "index_of_caps(\"eQuINoX\")"
   ]
  },
  {
   "cell_type": "code",
   "execution_count": 78,
   "id": "e08fd729",
   "metadata": {},
   "outputs": [
    {
     "data": {
      "text/plain": [
       "[]"
      ]
     },
     "execution_count": 78,
     "metadata": {},
     "output_type": "execute_result"
    }
   ],
   "source": [
    "index_of_caps(\"determine\")"
   ]
  },
  {
   "cell_type": "code",
   "execution_count": 79,
   "id": "de801765",
   "metadata": {},
   "outputs": [
    {
     "data": {
      "text/plain": [
       "[0, 1, 2, 3, 4, 5]"
      ]
     },
     "execution_count": 79,
     "metadata": {},
     "output_type": "execute_result"
    }
   ],
   "source": [
    "index_of_caps(\"STRIKE\")"
   ]
  },
  {
   "cell_type": "code",
   "execution_count": 80,
   "id": "7791ace1",
   "metadata": {},
   "outputs": [
    {
     "data": {
      "text/plain": [
       "[1]"
      ]
     },
     "execution_count": 80,
     "metadata": {},
     "output_type": "execute_result"
    }
   ],
   "source": [
    "index_of_caps(\"sUn\")"
   ]
  },
  {
   "cell_type": "markdown",
   "id": "64543ee3",
   "metadata": {},
   "source": [
    "### Question5\n",
    "> Using list comprehensions, create a function that finds all even numbers from 1 to the given number.\n",
    "\n",
    ">Examples\n",
    "\n",
    ">find_even_nums(8) ➞ [2, 4, 6, 8]\n",
    "\n",
    ">find_even_nums(4) ➞ [2, 4]\n",
    "\n",
    ">find_even_nums(2) ➞ [2]\n",
    "\n",
    "\n"
   ]
  },
  {
   "cell_type": "code",
   "execution_count": 90,
   "id": "939c185a",
   "metadata": {},
   "outputs": [],
   "source": [
    "def find_even_nums(n):\n",
    "    l = [i for i in range(1,n+1) if i % 2 == 0]\n",
    "    return l"
   ]
  },
  {
   "cell_type": "code",
   "execution_count": 91,
   "id": "af566eef",
   "metadata": {},
   "outputs": [
    {
     "data": {
      "text/plain": [
       "[2, 4, 6, 8]"
      ]
     },
     "execution_count": 91,
     "metadata": {},
     "output_type": "execute_result"
    }
   ],
   "source": [
    "find_even_nums(8)"
   ]
  },
  {
   "cell_type": "code",
   "execution_count": 92,
   "id": "0740336d",
   "metadata": {},
   "outputs": [
    {
     "data": {
      "text/plain": [
       "[2, 4]"
      ]
     },
     "execution_count": 92,
     "metadata": {},
     "output_type": "execute_result"
    }
   ],
   "source": [
    "find_even_nums(4)"
   ]
  },
  {
   "cell_type": "code",
   "execution_count": 93,
   "id": "0d6f1eb4",
   "metadata": {},
   "outputs": [
    {
     "data": {
      "text/plain": [
       "[2]"
      ]
     },
     "execution_count": 93,
     "metadata": {},
     "output_type": "execute_result"
    }
   ],
   "source": [
    "find_even_nums(2)"
   ]
  }
 ],
 "metadata": {
  "kernelspec": {
   "display_name": "Python [conda env:.conda-gputest] *",
   "language": "python",
   "name": "conda-env-.conda-gputest-py"
  },
  "language_info": {
   "codemirror_mode": {
    "name": "ipython",
    "version": 3
   },
   "file_extension": ".py",
   "mimetype": "text/x-python",
   "name": "python",
   "nbconvert_exporter": "python",
   "pygments_lexer": "ipython3",
   "version": "3.6.12"
  }
 },
 "nbformat": 4,
 "nbformat_minor": 5
}
