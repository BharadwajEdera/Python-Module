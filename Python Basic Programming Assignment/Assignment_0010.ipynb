{
 "cells": [
  {
   "cell_type": "markdown",
   "id": "precious-simon",
   "metadata": {},
   "source": [
    "### 1. Write a Python program to find sum of elements in list?\n"
   ]
  },
  {
   "cell_type": "code",
   "execution_count": 6,
   "id": "medium-travel",
   "metadata": {},
   "outputs": [],
   "source": [
    "def SumofList(l):\n",
    "    s = 0\n",
    "    for i in range(len(l)):\n",
    "        s += l[i]\n",
    "    return s"
   ]
  },
  {
   "cell_type": "code",
   "execution_count": 7,
   "id": "fifth-keeping",
   "metadata": {},
   "outputs": [
    {
     "data": {
      "text/plain": [
       "21"
      ]
     },
     "execution_count": 7,
     "metadata": {},
     "output_type": "execute_result"
    }
   ],
   "source": [
    "l = [1,2,3,4,5,6]\n",
    "SumofList(l)"
   ]
  },
  {
   "cell_type": "code",
   "execution_count": 11,
   "id": "ideal-study",
   "metadata": {},
   "outputs": [],
   "source": [
    "def SumofList1(l):\n",
    "    import numpy as np\n",
    "    s = np.array(l)\n",
    "    return np.sum(s)"
   ]
  },
  {
   "cell_type": "code",
   "execution_count": 12,
   "id": "outstanding-disability",
   "metadata": {},
   "outputs": [
    {
     "data": {
      "text/plain": [
       "21"
      ]
     },
     "execution_count": 12,
     "metadata": {},
     "output_type": "execute_result"
    }
   ],
   "source": [
    "l = [1,2,3,4,5,6]\n",
    "SumofList1(l)"
   ]
  },
  {
   "cell_type": "markdown",
   "id": "disturbed-scheme",
   "metadata": {},
   "source": [
    "### 2. Write a Python program to Multiply all numbers in the list?\n"
   ]
  },
  {
   "cell_type": "code",
   "execution_count": 13,
   "id": "intensive-engagement",
   "metadata": {},
   "outputs": [],
   "source": [
    "def MulipicationofListElements(l):\n",
    "    s = 1\n",
    "    for i in range(len(l)):\n",
    "        s *= l[i]\n",
    "    return s"
   ]
  },
  {
   "cell_type": "code",
   "execution_count": 14,
   "id": "tight-palestine",
   "metadata": {},
   "outputs": [
    {
     "data": {
      "text/plain": [
       "720"
      ]
     },
     "execution_count": 14,
     "metadata": {},
     "output_type": "execute_result"
    }
   ],
   "source": [
    "l = [1,2,3,4,5,6]\n",
    "MulipicationofListElements(l)"
   ]
  },
  {
   "cell_type": "markdown",
   "id": "pediatric-stage",
   "metadata": {},
   "source": [
    "### 3. Write a Python program to find smallest number in a list?\n"
   ]
  },
  {
   "cell_type": "code",
   "execution_count": 15,
   "id": "fiscal-remedy",
   "metadata": {},
   "outputs": [],
   "source": [
    "def SmallestinList(l):\n",
    "    min = l[0]\n",
    "    for i in range(len(l)-1):\n",
    "        if min > l[i+1] :\n",
    "            min = l[i+1]\n",
    "    return min"
   ]
  },
  {
   "cell_type": "code",
   "execution_count": 18,
   "id": "intellectual-spectacular",
   "metadata": {},
   "outputs": [
    {
     "data": {
      "text/plain": [
       "1"
      ]
     },
     "execution_count": 18,
     "metadata": {},
     "output_type": "execute_result"
    }
   ],
   "source": [
    "l = [2,2,3,1,5,6]\n",
    "SmallestinList(l)"
   ]
  },
  {
   "cell_type": "markdown",
   "id": "coated-garbage",
   "metadata": {},
   "source": [
    "### 4. Write a Python program to find largest number in a list?\n"
   ]
  },
  {
   "cell_type": "code",
   "execution_count": 22,
   "id": "faced-corruption",
   "metadata": {},
   "outputs": [],
   "source": [
    "def LargestinList(l):\n",
    "    max = l[0]\n",
    "    for i in range(len(l)-1):\n",
    "        if max < l[i+1] :\n",
    "            max = l[i+1]\n",
    "    return max"
   ]
  },
  {
   "cell_type": "code",
   "execution_count": 23,
   "id": "chronic-consensus",
   "metadata": {},
   "outputs": [
    {
     "data": {
      "text/plain": [
       "100"
      ]
     },
     "execution_count": 23,
     "metadata": {},
     "output_type": "execute_result"
    }
   ],
   "source": [
    "l = [2,2,3,100,5,6]\n",
    "LargestinList(l)"
   ]
  },
  {
   "cell_type": "markdown",
   "id": "other-financing",
   "metadata": {},
   "source": [
    "### 5. Write a Python program to find second largest number in a list?\n"
   ]
  },
  {
   "cell_type": "code",
   "execution_count": 71,
   "id": "nutritional-rhythm",
   "metadata": {},
   "outputs": [],
   "source": [
    "def secondLargestinList(l):\n",
    "    l.sort()\n",
    "    return l[-2]"
   ]
  },
  {
   "cell_type": "code",
   "execution_count": 72,
   "id": "domestic-integrity",
   "metadata": {},
   "outputs": [
    {
     "data": {
      "text/plain": [
       "99"
      ]
     },
     "execution_count": 72,
     "metadata": {},
     "output_type": "execute_result"
    }
   ],
   "source": [
    "l = [2,2,3,100,5,6,99]\n",
    "secondLargestinList(l)"
   ]
  },
  {
   "cell_type": "markdown",
   "id": "dietary-baseline",
   "metadata": {},
   "source": [
    "### 6. Write a Python program to find N largest elements from a list?\n"
   ]
  },
  {
   "cell_type": "code",
   "execution_count": 81,
   "id": "portuguese-legislature",
   "metadata": {},
   "outputs": [],
   "source": [
    "def NLargestinList(l,N):\n",
    "    l.sort()\n",
    "    k = []\n",
    "    k = l[::-1]\n",
    "    return k[:N]"
   ]
  },
  {
   "cell_type": "code",
   "execution_count": 82,
   "id": "surprised-surname",
   "metadata": {},
   "outputs": [
    {
     "data": {
      "text/plain": [
       "[600, 500, 300]"
      ]
     },
     "execution_count": 82,
     "metadata": {},
     "output_type": "execute_result"
    }
   ],
   "source": [
    "l = [2,2,3,100,5,6,250,300,500,600]\n",
    "NLargestinList(l,3)"
   ]
  },
  {
   "cell_type": "markdown",
   "id": "institutional-stress",
   "metadata": {},
   "source": [
    "### 7. Write a Python program to print even numbers in a list?\n"
   ]
  },
  {
   "cell_type": "code",
   "execution_count": 83,
   "id": "rising-victim",
   "metadata": {},
   "outputs": [],
   "source": [
    "def EveninList(l):\n",
    "    e = []\n",
    "    for i in range(len(l)):\n",
    "        if l[i]%2 == 0:\n",
    "            e.append(l[i])\n",
    "    return e"
   ]
  },
  {
   "cell_type": "code",
   "execution_count": 86,
   "id": "documented-expression",
   "metadata": {},
   "outputs": [
    {
     "data": {
      "text/plain": [
       "[2, 2, 100, 6, 250, 300, 500, 600]"
      ]
     },
     "execution_count": 86,
     "metadata": {},
     "output_type": "execute_result"
    }
   ],
   "source": [
    "\n",
    "l = [2,2,3,100,53,25,153,257,451,6,250,300,500,600]\n",
    "EveninList(l)"
   ]
  },
  {
   "cell_type": "markdown",
   "id": "sufficient-hormone",
   "metadata": {},
   "source": [
    "### 8. Write a Python program to print odd numbers in a List?\n"
   ]
  },
  {
   "cell_type": "code",
   "execution_count": 88,
   "id": "extensive-biotechnology",
   "metadata": {},
   "outputs": [],
   "source": [
    "def OddinList(l):\n",
    "    e = []\n",
    "    for i in range(len(l)):\n",
    "        if l[i]%2 != 0:\n",
    "            e.append(l[i])\n",
    "    return e"
   ]
  },
  {
   "cell_type": "code",
   "execution_count": 89,
   "id": "final-paradise",
   "metadata": {},
   "outputs": [
    {
     "data": {
      "text/plain": [
       "[3, 53, 25, 153, 257, 451]"
      ]
     },
     "execution_count": 89,
     "metadata": {},
     "output_type": "execute_result"
    }
   ],
   "source": [
    "l = [2,2,3,100,53,25,153,257,451,6,250,300,500,600]\n",
    "OddinList(l)"
   ]
  },
  {
   "cell_type": "markdown",
   "id": "indian-seeking",
   "metadata": {},
   "source": [
    "### 9. Write a Python program to Remove empty List from List?\n"
   ]
  },
  {
   "cell_type": "code",
   "execution_count": 95,
   "id": "elementary-norman",
   "metadata": {},
   "outputs": [],
   "source": [
    "def RemoveEmptyList(l):\n",
    "    l = [i for i in l if i!=[]]\n",
    "    return l\n",
    "        "
   ]
  },
  {
   "cell_type": "code",
   "execution_count": 96,
   "id": "spectacular-sender",
   "metadata": {},
   "outputs": [
    {
     "data": {
      "text/plain": [
       "[100, 53, [25, 153, 257, 451, 6], 250, 300, 500, 600]"
      ]
     },
     "execution_count": 96,
     "metadata": {},
     "output_type": "execute_result"
    }
   ],
   "source": [
    "l = [[],100,53,[25,153,257,451,6],250,300,500,[],600]\n",
    "RemoveEmptyList(l)"
   ]
  },
  {
   "cell_type": "markdown",
   "id": "affiliated-sleeping",
   "metadata": {},
   "source": [
    "### 10. Write a Python program to Cloning or Copying a list?\n"
   ]
  },
  {
   "cell_type": "code",
   "execution_count": 100,
   "id": "complicated-hearing",
   "metadata": {},
   "outputs": [
    {
     "name": "stdout",
     "output_type": "stream",
     "text": [
      "Original List: [3, 4, 2, 7, 78, 34, 56]\n",
      "After Cloning: [3, 4, 2, 7, 78, 34, 56]\n"
     ]
    }
   ],
   "source": [
    "def Cloning(l):\n",
    "    l_copy = l\n",
    "    return l_copy\n",
    "    \n",
    "l = [3,4,2,7,78,34,56]\n",
    "\n",
    "print(\"Original List:\", l)\n",
    "print(\"After Cloning:\", Cloning(l))"
   ]
  },
  {
   "cell_type": "code",
   "execution_count": null,
   "id": "transparent-boulder",
   "metadata": {},
   "outputs": [],
   "source": []
  },
  {
   "cell_type": "markdown",
   "id": "secret-working",
   "metadata": {},
   "source": [
    "### 11. Write a Python program to Count occurrences of an element in a list?"
   ]
  },
  {
   "cell_type": "code",
   "execution_count": 115,
   "id": "young-cursor",
   "metadata": {},
   "outputs": [],
   "source": [
    "def count(l,n):\n",
    "    if n in l:\n",
    "        return \"Found {} at '{}' positions in {}\".format(n,l.count(n),l)\n",
    "    else:\n",
    "        print(\"{} is not in List : {}\".format(n,l))"
   ]
  },
  {
   "cell_type": "code",
   "execution_count": 116,
   "id": "celtic-tunnel",
   "metadata": {},
   "outputs": [
    {
     "data": {
      "text/plain": [
       "\"Found 7 at '5' positions in [3, 4, 2, 7, 7, 78, 7, 7, 7, 34, 56, 56, 56, 34]\""
      ]
     },
     "execution_count": 116,
     "metadata": {},
     "output_type": "execute_result"
    }
   ],
   "source": [
    "l = [3,4,2,7,7,78,7,7,7,34,56,56,56,34]\n",
    "count(l,7)"
   ]
  },
  {
   "cell_type": "code",
   "execution_count": 117,
   "id": "assured-heater",
   "metadata": {},
   "outputs": [
    {
     "name": "stdout",
     "output_type": "stream",
     "text": [
      "9 is not in List : [3, 4, 2, 7, 7, 78, 7, 7, 7, 34, 56, 56, 56, 34]\n"
     ]
    }
   ],
   "source": [
    "count(l,9)"
   ]
  },
  {
   "cell_type": "code",
   "execution_count": null,
   "id": "swedish-deficit",
   "metadata": {},
   "outputs": [],
   "source": []
  }
 ],
 "metadata": {
  "kernelspec": {
   "display_name": "Python [conda env:.conda-gputest] *",
   "language": "python",
   "name": "conda-env-.conda-gputest-py"
  },
  "language_info": {
   "codemirror_mode": {
    "name": "ipython",
    "version": 3
   },
   "file_extension": ".py",
   "mimetype": "text/x-python",
   "name": "python",
   "nbconvert_exporter": "python",
   "pygments_lexer": "ipython3",
   "version": "3.6.12"
  }
 },
 "nbformat": 4,
 "nbformat_minor": 5
}
