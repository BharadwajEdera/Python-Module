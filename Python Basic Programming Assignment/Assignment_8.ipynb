{
 "cells": [
  {
   "cell_type": "code",
   "execution_count": 2,
   "id": "surrounded-consultancy",
   "metadata": {},
   "outputs": [],
   "source": [
    "import numpy as np"
   ]
  },
  {
   "cell_type": "markdown",
   "id": "rocky-space",
   "metadata": {},
   "source": [
    "### 1. Write a Python Program to Add Two Matrices?"
   ]
  },
  {
   "cell_type": "code",
   "execution_count": 11,
   "id": "improved-bermuda",
   "metadata": {},
   "outputs": [
    {
     "data": {
      "text/plain": [
       "array([[10, 10, 10],\n",
       "       [ 8, 10, 12],\n",
       "       [ 8, 10, 12]])"
      ]
     },
     "execution_count": 11,
     "metadata": {},
     "output_type": "execute_result"
    }
   ],
   "source": [
    "a = np.array([[1,2,3],\n",
    "              [4,5,6],\n",
    "              [7,8,9]])\n",
    "b = np.array([[9,8,7],\n",
    "              [4,5,6],\n",
    "              [1,2,3]])\n",
    "a+b"
   ]
  },
  {
   "cell_type": "code",
   "execution_count": 43,
   "id": "transsexual-saturn",
   "metadata": {},
   "outputs": [
    {
     "data": {
      "text/plain": [
       "array([[10, 10, 10],\n",
       "       [ 8, 10, 12],\n",
       "       [ 8, 10, 12]])"
      ]
     },
     "execution_count": 43,
     "metadata": {},
     "output_type": "execute_result"
    }
   ],
   "source": [
    "def addMatrices(a,b):\n",
    "    c = []\n",
    "    assert a.shape == b.shape, \"\"\"Please Enter matrices of Same size , \n",
    "    Two matrices Should have equal Number of Rows and Columns inorder to be added\"\n",
    "\"\"\"    \n",
    "    for i in range(len(a)):\n",
    "        for j in range(len(a[1])):\n",
    "            c.append(a[i][j]+b[i][j])\n",
    "    n = np.array(c)\n",
    "    return n.reshape(a.shape)\n",
    "    \n",
    "a = np.array([[1,2,3],\n",
    "              [4,5,6],\n",
    "              [7,8,9]])\n",
    "b = np.array([[9,8,7],\n",
    "              [4,5,6],\n",
    "              [1,2,3]])\n",
    "addMatrices(a,b)"
   ]
  },
  {
   "cell_type": "code",
   "execution_count": 44,
   "id": "metropolitan-central",
   "metadata": {},
   "outputs": [
    {
     "ename": "AssertionError",
     "evalue": "Please Enter matrices of Same size , \n    Two matrices Should have equal Number of Rows and Columns inorder to be added\"\n",
     "output_type": "error",
     "traceback": [
      "\u001b[1;31m---------------------------------------------------------------------------\u001b[0m",
      "\u001b[1;31mAssertionError\u001b[0m                            Traceback (most recent call last)",
      "\u001b[1;32m<ipython-input-44-00b8a07d734e>\u001b[0m in \u001b[0;36m<module>\u001b[1;34m\u001b[0m\n\u001b[0;32m      6\u001b[0m               \u001b[1;33m[\u001b[0m\u001b[1;36m1\u001b[0m\u001b[1;33m,\u001b[0m\u001b[1;36m2\u001b[0m\u001b[1;33m,\u001b[0m\u001b[1;36m3\u001b[0m\u001b[1;33m]\u001b[0m\u001b[1;33m,\u001b[0m\u001b[1;33m\u001b[0m\u001b[1;33m\u001b[0m\u001b[0m\n\u001b[0;32m      7\u001b[0m               [11,12,13]])\n\u001b[1;32m----> 8\u001b[1;33m \u001b[0maddMatrices\u001b[0m\u001b[1;33m(\u001b[0m\u001b[0ma\u001b[0m\u001b[1;33m,\u001b[0m\u001b[0mb\u001b[0m\u001b[1;33m)\u001b[0m\u001b[1;33m\u001b[0m\u001b[1;33m\u001b[0m\u001b[0m\n\u001b[0m",
      "\u001b[1;32m<ipython-input-43-bdf6997b4937>\u001b[0m in \u001b[0;36maddMatrices\u001b[1;34m(a, b)\u001b[0m\n\u001b[0;32m      3\u001b[0m     assert a.shape == b.shape, \"\"\"Please Enter matrices of Same size , \n\u001b[0;32m      4\u001b[0m     \u001b[0mTwo\u001b[0m \u001b[0mmatrices\u001b[0m \u001b[0mShould\u001b[0m \u001b[0mhave\u001b[0m \u001b[0mequal\u001b[0m \u001b[0mNumber\u001b[0m \u001b[0mof\u001b[0m \u001b[0mRows\u001b[0m \u001b[1;32mand\u001b[0m \u001b[0mColumns\u001b[0m \u001b[0minorder\u001b[0m \u001b[0mto\u001b[0m \u001b[0mbe\u001b[0m \u001b[0madded\u001b[0m\u001b[0;31m\"\u001b[0m\u001b[1;33m\u001b[0m\u001b[1;33m\u001b[0m\u001b[0m\n\u001b[1;32m----> 5\u001b[1;33m \"\"\"    \n\u001b[0m\u001b[0;32m      6\u001b[0m     \u001b[1;32mfor\u001b[0m \u001b[0mi\u001b[0m \u001b[1;32min\u001b[0m \u001b[0mrange\u001b[0m\u001b[1;33m(\u001b[0m\u001b[0mlen\u001b[0m\u001b[1;33m(\u001b[0m\u001b[0ma\u001b[0m\u001b[1;33m)\u001b[0m\u001b[1;33m)\u001b[0m\u001b[1;33m:\u001b[0m\u001b[1;33m\u001b[0m\u001b[1;33m\u001b[0m\u001b[0m\n\u001b[0;32m      7\u001b[0m         \u001b[1;32mfor\u001b[0m \u001b[0mj\u001b[0m \u001b[1;32min\u001b[0m \u001b[0mrange\u001b[0m\u001b[1;33m(\u001b[0m\u001b[0mlen\u001b[0m\u001b[1;33m(\u001b[0m\u001b[0ma\u001b[0m\u001b[1;33m[\u001b[0m\u001b[1;36m1\u001b[0m\u001b[1;33m]\u001b[0m\u001b[1;33m)\u001b[0m\u001b[1;33m)\u001b[0m\u001b[1;33m:\u001b[0m\u001b[1;33m\u001b[0m\u001b[1;33m\u001b[0m\u001b[0m\n",
      "\u001b[1;31mAssertionError\u001b[0m: Please Enter matrices of Same size , \n    Two matrices Should have equal Number of Rows and Columns inorder to be added\"\n"
     ]
    }
   ],
   "source": [
    "a = np.array([[1,2,3,10],\n",
    "              [4,5,6,15],\n",
    "              [7,8,9,25]])\n",
    "b = np.array([[9,8,7],\n",
    "              [4,5,6],\n",
    "              [1,2,3],\n",
    "              [11,12,13]])\n",
    "addMatrices(a,b)"
   ]
  },
  {
   "cell_type": "markdown",
   "id": "married-worst",
   "metadata": {},
   "source": [
    "### 2. Write a Python Program to Multiply Two Matrices?"
   ]
  },
  {
   "cell_type": "code",
   "execution_count": 25,
   "id": "spread-chamber",
   "metadata": {},
   "outputs": [
    {
     "data": {
      "text/plain": [
       "array([[130, 144, 158],\n",
       "       [227, 249, 271],\n",
       "       [379, 414, 449]])"
      ]
     },
     "execution_count": 25,
     "metadata": {},
     "output_type": "execute_result"
    }
   ],
   "source": [
    "a = np.array([[1,2,3,10],\n",
    "              [4,5,6,15],\n",
    "              [7,8,9,25]])\n",
    "b = np.array([[9,8,7],\n",
    "              [4,5,6],\n",
    "              [1,2,3],\n",
    "              [11,12,13]])\n",
    "np.dot(a,b)"
   ]
  },
  {
   "cell_type": "code",
   "execution_count": 59,
   "id": "prepared-france",
   "metadata": {},
   "outputs": [
    {
     "data": {
      "text/plain": [
       "array([[130., 144., 158.],\n",
       "       [227., 249., 271.],\n",
       "       [379., 414., 449.]])"
      ]
     },
     "execution_count": 59,
     "metadata": {},
     "output_type": "execute_result"
    }
   ],
   "source": [
    "def multiplyMatrices(a,b):\n",
    "    assert a.shape[1] == b.shape[0] , \"To multiply two matrices, Columns of 1st Matrix should be Equal to Rows of 2nd Matrix\"\n",
    "    result = np.zeros([a.shape[0],b.shape[1]])\n",
    "    for i in range(len(a)):\n",
    "        for j in range(len(b[0])):\n",
    "            for k in range(len(b)):\n",
    "                result[i][j] += a[i][k] * b[k][j]\n",
    "    return result\n",
    "    \n",
    "a = np.array([[1,2,3,10],\n",
    "              [4,5,6,15],\n",
    "              [7,8,9,25]])\n",
    "b = np.array([[9,8,7],\n",
    "              [4,5,6],\n",
    "              [1,2,3],\n",
    "              [11,12,13]])\n",
    "multiplyMatrices(a,b)"
   ]
  },
  {
   "cell_type": "code",
   "execution_count": 60,
   "id": "promotional-casting",
   "metadata": {},
   "outputs": [
    {
     "ename": "AssertionError",
     "evalue": "To multiply two matrices, Columns of 1st Matrix should be Equal to Rows of 2nd Matrix",
     "output_type": "error",
     "traceback": [
      "\u001b[1;31m---------------------------------------------------------------------------\u001b[0m",
      "\u001b[1;31mAssertionError\u001b[0m                            Traceback (most recent call last)",
      "\u001b[1;32m<ipython-input-60-5a21483f2b01>\u001b[0m in \u001b[0;36m<module>\u001b[1;34m\u001b[0m\n\u001b[0;32m      5\u001b[0m b1 = np.array([[9,8,7],\n\u001b[0;32m      6\u001b[0m               [4,5,6]])\n\u001b[1;32m----> 7\u001b[1;33m \u001b[0mmultiplyMatrices\u001b[0m\u001b[1;33m(\u001b[0m\u001b[0ma1\u001b[0m\u001b[1;33m,\u001b[0m\u001b[0mb1\u001b[0m\u001b[1;33m)\u001b[0m\u001b[1;33m\u001b[0m\u001b[1;33m\u001b[0m\u001b[0m\n\u001b[0m",
      "\u001b[1;32m<ipython-input-59-270c323f9b47>\u001b[0m in \u001b[0;36mmultiplyMatrices\u001b[1;34m(a, b)\u001b[0m\n\u001b[0;32m      1\u001b[0m \u001b[1;32mdef\u001b[0m \u001b[0mmultiplyMatrices\u001b[0m\u001b[1;33m(\u001b[0m\u001b[0ma\u001b[0m\u001b[1;33m,\u001b[0m\u001b[0mb\u001b[0m\u001b[1;33m)\u001b[0m\u001b[1;33m:\u001b[0m\u001b[1;33m\u001b[0m\u001b[1;33m\u001b[0m\u001b[0m\n\u001b[1;32m----> 2\u001b[1;33m     \u001b[1;32massert\u001b[0m \u001b[0ma\u001b[0m\u001b[1;33m.\u001b[0m\u001b[0mshape\u001b[0m\u001b[1;33m[\u001b[0m\u001b[1;36m1\u001b[0m\u001b[1;33m]\u001b[0m \u001b[1;33m==\u001b[0m \u001b[0mb\u001b[0m\u001b[1;33m.\u001b[0m\u001b[0mshape\u001b[0m\u001b[1;33m[\u001b[0m\u001b[1;36m0\u001b[0m\u001b[1;33m]\u001b[0m \u001b[1;33m,\u001b[0m \u001b[1;34m\"To multiply two matrices, Columns of 1st Matrix should be Equal to Rows of 2nd Matrix\"\u001b[0m\u001b[1;33m\u001b[0m\u001b[1;33m\u001b[0m\u001b[0m\n\u001b[0m\u001b[0;32m      3\u001b[0m     \u001b[0mresult\u001b[0m \u001b[1;33m=\u001b[0m \u001b[0mnp\u001b[0m\u001b[1;33m.\u001b[0m\u001b[0mzeros\u001b[0m\u001b[1;33m(\u001b[0m\u001b[1;33m[\u001b[0m\u001b[0ma\u001b[0m\u001b[1;33m.\u001b[0m\u001b[0mshape\u001b[0m\u001b[1;33m[\u001b[0m\u001b[1;36m0\u001b[0m\u001b[1;33m]\u001b[0m\u001b[1;33m,\u001b[0m\u001b[0mb\u001b[0m\u001b[1;33m.\u001b[0m\u001b[0mshape\u001b[0m\u001b[1;33m[\u001b[0m\u001b[1;36m1\u001b[0m\u001b[1;33m]\u001b[0m\u001b[1;33m]\u001b[0m\u001b[1;33m)\u001b[0m\u001b[1;33m\u001b[0m\u001b[1;33m\u001b[0m\u001b[0m\n\u001b[0;32m      4\u001b[0m     \u001b[1;32mfor\u001b[0m \u001b[0mi\u001b[0m \u001b[1;32min\u001b[0m \u001b[0mrange\u001b[0m\u001b[1;33m(\u001b[0m\u001b[0mlen\u001b[0m\u001b[1;33m(\u001b[0m\u001b[0ma\u001b[0m\u001b[1;33m)\u001b[0m\u001b[1;33m)\u001b[0m\u001b[1;33m:\u001b[0m\u001b[1;33m\u001b[0m\u001b[1;33m\u001b[0m\u001b[0m\n\u001b[0;32m      5\u001b[0m         \u001b[1;32mfor\u001b[0m \u001b[0mj\u001b[0m \u001b[1;32min\u001b[0m \u001b[0mrange\u001b[0m\u001b[1;33m(\u001b[0m\u001b[0mlen\u001b[0m\u001b[1;33m(\u001b[0m\u001b[0mb\u001b[0m\u001b[1;33m[\u001b[0m\u001b[1;36m0\u001b[0m\u001b[1;33m]\u001b[0m\u001b[1;33m)\u001b[0m\u001b[1;33m)\u001b[0m\u001b[1;33m:\u001b[0m\u001b[1;33m\u001b[0m\u001b[1;33m\u001b[0m\u001b[0m\n",
      "\u001b[1;31mAssertionError\u001b[0m: To multiply two matrices, Columns of 1st Matrix should be Equal to Rows of 2nd Matrix"
     ]
    }
   ],
   "source": [
    "a1 = np.array([[1,2,3],\n",
    "              [4,5,6],\n",
    "              [7,8,9],\n",
    "              [11,12,13]])\n",
    "b1 = np.array([[9,8,7],\n",
    "              [4,5,6]])\n",
    "multiplyMatrices(a1,b1)"
   ]
  },
  {
   "cell_type": "markdown",
   "id": "automatic-kitchen",
   "metadata": {},
   "source": [
    "### 3. Write a Python Program to Transpose a Matrix?"
   ]
  },
  {
   "cell_type": "code",
   "execution_count": 64,
   "id": "crazy-brown",
   "metadata": {},
   "outputs": [],
   "source": [
    "def Transpose(a):\n",
    "    t = np.zeros([a.shape[1],b.shape[0]])\n",
    "    for i in range(len(a)):\n",
    "        for j in range(len(a[0])):\n",
    "            t[j][i] += a[i][j]\n",
    "    return t"
   ]
  },
  {
   "cell_type": "code",
   "execution_count": 65,
   "id": "swedish-advertiser",
   "metadata": {},
   "outputs": [
    {
     "data": {
      "text/plain": [
       "array([[ 1.,  4.,  7., 11.],\n",
       "       [ 2.,  5.,  8., 12.],\n",
       "       [ 3.,  6.,  9., 13.]])"
      ]
     },
     "execution_count": 65,
     "metadata": {},
     "output_type": "execute_result"
    }
   ],
   "source": [
    "a1 = np.array([[1,2,3],\n",
    "              [4,5,6],\n",
    "              [7,8,9],\n",
    "              [11,12,13]])\n",
    "Transpose(a1)"
   ]
  },
  {
   "cell_type": "code",
   "execution_count": 66,
   "id": "stretch-barbados",
   "metadata": {},
   "outputs": [
    {
     "data": {
      "text/plain": [
       "array([[ 1,  4,  7, 11],\n",
       "       [ 2,  5,  8, 12],\n",
       "       [ 3,  6,  9, 13]])"
      ]
     },
     "execution_count": 66,
     "metadata": {},
     "output_type": "execute_result"
    }
   ],
   "source": [
    "a1 = np.array([[1,2,3],\n",
    "              [4,5,6],\n",
    "              [7,8,9],\n",
    "              [11,12,13]])\n",
    "a1.T"
   ]
  },
  {
   "cell_type": "markdown",
   "id": "completed-bottle",
   "metadata": {},
   "source": [
    "### 4. Write a Python Program to Sort Words in Alphabetic Order?"
   ]
  },
  {
   "cell_type": "code",
   "execution_count": 82,
   "id": "prepared-economy",
   "metadata": {},
   "outputs": [],
   "source": [
    "def SortWords(s):\n",
    "    words = [i.lower() for i in s.split(\" \")] \n",
    "    return sorted(words)"
   ]
  },
  {
   "cell_type": "code",
   "execution_count": 83,
   "id": "considerable-budget",
   "metadata": {},
   "outputs": [
    {
     "data": {
      "text/plain": [
       "['bharadwaja', 'hello,', 'is', 'my', 'name']"
      ]
     },
     "execution_count": 83,
     "metadata": {},
     "output_type": "execute_result"
    }
   ],
   "source": [
    "s = \"Hello, My name is Bharadwaja\"\n",
    "SortWords(s)"
   ]
  },
  {
   "cell_type": "markdown",
   "id": "thick-recycling",
   "metadata": {},
   "source": [
    "### 5. Write a Python Program to Remove Punctuation From a String?"
   ]
  },
  {
   "cell_type": "code",
   "execution_count": 97,
   "id": "unlikely-fashion",
   "metadata": {},
   "outputs": [],
   "source": [
    "import re\n",
    "def cleanpunc(sentence): #function to clean the word of any punctuation or special characters\n",
    "    cleaned = re.sub(r'[?|!|\\'|>|:|\"{|}|#]',r'',sentence)\n",
    "    cleaned = re.sub(r'[.|,|)|(|\\|/]',r' ',cleaned)\n",
    "    return  cleaned\n",
    "def removepunc(s):\n",
    "    filtered_sentence=[]\n",
    "    for w in s.split():\n",
    "        for cleaned_words in cleanpunc(w).split():\n",
    "            if(cleaned_words.isalpha()):    \n",
    "                filtered_sentence.append(cleaned_words.lower())\n",
    "    return \" \".join(filtered_sentence)"
   ]
  },
  {
   "cell_type": "code",
   "execution_count": 100,
   "id": "liked-weapon",
   "metadata": {},
   "outputs": [
    {
     "name": "stdout",
     "output_type": "stream",
     "text": [
      "On 8 November 2016, the Government of India announced the demonetisation of all ₹500 and ₹1,000 banknotes of the Mahatma Gandhi Series. It also announced the issuance of new ₹500 and ₹2,000 banknotes in exchange for the demonetised banknotes.[1] Prime Minister Narendra Modi claimed that the action would curtail the shadow economy and reduce the use of illicit and counterfeit cash to fund illegal activity and terrorism.[2][3]\n",
      "\n",
      "The announcement of demonetisation was followed by prolonged cash shortages in the weeks that followed, which created significant disruption throughout the economy.[4][5][6][7][8][9] People seeking to exchange their banknotes had to stand in lengthy queues, and several deaths were linked to the rush to exchange cash.[10][11]\n",
      "\n",
      "According to a 2018 report from the Reserve Bank of India, approximately 99.3% of the demonetised banknotes, or ₹15.30 lakh crore (15.3 trillion) of the ₹15.41 lakh crore that had been demonetised, were deposited with the banking system. But the banknotes that were not deposited were worth ₹10,720 crore (107.2 billion),[12] leading analysts to state that the effort had failed to remove black money from the economy.[13][14] The BSE SENSEX and NIFTY 50 stock indices fell over 6 percent on the day after the announcement.[15] The move reduced the country's industrial production and its GDP growth rate.[16]\n",
      "\n",
      "Initially, the move received support from several bankers as well as from some international commentators. The move was also criticised as poorly planned and unfair, and was met with protests, litigation, and strikes against the government in several places across India. Debates also took place concerning the move in both houses of Parliament.[17][18][19][20] \n"
     ]
    }
   ],
   "source": [
    "s = \"\"\"On 8 November 2016, the Government of India announced the demonetisation of all ₹500 and ₹1,000 banknotes of the Mahatma Gandhi Series. It also announced the issuance of new ₹500 and ₹2,000 banknotes in exchange for the demonetised banknotes.[1] Prime Minister Narendra Modi claimed that the action would curtail the shadow economy and reduce the use of illicit and counterfeit cash to fund illegal activity and terrorism.[2][3]\n",
    "\n",
    "The announcement of demonetisation was followed by prolonged cash shortages in the weeks that followed, which created significant disruption throughout the economy.[4][5][6][7][8][9] People seeking to exchange their banknotes had to stand in lengthy queues, and several deaths were linked to the rush to exchange cash.[10][11]\n",
    "\n",
    "According to a 2018 report from the Reserve Bank of India, approximately 99.3% of the demonetised banknotes, or ₹15.30 lakh crore (15.3 trillion) of the ₹15.41 lakh crore that had been demonetised, were deposited with the banking system. But the banknotes that were not deposited were worth ₹10,720 crore (107.2 billion),[12] leading analysts to state that the effort had failed to remove black money from the economy.[13][14] The BSE SENSEX and NIFTY 50 stock indices fell over 6 percent on the day after the announcement.[15] The move reduced the country's industrial production and its GDP growth rate.[16]\n",
    "\n",
    "Initially, the move received support from several bankers as well as from some international commentators. The move was also criticised as poorly planned and unfair, and was met with protests, litigation, and strikes against the government in several places across India. Debates also took place concerning the move in both houses of Parliament.[17][18][19][20] \"\"\"\n",
    "print(s)"
   ]
  },
  {
   "cell_type": "code",
   "execution_count": 101,
   "id": "synthetic-nicholas",
   "metadata": {},
   "outputs": [
    {
     "data": {
      "text/plain": [
       "'on november the government of india announced the demonetisation of all and banknotes of the mahatma gandhi series it also announced the issuance of new and banknotes in exchange for the demonetised banknotes prime minister narendra modi claimed that the action would curtail the shadow economy and reduce the use of illicit and counterfeit cash to fund illegal activity and terrorism the announcement of demonetisation was followed by prolonged cash shortages in the weeks that followed which created significant disruption throughout the economy people seeking to exchange their banknotes had to stand in lengthy queues and several deaths were linked to the rush to exchange cash according to a report from the reserve bank of india approximately of the demonetised banknotes or lakh crore trillion of the lakh crore that had been demonetised were deposited with the banking system but the banknotes that were not deposited were worth crore billion leading analysts to state that the effort had failed to remove black money from the economy the bse sensex and nifty stock indices fell over percent on the day after the announcement the move reduced the countrys industrial production and its gdp growth rate initially the move received support from several bankers as well as from some international commentators the move was also criticised as poorly planned and unfair and was met with protests litigation and strikes against the government in several places across india debates also took place concerning the move in both houses of parliament'"
      ]
     },
     "execution_count": 101,
     "metadata": {},
     "output_type": "execute_result"
    }
   ],
   "source": [
    "removepunc(s)"
   ]
  },
  {
   "cell_type": "code",
   "execution_count": null,
   "id": "governmental-recipient",
   "metadata": {},
   "outputs": [],
   "source": []
  }
 ],
 "metadata": {
  "kernelspec": {
   "display_name": "Python [conda env:.conda-gputest] *",
   "language": "python",
   "name": "conda-env-.conda-gputest-py"
  },
  "language_info": {
   "codemirror_mode": {
    "name": "ipython",
    "version": 3
   },
   "file_extension": ".py",
   "mimetype": "text/x-python",
   "name": "python",
   "nbconvert_exporter": "python",
   "pygments_lexer": "ipython3",
   "version": "3.6.12"
  }
 },
 "nbformat": 4,
 "nbformat_minor": 5
}
