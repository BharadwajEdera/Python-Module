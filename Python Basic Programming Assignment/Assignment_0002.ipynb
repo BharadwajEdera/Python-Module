{
 "cells": [
  {
   "cell_type": "markdown",
   "id": "coastal-douglas",
   "metadata": {},
   "source": [
    "### 1. Write a Python program to convert kilometers to miles?"
   ]
  },
  {
   "cell_type": "code",
   "execution_count": 3,
   "id": "comfortable-digest",
   "metadata": {},
   "outputs": [
    {
     "name": "stdout",
     "output_type": "stream",
     "text": [
      "Enter number of Kilometers2\n",
      " 2.0 kms = 1.24274 miles\n"
     ]
    }
   ],
   "source": [
    "def kms2miles():\n",
    "    kms = float(input(\"Enter number of Kilometers\"))\n",
    "    print(\" {} kms = {} miles\".format(kms, 0.62137*kms))\n",
    "kms2miles()"
   ]
  },
  {
   "cell_type": "markdown",
   "id": "bizarre-wales",
   "metadata": {},
   "source": [
    "### 2. Write a Python program to convert Celsius to Fahrenheit?"
   ]
  },
  {
   "cell_type": "code",
   "execution_count": 5,
   "id": "frank-panic",
   "metadata": {},
   "outputs": [
    {
     "name": "stdout",
     "output_type": "stream",
     "text": [
      "Enter Temperature in degree celcius : -50\n",
      " -50.0 celcius = -58.0 Fahrenheit\n"
     ]
    }
   ],
   "source": [
    "def celcius2Fahrenheit():\n",
    "    celcius = float(input(\"Enter Temperature in degree celcius : \"))\n",
    "    print(\" {} celcius = {} Fahrenheit\".format(celcius, (9/5)*celcius + 32 ))\n",
    "celcius2Fahrenheit()"
   ]
  },
  {
   "cell_type": "markdown",
   "id": "third-stick",
   "metadata": {},
   "source": [
    "### 3. Write a Python program to display calendar?"
   ]
  },
  {
   "cell_type": "code",
   "execution_count": 6,
   "id": "solved-cradle",
   "metadata": {},
   "outputs": [
    {
     "name": "stdout",
     "output_type": "stream",
     "text": [
      "Enter year: 2021\n",
      "Enter month: 06\n",
      "     June 2021\n",
      "Mo Tu We Th Fr Sa Su\n",
      "    1  2  3  4  5  6\n",
      " 7  8  9 10 11 12 13\n",
      "14 15 16 17 18 19 20\n",
      "21 22 23 24 25 26 27\n",
      "28 29 30\n",
      "\n"
     ]
    }
   ],
   "source": [
    "import calendar  \n",
    "# Enter the month and year  \n",
    "yy = int(input(\"Enter year: \"))  \n",
    "mm = int(input(\"Enter month: \"))  \n",
    "  \n",
    "# display the calendar  \n",
    "print(calendar.month(yy,mm))  "
   ]
  },
  {
   "cell_type": "markdown",
   "id": "ideal-workplace",
   "metadata": {},
   "source": [
    "### 4. Write a Python program to solve quadratic equation?"
   ]
  },
  {
   "cell_type": "code",
   "execution_count": 14,
   "id": "yellow-overview",
   "metadata": {},
   "outputs": [
    {
     "name": "stdout",
     "output_type": "stream",
     "text": [
      "Enter coefficient of x^2 = 1\n",
      "Enter coefficient of x = 5\n",
      "Enter constant = 6\n",
      "The solutions = (-3+0j) and (-2+0j)\n"
     ]
    }
   ],
   "source": [
    "import cmath\n",
    "def quadraticeqn():\n",
    "    a = float(input(\"Enter coefficient of x^2 = \"))\n",
    "    b = float(input(\"Enter coefficient of x = \"))\n",
    "    c = float(input(\"Enter constant = \"))\n",
    "    d = (b**2) - (4*a*c)\n",
    "    r1 = (-b-cmath.sqrt(d))/(2*a)\n",
    "    r2 = (-b+cmath.sqrt(d))/(2*a)\n",
    "    print(\"The solutions = {0} and {1}\" .format(r1,r2))\n",
    "quadraticeqn()"
   ]
  },
  {
   "cell_type": "markdown",
   "id": "elder-seeking",
   "metadata": {},
   "source": [
    "### 5. Write a Python program to swap two variables without temp variable?"
   ]
  },
  {
   "cell_type": "code",
   "execution_count": 19,
   "id": "extended-bottom",
   "metadata": {},
   "outputs": [
    {
     "name": "stdout",
     "output_type": "stream",
     "text": [
      "Enter a = 10\n",
      "Enter b = 20\n",
      "After Swapping: x = 20.0  y = 10.0\n"
     ]
    }
   ],
   "source": [
    "def swap():\n",
    "    \n",
    "    x = float(input(\"Enter a = \"))\n",
    "    y = float(input(\"Enter b = \"))\n",
    " \n",
    "    x = x + y\n",
    "    y = x - y\n",
    "    x = x - y\n",
    "    \n",
    "    print(\"After Swapping: x =\", x, \" y =\", y)\n",
    "    \n",
    "swap()"
   ]
  },
  {
   "cell_type": "code",
   "execution_count": null,
   "id": "prescribed-basement",
   "metadata": {},
   "outputs": [],
   "source": []
  },
  {
   "cell_type": "code",
   "execution_count": null,
   "id": "necessary-wright",
   "metadata": {},
   "outputs": [],
   "source": []
  },
  {
   "cell_type": "code",
   "execution_count": null,
   "id": "confused-singer",
   "metadata": {},
   "outputs": [],
   "source": []
  },
  {
   "cell_type": "code",
   "execution_count": null,
   "id": "authentic-bishop",
   "metadata": {},
   "outputs": [],
   "source": []
  },
  {
   "cell_type": "code",
   "execution_count": null,
   "id": "finished-flower",
   "metadata": {},
   "outputs": [],
   "source": []
  }
 ],
 "metadata": {
  "kernelspec": {
   "display_name": "Python [conda env:.conda-gputest] *",
   "language": "python",
   "name": "conda-env-.conda-gputest-py"
  },
  "language_info": {
   "codemirror_mode": {
    "name": "ipython",
    "version": 3
   },
   "file_extension": ".py",
   "mimetype": "text/x-python",
   "name": "python",
   "nbconvert_exporter": "python",
   "pygments_lexer": "ipython3",
   "version": "3.6.12"
  }
 },
 "nbformat": 4,
 "nbformat_minor": 5
}
