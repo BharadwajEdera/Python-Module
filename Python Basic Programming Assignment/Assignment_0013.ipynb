{
 "cells": [
  {
   "cell_type": "markdown",
   "id": "dbec5534",
   "metadata": {},
   "source": [
    "### Question 1:\n",
    ">Write a program that calculates and prints the value according to the given formula:\n",
    "Q = Square root of [(2 * C * D)/H]\n",
    "Following are the fixed values of C and H:\n",
    "C is 50. H is 30.\n",
    "D is the variable whose values should be input to your program in a comma-separated\n",
    "sequence.\n",
    "Example\n",
    "\n",
    ">Let us assume the following comma separated input sequence is given to the program:\n",
    "100,150,180\n",
    "\n",
    ">The output of the program should be:\n",
    "18,22,24\n",
    "\n"
   ]
  },
  {
   "cell_type": "code",
   "execution_count": 19,
   "id": "a7f5693d",
   "metadata": {},
   "outputs": [],
   "source": [
    "class Q:\n",
    "    def __init__(self):\n",
    "        self.C = 50\n",
    "        self.H = 30\n",
    "    \n",
    "    def calculate_Q(self):\n",
    "        import numpy as np\n",
    "        D = input(\"Enter a Numbers in comma-separated sequence : \").split(\",\")\n",
    "        l = []\n",
    "        for i in range(len(D)):\n",
    "            Q = np.sqrt((2*self.C*int(D[i]))/self.H)\n",
    "            l.append(int(Q))\n",
    "        return l"
   ]
  },
  {
   "cell_type": "code",
   "execution_count": 20,
   "id": "bb938475",
   "metadata": {},
   "outputs": [],
   "source": [
    "Q = Q()"
   ]
  },
  {
   "cell_type": "code",
   "execution_count": 21,
   "id": "b85c0d80",
   "metadata": {},
   "outputs": [
    {
     "name": "stdout",
     "output_type": "stream",
     "text": [
      "Enter a Numbers in comma-separated sequence : 100,150,180\n"
     ]
    },
    {
     "data": {
      "text/plain": [
       "[18, 22, 24]"
      ]
     },
     "execution_count": 21,
     "metadata": {},
     "output_type": "execute_result"
    }
   ],
   "source": [
    "Q.calculate_Q()"
   ]
  },
  {
   "cell_type": "markdown",
   "id": "e80b73ae",
   "metadata": {},
   "source": [
    "### Question 2:\n",
    ">Write a program which takes 2 digits, X,Y as input and generates a 2-dimensional array. The\n",
    "element value in the i-th row and j-th column of the array should be i*j.\n",
    "Note: i=0,1.., X-1; j=0,1,¡Y-1.\n",
    "Example:\n",
    "\n",
    ">Suppose the following inputs are given to the program:\n",
    "3,5\n",
    "\n",
    ">Then, the output of the program should be:\n",
    "[[0, 0, 0, 0, 0], [0, 1, 2, 3, 4], [0, 2, 4, 6, 8]]\n",
    "\n"
   ]
  },
  {
   "cell_type": "code",
   "execution_count": 61,
   "id": "509fd29f",
   "metadata": {},
   "outputs": [],
   "source": [
    "class array:\n",
    "    def __init__(self,m,n):\n",
    "        self.m = m\n",
    "        self.n = n\n",
    "    def two_dim_array(self):\n",
    "        import numpy as np\n",
    "        a = np.zeros((self.m,self.n))\n",
    "        for i in range(self.m):\n",
    "            for j in range(self.n):\n",
    "                a[i][j] += i*j\n",
    "        return a"
   ]
  },
  {
   "cell_type": "code",
   "execution_count": 62,
   "id": "c13fa5ba",
   "metadata": {},
   "outputs": [],
   "source": [
    "a = array(3,5)"
   ]
  },
  {
   "cell_type": "code",
   "execution_count": 63,
   "id": "267c90e4",
   "metadata": {},
   "outputs": [
    {
     "data": {
      "text/plain": [
       "array([[0., 0., 0., 0., 0.],\n",
       "       [0., 1., 2., 3., 4.],\n",
       "       [0., 2., 4., 6., 8.]])"
      ]
     },
     "execution_count": 63,
     "metadata": {},
     "output_type": "execute_result"
    }
   ],
   "source": [
    "a.two_dim_array()"
   ]
  },
  {
   "cell_type": "markdown",
   "id": "a0541595",
   "metadata": {},
   "source": [
    "### Question 3:\n",
    ">Write a program that accepts a comma separated sequence of words as input and prints the\n",
    "words in a comma-separated sequence after sorting them alphabetically.\n",
    "\n",
    ">Suppose the following input is supplied to the program:\n",
    "without,hello,bag,world\n",
    "\n",
    ">Then, the output should be:\n",
    "bag,hello,without,world\n",
    "\n"
   ]
  },
  {
   "cell_type": "code",
   "execution_count": 55,
   "id": "d609c22e",
   "metadata": {},
   "outputs": [],
   "source": [
    "class CSS:\n",
    "    \n",
    "    def CSS_sorted(self):\n",
    "        D = input(\"Enter a Words in comma-separated sequence : \").split(\",\")\n",
    "        l = sorted(D)\n",
    "        k = \",\".join(l)\n",
    "        return k"
   ]
  },
  {
   "cell_type": "code",
   "execution_count": 56,
   "id": "90e68a33",
   "metadata": {},
   "outputs": [],
   "source": [
    "CSS = CSS()"
   ]
  },
  {
   "cell_type": "code",
   "execution_count": 57,
   "id": "da5afdad",
   "metadata": {},
   "outputs": [
    {
     "name": "stdout",
     "output_type": "stream",
     "text": [
      "Enter a Words in comma-separated sequence : without,hello,bag,world\n"
     ]
    },
    {
     "data": {
      "text/plain": [
       "'bag,hello,without,world'"
      ]
     },
     "execution_count": 57,
     "metadata": {},
     "output_type": "execute_result"
    }
   ],
   "source": [
    "CSS.CSS_sorted()"
   ]
  },
  {
   "cell_type": "markdown",
   "id": "5e3cb56b",
   "metadata": {},
   "source": [
    "### Question 4:\n",
    ">Write a program that accepts a sequence of whitespace separated words as input and prints\n",
    "the words after removing all duplicate words and sorting them alphanumerically.\n",
    "\n",
    ">Suppose the following input is supplied to the program:\n",
    "hello world and practice makes perfect and hello world again\n",
    "\n",
    ">Then, the output should be:\n",
    "again and hello makes perfect practice world\n",
    "\n"
   ]
  },
  {
   "cell_type": "code",
   "execution_count": 89,
   "id": "38c2ae5e",
   "metadata": {},
   "outputs": [],
   "source": [
    "class CSS:\n",
    "    def CSS_sorted(self):\n",
    "        D = input(\"Enter a Words in comma-separated sequence : \").split(\" \")\n",
    "        l = sorted(set(D))\n",
    "        k = \" \".join(l)\n",
    "        return k"
   ]
  },
  {
   "cell_type": "code",
   "execution_count": 90,
   "id": "48af84ec",
   "metadata": {},
   "outputs": [],
   "source": [
    "CSS = CSS()"
   ]
  },
  {
   "cell_type": "code",
   "execution_count": 91,
   "id": "175ebc48",
   "metadata": {},
   "outputs": [
    {
     "name": "stdout",
     "output_type": "stream",
     "text": [
      "Enter a Words in comma-separated sequence : hello world and practice makes perfect and hello world again\n"
     ]
    },
    {
     "data": {
      "text/plain": [
       "'again and hello makes perfect practice world'"
      ]
     },
     "execution_count": 91,
     "metadata": {},
     "output_type": "execute_result"
    }
   ],
   "source": [
    "CSS.CSS_sorted()"
   ]
  },
  {
   "cell_type": "markdown",
   "id": "b7fe57c8",
   "metadata": {},
   "source": [
    "### Question 5:\n",
    ">Write a program that accepts a sentence and calculate the number of letters and digits.\n",
    "\n",
    ">Suppose the following input is supplied to the program:\n",
    "hello world! 123\n",
    "\n",
    ">Then, the output should be:\n",
    "\n",
    ">LETTERS 10\n",
    "\n",
    ">DIGITS 3\n",
    "\n"
   ]
  },
  {
   "cell_type": "code",
   "execution_count": 5,
   "id": "7ac7dc1f",
   "metadata": {},
   "outputs": [],
   "source": [
    "class Count:\n",
    "    def Letters_Digits(self):\n",
    "        s = input(\"Enter a Sentence with both Letters and Digits\")\n",
    "        Letters = 0\n",
    "        Digits = 0\n",
    "        for i in s:\n",
    "            if i.isdigit():\n",
    "                Digits +=1\n",
    "            elif i.isalpha():\n",
    "                Letters +=1\n",
    "        print(\"LETTERS : \",Letters)\n",
    "        print(\"DIGITS : \",Digits)\n",
    "        \n",
    "        "
   ]
  },
  {
   "cell_type": "code",
   "execution_count": 6,
   "id": "01b00832",
   "metadata": {},
   "outputs": [],
   "source": [
    "Count = Count()"
   ]
  },
  {
   "cell_type": "code",
   "execution_count": 7,
   "id": "fa249f84",
   "metadata": {},
   "outputs": [
    {
     "name": "stdout",
     "output_type": "stream",
     "text": [
      "Enter a Sentence with both Letters and Digitshello world! 123\n",
      "LETTERS :  10\n",
      "DIGITS :  3\n"
     ]
    }
   ],
   "source": [
    "Count.Letters_Digits()"
   ]
  },
  {
   "cell_type": "markdown",
   "id": "1a8efbab",
   "metadata": {},
   "source": [
    "### Question 6:\n",
    ">A website requires the users to input username and password to register. Write a program to\n",
    "check the validity of password input by users.\n",
    "Following are the criteria for checking the password:\n",
    "1. At least 1 letter between [a-z]\n",
    "2. At least 1 number between [0-9]\n",
    "1. At least 1 letter between [A-Z]\n",
    "3. At least 1 character from [$#@]\n",
    "4. Minimum length of transaction password: 6\n",
    "5. Maximum length of transaction password: 12\n",
    "Your program should accept a sequence of comma separated passwords and will check them\n",
    "according to the above criteria. Passwords that match the criteria are to be printed, each\n",
    "separated by a comma.\n",
    "Example"
   ]
  },
  {
   "cell_type": "markdown",
   "id": "583226d2",
   "metadata": {},
   "source": [
    ">If the following passwords are given as input to the program:\n",
    "ABd1234@1,a F1#,2w3E*,2We3345\n",
    "\n",
    ">Then, the output of the program should be:\n",
    "ABd1234@1"
   ]
  },
  {
   "cell_type": "code",
   "execution_count": 52,
   "id": "e720ad02",
   "metadata": {},
   "outputs": [],
   "source": [
    "class Website:\n",
    "    def password(self):\n",
    "        import re\n",
    "        pwds = [x for x in input(\"\"\"Enter sequence of comma separated passwords \n",
    "        INSTRUCTIONS :\n",
    "        1. At least 1 letter between [a-z]\n",
    "        2. At least 1 number between [0-9]\n",
    "        3. At least 1 letter between [A-Z]\n",
    "        4. At least 1 character from [$#@]\n",
    "        5. Minimum length of transaction password: 6\n",
    "        6. Maximum length of transaction password: 12 \n",
    "        \n",
    "        \"\"\").split(',')]\n",
    "        p = []\n",
    "        for pwd in pwds:\n",
    "            if not re.search(\"[a-z]\",pwd):\n",
    "                continue\n",
    "            elif not re.search(\"[0-9]\",pwd):\n",
    "                continue\n",
    "            elif not re.search(\"[A-Z]\",pwd):\n",
    "                continue\n",
    "            elif not re.search(\"[$#@]\",pwd):    \n",
    "                continue\n",
    "            elif len(pwd)<6 or len(pwd)>12:\n",
    "                continue\n",
    "            p.append(pwd)\n",
    "        return p "
   ]
  },
  {
   "cell_type": "code",
   "execution_count": 53,
   "id": "be8c14cd",
   "metadata": {},
   "outputs": [],
   "source": [
    "Website = Website()"
   ]
  },
  {
   "cell_type": "code",
   "execution_count": 54,
   "id": "5e8f29f6",
   "metadata": {},
   "outputs": [
    {
     "name": "stdout",
     "output_type": "stream",
     "text": [
      "Enter sequence of comma separated passwords \n",
      "        INSTRUCTIONS :\n",
      "        1. At least 1 letter between [a-z]\n",
      "        2. At least 1 number between [0-9]\n",
      "        3. At least 1 letter between [A-Z]\n",
      "        4. At least 1 character from [$#@]\n",
      "        5. Minimum length of transaction password: 6\n",
      "        6. Maximum length of transaction password: 12 \n",
      "        \n",
      "        ABd1234@1,a F1#,2w3E*,2We3345\n"
     ]
    },
    {
     "data": {
      "text/plain": [
       "['ABd1234@1']"
      ]
     },
     "execution_count": 54,
     "metadata": {},
     "output_type": "execute_result"
    }
   ],
   "source": [
    "Website.password()"
   ]
  },
  {
   "cell_type": "code",
   "execution_count": null,
   "id": "52e437f2",
   "metadata": {},
   "outputs": [],
   "source": []
  }
 ],
 "metadata": {
  "kernelspec": {
   "display_name": "Python [conda env:.conda-gputest] *",
   "language": "python",
   "name": "conda-env-.conda-gputest-py"
  },
  "language_info": {
   "codemirror_mode": {
    "name": "ipython",
    "version": 3
   },
   "file_extension": ".py",
   "mimetype": "text/x-python",
   "name": "python",
   "nbconvert_exporter": "python",
   "pygments_lexer": "ipython3",
   "version": "3.6.12"
  }
 },
 "nbformat": 4,
 "nbformat_minor": 5
}
