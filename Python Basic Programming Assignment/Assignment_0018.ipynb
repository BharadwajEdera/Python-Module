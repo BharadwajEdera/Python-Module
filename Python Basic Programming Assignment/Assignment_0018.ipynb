{
 "cells": [
  {
   "cell_type": "markdown",
   "id": "89a8b043",
   "metadata": {},
   "source": [
    "### Question 1\n",
    "\n",
    ">Create a function that takes a list of non-negative integers and strings and return a new list without the strings.\n",
    "\n",
    ">Examples\n",
    "\n",
    ">filter_list([1, 2, \"a\", \"b\"]) ➞ [1, 2]\n",
    "\n",
    ">filter_list([1, \"a\", \"b\", 0, 15]) ➞ [1, 0, 15]\n",
    "\n",
    ">filter_list([1, 2, \"aasf\", \"1\", \"123\", 123]) ➞ [1, 2, 123]\n",
    "\n"
   ]
  },
  {
   "cell_type": "code",
   "execution_count": 10,
   "id": "6d15c396",
   "metadata": {},
   "outputs": [],
   "source": [
    "def filter_list(l):\n",
    "    n = []\n",
    "    for i in l:\n",
    "        if type(i) != str:\n",
    "            n.append(i)\n",
    "    return n"
   ]
  },
  {
   "cell_type": "code",
   "execution_count": 11,
   "id": "974b262f",
   "metadata": {},
   "outputs": [
    {
     "data": {
      "text/plain": [
       "[1, 2]"
      ]
     },
     "execution_count": 11,
     "metadata": {},
     "output_type": "execute_result"
    }
   ],
   "source": [
    "filter_list([1, 2, \"a\", \"b\"])"
   ]
  },
  {
   "cell_type": "code",
   "execution_count": 12,
   "id": "c16bcb19",
   "metadata": {},
   "outputs": [
    {
     "data": {
      "text/plain": [
       "[1, 0, 15]"
      ]
     },
     "execution_count": 12,
     "metadata": {},
     "output_type": "execute_result"
    }
   ],
   "source": [
    "filter_list([1, \"a\", \"b\", 0, 15])"
   ]
  },
  {
   "cell_type": "code",
   "execution_count": 13,
   "id": "99a3e9ea",
   "metadata": {},
   "outputs": [
    {
     "data": {
      "text/plain": [
       "[1, 2, 123]"
      ]
     },
     "execution_count": 13,
     "metadata": {},
     "output_type": "execute_result"
    }
   ],
   "source": [
    "filter_list([1, 2, \"aasf\", \"1\", \"123\", 123])"
   ]
  },
  {
   "cell_type": "markdown",
   "id": "b12461f0",
   "metadata": {},
   "source": [
    "### Question 2\n",
    "\n",
    ">The \"Reverser\" takes a string as input and returns that string in reverse order, with the opposite case.\n",
    "\n",
    ">Examples\n",
    "\n",
    ">reverse(\"Hello World\") ➞ \"DLROw OLLEh\"\n",
    "\n",
    ">reverse(\"ReVeRsE\") ➞ \"eSrEvEr\"\n",
    "\n",
    ">reverse(\"Radar\") ➞ \"RADAr\"\n",
    "\n"
   ]
  },
  {
   "cell_type": "code",
   "execution_count": 16,
   "id": "04295a7f",
   "metadata": {},
   "outputs": [],
   "source": [
    "def reverse(s):\n",
    "    n = s[::-1]\n",
    "    return n.swapcase()"
   ]
  },
  {
   "cell_type": "code",
   "execution_count": 17,
   "id": "a9dde2b0",
   "metadata": {},
   "outputs": [
    {
     "data": {
      "text/plain": [
       "'DLROw OLLEh'"
      ]
     },
     "execution_count": 17,
     "metadata": {},
     "output_type": "execute_result"
    }
   ],
   "source": [
    "reverse(\"Hello World\")"
   ]
  },
  {
   "cell_type": "code",
   "execution_count": 18,
   "id": "ef38909a",
   "metadata": {},
   "outputs": [
    {
     "data": {
      "text/plain": [
       "'eSrEvEr'"
      ]
     },
     "execution_count": 18,
     "metadata": {},
     "output_type": "execute_result"
    }
   ],
   "source": [
    "reverse(\"ReVeRsE\")"
   ]
  },
  {
   "cell_type": "code",
   "execution_count": 19,
   "id": "fdf40a17",
   "metadata": {},
   "outputs": [
    {
     "data": {
      "text/plain": [
       "'RADAr'"
      ]
     },
     "execution_count": 19,
     "metadata": {},
     "output_type": "execute_result"
    }
   ],
   "source": [
    "reverse(\"Radar\")"
   ]
  },
  {
   "cell_type": "markdown",
   "id": "c97a29be",
   "metadata": {},
   "source": [
    "### Question 3\n",
    "\n",
    ">You can assign variables from lists like this:\n",
    "\n",
    ">lst = [1, 2, 3, 4, 5, 6]\n",
    "\n",
    ">first = lst[0]\n",
    "\n",
    ">middle = lst[1:-1]\n",
    "\n",
    ">last = lst[-1]\n",
    "\n",
    ">print(first) ➞ outputs 1\n",
    "\n",
    ">print(middle) ➞ outputs [2, 3, 4, 5]\n",
    "\n",
    ">print(last) ➞ outputs 6\n",
    "\n",
    ">With Python 3, you can assign variables from lists in a much more succinct way. Create variables first, middle and last from the given list using destructuring assignment (check the Resources tab for some examples), where:\n",
    "\n",
    ">first  ➞ 1\n",
    "\n",
    ">middle ➞ [2, 3, 4, 5]\n",
    "\n",
    ">last ➞ 6\n",
    "\n",
    ">Your task is to unpack the list writeyourcodehere into three variables, being first, middle, and last, with middle being everything in between the first and last element. Then print all three variables.\n",
    "\n"
   ]
  },
  {
   "cell_type": "code",
   "execution_count": 22,
   "id": "110a6624",
   "metadata": {},
   "outputs": [
    {
     "name": "stdout",
     "output_type": "stream",
     "text": [
      "1 [2, 3, 4, 5] 6\n"
     ]
    }
   ],
   "source": [
    "first,*middle , last = [1, 2, 3, 4, 5, 6]\n",
    "print(first,middle,last)"
   ]
  },
  {
   "cell_type": "markdown",
   "id": "019b2400",
   "metadata": {},
   "source": [
    "### Question 4\n",
    "\n",
    ">Write a function that calculates the factorial of a number recursively.\n",
    "\n",
    ">Examples\n",
    "\n",
    ">factorial(5) ➞ 120\n",
    "\n",
    ">factorial(3) ➞ 6\n",
    "\n",
    ">factorial(1) ➞ 1\n",
    "\n",
    ">factorial(0) ➞ 1\n",
    "\n",
    "\n",
    "\n"
   ]
  },
  {
   "cell_type": "code",
   "execution_count": 60,
   "id": "b71900a2",
   "metadata": {},
   "outputs": [],
   "source": [
    "def factorial(n):\n",
    "    assert n==int(n) and n>=0 ,\"Enter a positive integer\"\n",
    "    if n in (0,1):\n",
    "        return 1\n",
    "    else:\n",
    "        return n * factorial(n-1)"
   ]
  },
  {
   "cell_type": "code",
   "execution_count": 61,
   "id": "cde1f4d5",
   "metadata": {},
   "outputs": [
    {
     "data": {
      "text/plain": [
       "120"
      ]
     },
     "execution_count": 61,
     "metadata": {},
     "output_type": "execute_result"
    }
   ],
   "source": [
    "factorial(5)"
   ]
  },
  {
   "cell_type": "code",
   "execution_count": 62,
   "id": "659cee5f",
   "metadata": {},
   "outputs": [
    {
     "data": {
      "text/plain": [
       "6"
      ]
     },
     "execution_count": 62,
     "metadata": {},
     "output_type": "execute_result"
    }
   ],
   "source": [
    "factorial(3)"
   ]
  },
  {
   "cell_type": "code",
   "execution_count": 63,
   "id": "5767d76b",
   "metadata": {},
   "outputs": [
    {
     "data": {
      "text/plain": [
       "1"
      ]
     },
     "execution_count": 63,
     "metadata": {},
     "output_type": "execute_result"
    }
   ],
   "source": [
    "factorial(1)"
   ]
  },
  {
   "cell_type": "code",
   "execution_count": 64,
   "id": "222d6039",
   "metadata": {},
   "outputs": [
    {
     "data": {
      "text/plain": [
       "1"
      ]
     },
     "execution_count": 64,
     "metadata": {},
     "output_type": "execute_result"
    }
   ],
   "source": [
    "factorial(0) "
   ]
  },
  {
   "cell_type": "markdown",
   "id": "033ac7ae",
   "metadata": {},
   "source": [
    "### Question 5\n",
    "\n",
    ">Write a function that moves all elements of one type to the end of the list.\n",
    "\n",
    ">Examples\n",
    "\n",
    ">move_to_end([1, 3, 2, 4, 4, 1], 1) ➞ [3, 2, 4, 4, 1, 1]\n",
    "\n",
    ">Move all the 1s to the end of the array.\n",
    "\n",
    ">move_to_end([7, 8, 9, 1, 2, 3, 4], 9) ➞ [7, 8, 1, 2, 3, 4, 9]\n",
    "\n",
    ">move_to_end([\"a\", \"a\", \"a\", \"b\"], \"a\") ➞ [\"b\", \"a\", \"a\", \"a\"]\n"
   ]
  },
  {
   "cell_type": "code",
   "execution_count": 24,
   "id": "a0d41025",
   "metadata": {},
   "outputs": [],
   "source": [
    "def move_to_end(l,a):\n",
    "    l.sort(key=a.__eq__)\n",
    "    return l\n",
    "            "
   ]
  },
  {
   "cell_type": "code",
   "execution_count": 25,
   "id": "d6d1f149",
   "metadata": {},
   "outputs": [
    {
     "data": {
      "text/plain": [
       "[3, 2, 4, 4, 1, 1]"
      ]
     },
     "execution_count": 25,
     "metadata": {},
     "output_type": "execute_result"
    }
   ],
   "source": [
    "move_to_end([1, 3, 2, 4, 4, 1], 1)"
   ]
  },
  {
   "cell_type": "code",
   "execution_count": 26,
   "id": "cc3088e7",
   "metadata": {},
   "outputs": [
    {
     "data": {
      "text/plain": [
       "[7, 8, 1, 2, 3, 4, 9]"
      ]
     },
     "execution_count": 26,
     "metadata": {},
     "output_type": "execute_result"
    }
   ],
   "source": [
    "move_to_end([7, 8, 9, 1, 2, 3, 4], 9) "
   ]
  },
  {
   "cell_type": "code",
   "execution_count": 27,
   "id": "0bd24972",
   "metadata": {},
   "outputs": [
    {
     "data": {
      "text/plain": [
       "['b', 'a', 'a', 'a']"
      ]
     },
     "execution_count": 27,
     "metadata": {},
     "output_type": "execute_result"
    }
   ],
   "source": [
    "move_to_end([\"a\", \"a\", \"a\", \"b\"], \"a\") "
   ]
  },
  {
   "cell_type": "code",
   "execution_count": null,
   "id": "76f7e27c",
   "metadata": {},
   "outputs": [],
   "source": []
  }
 ],
 "metadata": {
  "kernelspec": {
   "display_name": "Python [conda env:.conda-gputest] *",
   "language": "python",
   "name": "conda-env-.conda-gputest-py"
  },
  "language_info": {
   "codemirror_mode": {
    "name": "ipython",
    "version": 3
   },
   "file_extension": ".py",
   "mimetype": "text/x-python",
   "name": "python",
   "nbconvert_exporter": "python",
   "pygments_lexer": "ipython3",
   "version": "3.6.12"
  }
 },
 "nbformat": 4,
 "nbformat_minor": 5
}
