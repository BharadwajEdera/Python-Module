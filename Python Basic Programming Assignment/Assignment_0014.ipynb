{
 "cells": [
  {
   "cell_type": "markdown",
   "id": "1344bdb8",
   "metadata": {},
   "source": [
    "### Question 1:\n",
    "\n",
    ">Define a class with a generator which can iterate the numbers, which are divisible by 7, between a given range 0 and n."
   ]
  },
  {
   "cell_type": "code",
   "execution_count": 24,
   "id": "6ec85a5b",
   "metadata": {},
   "outputs": [],
   "source": [
    "class Divisibility:\n",
    "    def div_by_7(self,n):\n",
    "        l = []\n",
    "        for i in range(n):\n",
    "            if i % 7 == 0:\n",
    "                l.append(i)\n",
    "        yield l\n",
    "    "
   ]
  },
  {
   "cell_type": "code",
   "execution_count": 25,
   "id": "f4f0b731",
   "metadata": {},
   "outputs": [],
   "source": [
    "D = Divisibility()"
   ]
  },
  {
   "cell_type": "code",
   "execution_count": 26,
   "id": "d9f54c15",
   "metadata": {},
   "outputs": [
    {
     "name": "stdout",
     "output_type": "stream",
     "text": [
      "<generator object Divisibility.div_by_7 at 0x000001F32FFE9728>\n"
     ]
    }
   ],
   "source": [
    "g = D.div_by_7(100)\n",
    "print(g)"
   ]
  },
  {
   "cell_type": "code",
   "execution_count": 27,
   "id": "696ac018",
   "metadata": {},
   "outputs": [
    {
     "name": "stdout",
     "output_type": "stream",
     "text": [
      "[0, 7, 14, 21, 28, 35, 42, 49, 56, 63, 70, 77, 84, 91, 98]\n"
     ]
    }
   ],
   "source": [
    "for i in D.div_by_7(100):\n",
    "    print(i)"
   ]
  },
  {
   "cell_type": "markdown",
   "id": "4e035712",
   "metadata": {},
   "source": [
    "### Question 2:\n",
    "\n",
    ">Write a program to compute the frequency of the words from the input. The output should output after sorting the key alphanumerically. \n",
    "\n",
    ">Suppose the following input is supplied to the program:\n",
    "\n",
    ">New to Python or choosing between Python 2 and Python 3? Read Python 2 or Python 3.\n",
    "\n",
    ">Then, the output should be:\n",
    "\n",
    ">2:2\n",
    "\n",
    ">3.:1\n",
    "\n",
    ">3?:1\n",
    "\n",
    ">New:1\n",
    "\n",
    ">Python:5\n",
    "\n",
    ">Read:1\n",
    "\n",
    ">and:1\n",
    "\n",
    ">between:1\n",
    "\n",
    ">choosing:1\n",
    "\n",
    ">or:2\n",
    "\n",
    ">to:1"
   ]
  },
  {
   "cell_type": "code",
   "execution_count": 52,
   "id": "3893712d",
   "metadata": {},
   "outputs": [],
   "source": [
    "class frequency:\n",
    "    def __init__(self):\n",
    "        self.s = input(\"Enter a String : \")\n",
    "        self.l = self.s.split(\" \")\n",
    "    def feq_words(self):\n",
    "        o = {}\n",
    "        for i in self.l:\n",
    "            k = self.s.count(i)\n",
    "            o[i] = k\n",
    "                \n",
    "        return o\n",
    "                \n",
    "        "
   ]
  },
  {
   "cell_type": "code",
   "execution_count": 53,
   "id": "9a0c1878",
   "metadata": {
    "scrolled": true
   },
   "outputs": [
    {
     "name": "stdout",
     "output_type": "stream",
     "text": [
      "Enter a String : New to Python or choosing between Python 2 and Python 3? Read Python 2 or Python 3.\n"
     ]
    },
    {
     "data": {
      "text/plain": [
       "{'New': 1,\n",
       " 'to': 1,\n",
       " 'Python': 5,\n",
       " 'or': 2,\n",
       " 'choosing': 1,\n",
       " 'between': 1,\n",
       " '2': 2,\n",
       " 'and': 1,\n",
       " '3?': 1,\n",
       " 'Read': 1,\n",
       " '3.': 1}"
      ]
     },
     "execution_count": 53,
     "metadata": {},
     "output_type": "execute_result"
    }
   ],
   "source": [
    "f = frequency()\n",
    "f.feq_words()"
   ]
  },
  {
   "cell_type": "markdown",
   "id": "76701923",
   "metadata": {},
   "source": [
    "### Question 3:\n",
    ">Define a class Person and its two child classes: Male and Female. All classes have a method \"getGender\" which can print \"Male\" for Male class and \"Female\" for Female class."
   ]
  },
  {
   "cell_type": "code",
   "execution_count": 5,
   "id": "170e1057",
   "metadata": {},
   "outputs": [],
   "source": [
    "class Person:\n",
    "    def getGender():\n",
    "        pass\n",
    "\n",
    "class Male(Person):\n",
    "    def getGender(self):\n",
    "        print(\"Male\")\n",
    "\n",
    "class Female(Person):\n",
    "    def getGender(self):\n",
    "        print(\"Female\")"
   ]
  },
  {
   "cell_type": "code",
   "execution_count": 6,
   "id": "0237bdd4",
   "metadata": {},
   "outputs": [
    {
     "name": "stdout",
     "output_type": "stream",
     "text": [
      "Male\n"
     ]
    }
   ],
   "source": [
    "a = Male()\n",
    "a.getGender()"
   ]
  },
  {
   "cell_type": "code",
   "execution_count": 7,
   "id": "54fe5f6f",
   "metadata": {},
   "outputs": [
    {
     "name": "stdout",
     "output_type": "stream",
     "text": [
      "Female\n"
     ]
    }
   ],
   "source": [
    "b = Female()\n",
    "b.getGender()"
   ]
  },
  {
   "cell_type": "markdown",
   "id": "98695551",
   "metadata": {},
   "source": [
    "### Question 4:\n",
    ">Please write a program to generate all sentences where subject is in [\"I\", \"You\"] and verb is in [\"Play\", \"Love\"] and the object is in [\"Hockey\",\"Football\"]."
   ]
  },
  {
   "cell_type": "code",
   "execution_count": 8,
   "id": "ddb97652",
   "metadata": {},
   "outputs": [
    {
     "name": "stdout",
     "output_type": "stream",
     "text": [
      "I Play Hockey\n",
      "I Play Football\n",
      "I Love Hockey\n",
      "I Love Football\n",
      "You Play Hockey\n",
      "You Play Football\n",
      "You Love Hockey\n",
      "You Love Football\n"
     ]
    }
   ],
   "source": [
    "subjects=[\"I\", \"You\"]\n",
    "verbs=[\"Play\", \"Love\"]\n",
    "objects=[\"Hockey\",\"Football\"]\n",
    "\n",
    "for sub in subjects:\n",
    "    for verb in verbs:\n",
    "        for obj in objects:\n",
    "            print(\"{} {} {}\".format(sub,verb,obj))"
   ]
  },
  {
   "cell_type": "markdown",
   "id": "18d80679",
   "metadata": {},
   "source": [
    "### Question 5:\n",
    ">Please write a program to compress and decompress the string \"hello world!hello world!hello world!hello world!\"."
   ]
  },
  {
   "cell_type": "code",
   "execution_count": 17,
   "id": "1499c4e1",
   "metadata": {
    "scrolled": true
   },
   "outputs": [
    {
     "name": "stdout",
     "output_type": "stream",
     "text": [
      "b'x\\x9c\\xcbH\\xcd\\xc9\\xc9W(\\xcf/\\xcaIQ\\xcc \\x82\\r\\x00\\xbd[\\x11\\xf5'\n",
      "b'hello world!hello world!hello world!hello world!'\n"
     ]
    }
   ],
   "source": [
    "import zlib\n",
    "s = b'hello world!hello world!hello world!hello world!'\n",
    "#y = bytes(s, 'utf-8')\n",
    "x = zlib.compress(s)\n",
    "print(x)\n",
    "print(zlib.decompress(x))"
   ]
  },
  {
   "cell_type": "markdown",
   "id": "a1a551df",
   "metadata": {},
   "source": [
    "### Question 6:\n",
    ">Please write a binary search function which searches an item in a sorted list. The function should return the index of element to be searched in the list.\n"
   ]
  },
  {
   "cell_type": "code",
   "execution_count": 27,
   "id": "a2698a07",
   "metadata": {},
   "outputs": [
    {
     "name": "stdout",
     "output_type": "stream",
     "text": [
      "6\n",
      "1\n"
     ]
    }
   ],
   "source": [
    "import math\n",
    "def bin_search(l, element):\n",
    "    bottom = 0\n",
    "    top = len(l)-1\n",
    "    index = -1\n",
    "    while top>=bottom and index==-1:\n",
    "        mid = int(math.floor((top+bottom)/2.0))\n",
    "        if l[mid]==element:\n",
    "            index = mid\n",
    "        elif l[mid]>element:\n",
    "            top = mid-1\n",
    "        else:\n",
    "            bottom = mid+1\n",
    "\n",
    "    return index\n",
    "\n",
    "l=[11,12,17,49,55,97,222,252]\n",
    "print(bin_search(l,222))\n",
    "print(bin_search(l,12))"
   ]
  }
 ],
 "metadata": {
  "kernelspec": {
   "display_name": "Python [conda env:.conda-gputest] *",
   "language": "python",
   "name": "conda-env-.conda-gputest-py"
  },
  "language_info": {
   "codemirror_mode": {
    "name": "ipython",
    "version": 3
   },
   "file_extension": ".py",
   "mimetype": "text/x-python",
   "name": "python",
   "nbconvert_exporter": "python",
   "pygments_lexer": "ipython3",
   "version": "3.6.12"
  }
 },
 "nbformat": 4,
 "nbformat_minor": 5
}
