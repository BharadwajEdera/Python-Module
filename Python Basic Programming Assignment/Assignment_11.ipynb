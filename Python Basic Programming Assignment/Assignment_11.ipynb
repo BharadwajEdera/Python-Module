{
 "cells": [
  {
   "cell_type": "markdown",
   "id": "victorian-printing",
   "metadata": {},
   "source": [
    "### 1. Write a Python program to find words which are greater than given length k?\n"
   ]
  },
  {
   "cell_type": "code",
   "execution_count": 19,
   "id": "presidential-berlin",
   "metadata": {},
   "outputs": [],
   "source": [
    "def LenofWords(s,k):\n",
    "    s1 = s.split()\n",
    "    return [i for i in s1 if len(i)>k]"
   ]
  },
  {
   "cell_type": "code",
   "execution_count": 20,
   "id": "bridal-cameroon",
   "metadata": {},
   "outputs": [
    {
     "data": {
      "text/plain": [
       "['doing', 'course', 'called', 'Full', 'Stack', 'Data', 'Science']"
      ]
     },
     "execution_count": 20,
     "metadata": {},
     "output_type": "execute_result"
    }
   ],
   "source": [
    "s = \"I am doing course called Full Stack Data Science\"\n",
    "LenofWords(s,3)"
   ]
  },
  {
   "cell_type": "markdown",
   "id": "modified-substance",
   "metadata": {},
   "source": [
    "### 2. Write a Python program for removing i-th character from a string?\n"
   ]
  },
  {
   "cell_type": "code",
   "execution_count": 49,
   "id": "threatened-functionality",
   "metadata": {},
   "outputs": [],
   "source": [
    "def ithCharecter(s,i):\n",
    "    l = list(s)\n",
    "    l.pop(i)\n",
    "    return \"\".join(l)"
   ]
  },
  {
   "cell_type": "code",
   "execution_count": 51,
   "id": "valuable-naples",
   "metadata": {},
   "outputs": [
    {
     "data": {
      "text/plain": [
       "'Bhaadwaja'"
      ]
     },
     "execution_count": 51,
     "metadata": {},
     "output_type": "execute_result"
    }
   ],
   "source": [
    "s = 'BhaRadwaja'\n",
    "ithCharecter(s,3)"
   ]
  },
  {
   "cell_type": "markdown",
   "id": "healthy-cement",
   "metadata": {},
   "source": [
    "### 3. Write a Python program to split and join a string?\n"
   ]
  },
  {
   "cell_type": "code",
   "execution_count": 60,
   "id": "overall-rebate",
   "metadata": {},
   "outputs": [],
   "source": [
    "def Split_Join(s):\n",
    "    l = [i for i in s]\n",
    "    s = \"\".join(l)\n",
    "    return \"\"\"Spiltted String : {}   Joined String : {}\"\"\".format(l,s)"
   ]
  },
  {
   "cell_type": "code",
   "execution_count": 61,
   "id": "posted-deputy",
   "metadata": {},
   "outputs": [
    {
     "data": {
      "text/plain": [
       "\"Spiltted String : ['B', 'h', 'a', 'R', 'a', 'd', 'w', 'a', 'j', 'a']   Joined String : BhaRadwaja\""
      ]
     },
     "execution_count": 61,
     "metadata": {},
     "output_type": "execute_result"
    }
   ],
   "source": [
    "s = 'BhaRadwaja'\n",
    "Split_Join(s)"
   ]
  },
  {
   "cell_type": "markdown",
   "id": "marked-wichita",
   "metadata": {},
   "source": [
    "### 4. Write a Python to check if a given string is binary string or not?\n"
   ]
  },
  {
   "cell_type": "code",
   "execution_count": 71,
   "id": "african-diversity",
   "metadata": {},
   "outputs": [],
   "source": [
    "def BinaryorNot(s):\n",
    "    l = [i for i in s]\n",
    "    set1 = set(l)\n",
    "    print(set1)\n",
    "    if set1 == {'0','1'} or set1 == {'1','0'}:\n",
    "        return \"{} is a Binary\".format(s)\n",
    "    else:\n",
    "        return \"{} is a Not a Binary\".format(s)\n",
    "        "
   ]
  },
  {
   "cell_type": "code",
   "execution_count": 72,
   "id": "ordered-tomato",
   "metadata": {},
   "outputs": [
    {
     "name": "stdout",
     "output_type": "stream",
     "text": [
      "{'1', '0'}\n"
     ]
    },
    {
     "data": {
      "text/plain": [
       "'101001001001001111 is a Binary'"
      ]
     },
     "execution_count": 72,
     "metadata": {},
     "output_type": "execute_result"
    }
   ],
   "source": [
    "s = '101001001001001111'\n",
    "BinaryorNot(s)"
   ]
  },
  {
   "cell_type": "code",
   "execution_count": 73,
   "id": "isolated-bolivia",
   "metadata": {},
   "outputs": [
    {
     "name": "stdout",
     "output_type": "stream",
     "text": [
      "{'2', '1', '0'}\n"
     ]
    },
    {
     "data": {
      "text/plain": [
       "'101002001001001111 is a Not a Binary'"
      ]
     },
     "execution_count": 73,
     "metadata": {},
     "output_type": "execute_result"
    }
   ],
   "source": [
    "s = '101002001001001111'\n",
    "BinaryorNot(s)"
   ]
  },
  {
   "cell_type": "markdown",
   "id": "compound-northeast",
   "metadata": {},
   "source": [
    "### 5. Write a Python program to find uncommon words from two Strings?\n"
   ]
  },
  {
   "cell_type": "code",
   "execution_count": 79,
   "id": "graduate-scenario",
   "metadata": {},
   "outputs": [],
   "source": [
    "def SetIntersection(s1,s2):\n",
    "    l1 = set([i for i in s1])\n",
    "    l2 = set([i for i in s2])\n",
    "    return l1 - l1.intersection(l2) , l2 - l1.intersection(l2)\n",
    "    "
   ]
  },
  {
   "cell_type": "code",
   "execution_count": 80,
   "id": "plastic-blanket",
   "metadata": {},
   "outputs": [
    {
     "data": {
      "text/plain": [
       "({'B', 'h', 'j', 'w'}, {'E', 'e'})"
      ]
     },
     "execution_count": 80,
     "metadata": {},
     "output_type": "execute_result"
    }
   ],
   "source": [
    "s1 = \"Bharadwaja\"\n",
    "s2 = \"Edera\"\n",
    "SetIntersection(s1,s2)"
   ]
  },
  {
   "cell_type": "markdown",
   "id": "stupid-nightmare",
   "metadata": {},
   "source": [
    "### 6. Write a Python to find all duplicate characters in string?\n"
   ]
  },
  {
   "cell_type": "code",
   "execution_count": 124,
   "id": "mighty-donor",
   "metadata": {},
   "outputs": [],
   "source": [
    "def find_duplicates(s):\n",
    "    elements = {}\n",
    "    for char in s:\n",
    "        if elements.get(char,None) != None:\n",
    "            elements[char]+=1\n",
    "        else:\n",
    "            elements[char] = 1\n",
    "    return [k for k,v in elements.items() if v>1]"
   ]
  },
  {
   "cell_type": "code",
   "execution_count": 125,
   "id": "nearby-marshall",
   "metadata": {},
   "outputs": [
    {
     "data": {
      "text/plain": [
       "['a', 'r']"
      ]
     },
     "execution_count": 125,
     "metadata": {},
     "output_type": "execute_result"
    }
   ],
   "source": [
    "s1 = \"Bhaaaaaarrrrrraaaaadwaja\"\n",
    "find_duplicates(s1)"
   ]
  },
  {
   "cell_type": "markdown",
   "id": "turkish-sculpture",
   "metadata": {},
   "source": [
    "### 7. Write a Python Program to check if a string contains any special character?"
   ]
  },
  {
   "cell_type": "code",
   "execution_count": 136,
   "id": "understood-wedding",
   "metadata": {},
   "outputs": [],
   "source": [
    "import re\n",
    "def SpecialCharecter(string):\n",
    "    regex = re.compile('[@_!#$%^&*()<>?/\\|}{~:]')\n",
    "    if(regex.search(string) == None):\n",
    "        print(\"String is has NO Special Charecters\")\n",
    "\n",
    "    else:\n",
    "        print(\"String is has  Special Charecters\")\n"
   ]
  },
  {
   "cell_type": "code",
   "execution_count": 137,
   "id": "indirect-proof",
   "metadata": {},
   "outputs": [
    {
     "name": "stdout",
     "output_type": "stream",
     "text": [
      "String is has  Special Charecters\n"
     ]
    }
   ],
   "source": [
    "string = \"genuinebharadwaja01@gmail.com\"\n",
    "SpecialCharecter(string)"
   ]
  },
  {
   "cell_type": "code",
   "execution_count": 138,
   "id": "defensive-purple",
   "metadata": {},
   "outputs": [
    {
     "name": "stdout",
     "output_type": "stream",
     "text": [
      "String is has NO Special Charecters\n"
     ]
    }
   ],
   "source": [
    "string = \"genuinebharadwaja01\"\n",
    "SpecialCharecter(string)"
   ]
  },
  {
   "cell_type": "code",
   "execution_count": null,
   "id": "asian-black",
   "metadata": {},
   "outputs": [],
   "source": []
  },
  {
   "cell_type": "code",
   "execution_count": null,
   "id": "executive-switch",
   "metadata": {},
   "outputs": [],
   "source": []
  }
 ],
 "metadata": {
  "kernelspec": {
   "display_name": "Python [conda env:.conda-gputest] *",
   "language": "python",
   "name": "conda-env-.conda-gputest-py"
  },
  "language_info": {
   "codemirror_mode": {
    "name": "ipython",
    "version": 3
   },
   "file_extension": ".py",
   "mimetype": "text/x-python",
   "name": "python",
   "nbconvert_exporter": "python",
   "pygments_lexer": "ipython3",
   "version": "3.6.12"
  }
 },
 "nbformat": 4,
 "nbformat_minor": 5
}
