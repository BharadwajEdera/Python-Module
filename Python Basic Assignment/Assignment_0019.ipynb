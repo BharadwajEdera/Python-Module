{
 "cells": [
  {
   "cell_type": "markdown",
   "id": "d63fd521",
   "metadata": {},
   "source": [
    "### Question 1. \n",
    "> Make a class called Thing with no contents and print it. Then, create an object called example from this class and also print it. Are the printed values the same or different?\n"
   ]
  },
  {
   "cell_type": "code",
   "execution_count": 2,
   "id": "58aae2dc",
   "metadata": {},
   "outputs": [],
   "source": [
    "class Thing:\n",
    "    pass"
   ]
  },
  {
   "cell_type": "code",
   "execution_count": 4,
   "id": "e1794b99",
   "metadata": {},
   "outputs": [
    {
     "name": "stdout",
     "output_type": "stream",
     "text": [
      "<class '__main__.Thing'>\n"
     ]
    }
   ],
   "source": [
    "print(Thing)"
   ]
  },
  {
   "cell_type": "code",
   "execution_count": 7,
   "id": "655ea645",
   "metadata": {},
   "outputs": [
    {
     "name": "stdout",
     "output_type": "stream",
     "text": [
      "<__main__.Thing object at 0x0000028F2F13B470>\n"
     ]
    }
   ],
   "source": [
    "example = Thing()\n",
    "print(example)"
   ]
  },
  {
   "cell_type": "markdown",
   "id": "3b4642dd",
   "metadata": {},
   "source": [
    "> printed values are different"
   ]
  },
  {
   "cell_type": "markdown",
   "id": "b5b62cae",
   "metadata": {},
   "source": [
    "### Question 2. \n",
    "> Create a new class called Thing2 and add the value 'abc' to the letters class attribute. Letters should be printed.\n"
   ]
  },
  {
   "cell_type": "code",
   "execution_count": 8,
   "id": "db55237a",
   "metadata": {},
   "outputs": [],
   "source": [
    "class Thing2:\n",
    "    def __init__(self):\n",
    "        self.letters = \"abc\""
   ]
  },
  {
   "cell_type": "code",
   "execution_count": 10,
   "id": "a869f2b4",
   "metadata": {},
   "outputs": [
    {
     "name": "stdout",
     "output_type": "stream",
     "text": [
      "abc\n"
     ]
    }
   ],
   "source": [
    "a = Thing2()\n",
    "print(a.letters)"
   ]
  },
  {
   "cell_type": "markdown",
   "id": "859b71af",
   "metadata": {},
   "source": [
    "### Question 3. \n",
    ">Make yet another class called, of course, Thing3. This time, assign the value 'xyz' to an instance (object) attribute called letters. Print letters. Do you need to make an object from the class to do this?\n",
    "\n"
   ]
  },
  {
   "cell_type": "code",
   "execution_count": 1,
   "id": "81c9ae22",
   "metadata": {},
   "outputs": [],
   "source": [
    "class Thing3:\n",
    "    def __init__(self,letters):\n",
    "        self.letters = letters"
   ]
  },
  {
   "cell_type": "code",
   "execution_count": 2,
   "id": "32756cb2",
   "metadata": {},
   "outputs": [
    {
     "name": "stdout",
     "output_type": "stream",
     "text": [
      "xyz\n"
     ]
    }
   ],
   "source": [
    "l = Thing3(\"xyz\")\n",
    "print(l.letters)"
   ]
  },
  {
   "cell_type": "markdown",
   "id": "a1732efa",
   "metadata": {},
   "source": [
    "> Yes, we need to make an object from the class to do this"
   ]
  },
  {
   "cell_type": "markdown",
   "id": "f0a86e91",
   "metadata": {},
   "source": [
    "### Question 4. \n",
    ">Create an Element class with the instance attributes name, symbol, and number. Create a class object with the values 'Hydrogen,' 'H,' and 1.\n"
   ]
  },
  {
   "cell_type": "code",
   "execution_count": 3,
   "id": "b741b993",
   "metadata": {},
   "outputs": [],
   "source": [
    "class Element:\n",
    "    def __init__(self, name, symbol, number):\n",
    "        self.name = name\n",
    "        self.symbol = symbol\n",
    "        self.number = number\n",
    "        "
   ]
  },
  {
   "cell_type": "code",
   "execution_count": 4,
   "id": "a4adce55",
   "metadata": {},
   "outputs": [],
   "source": [
    "a = Element('Hydrogen' , 'H', 1)"
   ]
  },
  {
   "cell_type": "markdown",
   "id": "ce49c96a",
   "metadata": {},
   "source": [
    "### Question 5. \n",
    ">Make a dictionary with these keys and values: 'name': 'Hydrogen', 'symbol': 'H', 'number': 1. Then, create an object called hydrogen from class Element using this dictionary.\n"
   ]
  },
  {
   "cell_type": "code",
   "execution_count": 6,
   "id": "f4ad2fdc",
   "metadata": {},
   "outputs": [],
   "source": [
    "d = { 'name': 'Hydrogen', 'symbol': 'H', 'number': 1}\n",
    "hydrogen = Element( d['name'] , d['symbol'], d['number'])"
   ]
  },
  {
   "cell_type": "markdown",
   "id": "66d720f8",
   "metadata": {},
   "source": [
    "### Question 6. \n",
    ">For the Element class, define a method called dump() that prints the values of the object’s attributes (name, symbol, and number). Create the hydrogen object from this new definition and use dump() to print its attributes.\n"
   ]
  },
  {
   "cell_type": "code",
   "execution_count": 43,
   "id": "5a4cbb14",
   "metadata": {},
   "outputs": [],
   "source": [
    "class Element:\n",
    "    def __init__(self, name, symbol, number):\n",
    "        self.name = name\n",
    "        self.symbol = symbol\n",
    "        self.number = number\n",
    "    def dump(self):\n",
    "        print(self.name)\n",
    "        print(self.symbol)\n",
    "        print(self.number)"
   ]
  },
  {
   "cell_type": "code",
   "execution_count": 44,
   "id": "5429598f",
   "metadata": {},
   "outputs": [
    {
     "name": "stdout",
     "output_type": "stream",
     "text": [
      "Hydrogen\n",
      "H\n",
      "1\n"
     ]
    }
   ],
   "source": [
    "hydrogen = Element('Hydrogen' , 'H', 1)\n",
    "hydrogen.dump()"
   ]
  },
  {
   "cell_type": "markdown",
   "id": "2b515828",
   "metadata": {},
   "source": [
    "### Question 7. \n",
    ">Call print(hydrogen). In the definition of Element, change the name of method dump to \\_\\_str\\_\\_, create a new hydrogen object, and call print(hydrogen) again.\n"
   ]
  },
  {
   "cell_type": "code",
   "execution_count": 45,
   "id": "6fe5e98e",
   "metadata": {},
   "outputs": [
    {
     "name": "stdout",
     "output_type": "stream",
     "text": [
      "<__main__.Element object at 0x000002E9C03ACA20>\n"
     ]
    }
   ],
   "source": [
    "print(hydrogen)"
   ]
  },
  {
   "cell_type": "code",
   "execution_count": 68,
   "id": "9d638ed4",
   "metadata": {},
   "outputs": [],
   "source": [
    "class Element:\n",
    "    def __init__(self, name, symbol, number):\n",
    "        self.name = name\n",
    "        self.symbol = symbol\n",
    "        self.number = number\n",
    "    def __str__(self):\n",
    "        print(self.name)\n",
    "        print(self.symbol)\n",
    "        print(self.number)\n",
    "        return \"This is Element Class\""
   ]
  },
  {
   "cell_type": "code",
   "execution_count": 47,
   "id": "0b08de54",
   "metadata": {},
   "outputs": [],
   "source": [
    "hydrogen = Element('Hydrogen' , 'H', 1)"
   ]
  },
  {
   "cell_type": "code",
   "execution_count": 48,
   "id": "0718e6dd",
   "metadata": {},
   "outputs": [
    {
     "name": "stdout",
     "output_type": "stream",
     "text": [
      "Hydrogen\n",
      "H\n",
      "1\n",
      "This Element Class\n"
     ]
    }
   ],
   "source": [
    "print(hydrogen)"
   ]
  },
  {
   "cell_type": "markdown",
   "id": "6cf3fefb",
   "metadata": {},
   "source": [
    "### Question 8. \n",
    ">Modify Element to make the attributes name, symbol, and number private. Define a getter property for each to return its value.\n"
   ]
  },
  {
   "cell_type": "code",
   "execution_count": 94,
   "id": "05a5e191",
   "metadata": {},
   "outputs": [],
   "source": [
    "class Element:\n",
    "    def __init__(self, name, symbol, number):\n",
    "        self.__name = name\n",
    "        self.__symbol = symbol\n",
    "        self.__number = number\n",
    "    def getter(self):\n",
    "        return self.__name,self.__symbol,self.__number"
   ]
  },
  {
   "cell_type": "code",
   "execution_count": 95,
   "id": "d2a897d7",
   "metadata": {},
   "outputs": [],
   "source": [
    "hydrogen = Element('Hydrogen' , 'H', 1)"
   ]
  },
  {
   "cell_type": "code",
   "execution_count": 96,
   "id": "3aafc037",
   "metadata": {},
   "outputs": [
    {
     "ename": "AttributeError",
     "evalue": "'Element' object has no attribute '__name'",
     "output_type": "error",
     "traceback": [
      "\u001b[1;31m---------------------------------------------------------------------------\u001b[0m",
      "\u001b[1;31mAttributeError\u001b[0m                            Traceback (most recent call last)",
      "\u001b[1;32m<ipython-input-96-65a13500e4a3>\u001b[0m in \u001b[0;36m<module>\u001b[1;34m\u001b[0m\n\u001b[1;32m----> 1\u001b[1;33m \u001b[0mprint\u001b[0m\u001b[1;33m(\u001b[0m\u001b[0mhydrogen\u001b[0m\u001b[1;33m.\u001b[0m\u001b[0m__name\u001b[0m\u001b[1;33m)\u001b[0m\u001b[1;33m\u001b[0m\u001b[1;33m\u001b[0m\u001b[0m\n\u001b[0m",
      "\u001b[1;31mAttributeError\u001b[0m: 'Element' object has no attribute '__name'"
     ]
    }
   ],
   "source": [
    "print(hydrogen.__name)"
   ]
  },
  {
   "cell_type": "code",
   "execution_count": 97,
   "id": "0e96126e",
   "metadata": {},
   "outputs": [
    {
     "data": {
      "text/plain": [
       "('Hydrogen', 'H', 1)"
      ]
     },
     "execution_count": 97,
     "metadata": {},
     "output_type": "execute_result"
    }
   ],
   "source": [
    "hydrogen.getter()"
   ]
  },
  {
   "cell_type": "markdown",
   "id": "92912a3e",
   "metadata": {},
   "source": [
    "### Question 9. \n",
    ">Define three classes: Bear, Rabbit, and Octothorpe. For each, define only one method: eats(). This should return 'berries' (Bear), 'clover' (Rabbit), or 'campers' (Octothorpe). Create one object from each and print what it eats.\n"
   ]
  },
  {
   "cell_type": "code",
   "execution_count": 86,
   "id": "b5153362",
   "metadata": {},
   "outputs": [],
   "source": [
    "class Bear:\n",
    "    def eats(self):\n",
    "        return 'berries(Bear)'\n",
    "class Rabbit:\n",
    "    def eats(self):\n",
    "        return 'clover(Rabbit)'\n",
    "class Octothorpe:\n",
    "    def eats(self):\n",
    "        return 'campers(Octothorpe)'"
   ]
  },
  {
   "cell_type": "code",
   "execution_count": 87,
   "id": "bd458ae7",
   "metadata": {},
   "outputs": [
    {
     "data": {
      "text/plain": [
       "'berries(Bear)'"
      ]
     },
     "execution_count": 87,
     "metadata": {},
     "output_type": "execute_result"
    }
   ],
   "source": [
    "B = Bear()\n",
    "B.eats()"
   ]
  },
  {
   "cell_type": "code",
   "execution_count": 88,
   "id": "9d2e4b15",
   "metadata": {},
   "outputs": [
    {
     "data": {
      "text/plain": [
       "'clover(Rabbit)'"
      ]
     },
     "execution_count": 88,
     "metadata": {},
     "output_type": "execute_result"
    }
   ],
   "source": [
    "R = Rabbit()\n",
    "R.eats()"
   ]
  },
  {
   "cell_type": "code",
   "execution_count": 89,
   "id": "2a98a0c2",
   "metadata": {},
   "outputs": [
    {
     "data": {
      "text/plain": [
       "'campers(Octothorpe)'"
      ]
     },
     "execution_count": 89,
     "metadata": {},
     "output_type": "execute_result"
    }
   ],
   "source": [
    "O = Octothorpe()\n",
    "O.eats()"
   ]
  },
  {
   "cell_type": "markdown",
   "id": "13c2e0db",
   "metadata": {},
   "source": [
    "### Question 10. \n",
    ">Define these classes: Laser, Claw, and SmartPhone. Each has only one method: does(). This returns 'disintegrate' (Laser), 'crush' (Claw), or 'ring' (SmartPhone). Then, define the class Robot that has one instance (object) of each of these. Define a does() method for the Robot that prints what its component objects do.\n"
   ]
  },
  {
   "cell_type": "code",
   "execution_count": 103,
   "id": "216a6205",
   "metadata": {},
   "outputs": [],
   "source": [
    "class Laser:\n",
    "    def does(self):\n",
    "        return 'disintegrate(Laser)'\n",
    "class Claw:\n",
    "    def does(self):\n",
    "        return 'crush(Claw)'\n",
    "class SmartPhone:\n",
    "    def does(self):\n",
    "        return 'ring(SmartPhone)'\n",
    "class Robot:\n",
    "    def does(self):\n",
    "        L = Laser()\n",
    "        C = Claw()\n",
    "        S = SmartPhone()\n",
    "        print(L.does())\n",
    "        print(C.does())\n",
    "        print(S.does())"
   ]
  },
  {
   "cell_type": "code",
   "execution_count": 104,
   "id": "dd05b3b9",
   "metadata": {},
   "outputs": [
    {
     "name": "stdout",
     "output_type": "stream",
     "text": [
      "disintegrate(Laser)\n",
      "crush(Claw)\n",
      "ring(SmartPhone)\n"
     ]
    }
   ],
   "source": [
    "R = Robot()\n",
    "R.does()"
   ]
  },
  {
   "cell_type": "code",
   "execution_count": null,
   "id": "35aee0b5",
   "metadata": {},
   "outputs": [],
   "source": []
  }
 ],
 "metadata": {
  "kernelspec": {
   "display_name": "Python [conda env:.conda-gputest] *",
   "language": "python",
   "name": "conda-env-.conda-gputest-py"
  },
  "language_info": {
   "codemirror_mode": {
    "name": "ipython",
    "version": 3
   },
   "file_extension": ".py",
   "mimetype": "text/x-python",
   "name": "python",
   "nbconvert_exporter": "python",
   "pygments_lexer": "ipython3",
   "version": "3.6.12"
  }
 },
 "nbformat": 4,
 "nbformat_minor": 5
}
