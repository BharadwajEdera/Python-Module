{
 "cells": [
  {
   "cell_type": "markdown",
   "id": "732407e8",
   "metadata": {},
   "source": [
    "### 1. What is the result of the code, and explain?\n",
    "\n",
    "\n",
    "X = 'iNeuron'\n",
    "\n",
    "def func():\n",
    "\n",
    ">print(X)\n",
    "\n",
    "\n",
    "func()\n",
    "\n",
    "\n"
   ]
  },
  {
   "cell_type": "code",
   "execution_count": 1,
   "id": "123f4913",
   "metadata": {},
   "outputs": [
    {
     "name": "stdout",
     "output_type": "stream",
     "text": [
      "iNeuron\n"
     ]
    }
   ],
   "source": [
    "X = 'iNeuron'\n",
    "\n",
    "def func():\n",
    "\n",
    "    print(X)\n",
    "\n",
    "\n",
    "func()\n"
   ]
  },
  {
   "cell_type": "markdown",
   "id": "0bb841fe",
   "metadata": {},
   "source": [
    "Explaination :\n",
    "> X = 'iNeuron' is declared outside the function. Hence Scope of this variable x is through out this code.\n",
    "\n",
    "> Hence when we call func() . It will print the same x"
   ]
  },
  {
   "cell_type": "markdown",
   "id": "e5f04e14",
   "metadata": {},
   "source": [
    "### 2. What is the result of the code, and explain?\n",
    "\n",
    "X = 'iNeuron'\n",
    "\n",
    "def func():\n",
    ">X = 'NI!'\n",
    "\n",
    "func()\n",
    "\n",
    "print(X)\n",
    "\n",
    "\n"
   ]
  },
  {
   "cell_type": "code",
   "execution_count": 2,
   "id": "f887b4cb",
   "metadata": {},
   "outputs": [
    {
     "name": "stdout",
     "output_type": "stream",
     "text": [
      "iNeuron\n"
     ]
    }
   ],
   "source": [
    "X = 'iNeuron'\n",
    "\n",
    "def func():\n",
    "    X = 'NI!'\n",
    "\n",
    "func()\n",
    "\n",
    "print(X)"
   ]
  },
  {
   "cell_type": "markdown",
   "id": "1b822e22",
   "metadata": {},
   "source": [
    "Explaination :\n",
    "> X = 'iNeuron' is declared outside the function. Hence Scope of this variable x is through out this code.\n",
    "\n",
    ">X = 'NI!' is declared inside the function. Hence Scope of this variable x with in the function.\n",
    "\n",
    "> Hence when we call func() and we are not returning anything. So print(x) will print X as iNeuron"
   ]
  },
  {
   "cell_type": "markdown",
   "id": "8d6f4e35",
   "metadata": {},
   "source": [
    "### 3. What does this code print, and why?\n",
    "\n",
    "\n",
    "X = 'iNeuron'\n",
    "\n",
    "def func():\n",
    "\n",
    ">X = 'NI'\n",
    "\n",
    ">print(X)\n",
    "\n",
    "\n",
    "func()\n",
    "\n",
    "print(X)\n",
    "\n",
    "\n"
   ]
  },
  {
   "cell_type": "code",
   "execution_count": 3,
   "id": "7f6f28d2",
   "metadata": {},
   "outputs": [
    {
     "name": "stdout",
     "output_type": "stream",
     "text": [
      "NI\n",
      "iNeuron\n"
     ]
    }
   ],
   "source": [
    "X = 'iNeuron'\n",
    "\n",
    "def func():\n",
    "\n",
    "    X = 'NI'\n",
    "\n",
    "    print(X)\n",
    "\n",
    "\n",
    "func()\n",
    "\n",
    "print(X)"
   ]
  },
  {
   "cell_type": "markdown",
   "id": "c1745fe6",
   "metadata": {},
   "source": [
    "Explaination :\n",
    "> X = 'iNeuron' is declared outside the function. Hence Scope of this variable x is through out this code.\n",
    "\n",
    ">X = 'NI!' is declared inside the function. Hence Scope of this variable x with in the function.\n",
    "\n",
    "> Hence when we call func() and it will print x as NI.\n",
    "\n",
    ">print(x) will print X as iNeuron"
   ]
  },
  {
   "cell_type": "markdown",
   "id": "65ad580e",
   "metadata": {},
   "source": [
    "### 4. What output does this code produce? Why?\n",
    "\n",
    "\n",
    "X = 'iNeuron'\n",
    "\n",
    "def func():\n",
    "\n",
    ">global X\n",
    "\n",
    ">X = 'NI'\n",
    "\n",
    "\n",
    "func()\n",
    "\n",
    "print(X)\n",
    "\n",
    "\n"
   ]
  },
  {
   "cell_type": "code",
   "execution_count": 4,
   "id": "ae698005",
   "metadata": {},
   "outputs": [
    {
     "name": "stdout",
     "output_type": "stream",
     "text": [
      "NI\n"
     ]
    }
   ],
   "source": [
    "X = 'iNeuron'\n",
    "\n",
    "def func():\n",
    "\n",
    "    global X\n",
    "\n",
    "    X = 'NI'\n",
    "\n",
    "\n",
    "func()\n",
    "\n",
    "print(X)"
   ]
  },
  {
   "cell_type": "markdown",
   "id": "4d2dafee",
   "metadata": {},
   "source": [
    "Explaination :\n",
    "> X = 'iNeuron' is declared outside the function. Hence Scope of this variable x is through out this code.\n",
    "\n",
    ">X = 'NI!' is declared inside the function and X is global variable. Hence Scope of this variable x throughout the code.\n",
    "\n",
    "> Hence when we call func() and NI will be stored in X.\n",
    "\n",
    ">print(x) will print X as NI"
   ]
  },
  {
   "cell_type": "markdown",
   "id": "caf5b9ff",
   "metadata": {},
   "source": [
    "### 5. What about this code—what’s the output, and why?\n",
    "\n",
    "X = 'iNeuron'\n",
    "\n",
    "def func():\n",
    "\n",
    ">X = 'NI'\n",
    "\n",
    ">def nested():\n",
    "\n",
    ">>print(X)\n",
    "\n",
    ">nested()\n",
    "\n",
    "\n",
    "func()\n",
    "\n",
    "X\n",
    "\n",
    "\n",
    "\n",
    "\n",
    "\n",
    "\n"
   ]
  },
  {
   "cell_type": "code",
   "execution_count": 5,
   "id": "12944e6e",
   "metadata": {},
   "outputs": [
    {
     "name": "stdout",
     "output_type": "stream",
     "text": [
      "NI\n"
     ]
    },
    {
     "data": {
      "text/plain": [
       "'iNeuron'"
      ]
     },
     "execution_count": 5,
     "metadata": {},
     "output_type": "execute_result"
    }
   ],
   "source": [
    "X = 'iNeuron'\n",
    "\n",
    "def func():\n",
    "\n",
    "    X = 'NI'\n",
    "\n",
    "    def nested():\n",
    "\n",
    "        print(X)\n",
    "\n",
    "    nested()\n",
    "\n",
    "\n",
    "func()\n",
    "\n",
    "X"
   ]
  },
  {
   "cell_type": "markdown",
   "id": "aabbde75",
   "metadata": {},
   "source": [
    "Explaination :\n",
    "> X = 'iNeuron' is declared outside the function. Hence Scope of this variable x is through out this code.\n",
    "\n",
    ">X = 'NI!' is declared inside the function func(). Hence Scope of this variable x with in the function.\n",
    "\n",
    "> nested() function is defined and called with function func()\n",
    "\n",
    "> Hence when we call func() , it will call nested() and print x as NI\n",
    "\n",
    ">But outside func() X will be iNeuron"
   ]
  },
  {
   "cell_type": "markdown",
   "id": "fd320213",
   "metadata": {},
   "source": [
    "### 6. How about this code: what is its output in Python 3, and explain?\n",
    "\n",
    "\n",
    "def func():\n",
    "\n",
    ">X = 'NI'\n",
    "\n",
    ">def nested():\n",
    "\n",
    ">>nonlocal X\n",
    "\n",
    ">>X = 'Spam'\n",
    "\n",
    ">nested()\n",
    "\n",
    ">print(X)\n",
    "\n",
    "\n",
    "func()\n",
    "\n"
   ]
  },
  {
   "cell_type": "code",
   "execution_count": 9,
   "id": "efd6a1d8",
   "metadata": {},
   "outputs": [
    {
     "name": "stdout",
     "output_type": "stream",
     "text": [
      "Spam\n"
     ]
    }
   ],
   "source": [
    "def func():\n",
    "\n",
    "    X = 'NI'\n",
    "\n",
    "    def nested():\n",
    "\n",
    "        nonlocal X\n",
    "\n",
    "        X = 'Spam'\n",
    "\n",
    "    nested()\n",
    "\n",
    "    print(X)\n",
    "\n",
    "\n",
    "func()\n",
    "\n"
   ]
  },
  {
   "cell_type": "markdown",
   "id": "009ee556",
   "metadata": {},
   "source": [
    "Explaination :\n",
    "> X = 'iNeuron' is declared within the function func(). Hence Scope of this variable x with in func()\n",
    "\n",
    ">X = 'Spam' is declared inside the function nested() and declared as nonlocal. Hence Scope of this variable x throughout the code.\n",
    "\n",
    "> nested() function is defined and called with function func()\n",
    "\n",
    "> Hence when we call func() , it will call nested() and Spam is stored in X.\n",
    "\n",
    ">print(x) will print X as Spam"
   ]
  }
 ],
 "metadata": {
  "kernelspec": {
   "display_name": "Python [conda env:.conda-gputest] *",
   "language": "python",
   "name": "conda-env-.conda-gputest-py"
  },
  "language_info": {
   "codemirror_mode": {
    "name": "ipython",
    "version": 3
   },
   "file_extension": ".py",
   "mimetype": "text/x-python",
   "name": "python",
   "nbconvert_exporter": "python",
   "pygments_lexer": "ipython3",
   "version": "3.6.12"
  }
 },
 "nbformat": 4,
 "nbformat_minor": 5
}
