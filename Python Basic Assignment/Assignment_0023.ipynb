{
 "cells": [
  {
   "cell_type": "markdown",
   "id": "a978fcc7",
   "metadata": {},
   "source": [
    "### 1. What is the result of the code, and why?\n",
    "def func(a, b=6, c=8):\n",
    ">print(a, b, c)\n",
    "\n",
    "func(1, 2)\n"
   ]
  },
  {
   "cell_type": "code",
   "execution_count": 1,
   "id": "fd8dfffa",
   "metadata": {},
   "outputs": [
    {
     "name": "stdout",
     "output_type": "stream",
     "text": [
      "1 2 8\n"
     ]
    }
   ],
   "source": [
    "def func(a, b=6, c=8):\n",
    "    print(a, b, c)\n",
    "\n",
    "func(1, 2)"
   ]
  },
  {
   "cell_type": "markdown",
   "id": "bd978258",
   "metadata": {},
   "source": [
    "Explaination:\n",
    "> func(a, b=6, c=8) is defined with non default argument as a and default arguments as b = 6 and c = 8\n",
    "\n",
    "> So when we call func(1, 2) ,  a takes 1 and b takes 2 \n",
    "\n",
    "> Hence output is 1 2 8"
   ]
  },
  {
   "cell_type": "markdown",
   "id": "72ccd602",
   "metadata": {},
   "source": [
    "### 2. What is the result of this code, and why?\n",
    "def func(a, b, c=5):\n",
    ">print(a, b, c)\n",
    "\n",
    "func(1, c=3, b=2)\n",
    "\n",
    "\n"
   ]
  },
  {
   "cell_type": "code",
   "execution_count": 2,
   "id": "9e46984c",
   "metadata": {},
   "outputs": [
    {
     "name": "stdout",
     "output_type": "stream",
     "text": [
      "1 2 3\n"
     ]
    }
   ],
   "source": [
    "def func(a, b, c=5):\n",
    "    print(a, b, c)\n",
    "\n",
    "func(1, c=3, b=2)"
   ]
  },
  {
   "cell_type": "markdown",
   "id": "bd4bdffb",
   "metadata": {},
   "source": [
    "Explaination:\n",
    "> func(a, b=6, c=8) is defined with non default arguments as a and b , default argument c = 5\n",
    "\n",
    "> So when we call func(1, c=3, b=2) ,  a takes 1 , b takes 2 and c takes 3\n",
    "\n",
    "> Hence output is 1 2 3"
   ]
  },
  {
   "cell_type": "markdown",
   "id": "27f8569b",
   "metadata": {},
   "source": [
    "### 3. How about this code: what is its result, and why?\n",
    "def func(a, *pargs):\n",
    ">print(a, pargs)\n",
    "\n",
    "func(1, 2, 3)\n"
   ]
  },
  {
   "cell_type": "code",
   "execution_count": 10,
   "id": "4d275690",
   "metadata": {},
   "outputs": [
    {
     "name": "stdout",
     "output_type": "stream",
     "text": [
      "1 (2, 3)\n"
     ]
    }
   ],
   "source": [
    "def func(a, *pargs):\n",
    "    print(a, pargs)\n",
    "\n",
    "func(1, 2, 3)"
   ]
  },
  {
   "cell_type": "markdown",
   "id": "6ac4c886",
   "metadata": {},
   "source": [
    "Explaination:\n",
    "> func(a, *pargs) is defined with non default arguments as a and *pargs\n",
    "\n",
    "> So when we call func(1, 2, 3) ,  a takes 1 , *pargs takes tuple of (2,3)\n",
    "\n",
    "> Hence output is 1 (2, 3)"
   ]
  },
  {
   "cell_type": "markdown",
   "id": "b399c9d0",
   "metadata": {},
   "source": [
    "### 4. What does this code print, and why?\n",
    "def func(a, **kargs):\n",
    ">print(a, kargs)\n",
    "\n",
    "func(a=1, c=3, b=2)\n"
   ]
  },
  {
   "cell_type": "code",
   "execution_count": 4,
   "id": "19856b6e",
   "metadata": {},
   "outputs": [
    {
     "name": "stdout",
     "output_type": "stream",
     "text": [
      "1 {'c': 3, 'b': 2}\n"
     ]
    }
   ],
   "source": [
    "def func(a, **kargs):\n",
    "    print(a, kargs)\n",
    "\n",
    "func(a=1, c=3, b=2)"
   ]
  },
  {
   "cell_type": "markdown",
   "id": "fc6d5fc3",
   "metadata": {},
   "source": [
    "Explaination:\n",
    "> func(a, **kargs) is defined with non default arguments as a and **kargs\n",
    "\n",
    "> So when we call func(a=1, c=3, b=2) ,  a takes 1 , **kargs takes dictionary of with keys as c and b , Corresponding Values as 3 and 2 i,e {'c': 3, 'b': 2}\n",
    "\n",
    "> Hence output is 1 {'c': 3, 'b': 2}"
   ]
  },
  {
   "cell_type": "markdown",
   "id": "3517a2da",
   "metadata": {},
   "source": [
    "### 5. What gets printed by this, and explain?\n",
    "def func(a, b, c=8, d=5): print(a, b, c, d)\n",
    "\n",
    "func(1, *(5, 6))\n"
   ]
  },
  {
   "cell_type": "code",
   "execution_count": 19,
   "id": "3910bb3a",
   "metadata": {},
   "outputs": [
    {
     "name": "stdout",
     "output_type": "stream",
     "text": [
      "1 5 6 5\n"
     ]
    }
   ],
   "source": [
    "def func(a, b, c=8, d=5): print(a, b, c, d)\n",
    "\n",
    "func(1, *(5, 6))"
   ]
  },
  {
   "cell_type": "markdown",
   "id": "5ccc9e65",
   "metadata": {},
   "source": [
    "Explaination:\n",
    "> func(a, b, c=8, d=5) is defined with non default arguments as a and b , default arguments as c = 8 and d = 5\n",
    "\n",
    "> So when we call func(1, *(5, 6)) ,  a takes 1 , *(5, 6) means 5 will be assigned to b and 6 will be assigned to c. So d will be the default value 5\n",
    "\n",
    "> Hence output is 1 5 6 5"
   ]
  },
  {
   "cell_type": "markdown",
   "id": "a15a1b4f",
   "metadata": {},
   "source": [
    "### 6. what is the result of this, and explain?\n",
    "def func(a, b, c): a = 2; b[0] = 'x'; c['a'] = 'y'\n",
    "\n",
    "l=1; m=[1]; n={'a':0}\n",
    "\n",
    "func(l, m, n)\n",
    "\n",
    "l, m, n"
   ]
  },
  {
   "cell_type": "code",
   "execution_count": 20,
   "id": "99ac6226",
   "metadata": {},
   "outputs": [
    {
     "data": {
      "text/plain": [
       "(1, ['x'], {'a': 'y'})"
      ]
     },
     "execution_count": 20,
     "metadata": {},
     "output_type": "execute_result"
    }
   ],
   "source": [
    "def func(a, b, c): a = 2; b[0] = 'x'; c['a'] = 'y'\n",
    "\n",
    "l=1; m=[1]; n={'a':0}\n",
    "\n",
    "func(l, m, n)\n",
    "\n",
    "l, m, n"
   ]
  },
  {
   "cell_type": "markdown",
   "id": "12e1086f",
   "metadata": {},
   "source": [
    "Explaination:\n",
    "> func(a, b, c) is defined with non default arguments as a , b and c \n",
    "\n",
    "> we defined l=1; m=[1]; n={'a':0}\n",
    "\n",
    "> So when we call func(l, m, n) \n",
    "\n",
    ">a takes l i,e 1 \n",
    "\n",
    "> b[0] = m = [1] , but b[0] is assigned with 'x' . Therefore m = ['x']\n",
    "\n",
    "> c['a'] = n = {'a':0} , but c['a'] is assigned with  'y' .Therefore n = {'a': 'y'}\n",
    "\n",
    "> Hence output is (1, ['x'], {'a': 'y'})"
   ]
  }
 ],
 "metadata": {
  "kernelspec": {
   "display_name": "Python [conda env:.conda-gputest] *",
   "language": "python",
   "name": "conda-env-.conda-gputest-py"
  },
  "language_info": {
   "codemirror_mode": {
    "name": "ipython",
    "version": 3
   },
   "file_extension": ".py",
   "mimetype": "text/x-python",
   "name": "python",
   "nbconvert_exporter": "python",
   "pygments_lexer": "ipython3",
   "version": "3.6.12"
  }
 },
 "nbformat": 4,
 "nbformat_minor": 5
}
