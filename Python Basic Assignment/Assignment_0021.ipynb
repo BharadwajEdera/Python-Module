{
 "cells": [
  {
   "cell_type": "markdown",
   "id": "4c63ad36",
   "metadata": {},
   "source": [
    "### Question 1. \n",
    ">Add the current date to the text file today.txt as a string.\n"
   ]
  },
  {
   "cell_type": "code",
   "execution_count": 9,
   "id": "d651e9ff",
   "metadata": {},
   "outputs": [],
   "source": [
    "echo %date% %time% >> today.txt"
   ]
  },
  {
   "cell_type": "markdown",
   "id": "2e086a65",
   "metadata": {},
   "source": [
    "### Question 2. \n",
    ">Read the text file today.txt into the string today_string\n"
   ]
  },
  {
   "cell_type": "code",
   "execution_count": 12,
   "id": "dcf17ca1",
   "metadata": {},
   "outputs": [
    {
     "data": {
      "text/plain": [
       "'11-05-2021 22:35:13.39 \\n'"
      ]
     },
     "execution_count": 12,
     "metadata": {},
     "output_type": "execute_result"
    }
   ],
   "source": [
    "f = open(\"today.txt\", \"r+\")\n",
    "today_string = f.read()\n",
    "today_string"
   ]
  },
  {
   "cell_type": "markdown",
   "id": "15f5eb32",
   "metadata": {},
   "source": [
    "### Question 3. \n",
    ">Parse the date from today_string.\n",
    "\n"
   ]
  },
  {
   "cell_type": "code",
   "execution_count": 14,
   "id": "7a26db2c",
   "metadata": {},
   "outputs": [
    {
     "data": {
      "text/plain": [
       "'11-05-2021'"
      ]
     },
     "execution_count": 14,
     "metadata": {},
     "output_type": "execute_result"
    }
   ],
   "source": [
    " today_string[0:10]"
   ]
  },
  {
   "cell_type": "markdown",
   "id": "c54abbfc",
   "metadata": {},
   "source": [
    "### Question 4. \n",
    ">List the files in your current directory\n"
   ]
  },
  {
   "cell_type": "code",
   "execution_count": 22,
   "id": "c629a7af",
   "metadata": {},
   "outputs": [
    {
     "data": {
      "text/plain": [
       "['.ipynb_checkpoints',\n",
       " '.jovianrc',\n",
       " 'assignment .ipynb',\n",
       " 'Assignment_0015.ipynb',\n",
       " 'Assignment_0016.ipynb',\n",
       " 'Assignment_0017.ipynb',\n",
       " 'Assignment_0018.ipynb',\n",
       " 'Assignment_0019.ipynb',\n",
       " 'Assignment_0020.ipynb',\n",
       " 'Assignment_0021.ipynb',\n",
       " 'books.csv',\n",
       " 'test.log',\n",
       " 'test.txt',\n",
       " 'today.txt',\n",
       " 'zoo.py',\n",
       " '__pycache__']"
      ]
     },
     "execution_count": 22,
     "metadata": {},
     "output_type": "execute_result"
    }
   ],
   "source": [
    "import os\n",
    "os.listdir()"
   ]
  },
  {
   "cell_type": "markdown",
   "id": "035f0e22",
   "metadata": {},
   "source": [
    "### Question 5. \n",
    ">Create a list of all of the files in your parent directory (minimum five files should be available).\n"
   ]
  },
  {
   "cell_type": "code",
   "execution_count": 27,
   "id": "7a666afc",
   "metadata": {},
   "outputs": [
    {
     "data": {
      "text/plain": [
       "'C:\\\\Users\\\\Bharadwaj\\\\ineuron\\\\Python Module\\\\Assignments\\\\Python Basic'"
      ]
     },
     "execution_count": 27,
     "metadata": {},
     "output_type": "execute_result"
    }
   ],
   "source": [
    "import os\n",
    "os.getcwd()"
   ]
  },
  {
   "cell_type": "code",
   "execution_count": 28,
   "id": "69ff3bd0",
   "metadata": {},
   "outputs": [
    {
     "name": "stdout",
     "output_type": "stream",
     "text": [
      "C:\\Users\\Bharadwaj\\ineuron\\Python Module\\Assignments\n"
     ]
    }
   ],
   "source": [
    "from pathlib import Path\n",
    "path = Path(os.getcwd())\n",
    "print(path.parent.absolute())"
   ]
  },
  {
   "cell_type": "code",
   "execution_count": 29,
   "id": "e6733a96",
   "metadata": {},
   "outputs": [
    {
     "data": {
      "text/plain": [
       "['.ipynb_checkpoints',\n",
       " 'Python advanced',\n",
       " 'Python Basic',\n",
       " 'Python Programming Advanced',\n",
       " 'Python Programming Basic Assignment']"
      ]
     },
     "execution_count": 29,
     "metadata": {},
     "output_type": "execute_result"
    }
   ],
   "source": [
    "os.listdir(path.parent.absolute())"
   ]
  },
  {
   "cell_type": "markdown",
   "id": "f15db372",
   "metadata": {},
   "source": [
    "### Question 6. \n",
    ">Use multiprocessing to create three separate processes. Make each one wait a random number of seconds between one and five, print the current time, and then exit.\n"
   ]
  },
  {
   "cell_type": "code",
   "execution_count": 12,
   "id": "ec057a38",
   "metadata": {},
   "outputs": [
    {
     "name": "stdout",
     "output_type": "stream",
     "text": [
      "2021-05-11 23:23:08.297483\n",
      "starting main\n",
      "2021-05-11 23:23:08.385388\n",
      "2021-05-11 23:23:08.465336\n",
      "2021-05-11 23:23:08.545281\n",
      "finishing main\n"
     ]
    }
   ],
   "source": [
    "from multiprocessing import Process\n",
    "import time\n",
    "from datetime import datetime\n",
    "    \n",
    "def process1(name):\n",
    "    time.sleep(random.randint(1, 5))\n",
    "    \n",
    "def process2(name):\n",
    "    time.sleep(random.randint(1, 5))\n",
    "    \n",
    "def process3(name):\n",
    "    time.sleep(random.randint(1, 5))\n",
    "\n",
    "\n",
    "def main():\n",
    "\n",
    "    p = Process(target=process1)\n",
    "    p.start()\n",
    "    p.join()\n",
    "    print(datetime.now())\n",
    "    \n",
    "    p = Process(target=process2)\n",
    "    p.start()\n",
    "    p.join()\n",
    "    print(datetime.now())\n",
    "    \n",
    "    p = Process(target=process2)\n",
    "    p.start()\n",
    "    p.join()\n",
    "    print(datetime.now())\n",
    "\n",
    "\n",
    "if __name__ == '__main__':\n",
    "    \n",
    "    print(datetime.now())\n",
    "\n",
    "    print('starting main')\n",
    "    main()\n",
    "    print('finishing main')"
   ]
  },
  {
   "cell_type": "markdown",
   "id": "735251eb",
   "metadata": {},
   "source": [
    "### Question 7. \n",
    ">Create a date object of your day of birth.\n"
   ]
  },
  {
   "cell_type": "code",
   "execution_count": 14,
   "id": "88acce40",
   "metadata": {},
   "outputs": [
    {
     "name": "stdout",
     "output_type": "stream",
     "text": [
      "2021-06-03 00:00:00\n"
     ]
    }
   ],
   "source": [
    "import datetime\n",
    "x = datetime.datetime(2021, 6, 3)\n",
    "print(x)"
   ]
  },
  {
   "cell_type": "markdown",
   "id": "ffa53a50",
   "metadata": {},
   "source": [
    "### Question 8. \n",
    ">What day of the week was your day of birth?\n"
   ]
  },
  {
   "cell_type": "code",
   "execution_count": 15,
   "id": "a1dcdc76",
   "metadata": {},
   "outputs": [
    {
     "name": "stdout",
     "output_type": "stream",
     "text": [
      "The Weekday for a Given date(03-06-2021) is Thursday\n"
     ]
    }
   ],
   "source": [
    "import datetime\n",
    "date='03-06-2021'\n",
    "day_name= ['Monday', 'Tuesday', 'Wednesday', 'Thursday', 'Friday', 'Saturday','Sunday']\n",
    "day = datetime.datetime.strptime(date, '%d-%m-%Y').weekday()\n",
    "print(\"The Weekday for a Given date({0}) is {1}\".format(date,day_name[day]))"
   ]
  },
  {
   "cell_type": "markdown",
   "id": "ea55846c",
   "metadata": {},
   "source": [
    "### Question 9. \n",
    ">When will you be (or when were you) 10,000 days old?\n"
   ]
  },
  {
   "cell_type": "code",
   "execution_count": 19,
   "id": "cbc19482",
   "metadata": {},
   "outputs": [
    {
     "name": "stdout",
     "output_type": "stream",
     "text": [
      "9108 days, 23:32:50.399636\n"
     ]
    }
   ],
   "source": [
    "from datetime import datetime, timedelta\n",
    "particular_date = datetime(1996, 6, 3)\n",
    "new_date = datetime.today() - particular_date\n",
    "print (new_date)"
   ]
  },
  {
   "cell_type": "code",
   "execution_count": 46,
   "id": "c32ed04e",
   "metadata": {},
   "outputs": [
    {
     "data": {
      "text/plain": [
       "26.350461133069828"
      ]
     },
     "execution_count": 46,
     "metadata": {},
     "output_type": "execute_result"
    }
   ],
   "source": [
    "24 * 10000 / 9108"
   ]
  }
 ],
 "metadata": {
  "kernelspec": {
   "display_name": "Python [conda env:.conda-gputest] *",
   "language": "python",
   "name": "conda-env-.conda-gputest-py"
  },
  "language_info": {
   "codemirror_mode": {
    "name": "ipython",
    "version": 3
   },
   "file_extension": ".py",
   "mimetype": "text/x-python",
   "name": "python",
   "nbconvert_exporter": "python",
   "pygments_lexer": "ipython3",
   "version": "3.6.12"
  }
 },
 "nbformat": 4,
 "nbformat_minor": 5
}
